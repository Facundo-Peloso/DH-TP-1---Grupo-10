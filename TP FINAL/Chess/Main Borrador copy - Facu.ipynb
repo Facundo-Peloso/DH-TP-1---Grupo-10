{
 "cells": [
  {
   "attachments": {},
   "cell_type": "markdown",
   "metadata": {},
   "source": [
    "# Trabajo Práctico Final\n",
    "\n",
    "# Grupo 10\n",
    "### Integrantes:\n",
    "- Facundo Peloso\n",
    "- Eduardo Barbas\n",
    "- Roberto Biancardi \n",
    "- Juan Pablo Anselmo \n",
    "\n",
    "El objetivo de este trabajo práctico es implementar un modelo que pueda predecir el resultado de una partida de ajedrez.\n",
    "\n",
    "Para ello utilizaremos un dataset proporcionado por el sitio Chess.com donde están registradas casi dos millones de partidas desde el 2010 en adelante.\n",
    "\n",
    "Estos datos describen características de los juegos como: \n",
    "\n",
    "La variable target elegida es el \"Resultado\" de la partida."
   ]
  },
  {
   "attachments": {},
   "cell_type": "markdown",
   "metadata": {},
   "source": [
    "## 0. Importación de Módulos y Librerías"
   ]
  },
  {
   "cell_type": "code",
   "execution_count": 94,
   "metadata": {},
   "outputs": [],
   "source": [
    "#Importacion de librerias/módulos\n",
    "import numpy as np\n",
    "import pandas as pd\n",
    "pd.set_option(\"display.max_columns\", None)\n",
    "import matplotlib.pyplot as plt\n",
    "%matplotlib inline\n",
    "import seaborn as sns\n",
    "sns.set(style=\"darkgrid\")\n",
    "\n",
    "from sklearn.model_selection import train_test_split\n",
    "from sklearn.model_selection import GridSearchCV\n",
    "from sklearn.model_selection import StratifiedKFold\n",
    "from sklearn.linear_model import LogisticRegression\n",
    "from sklearn.model_selection import KFold\n",
    "from sklearn.model_selection import cross_val_score\n",
    "from sklearn.preprocessing import StandardScaler\n",
    "from sklearn.linear_model import LinearRegression\n",
    "from sklearn.naive_bayes import GaussianNB\n",
    "from sklearn.metrics import accuracy_score\n",
    "from sklearn.metrics import recall_score\n",
    "from sklearn.metrics import precision_score\n",
    "from sklearn.metrics import f1_score\n",
    "from sklearn.metrics import confusion_matrix\n",
    "from sklearn.metrics import mean_squared_error\n",
    "from sklearn.neighbors import KNeighborsClassifier\n",
    "import statsmodels.api as sm\n",
    "from statsmodels.tools import eval_measures\n",
    "from sklearn.ensemble import RandomForestRegressor\n",
    "from sklearn.ensemble import ExtraTreesRegressor\n",
    "from sklearn import linear_model\n",
    "from sklearn import metrics\n",
    "from sklearn import tree\n",
    "from sklearn.pipeline import Pipeline\n",
    "from sklearn.ensemble import BaggingClassifier\n",
    "\n",
    "import shelve"
   ]
  },
  {
   "attachments": {},
   "cell_type": "markdown",
   "metadata": {},
   "source": [
    "## 1. Lectura de Datos y Visualización"
   ]
  },
  {
   "cell_type": "code",
   "execution_count": 2,
   "metadata": {},
   "outputs": [
    {
     "name": "stderr",
     "output_type": "stream",
     "text": [
      "c:\\Users\\fpeloso\\Anaconda3\\envs\\dhdsblend2021\\lib\\site-packages\\IPython\\core\\interactiveshell.py:3135: DtypeWarning: Columns (10,13,14,23,25) have mixed types.Specify dtype option on import or set low_memory=False.\n",
      "  has_raised = await self.run_ast_nodes(code_ast.body, cell_name,\n",
      "c:\\Users\\fpeloso\\Anaconda3\\envs\\dhdsblend2021\\lib\\site-packages\\numpy\\lib\\arraysetops.py:580: FutureWarning: elementwise comparison failed; returning scalar instead, but in the future will perform elementwise comparison\n",
      "  mask |= (ar1 == a)\n"
     ]
    }
   ],
   "source": [
    "#Establezco la dirección del archivo\n",
    "file_location=\"twic_master.csv\"\n",
    "\n",
    "#Leo el data set usando la librería pandas y se almacena en el objeto Dataframe llamado datos_crudos  \n",
    "datos_crudos=pd.read_csv(file_location, index_col=0)"
   ]
  },
  {
   "cell_type": "code",
   "execution_count": 3,
   "metadata": {},
   "outputs": [
    {
     "data": {
      "text/html": [
       "<div>\n",
       "<style scoped>\n",
       "    .dataframe tbody tr th:only-of-type {\n",
       "        vertical-align: middle;\n",
       "    }\n",
       "\n",
       "    .dataframe tbody tr th {\n",
       "        vertical-align: top;\n",
       "    }\n",
       "\n",
       "    .dataframe thead th {\n",
       "        text-align: right;\n",
       "    }\n",
       "</style>\n",
       "<table border=\"1\" class=\"dataframe\">\n",
       "  <thead>\n",
       "    <tr style=\"text-align: right;\">\n",
       "      <th></th>\n",
       "      <th>White</th>\n",
       "      <th>Black</th>\n",
       "      <th>Date</th>\n",
       "      <th>EventDate</th>\n",
       "      <th>Event</th>\n",
       "      <th>Result</th>\n",
       "      <th>mainline_moves</th>\n",
       "      <th>Site</th>\n",
       "      <th>Online</th>\n",
       "      <th>Round</th>\n",
       "      <th>ECO</th>\n",
       "      <th>Opening</th>\n",
       "      <th>WhiteFideId</th>\n",
       "      <th>BlackFideId</th>\n",
       "      <th>WhiteElo</th>\n",
       "      <th>BlackElo</th>\n",
       "      <th>Variation</th>\n",
       "      <th>WhiteTitle</th>\n",
       "      <th>BlackTitle</th>\n",
       "      <th>WhiteTeam</th>\n",
       "      <th>BlackTeam</th>\n",
       "      <th>EventType</th>\n",
       "      <th>FEN</th>\n",
       "      <th>SetUp</th>\n",
       "      <th>Variant</th>\n",
       "      <th>Board</th>\n",
       "      <th>PlyCount</th>\n",
       "      <th>EventCategory</th>\n",
       "    </tr>\n",
       "    <tr>\n",
       "      <th>twic_number</th>\n",
       "      <th></th>\n",
       "      <th></th>\n",
       "      <th></th>\n",
       "      <th></th>\n",
       "      <th></th>\n",
       "      <th></th>\n",
       "      <th></th>\n",
       "      <th></th>\n",
       "      <th></th>\n",
       "      <th></th>\n",
       "      <th></th>\n",
       "      <th></th>\n",
       "      <th></th>\n",
       "      <th></th>\n",
       "      <th></th>\n",
       "      <th></th>\n",
       "      <th></th>\n",
       "      <th></th>\n",
       "      <th></th>\n",
       "      <th></th>\n",
       "      <th></th>\n",
       "      <th></th>\n",
       "      <th></th>\n",
       "      <th></th>\n",
       "      <th></th>\n",
       "      <th></th>\n",
       "      <th></th>\n",
       "      <th></th>\n",
       "    </tr>\n",
       "  </thead>\n",
       "  <tbody>\n",
       "    <tr>\n",
       "      <th>1260</th>\n",
       "      <td>Tukhaev,A</td>\n",
       "      <td>Carlsen,M</td>\n",
       "      <td>2018-12-26</td>\n",
       "      <td>2018.12.26</td>\n",
       "      <td>World Rapid 2018</td>\n",
       "      <td>1-0</td>\n",
       "      <td>1. e4 c5 2. Nf3 Nc6 3. d4 cxd4 4. Nxd4 Nf6 5. ...</td>\n",
       "      <td>St Petersburg RUS</td>\n",
       "      <td>False</td>\n",
       "      <td>1.1</td>\n",
       "      <td>B33</td>\n",
       "      <td>Sicilian</td>\n",
       "      <td>1.41095e+07</td>\n",
       "      <td>1.50301e+06</td>\n",
       "      <td>2527.0</td>\n",
       "      <td>2835.0</td>\n",
       "      <td>Pelikan, Chelyabinsk variation</td>\n",
       "      <td>GM</td>\n",
       "      <td>GM</td>\n",
       "      <td>NaN</td>\n",
       "      <td>NaN</td>\n",
       "      <td>NaN</td>\n",
       "      <td>NaN</td>\n",
       "      <td>NaN</td>\n",
       "      <td>NaN</td>\n",
       "      <td>NaN</td>\n",
       "      <td>NaN</td>\n",
       "      <td>NaN</td>\n",
       "    </tr>\n",
       "    <tr>\n",
       "      <th>1260</th>\n",
       "      <td>Nakamura,Hi</td>\n",
       "      <td>Teske,H</td>\n",
       "      <td>2018-12-26</td>\n",
       "      <td>2018.12.26</td>\n",
       "      <td>World Rapid 2018</td>\n",
       "      <td>1-0</td>\n",
       "      <td>1. Nf3 Nf6 2. g3 d5 3. Bg2 g6 4. c4 dxc4 5. Na...</td>\n",
       "      <td>St Petersburg RUS</td>\n",
       "      <td>False</td>\n",
       "      <td>1.2</td>\n",
       "      <td>A05</td>\n",
       "      <td>Reti opening</td>\n",
       "      <td>2.01619e+06</td>\n",
       "      <td>4.6115e+06</td>\n",
       "      <td>2746.0</td>\n",
       "      <td>2483.0</td>\n",
       "      <td>NaN</td>\n",
       "      <td>GM</td>\n",
       "      <td>GM</td>\n",
       "      <td>NaN</td>\n",
       "      <td>NaN</td>\n",
       "      <td>NaN</td>\n",
       "      <td>NaN</td>\n",
       "      <td>NaN</td>\n",
       "      <td>NaN</td>\n",
       "      <td>NaN</td>\n",
       "      <td>NaN</td>\n",
       "      <td>NaN</td>\n",
       "    </tr>\n",
       "    <tr>\n",
       "      <th>1260</th>\n",
       "      <td>Tari,A</td>\n",
       "      <td>Artemiev,V</td>\n",
       "      <td>2018-12-26</td>\n",
       "      <td>2018.12.26</td>\n",
       "      <td>World Rapid 2018</td>\n",
       "      <td>0-1</td>\n",
       "      <td>1. e4 c5 2. Nf3 d6 3. Bb5+ Bd7 4. c4 Nc6 5. d4...</td>\n",
       "      <td>St Petersburg RUS</td>\n",
       "      <td>False</td>\n",
       "      <td>1.3</td>\n",
       "      <td>B52</td>\n",
       "      <td>Sicilian</td>\n",
       "      <td>1.51004e+06</td>\n",
       "      <td>2.41016e+07</td>\n",
       "      <td>2620.0</td>\n",
       "      <td>2709.0</td>\n",
       "      <td>Canal-Sokolsky attack, 3...Bd7</td>\n",
       "      <td>GM</td>\n",
       "      <td>GM</td>\n",
       "      <td>NaN</td>\n",
       "      <td>NaN</td>\n",
       "      <td>NaN</td>\n",
       "      <td>NaN</td>\n",
       "      <td>NaN</td>\n",
       "      <td>NaN</td>\n",
       "      <td>NaN</td>\n",
       "      <td>NaN</td>\n",
       "      <td>NaN</td>\n",
       "    </tr>\n",
       "    <tr>\n",
       "      <th>1260</th>\n",
       "      <td>Fedoseev,Vl3</td>\n",
       "      <td>Tregubov,P</td>\n",
       "      <td>2018-12-26</td>\n",
       "      <td>2018.12.26</td>\n",
       "      <td>World Rapid 2018</td>\n",
       "      <td>1/2-1/2</td>\n",
       "      <td>1. e4 e5 2. Nf3 Nf6 3. Nxe5 d6 4. Nd3 Nxe4 5. ...</td>\n",
       "      <td>St Petersburg RUS</td>\n",
       "      <td>False</td>\n",
       "      <td>1.4</td>\n",
       "      <td>C42</td>\n",
       "      <td>Petrov's defence</td>\n",
       "      <td>2.41307e+07</td>\n",
       "      <td>4.11534e+06</td>\n",
       "      <td>2719.0</td>\n",
       "      <td>2592.0</td>\n",
       "      <td>NaN</td>\n",
       "      <td>GM</td>\n",
       "      <td>GM</td>\n",
       "      <td>NaN</td>\n",
       "      <td>NaN</td>\n",
       "      <td>NaN</td>\n",
       "      <td>NaN</td>\n",
       "      <td>NaN</td>\n",
       "      <td>NaN</td>\n",
       "      <td>NaN</td>\n",
       "      <td>NaN</td>\n",
       "      <td>NaN</td>\n",
       "    </tr>\n",
       "    <tr>\n",
       "      <th>1260</th>\n",
       "      <td>Hovhannisyan,R</td>\n",
       "      <td>Aronian,L</td>\n",
       "      <td>2018-12-26</td>\n",
       "      <td>2018.12.26</td>\n",
       "      <td>World Rapid 2018</td>\n",
       "      <td>1-0</td>\n",
       "      <td>1. e4 g6 2. d4 Bg7 3. Nc3 c6 4. Nf3 d6 5. h3 N...</td>\n",
       "      <td>St Petersburg RUS</td>\n",
       "      <td>False</td>\n",
       "      <td>1.5</td>\n",
       "      <td>B06</td>\n",
       "      <td>Robatsch defence</td>\n",
       "      <td>1.33025e+07</td>\n",
       "      <td>1.33005e+07</td>\n",
       "      <td>2637.0</td>\n",
       "      <td>2765.0</td>\n",
       "      <td>two knights, Suttles variation</td>\n",
       "      <td>GM</td>\n",
       "      <td>GM</td>\n",
       "      <td>NaN</td>\n",
       "      <td>NaN</td>\n",
       "      <td>NaN</td>\n",
       "      <td>NaN</td>\n",
       "      <td>NaN</td>\n",
       "      <td>NaN</td>\n",
       "      <td>NaN</td>\n",
       "      <td>NaN</td>\n",
       "      <td>NaN</td>\n",
       "    </tr>\n",
       "  </tbody>\n",
       "</table>\n",
       "</div>"
      ],
      "text/plain": [
       "                      White       Black        Date   EventDate  \\\n",
       "twic_number                                                       \n",
       "1260              Tukhaev,A   Carlsen,M  2018-12-26  2018.12.26   \n",
       "1260            Nakamura,Hi     Teske,H  2018-12-26  2018.12.26   \n",
       "1260                 Tari,A  Artemiev,V  2018-12-26  2018.12.26   \n",
       "1260           Fedoseev,Vl3  Tregubov,P  2018-12-26  2018.12.26   \n",
       "1260         Hovhannisyan,R   Aronian,L  2018-12-26  2018.12.26   \n",
       "\n",
       "                        Event   Result  \\\n",
       "twic_number                              \n",
       "1260         World Rapid 2018      1-0   \n",
       "1260         World Rapid 2018      1-0   \n",
       "1260         World Rapid 2018      0-1   \n",
       "1260         World Rapid 2018  1/2-1/2   \n",
       "1260         World Rapid 2018      1-0   \n",
       "\n",
       "                                                mainline_moves  \\\n",
       "twic_number                                                      \n",
       "1260         1. e4 c5 2. Nf3 Nc6 3. d4 cxd4 4. Nxd4 Nf6 5. ...   \n",
       "1260         1. Nf3 Nf6 2. g3 d5 3. Bg2 g6 4. c4 dxc4 5. Na...   \n",
       "1260         1. e4 c5 2. Nf3 d6 3. Bb5+ Bd7 4. c4 Nc6 5. d4...   \n",
       "1260         1. e4 e5 2. Nf3 Nf6 3. Nxe5 d6 4. Nd3 Nxe4 5. ...   \n",
       "1260         1. e4 g6 2. d4 Bg7 3. Nc3 c6 4. Nf3 d6 5. h3 N...   \n",
       "\n",
       "                          Site  Online Round  ECO           Opening  \\\n",
       "twic_number                                                           \n",
       "1260         St Petersburg RUS   False   1.1  B33          Sicilian   \n",
       "1260         St Petersburg RUS   False   1.2  A05      Reti opening   \n",
       "1260         St Petersburg RUS   False   1.3  B52          Sicilian   \n",
       "1260         St Petersburg RUS   False   1.4  C42  Petrov's defence   \n",
       "1260         St Petersburg RUS   False   1.5  B06  Robatsch defence   \n",
       "\n",
       "             WhiteFideId  BlackFideId  WhiteElo  BlackElo  \\\n",
       "twic_number                                                 \n",
       "1260         1.41095e+07  1.50301e+06    2527.0    2835.0   \n",
       "1260         2.01619e+06   4.6115e+06    2746.0    2483.0   \n",
       "1260         1.51004e+06  2.41016e+07    2620.0    2709.0   \n",
       "1260         2.41307e+07  4.11534e+06    2719.0    2592.0   \n",
       "1260         1.33025e+07  1.33005e+07    2637.0    2765.0   \n",
       "\n",
       "                                  Variation WhiteTitle BlackTitle WhiteTeam  \\\n",
       "twic_number                                                                   \n",
       "1260         Pelikan, Chelyabinsk variation         GM         GM       NaN   \n",
       "1260                                    NaN         GM         GM       NaN   \n",
       "1260         Canal-Sokolsky attack, 3...Bd7         GM         GM       NaN   \n",
       "1260                                    NaN         GM         GM       NaN   \n",
       "1260         two knights, Suttles variation         GM         GM       NaN   \n",
       "\n",
       "            BlackTeam EventType  FEN  SetUp Variant  Board  PlyCount  \\\n",
       "twic_number                                                            \n",
       "1260              NaN       NaN  NaN    NaN     NaN    NaN       NaN   \n",
       "1260              NaN       NaN  NaN    NaN     NaN    NaN       NaN   \n",
       "1260              NaN       NaN  NaN    NaN     NaN    NaN       NaN   \n",
       "1260              NaN       NaN  NaN    NaN     NaN    NaN       NaN   \n",
       "1260              NaN       NaN  NaN    NaN     NaN    NaN       NaN   \n",
       "\n",
       "             EventCategory  \n",
       "twic_number                 \n",
       "1260                   NaN  \n",
       "1260                   NaN  \n",
       "1260                   NaN  \n",
       "1260                   NaN  \n",
       "1260                   NaN  "
      ]
     },
     "execution_count": 3,
     "metadata": {},
     "output_type": "execute_result"
    }
   ],
   "source": [
    "#Visualizamos los primeros registros del dataset\n",
    "datos_crudos.head()"
   ]
  },
  {
   "cell_type": "code",
   "execution_count": 4,
   "metadata": {},
   "outputs": [
    {
     "name": "stdout",
     "output_type": "stream",
     "text": [
      "El tamaño del dataset original es de:\n"
     ]
    },
    {
     "data": {
      "text/plain": [
       "(1971319, 28)"
      ]
     },
     "execution_count": 4,
     "metadata": {},
     "output_type": "execute_result"
    }
   ],
   "source": [
    "print(\"El tamaño del dataset original es de:\")\n",
    "datos_crudos.shape"
   ]
  },
  {
   "cell_type": "code",
   "execution_count": 5,
   "metadata": {},
   "outputs": [
    {
     "data": {
      "text/plain": [
       "Index(['White', 'Black', 'Date', 'EventDate', 'Event', 'Result',\n",
       "       'mainline_moves', 'Site', 'Online', 'Round', 'ECO', 'Opening',\n",
       "       'WhiteFideId', 'BlackFideId', 'WhiteElo', 'BlackElo', 'Variation',\n",
       "       'WhiteTitle', 'BlackTitle', 'WhiteTeam', 'BlackTeam', 'EventType',\n",
       "       'FEN', 'SetUp', 'Variant', 'Board', 'PlyCount', 'EventCategory'],\n",
       "      dtype='object')"
      ]
     },
     "execution_count": 5,
     "metadata": {},
     "output_type": "execute_result"
    }
   ],
   "source": [
    "#Listamos todas las columnas del dataset\n",
    "datos_crudos.columns"
   ]
  },
  {
   "cell_type": "code",
   "execution_count": 6,
   "metadata": {},
   "outputs": [
    {
     "name": "stdout",
     "output_type": "stream",
     "text": [
      "<class 'pandas.core.frame.DataFrame'>\n",
      "Int64Index: 1971319 entries, 1260 to 980\n",
      "Data columns (total 14 columns):\n",
      " #   Column          Non-Null Count    Dtype \n",
      "---  ------          --------------    ----- \n",
      " 0   White           1971319 non-null  object\n",
      " 1   Black           1971318 non-null  object\n",
      " 2   Date            1971319 non-null  object\n",
      " 3   EventDate       1970321 non-null  object\n",
      " 4   Event           1971319 non-null  object\n",
      " 5   Result          1971319 non-null  object\n",
      " 6   mainline_moves  1960398 non-null  object\n",
      " 7   Site            1971319 non-null  object\n",
      " 8   Online          1971319 non-null  bool  \n",
      " 9   Round           1971319 non-null  object\n",
      " 10  ECO             1962469 non-null  object\n",
      " 11  Opening         1955315 non-null  object\n",
      " 12  WhiteFideId     1945672 non-null  object\n",
      " 13  BlackFideId     1945382 non-null  object\n",
      "dtypes: bool(1), object(13)\n",
      "memory usage: 212.4+ MB\n"
     ]
    },
    {
     "data": {
      "text/plain": [
       "None"
      ]
     },
     "metadata": {},
     "output_type": "display_data"
    },
    {
     "name": "stdout",
     "output_type": "stream",
     "text": [
      "<class 'pandas.core.frame.DataFrame'>\n",
      "Int64Index: 1971319 entries, 1260 to 980\n",
      "Data columns (total 14 columns):\n",
      " #   Column         Non-Null Count    Dtype  \n",
      "---  ------         --------------    -----  \n",
      " 0   WhiteElo       1901715 non-null  float64\n",
      " 1   BlackElo       1900345 non-null  float64\n",
      " 2   Variation      1283715 non-null  object \n",
      " 3   WhiteTitle     1221853 non-null  object \n",
      " 4   BlackTitle     1214242 non-null  object \n",
      " 5   WhiteTeam      384771 non-null   object \n",
      " 6   BlackTeam      384769 non-null   object \n",
      " 7   EventType      192262 non-null   object \n",
      " 8   FEN            550 non-null      object \n",
      " 9   SetUp          543 non-null      float64\n",
      " 10  Variant        541 non-null      object \n",
      " 11  Board          128 non-null      float64\n",
      " 12  PlyCount       10 non-null       float64\n",
      " 13  EventCategory  0 non-null        float64\n",
      "dtypes: float64(6), object(8)\n",
      "memory usage: 225.6+ MB\n"
     ]
    },
    {
     "data": {
      "text/plain": [
       "None"
      ]
     },
     "metadata": {},
     "output_type": "display_data"
    }
   ],
   "source": [
    "#Vemos cuales son las columnas del dataset y que tipo de datos almacenan\n",
    "display(datos_crudos.iloc[:,0:14].info(verbose=True, null_counts=True))\n",
    "\n",
    "display(datos_crudos.iloc[:,14:28].info(verbose=True, null_counts=True))"
   ]
  },
  {
   "attachments": {},
   "cell_type": "markdown",
   "metadata": {},
   "source": [
    "## 1.1 Descripción de los Campos\n",
    "\n",
    "- White\n",
    "- Black\n",
    "- Date\n",
    "- EventDate\n",
    "- Result\n",
    "- mainline_moves\n",
    "- Site\n",
    "- Online\n",
    "- Round\n",
    "- ECO\n",
    "- Opening\n",
    "- WhiteFideId\n",
    "- BlackFideId\n",
    "- WhiteElo\n",
    "- BlackElo\n",
    "- Variation\n",
    "- WhiteTitle\n",
    "- BlackTitle\n",
    "- WhiteTeam\n",
    "- BlackTeam\n",
    "- EventType\n",
    "- FEN\n",
    "- Variant\n",
    "- Board\n",
    "- PlyCount\n",
    "- EventCategory"
   ]
  },
  {
   "attachments": {},
   "cell_type": "markdown",
   "metadata": {},
   "source": [
    "## 2. Limpieza y Preprocesamiento de Datos"
   ]
  },
  {
   "attachments": {},
   "cell_type": "markdown",
   "metadata": {},
   "source": [
    "### 2.1 Se retiran columnas innecesarias que se considera no aportan información predictiva al modelo y/o tienen mayoritariamente valore nulo \n"
   ]
  },
  {
   "cell_type": "code",
   "execution_count": 7,
   "metadata": {},
   "outputs": [],
   "source": [
    "# PlyCount , Board y EventCategory tiene altísimos porcentajes de valores nulos\n",
    "# BlackTeam y WhiteTeam indican a que equipo pertenecía el jugador en caso de ser un torneo por equipos\n",
    "# Se considera que no tiene valor predictivo ya que el partido en sí es entre dos individuos\n",
    "datos_crudos = datos_crudos.drop([\"PlyCount\", \"Board\", \"EventCategory\", \"White\", \"Black\",\"BlackTeam\", \"WhiteTeam\",'WhiteTitle','BlackTitle','ECO','Site','Round','Online'], axis=1)"
   ]
  },
  {
   "attachments": {},
   "cell_type": "markdown",
   "metadata": {},
   "source": [
    "### 2.2 Las columnas Variant, FEN y Setup corresponden a juegos de \"Ajedrez 960\". \n",
    "Como es una variación del juego que incluye un orden aleatorio de las piezas, no lo incluimos en el modelo. \n",
    "\n",
    "Primero filtramos lo registros correpondientes a dichos juegos y luego eliminamos las columnas"
   ]
  },
  {
   "cell_type": "code",
   "execution_count": 8,
   "metadata": {},
   "outputs": [],
   "source": [
    "# Primero me quedo solo con los registros nulos en las columnas relacionadas con la modalidad 960\n",
    "# De este modo me voy a quedar con las partidas que NO son Ajedrez 060\n",
    "datos_crudos = datos_crudos[ (datos_crudos.Variant.isna()) & (datos_crudos.FEN.isna()) & (datos_crudos.SetUp.isna()) ]\n",
    "\n",
    "# Despues tiro estas columnas que ya no me dicen nada\n",
    "datos_crudos = datos_crudos.drop([\"Variant\", \"FEN\", \"SetUp\"], axis=1)"
   ]
  },
  {
   "attachments": {},
   "cell_type": "markdown",
   "metadata": {},
   "source": [
    "Luego de eliminar los registros y columnas en el paso anterior. Volvemos a ver la dimensión del dataset"
   ]
  },
  {
   "cell_type": "code",
   "execution_count": 9,
   "metadata": {},
   "outputs": [
    {
     "name": "stdout",
     "output_type": "stream",
     "text": [
      "Tamaño del Dataset:\n"
     ]
    },
    {
     "data": {
      "text/plain": [
       "(1970769, 12)"
      ]
     },
     "metadata": {},
     "output_type": "display_data"
    },
    {
     "data": {
      "text/plain": [
       "Index(['Date', 'EventDate', 'Event', 'Result', 'mainline_moves', 'Opening',\n",
       "       'WhiteFideId', 'BlackFideId', 'WhiteElo', 'BlackElo', 'Variation',\n",
       "       'EventType'],\n",
       "      dtype='object')"
      ]
     },
     "execution_count": 9,
     "metadata": {},
     "output_type": "execute_result"
    }
   ],
   "source": [
    "print(\"Tamaño del Dataset:\")\n",
    "display(datos_crudos.shape)\n",
    "datos_crudos.columns"
   ]
  },
  {
   "attachments": {},
   "cell_type": "markdown",
   "metadata": {},
   "source": [
    "### 2.3 Pasamos los registro de texto a letras minúsculas. Con la excepción \"mainline_moves\" donde la notación es \"case-sensitive\""
   ]
  },
  {
   "cell_type": "code",
   "execution_count": 10,
   "metadata": {},
   "outputs": [],
   "source": [
    "# Vamos a poner todas las letras en minuscula y eliminar espacios en los extremos\n",
    "# En \"mainline_moves\" y \"ECO\" NO toco las mayúsculas ya tienen relevancia en la notación.\n",
    "cols = [\"Event\", \"Opening\", \"Variation\", \"EventType\"]\n",
    "for feature in cols:\n",
    "    \n",
    "    datos_crudos[feature] = datos_crudos[feature].str.lower().str.strip()"
   ]
  },
  {
   "attachments": {},
   "cell_type": "markdown",
   "metadata": {},
   "source": [
    "### 2.4 La columna \"Date\" es un string, creamos una nueva columna fecha con el formato de pandas \"datetime\""
   ]
  },
  {
   "cell_type": "code",
   "execution_count": 11,
   "metadata": {},
   "outputs": [],
   "source": [
    "datos_crudos[\"Fecha\"] = pd.to_datetime(datos_crudos[\"Date\"])"
   ]
  },
  {
   "attachments": {},
   "cell_type": "markdown",
   "metadata": {},
   "source": [
    "Visualizamos las fechas de las partidas en un histograma"
   ]
  },
  {
   "cell_type": "code",
   "execution_count": 12,
   "metadata": {},
   "outputs": [
    {
     "data": {
      "text/plain": [
       "(array([1.00000e+00, 0.00000e+00, 0.00000e+00, 0.00000e+00, 0.00000e+00,\n",
       "        0.00000e+00, 0.00000e+00, 0.00000e+00, 0.00000e+00, 0.00000e+00,\n",
       "        0.00000e+00, 0.00000e+00, 0.00000e+00, 0.00000e+00, 0.00000e+00,\n",
       "        0.00000e+00, 0.00000e+00, 0.00000e+00, 0.00000e+00, 0.00000e+00,\n",
       "        1.00000e+00, 0.00000e+00, 0.00000e+00, 0.00000e+00, 0.00000e+00,\n",
       "        0.00000e+00, 6.00000e+00, 5.40000e+01, 5.48860e+04, 1.11163e+05,\n",
       "        1.08854e+05, 1.25766e+05, 1.19212e+05, 1.28546e+05, 1.34640e+05,\n",
       "        1.35869e+05, 1.62709e+05, 1.59872e+05, 1.83307e+05, 2.58343e+05,\n",
       "        2.41990e+05, 4.55490e+04, 0.00000e+00, 0.00000e+00, 0.00000e+00,\n",
       "        0.00000e+00, 0.00000e+00, 0.00000e+00, 0.00000e+00, 1.00000e+00]),\n",
       " array([ 6896.  ,  7196.36,  7496.72,  7797.08,  8097.44,  8397.8 ,\n",
       "         8698.16,  8998.52,  9298.88,  9599.24,  9899.6 , 10199.96,\n",
       "        10500.32, 10800.68, 11101.04, 11401.4 , 11701.76, 12002.12,\n",
       "        12302.48, 12602.84, 12903.2 , 13203.56, 13503.92, 13804.28,\n",
       "        14104.64, 14405.  , 14705.36, 15005.72, 15306.08, 15606.44,\n",
       "        15906.8 , 16207.16, 16507.52, 16807.88, 17108.24, 17408.6 ,\n",
       "        17708.96, 18009.32, 18309.68, 18610.04, 18910.4 , 19210.76,\n",
       "        19511.12, 19811.48, 20111.84, 20412.2 , 20712.56, 21012.92,\n",
       "        21313.28, 21613.64, 21914.  ]),\n",
       " <BarContainer object of 50 artists>)"
      ]
     },
     "execution_count": 12,
     "metadata": {},
     "output_type": "execute_result"
    },
    {
     "data": {
      "image/png": "[encoded data removed]",
      "text/plain": [
       "<Figure size 640x480 with 1 Axes>"
      ]
     },
     "metadata": {},
     "output_type": "display_data"
    }
   ],
   "source": [
    "fig = plt.figure()\n",
    "# creo los axes\n",
    "ax = plt.axes()\n",
    "# dibujo en axes:\n",
    "ax.hist(datos_crudos['Fecha'], label='fechas', alpha = 0.4,bins=50)"
   ]
  },
  {
   "attachments": {},
   "cell_type": "markdown",
   "metadata": {},
   "source": [
    "Observamos que hay outliers en las fechas. Los visualizamos con utilizando una máscara en la columna de fechas"
   ]
  },
  {
   "cell_type": "code",
   "execution_count": 13,
   "metadata": {},
   "outputs": [
    {
     "name": "stdout",
     "output_type": "stream",
     "text": [
      "twic_number\n",
      "936   2005-10-07\n",
      "951   1988-11-18\n",
      "Name: Fecha, dtype: datetime64[ns]\n"
     ]
    }
   ],
   "source": [
    "print(datos_crudos['Fecha'].loc[datos_crudos['Fecha'].dt.year<2010])"
   ]
  },
  {
   "attachments": {},
   "cell_type": "markdown",
   "metadata": {},
   "source": [
    "Filtramos las fechas previas al 2010"
   ]
  },
  {
   "cell_type": "code",
   "execution_count": 14,
   "metadata": {},
   "outputs": [],
   "source": [
    "#Filtramos las fechas previas al 2010\n",
    "datos_crudos=datos_crudos.loc[datos_crudos['Fecha'].dt.year>2010]"
   ]
  },
  {
   "cell_type": "code",
   "execution_count": 15,
   "metadata": {},
   "outputs": [
    {
     "data": {
      "text/plain": [
       "(array([5.40000e+01, 1.10000e+01, 4.47760e+04, 5.12690e+04, 4.24340e+04,\n",
       "        6.40160e+04, 4.51020e+04, 4.63850e+04, 6.31780e+04, 4.99160e+04,\n",
       "        5.57540e+04, 5.25840e+04, 4.39300e+04, 6.89600e+04, 5.87410e+04,\n",
       "        4.68960e+04, 8.00830e+04, 6.60390e+04, 6.38110e+04, 7.13940e+04,\n",
       "        6.53210e+04, 8.34790e+04, 6.14920e+04, 5.23200e+04, 1.07725e+05,\n",
       "        1.03322e+05, 1.13762e+05, 1.12261e+05, 9.94350e+04, 1.19606e+05,\n",
       "        3.67040e+04, 0.00000e+00, 0.00000e+00, 0.00000e+00, 0.00000e+00,\n",
       "        0.00000e+00, 0.00000e+00, 0.00000e+00, 0.00000e+00, 0.00000e+00,\n",
       "        0.00000e+00, 0.00000e+00, 0.00000e+00, 0.00000e+00, 0.00000e+00,\n",
       "        0.00000e+00, 0.00000e+00, 0.00000e+00, 0.00000e+00, 1.00000e+00]),\n",
       " array([15179. , 15313.7, 15448.4, 15583.1, 15717.8, 15852.5, 15987.2,\n",
       "        16121.9, 16256.6, 16391.3, 16526. , 16660.7, 16795.4, 16930.1,\n",
       "        17064.8, 17199.5, 17334.2, 17468.9, 17603.6, 17738.3, 17873. ,\n",
       "        18007.7, 18142.4, 18277.1, 18411.8, 18546.5, 18681.2, 18815.9,\n",
       "        18950.6, 19085.3, 19220. , 19354.7, 19489.4, 19624.1, 19758.8,\n",
       "        19893.5, 20028.2, 20162.9, 20297.6, 20432.3, 20567. , 20701.7,\n",
       "        20836.4, 20971.1, 21105.8, 21240.5, 21375.2, 21509.9, 21644.6,\n",
       "        21779.3, 21914. ]),\n",
       " <BarContainer object of 50 artists>)"
      ]
     },
     "execution_count": 15,
     "metadata": {},
     "output_type": "execute_result"
    },
    {
     "data": {
      "image/png": "[encoded data removed]",
      "text/plain": [
       "<Figure size 640x480 with 1 Axes>"
      ]
     },
     "metadata": {},
     "output_type": "display_data"
    }
   ],
   "source": [
    "#Volvemos a visualizar\n",
    "fig = plt.figure()\n",
    "# creo los axes\n",
    "ax = plt.axes()\n",
    "# dibujo en axes:\n",
    "ax.hist(datos_crudos['Fecha'], label='fechas', alpha = 0.4,bins=50)"
   ]
  },
  {
   "attachments": {},
   "cell_type": "markdown",
   "metadata": {},
   "source": [
    "### 2.5 Visualizamos y limpiamos la columna Target: Resultados"
   ]
  },
  {
   "cell_type": "code",
   "execution_count": 16,
   "metadata": {},
   "outputs": [
    {
     "data": {
      "text/plain": [
       "1-0        804252\n",
       "0-1        664268\n",
       "1/2-1/2    502189\n",
       "*              15\n",
       "+/-            10\n",
       "0-0             9\n",
       "-/+             7\n",
       "-               5\n",
       "1-0 ff          2\n",
       "1-O             1\n",
       "1/2 1/2         1\n",
       "(+)-(-)         1\n",
       "00-1            1\n",
       "Name: Result, dtype: int64"
      ]
     },
     "execution_count": 16,
     "metadata": {},
     "output_type": "execute_result"
    }
   ],
   "source": [
    "datos_crudos['Result'].value_counts()"
   ]
  },
  {
   "attachments": {},
   "cell_type": "markdown",
   "metadata": {},
   "source": [
    "\"1-0\" es una victoria para Blancas, \"0-1\" es una victoria para Negras y \"1/2-1/2\" es un Empate.\n",
    "\n",
    "Realizamos un apply para simplificar la notación y dejar en NaN todos los demas registros que no coincidan con esta notación"
   ]
  },
  {
   "cell_type": "code",
   "execution_count": 17,
   "metadata": {},
   "outputs": [],
   "source": [
    "#Definimos una función que se aplicará sobre cada registro\n",
    "def limpiar_resultado(x):\n",
    "    if x=='1-0':\n",
    "        return 0\n",
    "    elif x=='0-1':\n",
    "        return 1\n",
    "    elif x=='1/2-1/2':\n",
    "        return 2\n",
    "    else: \n",
    "        return np.NaN\n",
    " \n",
    "# Aplicamos la función y creamos la columna Resultado\n",
    "datos_crudos['Resultado'] = datos_crudos['Result'].apply(limpiar_resultado)"
   ]
  },
  {
   "cell_type": "code",
   "execution_count": 18,
   "metadata": {},
   "outputs": [
    {
     "data": {
      "text/plain": [
       "0.0    804252\n",
       "1.0    664268\n",
       "2.0    502189\n",
       "Name: Resultado, dtype: int64"
      ]
     },
     "execution_count": 18,
     "metadata": {},
     "output_type": "execute_result"
    }
   ],
   "source": [
    "#Vemos como quedo\n",
    "datos_crudos['Resultado'].value_counts()"
   ]
  },
  {
   "attachments": {},
   "cell_type": "markdown",
   "metadata": {},
   "source": [
    "### 2.6 Generamos la columna de cantidad de movimientos\n",
    "Utilizamos la columna \"mainline_moves\", dónde se detallan todos los movimientos del partido, para crear una nueva columna dónde se indique la cantidad de movimientos en total que duró la partida"
   ]
  },
  {
   "cell_type": "code",
   "execution_count": 19,
   "metadata": {},
   "outputs": [
    {
     "data": {
      "text/plain": [
       "'1. d4 f5 2. c4 Nf6 3. Nc3 e6 4. e3 b6 5. d5 Bd6 6. g3 Bb7 7. Bg2 O-O 8. Nge2 Na6 9. O-O c6 10. b3 Nc7 11. dxc6 dxc6 12. Nd4 Qd7 13. Bb2 g6 14. Ncb5 Nxb5 15. cxb5 Ne4 16. bxc6 Bxc6 17. Nxc6 Qxc6 18. Rc1 Qd5 19. Qxd5 exd5 20. Rfd1 Rac8 21. Bxe4 Rxc1'"
      ]
     },
     "execution_count": 19,
     "metadata": {},
     "output_type": "execute_result"
    }
   ],
   "source": [
    "datos_crudos['mainline_moves'].iloc[5]"
   ]
  },
  {
   "attachments": {},
   "cell_type": "markdown",
   "metadata": {},
   "source": [
    "El string tienen el formato de:  \"N° de Mov\". \"Mov.Blanca\" Mov.Negra\". Aplicamos una función a cada registro para contar la cantidad de movimientos"
   ]
  },
  {
   "cell_type": "code",
   "execution_count": 20,
   "metadata": {},
   "outputs": [],
   "source": [
    "#Definimos una función que primero retira los espacios en blanco y luego separamos el string por el caracter '.' \n",
    "#almacena los strings separados en una serie y cuenta la cantidad de elementos que tiene\n",
    "def cant_mov(x):\n",
    "    if type(x) is str:\n",
    "        return len(x.replace(\" \", \"\").split('.'))\n",
    "    else:\n",
    "        return np.NaN\n",
    "# Aplico la función y creo una nueva columna llamada \"Duración\"\n",
    "datos_crudos['Duración'] = datos_crudos['mainline_moves'].apply(cant_mov)"
   ]
  },
  {
   "attachments": {},
   "cell_type": "markdown",
   "metadata": {},
   "source": [
    "### 2.7 Filtramos aquellas partidas dónde el Control de Tiempo haya sido Blitz (3 minutos) y/o Rapid (5 minutos).\n",
    "En estas partidas con menor tiempo de juego, la diferencia de puntuación entre jugadores es un factor más determinante en el resultado final del juego.\n",
    "\n",
    "Las columnas Event y EventType son las que tienen información sobre el tipo de control de tiempo utilizado."
   ]
  },
  {
   "cell_type": "code",
   "execution_count": 21,
   "metadata": {},
   "outputs": [],
   "source": [
    "# Creamos un nuevo dataframe filtrando si las columnas Event y EventType tiene la palabra blitz y/o rapid\n",
    "datos_bz_rp=datos_crudos[(datos_crudos.Event.str.contains(\"blitz\")) | (datos_crudos.EventType.str.contains(\"blitz\"))|(datos_crudos.Event.str.contains(\"rapid\")) | (datos_crudos.EventType.str.contains(\"rapid\"))]"
   ]
  },
  {
   "cell_type": "code",
   "execution_count": 22,
   "metadata": {},
   "outputs": [
    {
     "name": "stdout",
     "output_type": "stream",
     "text": [
      "Tamaño del dataset de partidas Blitz y Rapid:\n"
     ]
    },
    {
     "data": {
      "text/plain": [
       "(181540, 15)"
      ]
     },
     "execution_count": 22,
     "metadata": {},
     "output_type": "execute_result"
    }
   ],
   "source": [
    "print(\"Tamaño del dataset de partidas Blitz y Rapid:\")\n",
    "datos_bz_rp.shape"
   ]
  },
  {
   "attachments": {},
   "cell_type": "markdown",
   "metadata": {},
   "source": [
    "### 2.8 Visualizamos y limpiamos los valores de la columna Opening\n",
    "Esta columna indica la apertura elegida por blancas. Esto determina el tipo de estrategia que seguirá la partida, si es mas agresiva o conservadora, posicionas mas o menos balanceades, etc."
   ]
  },
  {
   "cell_type": "code",
   "execution_count": 23,
   "metadata": {},
   "outputs": [
    {
     "data": {
      "text/plain": [
       "sicilian                                        26807\n",
       "french                                           8804\n",
       "king's indian                                    8275\n",
       "queen's pawn game                                8114\n",
       "qgd                                              7541\n",
       "ruy lopez                                        7442\n",
       "caro-kann                                        7258\n",
       "english                                          7154\n",
       "reti                                             5310\n",
       "reti opening                                     5276\n",
       "english opening                                  5038\n",
       "sicilian defence                                 4800\n",
       "queen's pawn                                     4134\n",
       "nimzo-indian                                     3684\n",
       "qgd slav                                         3407\n",
       "queen's indian                                   2171\n",
       "giuoco piano                                     2163\n",
       "gruenfeld                                        2150\n",
       "catalan                                          2092\n",
       "trompovsky attack (ruth, opovcensky opening)     1897\n",
       "Name: Opening, dtype: int64"
      ]
     },
     "execution_count": 23,
     "metadata": {},
     "output_type": "execute_result"
    }
   ],
   "source": [
    "#Vemos las aperturas más utilizadas\n",
    "datos_bz_rp.Opening.value_counts().head(20)"
   ]
  },
  {
   "attachments": {},
   "cell_type": "markdown",
   "metadata": {},
   "source": [
    "Vamos a limpiar los valores repetidos la columna y categorizar a todas a las aperturas fuera del top 20 como \"otras\""
   ]
  },
  {
   "cell_type": "code",
   "execution_count": 24,
   "metadata": {},
   "outputs": [
    {
     "name": "stderr",
     "output_type": "stream",
     "text": [
      "C:\\Users\\fpeloso\\AppData\\Local\\Temp\\ipykernel_5152\\1016428220.py:14: SettingWithCopyWarning: \n",
      "A value is trying to be set on a copy of a slice from a DataFrame.\n",
      "Try using .loc[row_indexer,col_indexer] = value instead\n",
      "\n",
      "See the caveats in the documentation: https://pandas.pydata.org/pandas-docs/stable/user_guide/indexing.html#returning-a-view-versus-a-copy\n",
      "  datos_bz_rp['Apertura'] = datos_bz_rp['Opening'].apply(limpiar_opening)\n"
     ]
    }
   ],
   "source": [
    "def limpiar_opening(x):\n",
    "    if \"sicilian\" in str(x):\n",
    "        return \"sicilian\"\n",
    "    elif \"english\" in str(x):\n",
    "        return \"english\"\n",
    "    elif \"reti\" in str(x):\n",
    "        return \"reti\"\n",
    "    elif \"qgd\" in str(x):\n",
    "        return \"qgd\"\n",
    "    else: \n",
    "        return x\n",
    " \n",
    "# Aplicamos la función \n",
    "datos_bz_rp['Apertura'] = datos_bz_rp['Opening'].apply(limpiar_opening)"
   ]
  },
  {
   "cell_type": "code",
   "execution_count": 25,
   "metadata": {},
   "outputs": [
    {
     "data": {
      "text/plain": [
       "sicilian                                        32324\n",
       "qgd                                             14010\n",
       "english                                         12996\n",
       "reti                                            10966\n",
       "french                                           8804\n",
       "king's indian                                    8275\n",
       "queen's pawn game                                8114\n",
       "ruy lopez                                        7442\n",
       "caro-kann                                        7258\n",
       "queen's pawn                                     4134\n",
       "nimzo-indian                                     3684\n",
       "queen's indian                                   2171\n",
       "giuoco piano                                     2163\n",
       "gruenfeld                                        2150\n",
       "catalan                                          2092\n",
       "trompovsky attack (ruth, opovcensky opening)     1897\n",
       "nimzovich-larsen attack                          1859\n",
       "robatsch (modern) defence                        1684\n",
       "pirc                                             1530\n",
       "four knights                                     1479\n",
       "Name: Apertura, dtype: int64"
      ]
     },
     "execution_count": 25,
     "metadata": {},
     "output_type": "execute_result"
    }
   ],
   "source": [
    "#Vemos las aperturas más utilizadas luego de haber corregido las repetidas en el top 20\n",
    "datos_bz_rp.Apertura.value_counts().head(20)"
   ]
  },
  {
   "attachments": {},
   "cell_type": "markdown",
   "metadata": {},
   "source": [
    "Ponemos un umbral de 2000 registros para las aperturas. Aquellas que tengan menos de 2000, serán categorizadas\n",
    "como \"other\""
   ]
  },
  {
   "cell_type": "code",
   "execution_count": 26,
   "metadata": {},
   "outputs": [
    {
     "name": "stderr",
     "output_type": "stream",
     "text": [
      "C:\\Users\\fpeloso\\AppData\\Local\\Temp\\ipykernel_5152\\4216729748.py:2: SettingWithCopyWarning: \n",
      "A value is trying to be set on a copy of a slice from a DataFrame.\n",
      "Try using .loc[row_indexer,col_indexer] = value instead\n",
      "\n",
      "See the caveats in the documentation: https://pandas.pydata.org/pandas-docs/stable/user_guide/indexing.html#returning-a-view-versus-a-copy\n",
      "  datos_bz_rp['Apertura']=datos_bz_rp.Apertura.where(datos_bz_rp['Apertura'].map(datos_bz_rp['Apertura'].value_counts()).gt(2000),'other')\n"
     ]
    }
   ],
   "source": [
    "#Aquellas Aperturas que tenga menos de 2000 registros, las clasifico como 'other'\n",
    "datos_bz_rp['Apertura']=datos_bz_rp.Apertura.where(datos_bz_rp['Apertura'].map(datos_bz_rp['Apertura'].value_counts()).gt(2000),'other')"
   ]
  },
  {
   "cell_type": "code",
   "execution_count": 27,
   "metadata": {},
   "outputs": [
    {
     "data": {
      "text/plain": [
       "other                54957\n",
       "sicilian             32324\n",
       "qgd                  14010\n",
       "english              12996\n",
       "reti                 10966\n",
       "french                8804\n",
       "king's indian         8275\n",
       "queen's pawn game     8114\n",
       "ruy lopez             7442\n",
       "caro-kann             7258\n",
       "queen's pawn          4134\n",
       "nimzo-indian          3684\n",
       "queen's indian        2171\n",
       "giuoco piano          2163\n",
       "gruenfeld             2150\n",
       "catalan               2092\n",
       "Name: Apertura, dtype: int64"
      ]
     },
     "execution_count": 27,
     "metadata": {},
     "output_type": "execute_result"
    }
   ],
   "source": [
    "datos_bz_rp['Apertura'].value_counts()"
   ]
  },
  {
   "attachments": {},
   "cell_type": "markdown",
   "metadata": {},
   "source": [
    "Verificamos por última vez las columnas que ya no son necesarias para nuestro luego de haber limpiado el dataset"
   ]
  },
  {
   "cell_type": "code",
   "execution_count": 28,
   "metadata": {},
   "outputs": [
    {
     "data": {
      "text/plain": [
       "Index(['Date', 'EventDate', 'Event', 'Result', 'mainline_moves', 'Opening',\n",
       "       'WhiteFideId', 'BlackFideId', 'WhiteElo', 'BlackElo', 'Variation',\n",
       "       'EventType', 'Fecha', 'Resultado', 'Duración', 'Apertura'],\n",
       "      dtype='object')"
      ]
     },
     "execution_count": 28,
     "metadata": {},
     "output_type": "execute_result"
    }
   ],
   "source": [
    "datos_bz_rp.columns"
   ]
  },
  {
   "attachments": {},
   "cell_type": "markdown",
   "metadata": {},
   "source": [
    "### 2.9 Removemos las columnas que ya no vamos a utilizar: Date, EventDate, Fecha, Variation, mainline_moves, Result y Opening"
   ]
  },
  {
   "cell_type": "code",
   "execution_count": 29,
   "metadata": {},
   "outputs": [],
   "source": [
    "datos_bz_rp=datos_bz_rp.drop(columns=['Date','EventDate','Fecha','Variation','mainline_moves','Result','Opening'])"
   ]
  },
  {
   "cell_type": "code",
   "execution_count": 30,
   "metadata": {},
   "outputs": [
    {
     "data": {
      "text/plain": [
       "Index(['Event', 'WhiteFideId', 'BlackFideId', 'WhiteElo', 'BlackElo',\n",
       "       'EventType', 'Resultado', 'Duración', 'Apertura'],\n",
       "      dtype='object')"
      ]
     },
     "execution_count": 30,
     "metadata": {},
     "output_type": "execute_result"
    }
   ],
   "source": [
    "datos_bz_rp.columns"
   ]
  },
  {
   "attachments": {},
   "cell_type": "markdown",
   "metadata": {},
   "source": [
    "### 2.10 Reseteamos el Index "
   ]
  },
  {
   "cell_type": "code",
   "execution_count": 31,
   "metadata": {},
   "outputs": [],
   "source": [
    "datos_bz_rp=datos_bz_rp.reset_index(drop=True)"
   ]
  },
  {
   "attachments": {},
   "cell_type": "markdown",
   "metadata": {},
   "source": [
    "### 2.11 Separamos en Blitz por un lado y Rapid por el otro"
   ]
  },
  {
   "cell_type": "code",
   "execution_count": 32,
   "metadata": {},
   "outputs": [
    {
     "data": {
      "text/plain": [
       "(104576, 9)"
      ]
     },
     "execution_count": 32,
     "metadata": {},
     "output_type": "execute_result"
    }
   ],
   "source": [
    "# Hagamos un df con partidas blitz\n",
    "datos_blitz = datos_bz_rp[(datos_bz_rp.Event.str.contains(\"blitz\")) | (datos_bz_rp.EventType.str.contains(\"blitz\"))]\n",
    "datos_blitz.shape"
   ]
  },
  {
   "cell_type": "code",
   "execution_count": 33,
   "metadata": {},
   "outputs": [
    {
     "data": {
      "text/plain": [
       "(77040, 9)"
      ]
     },
     "execution_count": 33,
     "metadata": {},
     "output_type": "execute_result"
    }
   ],
   "source": [
    "# Hagamos un df con partidas blitz\n",
    "datos_rapid = datos_bz_rp[(datos_bz_rp.Event.str.contains(\"rapid\")) | (datos_bz_rp.EventType.str.contains(\"rapid\"))]\n",
    "datos_rapid.shape"
   ]
  },
  {
   "attachments": {},
   "cell_type": "markdown",
   "metadata": {},
   "source": [
    "### 2.12 Eliminamos las columnas Event y EventType luego de separa en Blitz y Rapid"
   ]
  },
  {
   "cell_type": "code",
   "execution_count": 34,
   "metadata": {},
   "outputs": [],
   "source": [
    "datos_blitz=datos_blitz.drop(columns=['Event', 'EventType'])\n",
    "\n",
    "datos_rapid=datos_rapid.drop(columns=['Event', 'EventType'])"
   ]
  },
  {
   "attachments": {},
   "cell_type": "markdown",
   "metadata": {},
   "source": [
    "### 2.13 Eliminamos Registros que tengan algun valor nulo"
   ]
  },
  {
   "cell_type": "code",
   "execution_count": 35,
   "metadata": {},
   "outputs": [],
   "source": [
    "data=datos_blitz.dropna(axis=0)"
   ]
  },
  {
   "attachments": {},
   "cell_type": "markdown",
   "metadata": {},
   "source": [
    "Asi quedaron las columnas finales que serán las features y target de nuestro modelo"
   ]
  },
  {
   "cell_type": "code",
   "execution_count": 36,
   "metadata": {},
   "outputs": [
    {
     "name": "stdout",
     "output_type": "stream",
     "text": [
      "<class 'pandas.core.frame.DataFrame'>\n",
      "Int64Index: 90882 entries, 2244 to 181363\n",
      "Data columns (total 7 columns):\n",
      " #   Column       Non-Null Count  Dtype  \n",
      "---  ------       --------------  -----  \n",
      " 0   WhiteFideId  90882 non-null  object \n",
      " 1   BlackFideId  90882 non-null  object \n",
      " 2   WhiteElo     90882 non-null  float64\n",
      " 3   BlackElo     90882 non-null  float64\n",
      " 4   Resultado    90882 non-null  float64\n",
      " 5   Duración     90882 non-null  float64\n",
      " 6   Apertura     90882 non-null  object \n",
      "dtypes: float64(4), object(3)\n",
      "memory usage: 5.5+ MB\n"
     ]
    }
   ],
   "source": [
    "data.info()"
   ]
  },
  {
   "attachments": {},
   "cell_type": "markdown",
   "metadata": {},
   "source": [
    "# 3. Definimos Features y Target del Modelo"
   ]
  },
  {
   "attachments": {},
   "cell_type": "markdown",
   "metadata": {},
   "source": [
    "### 3.1 Definimos X e Y"
   ]
  },
  {
   "cell_type": "code",
   "execution_count": 37,
   "metadata": {},
   "outputs": [],
   "source": [
    "X= data.drop(columns='Resultado')\n",
    "y=data.Resultado"
   ]
  },
  {
   "attachments": {},
   "cell_type": "markdown",
   "metadata": {},
   "source": [
    "### 3.2 Implementamos Variables Dummies"
   ]
  },
  {
   "attachments": {},
   "cell_type": "markdown",
   "metadata": {},
   "source": [
    "Hacemos variables dummies de las columnas Apertura, WhiteFideId y BlackFideId"
   ]
  },
  {
   "cell_type": "code",
   "execution_count": 38,
   "metadata": {},
   "outputs": [],
   "source": [
    "X_dum=pd.get_dummies(data=X,columns=['Apertura','WhiteFideId','BlackFideId'])"
   ]
  },
  {
   "attachments": {},
   "cell_type": "markdown",
   "metadata": {},
   "source": [
    "Vemos cuantos columnas dummies se crearon"
   ]
  },
  {
   "cell_type": "code",
   "execution_count": 39,
   "metadata": {},
   "outputs": [
    {
     "data": {
      "text/plain": [
       "(90882, 15342)"
      ]
     },
     "execution_count": 39,
     "metadata": {},
     "output_type": "execute_result"
    }
   ],
   "source": [
    "X_dum.shape"
   ]
  },
  {
   "attachments": {},
   "cell_type": "markdown",
   "metadata": {},
   "source": [
    "Al hacer dummies de todos los jugadores se crean más de 15 mil, lo cual es demasiado. Para reducir ese número vamos a determinar un umbral de mínimos juegos registrados para tener en cuenta el Id del jugador"
   ]
  },
  {
   "cell_type": "code",
   "execution_count": 40,
   "metadata": {},
   "outputs": [],
   "source": [
    "# Vamos a hacer dummies de los IDs de los jugadores que tengan mas de \"N\" partidas en el dataframe\n",
    "# Lo implementamos mediante una función que recibe las features \"X\" y el número de partidas mínimas \"N\".\n",
    "def OHE_ID(X, N):\n",
    "\n",
    "    #almaceno la lista de partidas por cada id en un auxiliar\n",
    "    frecw = X.WhiteFideId.value_counts()\n",
    "    #almaceno el índice de dicha lista\n",
    "    idw = set(frecw[frecw>N].index)\n",
    "\n",
    "    #mismo proceso para las piezas negras\n",
    "    frecb = X.BlackFideId.value_counts()\n",
    "    idb = set(frecb[frecb>N].index)\n",
    "\n",
    "    #un nuevo índice que es la unión de los dos anteriores\n",
    "    ids = (idw | idb)\n",
    "\n",
    "    print(f\"Son {len(ids)} jugadores los que tienen más de {N} juegos con negras o blancas\")\n",
    "\n",
    "    # Veamos cuantas partidas participan estos jugadores\n",
    "    partidas = (X[(X.WhiteFideId.isin(ids)) | (X.BlackFideId.isin(ids))].shape[0])\n",
    "    print(f\"Estos jugadores aparecen en {partidas} registros \")\n",
    "\n",
    "    # Ahora creo dos columnas con los ids para blancas y negras, en donde\n",
    "    # a los jugadores que no tengan la presencia deseada les quedará un\n",
    "    # ID = -1\n",
    "\n",
    "    X[\"IDW\"] = X.WhiteFideId.apply(lambda x: x if x in ids else -1 )\n",
    "    X[\"IDB\"] = X.BlackFideId.apply(lambda x: x if x in ids else -1 )\n",
    "\n",
    "    # Hago las dummies\n",
    "    X = pd.get_dummies(X, columns=['IDW', 'IDB'], prefix=[\"W\", \"B\"], prefix_sep='')\n",
    "\n",
    "    # Dropeo columnas de IDs originales:\n",
    "    X = X.drop([\"WhiteFideId\", \"BlackFideId\"], axis=1)\n",
    "\n",
    "    #hago dummies de las aperturas\n",
    "    X=pd.get_dummies(data=X,columns=['Apertura'])\n",
    "\n",
    "    return X\n"
   ]
  },
  {
   "cell_type": "code",
   "execution_count": 41,
   "metadata": {},
   "outputs": [
    {
     "name": "stdout",
     "output_type": "stream",
     "text": [
      "Son 155 jugadores los que tienen más de 100 juegos con negras o blancas\n",
      "Estos jugadores aparecen en 36607 registros \n"
     ]
    }
   ],
   "source": [
    "X=OHE_ID(X,100)"
   ]
  },
  {
   "attachments": {},
   "cell_type": "markdown",
   "metadata": {},
   "source": [
    "Ahora nos quedan 331 columnas luego de implementar dummies"
   ]
  },
  {
   "cell_type": "code",
   "execution_count": 42,
   "metadata": {},
   "outputs": [
    {
     "data": {
      "text/plain": [
       "(90882, 331)"
      ]
     },
     "execution_count": 42,
     "metadata": {},
     "output_type": "execute_result"
    }
   ],
   "source": [
    "X.shape"
   ]
  },
  {
   "attachments": {},
   "cell_type": "markdown",
   "metadata": {},
   "source": [
    "### 3.3 Separamos en Test y Train"
   ]
  },
  {
   "cell_type": "code",
   "execution_count": 43,
   "metadata": {},
   "outputs": [],
   "source": [
    "X_train, X_test, y_train, y_test = train_test_split(X, y, test_size=0.2, random_state=1, stratify=y)"
   ]
  },
  {
   "attachments": {},
   "cell_type": "markdown",
   "metadata": {},
   "source": [
    "Vemos la distribución de nuestro Target en Test"
   ]
  },
  {
   "cell_type": "code",
   "execution_count": 44,
   "metadata": {},
   "outputs": [
    {
     "data": {
      "text/plain": [
       "0.0    0.446938\n",
       "1.0    0.386202\n",
       "2.0    0.166859\n",
       "Name: Resultado, dtype: float64"
      ]
     },
     "execution_count": 44,
     "metadata": {},
     "output_type": "execute_result"
    }
   ],
   "source": [
    "y_test.value_counts()/y_test.size"
   ]
  },
  {
   "attachments": {},
   "cell_type": "markdown",
   "metadata": {},
   "source": [
    "Partimos de una Hipótesis Nula de que el 44% de las veces ganan las piezas blancas."
   ]
  },
  {
   "attachments": {},
   "cell_type": "markdown",
   "metadata": {},
   "source": [
    "# 4. Pipeline"
   ]
  },
  {
   "attachments": {},
   "cell_type": "markdown",
   "metadata": {},
   "source": [
    "Implementamos un pipeline +GridSearch para determinar el mejor modelo y mejores parámetros"
   ]
  },
  {
   "cell_type": "code",
   "execution_count": 88,
   "metadata": {},
   "outputs": [],
   "source": [
    "#defino en los pasos que es preprocesamiento y cual es el clasificador\n",
    "pasos=[('preprocessing', StandardScaler()), ('classifier', LogisticRegression())]\n",
    "#instancio el pipeline\n",
    "pipe = Pipeline(pasos)"
   ]
  },
  {
   "cell_type": "code",
   "execution_count": 90,
   "metadata": {},
   "outputs": [],
   "source": [
    "param_grid = [\n",
    "              {'classifier': [LogisticRegression(max_iter=2000)], 'preprocessing': [StandardScaler(), None]},\n",
    "\n",
    "              {'classifier': [KNeighborsClassifier ()],\n",
    "               'preprocessing': [None], 'classifier__n_neighbors': list(range(1, 15))}]"
   ]
  },
  {
   "attachments": {},
   "cell_type": "markdown",
   "metadata": {},
   "source": [
    "luego probar pasar otros modelos al pipeline"
   ]
  },
  {
   "cell_type": "code",
   "execution_count": null,
   "metadata": {},
   "outputs": [],
   "source": [
    "#tree.DecisionTreeClassifier(min_samples_leaf=20, max_depth=6, random_state=50)"
   ]
  },
  {
   "cell_type": "code",
   "execution_count": null,
   "metadata": {},
   "outputs": [],
   "source": [
    "#bagging_tree = tree.DecisionTreeClassifier()\n",
    "#bagging_clf = BaggingClassifier(base_estimator=bagging_tree, n_estimators=100,\n",
    "#                                bootstrap=True, n_jobs=1, random_state=50)"
   ]
  },
  {
   "cell_type": "code",
   "execution_count": 91,
   "metadata": {},
   "outputs": [],
   "source": [
    "folds=StratifiedKFold(n_splits=5,shuffle=True, random_state=42)"
   ]
  },
  {
   "cell_type": "code",
   "execution_count": 92,
   "metadata": {},
   "outputs": [
    {
     "data": {
      "text/plain": [
       "GridSearchCV(cv=StratifiedKFold(n_splits=5, random_state=42, shuffle=True),\n",
       "             estimator=Pipeline(steps=[('preprocessing', StandardScaler()),\n",
       "                                       ('classifier', LogisticRegression())]),\n",
       "             param_grid=[{'classifier': [LogisticRegression(max_iter=2000)],\n",
       "                          'preprocessing': [StandardScaler(), None]},\n",
       "                         {'classifier': [KNeighborsClassifier()],\n",
       "                          'classifier__n_neighbors': [1, 2, 3, 4, 5, 6, 7, 8, 9,\n",
       "                                                      10, 11, 12, 13, 14],\n",
       "                          'preprocessing': [None]}])"
      ]
     },
     "execution_count": 92,
     "metadata": {},
     "output_type": "execute_result"
    }
   ],
   "source": [
    "grid = GridSearchCV(pipe, param_grid, cv=folds)\n",
    "grid.fit(X_train, y_train)"
   ]
  },
  {
   "cell_type": "code",
   "execution_count": 93,
   "metadata": {},
   "outputs": [
    {
     "name": "stdout",
     "output_type": "stream",
     "text": [
      "Best params:\n",
      "{'classifier': LogisticRegression(max_iter=2000), 'preprocessing': StandardScaler()}\n",
      "\n",
      "Best cross-validation score: 0.59\n",
      "Test-set score: 0.59\n"
     ]
    }
   ],
   "source": [
    "print(\"Best params:\\n{}\\n\".format(grid.best_params_))\n",
    "print(\"Best cross-validation score: {:.2f}\".format(grid.best_score_))\n",
    "print(\"Test-set score: {:.2f}\".format(grid.score(X_test, y_test)))"
   ]
  },
  {
   "cell_type": "code",
   "execution_count": 45,
   "metadata": {},
   "outputs": [],
   "source": [
    "#pasos = [('scaler', StandardScaler()), ('knn', KNeighborsClassifier())]\n"
   ]
  },
  {
   "cell_type": "code",
   "execution_count": 46,
   "metadata": {},
   "outputs": [],
   "source": [
    "#pipe_grid = Pipeline(pasos)"
   ]
  },
  {
   "cell_type": "code",
   "execution_count": 47,
   "metadata": {},
   "outputs": [],
   "source": [
    "#folds=StratifiedKFold(n_splits=5,shuffle=True, random_state=42)"
   ]
  },
  {
   "cell_type": "code",
   "execution_count": 48,
   "metadata": {},
   "outputs": [],
   "source": [
    "#param_grid = {'knn__n_neighbors':range(2,20,2),'knn__weights':['uniform','distance']}"
   ]
  },
  {
   "cell_type": "code",
   "execution_count": 49,
   "metadata": {},
   "outputs": [],
   "source": [
    "#grid = GridSearchCV(pipe_grid, param_grid, cv=folds)\n",
    "#grid.fit(X_train, y_train)"
   ]
  },
  {
   "attachments": {},
   "cell_type": "markdown",
   "metadata": {},
   "source": [
    "# 5. Implementación de Modelos"
   ]
  },
  {
   "attachments": {},
   "cell_type": "markdown",
   "metadata": {},
   "source": [
    "### 5.1 Definimos función para visualizar resultados"
   ]
  },
  {
   "cell_type": "code",
   "execution_count": 81,
   "metadata": {},
   "outputs": [],
   "source": [
    "# Esta funcion toma los sets (X_test, y_test) y la predicción y_pred de un modelo\n",
    "# Para entregar gráficas y métricas de score\n",
    "\n",
    "def GRAFICAS(X_test, y_test, y_pred):\n",
    "    \n",
    "    y_test = pd.Series(y_test)\n",
    "    y_pred = pd.Series(y_pred, index=y_test.index)\n",
    "    \n",
    "    c = confusion_matrix(y_test, y_pred) # mostramos la matriz de confusion\n",
    "    plt.figure(figsize=(4  ,4))\n",
    "    ax= plt.subplot()\n",
    "    sns.heatmap(c, annot=True, fmt=\"d\")\n",
    "    ax.set_xlabel('Resultados predecidos')\n",
    "    ax.set_ylabel('Resultados del test')\n",
    "    ax.xaxis.set_ticklabels(['B(0)', 'N(1)', \"T(2)\"])\n",
    "    ax.yaxis.set_ticklabels(['B(0)', 'N(1)', \"T(2)\"])\n",
    "    ax.set_title('Matriz de Confusión')\n",
    "    plt.show()\n",
    "    \n",
    "\n",
    "    print(f\"El accuracy global del modelo es {accuracy_score(y_test, y_pred)}.\")\n",
    "\n",
    "    # Me armo un df de scores para cada resultado\n",
    "    scores = pd.DataFrame({\"Resultado\":range(3),\n",
    "                         \"sensibilidad\":pd.Series(recall_score(y_test, y_pred, average=None)),\n",
    "                         \"precisión\":pd.Series(precision_score(y_test, y_pred, average=None)),\n",
    "                         \"f1\":pd.Series(f1_score(y_test, y_pred, average=None))})\n",
    "    scores.index.name='Resultado'\n",
    "    print(f\"\\n\\nEstos son los scores para cada resultado\")\n",
    "\n",
    "    display(scores.loc[:,\"sensibilidad\":].transpose().round(3))\n",
    "    \n",
    "    # hacemos un melt sobre Resultados para graficar\n",
    "    df = scores.melt(\"Resultado\", var_name='scores', value_name='Scores')\n",
    "    # graficamos los scores para cada resultado\n",
    "    sns.catplot(x=\"Resultado\", y=\"Scores\", hue='scores', data=df, kind='point')\n",
    "    #plt.savefig(f\"tp3_{type(modelo)}.png\")\n",
    "    plt.show()\n",
    "\n",
    "    # Mostremos los errores cometidos\n",
    "    err = y_test != y_pred # Hacemos una mascara de errores\n",
    "\n",
    "    print(f\"\\n\\nEstos son los errores de sensado (resultado mal identificado) y los errores de presición (resultado mal asignado):\") \n",
    "\n",
    "    err1 = pd.DataFrame({\"Mal sensado\":y_test[err].value_counts(), \"Mal predecido\":y_pred[err].value_counts()})\n",
    "    tot1 = err1[\"Mal sensado\"].sum()\n",
    "    tot2 = err1[\"Mal predecido\"].sum()\n",
    "    err1.loc[\"Total\"] = [tot1,tot2]\n",
    "    err1.index.name='Resultado'\n",
    "    display(err1.transpose())\n",
    "\n",
    "    # Un dataframe de errores:\n",
    "    errores = pd.DataFrame({\"y_test\":y_test[err], \"y_pred\":y_pred[err]})\n",
    "    errores[\"frecuencia\"] = errores.apply(lambda x: c[x.y_test,x.y_pred] ,axis=1)\n",
    "    errores = errores.sort_values(by=[\"frecuencia\",'y_test', 'y_pred'],ascending=[False,False,False])\n",
    "\n",
    "    print(f\"\\n\\nAquí se muestra la frecuencia de cada uno de los {errores.shape[0]} errores cometidos:\")\n",
    "    display (errores.drop_duplicates().set_index('frecuencia').transpose())\n",
    " \n",
    "    # Y para finalizar graficamos los errores de predicción,\n",
    "    # con la perspectiva puesta en Los Elos, que son nuestros\n",
    "    # mejores predictores\n",
    "    X_test[\"Errores de Sensibilidad\"] = y_test    \n",
    "    X_test[\"Errores de Precisión\"] = y_pred\n",
    "    \n",
    "    print(\"\\n\\nEstos son los errores de recall:\")\n",
    "    sns.pairplot(X_test[err], vars=['WhiteElo', 'BlackElo'], hue = \"Errores de Sensibilidad\", plot_kws={\"s\": 3})\n",
    "    plt.show()\n",
    "\n",
    "    # Acá se va a ver cómo los modelos predicen empates sólo para los jugadores de mayor Elo.\n",
    "    print(\"\\n\\nEstos son los errores de precisión:\")\n",
    "    sns.pairplot(X_test[err], vars=['WhiteElo', 'BlackElo'], hue = \"Errores de Precisión\", plot_kws={\"s\": 3})\n",
    "    plt.show()"
   ]
  },
  {
   "attachments": {},
   "cell_type": "markdown",
   "metadata": {},
   "source": [
    "Regresion Logistica"
   ]
  },
  {
   "cell_type": "code",
   "execution_count": 50,
   "metadata": {},
   "outputs": [],
   "source": [
    "from sklearn.linear_model import LogisticRegression\n",
    "\n",
    "lr = LogisticRegression(max_iter=2000, random_state=1)\n",
    "\n",
    "lr.fit(X_train, y_train) \n",
    "\n",
    "ypred_lr_train = lr.predict(X_train)\n",
    "ypred_lr_test = lr.predict(X_test)\n"
   ]
  },
  {
   "cell_type": "code",
   "execution_count": 86,
   "metadata": {},
   "outputs": [
    {
     "data": {
      "image/png": "[encoded data removed]",
      "text/plain": [
       "<Figure size 400x400 with 2 Axes>"
      ]
     },
     "metadata": {},
     "output_type": "display_data"
    },
    {
     "name": "stdout",
     "output_type": "stream",
     "text": [
      "El accuracy global del modelo es 0.5901964020465423.\n",
      "\n",
      "\n",
      "Estos son los scores para cada resultado\n"
     ]
    },
    {
     "data": {
      "text/html": [
       "<div>\n",
       "<style scoped>\n",
       "    .dataframe tbody tr th:only-of-type {\n",
       "        vertical-align: middle;\n",
       "    }\n",
       "\n",
       "    .dataframe tbody tr th {\n",
       "        vertical-align: top;\n",
       "    }\n",
       "\n",
       "    .dataframe thead th {\n",
       "        text-align: right;\n",
       "    }\n",
       "</style>\n",
       "<table border=\"1\" class=\"dataframe\">\n",
       "  <thead>\n",
       "    <tr style=\"text-align: right;\">\n",
       "      <th>Resultado</th>\n",
       "      <th>0</th>\n",
       "      <th>1</th>\n",
       "      <th>2</th>\n",
       "    </tr>\n",
       "  </thead>\n",
       "  <tbody>\n",
       "    <tr>\n",
       "      <th>sensibilidad</th>\n",
       "      <td>0.749</td>\n",
       "      <td>0.618</td>\n",
       "      <td>0.102</td>\n",
       "    </tr>\n",
       "    <tr>\n",
       "      <th>precisión</th>\n",
       "      <td>0.595</td>\n",
       "      <td>0.605</td>\n",
       "      <td>0.394</td>\n",
       "    </tr>\n",
       "    <tr>\n",
       "      <th>f1</th>\n",
       "      <td>0.663</td>\n",
       "      <td>0.611</td>\n",
       "      <td>0.162</td>\n",
       "    </tr>\n",
       "  </tbody>\n",
       "</table>\n",
       "</div>"
      ],
      "text/plain": [
       "Resultado         0      1      2\n",
       "sensibilidad  0.749  0.618  0.102\n",
       "precisión     0.595  0.605  0.394\n",
       "f1            0.663  0.611  0.162"
      ]
     },
     "metadata": {},
     "output_type": "display_data"
    },
    {
     "data": {
      "image/png": "[encoded data removed]",
      "text/plain": [
       "<Figure size 635.125x500 with 1 Axes>"
      ]
     },
     "metadata": {},
     "output_type": "display_data"
    },
    {
     "name": "stdout",
     "output_type": "stream",
     "text": [
      "\n",
      "\n",
      "Estos son los errores de sensado (resultado mal identificado) y los errores de presición (resultado mal asignado):\n"
     ]
    },
    {
     "data": {
      "text/html": [
       "<div>\n",
       "<style scoped>\n",
       "    .dataframe tbody tr th:only-of-type {\n",
       "        vertical-align: middle;\n",
       "    }\n",
       "\n",
       "    .dataframe tbody tr th {\n",
       "        vertical-align: top;\n",
       "    }\n",
       "\n",
       "    .dataframe thead th {\n",
       "        text-align: right;\n",
       "    }\n",
       "</style>\n",
       "<table border=\"1\" class=\"dataframe\">\n",
       "  <thead>\n",
       "    <tr style=\"text-align: right;\">\n",
       "      <th>Resultado</th>\n",
       "      <th>0.0</th>\n",
       "      <th>1.0</th>\n",
       "      <th>2.0</th>\n",
       "      <th>Total</th>\n",
       "    </tr>\n",
       "  </thead>\n",
       "  <tbody>\n",
       "    <tr>\n",
       "      <th>Mal sensado</th>\n",
       "      <td>2042</td>\n",
       "      <td>2683</td>\n",
       "      <td>2724</td>\n",
       "      <td>7449</td>\n",
       "    </tr>\n",
       "    <tr>\n",
       "      <th>Mal predecido</th>\n",
       "      <td>4138</td>\n",
       "      <td>2836</td>\n",
       "      <td>475</td>\n",
       "      <td>7449</td>\n",
       "    </tr>\n",
       "  </tbody>\n",
       "</table>\n",
       "</div>"
      ],
      "text/plain": [
       "Resultado       0.0   1.0   2.0  Total\n",
       "Mal sensado    2042  2683  2724   7449\n",
       "Mal predecido  4138  2836   475   7449"
      ]
     },
     "metadata": {},
     "output_type": "display_data"
    },
    {
     "ename": "IndexError",
     "evalue": "only integers, slices (`:`), ellipsis (`...`), numpy.newaxis (`None`) and integer or boolean arrays are valid indices",
     "output_type": "error",
     "traceback": [
      "\u001b[1;31m---------------------------------------------------------------------------\u001b[0m",
      "\u001b[1;31mIndexError\u001b[0m                                Traceback (most recent call last)",
      "\u001b[1;32mc:\\Users\\fpeloso\\Digital House\\TP 1 - Grupo 10\\Grupo 10\\DH-TP-1---Grupo-10\\TP FINAL\\Chess\\Main Borrador copy - Facu.ipynb Cell 95\u001b[0m in \u001b[0;36m<cell line: 1>\u001b[1;34m()\u001b[0m\n\u001b[1;32m----> <a href='vscode-notebook-cell:/c%3A/Users/fpeloso/Digital%20House/TP%201%20-%20Grupo%2010/Grupo%2010/DH-TP-1---Grupo-10/TP%20FINAL/Chess/Main%20Borrador%20copy%20-%20Facu.ipynb#Y245sZmlsZQ%3D%3D?line=0'>1</a>\u001b[0m GRAFICAS(X_test, y_test, ypred_lr_test)\n",
      "\u001b[1;32mc:\\Users\\fpeloso\\Digital House\\TP 1 - Grupo 10\\Grupo 10\\DH-TP-1---Grupo-10\\TP FINAL\\Chess\\Main Borrador copy - Facu.ipynb Cell 95\u001b[0m in \u001b[0;36mGRAFICAS\u001b[1;34m(X_test, y_test, y_pred)\u001b[0m\n\u001b[0;32m     <a href='vscode-notebook-cell:/c%3A/Users/fpeloso/Digital%20House/TP%201%20-%20Grupo%2010/Grupo%2010/DH-TP-1---Grupo-10/TP%20FINAL/Chess/Main%20Borrador%20copy%20-%20Facu.ipynb#Y245sZmlsZQ%3D%3D?line=51'>52</a>\u001b[0m \u001b[39m# Un dataframe de errores:\u001b[39;00m\n\u001b[0;32m     <a href='vscode-notebook-cell:/c%3A/Users/fpeloso/Digital%20House/TP%201%20-%20Grupo%2010/Grupo%2010/DH-TP-1---Grupo-10/TP%20FINAL/Chess/Main%20Borrador%20copy%20-%20Facu.ipynb#Y245sZmlsZQ%3D%3D?line=52'>53</a>\u001b[0m errores \u001b[39m=\u001b[39m pd\u001b[39m.\u001b[39mDataFrame({\u001b[39m\"\u001b[39m\u001b[39my_test\u001b[39m\u001b[39m\"\u001b[39m:y_test[err], \u001b[39m\"\u001b[39m\u001b[39my_pred\u001b[39m\u001b[39m\"\u001b[39m:y_pred[err]})\n\u001b[1;32m---> <a href='vscode-notebook-cell:/c%3A/Users/fpeloso/Digital%20House/TP%201%20-%20Grupo%2010/Grupo%2010/DH-TP-1---Grupo-10/TP%20FINAL/Chess/Main%20Borrador%20copy%20-%20Facu.ipynb#Y245sZmlsZQ%3D%3D?line=53'>54</a>\u001b[0m errores[\u001b[39m\"\u001b[39m\u001b[39mfrecuencia\u001b[39m\u001b[39m\"\u001b[39m] \u001b[39m=\u001b[39m errores\u001b[39m.\u001b[39;49mapply(\u001b[39mlambda\u001b[39;49;00m x: c[x\u001b[39m.\u001b[39;49my_test,x\u001b[39m.\u001b[39;49my_pred] ,axis\u001b[39m=\u001b[39;49m\u001b[39m1\u001b[39;49m)\n\u001b[0;32m     <a href='vscode-notebook-cell:/c%3A/Users/fpeloso/Digital%20House/TP%201%20-%20Grupo%2010/Grupo%2010/DH-TP-1---Grupo-10/TP%20FINAL/Chess/Main%20Borrador%20copy%20-%20Facu.ipynb#Y245sZmlsZQ%3D%3D?line=54'>55</a>\u001b[0m errores \u001b[39m=\u001b[39m errores\u001b[39m.\u001b[39msort_values(by\u001b[39m=\u001b[39m[\u001b[39m\"\u001b[39m\u001b[39mfrecuencia\u001b[39m\u001b[39m\"\u001b[39m,\u001b[39m'\u001b[39m\u001b[39my_test\u001b[39m\u001b[39m'\u001b[39m, \u001b[39m'\u001b[39m\u001b[39my_pred\u001b[39m\u001b[39m'\u001b[39m],ascending\u001b[39m=\u001b[39m[\u001b[39mFalse\u001b[39;00m,\u001b[39mFalse\u001b[39;00m,\u001b[39mFalse\u001b[39;00m])\n\u001b[0;32m     <a href='vscode-notebook-cell:/c%3A/Users/fpeloso/Digital%20House/TP%201%20-%20Grupo%2010/Grupo%2010/DH-TP-1---Grupo-10/TP%20FINAL/Chess/Main%20Borrador%20copy%20-%20Facu.ipynb#Y245sZmlsZQ%3D%3D?line=56'>57</a>\u001b[0m \u001b[39mprint\u001b[39m(\u001b[39mf\u001b[39m\u001b[39m\"\u001b[39m\u001b[39m\\n\u001b[39;00m\u001b[39m\\n\u001b[39;00m\u001b[39mAquí se muestra la frecuencia de cada uno de los \u001b[39m\u001b[39m{\u001b[39;00merrores\u001b[39m.\u001b[39mshape[\u001b[39m0\u001b[39m]\u001b[39m}\u001b[39;00m\u001b[39m errores cometidos:\u001b[39m\u001b[39m\"\u001b[39m)\n",
      "File \u001b[1;32mc:\\Users\\fpeloso\\Anaconda3\\envs\\dhdsblend2021\\lib\\site-packages\\pandas\\core\\frame.py:7552\u001b[0m, in \u001b[0;36mDataFrame.apply\u001b[1;34m(self, func, axis, raw, result_type, args, **kwds)\u001b[0m\n\u001b[0;32m   7541\u001b[0m \u001b[39mfrom\u001b[39;00m \u001b[39mpandas\u001b[39;00m\u001b[39m.\u001b[39;00m\u001b[39mcore\u001b[39;00m\u001b[39m.\u001b[39;00m\u001b[39mapply\u001b[39;00m \u001b[39mimport\u001b[39;00m frame_apply\n\u001b[0;32m   7543\u001b[0m op \u001b[39m=\u001b[39m frame_apply(\n\u001b[0;32m   7544\u001b[0m     \u001b[39mself\u001b[39m,\n\u001b[0;32m   7545\u001b[0m     func\u001b[39m=\u001b[39mfunc,\n\u001b[1;32m   (...)\u001b[0m\n\u001b[0;32m   7550\u001b[0m     kwds\u001b[39m=\u001b[39mkwds,\n\u001b[0;32m   7551\u001b[0m )\n\u001b[1;32m-> 7552\u001b[0m \u001b[39mreturn\u001b[39;00m op\u001b[39m.\u001b[39;49mget_result()\n",
      "File \u001b[1;32mc:\\Users\\fpeloso\\Anaconda3\\envs\\dhdsblend2021\\lib\\site-packages\\pandas\\core\\apply.py:185\u001b[0m, in \u001b[0;36mFrameApply.get_result\u001b[1;34m(self)\u001b[0m\n\u001b[0;32m    182\u001b[0m \u001b[39melif\u001b[39;00m \u001b[39mself\u001b[39m\u001b[39m.\u001b[39mraw:\n\u001b[0;32m    183\u001b[0m     \u001b[39mreturn\u001b[39;00m \u001b[39mself\u001b[39m\u001b[39m.\u001b[39mapply_raw()\n\u001b[1;32m--> 185\u001b[0m \u001b[39mreturn\u001b[39;00m \u001b[39mself\u001b[39;49m\u001b[39m.\u001b[39;49mapply_standard()\n",
      "File \u001b[1;32mc:\\Users\\fpeloso\\Anaconda3\\envs\\dhdsblend2021\\lib\\site-packages\\pandas\\core\\apply.py:276\u001b[0m, in \u001b[0;36mFrameApply.apply_standard\u001b[1;34m(self)\u001b[0m\n\u001b[0;32m    275\u001b[0m \u001b[39mdef\u001b[39;00m \u001b[39mapply_standard\u001b[39m(\u001b[39mself\u001b[39m):\n\u001b[1;32m--> 276\u001b[0m     results, res_index \u001b[39m=\u001b[39m \u001b[39mself\u001b[39;49m\u001b[39m.\u001b[39;49mapply_series_generator()\n\u001b[0;32m    278\u001b[0m     \u001b[39m# wrap results\u001b[39;00m\n\u001b[0;32m    279\u001b[0m     \u001b[39mreturn\u001b[39;00m \u001b[39mself\u001b[39m\u001b[39m.\u001b[39mwrap_results(results, res_index)\n",
      "File \u001b[1;32mc:\\Users\\fpeloso\\Anaconda3\\envs\\dhdsblend2021\\lib\\site-packages\\pandas\\core\\apply.py:305\u001b[0m, in \u001b[0;36mFrameApply.apply_series_generator\u001b[1;34m(self)\u001b[0m\n\u001b[0;32m    302\u001b[0m \u001b[39mwith\u001b[39;00m option_context(\u001b[39m\"\u001b[39m\u001b[39mmode.chained_assignment\u001b[39m\u001b[39m\"\u001b[39m, \u001b[39mNone\u001b[39;00m):\n\u001b[0;32m    303\u001b[0m     \u001b[39mfor\u001b[39;00m i, v \u001b[39min\u001b[39;00m \u001b[39menumerate\u001b[39m(series_gen):\n\u001b[0;32m    304\u001b[0m         \u001b[39m# ignore SettingWithCopy here in case the user mutates\u001b[39;00m\n\u001b[1;32m--> 305\u001b[0m         results[i] \u001b[39m=\u001b[39m \u001b[39mself\u001b[39;49m\u001b[39m.\u001b[39;49mf(v)\n\u001b[0;32m    306\u001b[0m         \u001b[39mif\u001b[39;00m \u001b[39misinstance\u001b[39m(results[i], ABCSeries):\n\u001b[0;32m    307\u001b[0m             \u001b[39m# If we have a view on v, we need to make a copy because\u001b[39;00m\n\u001b[0;32m    308\u001b[0m             \u001b[39m#  series_generator will swap out the underlying data\u001b[39;00m\n\u001b[0;32m    309\u001b[0m             results[i] \u001b[39m=\u001b[39m results[i]\u001b[39m.\u001b[39mcopy(deep\u001b[39m=\u001b[39m\u001b[39mFalse\u001b[39;00m)\n",
      "\u001b[1;32mc:\\Users\\fpeloso\\Digital House\\TP 1 - Grupo 10\\Grupo 10\\DH-TP-1---Grupo-10\\TP FINAL\\Chess\\Main Borrador copy - Facu.ipynb Cell 95\u001b[0m in \u001b[0;36mGRAFICAS.<locals>.<lambda>\u001b[1;34m(x)\u001b[0m\n\u001b[0;32m     <a href='vscode-notebook-cell:/c%3A/Users/fpeloso/Digital%20House/TP%201%20-%20Grupo%2010/Grupo%2010/DH-TP-1---Grupo-10/TP%20FINAL/Chess/Main%20Borrador%20copy%20-%20Facu.ipynb#Y245sZmlsZQ%3D%3D?line=51'>52</a>\u001b[0m \u001b[39m# Un dataframe de errores:\u001b[39;00m\n\u001b[0;32m     <a href='vscode-notebook-cell:/c%3A/Users/fpeloso/Digital%20House/TP%201%20-%20Grupo%2010/Grupo%2010/DH-TP-1---Grupo-10/TP%20FINAL/Chess/Main%20Borrador%20copy%20-%20Facu.ipynb#Y245sZmlsZQ%3D%3D?line=52'>53</a>\u001b[0m errores \u001b[39m=\u001b[39m pd\u001b[39m.\u001b[39mDataFrame({\u001b[39m\"\u001b[39m\u001b[39my_test\u001b[39m\u001b[39m\"\u001b[39m:y_test[err], \u001b[39m\"\u001b[39m\u001b[39my_pred\u001b[39m\u001b[39m\"\u001b[39m:y_pred[err]})\n\u001b[1;32m---> <a href='vscode-notebook-cell:/c%3A/Users/fpeloso/Digital%20House/TP%201%20-%20Grupo%2010/Grupo%2010/DH-TP-1---Grupo-10/TP%20FINAL/Chess/Main%20Borrador%20copy%20-%20Facu.ipynb#Y245sZmlsZQ%3D%3D?line=53'>54</a>\u001b[0m errores[\u001b[39m\"\u001b[39m\u001b[39mfrecuencia\u001b[39m\u001b[39m\"\u001b[39m] \u001b[39m=\u001b[39m errores\u001b[39m.\u001b[39mapply(\u001b[39mlambda\u001b[39;00m x: c[x\u001b[39m.\u001b[39;49my_test,x\u001b[39m.\u001b[39;49my_pred] ,axis\u001b[39m=\u001b[39m\u001b[39m1\u001b[39m)\n\u001b[0;32m     <a href='vscode-notebook-cell:/c%3A/Users/fpeloso/Digital%20House/TP%201%20-%20Grupo%2010/Grupo%2010/DH-TP-1---Grupo-10/TP%20FINAL/Chess/Main%20Borrador%20copy%20-%20Facu.ipynb#Y245sZmlsZQ%3D%3D?line=54'>55</a>\u001b[0m errores \u001b[39m=\u001b[39m errores\u001b[39m.\u001b[39msort_values(by\u001b[39m=\u001b[39m[\u001b[39m\"\u001b[39m\u001b[39mfrecuencia\u001b[39m\u001b[39m\"\u001b[39m,\u001b[39m'\u001b[39m\u001b[39my_test\u001b[39m\u001b[39m'\u001b[39m, \u001b[39m'\u001b[39m\u001b[39my_pred\u001b[39m\u001b[39m'\u001b[39m],ascending\u001b[39m=\u001b[39m[\u001b[39mFalse\u001b[39;00m,\u001b[39mFalse\u001b[39;00m,\u001b[39mFalse\u001b[39;00m])\n\u001b[0;32m     <a href='vscode-notebook-cell:/c%3A/Users/fpeloso/Digital%20House/TP%201%20-%20Grupo%2010/Grupo%2010/DH-TP-1---Grupo-10/TP%20FINAL/Chess/Main%20Borrador%20copy%20-%20Facu.ipynb#Y245sZmlsZQ%3D%3D?line=56'>57</a>\u001b[0m \u001b[39mprint\u001b[39m(\u001b[39mf\u001b[39m\u001b[39m\"\u001b[39m\u001b[39m\\n\u001b[39;00m\u001b[39m\\n\u001b[39;00m\u001b[39mAquí se muestra la frecuencia de cada uno de los \u001b[39m\u001b[39m{\u001b[39;00merrores\u001b[39m.\u001b[39mshape[\u001b[39m0\u001b[39m]\u001b[39m}\u001b[39;00m\u001b[39m errores cometidos:\u001b[39m\u001b[39m\"\u001b[39m)\n",
      "\u001b[1;31mIndexError\u001b[0m: only integers, slices (`:`), ellipsis (`...`), numpy.newaxis (`None`) and integer or boolean arrays are valid indices"
     ]
    }
   ],
   "source": [
    "GRAFICAS(X_test, y_test, ypred_lr_test)"
   ]
  },
  {
   "cell_type": "code",
   "execution_count": 51,
   "metadata": {},
   "outputs": [
    {
     "data": {
      "text/plain": [
       "array([[24233,  7284,   978],\n",
       "       [ 9889, 17346,   845],\n",
       "       [ 6561,  4452,  1117]], dtype=int64)"
      ]
     },
     "execution_count": 51,
     "metadata": {},
     "output_type": "execute_result"
    }
   ],
   "source": [
    "metrics.confusion_matrix(y_train, ypred_lr_train)"
   ]
  },
  {
   "cell_type": "code",
   "execution_count": 52,
   "metadata": {},
   "outputs": [
    {
     "data": {
      "text/plain": [
       "0.5872498452651125"
      ]
     },
     "execution_count": 52,
     "metadata": {},
     "output_type": "execute_result"
    }
   ],
   "source": [
    "metrics.accuracy_score(y_train,ypred_lr_train)"
   ]
  },
  {
   "cell_type": "code",
   "execution_count": 53,
   "metadata": {},
   "outputs": [
    {
     "data": {
      "text/plain": [
       "0.5901964020465423"
      ]
     },
     "execution_count": 53,
     "metadata": {},
     "output_type": "execute_result"
    }
   ],
   "source": [
    "metrics.accuracy_score(y_test,ypred_lr_test)"
   ]
  },
  {
   "cell_type": "code",
   "execution_count": 54,
   "metadata": {},
   "outputs": [
    {
     "data": {
      "text/plain": [
       "0.48944386080110247"
      ]
     },
     "execution_count": 54,
     "metadata": {},
     "output_type": "execute_result"
    }
   ],
   "source": [
    "metrics.recall_score(y_test, ypred_lr_test, average='macro')"
   ]
  },
  {
   "cell_type": "code",
   "execution_count": 55,
   "metadata": {},
   "outputs": [
    {
     "data": {
      "text/plain": [
       "0.531289584340255"
      ]
     },
     "execution_count": 55,
     "metadata": {},
     "output_type": "execute_result"
    }
   ],
   "source": [
    "metrics.precision_score(y_test, ypred_lr_test, average='macro')"
   ]
  },
  {
   "cell_type": "code",
   "execution_count": 56,
   "metadata": {},
   "outputs": [
    {
     "data": {
      "text/plain": [
       "0.4787195664129642"
      ]
     },
     "execution_count": 56,
     "metadata": {},
     "output_type": "execute_result"
    }
   ],
   "source": [
    "metrics.f1_score(y_test, ypred_lr_test, average='macro')"
   ]
  },
  {
   "cell_type": "code",
   "execution_count": 57,
   "metadata": {},
   "outputs": [
    {
     "data": {
      "text/plain": [
       "array([[6082, 1779,  263],\n",
       "       [2471, 4337,  212],\n",
       "       [1667, 1057,  309]], dtype=int64)"
      ]
     },
     "execution_count": 57,
     "metadata": {},
     "output_type": "execute_result"
    }
   ],
   "source": [
    "metrics.confusion_matrix(y_test, ypred_lr_test)"
   ]
  },
  {
   "attachments": {},
   "cell_type": "markdown",
   "metadata": {},
   "source": [
    "Naive Bayes"
   ]
  },
  {
   "cell_type": "code",
   "execution_count": 58,
   "metadata": {},
   "outputs": [],
   "source": [
    "from sklearn.naive_bayes import GaussianNB\n",
    "\n",
    "gnb = GaussianNB()\n",
    "\n",
    "gnb.fit(X_train, y_train)\n",
    "\n",
    "\n",
    "ypred_gnb_train = gnb.predict(X_train)\n",
    "\n",
    "\n",
    "ypred_gnb_test = gnb.predict(X_test)"
   ]
  },
  {
   "cell_type": "code",
   "execution_count": 87,
   "metadata": {},
   "outputs": [
    {
     "data": {
      "image/png": "[encoded data removed]",
      "text/plain": [
       "<Figure size 400x400 with 2 Axes>"
      ]
     },
     "metadata": {},
     "output_type": "display_data"
    },
    {
     "name": "stdout",
     "output_type": "stream",
     "text": [
      "El accuracy global del modelo es 0.42482257798316553.\n",
      "\n",
      "\n",
      "Estos son los scores para cada resultado\n"
     ]
    },
    {
     "data": {
      "text/html": [
       "<div>\n",
       "<style scoped>\n",
       "    .dataframe tbody tr th:only-of-type {\n",
       "        vertical-align: middle;\n",
       "    }\n",
       "\n",
       "    .dataframe tbody tr th {\n",
       "        vertical-align: top;\n",
       "    }\n",
       "\n",
       "    .dataframe thead th {\n",
       "        text-align: right;\n",
       "    }\n",
       "</style>\n",
       "<table border=\"1\" class=\"dataframe\">\n",
       "  <thead>\n",
       "    <tr style=\"text-align: right;\">\n",
       "      <th>Resultado</th>\n",
       "      <th>0</th>\n",
       "      <th>1</th>\n",
       "      <th>2</th>\n",
       "    </tr>\n",
       "  </thead>\n",
       "  <tbody>\n",
       "    <tr>\n",
       "      <th>sensibilidad</th>\n",
       "      <td>0.146</td>\n",
       "      <td>0.792</td>\n",
       "      <td>0.322</td>\n",
       "    </tr>\n",
       "    <tr>\n",
       "      <th>precisión</th>\n",
       "      <td>0.602</td>\n",
       "      <td>0.430</td>\n",
       "      <td>0.298</td>\n",
       "    </tr>\n",
       "    <tr>\n",
       "      <th>f1</th>\n",
       "      <td>0.235</td>\n",
       "      <td>0.557</td>\n",
       "      <td>0.310</td>\n",
       "    </tr>\n",
       "  </tbody>\n",
       "</table>\n",
       "</div>"
      ],
      "text/plain": [
       "Resultado         0      1      2\n",
       "sensibilidad  0.146  0.792  0.322\n",
       "precisión     0.602  0.430  0.298\n",
       "f1            0.235  0.557  0.310"
      ]
     },
     "metadata": {},
     "output_type": "display_data"
    },
    {
     "data": {
      "image/png": "[encoded data removed]",
      "text/plain": [
       "<Figure size 635.125x500 with 1 Axes>"
      ]
     },
     "metadata": {},
     "output_type": "display_data"
    },
    {
     "name": "stdout",
     "output_type": "stream",
     "text": [
      "\n",
      "\n",
      "Estos son los errores de sensado (resultado mal identificado) y los errores de presición (resultado mal asignado):\n"
     ]
    },
    {
     "data": {
      "text/html": [
       "<div>\n",
       "<style scoped>\n",
       "    .dataframe tbody tr th:only-of-type {\n",
       "        vertical-align: middle;\n",
       "    }\n",
       "\n",
       "    .dataframe tbody tr th {\n",
       "        vertical-align: top;\n",
       "    }\n",
       "\n",
       "    .dataframe thead th {\n",
       "        text-align: right;\n",
       "    }\n",
       "</style>\n",
       "<table border=\"1\" class=\"dataframe\">\n",
       "  <thead>\n",
       "    <tr style=\"text-align: right;\">\n",
       "      <th>Resultado</th>\n",
       "      <th>0.0</th>\n",
       "      <th>1.0</th>\n",
       "      <th>2.0</th>\n",
       "      <th>Total</th>\n",
       "    </tr>\n",
       "  </thead>\n",
       "  <tbody>\n",
       "    <tr>\n",
       "      <th>Mal sensado</th>\n",
       "      <td>6939</td>\n",
       "      <td>1461</td>\n",
       "      <td>2055</td>\n",
       "      <td>10455</td>\n",
       "    </tr>\n",
       "    <tr>\n",
       "      <th>Mal predecido</th>\n",
       "      <td>782</td>\n",
       "      <td>7372</td>\n",
       "      <td>2301</td>\n",
       "      <td>10455</td>\n",
       "    </tr>\n",
       "  </tbody>\n",
       "</table>\n",
       "</div>"
      ],
      "text/plain": [
       "Resultado       0.0   1.0   2.0  Total\n",
       "Mal sensado    6939  1461  2055  10455\n",
       "Mal predecido   782  7372  2301  10455"
      ]
     },
     "metadata": {},
     "output_type": "display_data"
    },
    {
     "ename": "IndexError",
     "evalue": "only integers, slices (`:`), ellipsis (`...`), numpy.newaxis (`None`) and integer or boolean arrays are valid indices",
     "output_type": "error",
     "traceback": [
      "\u001b[1;31m---------------------------------------------------------------------------\u001b[0m",
      "\u001b[1;31mIndexError\u001b[0m                                Traceback (most recent call last)",
      "\u001b[1;32mc:\\Users\\fpeloso\\Digital House\\TP 1 - Grupo 10\\Grupo 10\\DH-TP-1---Grupo-10\\TP FINAL\\Chess\\Main Borrador copy - Facu.ipynb Cell 105\u001b[0m in \u001b[0;36m<cell line: 1>\u001b[1;34m()\u001b[0m\n\u001b[1;32m----> <a href='vscode-notebook-cell:/c%3A/Users/fpeloso/Digital%20House/TP%201%20-%20Grupo%2010/Grupo%2010/DH-TP-1---Grupo-10/TP%20FINAL/Chess/Main%20Borrador%20copy%20-%20Facu.ipynb#Y246sZmlsZQ%3D%3D?line=0'>1</a>\u001b[0m GRAFICAS(X_test, y_test, ypred_gnb_test)\n",
      "\u001b[1;32mc:\\Users\\fpeloso\\Digital House\\TP 1 - Grupo 10\\Grupo 10\\DH-TP-1---Grupo-10\\TP FINAL\\Chess\\Main Borrador copy - Facu.ipynb Cell 105\u001b[0m in \u001b[0;36mGRAFICAS\u001b[1;34m(X_test, y_test, y_pred)\u001b[0m\n\u001b[0;32m     <a href='vscode-notebook-cell:/c%3A/Users/fpeloso/Digital%20House/TP%201%20-%20Grupo%2010/Grupo%2010/DH-TP-1---Grupo-10/TP%20FINAL/Chess/Main%20Borrador%20copy%20-%20Facu.ipynb#Y246sZmlsZQ%3D%3D?line=51'>52</a>\u001b[0m \u001b[39m# Un dataframe de errores:\u001b[39;00m\n\u001b[0;32m     <a href='vscode-notebook-cell:/c%3A/Users/fpeloso/Digital%20House/TP%201%20-%20Grupo%2010/Grupo%2010/DH-TP-1---Grupo-10/TP%20FINAL/Chess/Main%20Borrador%20copy%20-%20Facu.ipynb#Y246sZmlsZQ%3D%3D?line=52'>53</a>\u001b[0m errores \u001b[39m=\u001b[39m pd\u001b[39m.\u001b[39mDataFrame({\u001b[39m\"\u001b[39m\u001b[39my_test\u001b[39m\u001b[39m\"\u001b[39m:y_test[err], \u001b[39m\"\u001b[39m\u001b[39my_pred\u001b[39m\u001b[39m\"\u001b[39m:y_pred[err]})\n\u001b[1;32m---> <a href='vscode-notebook-cell:/c%3A/Users/fpeloso/Digital%20House/TP%201%20-%20Grupo%2010/Grupo%2010/DH-TP-1---Grupo-10/TP%20FINAL/Chess/Main%20Borrador%20copy%20-%20Facu.ipynb#Y246sZmlsZQ%3D%3D?line=53'>54</a>\u001b[0m errores[\u001b[39m\"\u001b[39m\u001b[39mfrecuencia\u001b[39m\u001b[39m\"\u001b[39m] \u001b[39m=\u001b[39m errores\u001b[39m.\u001b[39;49mapply(\u001b[39mlambda\u001b[39;49;00m x: c[x\u001b[39m.\u001b[39;49my_test,x\u001b[39m.\u001b[39;49my_pred] ,axis\u001b[39m=\u001b[39;49m\u001b[39m1\u001b[39;49m)\n\u001b[0;32m     <a href='vscode-notebook-cell:/c%3A/Users/fpeloso/Digital%20House/TP%201%20-%20Grupo%2010/Grupo%2010/DH-TP-1---Grupo-10/TP%20FINAL/Chess/Main%20Borrador%20copy%20-%20Facu.ipynb#Y246sZmlsZQ%3D%3D?line=54'>55</a>\u001b[0m errores \u001b[39m=\u001b[39m errores\u001b[39m.\u001b[39msort_values(by\u001b[39m=\u001b[39m[\u001b[39m\"\u001b[39m\u001b[39mfrecuencia\u001b[39m\u001b[39m\"\u001b[39m,\u001b[39m'\u001b[39m\u001b[39my_test\u001b[39m\u001b[39m'\u001b[39m, \u001b[39m'\u001b[39m\u001b[39my_pred\u001b[39m\u001b[39m'\u001b[39m],ascending\u001b[39m=\u001b[39m[\u001b[39mFalse\u001b[39;00m,\u001b[39mFalse\u001b[39;00m,\u001b[39mFalse\u001b[39;00m])\n\u001b[0;32m     <a href='vscode-notebook-cell:/c%3A/Users/fpeloso/Digital%20House/TP%201%20-%20Grupo%2010/Grupo%2010/DH-TP-1---Grupo-10/TP%20FINAL/Chess/Main%20Borrador%20copy%20-%20Facu.ipynb#Y246sZmlsZQ%3D%3D?line=56'>57</a>\u001b[0m \u001b[39mprint\u001b[39m(\u001b[39mf\u001b[39m\u001b[39m\"\u001b[39m\u001b[39m\\n\u001b[39;00m\u001b[39m\\n\u001b[39;00m\u001b[39mAquí se muestra la frecuencia de cada uno de los \u001b[39m\u001b[39m{\u001b[39;00merrores\u001b[39m.\u001b[39mshape[\u001b[39m0\u001b[39m]\u001b[39m}\u001b[39;00m\u001b[39m errores cometidos:\u001b[39m\u001b[39m\"\u001b[39m)\n",
      "File \u001b[1;32mc:\\Users\\fpeloso\\Anaconda3\\envs\\dhdsblend2021\\lib\\site-packages\\pandas\\core\\frame.py:7552\u001b[0m, in \u001b[0;36mDataFrame.apply\u001b[1;34m(self, func, axis, raw, result_type, args, **kwds)\u001b[0m\n\u001b[0;32m   7541\u001b[0m \u001b[39mfrom\u001b[39;00m \u001b[39mpandas\u001b[39;00m\u001b[39m.\u001b[39;00m\u001b[39mcore\u001b[39;00m\u001b[39m.\u001b[39;00m\u001b[39mapply\u001b[39;00m \u001b[39mimport\u001b[39;00m frame_apply\n\u001b[0;32m   7543\u001b[0m op \u001b[39m=\u001b[39m frame_apply(\n\u001b[0;32m   7544\u001b[0m     \u001b[39mself\u001b[39m,\n\u001b[0;32m   7545\u001b[0m     func\u001b[39m=\u001b[39mfunc,\n\u001b[1;32m   (...)\u001b[0m\n\u001b[0;32m   7550\u001b[0m     kwds\u001b[39m=\u001b[39mkwds,\n\u001b[0;32m   7551\u001b[0m )\n\u001b[1;32m-> 7552\u001b[0m \u001b[39mreturn\u001b[39;00m op\u001b[39m.\u001b[39;49mget_result()\n",
      "File \u001b[1;32mc:\\Users\\fpeloso\\Anaconda3\\envs\\dhdsblend2021\\lib\\site-packages\\pandas\\core\\apply.py:185\u001b[0m, in \u001b[0;36mFrameApply.get_result\u001b[1;34m(self)\u001b[0m\n\u001b[0;32m    182\u001b[0m \u001b[39melif\u001b[39;00m \u001b[39mself\u001b[39m\u001b[39m.\u001b[39mraw:\n\u001b[0;32m    183\u001b[0m     \u001b[39mreturn\u001b[39;00m \u001b[39mself\u001b[39m\u001b[39m.\u001b[39mapply_raw()\n\u001b[1;32m--> 185\u001b[0m \u001b[39mreturn\u001b[39;00m \u001b[39mself\u001b[39;49m\u001b[39m.\u001b[39;49mapply_standard()\n",
      "File \u001b[1;32mc:\\Users\\fpeloso\\Anaconda3\\envs\\dhdsblend2021\\lib\\site-packages\\pandas\\core\\apply.py:276\u001b[0m, in \u001b[0;36mFrameApply.apply_standard\u001b[1;34m(self)\u001b[0m\n\u001b[0;32m    275\u001b[0m \u001b[39mdef\u001b[39;00m \u001b[39mapply_standard\u001b[39m(\u001b[39mself\u001b[39m):\n\u001b[1;32m--> 276\u001b[0m     results, res_index \u001b[39m=\u001b[39m \u001b[39mself\u001b[39;49m\u001b[39m.\u001b[39;49mapply_series_generator()\n\u001b[0;32m    278\u001b[0m     \u001b[39m# wrap results\u001b[39;00m\n\u001b[0;32m    279\u001b[0m     \u001b[39mreturn\u001b[39;00m \u001b[39mself\u001b[39m\u001b[39m.\u001b[39mwrap_results(results, res_index)\n",
      "File \u001b[1;32mc:\\Users\\fpeloso\\Anaconda3\\envs\\dhdsblend2021\\lib\\site-packages\\pandas\\core\\apply.py:305\u001b[0m, in \u001b[0;36mFrameApply.apply_series_generator\u001b[1;34m(self)\u001b[0m\n\u001b[0;32m    302\u001b[0m \u001b[39mwith\u001b[39;00m option_context(\u001b[39m\"\u001b[39m\u001b[39mmode.chained_assignment\u001b[39m\u001b[39m\"\u001b[39m, \u001b[39mNone\u001b[39;00m):\n\u001b[0;32m    303\u001b[0m     \u001b[39mfor\u001b[39;00m i, v \u001b[39min\u001b[39;00m \u001b[39menumerate\u001b[39m(series_gen):\n\u001b[0;32m    304\u001b[0m         \u001b[39m# ignore SettingWithCopy here in case the user mutates\u001b[39;00m\n\u001b[1;32m--> 305\u001b[0m         results[i] \u001b[39m=\u001b[39m \u001b[39mself\u001b[39;49m\u001b[39m.\u001b[39;49mf(v)\n\u001b[0;32m    306\u001b[0m         \u001b[39mif\u001b[39;00m \u001b[39misinstance\u001b[39m(results[i], ABCSeries):\n\u001b[0;32m    307\u001b[0m             \u001b[39m# If we have a view on v, we need to make a copy because\u001b[39;00m\n\u001b[0;32m    308\u001b[0m             \u001b[39m#  series_generator will swap out the underlying data\u001b[39;00m\n\u001b[0;32m    309\u001b[0m             results[i] \u001b[39m=\u001b[39m results[i]\u001b[39m.\u001b[39mcopy(deep\u001b[39m=\u001b[39m\u001b[39mFalse\u001b[39;00m)\n",
      "\u001b[1;32mc:\\Users\\fpeloso\\Digital House\\TP 1 - Grupo 10\\Grupo 10\\DH-TP-1---Grupo-10\\TP FINAL\\Chess\\Main Borrador copy - Facu.ipynb Cell 105\u001b[0m in \u001b[0;36mGRAFICAS.<locals>.<lambda>\u001b[1;34m(x)\u001b[0m\n\u001b[0;32m     <a href='vscode-notebook-cell:/c%3A/Users/fpeloso/Digital%20House/TP%201%20-%20Grupo%2010/Grupo%2010/DH-TP-1---Grupo-10/TP%20FINAL/Chess/Main%20Borrador%20copy%20-%20Facu.ipynb#Y246sZmlsZQ%3D%3D?line=51'>52</a>\u001b[0m \u001b[39m# Un dataframe de errores:\u001b[39;00m\n\u001b[0;32m     <a href='vscode-notebook-cell:/c%3A/Users/fpeloso/Digital%20House/TP%201%20-%20Grupo%2010/Grupo%2010/DH-TP-1---Grupo-10/TP%20FINAL/Chess/Main%20Borrador%20copy%20-%20Facu.ipynb#Y246sZmlsZQ%3D%3D?line=52'>53</a>\u001b[0m errores \u001b[39m=\u001b[39m pd\u001b[39m.\u001b[39mDataFrame({\u001b[39m\"\u001b[39m\u001b[39my_test\u001b[39m\u001b[39m\"\u001b[39m:y_test[err], \u001b[39m\"\u001b[39m\u001b[39my_pred\u001b[39m\u001b[39m\"\u001b[39m:y_pred[err]})\n\u001b[1;32m---> <a href='vscode-notebook-cell:/c%3A/Users/fpeloso/Digital%20House/TP%201%20-%20Grupo%2010/Grupo%2010/DH-TP-1---Grupo-10/TP%20FINAL/Chess/Main%20Borrador%20copy%20-%20Facu.ipynb#Y246sZmlsZQ%3D%3D?line=53'>54</a>\u001b[0m errores[\u001b[39m\"\u001b[39m\u001b[39mfrecuencia\u001b[39m\u001b[39m\"\u001b[39m] \u001b[39m=\u001b[39m errores\u001b[39m.\u001b[39mapply(\u001b[39mlambda\u001b[39;00m x: c[x\u001b[39m.\u001b[39;49my_test,x\u001b[39m.\u001b[39;49my_pred] ,axis\u001b[39m=\u001b[39m\u001b[39m1\u001b[39m)\n\u001b[0;32m     <a href='vscode-notebook-cell:/c%3A/Users/fpeloso/Digital%20House/TP%201%20-%20Grupo%2010/Grupo%2010/DH-TP-1---Grupo-10/TP%20FINAL/Chess/Main%20Borrador%20copy%20-%20Facu.ipynb#Y246sZmlsZQ%3D%3D?line=54'>55</a>\u001b[0m errores \u001b[39m=\u001b[39m errores\u001b[39m.\u001b[39msort_values(by\u001b[39m=\u001b[39m[\u001b[39m\"\u001b[39m\u001b[39mfrecuencia\u001b[39m\u001b[39m\"\u001b[39m,\u001b[39m'\u001b[39m\u001b[39my_test\u001b[39m\u001b[39m'\u001b[39m, \u001b[39m'\u001b[39m\u001b[39my_pred\u001b[39m\u001b[39m'\u001b[39m],ascending\u001b[39m=\u001b[39m[\u001b[39mFalse\u001b[39;00m,\u001b[39mFalse\u001b[39;00m,\u001b[39mFalse\u001b[39;00m])\n\u001b[0;32m     <a href='vscode-notebook-cell:/c%3A/Users/fpeloso/Digital%20House/TP%201%20-%20Grupo%2010/Grupo%2010/DH-TP-1---Grupo-10/TP%20FINAL/Chess/Main%20Borrador%20copy%20-%20Facu.ipynb#Y246sZmlsZQ%3D%3D?line=56'>57</a>\u001b[0m \u001b[39mprint\u001b[39m(\u001b[39mf\u001b[39m\u001b[39m\"\u001b[39m\u001b[39m\\n\u001b[39;00m\u001b[39m\\n\u001b[39;00m\u001b[39mAquí se muestra la frecuencia de cada uno de los \u001b[39m\u001b[39m{\u001b[39;00merrores\u001b[39m.\u001b[39mshape[\u001b[39m0\u001b[39m]\u001b[39m}\u001b[39;00m\u001b[39m errores cometidos:\u001b[39m\u001b[39m\"\u001b[39m)\n",
      "\u001b[1;31mIndexError\u001b[0m: only integers, slices (`:`), ellipsis (`...`), numpy.newaxis (`None`) and integer or boolean arrays are valid indices"
     ]
    }
   ],
   "source": [
    "GRAFICAS(X_test, y_test, ypred_gnb_test)"
   ]
  },
  {
   "cell_type": "code",
   "execution_count": 59,
   "metadata": {},
   "outputs": [
    {
     "data": {
      "text/plain": [
       "array([[ 4966, 22318,  5211],\n",
       "       [ 1842, 22153,  4085],\n",
       "       [ 1206,  6898,  4026]], dtype=int64)"
      ]
     },
     "execution_count": 59,
     "metadata": {},
     "output_type": "execute_result"
    }
   ],
   "source": [
    "metrics.confusion_matrix(y_train, ypred_gnb_train)"
   ]
  },
  {
   "cell_type": "code",
   "execution_count": 60,
   "metadata": {},
   "outputs": [
    {
     "data": {
      "text/plain": [
       "array([[1185, 5611, 1328],\n",
       "       [ 488, 5559,  973],\n",
       "       [ 294, 1761,  978]], dtype=int64)"
      ]
     },
     "execution_count": 60,
     "metadata": {},
     "output_type": "execute_result"
    }
   ],
   "source": [
    "metrics.confusion_matrix(y_test, ypred_gnb_test)"
   ]
  },
  {
   "cell_type": "code",
   "execution_count": 61,
   "metadata": {},
   "outputs": [
    {
     "name": "stdout",
     "output_type": "stream",
     "text": [
      "acuracy 0.42482257798316553\n",
      "recall 0.42006582168230916\n",
      "precision 0.44353302529872485\n",
      "f1 0.36733799350938057\n"
     ]
    }
   ],
   "source": [
    "print('acuracy', metrics.accuracy_score(y_test,ypred_gnb_test))\n",
    "print('recall',metrics.recall_score(y_test, ypred_gnb_test, average='macro'))\n",
    "print('precision',metrics.precision_score(y_test, ypred_gnb_test, average='macro'))\n",
    "print('f1',metrics.f1_score(y_test, ypred_gnb_test, average='macro'))"
   ]
  },
  {
   "attachments": {},
   "cell_type": "markdown",
   "metadata": {},
   "source": [
    "### Knn"
   ]
  },
  {
   "cell_type": "code",
   "execution_count": 62,
   "metadata": {},
   "outputs": [
    {
     "name": "stdout",
     "output_type": "stream",
     "text": [
      "Fitting 3 folds for each of 14 candidates, totalling 42 fits\n"
     ]
    },
    {
     "name": "stderr",
     "output_type": "stream",
     "text": [
      "[Parallel(n_jobs=-1)]: Using backend LokyBackend with 4 concurrent workers.\n",
      "[Parallel(n_jobs=-1)]: Done  42 out of  42 | elapsed:  5.2min finished\n"
     ]
    },
    {
     "data": {
      "text/plain": [
       "GridSearchCV(cv=3, estimator=KNeighborsClassifier(), n_jobs=-1,\n",
       "             param_grid={'n_neighbors': [1, 2, 3, 4, 5, 6, 7, 8, 9, 10, 11, 12,\n",
       "                                         13, 14]},\n",
       "             verbose=1)"
      ]
     },
     "execution_count": 62,
     "metadata": {},
     "output_type": "execute_result"
    }
   ],
   "source": [
    "from sklearn.neighbors import KNeighborsClassifier\n",
    "\n",
    "knn = KNeighborsClassifier()\n",
    "\n",
    "# Hyperparametros\n",
    "parameters_knn = {\"n_neighbors\" : list(range(1, 15))}\n",
    "\n",
    "clf_knn = GridSearchCV(knn, \n",
    "                   param_grid = parameters_knn, \n",
    "                   refit = True, \n",
    "                   cv = 3,\n",
    "                   verbose=1,\n",
    "                   n_jobs = -1)\n",
    "                   \n",
    "\n",
    "# Fit el modelo ya seleccionado\n",
    "clf_knn.fit(X_train, y_train)"
   ]
  },
  {
   "cell_type": "code",
   "execution_count": 63,
   "metadata": {},
   "outputs": [
    {
     "name": "stdout",
     "output_type": "stream",
     "text": [
      "Los mejores parametros fueron {'n_neighbors': 14} con un score de 0.57\n"
     ]
    }
   ],
   "source": [
    "print(\"Los mejores parametros fueron %s con un score de %0.2f\" % (clf_knn.best_params_, clf_knn.best_score_))"
   ]
  },
  {
   "cell_type": "code",
   "execution_count": 64,
   "metadata": {},
   "outputs": [],
   "source": [
    "ypred_knn_train = clf_knn.predict(X_train)\n",
    "ypred_knn_test = clf_knn.predict(X_test)"
   ]
  },
  {
   "cell_type": "code",
   "execution_count": 65,
   "metadata": {},
   "outputs": [
    {
     "name": "stdout",
     "output_type": "stream",
     "text": [
      "acuracy 0.5733619409143423\n",
      "recall 0.48114611039768135\n",
      "precision 0.5168117211065445\n",
      "f1 0.47521457273310563\n"
     ]
    }
   ],
   "source": [
    "print('acuracy', metrics.accuracy_score(y_test,ypred_knn_test))\n",
    "print('recall',metrics.recall_score(y_test, ypred_knn_test, average='macro'))\n",
    "print('precision',metrics.precision_score(y_test, ypred_knn_test, average='macro'))\n",
    "print('f1',metrics.f1_score(y_test, ypred_knn_test, average='macro'))"
   ]
  },
  {
   "cell_type": "code",
   "execution_count": 66,
   "metadata": {},
   "outputs": [
    {
     "name": "stdout",
     "output_type": "stream",
     "text": [
      "resultados de train\n",
      "0.5873186163262499\n",
      "[[24009  8235   251]\n",
      " [ 9966 17888   226]\n",
      " [ 6815  4511   804]]\n",
      "resultados de test\n",
      "0.5857952357374704\n",
      "[[5994 2073   57]\n",
      " [2499 4457   64]\n",
      " [1735 1101  197]]\n"
     ]
    }
   ],
   "source": [
    "tree_model = tree.DecisionTreeClassifier(min_samples_leaf=20, max_depth=6, random_state=50)\n",
    "tree_model.fit(X_train, y_train)\n",
    "\n",
    "y_train_tree_predict = tree_model.predict(X_train)\n",
    "y_test_tree_predict = tree_model.predict(X_test)\n",
    "\n",
    "print('resultados de train')\n",
    "print(accuracy_score(y_train, y_train_tree_predict))\n",
    "print(confusion_matrix(y_train, y_train_tree_predict))\n",
    "\n",
    "print('resultados de test')\n",
    "print(accuracy_score(y_test, y_test_tree_predict))\n",
    "print(confusion_matrix(y_test, y_test_tree_predict))"
   ]
  },
  {
   "cell_type": "code",
   "execution_count": 67,
   "metadata": {},
   "outputs": [
    {
     "name": "stdout",
     "output_type": "stream",
     "text": [
      "0.9993948146619902\n",
      "[[32479    11     5]\n",
      " [   11 28066     3]\n",
      " [    9     5 12116]]\n",
      "0.5718215327061671\n",
      "[[5481 2118  525]\n",
      " [2312 4224  484]\n",
      " [1327 1017  689]]\n"
     ]
    }
   ],
   "source": [
    "from sklearn.ensemble import BaggingClassifier\n",
    "\n",
    "bagging_tree = tree.DecisionTreeClassifier()\n",
    "bagging_clf = BaggingClassifier(base_estimator=bagging_tree, n_estimators=100,\n",
    "                                bootstrap=True, n_jobs=1, random_state=50)\n",
    "bagging_clf.fit(X_train, y_train)\n",
    "\n",
    "print(accuracy_score(y_train, bagging_clf.predict(X_train)))\n",
    "print(confusion_matrix(y_train, bagging_clf.predict(X_train)))\n",
    "\n",
    "print(accuracy_score(y_test, bagging_clf.predict(X_test)))\n",
    "print(confusion_matrix(y_test, bagging_clf.predict(X_test)))"
   ]
  },
  {
   "cell_type": "code",
   "execution_count": 68,
   "metadata": {},
   "outputs": [],
   "source": [
    "from xgboost.sklearn import XGBClassifier\n",
    "model_xg = XGBClassifier(n_jobs=-1, use_label_encoder=False)"
   ]
  },
  {
   "cell_type": "code",
   "execution_count": 69,
   "metadata": {},
   "outputs": [],
   "source": [
    "from sklearn.model_selection import GridSearchCV\n",
    "params = {  \n",
    "    \"n_estimators\": [20,50,500],      # Number of boosted trees to fit.\n",
    "    \"max_depth\": [1,2,3,4],            # Maximum tree depth for base learners.\n",
    "    \"learning_rate\": [0.01, 0.1],      # Boosting learning rate (xgb’s “eta”)\n",
    "}"
   ]
  },
  {
   "cell_type": "code",
   "execution_count": 70,
   "metadata": {},
   "outputs": [],
   "source": [
    "from sklearn.model_selection import cross_val_score, StratifiedKFold\n",
    "cv = StratifiedKFold(n_splits=5, random_state=41, shuffle=True)"
   ]
  },
  {
   "cell_type": "code",
   "execution_count": 71,
   "metadata": {},
   "outputs": [],
   "source": [
    "xgb = GridSearchCV(model_xg, param_grid=params, cv=cv, verbose=1, n_jobs=-1)"
   ]
  },
  {
   "cell_type": "code",
   "execution_count": 72,
   "metadata": {},
   "outputs": [
    {
     "name": "stdout",
     "output_type": "stream",
     "text": [
      "Fitting 5 folds for each of 24 candidates, totalling 120 fits\n"
     ]
    },
    {
     "name": "stderr",
     "output_type": "stream",
     "text": [
      "[Parallel(n_jobs=-1)]: Using backend LokyBackend with 4 concurrent workers.\n",
      "[Parallel(n_jobs=-1)]: Done  42 tasks      | elapsed: 48.8min\n",
      "[Parallel(n_jobs=-1)]: Done 120 out of 120 | elapsed: 162.3min finished\n"
     ]
    },
    {
     "name": "stdout",
     "output_type": "stream",
     "text": [
      "[10:06:22] WARNING: ..\\src\\learner.cc:1095: Starting in XGBoost 1.3.0, the default evaluation metric used with the objective 'multi:softprob' was changed from 'merror' to 'mlogloss'. Explicitly set eval_metric if you'd like to restore the old behavior.\n"
     ]
    },
    {
     "data": {
      "text/plain": [
       "GridSearchCV(cv=StratifiedKFold(n_splits=5, random_state=41, shuffle=True),\n",
       "             estimator=XGBClassifier(base_score=None, booster=None,\n",
       "                                     colsample_bylevel=None,\n",
       "                                     colsample_bynode=None,\n",
       "                                     colsample_bytree=None, gamma=None,\n",
       "                                     gpu_id=None, importance_type='gain',\n",
       "                                     interaction_constraints=None,\n",
       "                                     learning_rate=None, max_delta_step=None,\n",
       "                                     max_depth=None, min_child_weight=None,\n",
       "                                     missin...otone_constraints=None,\n",
       "                                     n_estimators=100, n_jobs=-1,\n",
       "                                     num_parallel_tree=None, random_state=None,\n",
       "                                     reg_alpha=None, reg_lambda=None,\n",
       "                                     scale_pos_weight=None, subsample=None,\n",
       "                                     tree_method=None, use_label_encoder=False,\n",
       "                                     validate_parameters=None, verbosity=None),\n",
       "             n_jobs=-1,\n",
       "             param_grid={'learning_rate': [0.01, 0.1],\n",
       "                         'max_depth': [1, 2, 3, 4],\n",
       "                         'n_estimators': [20, 50, 500]},\n",
       "             verbose=1)"
      ]
     },
     "execution_count": 72,
     "metadata": {},
     "output_type": "execute_result"
    }
   ],
   "source": [
    "xgb.fit(X_train,y_train)"
   ]
  },
  {
   "cell_type": "code",
   "execution_count": 73,
   "metadata": {},
   "outputs": [
    {
     "data": {
      "text/plain": [
       "{'learning_rate': 0.1, 'max_depth': 2, 'n_estimators': 500}"
      ]
     },
     "execution_count": 73,
     "metadata": {},
     "output_type": "execute_result"
    }
   ],
   "source": [
    "xgb.best_params_"
   ]
  },
  {
   "cell_type": "code",
   "execution_count": 74,
   "metadata": {},
   "outputs": [],
   "source": [
    "def evaluar_rendimiento(modelo, nombre, X, y, cv):\n",
    "    s = cross_val_score(modelo, X, y, cv=cv, n_jobs=-1)\n",
    "    print(\"Rendimiento de {}:\\t{:0.3} ± {:0.3}\".format( \\\n",
    "        nombre, s.mean().round(3), s.std().round(3)))"
   ]
  },
  {
   "cell_type": "code",
   "execution_count": 75,
   "metadata": {},
   "outputs": [
    {
     "name": "stdout",
     "output_type": "stream",
     "text": [
      "Rendimiento de XG Boost:\t0.6 ± 0.003\n"
     ]
    }
   ],
   "source": [
    "evaluar_rendimiento(xgb.best_estimator_,\"XG Boost\", X_train, y_train, cv)"
   ]
  },
  {
   "cell_type": "code",
   "execution_count": 76,
   "metadata": {},
   "outputs": [],
   "source": [
    "import warnings\n",
    "warnings.filterwarnings(action='ignore', category=UserWarning)"
   ]
  },
  {
   "cell_type": "code",
   "execution_count": 77,
   "metadata": {},
   "outputs": [
    {
     "name": "stdout",
     "output_type": "stream",
     "text": [
      "0.6018594927655829\n",
      "[[5929 1910  285]\n",
      " [2286 4482  252]\n",
      " [1446 1058  529]]\n"
     ]
    }
   ],
   "source": [
    "print(accuracy_score(y_test, xgb.best_estimator_.predict(X_test)))\n",
    "print(confusion_matrix(y_test, xgb.best_estimator_.predict(X_test)))"
   ]
  },
  {
   "attachments": {},
   "cell_type": "markdown",
   "metadata": {},
   "source": [
    "# 6. Almacenamos modelos entrenados en Shelve"
   ]
  },
  {
   "cell_type": "code",
   "execution_count": 79,
   "metadata": {},
   "outputs": [],
   "source": [
    "models = shelve.open('modelos.db')\n",
    "\n",
    "models['reg_log']=lr\n",
    "models['gaussian']=gnb\n",
    "models['knn']=clf_knn\n",
    "models['arbol']=tree_model\n",
    "models['bagging_arbol']=bagging_clf\n",
    "models['xgboosted']=xgb\n",
    "\n",
    "\n",
    "models.close()"
   ]
  }
 ],
 "metadata": {
  "kernelspec": {
   "display_name": "dhdsblend2021",
   "language": "python",
   "name": "python3"
  },
  "language_info": {
   "codemirror_mode": {
    "name": "ipython",
    "version": 3
   },
   "file_extension": ".py",
   "mimetype": "text/x-python",
   "name": "python",
   "nbconvert_exporter": "python",
   "pygments_lexer": "ipython3",
   "version": "3.8.13"
  },
  "orig_nbformat": 4,
  "vscode": {
   "interpreter": {
    "hash": "b43af2114f43bcf982d0b53b081e4c6c708721cc588721c6f40c2d9852c4cd7b"
   }
  }
 },
 "nbformat": 4,
 "nbformat_minor": 2
}
