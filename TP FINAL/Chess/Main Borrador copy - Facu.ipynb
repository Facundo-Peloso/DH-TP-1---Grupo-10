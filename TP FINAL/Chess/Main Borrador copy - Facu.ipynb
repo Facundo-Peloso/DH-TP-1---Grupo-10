{
 "cells": [
  {
   "attachments": {},
   "cell_type": "markdown",
   "metadata": {},
   "source": [
    "# Trabajo Práctico Final\n",
    "\n",
    "# Grupo 10\n",
    "### Integrantes:\n",
    "- Facundo Peloso\n",
    "- Eduardo Barbas\n",
    "- Roberto Biancardi \n",
    "- Juan Pablo Anselmo \n",
    "\n",
    "El objetivo de este trabajo práctico es implementar un modelo que pueda predecir el resultado de una partida de ajedrez.\n",
    "\n",
    "Para ello utilizaremos un dataset proporcionado por el sitio Chess.com donde están registradas casi dos millones de partidas desde el 2010 en adelante.\n",
    "\n",
    "Estos datos describen características de los juegos como: \n",
    "\n",
    "La variable target elegida es el \"Resultado\" de la partida."
   ]
  },
  {
   "attachments": {},
   "cell_type": "markdown",
   "metadata": {},
   "source": [
    "## 0. Importación de Módulos y Librerías"
   ]
  },
  {
   "cell_type": "code",
   "execution_count": 1,
   "metadata": {},
   "outputs": [],
   "source": [
    "#Importacion de librerias/módulos\n",
    "import numpy as np\n",
    "import pandas as pd\n",
    "pd.set_option(\"display.max_columns\", None)\n",
    "import matplotlib.pyplot as plt\n",
    "%matplotlib inline\n",
    "import seaborn as sns\n",
    "sns.set(style=\"darkgrid\")\n",
    "\n",
    "from sklearn.model_selection import train_test_split\n",
    "from sklearn.model_selection import GridSearchCV\n",
    "from sklearn.model_selection import StratifiedKFold\n",
    "from sklearn.model_selection import KFold\n",
    "from sklearn.model_selection import cross_val_score\n",
    "from sklearn.preprocessing import StandardScaler\n",
    "from sklearn.linear_model import LinearRegression\n",
    "from sklearn.naive_bayes import GaussianNB\n",
    "from sklearn.metrics import accuracy_score\n",
    "from sklearn.metrics import confusion_matrix\n",
    "from sklearn.metrics import mean_squared_error\n",
    "from sklearn.neighbors import KNeighborsClassifier\n",
    "import statsmodels.api as sm\n",
    "from statsmodels.tools import eval_measures\n",
    "from sklearn.ensemble import RandomForestRegressor\n",
    "from sklearn.ensemble import ExtraTreesRegressor\n",
    "from sklearn import linear_model\n",
    "from sklearn import metrics\n",
    "from sklearn import tree\n",
    "from sklearn.pipeline import Pipeline"
   ]
  },
  {
   "attachments": {},
   "cell_type": "markdown",
   "metadata": {},
   "source": [
    "## 1. Lectura de Datos y Visualización"
   ]
  },
  {
   "cell_type": "code",
   "execution_count": 2,
   "metadata": {},
   "outputs": [
    {
     "name": "stderr",
     "output_type": "stream",
     "text": [
      "c:\\Users\\fpeloso\\Anaconda3\\envs\\dhdsblend2021\\lib\\site-packages\\IPython\\core\\interactiveshell.py:3135: DtypeWarning: Columns (10,13,14,23,25) have mixed types.Specify dtype option on import or set low_memory=False.\n",
      "  has_raised = await self.run_ast_nodes(code_ast.body, cell_name,\n",
      "c:\\Users\\fpeloso\\Anaconda3\\envs\\dhdsblend2021\\lib\\site-packages\\numpy\\lib\\arraysetops.py:580: FutureWarning: elementwise comparison failed; returning scalar instead, but in the future will perform elementwise comparison\n",
      "  mask |= (ar1 == a)\n"
     ]
    }
   ],
   "source": [
    "#Establezco la dirección del archivo\n",
    "file_location=\"twic_master.csv\"\n",
    "\n",
    "#Leo el data set usando la librería pandas y se almacena en el objeto Dataframe llamado datos_crudos  \n",
    "datos_crudos=pd.read_csv(file_location, index_col=0)"
   ]
  },
  {
   "cell_type": "code",
   "execution_count": 3,
   "metadata": {},
   "outputs": [
    {
     "data": {
      "text/html": [
       "<div>\n",
       "<style scoped>\n",
       "    .dataframe tbody tr th:only-of-type {\n",
       "        vertical-align: middle;\n",
       "    }\n",
       "\n",
       "    .dataframe tbody tr th {\n",
       "        vertical-align: top;\n",
       "    }\n",
       "\n",
       "    .dataframe thead th {\n",
       "        text-align: right;\n",
       "    }\n",
       "</style>\n",
       "<table border=\"1\" class=\"dataframe\">\n",
       "  <thead>\n",
       "    <tr style=\"text-align: right;\">\n",
       "      <th></th>\n",
       "      <th>White</th>\n",
       "      <th>Black</th>\n",
       "      <th>Date</th>\n",
       "      <th>EventDate</th>\n",
       "      <th>Event</th>\n",
       "      <th>Result</th>\n",
       "      <th>mainline_moves</th>\n",
       "      <th>Site</th>\n",
       "      <th>Online</th>\n",
       "      <th>Round</th>\n",
       "      <th>ECO</th>\n",
       "      <th>Opening</th>\n",
       "      <th>WhiteFideId</th>\n",
       "      <th>BlackFideId</th>\n",
       "      <th>WhiteElo</th>\n",
       "      <th>BlackElo</th>\n",
       "      <th>Variation</th>\n",
       "      <th>WhiteTitle</th>\n",
       "      <th>BlackTitle</th>\n",
       "      <th>WhiteTeam</th>\n",
       "      <th>BlackTeam</th>\n",
       "      <th>EventType</th>\n",
       "      <th>FEN</th>\n",
       "      <th>SetUp</th>\n",
       "      <th>Variant</th>\n",
       "      <th>Board</th>\n",
       "      <th>PlyCount</th>\n",
       "      <th>EventCategory</th>\n",
       "    </tr>\n",
       "    <tr>\n",
       "      <th>twic_number</th>\n",
       "      <th></th>\n",
       "      <th></th>\n",
       "      <th></th>\n",
       "      <th></th>\n",
       "      <th></th>\n",
       "      <th></th>\n",
       "      <th></th>\n",
       "      <th></th>\n",
       "      <th></th>\n",
       "      <th></th>\n",
       "      <th></th>\n",
       "      <th></th>\n",
       "      <th></th>\n",
       "      <th></th>\n",
       "      <th></th>\n",
       "      <th></th>\n",
       "      <th></th>\n",
       "      <th></th>\n",
       "      <th></th>\n",
       "      <th></th>\n",
       "      <th></th>\n",
       "      <th></th>\n",
       "      <th></th>\n",
       "      <th></th>\n",
       "      <th></th>\n",
       "      <th></th>\n",
       "      <th></th>\n",
       "      <th></th>\n",
       "    </tr>\n",
       "  </thead>\n",
       "  <tbody>\n",
       "    <tr>\n",
       "      <th>1260</th>\n",
       "      <td>Tukhaev,A</td>\n",
       "      <td>Carlsen,M</td>\n",
       "      <td>2018-12-26</td>\n",
       "      <td>2018.12.26</td>\n",
       "      <td>World Rapid 2018</td>\n",
       "      <td>1-0</td>\n",
       "      <td>1. e4 c5 2. Nf3 Nc6 3. d4 cxd4 4. Nxd4 Nf6 5. ...</td>\n",
       "      <td>St Petersburg RUS</td>\n",
       "      <td>False</td>\n",
       "      <td>1.1</td>\n",
       "      <td>B33</td>\n",
       "      <td>Sicilian</td>\n",
       "      <td>1.41095e+07</td>\n",
       "      <td>1.50301e+06</td>\n",
       "      <td>2527.0</td>\n",
       "      <td>2835.0</td>\n",
       "      <td>Pelikan, Chelyabinsk variation</td>\n",
       "      <td>GM</td>\n",
       "      <td>GM</td>\n",
       "      <td>NaN</td>\n",
       "      <td>NaN</td>\n",
       "      <td>NaN</td>\n",
       "      <td>NaN</td>\n",
       "      <td>NaN</td>\n",
       "      <td>NaN</td>\n",
       "      <td>NaN</td>\n",
       "      <td>NaN</td>\n",
       "      <td>NaN</td>\n",
       "    </tr>\n",
       "    <tr>\n",
       "      <th>1260</th>\n",
       "      <td>Nakamura,Hi</td>\n",
       "      <td>Teske,H</td>\n",
       "      <td>2018-12-26</td>\n",
       "      <td>2018.12.26</td>\n",
       "      <td>World Rapid 2018</td>\n",
       "      <td>1-0</td>\n",
       "      <td>1. Nf3 Nf6 2. g3 d5 3. Bg2 g6 4. c4 dxc4 5. Na...</td>\n",
       "      <td>St Petersburg RUS</td>\n",
       "      <td>False</td>\n",
       "      <td>1.2</td>\n",
       "      <td>A05</td>\n",
       "      <td>Reti opening</td>\n",
       "      <td>2.01619e+06</td>\n",
       "      <td>4.6115e+06</td>\n",
       "      <td>2746.0</td>\n",
       "      <td>2483.0</td>\n",
       "      <td>NaN</td>\n",
       "      <td>GM</td>\n",
       "      <td>GM</td>\n",
       "      <td>NaN</td>\n",
       "      <td>NaN</td>\n",
       "      <td>NaN</td>\n",
       "      <td>NaN</td>\n",
       "      <td>NaN</td>\n",
       "      <td>NaN</td>\n",
       "      <td>NaN</td>\n",
       "      <td>NaN</td>\n",
       "      <td>NaN</td>\n",
       "    </tr>\n",
       "    <tr>\n",
       "      <th>1260</th>\n",
       "      <td>Tari,A</td>\n",
       "      <td>Artemiev,V</td>\n",
       "      <td>2018-12-26</td>\n",
       "      <td>2018.12.26</td>\n",
       "      <td>World Rapid 2018</td>\n",
       "      <td>0-1</td>\n",
       "      <td>1. e4 c5 2. Nf3 d6 3. Bb5+ Bd7 4. c4 Nc6 5. d4...</td>\n",
       "      <td>St Petersburg RUS</td>\n",
       "      <td>False</td>\n",
       "      <td>1.3</td>\n",
       "      <td>B52</td>\n",
       "      <td>Sicilian</td>\n",
       "      <td>1.51004e+06</td>\n",
       "      <td>2.41016e+07</td>\n",
       "      <td>2620.0</td>\n",
       "      <td>2709.0</td>\n",
       "      <td>Canal-Sokolsky attack, 3...Bd7</td>\n",
       "      <td>GM</td>\n",
       "      <td>GM</td>\n",
       "      <td>NaN</td>\n",
       "      <td>NaN</td>\n",
       "      <td>NaN</td>\n",
       "      <td>NaN</td>\n",
       "      <td>NaN</td>\n",
       "      <td>NaN</td>\n",
       "      <td>NaN</td>\n",
       "      <td>NaN</td>\n",
       "      <td>NaN</td>\n",
       "    </tr>\n",
       "    <tr>\n",
       "      <th>1260</th>\n",
       "      <td>Fedoseev,Vl3</td>\n",
       "      <td>Tregubov,P</td>\n",
       "      <td>2018-12-26</td>\n",
       "      <td>2018.12.26</td>\n",
       "      <td>World Rapid 2018</td>\n",
       "      <td>1/2-1/2</td>\n",
       "      <td>1. e4 e5 2. Nf3 Nf6 3. Nxe5 d6 4. Nd3 Nxe4 5. ...</td>\n",
       "      <td>St Petersburg RUS</td>\n",
       "      <td>False</td>\n",
       "      <td>1.4</td>\n",
       "      <td>C42</td>\n",
       "      <td>Petrov's defence</td>\n",
       "      <td>2.41307e+07</td>\n",
       "      <td>4.11534e+06</td>\n",
       "      <td>2719.0</td>\n",
       "      <td>2592.0</td>\n",
       "      <td>NaN</td>\n",
       "      <td>GM</td>\n",
       "      <td>GM</td>\n",
       "      <td>NaN</td>\n",
       "      <td>NaN</td>\n",
       "      <td>NaN</td>\n",
       "      <td>NaN</td>\n",
       "      <td>NaN</td>\n",
       "      <td>NaN</td>\n",
       "      <td>NaN</td>\n",
       "      <td>NaN</td>\n",
       "      <td>NaN</td>\n",
       "    </tr>\n",
       "    <tr>\n",
       "      <th>1260</th>\n",
       "      <td>Hovhannisyan,R</td>\n",
       "      <td>Aronian,L</td>\n",
       "      <td>2018-12-26</td>\n",
       "      <td>2018.12.26</td>\n",
       "      <td>World Rapid 2018</td>\n",
       "      <td>1-0</td>\n",
       "      <td>1. e4 g6 2. d4 Bg7 3. Nc3 c6 4. Nf3 d6 5. h3 N...</td>\n",
       "      <td>St Petersburg RUS</td>\n",
       "      <td>False</td>\n",
       "      <td>1.5</td>\n",
       "      <td>B06</td>\n",
       "      <td>Robatsch defence</td>\n",
       "      <td>1.33025e+07</td>\n",
       "      <td>1.33005e+07</td>\n",
       "      <td>2637.0</td>\n",
       "      <td>2765.0</td>\n",
       "      <td>two knights, Suttles variation</td>\n",
       "      <td>GM</td>\n",
       "      <td>GM</td>\n",
       "      <td>NaN</td>\n",
       "      <td>NaN</td>\n",
       "      <td>NaN</td>\n",
       "      <td>NaN</td>\n",
       "      <td>NaN</td>\n",
       "      <td>NaN</td>\n",
       "      <td>NaN</td>\n",
       "      <td>NaN</td>\n",
       "      <td>NaN</td>\n",
       "    </tr>\n",
       "  </tbody>\n",
       "</table>\n",
       "</div>"
      ],
      "text/plain": [
       "                      White       Black        Date   EventDate  \\\n",
       "twic_number                                                       \n",
       "1260              Tukhaev,A   Carlsen,M  2018-12-26  2018.12.26   \n",
       "1260            Nakamura,Hi     Teske,H  2018-12-26  2018.12.26   \n",
       "1260                 Tari,A  Artemiev,V  2018-12-26  2018.12.26   \n",
       "1260           Fedoseev,Vl3  Tregubov,P  2018-12-26  2018.12.26   \n",
       "1260         Hovhannisyan,R   Aronian,L  2018-12-26  2018.12.26   \n",
       "\n",
       "                        Event   Result  \\\n",
       "twic_number                              \n",
       "1260         World Rapid 2018      1-0   \n",
       "1260         World Rapid 2018      1-0   \n",
       "1260         World Rapid 2018      0-1   \n",
       "1260         World Rapid 2018  1/2-1/2   \n",
       "1260         World Rapid 2018      1-0   \n",
       "\n",
       "                                                mainline_moves  \\\n",
       "twic_number                                                      \n",
       "1260         1. e4 c5 2. Nf3 Nc6 3. d4 cxd4 4. Nxd4 Nf6 5. ...   \n",
       "1260         1. Nf3 Nf6 2. g3 d5 3. Bg2 g6 4. c4 dxc4 5. Na...   \n",
       "1260         1. e4 c5 2. Nf3 d6 3. Bb5+ Bd7 4. c4 Nc6 5. d4...   \n",
       "1260         1. e4 e5 2. Nf3 Nf6 3. Nxe5 d6 4. Nd3 Nxe4 5. ...   \n",
       "1260         1. e4 g6 2. d4 Bg7 3. Nc3 c6 4. Nf3 d6 5. h3 N...   \n",
       "\n",
       "                          Site  Online Round  ECO           Opening  \\\n",
       "twic_number                                                           \n",
       "1260         St Petersburg RUS   False   1.1  B33          Sicilian   \n",
       "1260         St Petersburg RUS   False   1.2  A05      Reti opening   \n",
       "1260         St Petersburg RUS   False   1.3  B52          Sicilian   \n",
       "1260         St Petersburg RUS   False   1.4  C42  Petrov's defence   \n",
       "1260         St Petersburg RUS   False   1.5  B06  Robatsch defence   \n",
       "\n",
       "             WhiteFideId  BlackFideId  WhiteElo  BlackElo  \\\n",
       "twic_number                                                 \n",
       "1260         1.41095e+07  1.50301e+06    2527.0    2835.0   \n",
       "1260         2.01619e+06   4.6115e+06    2746.0    2483.0   \n",
       "1260         1.51004e+06  2.41016e+07    2620.0    2709.0   \n",
       "1260         2.41307e+07  4.11534e+06    2719.0    2592.0   \n",
       "1260         1.33025e+07  1.33005e+07    2637.0    2765.0   \n",
       "\n",
       "                                  Variation WhiteTitle BlackTitle WhiteTeam  \\\n",
       "twic_number                                                                   \n",
       "1260         Pelikan, Chelyabinsk variation         GM         GM       NaN   \n",
       "1260                                    NaN         GM         GM       NaN   \n",
       "1260         Canal-Sokolsky attack, 3...Bd7         GM         GM       NaN   \n",
       "1260                                    NaN         GM         GM       NaN   \n",
       "1260         two knights, Suttles variation         GM         GM       NaN   \n",
       "\n",
       "            BlackTeam EventType  FEN  SetUp Variant  Board  PlyCount  \\\n",
       "twic_number                                                            \n",
       "1260              NaN       NaN  NaN    NaN     NaN    NaN       NaN   \n",
       "1260              NaN       NaN  NaN    NaN     NaN    NaN       NaN   \n",
       "1260              NaN       NaN  NaN    NaN     NaN    NaN       NaN   \n",
       "1260              NaN       NaN  NaN    NaN     NaN    NaN       NaN   \n",
       "1260              NaN       NaN  NaN    NaN     NaN    NaN       NaN   \n",
       "\n",
       "             EventCategory  \n",
       "twic_number                 \n",
       "1260                   NaN  \n",
       "1260                   NaN  \n",
       "1260                   NaN  \n",
       "1260                   NaN  \n",
       "1260                   NaN  "
      ]
     },
     "execution_count": 3,
     "metadata": {},
     "output_type": "execute_result"
    }
   ],
   "source": [
    "#Visualizamos los primeros registros del dataset\n",
    "datos_crudos.head()"
   ]
  },
  {
   "cell_type": "code",
   "execution_count": 4,
   "metadata": {},
   "outputs": [
    {
     "name": "stdout",
     "output_type": "stream",
     "text": [
      "El tamaño del dataset original es de:\n"
     ]
    },
    {
     "data": {
      "text/plain": [
       "(1971319, 28)"
      ]
     },
     "execution_count": 4,
     "metadata": {},
     "output_type": "execute_result"
    }
   ],
   "source": [
    "print(\"El tamaño del dataset original es de:\")\n",
    "datos_crudos.shape"
   ]
  },
  {
   "cell_type": "code",
   "execution_count": 5,
   "metadata": {},
   "outputs": [
    {
     "data": {
      "text/plain": [
       "Index(['White', 'Black', 'Date', 'EventDate', 'Event', 'Result',\n",
       "       'mainline_moves', 'Site', 'Online', 'Round', 'ECO', 'Opening',\n",
       "       'WhiteFideId', 'BlackFideId', 'WhiteElo', 'BlackElo', 'Variation',\n",
       "       'WhiteTitle', 'BlackTitle', 'WhiteTeam', 'BlackTeam', 'EventType',\n",
       "       'FEN', 'SetUp', 'Variant', 'Board', 'PlyCount', 'EventCategory'],\n",
       "      dtype='object')"
      ]
     },
     "execution_count": 5,
     "metadata": {},
     "output_type": "execute_result"
    }
   ],
   "source": [
    "#Listamos todas las columnas del dataset\n",
    "datos_crudos.columns"
   ]
  },
  {
   "cell_type": "code",
   "execution_count": 6,
   "metadata": {},
   "outputs": [
    {
     "name": "stdout",
     "output_type": "stream",
     "text": [
      "<class 'pandas.core.frame.DataFrame'>\n",
      "Int64Index: 1971319 entries, 1260 to 980\n",
      "Data columns (total 14 columns):\n",
      " #   Column          Non-Null Count    Dtype \n",
      "---  ------          --------------    ----- \n",
      " 0   White           1971319 non-null  object\n",
      " 1   Black           1971318 non-null  object\n",
      " 2   Date            1971319 non-null  object\n",
      " 3   EventDate       1970321 non-null  object\n",
      " 4   Event           1971319 non-null  object\n",
      " 5   Result          1971319 non-null  object\n",
      " 6   mainline_moves  1960398 non-null  object\n",
      " 7   Site            1971319 non-null  object\n",
      " 8   Online          1971319 non-null  bool  \n",
      " 9   Round           1971319 non-null  object\n",
      " 10  ECO             1962469 non-null  object\n",
      " 11  Opening         1955315 non-null  object\n",
      " 12  WhiteFideId     1945672 non-null  object\n",
      " 13  BlackFideId     1945382 non-null  object\n",
      "dtypes: bool(1), object(13)\n",
      "memory usage: 212.4+ MB\n"
     ]
    },
    {
     "data": {
      "text/plain": [
       "None"
      ]
     },
     "metadata": {},
     "output_type": "display_data"
    },
    {
     "name": "stdout",
     "output_type": "stream",
     "text": [
      "<class 'pandas.core.frame.DataFrame'>\n",
      "Int64Index: 1971319 entries, 1260 to 980\n",
      "Data columns (total 14 columns):\n",
      " #   Column         Non-Null Count    Dtype  \n",
      "---  ------         --------------    -----  \n",
      " 0   WhiteElo       1901715 non-null  float64\n",
      " 1   BlackElo       1900345 non-null  float64\n",
      " 2   Variation      1283715 non-null  object \n",
      " 3   WhiteTitle     1221853 non-null  object \n",
      " 4   BlackTitle     1214242 non-null  object \n",
      " 5   WhiteTeam      384771 non-null   object \n",
      " 6   BlackTeam      384769 non-null   object \n",
      " 7   EventType      192262 non-null   object \n",
      " 8   FEN            550 non-null      object \n",
      " 9   SetUp          543 non-null      float64\n",
      " 10  Variant        541 non-null      object \n",
      " 11  Board          128 non-null      float64\n",
      " 12  PlyCount       10 non-null       float64\n",
      " 13  EventCategory  0 non-null        float64\n",
      "dtypes: float64(6), object(8)\n",
      "memory usage: 225.6+ MB\n"
     ]
    },
    {
     "data": {
      "text/plain": [
       "None"
      ]
     },
     "metadata": {},
     "output_type": "display_data"
    }
   ],
   "source": [
    "#Vemos cuales son las columnas del dataset y que tipo de datos almacenan\n",
    "display(datos_crudos.iloc[:,0:14].info(verbose=True, null_counts=True))\n",
    "\n",
    "display(datos_crudos.iloc[:,14:28].info(verbose=True, null_counts=True))"
   ]
  },
  {
   "attachments": {},
   "cell_type": "markdown",
   "metadata": {},
   "source": [
    "## 1.1 Descripción de los Campos\n",
    "\n",
    "- White\n",
    "- Black\n",
    "- Date\n",
    "- EventDate\n",
    "- Result\n",
    "- mainline_moves\n",
    "- Site\n",
    "- Online\n",
    "- Round\n",
    "- ECO\n",
    "- Opening\n",
    "- WhiteFideId\n",
    "- BlackFideId\n",
    "- WhiteElo\n",
    "- BlackElo\n",
    "- Variation\n",
    "- WhiteTitle\n",
    "- BlackTitle\n",
    "- WhiteTeam\n",
    "- BlackTeam\n",
    "- EventType\n",
    "- FEN\n",
    "- Variant\n",
    "- Board\n",
    "- PlyCount\n",
    "- EventCategory"
   ]
  },
  {
   "attachments": {},
   "cell_type": "markdown",
   "metadata": {},
   "source": [
    "## 2. Limpieza y Preprocesamiento de Datos"
   ]
  },
  {
   "attachments": {},
   "cell_type": "markdown",
   "metadata": {},
   "source": [
    "### Se retiran columnas innecesarias que se considera no aportan información predictiva al modelo y/o tienen mayoritariamente valore nulo \n"
   ]
  },
  {
   "cell_type": "code",
   "execution_count": 7,
   "metadata": {},
   "outputs": [],
   "source": [
    "# PlyCount , Board y EventCategory tiene altísimos porcentajes de valores nulos\n",
    "# BlackTeam y WhiteTeam indican a que equipo pertenecía el jugador en caso de ser un torneo por equipos\n",
    "# Se considera que no tiene valor predictivo ya que el partido en sí es entre dos individuos\n",
    "datos_crudos = datos_crudos.drop([\"PlyCount\", \"Board\", \"EventCategory\", \"BlackTeam\", \"WhiteTeam\",'WhiteTitle','BlackTitle','ECO','Site','Round','Online'], axis=1)"
   ]
  },
  {
   "attachments": {},
   "cell_type": "markdown",
   "metadata": {},
   "source": [
    "### Las columnas Variant, FEN y Setup corresponden a juegos de \"Ajedrez 960\". \n",
    "Como es una variación del juego que incluye un orden aleatorio de las piezas, no lo incluimos en el modelo. \n",
    "\n",
    "Primero filtramos lo registros correpondientes a dichos juegos y luego eliminamos las columnas"
   ]
  },
  {
   "cell_type": "code",
   "execution_count": 8,
   "metadata": {},
   "outputs": [],
   "source": [
    "# Primero me quedo solo con los registros nulos en las columnas relacionadas con la modalidad 960\n",
    "# De este modo me voy a quedar con las partidas que NO son Ajedrez 060\n",
    "datos_crudos = datos_crudos[ (datos_crudos.Variant.isna()) & (datos_crudos.FEN.isna()) & (datos_crudos.SetUp.isna()) ]\n",
    "\n",
    "# Despues tiro estas columnas que ya no me dicen nada\n",
    "datos_crudos = datos_crudos.drop([\"Variant\", \"FEN\", \"SetUp\"], axis=1)"
   ]
  },
  {
   "attachments": {},
   "cell_type": "markdown",
   "metadata": {},
   "source": [
    "### Luego de eliminar los registros y columnas en el paso anterior. Volvemos a ver la dimensión del dataset"
   ]
  },
  {
   "cell_type": "code",
   "execution_count": 9,
   "metadata": {},
   "outputs": [
    {
     "name": "stdout",
     "output_type": "stream",
     "text": [
      "Tamaño del Dataset:\n"
     ]
    },
    {
     "data": {
      "text/plain": [
       "(1970769, 14)"
      ]
     },
     "metadata": {},
     "output_type": "display_data"
    },
    {
     "data": {
      "text/plain": [
       "Index(['White', 'Black', 'Date', 'EventDate', 'Event', 'Result',\n",
       "       'mainline_moves', 'Opening', 'WhiteFideId', 'BlackFideId', 'WhiteElo',\n",
       "       'BlackElo', 'Variation', 'EventType'],\n",
       "      dtype='object')"
      ]
     },
     "execution_count": 9,
     "metadata": {},
     "output_type": "execute_result"
    }
   ],
   "source": [
    "print(\"Tamaño del Dataset:\")\n",
    "display(datos_crudos.shape)\n",
    "datos_crudos.columns"
   ]
  },
  {
   "attachments": {},
   "cell_type": "markdown",
   "metadata": {},
   "source": [
    "### Pasamos los registro de texto a letras minúsculas. Con la excepción \"mainline_moves\" donde la notación es \"case-sensitive\""
   ]
  },
  {
   "cell_type": "code",
   "execution_count": 10,
   "metadata": {},
   "outputs": [],
   "source": [
    "# Vamos a poner todas las letras en minuscula y eliminar espacios en los extremos\n",
    "# En \"mainline_moves\" y \"ECO\" NO toco las mayúsculas ya tienen relevancia en la notación.\n",
    "cols = [\"White\", \"Black\", \"Event\", \"Opening\", \"Variation\", \"EventType\"]\n",
    "for feature in cols:\n",
    "    \n",
    "    datos_crudos[feature] = datos_crudos[feature].str.lower().str.strip()"
   ]
  },
  {
   "attachments": {},
   "cell_type": "markdown",
   "metadata": {},
   "source": [
    "### La columna \"Date\" es un string, creamos una nueva columna fecha con el formato de pandas \"datetime\""
   ]
  },
  {
   "cell_type": "code",
   "execution_count": 11,
   "metadata": {},
   "outputs": [],
   "source": [
    "datos_crudos[\"Fecha\"] = pd.to_datetime(datos_crudos[\"Date\"])"
   ]
  },
  {
   "cell_type": "code",
   "execution_count": 12,
   "metadata": {},
   "outputs": [
    {
     "data": {
      "text/plain": [
       "(array([1.00000e+00, 0.00000e+00, 0.00000e+00, 0.00000e+00, 0.00000e+00,\n",
       "        0.00000e+00, 0.00000e+00, 0.00000e+00, 0.00000e+00, 0.00000e+00,\n",
       "        0.00000e+00, 0.00000e+00, 0.00000e+00, 0.00000e+00, 0.00000e+00,\n",
       "        0.00000e+00, 0.00000e+00, 0.00000e+00, 0.00000e+00, 0.00000e+00,\n",
       "        1.00000e+00, 0.00000e+00, 0.00000e+00, 0.00000e+00, 0.00000e+00,\n",
       "        0.00000e+00, 6.00000e+00, 5.40000e+01, 5.48860e+04, 1.11163e+05,\n",
       "        1.08854e+05, 1.25766e+05, 1.19212e+05, 1.28546e+05, 1.34640e+05,\n",
       "        1.35869e+05, 1.62709e+05, 1.59872e+05, 1.83307e+05, 2.58343e+05,\n",
       "        2.41990e+05, 4.55490e+04, 0.00000e+00, 0.00000e+00, 0.00000e+00,\n",
       "        0.00000e+00, 0.00000e+00, 0.00000e+00, 0.00000e+00, 1.00000e+00]),\n",
       " array([ 6896.  ,  7196.36,  7496.72,  7797.08,  8097.44,  8397.8 ,\n",
       "         8698.16,  8998.52,  9298.88,  9599.24,  9899.6 , 10199.96,\n",
       "        10500.32, 10800.68, 11101.04, 11401.4 , 11701.76, 12002.12,\n",
       "        12302.48, 12602.84, 12903.2 , 13203.56, 13503.92, 13804.28,\n",
       "        14104.64, 14405.  , 14705.36, 15005.72, 15306.08, 15606.44,\n",
       "        15906.8 , 16207.16, 16507.52, 16807.88, 17108.24, 17408.6 ,\n",
       "        17708.96, 18009.32, 18309.68, 18610.04, 18910.4 , 19210.76,\n",
       "        19511.12, 19811.48, 20111.84, 20412.2 , 20712.56, 21012.92,\n",
       "        21313.28, 21613.64, 21914.  ]),\n",
       " <BarContainer object of 50 artists>)"
      ]
     },
     "execution_count": 12,
     "metadata": {},
     "output_type": "execute_result"
    },
    {
     "data": {
      "image/png": "[encoded data removed]",
      "text/plain": [
       "<Figure size 640x480 with 1 Axes>"
      ]
     },
     "metadata": {},
     "output_type": "display_data"
    }
   ],
   "source": [
    "fig = plt.figure()\n",
    "# creo los axes\n",
    "ax = plt.axes()\n",
    "# dibujo en axes:\n",
    "ax.hist(datos_crudos['Fecha'], label='fechas', alpha = 0.4,bins=50)"
   ]
  },
  {
   "attachments": {},
   "cell_type": "markdown",
   "metadata": {},
   "source": [
    "Observamos que hay outliers en las fechas. Los visualizamos con utilizando una máscara en la columna de fechas"
   ]
  },
  {
   "cell_type": "code",
   "execution_count": 13,
   "metadata": {},
   "outputs": [
    {
     "name": "stdout",
     "output_type": "stream",
     "text": [
      "twic_number\n",
      "936   2005-10-07\n",
      "951   1988-11-18\n",
      "Name: Fecha, dtype: datetime64[ns]\n"
     ]
    }
   ],
   "source": [
    "print(datos_crudos['Fecha'].loc[datos_crudos['Fecha'].dt.year<2010])"
   ]
  },
  {
   "cell_type": "code",
   "execution_count": 14,
   "metadata": {},
   "outputs": [],
   "source": [
    "#Filtramos las fechas previas al 2010\n",
    "datos_crudos=datos_crudos.loc[datos_crudos['Fecha'].dt.year>2010]"
   ]
  },
  {
   "cell_type": "code",
   "execution_count": 15,
   "metadata": {},
   "outputs": [
    {
     "data": {
      "text/plain": [
       "(array([5.40000e+01, 1.10000e+01, 4.47760e+04, 5.12690e+04, 4.24340e+04,\n",
       "        6.40160e+04, 4.51020e+04, 4.63850e+04, 6.31780e+04, 4.99160e+04,\n",
       "        5.57540e+04, 5.25840e+04, 4.39300e+04, 6.89600e+04, 5.87410e+04,\n",
       "        4.68960e+04, 8.00830e+04, 6.60390e+04, 6.38110e+04, 7.13940e+04,\n",
       "        6.53210e+04, 8.34790e+04, 6.14920e+04, 5.23200e+04, 1.07725e+05,\n",
       "        1.03322e+05, 1.13762e+05, 1.12261e+05, 9.94350e+04, 1.19606e+05,\n",
       "        3.67040e+04, 0.00000e+00, 0.00000e+00, 0.00000e+00, 0.00000e+00,\n",
       "        0.00000e+00, 0.00000e+00, 0.00000e+00, 0.00000e+00, 0.00000e+00,\n",
       "        0.00000e+00, 0.00000e+00, 0.00000e+00, 0.00000e+00, 0.00000e+00,\n",
       "        0.00000e+00, 0.00000e+00, 0.00000e+00, 0.00000e+00, 1.00000e+00]),\n",
       " array([15179. , 15313.7, 15448.4, 15583.1, 15717.8, 15852.5, 15987.2,\n",
       "        16121.9, 16256.6, 16391.3, 16526. , 16660.7, 16795.4, 16930.1,\n",
       "        17064.8, 17199.5, 17334.2, 17468.9, 17603.6, 17738.3, 17873. ,\n",
       "        18007.7, 18142.4, 18277.1, 18411.8, 18546.5, 18681.2, 18815.9,\n",
       "        18950.6, 19085.3, 19220. , 19354.7, 19489.4, 19624.1, 19758.8,\n",
       "        19893.5, 20028.2, 20162.9, 20297.6, 20432.3, 20567. , 20701.7,\n",
       "        20836.4, 20971.1, 21105.8, 21240.5, 21375.2, 21509.9, 21644.6,\n",
       "        21779.3, 21914. ]),\n",
       " <BarContainer object of 50 artists>)"
      ]
     },
     "execution_count": 15,
     "metadata": {},
     "output_type": "execute_result"
    },
    {
     "data": {
      "image/png": "[encoded data removed]",
      "text/plain": [
       "<Figure size 640x480 with 1 Axes>"
      ]
     },
     "metadata": {},
     "output_type": "display_data"
    }
   ],
   "source": [
    "#Volvemos a visualizar\n",
    "fig = plt.figure()\n",
    "# creo los axes\n",
    "ax = plt.axes()\n",
    "# dibujo en axes:\n",
    "ax.hist(datos_crudos['Fecha'], label='fechas', alpha = 0.4,bins=50)"
   ]
  },
  {
   "attachments": {},
   "cell_type": "markdown",
   "metadata": {},
   "source": [
    "### Visualizamos la columna Target de Resultados"
   ]
  },
  {
   "cell_type": "code",
   "execution_count": 16,
   "metadata": {},
   "outputs": [
    {
     "data": {
      "text/plain": [
       "1-0        804252\n",
       "0-1        664268\n",
       "1/2-1/2    502189\n",
       "*              15\n",
       "+/-            10\n",
       "0-0             9\n",
       "-/+             7\n",
       "-               5\n",
       "1-0 ff          2\n",
       "(+)-(-)         1\n",
       "1-O             1\n",
       "00-1            1\n",
       "1/2 1/2         1\n",
       "Name: Result, dtype: int64"
      ]
     },
     "execution_count": 16,
     "metadata": {},
     "output_type": "execute_result"
    }
   ],
   "source": [
    "datos_crudos['Result'].value_counts()"
   ]
  },
  {
   "attachments": {},
   "cell_type": "markdown",
   "metadata": {},
   "source": [
    "\"1-0\" es una victoria para Blancas, \"0-1\" es una victoria para Negras y \"1/2-1/2\" es un Empate.\n",
    "\n",
    "Realizamos un apply para simplificar la notación y dejar en NaN todos los demas registros que no coincidan con esta notación"
   ]
  },
  {
   "cell_type": "code",
   "execution_count": 17,
   "metadata": {},
   "outputs": [],
   "source": [
    "#Definimos una función que se aplicará sobre cada registro\n",
    "def limpiar_resultado(x):\n",
    "    if x=='1-0':\n",
    "        return 0\n",
    "    elif x=='0-1':\n",
    "        return 1\n",
    "    elif x=='1/2-1/2':\n",
    "        return 2\n",
    "    else: \n",
    "        return np.NaN\n",
    " \n",
    "# Aplicamos la función y creamos la columna Resultado\n",
    "datos_crudos['Resultado'] = datos_crudos['Result'].apply(limpiar_resultado)"
   ]
  },
  {
   "cell_type": "code",
   "execution_count": 18,
   "metadata": {},
   "outputs": [
    {
     "data": {
      "text/plain": [
       "0.0    804252\n",
       "1.0    664268\n",
       "2.0    502189\n",
       "Name: Resultado, dtype: int64"
      ]
     },
     "execution_count": 18,
     "metadata": {},
     "output_type": "execute_result"
    }
   ],
   "source": [
    "#Vemos como quedo\n",
    "datos_crudos['Resultado'].value_counts()"
   ]
  },
  {
   "attachments": {},
   "cell_type": "markdown",
   "metadata": {},
   "source": [
    "### Cantidad de Movimientos\n",
    "Utilizamos la columna \"mainline_moves\", dónde se detallan todos los movimientos del partido, para crear una nueva columna dónde se indique la cantidad de movimientos en total que duró la partida"
   ]
  },
  {
   "cell_type": "code",
   "execution_count": 19,
   "metadata": {},
   "outputs": [
    {
     "data": {
      "text/plain": [
       "'1. d4 f5 2. c4 Nf6 3. Nc3 e6 4. e3 b6 5. d5 Bd6 6. g3 Bb7 7. Bg2 O-O 8. Nge2 Na6 9. O-O c6 10. b3 Nc7 11. dxc6 dxc6 12. Nd4 Qd7 13. Bb2 g6 14. Ncb5 Nxb5 15. cxb5 Ne4 16. bxc6 Bxc6 17. Nxc6 Qxc6 18. Rc1 Qd5 19. Qxd5 exd5 20. Rfd1 Rac8 21. Bxe4 Rxc1'"
      ]
     },
     "execution_count": 19,
     "metadata": {},
     "output_type": "execute_result"
    }
   ],
   "source": [
    "datos_crudos['mainline_moves'].iloc[5]"
   ]
  },
  {
   "attachments": {},
   "cell_type": "markdown",
   "metadata": {},
   "source": [
    "El string tienen el formato de:  \"N° de Mov\". \"Mov.Blanca\" Mov.Negra\". Aplicamos una función a cada registro para contar la cantidad de movimientos"
   ]
  },
  {
   "cell_type": "code",
   "execution_count": 20,
   "metadata": {},
   "outputs": [],
   "source": [
    "#Definimos una función que primero retira los espacios en blanco y luego separamos el string por el caracter '.' \n",
    "#almacena los strings separados en una serie y cuenta la cantidad de elementos que tiene\n",
    "def cant_mov(x):\n",
    "    if type(x) is str:\n",
    "        return len(x.replace(\" \", \"\").split('.'))\n",
    "    else:\n",
    "        return np.NaN\n",
    "# Aplico la función y creo una nueva columna llamada \"Duración\"\n",
    "datos_crudos['Duración'] = datos_crudos['mainline_moves'].apply(cant_mov)"
   ]
  },
  {
   "cell_type": "code",
   "execution_count": 21,
   "metadata": {},
   "outputs": [
    {
     "data": {
      "text/plain": [
       "(1970761, 17)"
      ]
     },
     "execution_count": 21,
     "metadata": {},
     "output_type": "execute_result"
    }
   ],
   "source": [
    "datos_crudos.shape"
   ]
  },
  {
   "attachments": {},
   "cell_type": "markdown",
   "metadata": {},
   "source": [
    "### Filtramos aquellas partidas dónde el Control de Tiempo haya sido Blitz (3 minutos) y/o Rapid (5 minutos).\n",
    "En estas partidas con menor tiempo de juego, la diferencia de puntuación entre jugadores es un factor más determinante en el resultado final del juego.\n",
    "\n",
    "Las columnas Event y EventType son las que tienen información sobre el tipo de control de tiempo utilizado."
   ]
  },
  {
   "cell_type": "code",
   "execution_count": 22,
   "metadata": {},
   "outputs": [],
   "source": [
    "# Creamos un nuevo dataframe filtrando si las columnas Event y EventType tiene la palabra blitz y/o rapid\n",
    "datos_bz_rp=datos_crudos[(datos_crudos.Event.str.contains(\"blitz\")) | (datos_crudos.EventType.str.contains(\"blitz\"))|(datos_crudos.Event.str.contains(\"rapid\")) | (datos_crudos.EventType.str.contains(\"rapid\"))]"
   ]
  },
  {
   "cell_type": "code",
   "execution_count": 23,
   "metadata": {},
   "outputs": [
    {
     "name": "stdout",
     "output_type": "stream",
     "text": [
      "Tamaño del dataset de partidas Blitz y Rapid:\n"
     ]
    },
    {
     "data": {
      "text/plain": [
       "(181540, 17)"
      ]
     },
     "execution_count": 23,
     "metadata": {},
     "output_type": "execute_result"
    }
   ],
   "source": [
    "print(\"Tamaño del dataset de partidas Blitz y Rapid:\")\n",
    "datos_bz_rp.shape"
   ]
  },
  {
   "attachments": {},
   "cell_type": "markdown",
   "metadata": {},
   "source": [
    "### Visualizamos los valores de la columna Opening\n",
    "Esta columna indica la apertura elegida por blancas. Esto determina el tipo de estrategia que seguirá la partida, si es mas agresiva o conservadora, posicionas mas o menos balanceades, etc."
   ]
  },
  {
   "cell_type": "code",
   "execution_count": 24,
   "metadata": {},
   "outputs": [
    {
     "data": {
      "text/plain": [
       "sicilian                                        26807\n",
       "french                                           8804\n",
       "king's indian                                    8275\n",
       "queen's pawn game                                8114\n",
       "qgd                                              7541\n",
       "ruy lopez                                        7442\n",
       "caro-kann                                        7258\n",
       "english                                          7154\n",
       "reti                                             5310\n",
       "reti opening                                     5276\n",
       "english opening                                  5038\n",
       "sicilian defence                                 4800\n",
       "queen's pawn                                     4134\n",
       "nimzo-indian                                     3684\n",
       "qgd slav                                         3407\n",
       "queen's indian                                   2171\n",
       "giuoco piano                                     2163\n",
       "gruenfeld                                        2150\n",
       "catalan                                          2092\n",
       "trompovsky attack (ruth, opovcensky opening)     1897\n",
       "Name: Opening, dtype: int64"
      ]
     },
     "execution_count": 24,
     "metadata": {},
     "output_type": "execute_result"
    }
   ],
   "source": [
    "#Vemos las aperturas más utilizadas\n",
    "datos_bz_rp.Opening.value_counts().head(20)"
   ]
  },
  {
   "attachments": {},
   "cell_type": "markdown",
   "metadata": {},
   "source": [
    "### Vamos a limpiar los valores repetidos la columna y categorizar a todas a las aperturas fuera del top 20 como \"otras\""
   ]
  },
  {
   "cell_type": "code",
   "execution_count": 25,
   "metadata": {},
   "outputs": [
    {
     "name": "stderr",
     "output_type": "stream",
     "text": [
      "C:\\Users\\fpeloso\\AppData\\Local\\Temp\\ipykernel_15340\\1016428220.py:14: SettingWithCopyWarning: \n",
      "A value is trying to be set on a copy of a slice from a DataFrame.\n",
      "Try using .loc[row_indexer,col_indexer] = value instead\n",
      "\n",
      "See the caveats in the documentation: https://pandas.pydata.org/pandas-docs/stable/user_guide/indexing.html#returning-a-view-versus-a-copy\n",
      "  datos_bz_rp['Apertura'] = datos_bz_rp['Opening'].apply(limpiar_opening)\n"
     ]
    }
   ],
   "source": [
    "def limpiar_opening(x):\n",
    "    if \"sicilian\" in str(x):\n",
    "        return \"sicilian\"\n",
    "    elif \"english\" in str(x):\n",
    "        return \"english\"\n",
    "    elif \"reti\" in str(x):\n",
    "        return \"reti\"\n",
    "    elif \"qgd\" in str(x):\n",
    "        return \"qgd\"\n",
    "    else: \n",
    "        return x\n",
    " \n",
    "# Aplicamos la función \n",
    "datos_bz_rp['Apertura'] = datos_bz_rp['Opening'].apply(limpiar_opening)"
   ]
  },
  {
   "cell_type": "code",
   "execution_count": 26,
   "metadata": {},
   "outputs": [
    {
     "data": {
      "text/plain": [
       "sicilian                                        32324\n",
       "qgd                                             14010\n",
       "english                                         12996\n",
       "reti                                            10966\n",
       "french                                           8804\n",
       "king's indian                                    8275\n",
       "queen's pawn game                                8114\n",
       "ruy lopez                                        7442\n",
       "caro-kann                                        7258\n",
       "queen's pawn                                     4134\n",
       "nimzo-indian                                     3684\n",
       "queen's indian                                   2171\n",
       "giuoco piano                                     2163\n",
       "gruenfeld                                        2150\n",
       "catalan                                          2092\n",
       "trompovsky attack (ruth, opovcensky opening)     1897\n",
       "nimzovich-larsen attack                          1859\n",
       "robatsch (modern) defence                        1684\n",
       "pirc                                             1530\n",
       "four knights                                     1479\n",
       "Name: Apertura, dtype: int64"
      ]
     },
     "execution_count": 26,
     "metadata": {},
     "output_type": "execute_result"
    }
   ],
   "source": [
    "#Vemos las aperturas más utilizadas\n",
    "datos_bz_rp.Apertura.value_counts().head(20)"
   ]
  },
  {
   "cell_type": "code",
   "execution_count": 27,
   "metadata": {},
   "outputs": [
    {
     "name": "stderr",
     "output_type": "stream",
     "text": [
      "C:\\Users\\fpeloso\\AppData\\Local\\Temp\\ipykernel_15340\\4216729748.py:2: SettingWithCopyWarning: \n",
      "A value is trying to be set on a copy of a slice from a DataFrame.\n",
      "Try using .loc[row_indexer,col_indexer] = value instead\n",
      "\n",
      "See the caveats in the documentation: https://pandas.pydata.org/pandas-docs/stable/user_guide/indexing.html#returning-a-view-versus-a-copy\n",
      "  datos_bz_rp['Apertura']=datos_bz_rp.Apertura.where(datos_bz_rp['Apertura'].map(datos_bz_rp['Apertura'].value_counts()).gt(2000),'other')\n"
     ]
    }
   ],
   "source": [
    "#Aquellas Aperturas que tenga menos de 2000 registros, las clasifico como 'other'\n",
    "datos_bz_rp['Apertura']=datos_bz_rp.Apertura.where(datos_bz_rp['Apertura'].map(datos_bz_rp['Apertura'].value_counts()).gt(2000),'other')"
   ]
  },
  {
   "cell_type": "code",
   "execution_count": 28,
   "metadata": {},
   "outputs": [
    {
     "data": {
      "text/plain": [
       "other                54957\n",
       "sicilian             32324\n",
       "qgd                  14010\n",
       "english              12996\n",
       "reti                 10966\n",
       "french                8804\n",
       "king's indian         8275\n",
       "queen's pawn game     8114\n",
       "ruy lopez             7442\n",
       "caro-kann             7258\n",
       "queen's pawn          4134\n",
       "nimzo-indian          3684\n",
       "queen's indian        2171\n",
       "giuoco piano          2163\n",
       "gruenfeld             2150\n",
       "catalan               2092\n",
       "Name: Apertura, dtype: int64"
      ]
     },
     "execution_count": 28,
     "metadata": {},
     "output_type": "execute_result"
    }
   ],
   "source": [
    "datos_bz_rp['Apertura'].value_counts()"
   ]
  },
  {
   "cell_type": "code",
   "execution_count": 29,
   "metadata": {},
   "outputs": [
    {
     "data": {
      "text/plain": [
       "Index(['White', 'Black', 'Date', 'EventDate', 'Event', 'Result',\n",
       "       'mainline_moves', 'Opening', 'WhiteFideId', 'BlackFideId', 'WhiteElo',\n",
       "       'BlackElo', 'Variation', 'EventType', 'Fecha', 'Resultado', 'Duración',\n",
       "       'Apertura'],\n",
       "      dtype='object')"
      ]
     },
     "execution_count": 29,
     "metadata": {},
     "output_type": "execute_result"
    }
   ],
   "source": [
    "datos_bz_rp.columns"
   ]
  },
  {
   "attachments": {},
   "cell_type": "markdown",
   "metadata": {},
   "source": [
    "### Removemos las últimas columnas que ya no vamos a utilizar: Date, EventDate, Fecha, Variation, mainline_moves y Result"
   ]
  },
  {
   "cell_type": "code",
   "execution_count": 30,
   "metadata": {},
   "outputs": [],
   "source": [
    "datos_bz_rp=datos_bz_rp.drop(columns=['White','Black','Date','EventDate','Fecha','Variation','mainline_moves','Result'])"
   ]
  },
  {
   "cell_type": "code",
   "execution_count": 31,
   "metadata": {},
   "outputs": [
    {
     "data": {
      "text/plain": [
       "Index(['Event', 'Opening', 'WhiteFideId', 'BlackFideId', 'WhiteElo',\n",
       "       'BlackElo', 'EventType', 'Resultado', 'Duración', 'Apertura'],\n",
       "      dtype='object')"
      ]
     },
     "execution_count": 31,
     "metadata": {},
     "output_type": "execute_result"
    }
   ],
   "source": [
    "datos_bz_rp.columns"
   ]
  },
  {
   "attachments": {},
   "cell_type": "markdown",
   "metadata": {},
   "source": [
    "Reseteamos el Index "
   ]
  },
  {
   "cell_type": "code",
   "execution_count": 32,
   "metadata": {},
   "outputs": [],
   "source": [
    "datos_bz_rp=datos_bz_rp.reset_index(drop=True)"
   ]
  },
  {
   "attachments": {},
   "cell_type": "markdown",
   "metadata": {},
   "source": [
    "### Separamos en Blitz por un lado y Rapid por el otro"
   ]
  },
  {
   "cell_type": "code",
   "execution_count": 33,
   "metadata": {},
   "outputs": [
    {
     "data": {
      "text/plain": [
       "(104576, 10)"
      ]
     },
     "execution_count": 33,
     "metadata": {},
     "output_type": "execute_result"
    }
   ],
   "source": [
    "# Hagamos un df con partidas blitz\n",
    "datos_blitz = datos_bz_rp[(datos_bz_rp.Event.str.contains(\"blitz\")) | (datos_bz_rp.EventType.str.contains(\"blitz\"))]\n",
    "datos_blitz.shape"
   ]
  },
  {
   "cell_type": "code",
   "execution_count": 34,
   "metadata": {},
   "outputs": [
    {
     "data": {
      "text/plain": [
       "(77040, 10)"
      ]
     },
     "execution_count": 34,
     "metadata": {},
     "output_type": "execute_result"
    }
   ],
   "source": [
    "# Hagamos un df con partidas blitz\n",
    "datos_rapid = datos_bz_rp[(datos_bz_rp.Event.str.contains(\"rapid\")) | (datos_bz_rp.EventType.str.contains(\"rapid\"))]\n",
    "datos_rapid.shape"
   ]
  },
  {
   "attachments": {},
   "cell_type": "markdown",
   "metadata": {},
   "source": [
    "### Eliminamos las columnas Event y EventType"
   ]
  },
  {
   "cell_type": "code",
   "execution_count": 35,
   "metadata": {},
   "outputs": [],
   "source": [
    "datos_blitz=datos_blitz.drop(columns=['Event', 'EventType'])\n",
    "\n",
    "datos_rapid=datos_rapid.drop(columns=['Event', 'EventType'])"
   ]
  },
  {
   "attachments": {},
   "cell_type": "markdown",
   "metadata": {},
   "source": [
    "# -------------------------------------\n",
    "# Hasta Aca esta bien pasado en limpio"
   ]
  },
  {
   "cell_type": "code",
   "execution_count": 36,
   "metadata": {},
   "outputs": [
    {
     "name": "stdout",
     "output_type": "stream",
     "text": [
      "<class 'pandas.core.frame.DataFrame'>\n",
      "Int64Index: 104576 entries, 2244 to 181363\n",
      "Data columns (total 10 columns):\n",
      " #   Column       Non-Null Count   Dtype  \n",
      "---  ------       --------------   -----  \n",
      " 0   White        104576 non-null  object \n",
      " 1   Black        104576 non-null  object \n",
      " 2   Opening      103452 non-null  object \n",
      " 3   WhiteFideId  99689 non-null   object \n",
      " 4   BlackFideId  99660 non-null   object \n",
      " 5   WhiteElo     96448 non-null   float64\n",
      " 6   BlackElo     96340 non-null   float64\n",
      " 7   Resultado    104576 non-null  float64\n",
      " 8   Duración     103768 non-null  float64\n",
      " 9   Apertura     104576 non-null  object \n",
      "dtypes: float64(4), object(6)\n",
      "memory usage: 8.8+ MB\n"
     ]
    }
   ],
   "source": [
    "datos_blitz.info()"
   ]
  },
  {
   "cell_type": "code",
   "execution_count": 55,
   "metadata": {},
   "outputs": [],
   "source": [
    "datos_blitz2=datos_blitz.dropna(subset=[\"WhiteFideId\",\"BlackFideId\"])"
   ]
  },
  {
   "cell_type": "code",
   "execution_count": 57,
   "metadata": {},
   "outputs": [
    {
     "data": {
      "text/plain": [
       "(96177, 11)"
      ]
     },
     "execution_count": 57,
     "metadata": {},
     "output_type": "execute_result"
    }
   ],
   "source": [
    "datos_blitz2.shape"
   ]
  },
  {
   "cell_type": "code",
   "execution_count": 58,
   "metadata": {},
   "outputs": [
    {
     "ename": "KeyError",
     "evalue": "\"Passing list-likes to .loc or [] with any missing labels is no longer supported. The following labels were missing: Index([13401319.0, 13300474.0,  4126025.0,  2016192.0, 14109603.0,\\n       ...\\n        1710400.0, 14112035.0,  4100123.0, 24112798.0, 13302000.0],\\n      dtype='object', length=149). See https://pandas.pydata.org/pandas-docs/stable/user_guide/indexing.html#deprecate-loc-reindex-listlike\"",
     "output_type": "error",
     "traceback": [
      "\u001b[1;31m---------------------------------------------------------------------------\u001b[0m",
      "\u001b[1;31mKeyError\u001b[0m                                  Traceback (most recent call last)",
      "\u001b[1;32mc:\\Users\\fpeloso\\Digital House\\TP 1 - Grupo 10\\Grupo 10\\DH-TP-1---Grupo-10\\TP FINAL\\Chess\\Main Borrador copy - Facu.ipynb Cell 62\u001b[0m in \u001b[0;36m<cell line: 3>\u001b[1;34m()\u001b[0m\n\u001b[0;32m      <a href='vscode-notebook-cell:/c%3A/Users/fpeloso/Digital%20House/TP%201%20-%20Grupo%2010/Grupo%2010/DH-TP-1---Grupo-10/TP%20FINAL/Chess/Main%20Borrador%20copy%20-%20Facu.ipynb#Y252sZmlsZQ%3D%3D?line=0'>1</a>\u001b[0m aux_value_counts\u001b[39m=\u001b[39mdatos_blitz2\u001b[39m.\u001b[39mWhiteFideId\u001b[39m.\u001b[39mvalue_counts()\n\u001b[0;32m      <a href='vscode-notebook-cell:/c%3A/Users/fpeloso/Digital%20House/TP%201%20-%20Grupo%2010/Grupo%2010/DH-TP-1---Grupo-10/TP%20FINAL/Chess/Main%20Borrador%20copy%20-%20Facu.ipynb#Y252sZmlsZQ%3D%3D?line=1'>2</a>\u001b[0m top100\u001b[39m=\u001b[39maux_value_counts[aux_value_counts\u001b[39m>\u001b[39m\u001b[39m100\u001b[39m]\u001b[39m.\u001b[39mindex\n\u001b[1;32m----> <a href='vscode-notebook-cell:/c%3A/Users/fpeloso/Digital%20House/TP%201%20-%20Grupo%2010/Grupo%2010/DH-TP-1---Grupo-10/TP%20FINAL/Chess/Main%20Borrador%20copy%20-%20Facu.ipynb#Y252sZmlsZQ%3D%3D?line=2'>3</a>\u001b[0m blitz_top100\u001b[39m=\u001b[39mdatos_blitz\u001b[39m.\u001b[39;49mloc[top100]\n",
      "File \u001b[1;32mc:\\Users\\fpeloso\\Anaconda3\\envs\\dhdsblend2021\\lib\\site-packages\\pandas\\core\\indexing.py:879\u001b[0m, in \u001b[0;36m_LocationIndexer.__getitem__\u001b[1;34m(self, key)\u001b[0m\n\u001b[0;32m    876\u001b[0m axis \u001b[39m=\u001b[39m \u001b[39mself\u001b[39m\u001b[39m.\u001b[39maxis \u001b[39mor\u001b[39;00m \u001b[39m0\u001b[39m\n\u001b[0;32m    878\u001b[0m maybe_callable \u001b[39m=\u001b[39m com\u001b[39m.\u001b[39mapply_if_callable(key, \u001b[39mself\u001b[39m\u001b[39m.\u001b[39mobj)\n\u001b[1;32m--> 879\u001b[0m \u001b[39mreturn\u001b[39;00m \u001b[39mself\u001b[39;49m\u001b[39m.\u001b[39;49m_getitem_axis(maybe_callable, axis\u001b[39m=\u001b[39;49maxis)\n",
      "File \u001b[1;32mc:\\Users\\fpeloso\\Anaconda3\\envs\\dhdsblend2021\\lib\\site-packages\\pandas\\core\\indexing.py:1099\u001b[0m, in \u001b[0;36m_LocIndexer._getitem_axis\u001b[1;34m(self, key, axis)\u001b[0m\n\u001b[0;32m   1096\u001b[0m     \u001b[39mif\u001b[39;00m \u001b[39mhasattr\u001b[39m(key, \u001b[39m\"\u001b[39m\u001b[39mndim\u001b[39m\u001b[39m\"\u001b[39m) \u001b[39mand\u001b[39;00m key\u001b[39m.\u001b[39mndim \u001b[39m>\u001b[39m \u001b[39m1\u001b[39m:\n\u001b[0;32m   1097\u001b[0m         \u001b[39mraise\u001b[39;00m \u001b[39mValueError\u001b[39;00m(\u001b[39m\"\u001b[39m\u001b[39mCannot index with multidimensional key\u001b[39m\u001b[39m\"\u001b[39m)\n\u001b[1;32m-> 1099\u001b[0m     \u001b[39mreturn\u001b[39;00m \u001b[39mself\u001b[39;49m\u001b[39m.\u001b[39;49m_getitem_iterable(key, axis\u001b[39m=\u001b[39;49maxis)\n\u001b[0;32m   1101\u001b[0m \u001b[39m# nested tuple slicing\u001b[39;00m\n\u001b[0;32m   1102\u001b[0m \u001b[39mif\u001b[39;00m is_nested_tuple(key, labels):\n",
      "File \u001b[1;32mc:\\Users\\fpeloso\\Anaconda3\\envs\\dhdsblend2021\\lib\\site-packages\\pandas\\core\\indexing.py:1037\u001b[0m, in \u001b[0;36m_LocIndexer._getitem_iterable\u001b[1;34m(self, key, axis)\u001b[0m\n\u001b[0;32m   1034\u001b[0m \u001b[39mself\u001b[39m\u001b[39m.\u001b[39m_validate_key(key, axis)\n\u001b[0;32m   1036\u001b[0m \u001b[39m# A collection of keys\u001b[39;00m\n\u001b[1;32m-> 1037\u001b[0m keyarr, indexer \u001b[39m=\u001b[39m \u001b[39mself\u001b[39;49m\u001b[39m.\u001b[39;49m_get_listlike_indexer(key, axis, raise_missing\u001b[39m=\u001b[39;49m\u001b[39mFalse\u001b[39;49;00m)\n\u001b[0;32m   1038\u001b[0m \u001b[39mreturn\u001b[39;00m \u001b[39mself\u001b[39m\u001b[39m.\u001b[39mobj\u001b[39m.\u001b[39m_reindex_with_indexers(\n\u001b[0;32m   1039\u001b[0m     {axis: [keyarr, indexer]}, copy\u001b[39m=\u001b[39m\u001b[39mTrue\u001b[39;00m, allow_dups\u001b[39m=\u001b[39m\u001b[39mTrue\u001b[39;00m\n\u001b[0;32m   1040\u001b[0m )\n",
      "File \u001b[1;32mc:\\Users\\fpeloso\\Anaconda3\\envs\\dhdsblend2021\\lib\\site-packages\\pandas\\core\\indexing.py:1254\u001b[0m, in \u001b[0;36m_LocIndexer._get_listlike_indexer\u001b[1;34m(self, key, axis, raise_missing)\u001b[0m\n\u001b[0;32m   1251\u001b[0m \u001b[39melse\u001b[39;00m:\n\u001b[0;32m   1252\u001b[0m     keyarr, indexer, new_indexer \u001b[39m=\u001b[39m ax\u001b[39m.\u001b[39m_reindex_non_unique(keyarr)\n\u001b[1;32m-> 1254\u001b[0m \u001b[39mself\u001b[39;49m\u001b[39m.\u001b[39;49m_validate_read_indexer(keyarr, indexer, axis, raise_missing\u001b[39m=\u001b[39;49mraise_missing)\n\u001b[0;32m   1255\u001b[0m \u001b[39mreturn\u001b[39;00m keyarr, indexer\n",
      "File \u001b[1;32mc:\\Users\\fpeloso\\Anaconda3\\envs\\dhdsblend2021\\lib\\site-packages\\pandas\\core\\indexing.py:1315\u001b[0m, in \u001b[0;36m_LocIndexer._validate_read_indexer\u001b[1;34m(self, key, indexer, axis, raise_missing)\u001b[0m\n\u001b[0;32m   1312\u001b[0m not_found \u001b[39m=\u001b[39m key[missing_mask]\n\u001b[0;32m   1314\u001b[0m \u001b[39mwith\u001b[39;00m option_context(\u001b[39m\"\u001b[39m\u001b[39mdisplay.max_seq_items\u001b[39m\u001b[39m\"\u001b[39m, \u001b[39m10\u001b[39m, \u001b[39m\"\u001b[39m\u001b[39mdisplay.width\u001b[39m\u001b[39m\"\u001b[39m, \u001b[39m80\u001b[39m):\n\u001b[1;32m-> 1315\u001b[0m     \u001b[39mraise\u001b[39;00m \u001b[39mKeyError\u001b[39;00m(\n\u001b[0;32m   1316\u001b[0m         \u001b[39m\"\u001b[39m\u001b[39mPassing list-likes to .loc or [] with any missing labels \u001b[39m\u001b[39m\"\u001b[39m\n\u001b[0;32m   1317\u001b[0m         \u001b[39m\"\u001b[39m\u001b[39mis no longer supported. \u001b[39m\u001b[39m\"\u001b[39m\n\u001b[0;32m   1318\u001b[0m         \u001b[39mf\u001b[39m\u001b[39m\"\u001b[39m\u001b[39mThe following labels were missing: \u001b[39m\u001b[39m{\u001b[39;00mnot_found\u001b[39m}\u001b[39;00m\u001b[39m. \u001b[39m\u001b[39m\"\u001b[39m\n\u001b[0;32m   1319\u001b[0m         \u001b[39m\"\u001b[39m\u001b[39mSee https://pandas.pydata.org/pandas-docs/stable/user_guide/indexing.html#deprecate-loc-reindex-listlike\u001b[39m\u001b[39m\"\u001b[39m  \u001b[39m# noqa:E501\u001b[39;00m\n\u001b[0;32m   1320\u001b[0m     )\n",
      "\u001b[1;31mKeyError\u001b[0m: \"Passing list-likes to .loc or [] with any missing labels is no longer supported. The following labels were missing: Index([13401319.0, 13300474.0,  4126025.0,  2016192.0, 14109603.0,\\n       ...\\n        1710400.0, 14112035.0,  4100123.0, 24112798.0, 13302000.0],\\n      dtype='object', length=149). See https://pandas.pydata.org/pandas-docs/stable/user_guide/indexing.html#deprecate-loc-reindex-listlike\""
     ]
    }
   ],
   "source": [
    "aux_value_counts=datos_blitz2.WhiteFideId.value_counts()\n",
    "top100=aux_value_counts[aux_value_counts>100].index\n",
    "blitz_top100=datos_blitz.loc[top100]\n"
   ]
  },
  {
   "cell_type": "code",
   "execution_count": 114,
   "metadata": {},
   "outputs": [],
   "source": [
    "#data=datos_top10[['WhiteElo','BlackElo','apertura','Resultado','cant_mov','WhiteFideId','BlackFideId']]"
   ]
  },
  {
   "cell_type": "code",
   "execution_count": 36,
   "metadata": {},
   "outputs": [],
   "source": [
    "data=datos_blitz"
   ]
  },
  {
   "cell_type": "code",
   "execution_count": 37,
   "metadata": {},
   "outputs": [
    {
     "name": "stdout",
     "output_type": "stream",
     "text": [
      "<class 'pandas.core.frame.DataFrame'>\n",
      "Int64Index: 104576 entries, 2244 to 181363\n",
      "Data columns (total 8 columns):\n",
      " #   Column       Non-Null Count   Dtype  \n",
      "---  ------       --------------   -----  \n",
      " 0   Opening      103452 non-null  object \n",
      " 1   WhiteFideId  99689 non-null   object \n",
      " 2   BlackFideId  99660 non-null   object \n",
      " 3   WhiteElo     96448 non-null   float64\n",
      " 4   BlackElo     96340 non-null   float64\n",
      " 5   Resultado    104576 non-null  float64\n",
      " 6   Duración     103768 non-null  float64\n",
      " 7   Apertura     104576 non-null  object \n",
      "dtypes: float64(4), object(4)\n",
      "memory usage: 7.2+ MB\n"
     ]
    }
   ],
   "source": [
    "data.info()"
   ]
  },
  {
   "cell_type": "code",
   "execution_count": 113,
   "metadata": {},
   "outputs": [
    {
     "data": {
      "text/plain": [
       "2016192     753\n",
       "1503014     671\n",
       "5202213     651\n",
       "13300474    604\n",
       "623539      585\n",
       "2020009     508\n",
       "4168119     436\n",
       "24116068    435\n",
       "13401319    402\n",
       "4126025     362\n",
       "8603677     341\n",
       "5000017     265\n",
       "12573981    251\n",
       "3503240     186\n",
       "13400924    162\n",
       "5029465     138\n",
       "4158814     122\n",
       "738590      113\n",
       "14204118     91\n",
       "46616543     18\n",
       "Name: WhiteFideId, dtype: Int64"
      ]
     },
     "execution_count": 113,
     "metadata": {},
     "output_type": "execute_result"
    }
   ],
   "source": [
    "data.WhiteFideId.value_counts().head(30)"
   ]
  },
  {
   "cell_type": "code",
   "execution_count": 38,
   "metadata": {},
   "outputs": [],
   "source": [
    "data=data.dropna(axis=0)"
   ]
  },
  {
   "cell_type": "code",
   "execution_count": 30,
   "metadata": {},
   "outputs": [],
   "source": [
    "#data['cant_mov']=data['mainline_moves']"
   ]
  },
  {
   "attachments": {},
   "cell_type": "markdown",
   "metadata": {},
   "source": [
    "# 3. Definimos Features y Target del Modelo"
   ]
  },
  {
   "cell_type": "code",
   "execution_count": 39,
   "metadata": {},
   "outputs": [],
   "source": [
    "X= data.drop(columns='Resultado')\n",
    "y=data.Resultado"
   ]
  },
  {
   "cell_type": "code",
   "execution_count": 40,
   "metadata": {},
   "outputs": [
    {
     "name": "stdout",
     "output_type": "stream",
     "text": [
      "<class 'pandas.core.frame.DataFrame'>\n",
      "Int64Index: 90571 entries, 2244 to 181363\n",
      "Data columns (total 7 columns):\n",
      " #   Column       Non-Null Count  Dtype  \n",
      "---  ------       --------------  -----  \n",
      " 0   Opening      90571 non-null  object \n",
      " 1   WhiteFideId  90571 non-null  object \n",
      " 2   BlackFideId  90571 non-null  object \n",
      " 3   WhiteElo     90571 non-null  float64\n",
      " 4   BlackElo     90571 non-null  float64\n",
      " 5   Duración     90571 non-null  float64\n",
      " 6   Apertura     90571 non-null  object \n",
      "dtypes: float64(3), object(4)\n",
      "memory usage: 5.5+ MB\n"
     ]
    }
   ],
   "source": [
    "X.info()"
   ]
  },
  {
   "cell_type": "code",
   "execution_count": 42,
   "metadata": {},
   "outputs": [],
   "source": [
    "X_dum=pd.get_dummies(data=X,columns=['Apertura','WhiteFideId','BlackFideId'])"
   ]
  },
  {
   "cell_type": "code",
   "execution_count": 43,
   "metadata": {},
   "outputs": [
    {
     "data": {
      "text/plain": [
       "(90571, 15312)"
      ]
     },
     "execution_count": 43,
     "metadata": {},
     "output_type": "execute_result"
    }
   ],
   "source": [
    "X_dum.shape"
   ]
  },
  {
   "attachments": {},
   "cell_type": "markdown",
   "metadata": {},
   "source": [
    "### Separamos en Test y Train"
   ]
  },
  {
   "cell_type": "code",
   "execution_count": null,
   "metadata": {},
   "outputs": [],
   "source": [
    "X_train, X_test, y_train, y_test = train_test_split(X_dum, y, test_size=0.2, random_state=1, stratify=y)"
   ]
  },
  {
   "cell_type": "code",
   "execution_count": null,
   "metadata": {},
   "outputs": [],
   "source": [
    "y_test.value_counts()/y_test.size"
   ]
  },
  {
   "attachments": {},
   "cell_type": "markdown",
   "metadata": {},
   "source": [
    "# 4. Pipeline"
   ]
  },
  {
   "cell_type": "code",
   "execution_count": null,
   "metadata": {},
   "outputs": [],
   "source": [
    "pasos = [('scaler', StandardScaler()), ('knn', KNeighborsClassifier())]"
   ]
  },
  {
   "cell_type": "code",
   "execution_count": null,
   "metadata": {},
   "outputs": [],
   "source": [
    "pipe_grid = Pipeline(pasos)"
   ]
  },
  {
   "cell_type": "code",
   "execution_count": null,
   "metadata": {},
   "outputs": [],
   "source": [
    "folds=StratifiedKFold(n_splits=5,shuffle=True, random_state=42)"
   ]
  },
  {
   "cell_type": "code",
   "execution_count": null,
   "metadata": {},
   "outputs": [],
   "source": [
    "param_grid = {'knn__n_neighbors':range(2,20,2),'knn__weights':['uniform','distance']}"
   ]
  },
  {
   "cell_type": "code",
   "execution_count": null,
   "metadata": {},
   "outputs": [],
   "source": [
    "grid = GridSearchCV(pipe, param_grid, cv=folds)\n",
    "grid.fit(X_train, y_train)"
   ]
  },
  {
   "attachments": {},
   "cell_type": "markdown",
   "metadata": {},
   "source": [
    "# Pruebo modelos para predecir Resultado"
   ]
  },
  {
   "cell_type": "code",
   "execution_count": 117,
   "metadata": {},
   "outputs": [],
   "source": [
    "#X = data[['WhiteElo','BlackElo','Opening','Variation','cant_mov','WhiteFideId','BlackFideId']]\n",
    "X = data[['WhiteElo','BlackElo','apertura','cant_mov','WhiteFideId','BlackFideId']]\n",
    "#Vector Target\n",
    "y = data.Resultado\n"
   ]
  },
  {
   "cell_type": "code",
   "execution_count": 121,
   "metadata": {},
   "outputs": [
    {
     "data": {
      "text/plain": [
       "2.0    3412\n",
       "0.0    2160\n",
       "1.0    1486\n",
       "Name: Resultado, dtype: int64"
      ]
     },
     "execution_count": 121,
     "metadata": {},
     "output_type": "execute_result"
    }
   ],
   "source": [
    "y.value_counts()"
   ]
  },
  {
   "cell_type": "code",
   "execution_count": null,
   "metadata": {},
   "outputs": [],
   "source": []
  },
  {
   "attachments": {},
   "cell_type": "markdown",
   "metadata": {},
   "source": [
    "Separo en Train y Test"
   ]
  },
  {
   "cell_type": "code",
   "execution_count": 122,
   "metadata": {},
   "outputs": [],
   "source": [
    "X_train, X_test, y_train, y_test = train_test_split(X_dum, y, test_size=0.2, random_state=1, stratify=y)"
   ]
  },
  {
   "cell_type": "code",
   "execution_count": 123,
   "metadata": {},
   "outputs": [
    {
     "data": {
      "text/plain": [
       "2.0    0.483711\n",
       "0.0    0.305949\n",
       "1.0    0.210340\n",
       "Name: Resultado, dtype: float64"
      ]
     },
     "execution_count": 123,
     "metadata": {},
     "output_type": "execute_result"
    }
   ],
   "source": [
    "y_test.value_counts()/y_test.size"
   ]
  },
  {
   "attachments": {},
   "cell_type": "markdown",
   "metadata": {},
   "source": [
    "Regresion Logistica"
   ]
  },
  {
   "cell_type": "code",
   "execution_count": 124,
   "metadata": {},
   "outputs": [],
   "source": [
    "from sklearn.linear_model import LogisticRegression\n",
    "\n",
    "lr = LogisticRegression(max_iter=2000, random_state=1)\n",
    "\n",
    "lr.fit(X_train, y_train) \n",
    "\n",
    "ypred_lr_train = lr.predict(X_train)\n",
    "ypred_lr_test = lr.predict(X_test)\n"
   ]
  },
  {
   "cell_type": "code",
   "execution_count": 125,
   "metadata": {},
   "outputs": [
    {
     "data": {
      "text/plain": [
       "array([[ 476,   16, 1236],\n",
       "       [ 201,   14,  974],\n",
       "       [ 379,   28, 2322]], dtype=int64)"
      ]
     },
     "execution_count": 125,
     "metadata": {},
     "output_type": "execute_result"
    }
   ],
   "source": [
    "metrics.confusion_matrix(y_train, ypred_lr_train)"
   ]
  },
  {
   "cell_type": "code",
   "execution_count": 126,
   "metadata": {},
   "outputs": [
    {
     "data": {
      "text/plain": [
       "0.49805171803046405"
      ]
     },
     "execution_count": 126,
     "metadata": {},
     "output_type": "execute_result"
    }
   ],
   "source": [
    "metrics.accuracy_score(y_train,ypred_lr_train)"
   ]
  },
  {
   "cell_type": "code",
   "execution_count": 127,
   "metadata": {},
   "outputs": [
    {
     "data": {
      "text/plain": [
       "0.5007082152974505"
      ]
     },
     "execution_count": 127,
     "metadata": {},
     "output_type": "execute_result"
    }
   ],
   "source": [
    "metrics.accuracy_score(y_test,ypred_lr_test)"
   ]
  },
  {
   "cell_type": "code",
   "execution_count": 115,
   "metadata": {},
   "outputs": [
    {
     "data": {
      "text/plain": [
       "0.5019621602065437"
      ]
     },
     "execution_count": 115,
     "metadata": {},
     "output_type": "execute_result"
    }
   ],
   "source": [
    "metrics.recall_score(y_test, ypred_lr_test, average='macro')"
   ]
  },
  {
   "cell_type": "code",
   "execution_count": 116,
   "metadata": {},
   "outputs": [
    {
     "data": {
      "text/plain": [
       "0.5473904863919838"
      ]
     },
     "execution_count": 116,
     "metadata": {},
     "output_type": "execute_result"
    }
   ],
   "source": [
    "metrics.precision_score(y_test, ypred_lr_test, average='macro')"
   ]
  },
  {
   "cell_type": "code",
   "execution_count": 117,
   "metadata": {},
   "outputs": [
    {
     "data": {
      "text/plain": [
       "0.5055933813050858"
      ]
     },
     "execution_count": 117,
     "metadata": {},
     "output_type": "execute_result"
    }
   ],
   "source": [
    "metrics.f1_score(y_test, ypred_lr_test, average='macro')"
   ]
  },
  {
   "cell_type": "code",
   "execution_count": 118,
   "metadata": {},
   "outputs": [
    {
     "data": {
      "text/plain": [
       "array([[ 704,   78,  574],\n",
       "       [ 162,  282,  542],\n",
       "       [ 354,  153, 1187]], dtype=int64)"
      ]
     },
     "execution_count": 118,
     "metadata": {},
     "output_type": "execute_result"
    }
   ],
   "source": [
    "metrics.confusion_matrix(y_test, ypred_lr_test)"
   ]
  },
  {
   "attachments": {},
   "cell_type": "markdown",
   "metadata": {},
   "source": [
    "Naive Bayes"
   ]
  },
  {
   "cell_type": "code",
   "execution_count": 119,
   "metadata": {},
   "outputs": [],
   "source": [
    "from sklearn.naive_bayes import GaussianNB\n",
    "\n",
    "gnb = GaussianNB()\n",
    "\n",
    "gnb.fit(X_train, y_train)\n",
    "\n",
    "\n",
    "ypred_gnb_train = gnb.predict(X_train)\n",
    "\n",
    "\n",
    "ypred_gnb_test = gnb.predict(X_test)"
   ]
  },
  {
   "cell_type": "code",
   "execution_count": 120,
   "metadata": {},
   "outputs": [
    {
     "data": {
      "text/plain": [
       "array([[1644,  325, 3457],\n",
       "       [ 104, 1442, 2399],\n",
       "       [ 201,  293, 6279]], dtype=int64)"
      ]
     },
     "execution_count": 120,
     "metadata": {},
     "output_type": "execute_result"
    }
   ],
   "source": [
    "metrics.confusion_matrix(y_train, ypred_gnb_train)"
   ]
  },
  {
   "cell_type": "code",
   "execution_count": 121,
   "metadata": {},
   "outputs": [
    {
     "data": {
      "text/plain": [
       "array([[ 227,  114, 1015],\n",
       "       [  69,  180,  737],\n",
       "       [  88,  135, 1471]], dtype=int64)"
      ]
     },
     "execution_count": 121,
     "metadata": {},
     "output_type": "execute_result"
    }
   ],
   "source": [
    "metrics.confusion_matrix(y_test, ypred_gnb_test)"
   ]
  },
  {
   "cell_type": "code",
   "execution_count": 122,
   "metadata": {},
   "outputs": [
    {
     "name": "stdout",
     "output_type": "stream",
     "text": [
      "acuracy 0.4653121902874133\n",
      "recall 0.4061062748466775\n",
      "precision 0.4890444423560892\n",
      "f1 0.3712229392712496\n"
     ]
    }
   ],
   "source": [
    "print('acuracy', metrics.accuracy_score(y_test,ypred_gnb_test))\n",
    "print('recall',metrics.recall_score(y_test, ypred_gnb_test, average='macro'))\n",
    "print('precision',metrics.precision_score(y_test, ypred_gnb_test, average='macro'))\n",
    "print('f1',metrics.f1_score(y_test, ypred_gnb_test, average='macro'))"
   ]
  },
  {
   "attachments": {},
   "cell_type": "markdown",
   "metadata": {},
   "source": [
    "### Knn"
   ]
  },
  {
   "cell_type": "code",
   "execution_count": 128,
   "metadata": {},
   "outputs": [
    {
     "name": "stdout",
     "output_type": "stream",
     "text": [
      "Fitting 3 folds for each of 14 candidates, totalling 42 fits\n"
     ]
    },
    {
     "name": "stderr",
     "output_type": "stream",
     "text": [
      "[Parallel(n_jobs=-1)]: Using backend LokyBackend with 4 concurrent workers.\n",
      "[Parallel(n_jobs=-1)]: Done  42 out of  42 | elapsed:   23.0s finished\n"
     ]
    },
    {
     "data": {
      "text/plain": [
       "GridSearchCV(cv=3, estimator=KNeighborsClassifier(), n_jobs=-1,\n",
       "             param_grid={'n_neighbors': [1, 2, 3, 4, 5, 6, 7, 8, 9, 10, 11, 12,\n",
       "                                         13, 14]},\n",
       "             verbose=1)"
      ]
     },
     "execution_count": 128,
     "metadata": {},
     "output_type": "execute_result"
    }
   ],
   "source": [
    "from sklearn.neighbors import KNeighborsClassifier\n",
    "\n",
    "knn = KNeighborsClassifier()\n",
    "\n",
    "# Hyperparametros\n",
    "parameters_knn = {\"n_neighbors\" : list(range(1, 15))}\n",
    "\n",
    "clf_knn = GridSearchCV(knn, \n",
    "                   param_grid = parameters_knn, \n",
    "                   refit = True, \n",
    "                   cv = 3,\n",
    "                   verbose=1,\n",
    "                   n_jobs = -1)\n",
    "                   \n",
    "\n",
    "# Fit el modelo ya seleccionado\n",
    "clf_knn.fit(X_train, y_train)"
   ]
  },
  {
   "cell_type": "code",
   "execution_count": 129,
   "metadata": {},
   "outputs": [
    {
     "name": "stdout",
     "output_type": "stream",
     "text": [
      "Los mejores parametros fueron {'n_neighbors': 14} con un score de 0.45\n"
     ]
    }
   ],
   "source": [
    "print(\"Los mejores parametros fueron %s con un score de %0.2f\" % (clf_knn.best_params_, clf_knn.best_score_))"
   ]
  },
  {
   "cell_type": "code",
   "execution_count": 130,
   "metadata": {},
   "outputs": [],
   "source": [
    "ypred_knn_train = clf_knn.predict(X_train)\n",
    "ypred_knn_test = clf_knn.predict(X_test)"
   ]
  },
  {
   "cell_type": "code",
   "execution_count": 131,
   "metadata": {},
   "outputs": [
    {
     "name": "stdout",
     "output_type": "stream",
     "text": [
      "acuracy 0.4461756373937677\n",
      "recall 0.3748207838922822\n",
      "precision 0.3785080044973174\n",
      "f1 0.36784474206349205\n"
     ]
    }
   ],
   "source": [
    "print('acuracy', metrics.accuracy_score(y_test,ypred_knn_test))\n",
    "print('recall',metrics.recall_score(y_test, ypred_knn_test, average='macro'))\n",
    "print('precision',metrics.precision_score(y_test, ypred_knn_test, average='macro'))\n",
    "print('f1',metrics.f1_score(y_test, ypred_knn_test, average='macro'))"
   ]
  },
  {
   "cell_type": "code",
   "execution_count": 33,
   "metadata": {},
   "outputs": [
    {
     "name": "stdout",
     "output_type": "stream",
     "text": [
      "resultados de train\n",
      "0.4819441290029525\n",
      "[[737 258 666]\n",
      " [216 499 567]\n",
      " [287 287 886]]\n",
      "resultados de test\n",
      "0.4550408719346049\n",
      "[[182  51 182]\n",
      " [ 65 111 145]\n",
      " [ 85  72 208]]\n"
     ]
    }
   ],
   "source": [
    "tree_model = tree.DecisionTreeClassifier(min_samples_leaf=20, max_depth=6, random_state=50)\n",
    "tree_model.fit(X_train, y_train)\n",
    "\n",
    "y_train_tree_predict = tree_model.predict(X_train)\n",
    "y_test_tree_predict = tree_model.predict(X_test)\n",
    "\n",
    "print('resultados de train')\n",
    "print(accuracy_score(y_train, y_train_tree_predict))\n",
    "print(confusion_matrix(y_train, y_train_tree_predict))\n",
    "\n",
    "print('resultados de test')\n",
    "print(accuracy_score(y_test, y_test_tree_predict))\n",
    "print(confusion_matrix(y_test, y_test_tree_predict))"
   ]
  },
  {
   "cell_type": "code",
   "execution_count": 34,
   "metadata": {},
   "outputs": [
    {
     "name": "stdout",
     "output_type": "stream",
     "text": [
      "0.9986372927549398\n",
      "[[1660    1    0]\n",
      " [   1 1279    2]\n",
      " [   2    0 1458]]\n",
      "0.4732061762034514\n",
      "[[227  76 112]\n",
      " [ 98 139  84]\n",
      " [135  75 155]]\n"
     ]
    }
   ],
   "source": [
    "from sklearn.ensemble import BaggingClassifier\n",
    "\n",
    "bagging_tree = tree.DecisionTreeClassifier()\n",
    "bagging_clf = BaggingClassifier(base_estimator=bagging_tree, n_estimators=100,\n",
    "                                bootstrap=True, n_jobs=1, random_state=50)\n",
    "bagging_clf.fit(X_train, y_train)\n",
    "\n",
    "print(accuracy_score(y_train, bagging_clf.predict(X_train)))\n",
    "print(confusion_matrix(y_train, bagging_clf.predict(X_train)))\n",
    "\n",
    "print(accuracy_score(y_test, bagging_clf.predict(X_test)))\n",
    "print(confusion_matrix(y_test, bagging_clf.predict(X_test)))"
   ]
  },
  {
   "cell_type": "code",
   "execution_count": 35,
   "metadata": {},
   "outputs": [],
   "source": [
    "from xgboost.sklearn import XGBClassifier\n",
    "model_xg = XGBClassifier(n_jobs=-1, use_label_encoder=False)"
   ]
  },
  {
   "cell_type": "code",
   "execution_count": 36,
   "metadata": {},
   "outputs": [],
   "source": [
    "from sklearn.model_selection import GridSearchCV\n",
    "params = {  \n",
    "    \"n_estimators\": [20,50,500],      # Number of boosted trees to fit.\n",
    "    \"max_depth\": [1,2,3,4],            # Maximum tree depth for base learners.\n",
    "    \"learning_rate\": [0.01, 0.1],      # Boosting learning rate (xgb’s “eta”)\n",
    "}"
   ]
  },
  {
   "cell_type": "code",
   "execution_count": 37,
   "metadata": {},
   "outputs": [],
   "source": [
    "from sklearn.model_selection import cross_val_score, StratifiedKFold\n",
    "cv = StratifiedKFold(n_splits=5, random_state=41, shuffle=True)"
   ]
  },
  {
   "cell_type": "code",
   "execution_count": 38,
   "metadata": {},
   "outputs": [],
   "source": [
    "xgb = GridSearchCV(model_xg, param_grid=params, cv=cv, verbose=1, n_jobs=-1)"
   ]
  },
  {
   "cell_type": "code",
   "execution_count": 39,
   "metadata": {},
   "outputs": [
    {
     "name": "stdout",
     "output_type": "stream",
     "text": [
      "Fitting 5 folds for each of 24 candidates, totalling 120 fits\n"
     ]
    },
    {
     "name": "stderr",
     "output_type": "stream",
     "text": [
      "[Parallel(n_jobs=-1)]: Using backend LokyBackend with 4 concurrent workers.\n",
      "[Parallel(n_jobs=-1)]: Done  42 tasks      | elapsed:  8.2min\n"
     ]
    },
    {
     "ename": "KeyboardInterrupt",
     "evalue": "",
     "output_type": "error",
     "traceback": [
      "\u001b[1;31m---------------------------------------------------------------------------\u001b[0m",
      "\u001b[1;31mKeyboardInterrupt\u001b[0m                         Traceback (most recent call last)",
      "\u001b[1;32mc:\\Users\\fpeloso\\Digital House\\TP 1 - Grupo 10\\Grupo 10\\DH-TP-1---Grupo-10\\TP FINAL\\Chess\\Borrador Facu.ipynb Cell 108\u001b[0m in \u001b[0;36m<cell line: 1>\u001b[1;34m()\u001b[0m\n\u001b[1;32m----> <a href='vscode-notebook-cell:/c%3A/Users/fpeloso/Digital%20House/TP%201%20-%20Grupo%2010/Grupo%2010/DH-TP-1---Grupo-10/TP%20FINAL/Chess/Borrador%20Facu.ipynb#Y210sZmlsZQ%3D%3D?line=0'>1</a>\u001b[0m xgb\u001b[39m.\u001b[39;49mfit(X_train,y_train)\n",
      "File \u001b[1;32mc:\\Users\\fpeloso\\Anaconda3\\envs\\dhdsblend2021\\lib\\site-packages\\sklearn\\utils\\validation.py:72\u001b[0m, in \u001b[0;36m_deprecate_positional_args.<locals>.inner_f\u001b[1;34m(*args, **kwargs)\u001b[0m\n\u001b[0;32m     67\u001b[0m     warnings\u001b[39m.\u001b[39mwarn(\u001b[39m\"\u001b[39m\u001b[39mPass \u001b[39m\u001b[39m{}\u001b[39;00m\u001b[39m as keyword args. From version 0.25 \u001b[39m\u001b[39m\"\u001b[39m\n\u001b[0;32m     68\u001b[0m                   \u001b[39m\"\u001b[39m\u001b[39mpassing these as positional arguments will \u001b[39m\u001b[39m\"\u001b[39m\n\u001b[0;32m     69\u001b[0m                   \u001b[39m\"\u001b[39m\u001b[39mresult in an error\u001b[39m\u001b[39m\"\u001b[39m\u001b[39m.\u001b[39mformat(\u001b[39m\"\u001b[39m\u001b[39m, \u001b[39m\u001b[39m\"\u001b[39m\u001b[39m.\u001b[39mjoin(args_msg)),\n\u001b[0;32m     70\u001b[0m                   \u001b[39mFutureWarning\u001b[39;00m)\n\u001b[0;32m     71\u001b[0m kwargs\u001b[39m.\u001b[39mupdate({k: arg \u001b[39mfor\u001b[39;00m k, arg \u001b[39min\u001b[39;00m \u001b[39mzip\u001b[39m(sig\u001b[39m.\u001b[39mparameters, args)})\n\u001b[1;32m---> 72\u001b[0m \u001b[39mreturn\u001b[39;00m f(\u001b[39m*\u001b[39;49m\u001b[39m*\u001b[39;49mkwargs)\n",
      "File \u001b[1;32mc:\\Users\\fpeloso\\Anaconda3\\envs\\dhdsblend2021\\lib\\site-packages\\sklearn\\model_selection\\_search.py:736\u001b[0m, in \u001b[0;36mBaseSearchCV.fit\u001b[1;34m(self, X, y, groups, **fit_params)\u001b[0m\n\u001b[0;32m    732\u001b[0m         results \u001b[39m=\u001b[39m \u001b[39mself\u001b[39m\u001b[39m.\u001b[39m_format_results(\n\u001b[0;32m    733\u001b[0m             all_candidate_params, scorers, n_splits, all_out)\n\u001b[0;32m    734\u001b[0m         \u001b[39mreturn\u001b[39;00m results\n\u001b[1;32m--> 736\u001b[0m     \u001b[39mself\u001b[39;49m\u001b[39m.\u001b[39;49m_run_search(evaluate_candidates)\n\u001b[0;32m    738\u001b[0m \u001b[39m# For multi-metric evaluation, store the best_index_, best_params_ and\u001b[39;00m\n\u001b[0;32m    739\u001b[0m \u001b[39m# best_score_ iff refit is one of the scorer names\u001b[39;00m\n\u001b[0;32m    740\u001b[0m \u001b[39m# In single metric evaluation, refit_metric is \"score\"\u001b[39;00m\n\u001b[0;32m    741\u001b[0m \u001b[39mif\u001b[39;00m \u001b[39mself\u001b[39m\u001b[39m.\u001b[39mrefit \u001b[39mor\u001b[39;00m \u001b[39mnot\u001b[39;00m \u001b[39mself\u001b[39m\u001b[39m.\u001b[39mmultimetric_:\n\u001b[0;32m    742\u001b[0m     \u001b[39m# If callable, refit is expected to return the index of the best\u001b[39;00m\n\u001b[0;32m    743\u001b[0m     \u001b[39m# parameter set.\u001b[39;00m\n",
      "File \u001b[1;32mc:\\Users\\fpeloso\\Anaconda3\\envs\\dhdsblend2021\\lib\\site-packages\\sklearn\\model_selection\\_search.py:1188\u001b[0m, in \u001b[0;36mGridSearchCV._run_search\u001b[1;34m(self, evaluate_candidates)\u001b[0m\n\u001b[0;32m   1186\u001b[0m \u001b[39mdef\u001b[39;00m \u001b[39m_run_search\u001b[39m(\u001b[39mself\u001b[39m, evaluate_candidates):\n\u001b[0;32m   1187\u001b[0m     \u001b[39m\"\"\"Search all candidates in param_grid\"\"\"\u001b[39;00m\n\u001b[1;32m-> 1188\u001b[0m     evaluate_candidates(ParameterGrid(\u001b[39mself\u001b[39;49m\u001b[39m.\u001b[39;49mparam_grid))\n",
      "File \u001b[1;32mc:\\Users\\fpeloso\\Anaconda3\\envs\\dhdsblend2021\\lib\\site-packages\\sklearn\\model_selection\\_search.py:708\u001b[0m, in \u001b[0;36mBaseSearchCV.fit.<locals>.evaluate_candidates\u001b[1;34m(candidate_params)\u001b[0m\n\u001b[0;32m    703\u001b[0m \u001b[39mif\u001b[39;00m \u001b[39mself\u001b[39m\u001b[39m.\u001b[39mverbose \u001b[39m>\u001b[39m \u001b[39m0\u001b[39m:\n\u001b[0;32m    704\u001b[0m     \u001b[39mprint\u001b[39m(\u001b[39m\"\u001b[39m\u001b[39mFitting \u001b[39m\u001b[39m{0}\u001b[39;00m\u001b[39m folds for each of \u001b[39m\u001b[39m{1}\u001b[39;00m\u001b[39m candidates,\u001b[39m\u001b[39m\"\u001b[39m\n\u001b[0;32m    705\u001b[0m           \u001b[39m\"\u001b[39m\u001b[39m totalling \u001b[39m\u001b[39m{2}\u001b[39;00m\u001b[39m fits\u001b[39m\u001b[39m\"\u001b[39m\u001b[39m.\u001b[39mformat(\n\u001b[0;32m    706\u001b[0m               n_splits, n_candidates, n_candidates \u001b[39m*\u001b[39m n_splits))\n\u001b[1;32m--> 708\u001b[0m out \u001b[39m=\u001b[39m parallel(delayed(_fit_and_score)(clone(base_estimator),\n\u001b[0;32m    709\u001b[0m                                        X, y,\n\u001b[0;32m    710\u001b[0m                                        train\u001b[39m=\u001b[39;49mtrain, test\u001b[39m=\u001b[39;49mtest,\n\u001b[0;32m    711\u001b[0m                                        parameters\u001b[39m=\u001b[39;49mparameters,\n\u001b[0;32m    712\u001b[0m                                        \u001b[39m*\u001b[39;49m\u001b[39m*\u001b[39;49mfit_and_score_kwargs)\n\u001b[0;32m    713\u001b[0m                \u001b[39mfor\u001b[39;49;00m parameters, (train, test)\n\u001b[0;32m    714\u001b[0m                \u001b[39min\u001b[39;49;00m product(candidate_params,\n\u001b[0;32m    715\u001b[0m                           cv\u001b[39m.\u001b[39;49msplit(X, y, groups)))\n\u001b[0;32m    717\u001b[0m \u001b[39mif\u001b[39;00m \u001b[39mlen\u001b[39m(out) \u001b[39m<\u001b[39m \u001b[39m1\u001b[39m:\n\u001b[0;32m    718\u001b[0m     \u001b[39mraise\u001b[39;00m \u001b[39mValueError\u001b[39;00m(\u001b[39m'\u001b[39m\u001b[39mNo fits were performed. \u001b[39m\u001b[39m'\u001b[39m\n\u001b[0;32m    719\u001b[0m                      \u001b[39m'\u001b[39m\u001b[39mWas the CV iterator empty? \u001b[39m\u001b[39m'\u001b[39m\n\u001b[0;32m    720\u001b[0m                      \u001b[39m'\u001b[39m\u001b[39mWere there no candidates?\u001b[39m\u001b[39m'\u001b[39m)\n",
      "File \u001b[1;32mc:\\Users\\fpeloso\\Anaconda3\\envs\\dhdsblend2021\\lib\\site-packages\\joblib\\parallel.py:1056\u001b[0m, in \u001b[0;36mParallel.__call__\u001b[1;34m(self, iterable)\u001b[0m\n\u001b[0;32m   1053\u001b[0m     \u001b[39mself\u001b[39m\u001b[39m.\u001b[39m_iterating \u001b[39m=\u001b[39m \u001b[39mFalse\u001b[39;00m\n\u001b[0;32m   1055\u001b[0m \u001b[39mwith\u001b[39;00m \u001b[39mself\u001b[39m\u001b[39m.\u001b[39m_backend\u001b[39m.\u001b[39mretrieval_context():\n\u001b[1;32m-> 1056\u001b[0m     \u001b[39mself\u001b[39;49m\u001b[39m.\u001b[39;49mretrieve()\n\u001b[0;32m   1057\u001b[0m \u001b[39m# Make sure that we get a last message telling us we are done\u001b[39;00m\n\u001b[0;32m   1058\u001b[0m elapsed_time \u001b[39m=\u001b[39m time\u001b[39m.\u001b[39mtime() \u001b[39m-\u001b[39m \u001b[39mself\u001b[39m\u001b[39m.\u001b[39m_start_time\n",
      "File \u001b[1;32mc:\\Users\\fpeloso\\Anaconda3\\envs\\dhdsblend2021\\lib\\site-packages\\joblib\\parallel.py:935\u001b[0m, in \u001b[0;36mParallel.retrieve\u001b[1;34m(self)\u001b[0m\n\u001b[0;32m    933\u001b[0m \u001b[39mtry\u001b[39;00m:\n\u001b[0;32m    934\u001b[0m     \u001b[39mif\u001b[39;00m \u001b[39mgetattr\u001b[39m(\u001b[39mself\u001b[39m\u001b[39m.\u001b[39m_backend, \u001b[39m'\u001b[39m\u001b[39msupports_timeout\u001b[39m\u001b[39m'\u001b[39m, \u001b[39mFalse\u001b[39;00m):\n\u001b[1;32m--> 935\u001b[0m         \u001b[39mself\u001b[39m\u001b[39m.\u001b[39m_output\u001b[39m.\u001b[39mextend(job\u001b[39m.\u001b[39;49mget(timeout\u001b[39m=\u001b[39;49m\u001b[39mself\u001b[39;49m\u001b[39m.\u001b[39;49mtimeout))\n\u001b[0;32m    936\u001b[0m     \u001b[39melse\u001b[39;00m:\n\u001b[0;32m    937\u001b[0m         \u001b[39mself\u001b[39m\u001b[39m.\u001b[39m_output\u001b[39m.\u001b[39mextend(job\u001b[39m.\u001b[39mget())\n",
      "File \u001b[1;32mc:\\Users\\fpeloso\\Anaconda3\\envs\\dhdsblend2021\\lib\\site-packages\\joblib\\_parallel_backends.py:542\u001b[0m, in \u001b[0;36mLokyBackend.wrap_future_result\u001b[1;34m(future, timeout)\u001b[0m\n\u001b[0;32m    539\u001b[0m \u001b[39m\"\"\"Wrapper for Future.result to implement the same behaviour as\u001b[39;00m\n\u001b[0;32m    540\u001b[0m \u001b[39mAsyncResults.get from multiprocessing.\"\"\"\u001b[39;00m\n\u001b[0;32m    541\u001b[0m \u001b[39mtry\u001b[39;00m:\n\u001b[1;32m--> 542\u001b[0m     \u001b[39mreturn\u001b[39;00m future\u001b[39m.\u001b[39;49mresult(timeout\u001b[39m=\u001b[39;49mtimeout)\n\u001b[0;32m    543\u001b[0m \u001b[39mexcept\u001b[39;00m CfTimeoutError \u001b[39mas\u001b[39;00m e:\n\u001b[0;32m    544\u001b[0m     \u001b[39mraise\u001b[39;00m \u001b[39mTimeoutError\u001b[39;00m \u001b[39mfrom\u001b[39;00m \u001b[39me\u001b[39;00m\n",
      "File \u001b[1;32mc:\\Users\\fpeloso\\Anaconda3\\envs\\dhdsblend2021\\lib\\concurrent\\futures\\_base.py:439\u001b[0m, in \u001b[0;36mFuture.result\u001b[1;34m(self, timeout)\u001b[0m\n\u001b[0;32m    436\u001b[0m \u001b[39melif\u001b[39;00m \u001b[39mself\u001b[39m\u001b[39m.\u001b[39m_state \u001b[39m==\u001b[39m FINISHED:\n\u001b[0;32m    437\u001b[0m     \u001b[39mreturn\u001b[39;00m \u001b[39mself\u001b[39m\u001b[39m.\u001b[39m__get_result()\n\u001b[1;32m--> 439\u001b[0m \u001b[39mself\u001b[39;49m\u001b[39m.\u001b[39;49m_condition\u001b[39m.\u001b[39;49mwait(timeout)\n\u001b[0;32m    441\u001b[0m \u001b[39mif\u001b[39;00m \u001b[39mself\u001b[39m\u001b[39m.\u001b[39m_state \u001b[39min\u001b[39;00m [CANCELLED, CANCELLED_AND_NOTIFIED]:\n\u001b[0;32m    442\u001b[0m     \u001b[39mraise\u001b[39;00m CancelledError()\n",
      "File \u001b[1;32mc:\\Users\\fpeloso\\Anaconda3\\envs\\dhdsblend2021\\lib\\threading.py:302\u001b[0m, in \u001b[0;36mCondition.wait\u001b[1;34m(self, timeout)\u001b[0m\n\u001b[0;32m    300\u001b[0m \u001b[39mtry\u001b[39;00m:    \u001b[39m# restore state no matter what (e.g., KeyboardInterrupt)\u001b[39;00m\n\u001b[0;32m    301\u001b[0m     \u001b[39mif\u001b[39;00m timeout \u001b[39mis\u001b[39;00m \u001b[39mNone\u001b[39;00m:\n\u001b[1;32m--> 302\u001b[0m         waiter\u001b[39m.\u001b[39;49macquire()\n\u001b[0;32m    303\u001b[0m         gotit \u001b[39m=\u001b[39m \u001b[39mTrue\u001b[39;00m\n\u001b[0;32m    304\u001b[0m     \u001b[39melse\u001b[39;00m:\n",
      "\u001b[1;31mKeyboardInterrupt\u001b[0m: "
     ]
    }
   ],
   "source": [
    "xgb.fit(X_train,y_train)"
   ]
  },
  {
   "cell_type": "code",
   "execution_count": 46,
   "metadata": {},
   "outputs": [
    {
     "data": {
      "text/plain": [
       "{'learning_rate': 0.1, 'max_depth': 4, 'n_estimators': 100}"
      ]
     },
     "execution_count": 46,
     "metadata": {},
     "output_type": "execute_result"
    }
   ],
   "source": [
    "xgb.best_params_"
   ]
  },
  {
   "cell_type": "code",
   "execution_count": 47,
   "metadata": {},
   "outputs": [],
   "source": [
    "def evaluar_rendimiento(modelo, nombre, X, y, cv):\n",
    "    s = cross_val_score(modelo, X, y, cv=cv, n_jobs=-1)\n",
    "    print(\"Rendimiento de {}:\\t{:0.3} ± {:0.3}\".format( \\\n",
    "        nombre, s.mean().round(3), s.std().round(3)))"
   ]
  },
  {
   "cell_type": "code",
   "execution_count": 48,
   "metadata": {},
   "outputs": [
    {
     "name": "stdout",
     "output_type": "stream",
     "text": [
      "Rendimiento de XG Boost:\t0.557 ± 0.009\n"
     ]
    }
   ],
   "source": [
    "evaluar_rendimiento(xgb.best_estimator_,\"XG Boost\", X_train, y_train, cv)"
   ]
  },
  {
   "cell_type": "code",
   "execution_count": 39,
   "metadata": {},
   "outputs": [],
   "source": [
    "import warnings\n",
    "warnings.filterwarnings(action='ignore', category=UserWarning)"
   ]
  },
  {
   "cell_type": "code",
   "execution_count": 41,
   "metadata": {},
   "outputs": [
    {
     "name": "stdout",
     "output_type": "stream",
     "text": [
      "0.5547571853320119\n",
      "[[ 657   62  637]\n",
      " [ 135  264  587]\n",
      " [ 271  105 1318]]\n"
     ]
    }
   ],
   "source": [
    "print(accuracy_score(y_test, xgb.best_estimator_.predict(X_test)))\n",
    "print(confusion_matrix(y_test, xgb.best_estimator_.predict(X_test)))"
   ]
  }
 ],
 "metadata": {
  "kernelspec": {
   "display_name": "dhdsblend2021",
   "language": "python",
   "name": "python3"
  },
  "language_info": {
   "codemirror_mode": {
    "name": "ipython",
    "version": 3
   },
   "file_extension": ".py",
   "mimetype": "text/x-python",
   "name": "python",
   "nbconvert_exporter": "python",
   "pygments_lexer": "ipython3",
   "version": "3.8.13"
  },
  "orig_nbformat": 4,
  "vscode": {
   "interpreter": {
    "hash": "b43af2114f43bcf982d0b53b081e4c6c708721cc588721c6f40c2d9852c4cd7b"
   }
  }
 },
 "nbformat": 4,
 "nbformat_minor": 2
}
