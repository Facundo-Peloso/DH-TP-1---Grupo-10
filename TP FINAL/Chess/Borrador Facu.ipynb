{
 "cells": [
  {
   "attachments": {},
   "cell_type": "markdown",
   "metadata": {},
   "source": [
    "# Trabajo Práctico Final\n",
    "\n",
    "# Grupo 10\n",
    "### Integrantes:\n",
    "- Facundo Peloso\n",
    "- Eduardo Barbas\n",
    "- Roberto Biancardi \n",
    "- Juan Pablo Anselmo\n",
    "\n",
    "El objetivo de este trabajo práctico es implementar modelos de regresión categórica que nos permita resolver problemas de clasificación.\n",
    "\n",
    "Para ello utilizaremos un dataset \"propio\", es decir, fue seleccionado por los integrantes de nuestro grupo.\n",
    "\n",
    "El dataset elegido fue ..\n",
    "\n",
    "Estos datos describen....características del mismo como:\n",
    "\n",
    "La variable target elegida es la de **Inserte Target**.\n",
    "\n"
   ]
  },
  {
   "attachments": {},
   "cell_type": "markdown",
   "metadata": {},
   "source": [
    "## 0. Importación de Módulos y Librerías"
   ]
  },
  {
   "cell_type": "code",
   "execution_count": null,
   "metadata": {},
   "outputs": [],
   "source": [
    "#Importacion de librerias/módulos\n",
    "import pandas as pd\n",
    "import numpy as np\n",
    "import seaborn as sns\n",
    "import matplotlib.pyplot as plt\n",
    "import re\n",
    "import collections\n",
    "import descartes\n",
    "import geopandas as gpd\n",
    "from shapely.geometry import Point, polygon\n",
    "import shapely.wkt\n",
    "import plotly.express as px\n",
    "import plotly as pl "
   ]
  },
  {
   "attachments": {},
   "cell_type": "markdown",
   "metadata": {},
   "source": [
    "## 1. Lectura de Datos"
   ]
  }
 ],
 "metadata": {
  "kernelspec": {
   "display_name": "dhdsblend2021",
   "language": "python",
   "name": "python3"
  },
  "language_info": {
   "codemirror_mode": {
    "name": "ipython",
    "version": 3
   },
   "file_extension": ".py",
   "mimetype": "text/x-python",
   "name": "python",
   "nbconvert_exporter": "python",
   "pygments_lexer": "ipython3",
   "version": "3.8.13"
  },
  "orig_nbformat": 4,
  "vscode": {
   "interpreter": {
    "hash": "b43af2114f43bcf982d0b53b081e4c6c708721cc588721c6f40c2d9852c4cd7b"
   }
  }
 },
 "nbformat": 4,
 "nbformat_minor": 2
}
