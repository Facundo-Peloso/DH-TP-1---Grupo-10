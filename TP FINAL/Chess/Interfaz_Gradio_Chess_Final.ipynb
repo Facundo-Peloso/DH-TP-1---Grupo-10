{
 "cells": [
  {
   "cell_type": "code",
   "execution_count": 1,
   "metadata": {},
   "outputs": [],
   "source": [
    "import pickle \n",
    "import pandas as pd\n",
    "import gradio as gr\n",
    "import sklearn\n",
    "\n",
    "import warnings\n",
    "warnings.filterwarnings(\"ignore\")"
   ]
  },
  {
   "cell_type": "code",
   "execution_count": 2,
   "metadata": {},
   "outputs": [],
   "source": [
    "# Cargar el modelo\n",
    "with open('modelo_search_2.pkl', 'rb') as f:\n",
    "    model = pickle.load(f)"
   ]
  },
  {
   "cell_type": "code",
   "execution_count": 3,
   "metadata": {},
   "outputs": [],
   "source": [
    "def predict(mainline_moves, Opening, WhiteFideId, BlackFideId, WhiteElo, BlackElo):\n",
    "    df_model = pd.DataFrame({\"mainline_moves\":mainline_moves,\n",
    "                             \"Opening\":Opening,\n",
    "                             \"WhiteFideId\":WhiteFideId,\n",
    "                             \"BlackFideId\":BlackFideId,\n",
    "                             \"WhiteElo\": WhiteElo, \n",
    "                             \"BlackElo\": BlackElo}, \n",
    "                            index= [0])\n",
    "    \n",
    "    label_pred = model.predict(df_model)[0].item()\n",
    "    \n",
    "    if label_pred == 0:\n",
    "        return \"Ganó Blancas\"\n",
    "    elif label_pred == 1:\n",
    "        return \"Ganó Negras\"\n",
    "    else:\n",
    "        return \"Tablas\""
   ]
  },
  {
   "cell_type": "code",
   "execution_count": 4,
   "metadata": {},
   "outputs": [
    {
     "data": {
      "text/plain": [
       "'Ganó Negras'"
      ]
     },
     "execution_count": 4,
     "metadata": {},
     "output_type": "execute_result"
    }
   ],
   "source": [
    "# Ejmeplo\n",
    "predict(90, \"sicilian\", 12313, 4234234, 2345, 2456)"
   ]
  },
  {
   "cell_type": "code",
   "execution_count": 5,
   "metadata": {},
   "outputs": [
    {
     "name": "stdout",
     "output_type": "stream",
     "text": [
      "Running on local URL:  http://127.0.0.1:7860\n",
      "\n",
      "To create a public link, set `share=True` in `launch()`.\n"
     ]
    },
    {
     "data": {
      "text/html": [
       "<div><iframe src=\"http://127.0.0.1:7860/\" width=\"100%\" height=\"500\" allow=\"autoplay; camera; microphone; clipboard-read; clipboard-write;\" frameborder=\"0\" allowfullscreen></iframe></div>"
      ],
      "text/plain": [
       "<IPython.core.display.HTML object>"
      ]
     },
     "metadata": {},
     "output_type": "display_data"
    },
    {
     "data": {
      "text/plain": []
     },
     "execution_count": 5,
     "metadata": {},
     "output_type": "execute_result"
    }
   ],
   "source": [
    "# Definir los widgets de entrada\n",
    "\n",
    "mainline_moves = gr.inputs.Number(label=\"Mainline Moves\")\n",
    "Opening = gr.inputs.Dropdown([\"sicilian\", \"qgd\", \"english\", \"reti\",\n",
    "                              \"french\", \"king's indian\", \"queen's pawn game\",\n",
    "                              \"ruy lopez\", \"caro-kann\", \"nimzo-indian\",\n",
    "                              \"queen's indian\", \"giuoco piano\", \"gruenfeld\",\n",
    "                              \"catalan\"],\n",
    "                             label=\"Opening\",\n",
    "                             )                             \n",
    "WhiteFideId = gr.inputs.Dropdown([1503014, 4168119, 13400924,\n",
    "                                  5000017, 5202213, 2020009,\n",
    "                                  2016192, 24116068, 12573981,\n",
    "                                  8603677, 13300474, 738590, 4126025,\n",
    "                                  3503240, 13401319, 623539,\n",
    "                                  14204118,46616543, 5029465, 4158814 ],\n",
    "                                 label=\"White Fide ID\")\n",
    "BlackFideId = gr.inputs.Dropdown([1503014, 4168119, 13400924,\n",
    "                                  5000017, 5202213, 2020009,\n",
    "                                  2016192, 24116068, 12573981,\n",
    "                                  8603677, 13300474, 738590, 4126025,\n",
    "                                  3503240, 13401319, 623539,\n",
    "                                  14204118,46616543, 5029465, 4158814 ],\n",
    "                                label=\"Black Fide ID\")\n",
    "WhiteElo = gr.inputs.Slider(label=\"White Elo\", \n",
    "                            minimum=0, maximum=3000, step=10,\n",
    "                            default=2400)\n",
    "BlackElo = gr.inputs.Slider(label=\"Black Elo\", \n",
    "                            minimum=0, maximum=3000, step=10,\n",
    "                            default=2400)\n",
    "\n",
    "# Definir la salida\n",
    "output_label = gr.outputs.Label(num_top_classes=1, label=\"Resultado de la partida\")\n",
    "\n",
    "# Definir la interfaz\n",
    "iface = gr.Interface(fn=predict, \n",
    "                     inputs=[mainline_moves, Opening, WhiteFideId, BlackFideId, WhiteElo, BlackElo], \n",
    "                     outputs=output_label, \n",
    "                     title=\"Predicción de partidas de Ajedrez\", \n",
    "                     theme=gr.themes.Soft(),\n",
    "                     layout=\"horizontal\",\n",
    "                     allow_flagging=False,\n",
    "                     description=\"Coloca los datos solicitados y descubre el resultado de la partida!\")\n",
    "\n",
    "# Ejecutar la interfaz\n",
    "iface.launch()\n"
   ]
  }
 ],
 "metadata": {
  "kernelspec": {
   "display_name": "base",
   "language": "python",
   "name": "python3"
  },
  "language_info": {
   "codemirror_mode": {
    "name": "ipython",
    "version": 3
   },
   "file_extension": ".py",
   "mimetype": "text/x-python",
   "name": "python",
   "nbconvert_exporter": "python",
   "pygments_lexer": "ipython3",
   "version": "3.9.13"
  },
  "orig_nbformat": 4
 },
 "nbformat": 4,
 "nbformat_minor": 2
}
