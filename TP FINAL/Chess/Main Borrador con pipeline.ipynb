{
 "cells": [
  {
   "attachments": {},
   "cell_type": "markdown",
   "metadata": {},
   "source": [
    "# Trabajo Práctico Final\n",
    "\n",
    "# Grupo 10\n",
    "### Integrantes:\n",
    "- Facundo Peloso\n",
    "- Eduardo Barbas\n",
    "- Roberto Biancardi \n",
    "- Juan Pablo Anselmo \n",
    "- Matias De Bernardis \n"
    "\n",
    "El objetivo de este trabajo práctico es implementar un modelo que pueda predecir el resultado de una partida de ajedrez.\n",
    "\n",
    "Para ello utilizaremos un dataset proporcionado por el sitio Chess.com donde están registradas casi dos millones de partidas desde el 2010 en adelante.\n",
    "\n",
    "Estos datos describen características de los juegos como: \n",
    "\n",
    "La variable target elegida es el \"Resultado\" de la partida."
   ]
  },
  {
   "attachments": {},
   "cell_type": "markdown",
   "metadata": {},
   "source": [
    "## 0. Importación de Módulos y Librerías"
   ]
  },
  {
   "cell_type": "code",
   "execution_count": 1,
   "metadata": {},
   "outputs": [],
   "source": [
    "#Importacion de librerias/módulos\n",
    "import numpy as np\n",
    "import pandas as pd\n",
    "pd.set_option(\"display.max_columns\", None)\n",
    "import matplotlib.pyplot as plt\n",
    "%matplotlib inline\n",
    "import seaborn as sns\n",
    "sns.set(style=\"darkgrid\")\n",
    "\n",
    "from sklearn.model_selection import train_test_split\n",
    "from sklearn.model_selection import GridSearchCV\n",
    "from sklearn.model_selection import StratifiedKFold\n",
    "from sklearn.linear_model import LogisticRegression\n",
    "from sklearn.model_selection import KFold\n",
    "from sklearn.model_selection import cross_val_score\n",
    "from sklearn.preprocessing import StandardScaler\n",
    "from sklearn.linear_model import LinearRegression\n",
    "from sklearn.naive_bayes import GaussianNB\n",
    "from sklearn.metrics import accuracy_score\n",
    "from sklearn.metrics import recall_score\n",
    "from sklearn.metrics import precision_score\n",
    "from sklearn.metrics import f1_score\n",
    "from sklearn.metrics import confusion_matrix\n",
    "from sklearn.metrics import mean_squared_error\n",
    "from sklearn.neighbors import KNeighborsClassifier\n",
    "import statsmodels.api as sm\n",
    "from statsmodels.tools import eval_measures\n",
    "from sklearn.ensemble import RandomForestRegressor\n",
    "from sklearn.ensemble import ExtraTreesRegressor\n",
    "from sklearn import linear_model\n",
    "from sklearn import metrics\n",
    "from sklearn import tree\n",
    "from sklearn.pipeline import Pipeline\n",
    "from sklearn.ensemble import BaggingClassifier\n",
    "from sklearn.base import BaseEstimator, TransformerMixin\n",
    "\n",
    "import shelve"
   ]
  },
  {
   "attachments": {},
   "cell_type": "markdown",
   "metadata": {},
   "source": [
    "## 1. Lectura de Datos y Visualización"
   ]
  },
  {
   "cell_type": "code",
   "execution_count": 2,
   "metadata": {},
   "outputs": [
    {
     "name": "stderr",
     "output_type": "stream",
     "text": [
      "c:\\Users\\fpeloso\\Anaconda3\\envs\\dhdsblend2021\\lib\\site-packages\\IPython\\core\\interactiveshell.py:3135: DtypeWarning: Columns (10,13,14,23,25) have mixed types.Specify dtype option on import or set low_memory=False.\n",
      "  has_raised = await self.run_ast_nodes(code_ast.body, cell_name,\n",
      "c:\\Users\\fpeloso\\Anaconda3\\envs\\dhdsblend2021\\lib\\site-packages\\numpy\\lib\\arraysetops.py:580: FutureWarning: elementwise comparison failed; returning scalar instead, but in the future will perform elementwise comparison\n",
      "  mask |= (ar1 == a)\n"
     ]
    }
   ],
   "source": [
    "#Establezco la dirección del archivo\n",
    "file_location=\"twic_master.csv\"\n",
    "\n",
    "#Leo el data set usando la librería pandas y se almacena en el objeto Dataframe llamado datos_crudos  \n",
    "datos_crudos=pd.read_csv(file_location, index_col=0)"
   ]
  },
  {
   "cell_type": "code",
   "execution_count": 3,
   "metadata": {},
   "outputs": [
    {
     "data": {
      "text/html": [
       "<div>\n",
       "<style scoped>\n",
       "    .dataframe tbody tr th:only-of-type {\n",
       "        vertical-align: middle;\n",
       "    }\n",
       "\n",
       "    .dataframe tbody tr th {\n",
       "        vertical-align: top;\n",
       "    }\n",
       "\n",
       "    .dataframe thead th {\n",
       "        text-align: right;\n",
       "    }\n",
       "</style>\n",
       "<table border=\"1\" class=\"dataframe\">\n",
       "  <thead>\n",
       "    <tr style=\"text-align: right;\">\n",
       "      <th></th>\n",
       "      <th>White</th>\n",
       "      <th>Black</th>\n",
       "      <th>Date</th>\n",
       "      <th>EventDate</th>\n",
       "      <th>Event</th>\n",
       "      <th>Result</th>\n",
       "      <th>mainline_moves</th>\n",
       "      <th>Site</th>\n",
       "      <th>Online</th>\n",
       "      <th>Round</th>\n",
       "      <th>ECO</th>\n",
       "      <th>Opening</th>\n",
       "      <th>WhiteFideId</th>\n",
       "      <th>BlackFideId</th>\n",
       "      <th>WhiteElo</th>\n",
       "      <th>BlackElo</th>\n",
       "      <th>Variation</th>\n",
       "      <th>WhiteTitle</th>\n",
       "      <th>BlackTitle</th>\n",
       "      <th>WhiteTeam</th>\n",
       "      <th>BlackTeam</th>\n",
       "      <th>EventType</th>\n",
       "      <th>FEN</th>\n",
       "      <th>SetUp</th>\n",
       "      <th>Variant</th>\n",
       "      <th>Board</th>\n",
       "      <th>PlyCount</th>\n",
       "      <th>EventCategory</th>\n",
       "    </tr>\n",
       "    <tr>\n",
       "      <th>twic_number</th>\n",
       "      <th></th>\n",
       "      <th></th>\n",
       "      <th></th>\n",
       "      <th></th>\n",
       "      <th></th>\n",
       "      <th></th>\n",
       "      <th></th>\n",
       "      <th></th>\n",
       "      <th></th>\n",
       "      <th></th>\n",
       "      <th></th>\n",
       "      <th></th>\n",
       "      <th></th>\n",
       "      <th></th>\n",
       "      <th></th>\n",
       "      <th></th>\n",
       "      <th></th>\n",
       "      <th></th>\n",
       "      <th></th>\n",
       "      <th></th>\n",
       "      <th></th>\n",
       "      <th></th>\n",
       "      <th></th>\n",
       "      <th></th>\n",
       "      <th></th>\n",
       "      <th></th>\n",
       "      <th></th>\n",
       "      <th></th>\n",
       "    </tr>\n",
       "  </thead>\n",
       "  <tbody>\n",
       "    <tr>\n",
       "      <th>1260</th>\n",
       "      <td>Tukhaev,A</td>\n",
       "      <td>Carlsen,M</td>\n",
       "      <td>2018-12-26</td>\n",
       "      <td>2018.12.26</td>\n",
       "      <td>World Rapid 2018</td>\n",
       "      <td>1-0</td>\n",
       "      <td>1. e4 c5 2. Nf3 Nc6 3. d4 cxd4 4. Nxd4 Nf6 5. ...</td>\n",
       "      <td>St Petersburg RUS</td>\n",
       "      <td>False</td>\n",
       "      <td>1.1</td>\n",
       "      <td>B33</td>\n",
       "      <td>Sicilian</td>\n",
       "      <td>1.41095e+07</td>\n",
       "      <td>1.50301e+06</td>\n",
       "      <td>2527.0</td>\n",
       "      <td>2835.0</td>\n",
       "      <td>Pelikan, Chelyabinsk variation</td>\n",
       "      <td>GM</td>\n",
       "      <td>GM</td>\n",
       "      <td>NaN</td>\n",
       "      <td>NaN</td>\n",
       "      <td>NaN</td>\n",
       "      <td>NaN</td>\n",
       "      <td>NaN</td>\n",
       "      <td>NaN</td>\n",
       "      <td>NaN</td>\n",
       "      <td>NaN</td>\n",
       "      <td>NaN</td>\n",
       "    </tr>\n",
       "    <tr>\n",
       "      <th>1260</th>\n",
       "      <td>Nakamura,Hi</td>\n",
       "      <td>Teske,H</td>\n",
       "      <td>2018-12-26</td>\n",
       "      <td>2018.12.26</td>\n",
       "      <td>World Rapid 2018</td>\n",
       "      <td>1-0</td>\n",
       "      <td>1. Nf3 Nf6 2. g3 d5 3. Bg2 g6 4. c4 dxc4 5. Na...</td>\n",
       "      <td>St Petersburg RUS</td>\n",
       "      <td>False</td>\n",
       "      <td>1.2</td>\n",
       "      <td>A05</td>\n",
       "      <td>Reti opening</td>\n",
       "      <td>2.01619e+06</td>\n",
       "      <td>4.6115e+06</td>\n",
       "      <td>2746.0</td>\n",
       "      <td>2483.0</td>\n",
       "      <td>NaN</td>\n",
       "      <td>GM</td>\n",
       "      <td>GM</td>\n",
       "      <td>NaN</td>\n",
       "      <td>NaN</td>\n",
       "      <td>NaN</td>\n",
       "      <td>NaN</td>\n",
       "      <td>NaN</td>\n",
       "      <td>NaN</td>\n",
       "      <td>NaN</td>\n",
       "      <td>NaN</td>\n",
       "      <td>NaN</td>\n",
       "    </tr>\n",
       "    <tr>\n",
       "      <th>1260</th>\n",
       "      <td>Tari,A</td>\n",
       "      <td>Artemiev,V</td>\n",
       "      <td>2018-12-26</td>\n",
       "      <td>2018.12.26</td>\n",
       "      <td>World Rapid 2018</td>\n",
       "      <td>0-1</td>\n",
       "      <td>1. e4 c5 2. Nf3 d6 3. Bb5+ Bd7 4. c4 Nc6 5. d4...</td>\n",
       "      <td>St Petersburg RUS</td>\n",
       "      <td>False</td>\n",
       "      <td>1.3</td>\n",
       "      <td>B52</td>\n",
       "      <td>Sicilian</td>\n",
       "      <td>1.51004e+06</td>\n",
       "      <td>2.41016e+07</td>\n",
       "      <td>2620.0</td>\n",
       "      <td>2709.0</td>\n",
       "      <td>Canal-Sokolsky attack, 3...Bd7</td>\n",
       "      <td>GM</td>\n",
       "      <td>GM</td>\n",
       "      <td>NaN</td>\n",
       "      <td>NaN</td>\n",
       "      <td>NaN</td>\n",
       "      <td>NaN</td>\n",
       "      <td>NaN</td>\n",
       "      <td>NaN</td>\n",
       "      <td>NaN</td>\n",
       "      <td>NaN</td>\n",
       "      <td>NaN</td>\n",
       "    </tr>\n",
       "    <tr>\n",
       "      <th>1260</th>\n",
       "      <td>Fedoseev,Vl3</td>\n",
       "      <td>Tregubov,P</td>\n",
       "      <td>2018-12-26</td>\n",
       "      <td>2018.12.26</td>\n",
       "      <td>World Rapid 2018</td>\n",
       "      <td>1/2-1/2</td>\n",
       "      <td>1. e4 e5 2. Nf3 Nf6 3. Nxe5 d6 4. Nd3 Nxe4 5. ...</td>\n",
       "      <td>St Petersburg RUS</td>\n",
       "      <td>False</td>\n",
       "      <td>1.4</td>\n",
       "      <td>C42</td>\n",
       "      <td>Petrov's defence</td>\n",
       "      <td>2.41307e+07</td>\n",
       "      <td>4.11534e+06</td>\n",
       "      <td>2719.0</td>\n",
       "      <td>2592.0</td>\n",
       "      <td>NaN</td>\n",
       "      <td>GM</td>\n",
       "      <td>GM</td>\n",
       "      <td>NaN</td>\n",
       "      <td>NaN</td>\n",
       "      <td>NaN</td>\n",
       "      <td>NaN</td>\n",
       "      <td>NaN</td>\n",
       "      <td>NaN</td>\n",
       "      <td>NaN</td>\n",
       "      <td>NaN</td>\n",
       "      <td>NaN</td>\n",
       "    </tr>\n",
       "    <tr>\n",
       "      <th>1260</th>\n",
       "      <td>Hovhannisyan,R</td>\n",
       "      <td>Aronian,L</td>\n",
       "      <td>2018-12-26</td>\n",
       "      <td>2018.12.26</td>\n",
       "      <td>World Rapid 2018</td>\n",
       "      <td>1-0</td>\n",
       "      <td>1. e4 g6 2. d4 Bg7 3. Nc3 c6 4. Nf3 d6 5. h3 N...</td>\n",
       "      <td>St Petersburg RUS</td>\n",
       "      <td>False</td>\n",
       "      <td>1.5</td>\n",
       "      <td>B06</td>\n",
       "      <td>Robatsch defence</td>\n",
       "      <td>1.33025e+07</td>\n",
       "      <td>1.33005e+07</td>\n",
       "      <td>2637.0</td>\n",
       "      <td>2765.0</td>\n",
       "      <td>two knights, Suttles variation</td>\n",
       "      <td>GM</td>\n",
       "      <td>GM</td>\n",
       "      <td>NaN</td>\n",
       "      <td>NaN</td>\n",
       "      <td>NaN</td>\n",
       "      <td>NaN</td>\n",
       "      <td>NaN</td>\n",
       "      <td>NaN</td>\n",
       "      <td>NaN</td>\n",
       "      <td>NaN</td>\n",
       "      <td>NaN</td>\n",
       "    </tr>\n",
       "  </tbody>\n",
       "</table>\n",
       "</div>"
      ],
      "text/plain": [
       "                      White       Black        Date   EventDate  \\\n",
       "twic_number                                                       \n",
       "1260              Tukhaev,A   Carlsen,M  2018-12-26  2018.12.26   \n",
       "1260            Nakamura,Hi     Teske,H  2018-12-26  2018.12.26   \n",
       "1260                 Tari,A  Artemiev,V  2018-12-26  2018.12.26   \n",
       "1260           Fedoseev,Vl3  Tregubov,P  2018-12-26  2018.12.26   \n",
       "1260         Hovhannisyan,R   Aronian,L  2018-12-26  2018.12.26   \n",
       "\n",
       "                        Event   Result  \\\n",
       "twic_number                              \n",
       "1260         World Rapid 2018      1-0   \n",
       "1260         World Rapid 2018      1-0   \n",
       "1260         World Rapid 2018      0-1   \n",
       "1260         World Rapid 2018  1/2-1/2   \n",
       "1260         World Rapid 2018      1-0   \n",
       "\n",
       "                                                mainline_moves  \\\n",
       "twic_number                                                      \n",
       "1260         1. e4 c5 2. Nf3 Nc6 3. d4 cxd4 4. Nxd4 Nf6 5. ...   \n",
       "1260         1. Nf3 Nf6 2. g3 d5 3. Bg2 g6 4. c4 dxc4 5. Na...   \n",
       "1260         1. e4 c5 2. Nf3 d6 3. Bb5+ Bd7 4. c4 Nc6 5. d4...   \n",
       "1260         1. e4 e5 2. Nf3 Nf6 3. Nxe5 d6 4. Nd3 Nxe4 5. ...   \n",
       "1260         1. e4 g6 2. d4 Bg7 3. Nc3 c6 4. Nf3 d6 5. h3 N...   \n",
       "\n",
       "                          Site  Online Round  ECO           Opening  \\\n",
       "twic_number                                                           \n",
       "1260         St Petersburg RUS   False   1.1  B33          Sicilian   \n",
       "1260         St Petersburg RUS   False   1.2  A05      Reti opening   \n",
       "1260         St Petersburg RUS   False   1.3  B52          Sicilian   \n",
       "1260         St Petersburg RUS   False   1.4  C42  Petrov's defence   \n",
       "1260         St Petersburg RUS   False   1.5  B06  Robatsch defence   \n",
       "\n",
       "             WhiteFideId  BlackFideId  WhiteElo  BlackElo  \\\n",
       "twic_number                                                 \n",
       "1260         1.41095e+07  1.50301e+06    2527.0    2835.0   \n",
       "1260         2.01619e+06   4.6115e+06    2746.0    2483.0   \n",
       "1260         1.51004e+06  2.41016e+07    2620.0    2709.0   \n",
       "1260         2.41307e+07  4.11534e+06    2719.0    2592.0   \n",
       "1260         1.33025e+07  1.33005e+07    2637.0    2765.0   \n",
       "\n",
       "                                  Variation WhiteTitle BlackTitle WhiteTeam  \\\n",
       "twic_number                                                                   \n",
       "1260         Pelikan, Chelyabinsk variation         GM         GM       NaN   \n",
       "1260                                    NaN         GM         GM       NaN   \n",
       "1260         Canal-Sokolsky attack, 3...Bd7         GM         GM       NaN   \n",
       "1260                                    NaN         GM         GM       NaN   \n",
       "1260         two knights, Suttles variation         GM         GM       NaN   \n",
       "\n",
       "            BlackTeam EventType  FEN  SetUp Variant  Board  PlyCount  \\\n",
       "twic_number                                                            \n",
       "1260              NaN       NaN  NaN    NaN     NaN    NaN       NaN   \n",
       "1260              NaN       NaN  NaN    NaN     NaN    NaN       NaN   \n",
       "1260              NaN       NaN  NaN    NaN     NaN    NaN       NaN   \n",
       "1260              NaN       NaN  NaN    NaN     NaN    NaN       NaN   \n",
       "1260              NaN       NaN  NaN    NaN     NaN    NaN       NaN   \n",
       "\n",
       "             EventCategory  \n",
       "twic_number                 \n",
       "1260                   NaN  \n",
       "1260                   NaN  \n",
       "1260                   NaN  \n",
       "1260                   NaN  \n",
       "1260                   NaN  "
      ]
     },
     "execution_count": 3,
     "metadata": {},
     "output_type": "execute_result"
    }
   ],
   "source": [
    "#Visualizamos los primeros registros del dataset\n",
    "datos_crudos.head()"
   ]
  },
  {
   "cell_type": "code",
   "execution_count": 3,
   "metadata": {},
   "outputs": [
    {
     "name": "stdout",
     "output_type": "stream",
     "text": [
      "El tamaño del dataset original es de:\n"
     ]
    },
    {
     "data": {
      "text/plain": [
       "(1971319, 28)"
      ]
     },
     "execution_count": 3,
     "metadata": {},
     "output_type": "execute_result"
    }
   ],
   "source": [
    "print(\"El tamaño del dataset original es de:\")\n",
    "datos_crudos.shape"
   ]
  },
  {
   "cell_type": "code",
   "execution_count": 4,
   "metadata": {},
   "outputs": [
    {
     "data": {
      "text/plain": [
       "Index(['White', 'Black', 'Date', 'EventDate', 'Event', 'Result',\n",
       "       'mainline_moves', 'Site', 'Online', 'Round', 'ECO', 'Opening',\n",
       "       'WhiteFideId', 'BlackFideId', 'WhiteElo', 'BlackElo', 'Variation',\n",
       "       'WhiteTitle', 'BlackTitle', 'WhiteTeam', 'BlackTeam', 'EventType',\n",
       "       'FEN', 'SetUp', 'Variant', 'Board', 'PlyCount', 'EventCategory'],\n",
       "      dtype='object')"
      ]
     },
     "execution_count": 4,
     "metadata": {},
     "output_type": "execute_result"
    }
   ],
   "source": [
    "#Listamos todas las columnas del dataset\n",
    "datos_crudos.columns"
   ]
  },
  {
   "cell_type": "code",
   "execution_count": 5,
   "metadata": {},
   "outputs": [
    {
     "name": "stdout",
     "output_type": "stream",
     "text": [
      "<class 'pandas.core.frame.DataFrame'>\n",
      "Int64Index: 1971319 entries, 1260 to 980\n",
      "Data columns (total 14 columns):\n",
      " #   Column          Non-Null Count    Dtype \n",
      "---  ------          --------------    ----- \n",
      " 0   White           1971319 non-null  object\n",
      " 1   Black           1971318 non-null  object\n",
      " 2   Date            1971319 non-null  object\n",
      " 3   EventDate       1970321 non-null  object\n",
      " 4   Event           1971319 non-null  object\n",
      " 5   Result          1971319 non-null  object\n",
      " 6   mainline_moves  1960398 non-null  object\n",
      " 7   Site            1971319 non-null  object\n",
      " 8   Online          1971319 non-null  bool  \n",
      " 9   Round           1971319 non-null  object\n",
      " 10  ECO             1962469 non-null  object\n",
      " 11  Opening         1955315 non-null  object\n",
      " 12  WhiteFideId     1945672 non-null  object\n",
      " 13  BlackFideId     1945382 non-null  object\n",
      "dtypes: bool(1), object(13)\n",
      "memory usage: 212.4+ MB\n"
     ]
    },
    {
     "data": {
      "text/plain": [
       "None"
      ]
     },
     "metadata": {},
     "output_type": "display_data"
    },
    {
     "name": "stdout",
     "output_type": "stream",
     "text": [
      "<class 'pandas.core.frame.DataFrame'>\n",
      "Int64Index: 1971319 entries, 1260 to 980\n",
      "Data columns (total 14 columns):\n",
      " #   Column         Non-Null Count    Dtype  \n",
      "---  ------         --------------    -----  \n",
      " 0   WhiteElo       1901715 non-null  float64\n",
      " 1   BlackElo       1900345 non-null  float64\n",
      " 2   Variation      1283715 non-null  object \n",
      " 3   WhiteTitle     1221853 non-null  object \n",
      " 4   BlackTitle     1214242 non-null  object \n",
      " 5   WhiteTeam      384771 non-null   object \n",
      " 6   BlackTeam      384769 non-null   object \n",
      " 7   EventType      192262 non-null   object \n",
      " 8   FEN            550 non-null      object \n",
      " 9   SetUp          543 non-null      float64\n",
      " 10  Variant        541 non-null      object \n",
      " 11  Board          128 non-null      float64\n",
      " 12  PlyCount       10 non-null       float64\n",
      " 13  EventCategory  0 non-null        float64\n",
      "dtypes: float64(6), object(8)\n",
      "memory usage: 225.6+ MB\n"
     ]
    },
    {
     "data": {
      "text/plain": [
       "None"
      ]
     },
     "metadata": {},
     "output_type": "display_data"
    }
   ],
   "source": [
    "#Vemos cuales son las columnas del dataset y que tipo de datos almacenan\n",
    "display(datos_crudos.iloc[:,0:14].info(verbose=True, null_counts=True))\n",
    "\n",
    "display(datos_crudos.iloc[:,14:28].info(verbose=True, null_counts=True))"
   ]
  },
  {
   "attachments": {},
   "cell_type": "markdown",
   "metadata": {},
   "source": [
    "## 1.1 Descripción de los Campos\n",
    "\n",
    "- White\n",
    "- Black\n",
    "- Date\n",
    "- EventDate\n",
    "- Result\n",
    "- mainline_moves\n",
    "- Site\n",
    "- Online\n",
    "- Round\n",
    "- ECO\n",
    "- Opening\n",
    "- WhiteFideId\n",
    "- BlackFideId\n",
    "- WhiteElo\n",
    "- BlackElo\n",
    "- Variation\n",
    "- WhiteTitle\n",
    "- BlackTitle\n",
    "- WhiteTeam\n",
    "- BlackTeam\n",
    "- EventType\n",
    "- FEN\n",
    "- Variant\n",
    "- Board\n",
    "- PlyCount\n",
    "- EventCategory"
   ]
  },
  {
   "attachments": {},
   "cell_type": "markdown",
   "metadata": {},
   "source": [
    "# 2. Definimos Preprocesamiento para el pipeline"
   ]
  },
  {
   "attachments": {},
   "cell_type": "markdown",
   "metadata": {},
   "source": [
    "### 2.1 Eliminar Columnas innecesarias"
   ]
  },
  {
   "cell_type": "code",
   "execution_count": 6,
   "metadata": {},
   "outputs": [],
   "source": [
    "#Defino un trasnformador que dara de baja las columnas innecesarias\n",
    "class EliminarColumnas(BaseEstimator, TransformerMixin):\n",
    "    \n",
    "    def __init__(self,factor):\n",
    "        self.factor = factor\n",
    "    \n",
    "    def fit(self,X,y=None):\n",
    "        return self\n",
    "    \n",
    "    def transform(self, X, y=None):\n",
    "        X=X.drop([\"PlyCount\", \"Board\", \"EventCategory\", \"White\", \"Black\",\"BlackTeam\", \"WhiteTeam\",'WhiteTitle','BlackTitle','ECO','Site','Round','Online'], axis=1)\n",
    "        return X "
   ]
  },
  {
   "attachments": {},
   "cell_type": "markdown",
   "metadata": {},
   "source": [
    "### 2.2 Elimar resgistros de juegos de chess 960 y luego eliminar columnas"
   ]
  },
  {
   "cell_type": "code",
   "execution_count": 7,
   "metadata": {},
   "outputs": [],
   "source": [
    "#Defino un trasnformador que dara de baja las columnas innecesarias\n",
    "class Eliminar960(BaseEstimator, TransformerMixin):\n",
    "  \n",
    "    def __init__(self,factor):\n",
    "        self.factor = factor\n",
    "    \n",
    "    def fit(self,X,y=None):\n",
    "        return self\n",
    "    \n",
    "    def transform(self, X, y=None):\n",
    "        #Filtramos los juegos de chess 960\n",
    "        X = X[ (datos_crudos.Variant.isna()) & (datos_crudos.FEN.isna()) & (datos_crudos.SetUp.isna()) ]\n",
    "        # Despues tiro estas columnas que ya no me dicen nada\n",
    "        X = X.drop([\"Variant\", \"FEN\", \"SetUp\"], axis=1)\n",
    "        \n",
    "        return X "
   ]
  },
  {
   "attachments": {},
   "cell_type": "markdown",
   "metadata": {},
   "source": [
    "### 2.3 Pasamos los registro de texto a letras minúsculas. Con la excepción \"mainline_moves\" donde la notación es \"case-sensitive\""
   ]
  },
  {
   "cell_type": "code",
   "execution_count": 8,
   "metadata": {},
   "outputs": [],
   "source": [
    "#Defino un trasnformador que dara de baja las columnas innecesarias\n",
    "class lowerCase(BaseEstimator, TransformerMixin):\n",
    "  \n",
    "    def __init__(self,factor):\n",
    "        self.factor = factor\n",
    "    \n",
    "    def fit(self,X,y=None):\n",
    "        return self\n",
    "    \n",
    "    def transform(self, X, y=None):\n",
    "        cols = [\"Event\", \"Opening\", \"Variation\", \"EventType\"]\n",
    "        for feature in cols:\n",
    "    \n",
    "            X[feature] = X[feature].str.lower().str.strip()\n",
    "        \n",
    "        return X "
   ]
  },
  {
   "attachments": {},
   "cell_type": "markdown",
   "metadata": {},
   "source": [
    "### 2.4 Pasamos la columna Date a formato de fecha y filtramos por outliers"
   ]
  },
  {
   "cell_type": "code",
   "execution_count": 23,
   "metadata": {},
   "outputs": [],
   "source": [
    "#Defino un trasnformador que dara de baja las columnas innecesarias\n",
    "class DateFilter(BaseEstimator, TransformerMixin):\n",
    "  \n",
    "    def __init__(self,factor):\n",
    "        self.factor = factor\n",
    "    \n",
    "    def fit(self,X,y=None):\n",
    "        return self\n",
    "    \n",
    "    def transform(self, X, y=None):\n",
    "        #Pasamos la columna a Date\n",
    "        X[\"Date\"] = pd.to_datetime(X[\"Date\"])\n",
    "        #Filtramos aquellos años que esten dos desvíos standar por debajo de la media\n",
    "        X=X['Date'].loc[X['Fecha'].dt.year<X['Date'].dt.year.mean()-2*X['Date'].dt.year.std()]   \n",
    "\n",
    "        return X "
   ]
  },
  {
   "attachments": {},
   "cell_type": "markdown",
   "metadata": {},
   "source": [
    "### 2.5 Limpiar la columna Resultados\n"
   ]
  },
  {
   "cell_type": "code",
   "execution_count": 30,
   "metadata": {},
   "outputs": [],
   "source": [
    "#Definimos una función que se aplicará sobre cada registro\n",
    "def limpiar_resultado(x):\n",
    "    if x=='1-0':\n",
    "        return 0\n",
    "    elif x=='0-1':\n",
    "        return 1\n",
    "    elif x=='1/2-1/2':\n",
    "        return 2\n",
    "    else: \n",
    "        return np.NaN\n",
    " \n",
    "#Defino un trasnformador que dara de baja las columnas innecesarias\n",
    "class LimpiarResultados(BaseEstimator, TransformerMixin):\n",
    "  \n",
    "    def __init__(self,factor):\n",
    "        self.factor = factor\n",
    "    \n",
    "    def fit(self,X,y=None):\n",
    "        return self\n",
    "    \n",
    "    def transform(self, X, y=None):\n",
    "        # Aplicamos la función y creamos la columna Resultado\n",
    "        y['Result'] = y['Result'].apply(limpiar_resultado)  \n",
    "\n",
    "        return y "
   ]
  },
  {
   "attachments": {},
   "cell_type": "markdown",
   "metadata": {},
   "source": [
    "### 2.6 Generamos la columna cantidad de Movimientos"
   ]
  },
  {
   "cell_type": "code",
   "execution_count": 27,
   "metadata": {},
   "outputs": [],
   "source": [
    "def cant_mov(x):\n",
    "    if type(x) is str:\n",
    "        return len(x.replace(\" \", \"\").split('.'))\n",
    "    else:\n",
    "        return np.NaN\n",
    "\n",
    "\n",
    "#Defino un trasnformador que dara de baja las columnas innecesarias\n",
    "class CantidadMovimientos(BaseEstimator, TransformerMixin):\n",
    "  \n",
    "    def __init__(self,factor):\n",
    "        self.factor = factor\n",
    "    \n",
    "    def fit(self,X,y=None):\n",
    "        return self\n",
    "    \n",
    "    def transform(self, X, y=None):\n",
    "        # Aplico la función y creo una nueva columna llamada \"Duración\"\n",
    "        X['Duración'] = X['mainline_moves'].apply(cant_mov) \n",
    "\n",
    "        return X \n"
   ]
  },
  {
   "attachments": {},
   "cell_type": "markdown",
   "metadata": {},
   "source": [
    "### 2.7 Filtrar juegos Blitz"
   ]
  },
  {
   "cell_type": "code",
   "execution_count": 28,
   "metadata": {},
   "outputs": [],
   "source": [
    "#Defino un trasnformador que dara de baja las columnas innecesarias\n",
    "class FiltrarBlitz(BaseEstimator, TransformerMixin):\n",
    "  \n",
    "    def __init__(self,factor):\n",
    "        self.factor = factor\n",
    "    \n",
    "    def fit(self,X,y=None):\n",
    "        return self\n",
    "    \n",
    "    def transform(self, X, y=None):\n",
    "        # Filtro los juegos que son blitz\n",
    "        X=X[(X.Event.str.contains(\"blitz\")) | (X.EventType.str.contains(\"blitz\"))]\n",
    "        # Quitamos las columnas event y eventype\n",
    "        X=X.drop(columns=['Event', 'EventType'])\n",
    "        X=X.dropna(axis=0)\n",
    "        return X "
   ]
  },
  {
   "attachments": {},
   "cell_type": "markdown",
   "metadata": {},
   "source": [
    "### 2.8 Definimos los paso del pipeline"
   ]
  },
  {
   "cell_type": "code",
   "execution_count": 40,
   "metadata": {},
   "outputs": [],
   "source": [
    "pasos = [('eliminarcol', EliminarColumnas), ('eliminar960', Eliminar960), ('lowercase', lowerCase),\\\n",
    "         ('DateFilter', DateFilter),('LimpiarResultados', LimpiarResultados), ('CantMov', CantidadMovimientos),\\\n",
    "            ('Blitz',FiltrarBlitz)]#,('clf', LinearRegression())]\n",
    "pipe = Pipeline(pasos)"
   ]
  },
  {
   "cell_type": "code",
   "execution_count": 80,
   "metadata": {},
   "outputs": [],
   "source": [
    "pasos = [('eliminarcol', EliminarColumnas),('clf', LinearRegression)]#,('clf', LinearRegression())]"
   ]
  },
  {
   "cell_type": "code",
   "execution_count": 81,
   "metadata": {},
   "outputs": [],
   "source": [
    "pipe = Pipeline(pasos)"
   ]
  },
  {
   "cell_type": "code",
   "execution_count": 55,
   "metadata": {},
   "outputs": [
    {
     "data": {
      "text/plain": [
       "<bound method Pipeline.get_params of Pipeline(steps=[('union',\n",
       "                 FeatureUnion(transformer_list=[('eliminarcol',\n",
       "                                                 <class '__main__.EliminarColumnas'>),\n",
       "                                                ('eliminar960',\n",
       "                                                 <class '__main__.Eliminar960'>)]))])>"
      ]
     },
     "execution_count": 55,
     "metadata": {},
     "output_type": "execute_result"
    }
   ],
   "source": [
    "pipe.get_params"
   ]
  },
  {
   "cell_type": "code",
   "execution_count": 51,
   "metadata": {},
   "outputs": [],
   "source": [
    "from sklearn.pipeline import FeatureUnion, Pipeline"
   ]
  },
  {
   "cell_type": "code",
   "execution_count": 59,
   "metadata": {},
   "outputs": [],
   "source": [
    "union=FeatureUnion([('eliminarcol',EliminarColumnas),('eliminar960', Eliminar960 ),('lowercase', lowerCase)\\\n",
    "                      ,('DateFilter', DateFilter),('LimpiarResultados', LimpiarResultados), ('CantMov', CantidadMovimientos),\\\n",
    "            ('Blitz',FiltrarBlitz)])"
   ]
  },
  {
   "cell_type": "code",
   "execution_count": 31,
   "metadata": {},
   "outputs": [],
   "source": [
    "X= datos_crudos.drop(columns='Result')\n",
    "y=datos_crudos.Result"
   ]
  },
  {
   "cell_type": "code",
   "execution_count": 33,
   "metadata": {},
   "outputs": [],
   "source": [
    "X_train, X_test, y_train, y_test = train_test_split(X, y, test_size=0.2, random_state=1)"
   ]
  },
  {
   "cell_type": "code",
   "execution_count": 82,
   "metadata": {},
   "outputs": [
    {
     "ename": "AttributeError",
     "evalue": "'DataFrame' object has no attribute 'fit'",
     "output_type": "error",
     "traceback": [
      "\u001b[1;31m---------------------------------------------------------------------------\u001b[0m",
      "\u001b[1;31mAttributeError\u001b[0m                            Traceback (most recent call last)",
      "\u001b[1;32mc:\\Users\\fpeloso\\Digital House\\TP 1 - Grupo 10\\Grupo 10\\DH-TP-1---Grupo-10\\TP FINAL\\Chess\\Main Borrador con pipeline.ipynb Cell 35\u001b[0m in \u001b[0;36m<cell line: 1>\u001b[1;34m()\u001b[0m\n\u001b[1;32m----> <a href='vscode-notebook-cell:/c%3A/Users/fpeloso/Digital%20House/TP%201%20-%20Grupo%2010/Grupo%2010/DH-TP-1---Grupo-10/TP%20FINAL/Chess/Main%20Borrador%20con%20pipeline.ipynb#Y314sZmlsZQ%3D%3D?line=0'>1</a>\u001b[0m pipe\u001b[39m.\u001b[39;49mfit(X_train, y_train)\n",
      "File \u001b[1;32mc:\\Users\\fpeloso\\Anaconda3\\envs\\dhdsblend2021\\lib\\site-packages\\sklearn\\pipeline.py:330\u001b[0m, in \u001b[0;36mPipeline.fit\u001b[1;34m(self, X, y, **fit_params)\u001b[0m\n\u001b[0;32m    304\u001b[0m \u001b[39m\"\"\"Fit the model\u001b[39;00m\n\u001b[0;32m    305\u001b[0m \n\u001b[0;32m    306\u001b[0m \u001b[39mFit all the transforms one after the other and transform the\u001b[39;00m\n\u001b[1;32m   (...)\u001b[0m\n\u001b[0;32m    327\u001b[0m \u001b[39m    This estimator\u001b[39;00m\n\u001b[0;32m    328\u001b[0m \u001b[39m\"\"\"\u001b[39;00m\n\u001b[0;32m    329\u001b[0m fit_params_steps \u001b[39m=\u001b[39m \u001b[39mself\u001b[39m\u001b[39m.\u001b[39m_check_fit_params(\u001b[39m*\u001b[39m\u001b[39m*\u001b[39mfit_params)\n\u001b[1;32m--> 330\u001b[0m Xt \u001b[39m=\u001b[39m \u001b[39mself\u001b[39;49m\u001b[39m.\u001b[39;49m_fit(X, y, \u001b[39m*\u001b[39;49m\u001b[39m*\u001b[39;49mfit_params_steps)\n\u001b[0;32m    331\u001b[0m \u001b[39mwith\u001b[39;00m _print_elapsed_time(\u001b[39m'\u001b[39m\u001b[39mPipeline\u001b[39m\u001b[39m'\u001b[39m,\n\u001b[0;32m    332\u001b[0m                          \u001b[39mself\u001b[39m\u001b[39m.\u001b[39m_log_message(\u001b[39mlen\u001b[39m(\u001b[39mself\u001b[39m\u001b[39m.\u001b[39msteps) \u001b[39m-\u001b[39m \u001b[39m1\u001b[39m)):\n\u001b[0;32m    333\u001b[0m     \u001b[39mif\u001b[39;00m \u001b[39mself\u001b[39m\u001b[39m.\u001b[39m_final_estimator \u001b[39m!=\u001b[39m \u001b[39m'\u001b[39m\u001b[39mpassthrough\u001b[39m\u001b[39m'\u001b[39m:\n",
      "File \u001b[1;32mc:\\Users\\fpeloso\\Anaconda3\\envs\\dhdsblend2021\\lib\\site-packages\\sklearn\\pipeline.py:292\u001b[0m, in \u001b[0;36mPipeline._fit\u001b[1;34m(self, X, y, **fit_params_steps)\u001b[0m\n\u001b[0;32m    290\u001b[0m     cloned_transformer \u001b[39m=\u001b[39m clone(transformer)\n\u001b[0;32m    291\u001b[0m \u001b[39m# Fit or load from cache the current transformer\u001b[39;00m\n\u001b[1;32m--> 292\u001b[0m X, fitted_transformer \u001b[39m=\u001b[39m fit_transform_one_cached(\n\u001b[0;32m    293\u001b[0m     cloned_transformer, X, y, \u001b[39mNone\u001b[39;49;00m,\n\u001b[0;32m    294\u001b[0m     message_clsname\u001b[39m=\u001b[39;49m\u001b[39m'\u001b[39;49m\u001b[39mPipeline\u001b[39;49m\u001b[39m'\u001b[39;49m,\n\u001b[0;32m    295\u001b[0m     message\u001b[39m=\u001b[39;49m\u001b[39mself\u001b[39;49m\u001b[39m.\u001b[39;49m_log_message(step_idx),\n\u001b[0;32m    296\u001b[0m     \u001b[39m*\u001b[39;49m\u001b[39m*\u001b[39;49mfit_params_steps[name])\n\u001b[0;32m    297\u001b[0m \u001b[39m# Replace the transformer of the step with the fitted\u001b[39;00m\n\u001b[0;32m    298\u001b[0m \u001b[39m# transformer. This is necessary when loading the transformer\u001b[39;00m\n\u001b[0;32m    299\u001b[0m \u001b[39m# from the cache.\u001b[39;00m\n\u001b[0;32m    300\u001b[0m \u001b[39mself\u001b[39m\u001b[39m.\u001b[39msteps[step_idx] \u001b[39m=\u001b[39m (name, fitted_transformer)\n",
      "File \u001b[1;32mc:\\Users\\fpeloso\\Anaconda3\\envs\\dhdsblend2021\\lib\\site-packages\\joblib\\memory.py:349\u001b[0m, in \u001b[0;36mNotMemorizedFunc.__call__\u001b[1;34m(self, *args, **kwargs)\u001b[0m\n\u001b[0;32m    348\u001b[0m \u001b[39mdef\u001b[39;00m \u001b[39m__call__\u001b[39m(\u001b[39mself\u001b[39m, \u001b[39m*\u001b[39margs, \u001b[39m*\u001b[39m\u001b[39m*\u001b[39mkwargs):\n\u001b[1;32m--> 349\u001b[0m     \u001b[39mreturn\u001b[39;00m \u001b[39mself\u001b[39;49m\u001b[39m.\u001b[39;49mfunc(\u001b[39m*\u001b[39;49margs, \u001b[39m*\u001b[39;49m\u001b[39m*\u001b[39;49mkwargs)\n",
      "File \u001b[1;32mc:\\Users\\fpeloso\\Anaconda3\\envs\\dhdsblend2021\\lib\\site-packages\\sklearn\\pipeline.py:740\u001b[0m, in \u001b[0;36m_fit_transform_one\u001b[1;34m(transformer, X, y, weight, message_clsname, message, **fit_params)\u001b[0m\n\u001b[0;32m    738\u001b[0m \u001b[39mwith\u001b[39;00m _print_elapsed_time(message_clsname, message):\n\u001b[0;32m    739\u001b[0m     \u001b[39mif\u001b[39;00m \u001b[39mhasattr\u001b[39m(transformer, \u001b[39m'\u001b[39m\u001b[39mfit_transform\u001b[39m\u001b[39m'\u001b[39m):\n\u001b[1;32m--> 740\u001b[0m         res \u001b[39m=\u001b[39m transformer\u001b[39m.\u001b[39;49mfit_transform(X, y, \u001b[39m*\u001b[39;49m\u001b[39m*\u001b[39;49mfit_params)\n\u001b[0;32m    741\u001b[0m     \u001b[39melse\u001b[39;00m:\n\u001b[0;32m    742\u001b[0m         res \u001b[39m=\u001b[39m transformer\u001b[39m.\u001b[39mfit(X, y, \u001b[39m*\u001b[39m\u001b[39m*\u001b[39mfit_params)\u001b[39m.\u001b[39mtransform(X)\n",
      "File \u001b[1;32mc:\\Users\\fpeloso\\Anaconda3\\envs\\dhdsblend2021\\lib\\site-packages\\sklearn\\base.py:690\u001b[0m, in \u001b[0;36mTransformerMixin.fit_transform\u001b[1;34m(self, X, y, **fit_params)\u001b[0m\n\u001b[0;32m    686\u001b[0m \u001b[39m# non-optimized default implementation; override when a better\u001b[39;00m\n\u001b[0;32m    687\u001b[0m \u001b[39m# method is possible for a given clustering algorithm\u001b[39;00m\n\u001b[0;32m    688\u001b[0m \u001b[39mif\u001b[39;00m y \u001b[39mis\u001b[39;00m \u001b[39mNone\u001b[39;00m:\n\u001b[0;32m    689\u001b[0m     \u001b[39m# fit method of arity 1 (unsupervised transformation)\u001b[39;00m\n\u001b[1;32m--> 690\u001b[0m     \u001b[39mreturn\u001b[39;00m \u001b[39mself\u001b[39;49m\u001b[39m.\u001b[39;49mfit(X, \u001b[39m*\u001b[39m\u001b[39m*\u001b[39mfit_params)\u001b[39m.\u001b[39mtransform(X)\n\u001b[0;32m    691\u001b[0m \u001b[39melse\u001b[39;00m:\n\u001b[0;32m    692\u001b[0m     \u001b[39m# fit method of arity 2 (supervised transformation)\u001b[39;00m\n\u001b[0;32m    693\u001b[0m     \u001b[39mreturn\u001b[39;00m \u001b[39mself\u001b[39m\u001b[39m.\u001b[39mfit(X, y, \u001b[39m*\u001b[39m\u001b[39m*\u001b[39mfit_params)\u001b[39m.\u001b[39mtransform(X)\n",
      "File \u001b[1;32mc:\\Users\\fpeloso\\Anaconda3\\envs\\dhdsblend2021\\lib\\site-packages\\pandas\\core\\generic.py:5141\u001b[0m, in \u001b[0;36mNDFrame.__getattr__\u001b[1;34m(self, name)\u001b[0m\n\u001b[0;32m   5139\u001b[0m \u001b[39mif\u001b[39;00m \u001b[39mself\u001b[39m\u001b[39m.\u001b[39m_info_axis\u001b[39m.\u001b[39m_can_hold_identifiers_and_holds_name(name):\n\u001b[0;32m   5140\u001b[0m     \u001b[39mreturn\u001b[39;00m \u001b[39mself\u001b[39m[name]\n\u001b[1;32m-> 5141\u001b[0m \u001b[39mreturn\u001b[39;00m \u001b[39mobject\u001b[39;49m\u001b[39m.\u001b[39;49m\u001b[39m__getattribute__\u001b[39;49m(\u001b[39mself\u001b[39;49m, name)\n",
      "\u001b[1;31mAttributeError\u001b[0m: 'DataFrame' object has no attribute 'fit'"
     ]
    }
   ],
   "source": [
    "pipe.fit(X_train, y_train)"
   ]
  },
  {
   "cell_type": "code",
   "execution_count": 67,
   "metadata": {},
   "outputs": [
    {
     "data": {
      "text/html": [
       "<div>\n",
       "<style scoped>\n",
       "    .dataframe tbody tr th:only-of-type {\n",
       "        vertical-align: middle;\n",
       "    }\n",
       "\n",
       "    .dataframe tbody tr th {\n",
       "        vertical-align: top;\n",
       "    }\n",
       "\n",
       "    .dataframe thead th {\n",
       "        text-align: right;\n",
       "    }\n",
       "</style>\n",
       "<table border=\"1\" class=\"dataframe\">\n",
       "  <thead>\n",
       "    <tr style=\"text-align: right;\">\n",
       "      <th></th>\n",
       "      <th>White</th>\n",
       "      <th>Black</th>\n",
       "      <th>Date</th>\n",
       "      <th>EventDate</th>\n",
       "      <th>Event</th>\n",
       "      <th>mainline_moves</th>\n",
       "      <th>Site</th>\n",
       "      <th>Online</th>\n",
       "      <th>Round</th>\n",
       "      <th>ECO</th>\n",
       "      <th>Opening</th>\n",
       "      <th>WhiteFideId</th>\n",
       "      <th>BlackFideId</th>\n",
       "      <th>WhiteElo</th>\n",
       "      <th>BlackElo</th>\n",
       "      <th>Variation</th>\n",
       "      <th>WhiteTitle</th>\n",
       "      <th>BlackTitle</th>\n",
       "      <th>WhiteTeam</th>\n",
       "      <th>BlackTeam</th>\n",
       "      <th>EventType</th>\n",
       "      <th>FEN</th>\n",
       "      <th>SetUp</th>\n",
       "      <th>Variant</th>\n",
       "      <th>Board</th>\n",
       "      <th>PlyCount</th>\n",
       "      <th>EventCategory</th>\n",
       "      <th>Fecha</th>\n",
       "    </tr>\n",
       "    <tr>\n",
       "      <th>twic_number</th>\n",
       "      <th></th>\n",
       "      <th></th>\n",
       "      <th></th>\n",
       "      <th></th>\n",
       "      <th></th>\n",
       "      <th></th>\n",
       "      <th></th>\n",
       "      <th></th>\n",
       "      <th></th>\n",
       "      <th></th>\n",
       "      <th></th>\n",
       "      <th></th>\n",
       "      <th></th>\n",
       "      <th></th>\n",
       "      <th></th>\n",
       "      <th></th>\n",
       "      <th></th>\n",
       "      <th></th>\n",
       "      <th></th>\n",
       "      <th></th>\n",
       "      <th></th>\n",
       "      <th></th>\n",
       "      <th></th>\n",
       "      <th></th>\n",
       "      <th></th>\n",
       "      <th></th>\n",
       "      <th></th>\n",
       "      <th></th>\n",
       "    </tr>\n",
       "  </thead>\n",
       "  <tbody>\n",
       "    <tr>\n",
       "      <th>1195</th>\n",
       "      <td>Uzhva,A</td>\n",
       "      <td>Belyakov,B</td>\n",
       "      <td>2017-10-01</td>\n",
       "      <td>2017.09.30</td>\n",
       "      <td>ch-RUS Rapid 2017</td>\n",
       "      <td>1. d4 Nf6 2. Nf3 g6 3. g3 Bg7 4. Bg2 O-O 5. c4...</td>\n",
       "      <td>Sochi RUS</td>\n",
       "      <td>False</td>\n",
       "      <td>10.25</td>\n",
       "      <td>E64</td>\n",
       "      <td>King's Indian</td>\n",
       "      <td>4.1608e+06</td>\n",
       "      <td>2.41048e+07</td>\n",
       "      <td>2270.0</td>\n",
       "      <td>2486.0</td>\n",
       "      <td>fianchetto, Yugoslav system</td>\n",
       "      <td>FM</td>\n",
       "      <td>IM</td>\n",
       "      <td>NaN</td>\n",
       "      <td>NaN</td>\n",
       "      <td>NaN</td>\n",
       "      <td>NaN</td>\n",
       "      <td>NaN</td>\n",
       "      <td>NaN</td>\n",
       "      <td>NaN</td>\n",
       "      <td>NaN</td>\n",
       "      <td>NaN</td>\n",
       "      <td>2017-10-01</td>\n",
       "    </tr>\n",
       "    <tr>\n",
       "      <th>1094</th>\n",
       "      <td>Pijpers,A</td>\n",
       "      <td>Romanov,E</td>\n",
       "      <td>2015-10-24</td>\n",
       "      <td>2015.10.18</td>\n",
       "      <td>31st ECC Open 2015</td>\n",
       "      <td>1. e4 e5 2. Nf3 Nc6 3. Bb5 a6 4. Ba4 Nf6 5. O-...</td>\n",
       "      <td>Skopje MKD</td>\n",
       "      <td>False</td>\n",
       "      <td>7.7</td>\n",
       "      <td>C96</td>\n",
       "      <td>Ruy Lopez</td>\n",
       "      <td>1.01955e+06</td>\n",
       "      <td>4.14884e+06</td>\n",
       "      <td>2436.0</td>\n",
       "      <td>2573.0</td>\n",
       "      <td>closed, Keres (...Nd7) defence</td>\n",
       "      <td>IM</td>\n",
       "      <td>GM</td>\n",
       "      <td>LSG LEIDEN (NED)</td>\n",
       "      <td>VAALERENGA (NOR)</td>\n",
       "      <td>NaN</td>\n",
       "      <td>NaN</td>\n",
       "      <td>NaN</td>\n",
       "      <td>NaN</td>\n",
       "      <td>NaN</td>\n",
       "      <td>NaN</td>\n",
       "      <td>NaN</td>\n",
       "      <td>2015-10-24</td>\n",
       "    </tr>\n",
       "    <tr>\n",
       "      <th>1321</th>\n",
       "      <td>Stijve,Theo</td>\n",
       "      <td>Albornoz Cabrera,Carlos Daniel</td>\n",
       "      <td>2020-02-28</td>\n",
       "      <td>2020.02.26</td>\n",
       "      <td>Accentus Young Masters</td>\n",
       "      <td>1. e4 c5 2. Nf3 d6 3. d4 cxd4 4. Nxd4 Nf6 5. N...</td>\n",
       "      <td>Bad Ragaz SUI</td>\n",
       "      <td>False</td>\n",
       "      <td>3.5</td>\n",
       "      <td>B90</td>\n",
       "      <td>Sicilian</td>\n",
       "      <td>1.33113e+06</td>\n",
       "      <td>3.51874e+06</td>\n",
       "      <td>2249.0</td>\n",
       "      <td>2566.0</td>\n",
       "      <td>Najdorf, Byrne (English) attack</td>\n",
       "      <td>FM</td>\n",
       "      <td>GM</td>\n",
       "      <td>Team Switzerland</td>\n",
       "      <td>Team World</td>\n",
       "      <td>NaN</td>\n",
       "      <td>NaN</td>\n",
       "      <td>NaN</td>\n",
       "      <td>NaN</td>\n",
       "      <td>NaN</td>\n",
       "      <td>NaN</td>\n",
       "      <td>NaN</td>\n",
       "      <td>2020-02-28</td>\n",
       "    </tr>\n",
       "    <tr>\n",
       "      <th>1056</th>\n",
       "      <td>Holleland,Sigve</td>\n",
       "      <td>Wemmers,X</td>\n",
       "      <td>2015-01-29</td>\n",
       "      <td>2015.01.27</td>\n",
       "      <td>Gibraltar Masters 2015</td>\n",
       "      <td>1. d4 Nf6 2. c4 e6 3. Nc3 Bb4 4. Qc2 Nc6 5. Nf...</td>\n",
       "      <td>Caleta ENG</td>\n",
       "      <td>False</td>\n",
       "      <td>3.76</td>\n",
       "      <td>E33</td>\n",
       "      <td>Nimzo-Indian</td>\n",
       "      <td>1.51367e+06</td>\n",
       "      <td>1.00418e+06</td>\n",
       "      <td>2116.0</td>\n",
       "      <td>2353.0</td>\n",
       "      <td>classical, 4...Nc6</td>\n",
       "      <td>NaN</td>\n",
       "      <td>IM</td>\n",
       "      <td>NaN</td>\n",
       "      <td>NaN</td>\n",
       "      <td>NaN</td>\n",
       "      <td>NaN</td>\n",
       "      <td>NaN</td>\n",
       "      <td>NaN</td>\n",
       "      <td>NaN</td>\n",
       "      <td>NaN</td>\n",
       "      <td>NaN</td>\n",
       "      <td>2015-01-29</td>\n",
       "    </tr>\n",
       "    <tr>\n",
       "      <th>943</th>\n",
       "      <td>Tomin,Ks</td>\n",
       "      <td>Santos,In</td>\n",
       "      <td>2012-11-12</td>\n",
       "      <td>2012.11.08</td>\n",
       "      <td>WY GU16 2012</td>\n",
       "      <td>1. e4 e5 2. Nf3 Nc6 3. Bc4 Bc5 4. c3 Nf6 5. d3...</td>\n",
       "      <td>Maribor SLO</td>\n",
       "      <td>False</td>\n",
       "      <td>5.29</td>\n",
       "      <td>C53</td>\n",
       "      <td>Giuoco Piano</td>\n",
       "      <td>945315</td>\n",
       "      <td>1.91303e+06</td>\n",
       "      <td>1951.0</td>\n",
       "      <td>1734.0</td>\n",
       "      <td>NaN</td>\n",
       "      <td>NaN</td>\n",
       "      <td>NaN</td>\n",
       "      <td>NaN</td>\n",
       "      <td>NaN</td>\n",
       "      <td>swiss</td>\n",
       "      <td>NaN</td>\n",
       "      <td>NaN</td>\n",
       "      <td>NaN</td>\n",
       "      <td>NaN</td>\n",
       "      <td>NaN</td>\n",
       "      <td>NaN</td>\n",
       "      <td>2012-11-12</td>\n",
       "    </tr>\n",
       "  </tbody>\n",
       "</table>\n",
       "</div>"
      ],
      "text/plain": [
       "                       White                           Black        Date  \\\n",
       "twic_number                                                                \n",
       "1195                 Uzhva,A                      Belyakov,B  2017-10-01   \n",
       "1094               Pijpers,A                       Romanov,E  2015-10-24   \n",
       "1321             Stijve,Theo  Albornoz Cabrera,Carlos Daniel  2020-02-28   \n",
       "1056         Holleland,Sigve                       Wemmers,X  2015-01-29   \n",
       "943                 Tomin,Ks                       Santos,In  2012-11-12   \n",
       "\n",
       "              EventDate                   Event  \\\n",
       "twic_number                                       \n",
       "1195         2017.09.30       ch-RUS Rapid 2017   \n",
       "1094         2015.10.18      31st ECC Open 2015   \n",
       "1321         2020.02.26  Accentus Young Masters   \n",
       "1056         2015.01.27  Gibraltar Masters 2015   \n",
       "943          2012.11.08            WY GU16 2012   \n",
       "\n",
       "                                                mainline_moves           Site  \\\n",
       "twic_number                                                                     \n",
       "1195         1. d4 Nf6 2. Nf3 g6 3. g3 Bg7 4. Bg2 O-O 5. c4...      Sochi RUS   \n",
       "1094         1. e4 e5 2. Nf3 Nc6 3. Bb5 a6 4. Ba4 Nf6 5. O-...     Skopje MKD   \n",
       "1321         1. e4 c5 2. Nf3 d6 3. d4 cxd4 4. Nxd4 Nf6 5. N...  Bad Ragaz SUI   \n",
       "1056         1. d4 Nf6 2. c4 e6 3. Nc3 Bb4 4. Qc2 Nc6 5. Nf...     Caleta ENG   \n",
       "943          1. e4 e5 2. Nf3 Nc6 3. Bc4 Bc5 4. c3 Nf6 5. d3...    Maribor SLO   \n",
       "\n",
       "             Online  Round  ECO        Opening  WhiteFideId  BlackFideId  \\\n",
       "twic_number                                                                \n",
       "1195          False  10.25  E64  King's Indian   4.1608e+06  2.41048e+07   \n",
       "1094          False    7.7  C96      Ruy Lopez  1.01955e+06  4.14884e+06   \n",
       "1321          False    3.5  B90       Sicilian  1.33113e+06  3.51874e+06   \n",
       "1056          False   3.76  E33   Nimzo-Indian  1.51367e+06  1.00418e+06   \n",
       "943           False   5.29  C53   Giuoco Piano       945315  1.91303e+06   \n",
       "\n",
       "             WhiteElo  BlackElo                        Variation WhiteTitle  \\\n",
       "twic_number                                                                   \n",
       "1195           2270.0    2486.0      fianchetto, Yugoslav system         FM   \n",
       "1094           2436.0    2573.0   closed, Keres (...Nd7) defence         IM   \n",
       "1321           2249.0    2566.0  Najdorf, Byrne (English) attack         FM   \n",
       "1056           2116.0    2353.0               classical, 4...Nc6        NaN   \n",
       "943            1951.0    1734.0                              NaN        NaN   \n",
       "\n",
       "            BlackTitle         WhiteTeam         BlackTeam EventType  FEN  \\\n",
       "twic_number                                                                 \n",
       "1195                IM               NaN               NaN       NaN  NaN   \n",
       "1094                GM  LSG LEIDEN (NED)  VAALERENGA (NOR)       NaN  NaN   \n",
       "1321                GM  Team Switzerland        Team World       NaN  NaN   \n",
       "1056                IM               NaN               NaN       NaN  NaN   \n",
       "943                NaN               NaN               NaN     swiss  NaN   \n",
       "\n",
       "             SetUp Variant  Board  PlyCount  EventCategory      Fecha  \n",
       "twic_number                                                            \n",
       "1195           NaN     NaN    NaN       NaN            NaN 2017-10-01  \n",
       "1094           NaN     NaN    NaN       NaN            NaN 2015-10-24  \n",
       "1321           NaN     NaN    NaN       NaN            NaN 2020-02-28  \n",
       "1056           NaN     NaN    NaN       NaN            NaN 2015-01-29  \n",
       "943            NaN     NaN    NaN       NaN            NaN 2012-11-12  "
      ]
     },
     "execution_count": 67,
     "metadata": {},
     "output_type": "execute_result"
    }
   ],
   "source": [
    "X_train.head()"
   ]
  },
  {
   "attachments": {},
   "cell_type": "markdown",
   "metadata": {},
   "source": [
    "## 2. Limpieza y Preprocesamiento de Datos"
   ]
  },
  {
   "attachments": {},
   "cell_type": "markdown",
   "metadata": {},
   "source": [
    "### 2.7 Filtramos aquellas partidas dónde el Control de Tiempo haya sido Blitz (3 minutos) y/o Rapid (5 minutos).\n",
    "En estas partidas con menor tiempo de juego, la diferencia de puntuación entre jugadores es un factor más determinante en el resultado final del juego.\n",
    "\n",
    "Las columnas Event y EventType son las que tienen información sobre el tipo de control de tiempo utilizado."
   ]
  },
  {
   "cell_type": "code",
   "execution_count": 21,
   "metadata": {},
   "outputs": [],
   "source": [
    "# Creamos un nuevo dataframe filtrando si las columnas Event y EventType tiene la palabra blitz y/o rapid\n",
    "datos_bz_rp=datos_crudos[(datos_crudos.Event.str.contains(\"blitz\")) | (datos_crudos.EventType.str.contains(\"blitz\"))|(datos_crudos.Event.str.contains(\"rapid\")) | (datos_crudos.EventType.str.contains(\"rapid\"))]"
   ]
  },
  {
   "cell_type": "code",
   "execution_count": 22,
   "metadata": {},
   "outputs": [
    {
     "name": "stdout",
     "output_type": "stream",
     "text": [
      "Tamaño del dataset de partidas Blitz y Rapid:\n"
     ]
    },
    {
     "data": {
      "text/plain": [
       "(181540, 15)"
      ]
     },
     "execution_count": 22,
     "metadata": {},
     "output_type": "execute_result"
    }
   ],
   "source": [
    "print(\"Tamaño del dataset de partidas Blitz y Rapid:\")\n",
    "datos_bz_rp.shape"
   ]
  },
  {
   "attachments": {},
   "cell_type": "markdown",
   "metadata": {},
   "source": [
    "### 2.8 Visualizamos y limpiamos los valores de la columna Opening\n",
    "Esta columna indica la apertura elegida por blancas. Esto determina el tipo de estrategia que seguirá la partida, si es mas agresiva o conservadora, posicionas mas o menos balanceades, etc."
   ]
  },
  {
   "cell_type": "code",
   "execution_count": 23,
   "metadata": {},
   "outputs": [
    {
     "data": {
      "text/plain": [
       "sicilian                                        26807\n",
       "french                                           8804\n",
       "king's indian                                    8275\n",
       "queen's pawn game                                8114\n",
       "qgd                                              7541\n",
       "ruy lopez                                        7442\n",
       "caro-kann                                        7258\n",
       "english                                          7154\n",
       "reti                                             5310\n",
       "reti opening                                     5276\n",
       "english opening                                  5038\n",
       "sicilian defence                                 4800\n",
       "queen's pawn                                     4134\n",
       "nimzo-indian                                     3684\n",
       "qgd slav                                         3407\n",
       "queen's indian                                   2171\n",
       "giuoco piano                                     2163\n",
       "gruenfeld                                        2150\n",
       "catalan                                          2092\n",
       "trompovsky attack (ruth, opovcensky opening)     1897\n",
       "Name: Opening, dtype: int64"
      ]
     },
     "execution_count": 23,
     "metadata": {},
     "output_type": "execute_result"
    }
   ],
   "source": [
    "#Vemos las aperturas más utilizadas\n",
    "datos_bz_rp.Opening.value_counts().head(20)"
   ]
  },
  {
   "attachments": {},
   "cell_type": "markdown",
   "metadata": {},
   "source": [
    "Vamos a limpiar los valores repetidos la columna y categorizar a todas a las aperturas fuera del top 20 como \"otras\""
   ]
  },
  {
   "cell_type": "code",
   "execution_count": 24,
   "metadata": {},
   "outputs": [
    {
     "name": "stderr",
     "output_type": "stream",
     "text": [
      "C:\\Users\\fpeloso\\AppData\\Local\\Temp\\ipykernel_5152\\1016428220.py:14: SettingWithCopyWarning: \n",
      "A value is trying to be set on a copy of a slice from a DataFrame.\n",
      "Try using .loc[row_indexer,col_indexer] = value instead\n",
      "\n",
      "See the caveats in the documentation: https://pandas.pydata.org/pandas-docs/stable/user_guide/indexing.html#returning-a-view-versus-a-copy\n",
      "  datos_bz_rp['Apertura'] = datos_bz_rp['Opening'].apply(limpiar_opening)\n"
     ]
    }
   ],
   "source": [
    "def limpiar_opening(x):\n",
    "    if \"sicilian\" in str(x):\n",
    "        return \"sicilian\"\n",
    "    elif \"english\" in str(x):\n",
    "        return \"english\"\n",
    "    elif \"reti\" in str(x):\n",
    "        return \"reti\"\n",
    "    elif \"qgd\" in str(x):\n",
    "        return \"qgd\"\n",
    "    else: \n",
    "        return x\n",
    " \n",
    "# Aplicamos la función \n",
    "datos_bz_rp['Apertura'] = datos_bz_rp['Opening'].apply(limpiar_opening)"
   ]
  },
  {
   "cell_type": "code",
   "execution_count": 25,
   "metadata": {},
   "outputs": [
    {
     "data": {
      "text/plain": [
       "sicilian                                        32324\n",
       "qgd                                             14010\n",
       "english                                         12996\n",
       "reti                                            10966\n",
       "french                                           8804\n",
       "king's indian                                    8275\n",
       "queen's pawn game                                8114\n",
       "ruy lopez                                        7442\n",
       "caro-kann                                        7258\n",
       "queen's pawn                                     4134\n",
       "nimzo-indian                                     3684\n",
       "queen's indian                                   2171\n",
       "giuoco piano                                     2163\n",
       "gruenfeld                                        2150\n",
       "catalan                                          2092\n",
       "trompovsky attack (ruth, opovcensky opening)     1897\n",
       "nimzovich-larsen attack                          1859\n",
       "robatsch (modern) defence                        1684\n",
       "pirc                                             1530\n",
       "four knights                                     1479\n",
       "Name: Apertura, dtype: int64"
      ]
     },
     "execution_count": 25,
     "metadata": {},
     "output_type": "execute_result"
    }
   ],
   "source": [
    "#Vemos las aperturas más utilizadas luego de haber corregido las repetidas en el top 20\n",
    "datos_bz_rp.Apertura.value_counts().head(20)"
   ]
  },
  {
   "attachments": {},
   "cell_type": "markdown",
   "metadata": {},
   "source": [
    "Ponemos un umbral de 2000 registros para las aperturas. Aquellas que tengan menos de 2000, serán categorizadas\n",
    "como \"other\""
   ]
  },
  {
   "cell_type": "code",
   "execution_count": 26,
   "metadata": {},
   "outputs": [
    {
     "name": "stderr",
     "output_type": "stream",
     "text": [
      "C:\\Users\\fpeloso\\AppData\\Local\\Temp\\ipykernel_5152\\4216729748.py:2: SettingWithCopyWarning: \n",
      "A value is trying to be set on a copy of a slice from a DataFrame.\n",
      "Try using .loc[row_indexer,col_indexer] = value instead\n",
      "\n",
      "See the caveats in the documentation: https://pandas.pydata.org/pandas-docs/stable/user_guide/indexing.html#returning-a-view-versus-a-copy\n",
      "  datos_bz_rp['Apertura']=datos_bz_rp.Apertura.where(datos_bz_rp['Apertura'].map(datos_bz_rp['Apertura'].value_counts()).gt(2000),'other')\n"
     ]
    }
   ],
   "source": [
    "#Aquellas Aperturas que tenga menos de 2000 registros, las clasifico como 'other'\n",
    "datos_bz_rp['Apertura']=datos_bz_rp.Apertura.where(datos_bz_rp['Apertura'].map(datos_bz_rp['Apertura'].value_counts()).gt(2000),'other')"
   ]
  },
  {
   "cell_type": "code",
   "execution_count": 27,
   "metadata": {},
   "outputs": [
    {
     "data": {
      "text/plain": [
       "other                54957\n",
       "sicilian             32324\n",
       "qgd                  14010\n",
       "english              12996\n",
       "reti                 10966\n",
       "french                8804\n",
       "king's indian         8275\n",
       "queen's pawn game     8114\n",
       "ruy lopez             7442\n",
       "caro-kann             7258\n",
       "queen's pawn          4134\n",
       "nimzo-indian          3684\n",
       "queen's indian        2171\n",
       "giuoco piano          2163\n",
       "gruenfeld             2150\n",
       "catalan               2092\n",
       "Name: Apertura, dtype: int64"
      ]
     },
     "execution_count": 27,
     "metadata": {},
     "output_type": "execute_result"
    }
   ],
   "source": [
    "datos_bz_rp['Apertura'].value_counts()"
   ]
  },
  {
   "attachments": {},
   "cell_type": "markdown",
   "metadata": {},
   "source": [
    "Verificamos por última vez las columnas que ya no son necesarias para nuestro luego de haber limpiado el dataset"
   ]
  },
  {
   "cell_type": "code",
   "execution_count": 28,
   "metadata": {},
   "outputs": [
    {
     "data": {
      "text/plain": [
       "Index(['Date', 'EventDate', 'Event', 'Result', 'mainline_moves', 'Opening',\n",
       "       'WhiteFideId', 'BlackFideId', 'WhiteElo', 'BlackElo', 'Variation',\n",
       "       'EventType', 'Fecha', 'Resultado', 'Duración', 'Apertura'],\n",
       "      dtype='object')"
      ]
     },
     "execution_count": 28,
     "metadata": {},
     "output_type": "execute_result"
    }
   ],
   "source": [
    "datos_bz_rp.columns"
   ]
  },
  {
   "attachments": {},
   "cell_type": "markdown",
   "metadata": {},
   "source": [
    "### 2.9 Removemos las columnas que ya no vamos a utilizar: Date, EventDate, Fecha, Variation, mainline_moves, Result y Opening"
   ]
  },
  {
   "cell_type": "code",
   "execution_count": 29,
   "metadata": {},
   "outputs": [],
   "source": [
    "datos_bz_rp=datos_bz_rp.drop(columns=['Date','EventDate','Fecha','Variation','mainline_moves','Result','Opening'])"
   ]
  },
  {
   "cell_type": "code",
   "execution_count": 30,
   "metadata": {},
   "outputs": [
    {
     "data": {
      "text/plain": [
       "Index(['Event', 'WhiteFideId', 'BlackFideId', 'WhiteElo', 'BlackElo',\n",
       "       'EventType', 'Resultado', 'Duración', 'Apertura'],\n",
       "      dtype='object')"
      ]
     },
     "execution_count": 30,
     "metadata": {},
     "output_type": "execute_result"
    }
   ],
   "source": [
    "datos_bz_rp.columns"
   ]
  },
  {
   "attachments": {},
   "cell_type": "markdown",
   "metadata": {},
   "source": [
    "### 2.10 Reseteamos el Index "
   ]
  },
  {
   "cell_type": "code",
   "execution_count": 31,
   "metadata": {},
   "outputs": [],
   "source": [
    "datos_bz_rp=datos_bz_rp.reset_index(drop=True)"
   ]
  },
  {
   "attachments": {},
   "cell_type": "markdown",
   "metadata": {},
   "source": [
    "### 2.11 Separamos en Blitz por un lado y Rapid por el otro"
   ]
  },
  {
   "cell_type": "code",
   "execution_count": 32,
   "metadata": {},
   "outputs": [
    {
     "data": {
      "text/plain": [
       "(104576, 9)"
      ]
     },
     "execution_count": 32,
     "metadata": {},
     "output_type": "execute_result"
    }
   ],
   "source": [
    "# Hagamos un df con partidas blitz\n",
    "datos_blitz = datos_bz_rp[(datos_bz_rp.Event.str.contains(\"blitz\")) | (datos_bz_rp.EventType.str.contains(\"blitz\"))]\n",
    "datos_blitz.shape"
   ]
  },
  {
   "cell_type": "code",
   "execution_count": 33,
   "metadata": {},
   "outputs": [
    {
     "data": {
      "text/plain": [
       "(77040, 9)"
      ]
     },
     "execution_count": 33,
     "metadata": {},
     "output_type": "execute_result"
    }
   ],
   "source": [
    "# Hagamos un df con partidas blitz\n",
    "datos_rapid = datos_bz_rp[(datos_bz_rp.Event.str.contains(\"rapid\")) | (datos_bz_rp.EventType.str.contains(\"rapid\"))]\n",
    "datos_rapid.shape"
   ]
  },
  {
   "attachments": {},
   "cell_type": "markdown",
   "metadata": {},
   "source": [
    "### 2.12 Eliminamos las columnas Event y EventType luego de separa en Blitz y Rapid"
   ]
  },
  {
   "cell_type": "code",
   "execution_count": 34,
   "metadata": {},
   "outputs": [],
   "source": [
    "datos_blitz=datos_blitz.drop(columns=['Event', 'EventType'])\n",
    "\n",
    "datos_rapid=datos_rapid.drop(columns=['Event', 'EventType'])"
   ]
  },
  {
   "attachments": {},
   "cell_type": "markdown",
   "metadata": {},
   "source": [
    "### 2.13 Eliminamos Registros que tengan algun valor nulo"
   ]
  },
  {
   "cell_type": "code",
   "execution_count": 35,
   "metadata": {},
   "outputs": [],
   "source": [
    "data=datos_blitz.dropna(axis=0)"
   ]
  },
  {
   "attachments": {},
   "cell_type": "markdown",
   "metadata": {},
   "source": [
    "Asi quedaron las columnas finales que serán las features y target de nuestro modelo"
   ]
  },
  {
   "cell_type": "code",
   "execution_count": 36,
   "metadata": {},
   "outputs": [
    {
     "name": "stdout",
     "output_type": "stream",
     "text": [
      "<class 'pandas.core.frame.DataFrame'>\n",
      "Int64Index: 90882 entries, 2244 to 181363\n",
      "Data columns (total 7 columns):\n",
      " #   Column       Non-Null Count  Dtype  \n",
      "---  ------       --------------  -----  \n",
      " 0   WhiteFideId  90882 non-null  object \n",
      " 1   BlackFideId  90882 non-null  object \n",
      " 2   WhiteElo     90882 non-null  float64\n",
      " 3   BlackElo     90882 non-null  float64\n",
      " 4   Resultado    90882 non-null  float64\n",
      " 5   Duración     90882 non-null  float64\n",
      " 6   Apertura     90882 non-null  object \n",
      "dtypes: float64(4), object(3)\n",
      "memory usage: 5.5+ MB\n"
     ]
    }
   ],
   "source": [
    "data.info()"
   ]
  },
  {
   "attachments": {},
   "cell_type": "markdown",
   "metadata": {},
   "source": [
    "# 3. Definimos Features y Target del Modelo"
   ]
  },
  {
   "attachments": {},
   "cell_type": "markdown",
   "metadata": {},
   "source": [
    "### 3.1 Definimos X e Y"
   ]
  },
  {
   "cell_type": "code",
   "execution_count": 37,
   "metadata": {},
   "outputs": [],
   "source": [
    "X= data.drop(columns='Resultado')\n",
    "y=data.Resultado"
   ]
  },
  {
   "attachments": {},
   "cell_type": "markdown",
   "metadata": {},
   "source": [
    "### 3.2 Implementamos Variables Dummies"
   ]
  },
  {
   "attachments": {},
   "cell_type": "markdown",
   "metadata": {},
   "source": [
    "Hacemos variables dummies de las columnas Apertura, WhiteFideId y BlackFideId"
   ]
  },
  {
   "cell_type": "code",
   "execution_count": 38,
   "metadata": {},
   "outputs": [],
   "source": [
    "X_dum=pd.get_dummies(data=X,columns=['Apertura','WhiteFideId','BlackFideId'])"
   ]
  },
  {
   "attachments": {},
   "cell_type": "markdown",
   "metadata": {},
   "source": [
    "Vemos cuantos columnas dummies se crearon"
   ]
  },
  {
   "cell_type": "code",
   "execution_count": 39,
   "metadata": {},
   "outputs": [
    {
     "data": {
      "text/plain": [
       "(90882, 15342)"
      ]
     },
     "execution_count": 39,
     "metadata": {},
     "output_type": "execute_result"
    }
   ],
   "source": [
    "X_dum.shape"
   ]
  },
  {
   "attachments": {},
   "cell_type": "markdown",
   "metadata": {},
   "source": [
    "Al hacer dummies de todos los jugadores se crean más de 15 mil, lo cual es demasiado. Para reducir ese número vamos a determinar un umbral de mínimos juegos registrados para tener en cuenta el Id del jugador"
   ]
  },
  {
   "cell_type": "code",
   "execution_count": 40,
   "metadata": {},
   "outputs": [],
   "source": [
    "# Vamos a hacer dummies de los IDs de los jugadores que tengan mas de \"N\" partidas en el dataframe\n",
    "# Lo implementamos mediante una función que recibe las features \"X\" y el número de partidas mínimas \"N\".\n",
    "def OHE_ID(X, N):\n",
    "\n",
    "    #almaceno la lista de partidas por cada id en un auxiliar\n",
    "    frecw = X.WhiteFideId.value_counts()\n",
    "    #almaceno el índice de dicha lista\n",
    "    idw = set(frecw[frecw>N].index)\n",
    "\n",
    "    #mismo proceso para las piezas negras\n",
    "    frecb = X.BlackFideId.value_counts()\n",
    "    idb = set(frecb[frecb>N].index)\n",
    "\n",
    "    #un nuevo índice que es la unión de los dos anteriores\n",
    "    ids = (idw | idb)\n",
    "\n",
    "    print(f\"Son {len(ids)} jugadores los que tienen más de {N} juegos con negras o blancas\")\n",
    "\n",
    "    # Veamos cuantas partidas participan estos jugadores\n",
    "    partidas = (X[(X.WhiteFideId.isin(ids)) | (X.BlackFideId.isin(ids))].shape[0])\n",
    "    print(f\"Estos jugadores aparecen en {partidas} registros \")\n",
    "\n",
    "    # Ahora creo dos columnas con los ids para blancas y negras, en donde\n",
    "    # a los jugadores que no tengan la presencia deseada les quedará un\n",
    "    # ID = -1\n",
    "\n",
    "    X[\"IDW\"] = X.WhiteFideId.apply(lambda x: x if x in ids else -1 )\n",
    "    X[\"IDB\"] = X.BlackFideId.apply(lambda x: x if x in ids else -1 )\n",
    "\n",
    "    # Hago las dummies\n",
    "    X = pd.get_dummies(X, columns=['IDW', 'IDB'], prefix=[\"W\", \"B\"], prefix_sep='')\n",
    "\n",
    "    # Dropeo columnas de IDs originales:\n",
    "    X = X.drop([\"WhiteFideId\", \"BlackFideId\"], axis=1)\n",
    "\n",
    "    #hago dummies de las aperturas\n",
    "    X=pd.get_dummies(data=X,columns=['Apertura'])\n",
    "\n",
    "    return X\n"
   ]
  },
  {
   "cell_type": "code",
   "execution_count": 41,
   "metadata": {},
   "outputs": [
    {
     "name": "stdout",
     "output_type": "stream",
     "text": [
      "Son 155 jugadores los que tienen más de 100 juegos con negras o blancas\n",
      "Estos jugadores aparecen en 36607 registros \n"
     ]
    }
   ],
   "source": [
    "X=OHE_ID(X,100)"
   ]
  },
  {
   "attachments": {},
   "cell_type": "markdown",
   "metadata": {},
   "source": [
    "Ahora nos quedan 331 columnas luego de implementar dummies"
   ]
  },
  {
   "cell_type": "code",
   "execution_count": 42,
   "metadata": {},
   "outputs": [
    {
     "data": {
      "text/plain": [
       "(90882, 331)"
      ]
     },
     "execution_count": 42,
     "metadata": {},
     "output_type": "execute_result"
    }
   ],
   "source": [
    "X.shape"
   ]
  },
  {
   "attachments": {},
   "cell_type": "markdown",
   "metadata": {},
   "source": [
    "### 3.3 Separamos en Test y Train"
   ]
  },
  {
   "cell_type": "code",
   "execution_count": 43,
   "metadata": {},
   "outputs": [],
   "source": [
    "X_train, X_test, y_train, y_test = train_test_split(X, y, test_size=0.2, random_state=1, stratify=y)"
   ]
  },
  {
   "attachments": {},
   "cell_type": "markdown",
   "metadata": {},
   "source": [
    "Vemos la distribución de nuestro Target en Test"
   ]
  },
  {
   "cell_type": "code",
   "execution_count": 44,
   "metadata": {},
   "outputs": [
    {
     "data": {
      "text/plain": [
       "0.0    0.446938\n",
       "1.0    0.386202\n",
       "2.0    0.166859\n",
       "Name: Resultado, dtype: float64"
      ]
     },
     "execution_count": 44,
     "metadata": {},
     "output_type": "execute_result"
    }
   ],
   "source": [
    "y_test.value_counts()/y_test.size"
   ]
  },
  {
   "attachments": {},
   "cell_type": "markdown",
   "metadata": {},
   "source": [
    "Partimos de una Hipótesis Nula de que el 44% de las veces ganan las piezas blancas."
   ]
  },
  {
   "attachments": {},
   "cell_type": "markdown",
   "metadata": {},
   "source": [
    "# 4. Pipeline"
   ]
  },
  {
   "attachments": {},
   "cell_type": "markdown",
   "metadata": {},
   "source": [
    "Implementamos un pipeline +GridSearch para determinar el mejor modelo y mejores parámetros"
   ]
  },
  {
   "cell_type": "code",
   "execution_count": 88,
   "metadata": {},
   "outputs": [],
   "source": [
    "#defino en los pasos que es preprocesamiento y cual es el clasificador\n",
    "pasos=[('preprocessing', StandardScaler()), ('classifier', LogisticRegression())]\n",
    "#instancio el pipeline\n",
    "pipe = Pipeline(pasos)"
   ]
  },
  {
   "cell_type": "code",
   "execution_count": 90,
   "metadata": {},
   "outputs": [],
   "source": [
    "param_grid = [\n",
    "              {'classifier': [LogisticRegression(max_iter=2000)], 'preprocessing': [StandardScaler(), None]},\n",
    "\n",
    "              {'classifier': [KNeighborsClassifier ()],\n",
    "               'preprocessing': [None], 'classifier__n_neighbors': list(range(1, 15))}]"
   ]
  },
  {
   "attachments": {},
   "cell_type": "markdown",
   "metadata": {},
   "source": [
    "luego probar pasar otros modelos al pipeline"
   ]
  },
  {
   "cell_type": "code",
   "execution_count": null,
   "metadata": {},
   "outputs": [],
   "source": [
    "#tree.DecisionTreeClassifier(min_samples_leaf=20, max_depth=6, random_state=50)"
   ]
  },
  {
   "cell_type": "code",
   "execution_count": null,
   "metadata": {},
   "outputs": [],
   "source": [
    "#bagging_tree = tree.DecisionTreeClassifier()\n",
    "#bagging_clf = BaggingClassifier(base_estimator=bagging_tree, n_estimators=100,\n",
    "#                                bootstrap=True, n_jobs=1, random_state=50)"
   ]
  },
  {
   "cell_type": "code",
   "execution_count": 91,
   "metadata": {},
   "outputs": [],
   "source": [
    "folds=StratifiedKFold(n_splits=5,shuffle=True, random_state=42)"
   ]
  },
  {
   "cell_type": "code",
   "execution_count": 92,
   "metadata": {},
   "outputs": [
    {
     "data": {
      "text/plain": [
       "GridSearchCV(cv=StratifiedKFold(n_splits=5, random_state=42, shuffle=True),\n",
       "             estimator=Pipeline(steps=[('preprocessing', StandardScaler()),\n",
       "                                       ('classifier', LogisticRegression())]),\n",
       "             param_grid=[{'classifier': [LogisticRegression(max_iter=2000)],\n",
       "                          'preprocessing': [StandardScaler(), None]},\n",
       "                         {'classifier': [KNeighborsClassifier()],\n",
       "                          'classifier__n_neighbors': [1, 2, 3, 4, 5, 6, 7, 8, 9,\n",
       "                                                      10, 11, 12, 13, 14],\n",
       "                          'preprocessing': [None]}])"
      ]
     },
     "execution_count": 92,
     "metadata": {},
     "output_type": "execute_result"
    }
   ],
   "source": [
    "grid = GridSearchCV(pipe, param_grid, cv=folds)\n",
    "grid.fit(X_train, y_train)"
   ]
  },
  {
   "cell_type": "code",
   "execution_count": 93,
   "metadata": {},
   "outputs": [
    {
     "name": "stdout",
     "output_type": "stream",
     "text": [
      "Best params:\n",
      "{'classifier': LogisticRegression(max_iter=2000), 'preprocessing': StandardScaler()}\n",
      "\n",
      "Best cross-validation score: 0.59\n",
      "Test-set score: 0.59\n"
     ]
    }
   ],
   "source": [
    "print(\"Best params:\\n{}\\n\".format(grid.best_params_))\n",
    "print(\"Best cross-validation score: {:.2f}\".format(grid.best_score_))\n",
    "print(\"Test-set score: {:.2f}\".format(grid.score(X_test, y_test)))"
   ]
  },
  {
   "cell_type": "code",
   "execution_count": 45,
   "metadata": {},
   "outputs": [],
   "source": [
    "#pasos = [('scaler', StandardScaler()), ('knn', KNeighborsClassifier())]\n"
   ]
  },
  {
   "cell_type": "code",
   "execution_count": 46,
   "metadata": {},
   "outputs": [],
   "source": [
    "#pipe_grid = Pipeline(pasos)"
   ]
  },
  {
   "cell_type": "code",
   "execution_count": 47,
   "metadata": {},
   "outputs": [],
   "source": [
    "#folds=StratifiedKFold(n_splits=5,shuffle=True, random_state=42)"
   ]
  },
  {
   "cell_type": "code",
   "execution_count": 48,
   "metadata": {},
   "outputs": [],
   "source": [
    "#param_grid = {'knn__n_neighbors':range(2,20,2),'knn__weights':['uniform','distance']}"
   ]
  },
  {
   "cell_type": "code",
   "execution_count": 49,
   "metadata": {},
   "outputs": [],
   "source": [
    "#grid = GridSearchCV(pipe_grid, param_grid, cv=folds)\n",
    "#grid.fit(X_train, y_train)"
   ]
  },
  {
   "attachments": {},
   "cell_type": "markdown",
   "metadata": {},
   "source": [
    "# 5. Implementación de Modelos"
   ]
  },
  {
   "attachments": {},
   "cell_type": "markdown",
   "metadata": {},
   "source": [
    "### 5.1 Definimos función para visualizar resultados"
   ]
  },
  {
   "cell_type": "code",
   "execution_count": 95,
   "metadata": {},
   "outputs": [],
   "source": [
    "# Esta funcion toma los sets (X_test, y_test) y la predicción y_pred de un modelo\n",
    "# Para entregar gráficas y métricas de score\n",
    "\n",
    "def GRAFICAS(X_test, y_test, y_pred):\n",
    "    \n",
    "    y_test = pd.Series(y_test)\n",
    "    y_pred = pd.Series(y_pred, index=y_test.index)\n",
    "    \n",
    "    c = confusion_matrix(y_test, y_pred) # mostramos la matriz de confusion\n",
    "    plt.figure(figsize=(4  ,4))\n",
    "    ax= plt.subplot()\n",
    "    sns.heatmap(c, annot=True, fmt=\"d\")\n",
    "    ax.set_xlabel('Resultados predecidos')\n",
    "    ax.set_ylabel('Resultados del test')\n",
    "    ax.xaxis.set_ticklabels(['B(0)', 'N(1)', \"T(2)\"])\n",
    "    ax.yaxis.set_ticklabels(['B(0)', 'N(1)', \"T(2)\"])\n",
    "    ax.set_title('Matriz de Confusión')\n",
    "    plt.show()\n",
    "    \n",
    "\n",
    "    print(f\"El accuracy global del modelo es {accuracy_score(y_test, y_pred)}.\")\n",
    "\n",
    "    # Me armo un df de scores para cada resultado\n",
    "    scores = pd.DataFrame({\"Resultado\":range(3),\n",
    "                         \"sensibilidad\":pd.Series(recall_score(y_test, y_pred, average=None)),\n",
    "                         \"precisión\":pd.Series(precision_score(y_test, y_pred, average=None)),\n",
    "                         \"f1\":pd.Series(f1_score(y_test, y_pred, average=None))})\n",
    "    scores.index.name='Resultado'\n",
    "    print(f\"\\n\\nEstos son los scores para cada resultado\")\n",
    "\n",
    "    display(scores.loc[:,\"sensibilidad\":].transpose().round(3))\n",
    "    \n",
    "    # hacemos un melt sobre Resultados para graficar\n",
    "    df = scores.melt(\"Resultado\", var_name='scores', value_name='Scores')\n",
    "    # graficamos los scores para cada resultado\n",
    "    sns.catplot(x=\"Resultado\", y=\"Scores\", hue='scores', data=df, kind='point')\n",
    "    #plt.savefig(f\"tp3_{type(modelo)}.png\")\n",
    "    plt.show()\n",
    "\n",
    "    # Mostremos los errores cometidos\n",
    "    err = y_test != y_pred # Hacemos una mascara de errores\n",
    "\n",
    "    print(f\"\\n\\nEstos son los errores de sensado (resultado mal identificado) y los errores de presición (resultado mal asignado):\") \n",
    "\n",
    "    err1 = pd.DataFrame({\"Mal sensado\":y_test[err].value_counts(), \"Mal predecido\":y_pred[err].value_counts()})\n",
    "    tot1 = err1[\"Mal sensado\"].sum()\n",
    "    tot2 = err1[\"Mal predecido\"].sum()\n",
    "    err1.loc[\"Total\"] = [tot1,tot2]\n",
    "    err1.index.name='Resultado'\n",
    "    display(err1.transpose())\n",
    "\n",
    "    # Un dataframe de errores:\n",
    "    errores = pd.DataFrame({\"y_test\":y_test[err], \"y_pred\":y_pred[err]})\n",
    "    errores[\"frecuencia\"] = errores.apply(lambda x: c[int(x.y_test),int(x.y_pred)] ,axis=1)\n",
    "    errores = errores.sort_values(by=[\"frecuencia\",'y_test', 'y_pred'],ascending=[False,False,False])\n",
    "\n",
    "    print(f\"\\n\\nAquí se muestra la frecuencia de cada uno de los {errores.shape[0]} errores cometidos:\")\n",
    "    display (errores.drop_duplicates().set_index('frecuencia').transpose())\n",
    " \n",
    "    # Y para finalizar graficamos los errores de predicción,\n",
    "    # con la perspectiva puesta en Los Elos, que son nuestros\n",
    "    # mejores predictores\n",
    "    X_test[\"Errores de Sensibilidad\"] = y_test    \n",
    "    X_test[\"Errores de Precisión\"] = y_pred\n",
    "    \n",
    "    print(\"\\n\\nEstos son los errores de recall:\")\n",
    "    sns.pairplot(X_test[err], vars=['WhiteElo', 'BlackElo'], hue = \"Errores de Sensibilidad\", plot_kws={\"s\": 3})\n",
    "    plt.show()\n",
    "\n",
    "    # Acá se va a ver cómo los modelos predicen empates sólo para los jugadores de mayor Elo.\n",
    "    print(\"\\n\\nEstos son los errores de precisión:\")\n",
    "    sns.pairplot(X_test[err], vars=['WhiteElo', 'BlackElo'], hue = \"Errores de Precisión\", plot_kws={\"s\": 3})\n",
    "    plt.show()"
   ]
  },
  {
   "attachments": {},
   "cell_type": "markdown",
   "metadata": {},
   "source": [
    "Regresion Logistica"
   ]
  },
  {
   "cell_type": "code",
   "execution_count": 50,
   "metadata": {},
   "outputs": [],
   "source": [
    "from sklearn.linear_model import LogisticRegression\n",
    "\n",
    "lr = LogisticRegression(max_iter=2000, random_state=1)\n",
    "\n",
    "lr.fit(X_train, y_train) \n",
    "\n",
    "ypred_lr_train = lr.predict(X_train)\n",
    "ypred_lr_test = lr.predict(X_test)\n"
   ]
  },
  {
   "cell_type": "code",
   "execution_count": 96,
   "metadata": {},
   "outputs": [
    {
     "data": {
      "image/png": "iVBORw0KGgoAAAANSUhEUgAAAYkAAAGMCAYAAAAvEF4OAAAAOXRFWHRTb2Z0d2FyZQBNYXRwbG90bGliIHZlcnNpb24zLjMuMiwgaHR0cHM6Ly9tYXRwbG90bGliLm9yZy8vihELAAAACXBIWXMAAA9hAAAPYQGoP6dpAAB0QUlEQVR4nO3dd1gU1xrA4d8CIiAgiAj2GrBjA7Erdo3GEo2J2FvUSGLvLbElFuzGWLDFhiV2E0tixYJGjS2xIDaK0kWpO/cPLpuswAoCrsL33mef686cOXNmsuy3p45KURQFIYQQIhUG+i6AEEKI95cECSGEEGmSICGEECJNEiSEEEKkSYKEEEKINEmQEEIIkSYJEkIIIdIkQUIIIUSaJEiIFGR+pRAimQSJD1CPHj1wdHSkW7duaaYZPnw4jo6OjBs3LkN5X7p0iUGDBr0x3ZIlS3B0dMxQ3ulx/vx5HB0dOX/+fJbkFxkZydKlS2nXrh3Vq1enTp069OzZk2PHjmVJ/qkJDAzE3d2dKlWqUKdOHV69epUl+Y4bNw43N7dU923evBlHR0f279+fJecSIpmRvgsg3o5KpeLKlSsEBARQuHBhrX2vXr3ijz/+eKt8vb29uXv37hvTdenShQYNGrzVOd6Ve/fuMWDAANRqNT179qR8+fK8fPmSAwcOMGTIEIYOHYqHh0eWn3f9+vX8+eefzJ07Fzs7O0xNTbMk3yFDhtCzZ88U2+Pi4li5ciWDBw/m448/zpJzCZFMgsQHqlKlSty9e5fDhw/Tp08frX3Hjx8nb968WFhYZNv57e3tsbe3z7b8Mys+Pp5vvvmGPHnysHnzZmxsbDT7mjVrhpWVFcuWLaNp06ZUqlQpS88dHh5OoUKFaNOmTZbmW6JEiVS3K4qCl5cXpUuXztLzCQHS3PTBMjMzo1GjRhw6dCjFvoMHD9KqVSuMjLR/A4SGhjJ9+nSaNGlC5cqVcXFxYejQoTx+/BhIas7YvXs3T548wdHRkV27dvH48WMcHR3x8vKidevWuLi4sGvXLq3mpuQmotReaTWPJNu6dSstW7akatWquLu78/Tp0xRpnj59yogRI3BxccHJyYlevXpx8+ZNnfmeOHGCf/75h6+//lorQCT76quv6N69O4mJiZptDx48wMPDg3r16lGtWjV69OjBpUuXNPuT78WhQ4fw8PCgevXqODs7M3HiRKKjowFwc3Nj165dPH36FEdHR5YsWZJmE1qPHj3o0aOH5v2NGzfo1asXNWvWpHr16vTu3ZurV69q9r/e3JSYmMjPP//Mp59+SocOHWjSpAnz5s0jNjZW65jevXuzc+dOWrZsSeXKlWnfvj0nTpzQef+ESCZB4gPWpk0brl69qvXF+uLFC06ePJmi2UFRFAYNGsSZM2cYOXIka9asYciQIZw9e5YpU6YASc0ZjRo1wtbWlm3bttG4cWPN8Z6envTr148ZM2bg6uqqlXelSpXYtm2b1mvYsGEAdO3aNc3yb9q0ialTp9KgQQOWL1+Ok5MTkydP1koTGhpKt27duHHjBpMnT2b+/Pmo1Wq6d+/OvXv30sz75MmTGBoa0qhRo1T329jYMGXKFKpWrQrA3bt36dSpE48ePWLSpEnMmzcPlUpFr169uHDhgtaxU6dOpWjRoixfvpz+/fuzc+dOfvzxRwCWLl2qdQ+7dOmSZhn/68WLF/Tv3x9ra2sWL16Mp6cnr169ol+/fkRFRaV6zJQpU5g1axZubm6sWLGC7t27s2nTJoYMGaI1+OD69eusWbMGDw8Pli1bhpGRER4eHkRERKSrbCJ3k+amD1jjxo0xMzPj8OHD9O3bF4AjR45QoEABatasqZU2ODgYU1NTxo4dS61atQCoXbs2jx8/ZuvWrUBSc0aBAgUwNjamWrVqALx8+RKAFi1a8Omnn6ZaDnNzc016AD8/P9avX0/r1q358ssvUz1GURSWL19Oy5YtmTRpEgD169fnxYsXmvJAUvt+eHg4W7ZsoWjRogA0bNiQNm3asGjRIhYvXpxq/kFBQVhbW5MvX740799/LV26lDx58rBhwwZNM13jxo35+OOPmTt3Lt7e3pq0jRo1YuzYsQDUqVOHM2fO8McffzBy5EgqVqyY4h76+/u/8fx3794lNDSUHj16aP7blSlThq1bt/LixYsUTYd3795lx44dfPPNNwwePBiAevXqUahQIcaMGcPJkyc1ATIqKopdu3ZpmqvMzMxwd3fn3LlztGzZMl33R+ReUpP4gJmYmODm5qbV5HTgwAHatGmDSqXSSmtnZ8eGDRuoVasWT58+xcfHh02bNnH58mXi4+PfeC4HB4d0lSkyMpLBgwdTrFgxZs+enWa6+/fvExISQtOmTbW2t27dWuu9j48PFSpUwM7OjoSEBBISEjAwMKBhw4acPXs2zfxVKpVWU9KbXLhwgSZNmmh9GRsZGdG2bVv++usvTXMSoBUQIal/JjmYvq2PPvqIAgUKMHjwYKZOncrx48extbVlzJgxKQYmJJcXoF27dlrb27Zti6GhoVbTVoECBbT6M5L7krJq1JXI2aQm8YFr3bq1pl8hX758+Pj48M0336Sadu/evSxYsICAgACsrKwoX748JiYm6TpPwYIF35gmMTGR4cOHExkZydq1a3WO6klu6ihQoIDWdltbW6334eHh+Pv7p9m5/OrVq1TPU6xYMU6cOEF0dHSatYn/jgyLiIhI9RoLFiyIoii8ePFCs+318xkYGGR6bkm+fPn4+eefWbFiBQcPHmTr1q2YmprSvn17Jk6cSN68ebXSJ9+/1++XkZER1tbWWk1Ur5c3+QeEWq3OVJlF7iBB4gPXsGFDLCws+PXXX7GwsKBYsWJUrlw5RTpfX1/Gjh2Lu7s7/fr10/ya/OGHH7Q6ZzPj+++/5/z586xbt44iRYroTGttbQ1ASEiI1vbw8HCt9xYWFri4uDBmzJhU8zE2Nk51e/369dm4cSOnTp2iVatWKfaHh4fTvHlzOnXqxLfffkv+/Pl5/vx5inTPnj3TlDc4OFjnNaUlrS/l1wNYmTJlmDt3LomJiVy7do09e/awZcsWihUrxsCBA7WOzZ8/v6Z8xYoV02yPj48nLCxMc3+FyCxpbvrAGRsb07RpU3777TcOHTpE27ZtU033559/olar8fDw0ASIxMRETZNN8heYgcHbfSR27tzJ+vXrmTJliqbPQ5dSpUpRuHBhDh8+rLX9999/13rv4uKCn58fpUuXpkqVKprX3r178fb2xtDQMNX869evj4ODA56enoSGhqbYv2DBAuLj4+nQoQMAzs7O/P7771q/wBMTEzlw4ABVqlRJMxilh7m5OZBUc0kWERGh1fF++PBhXF1defbsGYaGhlSvXp1p06ZhaWlJYGBgijxdXFwA2Ldvn9b2AwcOkJiYmKJPSoi3JTWJHKBNmzYMGjQIAwMDTSfw65JH8Xz77bd07tyZyMhINm3axO3bt4GkDmpzc3MsLS15/vw5J06coEKFCuk6/5UrV5g6dSrNmzencuXKXL16Vav5pWLFiim+ZFUqFaNGjWLkyJFMmjSJVq1aceXKFbZs2aKVrnfv3uzZs4fevXvTt29frK2tOXjwINu3b2f8+PFplsnIyIgffviBvn370rlzZ3r16oWjoyNhYWH88ssvnDhxgm+++YYaNWoASUNiT548Sc+ePRk4cCDGxsZs2rSJR48esXr16nTdh7Q4OjpSuHBhli5dioWFBQYGBvz0009azUA1atRArVYzdOhQBg4cSL58+Th06BBRUVG0aNEiRZ7lypWjY8eOLF26lJiYGGrXrs2tW7dYunQptWvXfu8nOooPhwSJHKBu3bpYWlpSuHBhypYtm2qa2rVrM2XKFLy8vDh8+DAFCxakdu3aLF26lKFDh3Lp0iUaNWpEp06dOHHihGY2cnomhJ06dYr4+HiOHDnCkSNHUuw/duyYVpNIso8//hgDAwOWL1/Onj17cHBw4Ntvv2XEiBGaNHZ2dmzdupX58+czbdo0YmNjKVWqFDNnzkxztFWyChUqsGPHDry8vNiyZQtBQUGYmZnh4ODATz/9pDU89qOPPmLz5s0sWLCACRMmoFKpqFq1qqazPzMMDQ1ZvHgxs2bNYsSIERQsWJBevXpx//59/Pz8AChUqBCrV69m0aJFTJw4kVevXvHRRx+xZMmSFEOOk82cOZOSJUuyc+dO1qxZQ6FChejRowdDhw596xqhEK9TKbKamxBCiDTIzw0hhBBpkiAhhBAiTRIkhBBCpEmChBBCiDRJkBBCCJEmCRJCCCHSJEFCCCH05JdffqFNmzZUqVKFtm3bai3WeevWLdzd3alWrRqNGzdmzZo1Wseq1WoWL15MgwYNcHJyom/fvilWHH5THumRaybTxT+/r+8i5AgetTL2zGyRtjUBaa9iKzImLvbxWx+b2e+GPAXLvNVxe/bsYcKECYwdO5bGjRuzf/9+RowYgb29PaVKlaJPnz40a9aM6dOnc+XKFaZPn46VlRWdO3cGYPny5WzdupXZs2djZ2fH3LlzGTBgAPv378fY2JiwsLA35pEeuSZICCHE+0JRFBYtWkSvXr3o1asXAEOHDuXy5ctcuHCBCxcuYGxszLRp0zAyMqJs2bL4+/uzatUqOnfuTFxcHGvXrmX06NGalQM8PT1p0KABR44coW3btmzfvl1nHuklzU1CiNxNnZi511u4f/8+T548SfE8kDVr1jBo0CB8fX1xdnbWegSxq6srfn5+hISEcPv2baKjo7WWbLG0tKRixYpcvHgR4I15pJfUJIQQuZuSuedqvP7grNcdO3YsxbYHDx4ASQtr9uvXj5s3b1KsWDEGDx6Mm5sbgYGBKR70VahQISDpme/JKwO//kCqQoUKaVYbflMeqT37PTVSkxBC5G5qdeZebyH5IVZjx47l448/Zu3atdSrV48hQ4bg4+NDTExMipWTkx88FRsbq3mqYGppYmNjAd6YR3pJTUIIkaspmaxJpFZTeJM8efIA0K9fPzp27AgkrVp88+ZNvLy8MDExIS4uTuuY5C92MzMzzRMl4+LitJ4uGRsbq1mC/k15pJfUJIQQ4h1LfvDX681B5cqV4/Hjx9jb26d4EmLyezs7O00zU2ppkvN+Ux7pJUFCCJG76aG5qWLFiuTLl4+rV69qbf/nn38oUaIEzs7OXLp0icTEfzvGfXx8KF26NDY2NpQvXx5zc3POnz+v2R8ZGcnNmzc1zz95Ux7pJUFCCJG7KerMvd6CiYkJ/fv3Z9myZezfv5+HDx+yYsUKzpw5Q58+fejcuTMvXrxg4sSJ3L17l127drF+/XoGDRoEJPVFuLu7M2/ePI4dO8bt27cZPnw49vb2NG/eHOCNeaSX9EkIIXK3txzGmllDhgzB1NQUT09PgoKCKFu2LEuWLKF27doArF69mpkzZ9KxY0dsbW0ZM2aMpv8CwMPDg4SEBCZNmkRMTAzOzs6sWbNG01ltY2PzxjzSI9c8mU5mXGcNmXGddWTGddbJzIzruAe+mTq3canMPd72fSc1CSFE7vaW/Qq5hfRJCCGESJPUJIQQuVpm50nkdBIkhBC5mzQ36SRBQgiRu0lNQicJEkKI3E1PQ2A/FNJxLYQQIk1SkxBC5G7S3KSTBAkhRO4mHdc6SZAQQuRuUpPQSYKEECJ3k5qEThIkhBC5mqLI6CZdZHSTEEKINElNQgiRu0mfhE4SJIQQuZv0SegkQUIIkbtJTUInCRJCiNxNluXQSYKEECJ3k5qETjK6SQghRJqkJiGEyN2k41onCRJCiNxNmpt0kiAhhMjdpCahkwQJIUTuJkFCJwkSQohcTdZu0k1GNwkhhEiT1CSEELmbNDfpJEFCCJG7yegmnSRICCFyN6lJ6CRBQgiRu0lNQicJEkKI3E1qEjrJ6CYhhBBpkpqEECJ3k+YmnSRICCFyN2lu0kmCRBa6ev0WC39cx/Vbf2Nqakr92jUZ+VV/bKytAPDzf8wPS37iz2s3MDQ0xK1hHUZ/NQBLC3NNHk8Dg5i/bA0XL19DrSjUqFqJUV/1p0SxIpo00dEv+XHdFo6eOMPzkFCKFrbns45t+axjWwwMclYLonVhGyb9Oo8fB87lzrmbAKx4sD3N9H/7XGfh598yfOtUHFwrpZlucKmuAJhYmNJxbHeqtXQhbz4THt98wMElO7l54mrWXsh7pF+/7gwZ3JvSpUsQ/Ow5+/cfYfr0eURFvQCgSBF7Zs+aSIsWjcmTx4iLvlcYP24GV67e0ORRpXIFZs6agGvtGiQmqjl48CgTJ80mMDBYX5f19iRI6CRBIovcuH2HvsPGUbtWNRbOmsyz56EsXOmF/7hv+XnlAiKjXtD/63HYFrRh9uTRhISFsWD5WgKDnrFq4SwAXsXEMOCbiSQmJjJ++GDy5jVmyaoN9Bk2lt0bVmiCyehp33Ptxm2G9nOndMliXLh8jTmLfiQiMoov+3yhz9uQpQoULciwDRMxs8yntf2HjhNTpK3W0oUWX37C6c1HAdgyaTWmFmZaaQqWsKP3gq84vSUpjYGhAV9vmox9uWIcWrqTh9fu41CnEl/+NIY1Hgu5+uvFbLoy/Rk5cjDffTuWBQt+5PjvpylbthTTpo6mUiVHWrf+HHPzfBw7toP4uHiGDh1HTGwME8Z/w8GDW6hRsxmBgcEULVqYX3/dxp079+nVexhmpqZ8+904Dh/aQs1aLUhM/MCWuZDmJp0kSGSR+cvWUP6jMiyZMwVDQ0MA8uUzY86iH3n8NJBDR08QGfUCb6+lFPh/zcLOtiCDR03h8tXr1HCqzOWrN/B/9ITVi2bhWqs6AKVKFKP9FwP5/ZQPn7Rpzs2/73Ly7AXmfzeBlm4NAHCtVZ3IqBes/XkHg3p/jkql0ss9yCoqlQrXTxvRaUKPVPf7/XlH6711ERvqf9GMP9YfxnffWQAC7z7RSmNgaEDXaX14fOsB26d7AVClWU1KOZVjrcciLu49A8DtM39haGRI16l9uPabL4qiZPXl6Y1KpWLM6KGsWr2JSZPnAHD8+GlCQ8LYsmUlNWpUpXUrNwraFKBK1caaWsGlS9c453OIRg3rsG37Hgb0706+fGZ06NibsLBwAJ49D+XoEW/c3Opz5MgJfV3i25GahE45q21CT8IjIrn45zU+6/SxJkAANG9cj2O7N1KsiD1nLlyihlNlTYAAqFe7JvnMTDnp4wtAfHw8kBRcklnnt0w6R2SUZluXT1rjWquaVhlKFi/Ky1evCPn/H+2HrGiFEnw+oz/ndp5g3fClb0z/6aRexL2KZc/cLWmmadC9OSUql2HzxFUkxif90i1cthgA145d0kp75/xNChQpSNGKJTNxFe8fS0sLNm/Zzdatv2htv3PnPgBly5SkY8c27Np1UKvZKCjoGaXL1GLb9j0ALF22liZunTQBAiAuLg6AvHmNs/cixDsnQSIL/HPXD0VRsLG2Yuy073Fp1gnnZh0ZO/0HIv7/5X7/wSNKFi+qdZyBgQFFi9jj/+gxAHWca/BRmVIsWLaWR08CeB4SyswFyzEzNcWtQR0AKjqWY+oYD/JbWmjldezEGQpYW1HAKv87uOLsFfrkOVMaebBzxgbiYmJ1pi1Tw4EabVzZM3cLMS9epZomr1lePh7elfO7T+J/9Z5me1RoJAA2xWy10tuWtAegYLFCmbmM905ERCTDh0/G5/8/SpJ16NAGgL//vkuFCh/x9z93mTZ1FP4PLhH9wo+jR3ZQuVJ5Tfrnz0O5fPkaAHnz5qV27RosXjSTO3fuc+TIyXd3QVlFUWfulcO9d0EiKCiI69evc+vWLZ4/f67v4qRLaHgEAJNneZI3b14Wz5nMqKH9OeVzkSGjpqBWq4l68QLzfGYpjs1nZsqL6JdA0q+wqWM9uHP/Aa279qVx++4cP+XDwlmTKF60cJrnX791F75XrjOg52c5ouP6ZUQ04YGh6UrbfFB7nj8K5sLuU2mmqfuZG2aW+Ti8bLfW9qu/XeBlxAt6L/iKkk5lMTE3pXKT6jQb2A4AY7O8b38RHwhX15qMGjWYPXsOExAYTJ48efAY1p9Gjery5eDRdO8+BBsbK44c8aZIEfsUx1++fJRTJ/fi6FiOUaOnERurO6i/l9TqzL1yuPeiT8Lf3x8vLy+OHz/Os2fPNO3AKpWKwoUL07RpU3r27Enx4sX1XNLUxSckAEm/8r8d/w2Q1E9gYZGPMVO/x+finygKqEjZV6AoaL7YL1y+xpcjJ1G9SkV6duuEoYEB23Yf4OsJ3/HjvO+oWa1yiuM3bv+FeUtX06Z5Y9y7fJJ9F/kesi5sQ9VmtdgxYz3qxLT/WBv1aMm1o74E+wVobX8RGsUi9xn0nDuEcXtmAxDsF8CeH7bQZ+Ew4l5+gF94GVCvngu7d3lx/74/AweNwszMVLPv43buRP//x8uly1e5eeMUQwb31vRlJPPwmABAzx5d2bXTi379hrN5y653dxFZIRfUBjJDr0EiOjqaOXPmsGfPHlxcXBg0aBCOjo4UKFAAtVpNaGgoN2/e5Ny5c7Rt25b27dszbtw4zM3N35z5O5Tv/39cjeq5aG2vX7sWALfv3MPC3IwXL1+mOPblq1fY2RYEYNWGrRQqaMOKed9ibJzUtlvXpQbdB43g+8U/sX3tYs1xarWa+cvWsH7rLtq2aMLMiSM/+A7rjKrWygVFUTSd1akpWqEkdmWKpNlf8fCv+8xoNYr8dtYYm+bl2YNAHOokDZ2NjniRLeV+H3Tt0p7Vqxfwzz/3aftxd8LCwjWjkk6ePKcJEACPHj3l9u27VHVKOaT42LFTmv8vWrQwEyd9gEEiF9QGMkOvbRNdunShUKFCnDx5ktWrV9O9e3dq1apFmTJlKFeuHC4uLvTu3Zsff/yRo0ePYm1tzaeffqrPIqeq5P/nMMTFxWttT/h/DSNv3ryUKlGMh4+fau1Xq9U8eRpI2dIlAAgIDKZSeQdNgICkWkYNp0rc8/PXbIuPj2f4xJms37qLHl07MGfKaIyMDMltqrjV5O6FW0Q9j9CRpgaxL2O4fvxyin35rMxx7dyIfNYWRASF8exBIAAlKpdBnajm8c0H2VV0vRox4ks2bFjK+fN/4ta0M0FBzwCIjIwiKOhZqp3PefIYEfMqBoDGjevSqpVbijSXLl+leLG0m0XfW3psbnry5AmOjo4pXt7e3gDcunULd3d3qlWrRuPGjVmzZs1rRVezePFiGjRogJOTE3379sXf318rzZvyeBO9BgkvLy+GDRuGlZXVG9MWKlSIkSNHsm7dumwvV0aVKVWCooXtOHRMu9Pu99PnAajpVIm6zjXwvfIXof8ZEXLm/CWiX76irksNAEqXLM71W39rRooAKIrC1eu3KVrETrNtwoz5HD/lw1iPgYz9elCuq0EkK+lUlnu+f+tMU7raRzy67kd8bHyKfSoDFT3mDqZ669qabXnN8lK/W1P+OXeDV5Epa34fuv79uzNn9iR27txPm7ZfEPmfUXMAv/76O25u9bGxsdZsc3Aog4NDWU6fSfo89+zRlbVrFmJu/u/8FUNDQ9ya1OfatVvv5kJyiL///pu8efNy6tQpTp8+rXm1a9eOsLAw+vTpQ6lSpdi5cyfDhg1j0aJF7Ny5U3P88uXL2bp1KzNmzGDbtm2oVCoGDBig+Q5JTx5votfmJjs7uzcneo29fcrOM31TqVSMHNqPkZNnM3LybDq3a4mf/yMWrVxP88b1qOBQDvtCtmzeuZcB30xkcN8vCI+IYsHyNTRwrUW1yhUAGNT7c3oOGcWXI6fQo2sHDA0N2H3gN65ev8WC75Lafo+f8uHQ0RM0qe9K1UrluXpd+4+ygkNZrZpITlWgaEHMLPMRcPexznRFypfg1qnUZ0+/CI3i0r6ztB/ZjYTYeCKfh9NqSEfy2xdg7deLsqPYemVnZ8u8udN48OARy5Z7Ub16Fa399+8/YOashbRv35KDBzYzc9ZC8hgZ8e1343j0+Clr1yY12c2fv4KOHduwd88G5i9YgUqlYujQvlSo8BGt23yAkzn1OBfmn3/+oXTp0hQqlHIk3fr16zE2NmbatGkYGRlRtmxZ/P39WbVqFZ07dyYuLo61a9cyevRoGjVqBICnpycNGjTgyJEjtG3blu3bt+vMIz303nF9//59NmzYgK+vL0+fPiUuLg5TU1Ps7e2pWbMmvXr1onTp0vou5hu1aNKAJd8b86PXZr4aO438FhZ07dAGj4E9AbC2ys/aJd/z/aKVjJs+FzMzU1q6NWDU0P6aPCpXcGDd0h9YsmoDY6Z/Tx4jIxzLlWHtkjk4V68KwJE/kiZ9/X76HL+fPpeiHL/uWEfRwhkPvh8ai4JJQ31fvqHfwLJgfl5GRKe5/+cJP9FxXHc6jP0CY5O8+F35h4WfT+fhdb8sLe/7oFUrN8zMTClVqjh//L47xf5+/YezcaM3jRp1YNasCXitXURiYiLHjp1i1OjpvHiRdB9v3PybJm6d+O67caxe5UnevMb4nPPFremnXLiQslnvvafHPom///6bcuXKpbrP19cXZ2dnjIz+/Zp2dXVl5cqVhISE8OTJE6Kjo3F1ddXst7S0pGLFily8eJG2bdu+MQ8bG5s3llGl6HFK6alTpxg6dCgVK1bE1dWVQoUKkTdvXmJjYwkODubcuXP8/fffrFy5EhcXlzdnqEP88/tZVOrczaPWOH0XIcdYE5B2h7vImLhY3TVKXV79PDlT5/54re7/jseOHUtzX9u2bbG1tSUuLo4HDx5QsmRJhgwZQoMGDWjXrh0NGzZk9OjRmvR3796lbdu27Nixg4CAAIYNG8bVq1cxMTHRpPn666+JiYlh5cqVb8yjShXt2mRq9FqTmDt3Lu7u7owZMybNND/88APff/99htrQhBAi3fQ0BDY5MJiamjJmzBjMzMzYu3cvAwYMwMvLi5iYmBRNx3nzJs3diY2N5dWrpMmjqaWJiEgazPGmPNJDr0HiwYMHLFqku+33008/ZfPmze+oREKIXCeTzU26agq6GBsbc/HiRYyMjDRf5JUrV+bevXusWbMGExMTrUEs8O8Xu5mZmab2EBcXp1WTiI2NxdQ0aVj+m/JID72ObipevDg+Pj4605w8efKtOriFEOJ9Z2ZmluKXvoODA0FBQdjb2xMcrL30evJ7Ozs7ChcurLXtv2mSB/i8KY/00GtN4quvvmL06NFcunQJV1dX7O3tMTY2Ji4ujuDgYC5cuMCBAweYNWuWPosphMjJ9NQte/v2bT7//HNWrVpFrVq1NNuvX79OuXLlqFChAlu3biUxMVGzcKiPjw+lS5fGxsYGCwsLzM3NOX/+PCVKJM21ioyM5ObNm7i7uwPg7OysM4/00GuQaN26NdbW1qxatYpZs2Zp2tgATE1NqVmzJitXrqRevXp6LKUQIkfT0+gmBwcHPvroI6ZPn87UqVOxtrZm+/btXLlyhR07dlCwYEFWr17NxIkT6d+/P9euXWP9+vVMnz4dSGqucnd3Z968eRQoUICiRYsyd+5c7O3tad68OQCdO3fWmUd66HV0038pikJkZCQxMTHkzZs3XRPsMkJGN2UNGd2UdWR0U9bJ1OimNaMydW7TfvPe+tjQ0FDmzZvHyZMniYyMpGLFiowaNUpTs7h27RozZ87k5s2b2Nra0rdvX00tASAxMZEFCxawa9cuYmJicHZ2ZsqUKRQrVkyT5k15vIleg8T69etxd3fXegaDLgkJCWzcuJE+ffpk+FwSJLKGBImsI0Ei62QqSKwekalzm/ZfkKnj33d67bgOCAigTZs2bNq0iZCQkDTThYWF4eXlRZs2bQgICEgznRBCZJSiVjL1yun02icxbtw4WrZsyYIFC5g9ezaVK1fGwcFBaxXYGzducOfOHWrUqMGsWbO0OniEEEJkL70vy1G9enU2btzIX3/9xdGjR7l69Sp//vknKpWKQoUK4ebmxqxZs6hYsaK+iyqEyIlkqXCd9B4kklWpUkUzRTw+Pp6zZ8+iKAp16tTRzBAUQogsJw8d0knvQWLz5s3s2pX0kJLPPvuM1q1b0717d/755x8gacLHunXrKFWqlB5LKYTIsXJBv0Jm6LXjes2aNcydO5eKFStSs2ZNPD096d+/P2q1mk2bNrFx40ZsbGzw9PTUZzGFEDmZPONaJ73WJLZv387MmTNp06YNkLQiYteuXVmxYgU1a9YEYPz48XzzzTd6LKUQIkfLBV/0maHXmsTTp09xcnLSvK9atSpGRkaULFlSs61kyZKEhYXpo3hCCJHr6bUmER8fr7V6IUCePHnIkyeP5r1KpUItkV4IkV3ej0Un3lt677gWQgi9kh+hOuk9SKxdu1az9jkkLb2xYcMG8uf//+MpX+a8h9ELId4jMrpJJ70GiSJFinDo0CGtbba2tike4pG8broQQmQ5mSehk16DxPHjx/V5eiGEkJrEG+h1dJMQQoj3m977JIQQQp8U6bjWSYKEECJ3k+YmnSRICCFyN+m41kmChBAid5OahE4SJIQQuZv0Segko5uEEEKkKcNB4pdffklzwb1nz56xatWqTBdKCCHeGbWSuVcOl+EgMX78eB49epTqvlu3brF48eJMF0oIId4ZRZ25Vw6Xrj6JQYMGcffuXQAURWHo0KEYGxunSBcSEkKJEiWytoRCCJGdckFtIDPSHSS8vb0B2L17NxUrVqRAgQJaaQwMDLC0tKRTp05ZX0ohhMgmMplOt3QFiRo1alCjRg3N+yFDhlC8ePFsK5QQQrwzUpPQKcNDYGfPng1AdHQ0+fLlA+DQoUMEBgbi5uam9VQ5IYQQH7YMd1z7+fnRokULzSgmT09Phg8fzvfff0/79u25dOlSlhdSCCGyjYxu0inDQWLevHkYGhrStGlT4uPj2bJlC23atMHX15cGDRqwcOHCbCimEEJkExndpFOGg8TFixcZMWIEVapUwdfXl6ioKD777DPMzc3p1q0b169fz45yCiFE9pCahE4Z7pOIj4/XPFr0xIkTmJqaUrNmTQASExMxMpKVPoQQHw4lF3zRZ0aGaxKOjo789ttvBAcHc/DgQerXr4+RkRHx8fH8/PPPODg4ZEc5hRBC6EGGf/Z7eHgwZMgQfv75Z4yNjRkwYAAALVu25Pnz5/z4449ZXkghhMg2UpPQKcNBom7duuzbt4+//voLJycnihYtCkCvXr1wdXXF0dExywsphBDZRibT6fRWHQjFixenePHiREVFce/ePYoXL467uzuGhoZZXT4hhMheUpPQ6a2CxPnz55k3bx7Xr19HpVLh7e3N6tWrsbOzY9y4cVldRiGEyD4SJHTKcMe1j48P/fr1w8TEhFGjRqEoSTe4QoUKbNiwAS8vrywvpBBCZBdFUTL1yukyHCQWLlxI06ZN2bhxI7169dLcpIEDB9K/f3/NQoBCCCE+fBkOErdu3aJz584AqFQqrX316tXjyZMnWVMyIYR4F2QynU4Z7pOwsLDg2bNnqe4LCAjAwsIi04XKDuuqTdF3EXKEuV1j9F2EHGPV0pz/BfNByAVf9JmR4ZpE06ZN8fT05K+//tJsU6lUBAYG8uOPP9K4ceOsLJ8QQmQrRa1k6pXTZThIjBw5EhsbG7p27aoJCCNGjKBVq1aoVCpGjBiR1WUUQojs8x40N/n5+VG9enV27dql2Xbr1i3c3d2pVq0ajRs3Zs2aNdrFVqtZvHgxDRo0wMnJib59++Lv76+V5k15pEeGg0T+/Pnx9vZm+vTpODs7U7duXRwdHRk9ejS7du1K8cQ6IYR4r6kz+cqk+Ph4Ro0axcuXLzXbwsLC6NOnD6VKlWLnzp0MGzaMRYsWsXPnTk2a5cuXs3XrVmbMmMG2bdtQqVQMGDCAuLi4dOeRHhnuk7h48SIVK1aka9eudO3aVWtfZGQkx48fp23bthnNVgghcqUlS5ZoHuCWbPv27RgbGzNt2jSMjIwoW7Ys/v7+rFq1is6dOxMXF8fatWsZPXo0jRo1ApKe7dOgQQOOHDlC27Zt35hHemW4JtGzZ0/u3buX6r6bN28yfvz4jGYphBB6o88+iYsXL7Jt2za+//57re2+vr44Oztrrart6uqKn58fISEh3L59m+joaFxdXTX7LS0tqVixIhcvXkxXHumVrprE2LFjCQgIAJImnkybNg1zc/MU6R48eEDBggXTfXIhhNC7TH7RN23aVOf+Y8eOpbo9MjKSMWPGMGnSJAoXLqy1LzAwMMWK2oUKFQLg6dOnBAYGAqQ4rlChQprv6jflYWNjo7PcydJVk2jZsmWK2YWvzzo0MDCgWrVqmmdgCyHEB0FPfRLTpk2jWrVqtGvXLsW+mJgYjI2NtbblzZsXgNjYWF69egWQaprY2Nh05ZFe6apJuLm54ebmBkCPHj2YNm0aZcuWTfdJhBDifZXZJqO0agq6/PLLL/j6+rJv375U95uYmGg6oJMlf7GbmZlhYmICQFxcnObfyWlMTU3TlUd6ZbjjeuPGjRk9RAgh3l96WCl8586dhISEpJhXNnXqVNasWUORIkUIDg7W2pf83s7OjoSEBM22EiVKaKUpX748APb29jrzSC951qgQQrxj8+bNIyZGe/WCFi1a4OHhQZs2bThw4ABbt24lMTFR8wgGHx8fSpcujY2NDRYWFpibm3P+/HlNkIiMjOTmzZu4u7sD4OzsrDOP9Mrw6CYhhMhJ9DG6yc7OjpIlS2q9AGxsbChatCidO3fmxYsXTJw4kbt377Jr1y7Wr1/PoEGDgKS+CHd3d+bNm8exY8e4ffs2w4cPx97enubNmwO8MY/0kpqEECJ3ew8fTGdjY8Pq1auZOXMmHTt2xNbWljFjxtCxY0dNGg8PDxISEpg0aRIxMTE4OzuzZs0aTWd1evJID5WSGxZEB1YVc9d3EXKEz7tG6rsIOYbV0kv6LkKOkRD39qtPh7RrlKlz2+w7kanj33fpqkkkT85IL2dn57cqjBBCvHPvYU3ifZKuINGjR48Uz45IjaIoqFQqbt26lemCCSHEu6BIkNApXUFiw4YN2V0OIYQQ76F0BQkXF5fsLocQQuiH1CR0eqvRTaGhoaxZs4azZ8/y7NkzVq9ezdGjRylfvjzNmjXL6jIKIUS2keYm3TI8T+LRo0e0b9+e7du3Y2dnR0hICImJifj5+eHh4cEff/yRDcUUQojsoagz98rpMlyT+P7777GxsWHjxo2YmZlRuXJlAObPn09sbKw8wlQI8UHJDV/0mZHhmoSPjw9DhgzB0tIyxYinzz77jDt37mRZ4YQQItspqsy9cri3WpYjeR2Q18XFxaVrqKwQQogPQ4aDRK1atfjpp5+0nseqUqlQq9Vs2bKFGjVqZGkBhRAiO0mfhG4Z7pMYOXIkn3/+OS1atKB27dqoVCrWrFnDvXv38Pf3Z/PmzdlRTiGEyBaKWlo/dMlwTcLBwYGdO3dSu3Ztzp8/j6GhIWfPnqVEiRJs3bqVChUqZEc5hRAiW0hNQre3midRqlQp5s+fn9VlEUKId07JBZ3PmZGuIPH06dMMZVqkSJG3KowQQrxruaE2kBnpfsZ1RkYtyQJ/QgiRM6QrSMyaNUsTJCIiIpg3bx516tShdevW2NraEh4ezvHjx/njjz8YN25cthZYCCGyknRc65auINGpUyfNv4cOHUrHjh357rvvtNK0a9eOmTNncujQIT777LOsLaUQQmST3PHYtbeX4dFNZ86coVWrVqnua9y4MX/++WemCyWEEO+KolZl6pXTZThIWFtbc+XKlVT3nTt3Djs7u8yWSQgh3hkJErpleAhsly5dWL58Oa9evcLNzY0CBQrw/PlzDh8+zJYtW5gwYUJ2lFMIIbKFNDfpluEgMXjwYKKioli3bh1r1qwBkh5bamJiwtdff0337t2zvJBCCCH0I8NBQqVSMXbsWIYMGcKVK1eIiIjA2tqa6tWrY2Zmlh1lFEKIbJMbmowy461mXANYWFjQoEGDrCyLEEK8czLjWre3DhJCCJETyIxr3SRICCFyNbXUJHSSICGEyNWkuUm3t3oynRBCiNzhrWoSjx49IjY2lnLlyhEREcHChQsJCAigVatWdOjQIYuLKIQQ2UdGN+mW4ZrEyZMnad26NTt37gRg2rRpbN++naCgIMaPH4+3t3eWF1IIIbKLomTuldNlOEgsX76c+vXrM3ToUKKiojhy5AgDBw5k9+7dDBw4kA0bNmRHOYUQIlvIshy6ZThI3L59m169emFubs6pU6dITEykZcuWANSrVw9/f/8sL6QQQmQXtaLK1Cuny3CfRN68eUlISADg1KlT2NjYUL58eQCeP3+OpaVl1pbwA1K+exMq9m6OZYlCvHoeif+Ry1yat5P4F69SpK3UryV1p/dgi+s3vHj8HIC23hMpUiftZ4SvKuaeYluJ5jVo6TUi1X05hUnv8RgUK8PLGQM02wwr18a4+WcYFCqGEh1JwsVjxB31hsQETRqDwqUw/rgXhqUcQa0m4aYvcfvXo0SFAWDc8nOMW36e5nlfLhuP+t6N7LswPenfrztDhvSmTOmSBAc/Z9/+I0ybPpeoqBda6YyMjDj5x24O//o73363QGtf6dIlmDljPPXruZAvnxk3bvzNtOnzOP776Xd5KVlCRjfpluEgUbNmTdauXUtERASHDh3SPGvi+vXrLF26lBo1amR5IT8EVQe3xXlsV679eIAnp2+Qv5QdNUd/SgHHYhz8fI5WWsvSdriM65oijzMTvDC2MNXaZlHSjsYLv+T2z8dTpC9SrxJuS4dk7YW8Z4xqNsaoah3UoUGabYYVamLSe3xSYNi/HgO7Yhi36YHKsgCx3ssAUOW3wXTwDNTPnhCzaQEY5yVvmx6YDP6OV/M8QK0m/txvJNy+/NoJjTDpMRolMgz1wzvv8lLfiVEjBzPju3HMX7CC48fPULZsKaZPG03lSo60bN1Nk87ExIQN6xfj4lKDw7/+rpWHtbUVx4/uJCw8nBGjphEVGUWfPp9z6OBmmrfoyslT5971ZYlslOEgMX78eAYNGsSoUaMoV64cgwcPBmDQoEGYmpoyatSoLC/ke0+lotrQ9tzadJyLc7YD8PT0DWLCXtBspQcFq5bm+TW/pKQGKhp7DiIm7AXmpnm1sgm/o/0scZWhAXW/7UXozYf4TN2o2Z4nnwnVhrWn6pdtiYt6SZ58Jtl8gfqhsixA3o4DUIc909pu3PRT1I/uELttCQCJd66iymdJnmZdiN2zGuJiyVOnFeTNy6s138HLpF/IsS8iMB06C8OPnEj8+0+UiBCUiBDtvD/ph8rYhFfr5kB83Lu50HdEpVIxdsxX/LRqExMnJf1wOXb8FCGhYWzbspKaNapy6fI16tdzYfHimRQtUjjVfHr17IqdXUHqNWjH06eBAPx25ASXLx1h5IjBH1yQyA2dz5mR4T6J4sWLc+DAAU6fPs3+/fuxtbUFYNmyZRw8eJASJUpkeSHfd8YWptzdfYZ7v5zV2h5xP+kPyLJkIc22ql+2xbRgfq4u2/fGfCv0aIpNlVKcHr8WdXyiZrtjt0Y4dmvEmYnrueF1JIuu4v2T97OvSPj7TxLvXNPaHrNlETGbF2ptUxISQGUABkm/e+JO7ePVkvGaAAGgJDdFGeVJ9XwGRUqRp8HHxP22FeU/NZecwtLSgp8372Lr1t1a2+/cuQ9AmbKlANi9y4uHD5/gXLtlqvk8fhLAwkU/aQIEJK0Efe/eA8qULZk9hc9G0ieh21vNk1CpVERERHDkyBGioqKwtramRo0aGBsbZ3X5PghxkS85OznlqK5SbWoBEPb3YwCsHYpSY0QnDrn/gEVxW515GpnlpebITtzdeZpnV+5r7fM/+ie3fv6dxJg4aozolEYOHzaj2s0xKFaOlz8MJW+7vlr7lJB/v5wwMcPQwQnjJh1IuHwCYqKTtkdHoo6O/H9meTAoWoa8nb5EHfyExL9Tf3qicbs+KCFBxJ/cmx2XpHcREZF8M3xyiu0dO7QG4MaN2wA0adqZ69dvp5nPjh372LFD+0eOtbUVjRrW4dhx6ZPIaTIcJBRFYerUqXh7e6P8p56mUqno2LEjM2fORKXK2E1Xq9UcPnyY48ePc+3aNZ49e4ahoSG2trZUq1aNpk2b4ubmhoHBhzNBvFDNj3Aa/DEPDvsS9s8TVIYGNPIcxN9b/iDw3O03BgnHzxtjbJmPK0tSfmFF+QdnV7HfCyprW/J+0o+YrYsgOirtdPkLkG/qOgDUIYHE/bol1XRmo5dgYFsEJT6WmHXfQ0J8ijQGRUph5FidmG1LQJ17Vnyr41qL0aOG8MueQ9y8+Q+AzgCRGgMDA1b9NA9z83zMnbssO4qZraS5SbcMB4nVq1ezc+dOPDw8aN++Pba2tgQHB7Nnzx5WrFjBRx99RJ8+fdKd3/79+/H09CQyMpK6devSoUMHChQoQGJiImFhYdy4cYOJEydiaWmJh4cH7dq1y2iR3zl7F0daeI0gyj+Yk6NWAVDd4xPy5s/HhVnb0pVHpV7NeHjkMhF+gW9OnMPk/cyDhFu+JF7z0ZlOiY3l1fJJYGqGcdMumA1fwMslY1GCHmmli935IwBGzm6Y9JtI7JZFJFz6QytNnvptUUeFk+Cr3Umbk9Wv58Ivu9dx774/Awa+XV+ikZER67wW0eGT1gwZOo5Ll6+9+aD3TG5oMsqMDAeJHTt20L9/f02HNUCxYsUYOnQo8fHxeHt7pztIDB06lMjISCZOnEiDBg3Ikyf1tuKEhAR+++03NmzYwMGDB1mxYkVGi/3OlGnvSqMFA4m4H8Ch7j8QGx6NTaWSVPuqPYd7ziMxLh6VoQEqg6QPZvK/FfW/P2cKVChB/jKFufj9dn1dht7kqd8WwyKleDl3GCTXHJNrpgYG2tNcY6JJvJv0pfTq7l/km7QK40btid2u/Ws28Z8rmv83sCqIcYtu2kFCZYBRZVfir5zWGkKbk3Xt2p61qz35+5/7tGn7BWFh4RnOw8oqPzu2r6ZhQ1eGeUzgp1Ub33yQ+OBkOEgEBATg6uqa6r7atWuzdu3adOfVoUMHmjdv/sZ0RkZGtGnThjZt2nD48OF05/+uVf2yLS4TPiPg/N/81ncB8VFJ8yNKtqyJYd48tN02PsUx3c4s4KnPLQ50manZVqJZNeJfxvDw2JV3VfT3hlHVuqjM85Nveso+HvN5vxB3ZBvqAH/Uz56ifvKfvppX0aifB6KySmrGMyxXFfLkIfHWJa08Eh/dJU+9NlrbDEo6ojLPT8KVD689/W2MHPEls2dN5NSpc3Ts3JfIyLSb9NJSrFgRDh3cTOlSxeneYyje3h9uP470SeiW4SBRtGhRbt++TZ06dVLsu3nzJgUKFEh3XukJEK9r1apVho95F8p3d6P2pM+5t/ccf3y9Qms00u2fj/PwqHZnaYlm1ak5ohO/9p6vGQWVrFD1coT85U9iTMq285wuxns5qrzac0WMW3bDoFhZYtbMRIkMxdTjh6T5DyunatKorApiYFec+NP7gaSmJaMKtYieOQBi/z+Z0cAAw4+qon7qp5W/YUkHlMQE1A//yd6Lew8M6O/O93Mms917L716exAfn/HPmIWFOb8e3oq9nS2t23zBqdPns6Gk7440N+mW4SDx8ccfs2TJEgoVKkTr1q0xMDBArVZz8OBBli1bRrdu3d6cSQ5japufOtO6E/XoGTe8fqNglVJa+yMfBGvmSSSzdiwGQOjtR5oZ18kKlC/G45PXs7XM7yvl2RNe70dUoqMgMQH147sAxP26BZPPvyZv16Ek/HkaVf4CGLfohhIdSfwfvwAQ//sujKrWxXTAFOKO7wKVijwNPsbArjivVk7Ryt+gcMmkEVOpdGjnJHZ2tsyfN40HDx6xbNlaalSvorX/3v0HPH8e+sZ8pk0ZhaNDWaZ/O4+4uHhqu/w7gTY2LpYrVz6sWer66rcOCQlhzpw5nDp1itjYWJydnRkzZgzlypUD4NatW8ycOZPr169jZWVFjx496Nevn+Z4tVrN0qVL8fb2JjIykpo1azJ16lRKlvx3GPKb8kiPDAeJAQMG4Ovry8iRIxk7dixWVlaEh4eTmJiIi4sLX3/9dUaz/OAVd3PCyDQvFsVtab97Sor9fwxfyR3vU+nOz9Q2P7ER0VlZxBwl4eIxXsXFYOzWCZPqjSA+loRbl4g7uAHlRQQA6sCHvFo6DuO2PTH5/GswykPig9u8WjYBtf/fWvmpLKxQXuX8+926lRtmZqaUKlWcE/8Ppv/Vt99wNmx8cz9Yx45JzXVTp4xi6hTtDu8HDx5RziH15uj3lb5qEoMHD04aGbZqFWZmZixatIjevXtz5MgRYmJi6NOnD82aNWP69OlcuXKF6dOnY2VlRefOnYGkxVa3bt3K7NmzsbOzY+7cuQwYMID9+/djbGxMWFjYG/NID5WivN0AsBMnTnDhwgUiIyPJnz8/zs7ONGrUKEN59OjRI93DZTO7umxOXtvoXfq8a6S+i5BjWC299OZEIl0S4p689bFn7D/N1LnrBe7I8DFhYWF89913DB48mI8++ghIWjz1k08+wdvbGx8fH37++WeOHz+OkVHSb/kFCxbw22+/cfjwYeLi4nB1dWX06NF8/nnS+mORkZE0aNCAWbNm0bZtW1auXKkzj/R668eXNmrUKMNB4XV16tRhyZIllClThqpVq2YqLyGE+FBYW1uzYMG/iyY+f/6cNWvWYG9vT7ly5ViyZAnOzs6aL3cAV1dXVq5cSUhICE+ePCE6OlprEJGlpSUVK1bk4sWLtG3bFl9fX5152NjYpKus6QoS48enHJWjy+zZs9OVbsiQIZiZmbF48WJWrlxJsWLFMnQeIYTIrMxOnWzatKnO/ceOHdO5f/LkyWzfvh1jY2NWrFiBmZkZgYGBODg4aKUrVChpeZ+nT58SGJg02KVw4cIp0gQEBAC8MY8sDRLnz2uPXggODiYhIYEiRYpga2tLeHg4jx49wtjYWLNseHr17t2b06dPs3DhQubNm5ehY4UQIrMU9Du6qVevXnz22Wds2bKFoUOHsnnzZmJiYlIsc5Q3b9KCoLGxsbx6lTRiL7U0ERFJ/XJvyiO90hUkjh//d5nqffv2MW/ePJYsWaLVRHT37l2GDh1K69at033yZDNnzuTmzZsZPk4IITJLncnhTW+qKbxJ8mim7777jitXrrBp0yZMTEyIi9NehTj5i93MzAwTk6SVn+Pi4jT/Tk5japo0hPxNeaRXhhdD8vT0ZOTIkSn6EMqVK8fXX3/N6tWrM5oldnZ2NGnSJMPHCSFEZqlRZer1NkJCQti/fz+Jif/OpzIwMKBs2bIEBwdjb29PcLD2Gm3J7+3s7DTNTKmlsbe3B3hjHumV4SARFhaGhYVFqvuMjIx4+fJluvN6m9rD9eu5c/6AECJ7KKgy9XobwcHBjBw5kgsXLmi2xcfHc/PmTcqWLYuzszOXLl3SCiI+Pj6ULl1a8zRQc3Nzra6AyMhIbt68Sa1aSatPvymP9MpwkKhWrRpLly4lLCwsxUUvWbKE2rVrpzuv6dOnM3bsWP75580zXW/cuMGoUaP49ttvM1pkIYR4r5QvX5769eszffp0fH19+eeffxg7diyRkZH07t2bzp078+LFCyZOnMjdu3fZtWsX69evZ9CgQUBSX4S7uzvz5s3j2LFj3L59m+HDh2Nvb69ZyeJNeaRXhudJ3L59mx49epCQkED16tWxtrYmJCSEP//8k/z587N58+Z0j1JSq9WsXr2an376CXt7e5o0aYKDgwMFChRArVYTGhrKjRs3OHfuHAEBAfTr14/+/ftrDelKL5knkTVknkTWkXkSWScz8ySO2H2WqXM3D0rfys6vi4qKYv78+Rw9epSoqChq1arFuHHjNPMmrl27pumvtbW1pW/fvri7//s9lpiYyIIFC9i1axcxMTE4OzszZcoUre/fN+WRHm81mS4oKIh169Zx+fJlwsPDsba2pk6dOvTq1QsrK6uMZkdUVBTbtm3j2LFj/PXXXyQkJK3EaWxsTNWqVWnWrBmdOnXC0tIyw3knkyCRNSRIZB0JElknM0HiN7vMLSXUImhrpo5/3731jOvsoigKYWFhqFQqrK2tsyxfCRJZQ4JE1pEgkXUyEyQOZzJItMrhQeKtZlwHBgZy+fJlreFVarWaV69e4evri6enZ7ry6dmzZ7rSqVQq1q9f/zZFFUIInXLPcwjfToaDxKFDhxg9ejQJCQmadZcURdH8u0yZMunOq2jRojr3+/r68ujRI8zNzTNaTCGEEFkgw0Fi5cqVVKxYkWnTpvHzzz+TkJDAwIEDOXHiBJ6enkyYMCHdeaW1fMeLFy+YM2cOjx49om7dusyYMSOjxRRCiHTR94zr912Gg4Sfnx/z5s2jYsWK1KlTh9WrV1O2bFnKli1LSEgIP/74I/Xq1XvrAp05c4bJkycTGRnJ9OnT+eyzzI08EEIIXdQSI3TK8DwJAwMDzQimUqVKcf/+fdTqpFa9Bg0acPfu3bcqSHR0NJMnT6Zfv36ULFmSvXv3SoAQQmQ7fcy4/pBkOEiUKVOGS5eSRmWUKlWK+Ph4bt26BSTN+Ht9rZD0OHPmDO3atePgwYNMmzYNLy8vihQpkuF8hBAio5RMvnK6DDc3devWjalTp/Ly5UtGjBhB7dq1mTBhAp9++imbNm2iUqVK6c4rOjqa77//Hm9vb+rUqcPMmTNTLH0rhBDZSUY36ZbhINGlSxfi4uJ4/PgxkLRy4YABA5g5cyZFixbNUMd1u3btCAgIoHjx4tSoUYOdO3emmfarr77KaFGFEEJk0lvNk+jevbvm38WLF+fQoUOEhYVRoEABzWzp9CpcuDAJCQns2rUrzTQqlUqChBAiW6jT+Qjl3CrDQaJp06YsW7ZM6+FCKpWKAgUKcO3aNQYMGJDiIUVp+e9zKoQQQh9yQ79CZqQrSOzfv19TQ3jy5Am//fYbt2/fTpHOx8eH+Pj4rC2hEEJkI+mT0C1dQeL69eusW7cOSKo1LF++PM20ffr0yZKCCSHEuyDzJHRLV5AYMWIEPXr0QFEUmjVrxtKlS6lQoYJWGkNDQ8zNzWUJDSHEByU3zHXIjHQFCWNjY806S8eOHaNQoULkyZMnWwsmhBBC/9IVJJYuXZruDFUqFUOHDn3rAgkhxLskHde6SZAQQuRq0iehW7qCRGojmYQQIieQ0U26vdVkOiGEyCmkuUm3DAeJ8ePHvzFNWs+JEEKI9400N+mW4SCR2mzqly9fEh4ejpWVFVWqVMmSggkhhNC/DAeJtJbSuH//PsOGDaNDhw6ZLZMQQrwz0iehW4afJ5GWMmXKMHTo0AyNhBJCCH1TZ/KV02Vpx7W5uTlPnjzJyiyFECJbKdInoVOGg8TTp09TbEtMTCQwMJCFCxdStmzZLCmYEEK8C7mhNpAZGQ4Sbm5uqFJZf11RFExNTVmyZEmWFEwIId4FCRK6ZThIzJo1K0WQUKlUmJub4+rqKgv8CSFEDpLhINGpU6fsKIcQQuiFTKbT7a1GN128eJHLly8D8PjxYwYOHEi7du1YtmxZlhZOCCGym1qVuVdOl+EgsWfPHnr27MnRo0cBmDZtGhcvXqRkyZL8+OOP/PTTT1leSCGEyC4yBFa3DAcJLy8vOnbsyJgxYwgJCeHs2bN89dVXLF26lOHDh7Nz587sKKcQQmQLCRK6ZThI3L9/n08++QSAkydPoigKTZs2BaBKlSoEBARkbQmFECIbKZl85XQZDhKWlpZER0cDcOLECYoUKUKpUqUAePjwIdbW1llaQCGEEPqT4dFNrq6uLF26lDt37nDkyBH69u0LwK+//sqiRYuoX79+lhdSCCGyS27ofM6MDNckJk6ciLW1NcuWLaNu3boMGjQISFoevEiRIowcOTLLCymEENlF+iR0y3BNwtramjVr1qTYvnnzZooUKZIlhRJCiHclN/QrZMZbL/B37949zpw5Q3BwMD169ODp06dYWlq+tzOuzxq90ncRcoRVWyP0XYQcw8jAUN9FEIBawoROGQ4SiYmJTJ06lZ07d6IoCiqVitatW7Ns2TIePXrEpk2bsLe3z46yCiFElssNTUaZkeE+iRUrVrBv3z5mzJjBmTNnUJSkKDx27FjUajWenp5ZXkghhBD6keEgsXPnTjw8POjcuTNWVlaa7eXLl8fDw4MzZ85kZfmEECJbyTwJ3TIcJJ4/f06FChVS3WdnZ0dkZGSmCyWEEO+KvkY3hYeHM2XKFBo2bEiNGjX4/PPP8fX11ey/desW7u7uVKtWjcaNG6cYMKRWq1m8eDENGjTAycmJvn374u/vr5XmTXmkR4aDRMmSJTlx4kSq+y5cuEDJkiUzXAghhNAXfS3wN2LECK5evcqCBQvYsWMHlSpVol+/fty7d4+wsDD69OlDqVKl2LlzJ8OGDWPRokVayx4tX76crVu3MmPGDLZt24ZKpWLAgAHExcUBpCuP9Mhwx3WvXr2YMmUK8fHxNGnSBJVKhb+/P+fPn2ft2rWMGzcuo1kKIYTe6GN0k7+/P2fOnGHLli3UqFEDSJqDdvLkSfbv34+JiQnGxsZMmzYNIyMjypYti7+/P6tWraJz587ExcWxdu1aRo8eTaNGjQDw9PSkQYMGHDlyhLZt27J9+3adeaRXhmsSXbp04ZtvvmH37t0MHDgQRVEYMWIEnp6e9O3bl88//zyjWQohhN7oo0/C2tqan376icqVK2u2qVQqFEUhIiICX19fnJ2dMTL693e8q6srfn5+hISEcPv2baKjo3F1ddXst7S0pGLFily8eBHgjXmk11vNkxg0aBDdu3fnzz//JDw8HEtLS5ycnLQ6soUQIjdIXuA0LceOHUuxzdLSUlMDSHbo0CEePnxI/fr18fT0xMHBQWt/oUKFAHj69CmBgYEAFC5cOEWa5EVWAwMDdeZhY2PzpksD3vKhQwDm5uY0aNCAdu3a0ahRI6ysrFCr1WzYsOFtsxRCiHfufViW49KlS0yYMIGmTZvi5uZGTEwMxsbGWmny5s0LQGxsLK9eJU0OTi1NbGwswBvzSK901yROnz6t6fDo0KFDiih48eJFvvvuO+7cuUPPnj3TXQAhhNCnzPZJpFZTyIijR48yatQonJycWLBgAQAmJiaaDuhkyV/sZmZmmJiYABAXF6f5d3IaU1PTdOWRXukKEgcPHmTEiBEYGxuTJ08eDh8+zOLFi2nevDlhYWHMnDmTAwcOYGhoSJ8+fdJ9ciGE0Dd9znXYtGkTM2fOpHnz5sybN0/zy9/e3p7g4GCttMnv7ezsSEhI0GwrUaKEVpry5cunK4/0Sldz07p163BycuLs2bP4+Phonmd9//59OnbsyP79+6lfvz779u1jzJgx6T65EELom76amzZv3sx3331H9+7dWbhwoVbTkLOzM5cuXSIxMVGzzcfHh9KlS2NjY0P58uUxNzfn/Pnzmv2RkZHcvHmTWrVqpSuP9EpXkLh//z69evXC3NwcY2NjvvrqK/7++2+++uorEhISWLJkCatWraJ06dLpPrEQQrwP1CiZer0NPz8/Zs2aRfPmzRk0aBAhISE8e/aMZ8+eERUVRefOnXnx4gUTJ07k7t277Nq1i/Xr12sezWBsbIy7uzvz5s3j2LFj3L59m+HDh2Nvb0/z5s0B3phHeqWruSk6OlqrF93e3h5FUTAyMmLv3r0UKFAgQycVQojc7NdffyU+Pp4jR45w5MgRrX0dO3Zkzpw5rF69mpkzZ9KxY0dsbW0ZM2YMHTt21KTz8PAgISGBSZMmERMTg7OzM2vWrNHUSGxsbN6YR3qolOQV+nQoX74827dvp2rVqkDSSrCVKlVi2bJlbxz+9b7oUyr9k0dE2m7EPdd3EXKMa6F++i5CjhET8/Ctjx1eqlumzu35YGumjn/fvfXzJABZElwI8cGTpcJ1y1SQUKnk4bBCiA+bkivWcn176Q4S06ZN0zx1LrmFavLkyeTLl08rnUqlYv369VlYRCGEyD5Sk9AtXUHC2dkZ+Dc4pLUttfdCCPE+k8eX6pauILFx48bsLocQQoj3UKb6JIQQ4kMn9QjdJEgIIXI1aW7STYKEECJXk45r3SRICCFyNRkCq5sECSFEriY1Cd3e+qFDQgghcj6pSQghcjVpbtJNgoQQIleT5ibdJEgIIXI1tawSoZMECSFEriYhQjcJEkKIXE0m0+kmo5uEEEKkSWoSQohcTUY36SZBQgiRq8noJt0kSAghcjXpk9BNgoQQIleT5ibdJEgIIXI1aW7STUY3CSGESJPUJIQQuZoiM651kiAhhMjVpONaNwkSQohcTfokdJMgIYTI1WR0k27ScS2EECJNUpPIBgUK2/Ddr54sHvg9f5+7odluZVeAruN7UKVRdQyNDLl/9S7bZ2/g4Q0/TRojYyM++bordTo0xMLGkkC/APYv3cnFA2cB+OSbrnT45rM0zz3ns8n8ff5m9l3cO1aoiC1bjnkxuu8kLvtc0WwvUbY430wdSjWXKiQmJHLi19MsnL6cF5EvNGmGThhIr6+6p8hz6ayVbFi6mQEjezNgZJ80zz2okwd/nruapdejbwYGBowY8SV9+nSjSBF77ty5j6fnSrZs2a1J89FHZfjhh8nUretMQkIi+/b9ytixM4iIiNSkcXQsx6xZE2jY0JX4+AROnvRh8uTvuXPnvj4uK1OkT0I3CRJZzKaoLSM3TMbMMp/WdpN8Jozf/h0J8Qmsn/Aj8bHxtPP4lFEbpzC55XAinoUDMNDzayo3rIb395sI8gugbqeGfLlkOK9evOT6iSuc3HqUv078qZV3HuM8fLlkBBHBYdy/cvddXWq2sy9qx+Itc7HIb6G13dzSnGXbFvA8KISpHjMpULAAwyZ9SaEihfD4fJQmnUOlclw45cuP36/ROj7wSRAAezYfwOf3C1r78hjnYeaKqTwPDuHmlVvZdGX68+23Y/Hw6Mf06fO5fPkaLVs2wctrEWq1mm3b9pA/vyWHDm0hICCIvn2HY2dXkJkzJ1CsWBE+/tgdgFKlivP777uIiIhk+PApBAU9o1evzzhx4hfq1m3LgweP9HyVGSOjm3STIJFFVCoV9T5tzGcTeqW6v0W/dphbWzChqYcmIPj9dY9p+36gfJ3KnN97GgeXiji3rYtn75lc++MyADfPXKNQycJUbVyD6yeuEBYYSlhgqFbe3Sb3Jq+ZCUu/nEt8bFy2Xue7oFKpaNu1FV9PHpzq/s49P8HSyoIeLfoTHhoBQHDAMxb9/ANOLlW4euEvIClI7Nywh+uXU69ZBQc8Izjgmda24dOGYprPlHH9JxMb8+Hfy//Kl8+MIUN6s3jxGubPXwHA77+foUaNKgwe3Jtt2/YwcGAPrK3z4+ramufPkz5njx8HsHfvBurWdebs2Yt89VU/zMxMqFfvY/z8HgJw5MgJTpz4hWnTRtG799d6u8a3IR3XukmQyCLFKpSk54yBHN/4KzdPX2P4uola+2u2dsX30DlNgACIfBbOCNeBmve1WrsS7B+oCRDJZn2qndd/Fa9Qkua92+A9ZxPPHwdnzcXoWbmKZRk7ezg71+/hwilfFm76QWu/a2Nnrpy/pgkQAOf+uMCLqGjqurly9cJfFChojU0hG/65kf6a1UcVy9K1X2eWzlzJ00eBWXY974uYmFgaNepAUJB2YIyLi8fCwhyA5s0bcubMBU2AgKQAEBkZRatWTTh79iLly5fj5s07mgCR7MyZC/Tt+3n2X0gWk45r3d6rIBEUFMSzZ88wNDTE1taWggUL6rtI6Rb65DljGw0lLDAUR9dKWvsMjQwpUq4YPrtP0nFENxp2a4a5tQV3L//Nz1NW8/jvpD+24hVL8fjvh7i2r087jy7YlSpMsH8gO+du5tLhc6met+v4njx7GMxva/dn+zW+K0FPguhcrzvBAc+oUadaiv2lPirJ0b2/a21TFIWAhwGUKFMMAIfKHwHQsGV9Rn7nga1dQe797cfy2avw+f18qucdNnkwT/wD2LpqR9Ze0HsiMTGRv/76twnNzs6Wnj274uZWnyFDxgJJfQ07dmh/lhRF4cGDR5QrVwaA589DqFSpPEZGRiQkJGjSlSlTEiur/Fhb5ycsLIIPhfRJ6Kb3IOHv74+XlxfHjx/n2bNnmvZBlUpF4cKFadq0KT179qR48eJ6Lqlu0REviE7j78Isfz6M8hjRot/HPHsYhNfY5eQxzkOHEd0Yu/VbJrcaQXhQKBYFLLErVZhSlcuwc95mwoPDcOvRiiHLR7Ko7+wUNYziFUpSuWE1vMYuR52YcyrNkeFRRIZHpbnfwtKc6KjoFNujo1+SzyKpL8ihcjkACthYMXPUXIyN89C1bycWbJjNcPexnDtxUevYjyqWxbWRMzNH/UBiYmIWXs37qVu3DqxbtxiAQ4eO4e29DwArK0uiolLe+xcvorG0TKptbNy4g27dOrJ2rSdTp84lIiKSL77oTIsWjYGkZq0PKUgI3fQWJKKjo5kzZw579uzBxcWFQYMG4ejoSIECBVCr1YSGhnLz5k3OnTtH27Ztad++PePGjcPc3FxfRX5rRnn+vc0Les0g9mUMkNQnMef3pTTr1ZodP/yMUR4jrO0KMK3tKPz/P+Lp1tnrfHtoPu08Pk0RJJr2bE3Es3DO7Drx7i7mPaBSqVLtbFSpVCjqpGD52+5j3Llxj3N/XNCk9fnjAj8fXcvA0X1TBIkufToR8iyUA96/Zv8FvAcuXPiTZs0+xcGhLJMnj+SPP3ZTv357nfdW/f97e+zYKXr39mDu3Kl07foJAMePn+aHH5YybdpooqNfvtNrySzpuNZNb0GiS5cutG7dmpMnT2JlZZVqGhcXF3r37k1wcDAbN27k008/5fDhw++2oFkgJjopKPx97oYmQACEPn1OwL3HFK9Y6v/pXhEWFKoJEACKWs3NM9do/EVzrTxVBgbUaOHChf1nSYxPIDd5ERWtqTH8l5mZqaYjOvBJkGYUU7LEhETOn7hIR/f2WtsNDAxo1Ko+R/YeJyGX3Mv79/25f9+f06cvcP++P4cPb6Vjx9ZERERhYWGRIn2+fGY8fhygeb916y9s27aHMmVK8urVK54+DWLy5BEkJiYSEZF2LfB9JM1NuultMp2XlxfDhg1LM0D8V6FChRg5ciTr1q3L9nJlh1dRL4l4Fo6RcZ4U+wyNjIj//yiaIL9ArVrHv2kMiXttpE3Z6h9hYZOfC/+fP5Gb+N97SLFSRbW2qVQqCpcojN8/DwCo19SVxq0bpDg2r0leIl5rCqlcsyLWNlYce62fI6extbXB3f1TbG1ttLb7+ibNBSlWrAh37tynbNmSWvtVKhWlShXn9u07QFK/RffunVEUhXv3HvD0aVIwrl69Cteu3dTUOD4USib/l9PpLUjY2dll+Bh7e/tsKMm78deJP6lYrwrm1v/+SrMvUwT7MkX452JSZ+K1Py5jUcCSSg2cNGkM8xhRpVF17lzUHrNfppoDCfEJ3L96591cwHvk/AlfatRxwqpAfs0218YumFvk4/wJXwCat3djiuc4LPL/2zxpYmpCvaauWpPyACpXr0hCfAI3rtx+J+XXF3PzfKxevYA+fbppbU/uS7h27SZHj56kQQNXChYsoNnfvHkjLC0tOHr0JAAVKzqwZo0nDg5lNWnKl/+I5s0bsnfvh9dcp1aUTL1yOr0uy/HLL7/Qo0cP2rVrxw8//JCiwyw0NJSmTZvqqXRZa+8ibwBGbZxC9RYu1GpTh2/WTCA04Dkntx4F4NwvJ/G7dpdBC7+m4WdNqdyoGh6rxmJtb8Oehdu18itWvgTPHgaREBv/zq9F33as/4XYmDiWbptP41YN+OSLtny7dBJnjp3jr0tJM9w3LN+CUR4jFm78gQYt6tK4dQOWe3tils+Un+Z5aeVXtkIZnjx8SlwOmGOii5/fQzZt2sGECV8zcuRgGjeuy4gRX/Ljjz/w229/8Ntvf7By5QZevYrhwIGfad++JX36dGPdusUcPnyc8+eT+sQOHz7OvXsPWL9+Ma1audGlSzv279+In99DlixZ84ZSvH+UTL5yOr0FCW9vbyZNmkTJkiVxcnJiy5YtdO7cmcePH2vSqNVqnj59qq8iZqlnj4KY2WkCYYGhDFjgQZ85g3l404/ZXSZp+iwSExKZ5/4tFw+do9OoL/jqxzGY5DNlrvt0rX4KgPwFrXgZmXKET24QERrB4E+/ITw0gm+XTeLLsf05tv8PJn45TZPm/t9+DOroQfSLaKYsGMfURRMID41gQIdhPPHX/kwVKGitczRVTjJkyDhmz15Mr15d+eWXdQwc6M6yZWv59NP+AISEhNGy5WeEhISxbt1ipk0bza5dB3B3H6rJ49WrGNq160FAQDDr1i1i7typHD9+mubNu/LiRe78TOZkKkVPXfvt2rWjZ8+edOnSBYDHjx8zcOBAYmJi2LJlC3Z2djx//pwGDRpw61bml0foU6pzpvMQcCPuub6LkGNcC/V7cyKRLjExD9+cKA31irpl6txnnhzP1PHJli9fjo+PDxs3btRsu3XrFjNnzuT69etYWVnRo0cP+vXrp9mvVqtZunQp3t7eREZGUrNmTaZOnUrJkiXTnceb6K0m8fjxY1xdXTXvixUrxvr16zEwMKB///68ePFCx9FCCJE11CiZemWFdevWsXjxYq1tYWFh9OnTh1KlSrFz506GDRvGokWL2LlzpybN8uXL2bp1KzNmzGDbtm2oVCoGDBhAXFxcuvN4E70FiUKFCqWoIdja2vLTTz8RHBzM4MGDiYmJSeNoIYTIGoqiZOqVGUFBQfTv359FixZRunRprX3bt2/H2NiYadOmUbZsWTp37kzv3r1ZtWoVAHFxcaxdu5Zhw4bRqFEjypcvj6enJ0FBQRw5ciRdeaSH3oJEly5dmDx5Mj/99BNBQf+OZy9TpgzLly/nxo0b9O3bV1/FE0LkEvqsSdy4cYP8+fOzd+9enJyctPb5+vri7OyMkdG/w+JdXV3x8/MjJCSE27dvEx0drdUiY2lpScWKFbl48WK68kgPvQWJfv360bt3bzZv3oyfn3bbbM2aNT/YORFCiA+LPudJuLm5MX/+/FSXHQoMDEwx7L9QoUIAPH36lMDApEUoCxcunCJNQEBAuvJID73NuFapVAwePJjBgwenWmWrWrUqhw4d4tq1a3oonRBCpM+bhukfO3bsrfKNiYnB2NhYa1vevHkBiI2N5dWrVwCppomIiEhXHumht5rE+vXrNQupqVSqVNMYGhpSvXp1ABISEvDy8ko1nRBCvC199knoYmJioumATpb8xW5mZoaJiQlAqmlMTU3TlUd66K0mERAQQJs2bejRowetW7fGxsYm1XRhYWH88ssvbNmyhcaNG7/bQgohcrzM9iu8bU3hTezt7QkO1n5GTPJ7Ozs7zTLtwcHBlChRQitN+fLl05VHeugtSIwbN46WLVuyYMECZs+eTeXKlXFwcNBaBfbGjRvcuXOHGjVqMGvWLGrVqqWv4gohcqj3dRVYZ2dntm7dSmJiIoaGhgD4+PhQunRpbGxssLCwwNzcnPPnz2uCRGRkJDdv3sTd3T1deaSHXpflqF69Ohs3bmTr1q24urry6NEjjh07xh9//EFgYCBubm54e3uzceNGCRBCiGzxPsyTSE3nzp158eIFEydO5O7du+zatYv169czaNAgIKkvwt3dnXnz5nHs2DFu377N8OHDsbe3p3nz5unKIz30VpOoUKECp0+fxsbGhipVqlClShV9FUUIkYu9ryu52tjYsHr1ambOnEnHjh2xtbVlzJgxdOzYUZPGw8ODhIQEJk2aRExMDM7OzqxZs0bTWZ2ePN5Eb8tylC9fnjNnzqS7ypNZsixH1pBlObKOLMuRdTKzLEdV+zqZOve1QJ9MHf++0/vjS4UQQp9yw3LfmaHXIHHo0KF0PY60Q4cO2V8YIUSu9L42N70v9BokZsyY8cY0KpVKgoQQIttITUI3vQaJd9knIYQQqZGahG56XZZDCCH0TWoSuultnsT7OoFFCCHEv/RWk+jYsaNmoSkhhNAXaW7STW9BYvbs2fo6tRBCaEhzk24yT0IIkatJTUI3CRJCiFxNUdT6LsJ7TYKEECJXy85F+nICva4CK4QQ4v0mNQkhRK4mw/F1kyAhhMjVpLlJNwkSQohcTWoSukmQEELkajJPQjcJEkKIXE3mSegmo5uEEEKkSWoSQohcTfokdJMgIYTI1WR0k24SJIQQuZrUJHSTICGEyNVkdJNuEiSEELma1CR0k9FNQggh0iQ1CSFEriYd17pJkBBC5GrS3KSbBAkhRK4mHde6SZAQQuRqsiyHbhIkhBC5mtQkdJPRTUIIIdIkNQkhRK4mHde6SZAQQuRq0iehmwQJIUSuJjUJ3SRICCFyNQkSukmQEELkahIidFMpEkaFEEKkQYbACiGESJMECSGEEGmSICGEECJNEiSEEEKkSYKEEEKINEmQEEIIkSYJEkIIIdIkQUIIIUSaJEgIIYRIkwQJIYQQaZIgIYQQIk0SJIQQQqRJgoQQQog0SZDIJm5ubjg6OmpelStXpmXLlqxevTpF2tmzZ7Nu3TrN+0OHDtGmTRuqVKlCu3btOHnypGZfYGAgrVu35sWLF+/iMvTOzc2Nxo0bp3q948aNo0ePHpr3iYmJdO3alevXr6dIu3z5cq20AL/99htDhgzJ+kK/p8aNG6f1mUztley/n0m1Ws3q1atp2bIl1apVo23btnh7e2vS5rbPZK6jiGzRpEkTZc6cOUpwcLASHBysPHz4UNm3b5/i5OSkbNq0SZPu8uXLSvPmzZW4uDhFURTFx8dHqVSpkrJx40bl7t27ypw5c5TKlSsrd+/e1RyzcOFCZeLEie/8mvShSZMmioODQ6rXO3bsWMXd3V3zfuXKlcqoUaNSpPPy8lIcHR210ibr3r27smfPnqwt9HsqMjJS83kMDg5WHBwclHXr1mltU5SUn8nly5crzs7OysGDBxV/f39l27ZtSqVKlZRdu3Zp8s5Nn8ncRmoS2cjMzAxbW1tsbW0pXrw4H3/8Me3atWPnzp2aNPPnz6d79+7kyZMHgFWrVtG8eXPc3d0pW7YsY8eOpVKlSqxfv15zTM+ePdmzZw9+fn7v/Jr0oXjx4nh7e3Pq1Kk000RFRbFy5Ur69eun2RYUFET//v1ZtGgRpUuXTvW4Pn36sHDhQhISErK83O8bCwsLzefR1tY2zW2vfya3bt1K3759ad26NSVKlKBr16588skn7NixQ5N3bvtM5iYSJN4xU1NTzb//+usvLl26RJs2bYCkav3ly5dxdXXVOqZ27dr4+vpq3ltbW+Pi4oKXl9e7KbSetW/fnjp16jB58uQ0mzS2bduGnZ0d5cuX12y7ceMG+fPnZ+/evTg5OaV6XIMGDYiMjOTXX3/NlrJ/aFL7TM6ZM4cOHTqkSBsREaH5d277TOYmEiTeoWvXrrFv3z4+++wzAI4ePUrlypU1v+AiIyN5+fIl9vb2WscVKlSIgIAArW1ubm4cP3783RRcz1QqFTNnziQyMpLZs2enmubo0aM0adJEa5ubmxvz58+nePHiaeZtbGxM3bp1c829fJPXP5MGBgbUqVNH6zP5+PFjDhw4QP369bWOzU2fydxEgkQ2WrlyJdWrV6d69epUrlyZLl26ULx4cc2vtCtXruDg4KBJHxMTAyR9cf1X3rx5iY2N1drm6OjIs2fPUgSPnKpo0aKMHj2aHTt2pGh2UqvVXL9+XeteZoSjoyNXr17NimJ+8F7/TL7u2bNnDBw4EBsbGwYPHqy1L7d9JnMLCRLZqFu3bvzyyy/88ssv7Nmzh+XLl/Py5Uu++OIL4uLieP78OQUKFNCkz5s3LwBxcXFa+cTGxmo1U0FS9R6S/mhzi27duqXa7BQeHk58fLzWvcyIAgUK8Pz586wq5gft9c/kf92/f5/PP/+c6OhovLy8yJ8/v9b+3PiZzA2M9F2AnCx//vyULFlS875s2bLkz5+f7t27c/bsWVQqFWq1WrPfysoKMzMzgoODtfIJDg5O0QSVfJyhoWE2XsH7JbnZqV27dqk2O/33XmaEWq3GwEB+LwEpPpPJLl26xODBg7G1tWXjxo0ULlw4RZrc+JnMDeQvQ0/UajV2dnaEhoZqtqlUKmrUqMGFCxe00p4/f56aNWtqbUs+LrntOLcoWrQoY8aMYceOHZrO/AIFCmBsbExYWNhb5RkaGprr7mNaXv9MQlJfWv/+/fnoo4/YvHlzqgECcu9nMqeTIJGNXr58ybNnz3j27BnBwcH4+voya9YsChUqRJ06dahatSo3btzQOqZPnz4cOHAALy8v7t27xw8//MCtW7fo1auXVrqbN29SpEgRChUq9C4v6b3QrVs36taty6NHjzTbqlatmuokuvS4ceMG1apVy6LSfdhe/0wmJCQwatQobGxsmDNnDnFxcZrP9OvBJDd/JnMyCRLZaO3atdSvX5/69evTqFEjPDw8KFq0KOvXr8fU1JRmzZpx584drT+2+vXrM2vWLLZs2ULHjh05d+4cP/74I2XLltXK+9y5czRt2vRdX9J7Y8aMGeTLl0/zvlmzZpw/fz7D+cTHx3P58uVcfS//6/XP5LVr1/D39+fRo0c0a9ZM83muX78+n376qdaxuf0zmWPpezZfbvfFF18oq1evztAxQUFBSuXKlRU/P7/sKdQHKDw8XKlRo4Zy7dq1DB134MABxc3NTYmPj8+mkn145DMp/ktqEnr2zTffsGXLlhQjmnTZuHEj7dq1o1SpUtlXsA9M/vz56devn9YaWOmxYcMGhg0bhpGRjOFIJp9J8V8SJPTM2dmZxo0bs3HjxnSlDwgI4LfffmPcuHHZXLIPz4ABA/D39+fatWvpSn/o0CGsrKxSnU2cm8lnUvyXSlEURd+FEEII8X6SmoQQQog0SZAQQgiRJgkSQggh0iRBQrwV6coSIneQIPGe6NGjR4pHSZYvX56aNWvSpUsXDhw4oLeyOTo6smTJEiBp8cHZs2ezb9++LMnbzc0tx46KOX/+PI6Ojm81yU+X9NyzcePG4ebmlqXnFbmTDA5/j1SsWJGpU6dq3icmJhIYGMi6desYMWIEFhYWNGzYUI8lTFpscN26dWk+10Fkv6VLl2Jubq7vYohcQoLEe8Tc3DzVNYQaNWpEnTp12Llzp96DhNC/ihUr6rsIIheR5qYPgLGxseZ5w//l7e1N27ZtqVy5Mo0bN2bJkiVaz2oODQ1l1KhR1KtXjypVqvDJJ5/wyy+/aPbv2rULR0dHHj9+rJVvWs0Zjx8/1qzNM378eK3mDG9vbzp16kS1atWoWrUqn3zyCQcPHtQ6/vbt2/Tp04fq1avTpEkT9u7dm+IcsbGxLFu2jFatWlGlShVatGjBTz/9pLV89aNHjxg8eDC1a9fGycmJzz77jBMnTui8h25ubnh6ejJ79mxcXFxwcXFh9OjRWivHjhs3jl69ejF16lRq1apFx44dSUhIQK1W89NPP9G8eXMqV65My5YtU51otnXrVlq2bEnVqlVxd3fn6dOnKdI8ffqUESNG4OLigpOTE7169eLmzZtaaaKjo5k9ezYNGzakWrVqdOrUSeuJb6//94mIiGD8+PHUrl0bZ2dn5s6dm+py3wcPHqRTp05Ur16devXqMWXKFK1HkMbGxjJ9+nQaNmxI5cqVadWqFWvXrtV5X0XOJzWJ94iiKFpf8snNTcuWLSM6OppPPvlEs2/lypV4enri7u7O+PHjuXXrFkuWLCEgIIBZs2YBMHr0aEJCQpg+fTr58uVj7969jB07lsKFC1O7du0Ml69QoUIsXbqUr776isGDB9OiRQsAfv75Z2bMmMFXX33F2LFjCQ8PZ9WqVYwePZpq1apRpEgRgoKCcHd3p0SJEsydO5cXL14wb948QkJCtK7/yy+/5MqVKwwdOpQKFSpw/vx5Fi5cyKNHj/juu+9Qq9UMGjQIW1tbfvjhB4yMjNiwYQNDhgzh4MGDWs/veN3mzZspWbIks2bNIjQ0lPnz53P//n28vb01z5Pw9fVFpVKxZMkSoqOjMTIyYsqUKezatYtBgwZRvXp1Ll68yKxZs4iMjGTo0KEAbNq0ie+++44ePXrQuHFjfHx8mDx5stb5Q0ND6datG6ampkyePBlTU1PWr19P9+7d2bFjB2XLlkWtVtO/f3/u3buHh4cHZcuWZc+ePXz11Vd4eXml+O+WnP7x48ea1VpXr17NtWvXtFZjXb58OYsWLeKLL75g+PDhPHr0iEWLFnHlyhW2b9+OiYkJM2fO5PTp04wdO5aCBQty8uRJvv/+e6ysrOjUqVOGPy8ih9DrylFCw93dXXFwcEjxcnR0VNq1a6ccOnRIkzYyMlJxcnJSpkyZopXH9u3bFQcHB+Wff/5RFEVRKleurCxfvlyzPzExUZkzZ45y8eJFRVEUZefOnYqDg4Py6NEjrXyaNGmijB07VvPewcFBWbx4saIoivLo0SPFwcFB2blzp2b/7NmzlR9++EErj+vXrysODg7Kvn37FEVRlDlz5ihOTk7K8+fPNWmuXLmiODg4aM71xx9/KA4ODsqePXu08lq2bJni4OCg3LlzRwkODk6RJjIyUpk1a5by999/p3l/mzRpojg7OyuRkZGabUeOHFEcHByU33//XVEURRk7dqzi4OCgPHjwQJPm/v37iqOjo7Jy5Uqt/Dw9PZUqVaoooaGhilqtVurUqaMMGzZMK82UKVMUBwcH5dy5c4qiKMqCBQuUKlWqKI8fP9akiY2NVZo2bao59vfff1ccHByUo0ePatKo1WqlW7duysKFCzXXknzPktMnX4OiKEp0dLRSu3ZtpUmTJoqiJC1+WLlyZWXixIla5bt48aLi4OCg/Pzzz4qiKErLli1TpFm6dKly/PjxNO+ryPmkJvEeqVSpEtOnTwcgKCiIRYsWER8fj6enp9ZS4X/++SevXr3Czc1Nq+aR3Pxz5swZPvroI2rXrs2SJUu4ffs2jRo1omHDhowdOzbLy53c9BEVFcWDBw948OABPj4+QNJS3JD0ZLNq1aphY2OjOc7JyYkiRYpo3l+4cAFDQ0PNM8CTtW/fnkWLFnH+/Hm++OILypUrx+TJkzl79iwNGzakfv36jB8//o3lbNKkCRYWFpr3bm5u5MmTB19fXxo3bgyAiYkJJUqU0KQ5d+4ciqKkeq9XrFjBpUuXKF26NCEhISmWyW7dujVbt27VvPfx8aFChQrY2dlp8jIwMKBhw4aapjdfX1/y5MlDkyZNNMepVCq2bNmS6jUlp/9vX5WZmRmNGjXi4sWLQNJzq+Pi4mjXrp3WsbVq1aJo0aKa+1q7dm22bt1KUFAQTZo0oVGjRpqaksi9JEi8R/Lly0eVKlUAqFKlCtWrV+eTTz6hb9++7N69W/Ps4fDwcAAGDhyYaj7Jjz/19PTkxx9/5NChQxw+fBgDAwPq1q3LtGnTKF68eJaV++HDh0yZMoVz585hZGREmTJlcHR0BP6dTxEREUGxYsVSHPvfp5hFRERgbW2dYkXW5DRRUVGoVCrWrl3LihUrOHLkCLt37yZPnjw0a9aMadOmYWVllWY5X38YjoGBAVZWVkRGRmq22djYoFKpNO+T73Xbtm1TzTMoKEjz3+X1Z0O//oS28PBw/P39qVSpUqp5vXr1ivDwcKysrNL9ONWIiIhU079+XwEKFiyY4viCBQsSFRUFwMSJE7G3t2fv3r2aHyvVq1dnypQp0lmei0mQeI/Z2NgwZcoUhg0bxsyZM5k/fz4AlpaWAMybNy/VpZmTvwwsLCwYPXo0o0eP5v79+xw7dozly5czffp0Vq9erfkyfL2TMzo6Ot1lVKvVDBw4kDx58rB9+3YqVqyIkZERd+/e1eqYtra25vnz5ymOT/4ShqTlvsPCwkhISNAKFMlBz9raGkh6xOa0adOYOnUqt2/f5vDhw6xatYr8+fNrvtxS899zQVKfT1hYWIov9/9Kvtfr16/XeshRsiJFimiCzH/7V1I7n4WFBS4uLowZMybVcxkbG2NhYUF4eHiK527funWLhIQEzY+IZNbW1oSFhZGYmKj1bOnX7yvA8+fPUzy86tmzZ5ofDMbGxgwePJjBgwfz9OlTfv/9d5YvX87IkSM5dOhQqmUWOZ+MbnrPtWjRggYNGrB//37NpCwnJyfy5MlDUFAQVapU0bzy5MnD/Pnzefz4MU+ePKFRo0YcPnwYgDJlyjBgwADq1q1LYGAggGasfUBAgOZ89+/fT/Hl9l+vP+Q+LCwMPz8/Pv30U6pWrar5cj958iTwbwBydXXlzz//JCgoSHPs3bt3tR5B6uLiQmJiYopRUcnBpmbNmvz555/UrVuXa9euoVKpqFChAsOHD8fBwUFzXWk5deqU1jMSjh07RkJCAnXq1EnzGGdnZ811/vdeh4eHs3DhQsLDwylVqhSFCxfW3Otkv//+u9Z7FxcX/Pz8KF26tFZee/fuxdvbG0NDQ2rVqkV8fLzWaC1FUZg4cSIrVqxIUb46deqQkJDA0aNHNdvi4uI4c+aM5r2TkxPGxsYpJkD6+vry9OlTatSoQUxMDC1bttSMZipSpAjdu3enbdu2b7yvImeTmsQHYMKECbRv354ZM2awe/durK2t6d+/P4sWLeLFixfUrl1b04ehUqkoX748FhYW2NvbM2PGDF68eEGJEiW4fv06J06cYNCgQUDSF7epqSlz5szhm2++ITo6mqVLl+pssklu0/fx8aFs2bI4OTlRtGhRfv75Z+zt7bG0tOT06dOsX78eSGpCAejVqxc7duygX79+DBs2jMTERBYuXKg1tLdhw4bUrl2bqVOnEhwcTMWKFblw4QKrVq2iY8eOlCtXjtjYWExMTBgzZgzDhg2jYMGCnD17llu3btGzZ0+d9zEwMJDBgwfTs2dPAgICWLBgAfXr19c50svBwYH27dszefJknjx5QuXKlfHz88PT05NixYpRqlQpVCoVo0aNYuTIkUyaNIlWrVpx5cqVFP0IvXv3Zs+ePfTu3Zu+fftibW3NwYMH2b59u6ZPpXHjxlSvXp3x48fz9ddfU7JkSfbt28c///yTYrQUJAWJ+vXrM2nSJEJCQihatCgbNmwgNDRU0/9jZWXFwIEDWbp0KXny5KFp06Y8fvyYRYsWUa5cOTp16oSJiQmVKlXSpHF0dMTPz4/du3fTsmVLnfdV5HB67jgX/+fu7q64u7unuX/OnDmKg4OD4uXlpdm2adMmpU2bNkqlSpWUunXrKiNHjlSePHmi2R8cHKyMGzdOqV+/vlKpUiWlWbNmyooVK5TExERNmhMnTijt27dXKlWqpLRo0ULZu3ev0rdv3zRHNylK0mimatWqKbVq1VJiY2OVW7duKe7u7kq1atUUFxcX5YsvvlBOnjyptGrVSvHw8NAc9/DhQ2XQoEFKtWrVlHr16ileXl5Kly5dtM718uVLZc6cOUqDBg2USpUqKS1btlRWrVqlJCQkaNL4+fkpX331lVKnTh2lUqVKStu2bZWtW7fqvL9NmjRRRowYoUybNk2pVq2aUrduXWXWrFnKq1evNGnGjh2rGRH0X/Hx8crSpUuVpk2bKpUqVVIaNmyoTJ06VQkLC9NKd+DAAaVt27ZK5cqVlU6dOin79+/XGt2kKIri7++veHh4KM7OzkrVqlWV9u3bK97e3lr5REZGKlOnTlXq1KmjODk5KZ999pni4+OjdS2v37Nvv/1WqV27tlKtWjVlwoQJyowZM1Jcy+bNmzWfl3r16inTpk1TwsPDNfujoqKU7777TmncuLHmOufMmaN1j0TuIw8dErmCm5sbLi4uzJkzR99FEeKDIn0SQggh0iRBQgghRJqkuUkIIUSapCYhhBAiTRIkhBBCpEmChBBCiDRJkBBCCJEmCRJCCCHSJEFCCCFEmiRICCGESJMECSGEEGmSICGEECJN/wPTQaV/UyCQzwAAAABJRU5ErkJggg==",
      "text/plain": [
       "<Figure size 400x400 with 2 Axes>"
      ]
     },
     "metadata": {},
     "output_type": "display_data"
    },
    {
     "name": "stdout",
     "output_type": "stream",
     "text": [
      "El accuracy global del modelo es 0.5901964020465423.\n",
      "\n",
      "\n",
      "Estos son los scores para cada resultado\n"
     ]
    },
    {
     "data": {
      "text/html": [
       "<div>\n",
       "<style scoped>\n",
       "    .dataframe tbody tr th:only-of-type {\n",
       "        vertical-align: middle;\n",
       "    }\n",
       "\n",
       "    .dataframe tbody tr th {\n",
       "        vertical-align: top;\n",
       "    }\n",
       "\n",
       "    .dataframe thead th {\n",
       "        text-align: right;\n",
       "    }\n",
       "</style>\n",
       "<table border=\"1\" class=\"dataframe\">\n",
       "  <thead>\n",
       "    <tr style=\"text-align: right;\">\n",
       "      <th>Resultado</th>\n",
       "      <th>0</th>\n",
       "      <th>1</th>\n",
       "      <th>2</th>\n",
       "    </tr>\n",
       "  </thead>\n",
       "  <tbody>\n",
       "    <tr>\n",
       "      <th>sensibilidad</th>\n",
       "      <td>0.749</td>\n",
       "      <td>0.618</td>\n",
       "      <td>0.102</td>\n",
       "    </tr>\n",
       "    <tr>\n",
       "      <th>precisión</th>\n",
       "      <td>0.595</td>\n",
       "      <td>0.605</td>\n",
       "      <td>0.394</td>\n",
       "    </tr>\n",
       "    <tr>\n",
       "      <th>f1</th>\n",
       "      <td>0.663</td>\n",
       "      <td>0.611</td>\n",
       "      <td>0.162</td>\n",
       "    </tr>\n",
       "  </tbody>\n",
       "</table>\n",
       "</div>"
      ],
      "text/plain": [
       "Resultado         0      1      2\n",
       "sensibilidad  0.749  0.618  0.102\n",
       "precisión     0.595  0.605  0.394\n",
       "f1            0.663  0.611  0.162"
      ]
     },
     "metadata": {},
     "output_type": "display_data"
    },
    {
     "data": {
      "image/png": "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",
      "text/plain": [
       "<Figure size 635.125x500 with 1 Axes>"
      ]
     },
     "metadata": {},
     "output_type": "display_data"
    },
    {
     "name": "stdout",
     "output_type": "stream",
     "text": [
      "\n",
      "\n",
      "Estos son los errores de sensado (resultado mal identificado) y los errores de presición (resultado mal asignado):\n"
     ]
    },
    {
     "data": {
      "text/html": [
       "<div>\n",
       "<style scoped>\n",
       "    .dataframe tbody tr th:only-of-type {\n",
       "        vertical-align: middle;\n",
       "    }\n",
       "\n",
       "    .dataframe tbody tr th {\n",
       "        vertical-align: top;\n",
       "    }\n",
       "\n",
       "    .dataframe thead th {\n",
       "        text-align: right;\n",
       "    }\n",
       "</style>\n",
       "<table border=\"1\" class=\"dataframe\">\n",
       "  <thead>\n",
       "    <tr style=\"text-align: right;\">\n",
       "      <th>Resultado</th>\n",
       "      <th>0.0</th>\n",
       "      <th>1.0</th>\n",
       "      <th>2.0</th>\n",
       "      <th>Total</th>\n",
       "    </tr>\n",
       "  </thead>\n",
       "  <tbody>\n",
       "    <tr>\n",
       "      <th>Mal sensado</th>\n",
       "      <td>2042</td>\n",
       "      <td>2683</td>\n",
       "      <td>2724</td>\n",
       "      <td>7449</td>\n",
       "    </tr>\n",
       "    <tr>\n",
       "      <th>Mal predecido</th>\n",
       "      <td>4138</td>\n",
       "      <td>2836</td>\n",
       "      <td>475</td>\n",
       "      <td>7449</td>\n",
       "    </tr>\n",
       "  </tbody>\n",
       "</table>\n",
       "</div>"
      ],
      "text/plain": [
       "Resultado       0.0   1.0   2.0  Total\n",
       "Mal sensado    2042  2683  2724   7449\n",
       "Mal predecido  4138  2836   475   7449"
      ]
     },
     "metadata": {},
     "output_type": "display_data"
    },
    {
     "name": "stdout",
     "output_type": "stream",
     "text": [
      "\n",
      "\n",
      "Aquí se muestra la frecuencia de cada uno de los 7449 errores cometidos:\n"
     ]
    },
    {
     "data": {
      "text/html": [
       "<div>\n",
       "<style scoped>\n",
       "    .dataframe tbody tr th:only-of-type {\n",
       "        vertical-align: middle;\n",
       "    }\n",
       "\n",
       "    .dataframe tbody tr th {\n",
       "        vertical-align: top;\n",
       "    }\n",
       "\n",
       "    .dataframe thead th {\n",
       "        text-align: right;\n",
       "    }\n",
       "</style>\n",
       "<table border=\"1\" class=\"dataframe\">\n",
       "  <thead>\n",
       "    <tr style=\"text-align: right;\">\n",
       "      <th>frecuencia</th>\n",
       "      <th>2471</th>\n",
       "      <th>1779</th>\n",
       "      <th>1667</th>\n",
       "      <th>1057</th>\n",
       "      <th>263</th>\n",
       "      <th>212</th>\n",
       "    </tr>\n",
       "  </thead>\n",
       "  <tbody>\n",
       "    <tr>\n",
       "      <th>y_test</th>\n",
       "      <td>1.0</td>\n",
       "      <td>0.0</td>\n",
       "      <td>2.0</td>\n",
       "      <td>2.0</td>\n",
       "      <td>0.0</td>\n",
       "      <td>1.0</td>\n",
       "    </tr>\n",
       "    <tr>\n",
       "      <th>y_pred</th>\n",
       "      <td>0.0</td>\n",
       "      <td>1.0</td>\n",
       "      <td>0.0</td>\n",
       "      <td>1.0</td>\n",
       "      <td>2.0</td>\n",
       "      <td>2.0</td>\n",
       "    </tr>\n",
       "  </tbody>\n",
       "</table>\n",
       "</div>"
      ],
      "text/plain": [
       "frecuencia  2471  1779  1667  1057  263   212 \n",
       "y_test       1.0   0.0   2.0   2.0   0.0   1.0\n",
       "y_pred       0.0   1.0   0.0   1.0   2.0   2.0"
      ]
     },
     "metadata": {},
     "output_type": "display_data"
    },
    {
     "name": "stdout",
     "output_type": "stream",
     "text": [
      "\n",
      "\n",
      "Estos son los errores de recall:\n"
     ]
    },
    {
     "name": "stderr",
     "output_type": "stream",
     "text": [
      "C:\\Users\\fpeloso\\AppData\\Local\\Temp\\ipykernel_5152\\3503361926.py:63: SettingWithCopyWarning: \n",
      "A value is trying to be set on a copy of a slice from a DataFrame.\n",
      "Try using .loc[row_indexer,col_indexer] = value instead\n",
      "\n",
      "See the caveats in the documentation: https://pandas.pydata.org/pandas-docs/stable/user_guide/indexing.html#returning-a-view-versus-a-copy\n",
      "  X_test[\"Errores de Sensibilidad\"] = y_test\n",
      "C:\\Users\\fpeloso\\AppData\\Local\\Temp\\ipykernel_5152\\3503361926.py:64: SettingWithCopyWarning: \n",
      "A value is trying to be set on a copy of a slice from a DataFrame.\n",
      "Try using .loc[row_indexer,col_indexer] = value instead\n",
      "\n",
      "See the caveats in the documentation: https://pandas.pydata.org/pandas-docs/stable/user_guide/indexing.html#returning-a-view-versus-a-copy\n",
      "  X_test[\"Errores de Precisión\"] = y_pred\n"
     ]
    },
    {
     "data": {
      "image/png": "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",
      "text/plain": [
       "<Figure size 684.972x500 with 6 Axes>"
      ]
     },
     "metadata": {},
     "output_type": "display_data"
    },
    {
     "name": "stdout",
     "output_type": "stream",
     "text": [
      "\n",
      "\n",
      "Estos son los errores de precisión:\n"
     ]
    },
    {
     "data": {
      "image/png": "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",
      "text/plain": [
       "<Figure size 663.347x500 with 6 Axes>"
      ]
     },
     "metadata": {},
     "output_type": "display_data"
    }
   ],
   "source": [
    "GRAFICAS(X_test, y_test, ypred_lr_test)"
   ]
  },
  {
   "cell_type": "code",
   "execution_count": 51,
   "metadata": {},
   "outputs": [
    {
     "data": {
      "text/plain": [
       "array([[24233,  7284,   978],\n",
       "       [ 9889, 17346,   845],\n",
       "       [ 6561,  4452,  1117]], dtype=int64)"
      ]
     },
     "execution_count": 51,
     "metadata": {},
     "output_type": "execute_result"
    }
   ],
   "source": [
    "metrics.confusion_matrix(y_train, ypred_lr_train)"
   ]
  },
  {
   "cell_type": "code",
   "execution_count": 52,
   "metadata": {},
   "outputs": [
    {
     "data": {
      "text/plain": [
       "0.5872498452651125"
      ]
     },
     "execution_count": 52,
     "metadata": {},
     "output_type": "execute_result"
    }
   ],
   "source": [
    "metrics.accuracy_score(y_train,ypred_lr_train)"
   ]
  },
  {
   "cell_type": "code",
   "execution_count": 53,
   "metadata": {},
   "outputs": [
    {
     "data": {
      "text/plain": [
       "0.5901964020465423"
      ]
     },
     "execution_count": 53,
     "metadata": {},
     "output_type": "execute_result"
    }
   ],
   "source": [
    "metrics.accuracy_score(y_test,ypred_lr_test)"
   ]
  },
  {
   "cell_type": "code",
   "execution_count": 54,
   "metadata": {},
   "outputs": [
    {
     "data": {
      "text/plain": [
       "0.48944386080110247"
      ]
     },
     "execution_count": 54,
     "metadata": {},
     "output_type": "execute_result"
    }
   ],
   "source": [
    "metrics.recall_score(y_test, ypred_lr_test, average='macro')"
   ]
  },
  {
   "cell_type": "code",
   "execution_count": 55,
   "metadata": {},
   "outputs": [
    {
     "data": {
      "text/plain": [
       "0.531289584340255"
      ]
     },
     "execution_count": 55,
     "metadata": {},
     "output_type": "execute_result"
    }
   ],
   "source": [
    "metrics.precision_score(y_test, ypred_lr_test, average='macro')"
   ]
  },
  {
   "cell_type": "code",
   "execution_count": 56,
   "metadata": {},
   "outputs": [
    {
     "data": {
      "text/plain": [
       "0.4787195664129642"
      ]
     },
     "execution_count": 56,
     "metadata": {},
     "output_type": "execute_result"
    }
   ],
   "source": [
    "metrics.f1_score(y_test, ypred_lr_test, average='macro')"
   ]
  },
  {
   "cell_type": "code",
   "execution_count": 57,
   "metadata": {},
   "outputs": [
    {
     "data": {
      "text/plain": [
       "array([[6082, 1779,  263],\n",
       "       [2471, 4337,  212],\n",
       "       [1667, 1057,  309]], dtype=int64)"
      ]
     },
     "execution_count": 57,
     "metadata": {},
     "output_type": "execute_result"
    }
   ],
   "source": [
    "metrics.confusion_matrix(y_test, ypred_lr_test)"
   ]
  },
  {
   "attachments": {},
   "cell_type": "markdown",
   "metadata": {},
   "source": [
    "Naive Bayes"
   ]
  },
  {
   "cell_type": "code",
   "execution_count": 58,
   "metadata": {},
   "outputs": [],
   "source": [
    "from sklearn.naive_bayes import GaussianNB\n",
    "\n",
    "gnb = GaussianNB()\n",
    "\n",
    "gnb.fit(X_train, y_train)\n",
    "\n",
    "\n",
    "ypred_gnb_train = gnb.predict(X_train)\n",
    "\n",
    "\n",
    "ypred_gnb_test = gnb.predict(X_test)"
   ]
  },
  {
   "cell_type": "code",
   "execution_count": 87,
   "metadata": {},
   "outputs": [
    {
     "data": {
      "image/png": "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",
      "text/plain": [
       "<Figure size 400x400 with 2 Axes>"
      ]
     },
     "metadata": {},
     "output_type": "display_data"
    },
    {
     "name": "stdout",
     "output_type": "stream",
     "text": [
      "El accuracy global del modelo es 0.42482257798316553.\n",
      "\n",
      "\n",
      "Estos son los scores para cada resultado\n"
     ]
    },
    {
     "data": {
      "text/html": [
       "<div>\n",
       "<style scoped>\n",
       "    .dataframe tbody tr th:only-of-type {\n",
       "        vertical-align: middle;\n",
       "    }\n",
       "\n",
       "    .dataframe tbody tr th {\n",
       "        vertical-align: top;\n",
       "    }\n",
       "\n",
       "    .dataframe thead th {\n",
       "        text-align: right;\n",
       "    }\n",
       "</style>\n",
       "<table border=\"1\" class=\"dataframe\">\n",
       "  <thead>\n",
       "    <tr style=\"text-align: right;\">\n",
       "      <th>Resultado</th>\n",
       "      <th>0</th>\n",
       "      <th>1</th>\n",
       "      <th>2</th>\n",
       "    </tr>\n",
       "  </thead>\n",
       "  <tbody>\n",
       "    <tr>\n",
       "      <th>sensibilidad</th>\n",
       "      <td>0.146</td>\n",
       "      <td>0.792</td>\n",
       "      <td>0.322</td>\n",
       "    </tr>\n",
       "    <tr>\n",
       "      <th>precisión</th>\n",
       "      <td>0.602</td>\n",
       "      <td>0.430</td>\n",
       "      <td>0.298</td>\n",
       "    </tr>\n",
       "    <tr>\n",
       "      <th>f1</th>\n",
       "      <td>0.235</td>\n",
       "      <td>0.557</td>\n",
       "      <td>0.310</td>\n",
       "    </tr>\n",
       "  </tbody>\n",
       "</table>\n",
       "</div>"
      ],
      "text/plain": [
       "Resultado         0      1      2\n",
       "sensibilidad  0.146  0.792  0.322\n",
       "precisión     0.602  0.430  0.298\n",
       "f1            0.235  0.557  0.310"
      ]
     },
     "metadata": {},
     "output_type": "display_data"
    },
    {
     "data": {
      "image/png": "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",
      "text/plain": [
       "<Figure size 635.125x500 with 1 Axes>"
      ]
     },
     "metadata": {},
     "output_type": "display_data"
    },
    {
     "name": "stdout",
     "output_type": "stream",
     "text": [
      "\n",
      "\n",
      "Estos son los errores de sensado (resultado mal identificado) y los errores de presición (resultado mal asignado):\n"
     ]
    },
    {
     "data": {
      "text/html": [
       "<div>\n",
       "<style scoped>\n",
       "    .dataframe tbody tr th:only-of-type {\n",
       "        vertical-align: middle;\n",
       "    }\n",
       "\n",
       "    .dataframe tbody tr th {\n",
       "        vertical-align: top;\n",
       "    }\n",
       "\n",
       "    .dataframe thead th {\n",
       "        text-align: right;\n",
       "    }\n",
       "</style>\n",
       "<table border=\"1\" class=\"dataframe\">\n",
       "  <thead>\n",
       "    <tr style=\"text-align: right;\">\n",
       "      <th>Resultado</th>\n",
       "      <th>0.0</th>\n",
       "      <th>1.0</th>\n",
       "      <th>2.0</th>\n",
       "      <th>Total</th>\n",
       "    </tr>\n",
       "  </thead>\n",
       "  <tbody>\n",
       "    <tr>\n",
       "      <th>Mal sensado</th>\n",
       "      <td>6939</td>\n",
       "      <td>1461</td>\n",
       "      <td>2055</td>\n",
       "      <td>10455</td>\n",
       "    </tr>\n",
       "    <tr>\n",
       "      <th>Mal predecido</th>\n",
       "      <td>782</td>\n",
       "      <td>7372</td>\n",
       "      <td>2301</td>\n",
       "      <td>10455</td>\n",
       "    </tr>\n",
       "  </tbody>\n",
       "</table>\n",
       "</div>"
      ],
      "text/plain": [
       "Resultado       0.0   1.0   2.0  Total\n",
       "Mal sensado    6939  1461  2055  10455\n",
       "Mal predecido   782  7372  2301  10455"
      ]
     },
     "metadata": {},
     "output_type": "display_data"
    },
    {
     "ename": "IndexError",
     "evalue": "only integers, slices (`:`), ellipsis (`...`), numpy.newaxis (`None`) and integer or boolean arrays are valid indices",
     "output_type": "error",
     "traceback": [
      "\u001b[1;31m---------------------------------------------------------------------------\u001b[0m",
      "\u001b[1;31mIndexError\u001b[0m                                Traceback (most recent call last)",
      "\u001b[1;32mc:\\Users\\fpeloso\\Digital House\\TP 1 - Grupo 10\\Grupo 10\\DH-TP-1---Grupo-10\\TP FINAL\\Chess\\Main Borrador copy - Facu.ipynb Cell 105\u001b[0m in \u001b[0;36m<cell line: 1>\u001b[1;34m()\u001b[0m\n\u001b[1;32m----> <a href='vscode-notebook-cell:/c%3A/Users/fpeloso/Digital%20House/TP%201%20-%20Grupo%2010/Grupo%2010/DH-TP-1---Grupo-10/TP%20FINAL/Chess/Main%20Borrador%20copy%20-%20Facu.ipynb#Y246sZmlsZQ%3D%3D?line=0'>1</a>\u001b[0m GRAFICAS(X_test, y_test, ypred_gnb_test)\n",
      "\u001b[1;32mc:\\Users\\fpeloso\\Digital House\\TP 1 - Grupo 10\\Grupo 10\\DH-TP-1---Grupo-10\\TP FINAL\\Chess\\Main Borrador copy - Facu.ipynb Cell 105\u001b[0m in \u001b[0;36mGRAFICAS\u001b[1;34m(X_test, y_test, y_pred)\u001b[0m\n\u001b[0;32m     <a href='vscode-notebook-cell:/c%3A/Users/fpeloso/Digital%20House/TP%201%20-%20Grupo%2010/Grupo%2010/DH-TP-1---Grupo-10/TP%20FINAL/Chess/Main%20Borrador%20copy%20-%20Facu.ipynb#Y246sZmlsZQ%3D%3D?line=51'>52</a>\u001b[0m \u001b[39m# Un dataframe de errores:\u001b[39;00m\n\u001b[0;32m     <a href='vscode-notebook-cell:/c%3A/Users/fpeloso/Digital%20House/TP%201%20-%20Grupo%2010/Grupo%2010/DH-TP-1---Grupo-10/TP%20FINAL/Chess/Main%20Borrador%20copy%20-%20Facu.ipynb#Y246sZmlsZQ%3D%3D?line=52'>53</a>\u001b[0m errores \u001b[39m=\u001b[39m pd\u001b[39m.\u001b[39mDataFrame({\u001b[39m\"\u001b[39m\u001b[39my_test\u001b[39m\u001b[39m\"\u001b[39m:y_test[err], \u001b[39m\"\u001b[39m\u001b[39my_pred\u001b[39m\u001b[39m\"\u001b[39m:y_pred[err]})\n\u001b[1;32m---> <a href='vscode-notebook-cell:/c%3A/Users/fpeloso/Digital%20House/TP%201%20-%20Grupo%2010/Grupo%2010/DH-TP-1---Grupo-10/TP%20FINAL/Chess/Main%20Borrador%20copy%20-%20Facu.ipynb#Y246sZmlsZQ%3D%3D?line=53'>54</a>\u001b[0m errores[\u001b[39m\"\u001b[39m\u001b[39mfrecuencia\u001b[39m\u001b[39m\"\u001b[39m] \u001b[39m=\u001b[39m errores\u001b[39m.\u001b[39;49mapply(\u001b[39mlambda\u001b[39;49;00m x: c[x\u001b[39m.\u001b[39;49my_test,x\u001b[39m.\u001b[39;49my_pred] ,axis\u001b[39m=\u001b[39;49m\u001b[39m1\u001b[39;49m)\n\u001b[0;32m     <a href='vscode-notebook-cell:/c%3A/Users/fpeloso/Digital%20House/TP%201%20-%20Grupo%2010/Grupo%2010/DH-TP-1---Grupo-10/TP%20FINAL/Chess/Main%20Borrador%20copy%20-%20Facu.ipynb#Y246sZmlsZQ%3D%3D?line=54'>55</a>\u001b[0m errores \u001b[39m=\u001b[39m errores\u001b[39m.\u001b[39msort_values(by\u001b[39m=\u001b[39m[\u001b[39m\"\u001b[39m\u001b[39mfrecuencia\u001b[39m\u001b[39m\"\u001b[39m,\u001b[39m'\u001b[39m\u001b[39my_test\u001b[39m\u001b[39m'\u001b[39m, \u001b[39m'\u001b[39m\u001b[39my_pred\u001b[39m\u001b[39m'\u001b[39m],ascending\u001b[39m=\u001b[39m[\u001b[39mFalse\u001b[39;00m,\u001b[39mFalse\u001b[39;00m,\u001b[39mFalse\u001b[39;00m])\n\u001b[0;32m     <a href='vscode-notebook-cell:/c%3A/Users/fpeloso/Digital%20House/TP%201%20-%20Grupo%2010/Grupo%2010/DH-TP-1---Grupo-10/TP%20FINAL/Chess/Main%20Borrador%20copy%20-%20Facu.ipynb#Y246sZmlsZQ%3D%3D?line=56'>57</a>\u001b[0m \u001b[39mprint\u001b[39m(\u001b[39mf\u001b[39m\u001b[39m\"\u001b[39m\u001b[39m\\n\u001b[39;00m\u001b[39m\\n\u001b[39;00m\u001b[39mAquí se muestra la frecuencia de cada uno de los \u001b[39m\u001b[39m{\u001b[39;00merrores\u001b[39m.\u001b[39mshape[\u001b[39m0\u001b[39m]\u001b[39m}\u001b[39;00m\u001b[39m errores cometidos:\u001b[39m\u001b[39m\"\u001b[39m)\n",
      "File \u001b[1;32mc:\\Users\\fpeloso\\Anaconda3\\envs\\dhdsblend2021\\lib\\site-packages\\pandas\\core\\frame.py:7552\u001b[0m, in \u001b[0;36mDataFrame.apply\u001b[1;34m(self, func, axis, raw, result_type, args, **kwds)\u001b[0m\n\u001b[0;32m   7541\u001b[0m \u001b[39mfrom\u001b[39;00m \u001b[39mpandas\u001b[39;00m\u001b[39m.\u001b[39;00m\u001b[39mcore\u001b[39;00m\u001b[39m.\u001b[39;00m\u001b[39mapply\u001b[39;00m \u001b[39mimport\u001b[39;00m frame_apply\n\u001b[0;32m   7543\u001b[0m op \u001b[39m=\u001b[39m frame_apply(\n\u001b[0;32m   7544\u001b[0m     \u001b[39mself\u001b[39m,\n\u001b[0;32m   7545\u001b[0m     func\u001b[39m=\u001b[39mfunc,\n\u001b[1;32m   (...)\u001b[0m\n\u001b[0;32m   7550\u001b[0m     kwds\u001b[39m=\u001b[39mkwds,\n\u001b[0;32m   7551\u001b[0m )\n\u001b[1;32m-> 7552\u001b[0m \u001b[39mreturn\u001b[39;00m op\u001b[39m.\u001b[39;49mget_result()\n",
      "File \u001b[1;32mc:\\Users\\fpeloso\\Anaconda3\\envs\\dhdsblend2021\\lib\\site-packages\\pandas\\core\\apply.py:185\u001b[0m, in \u001b[0;36mFrameApply.get_result\u001b[1;34m(self)\u001b[0m\n\u001b[0;32m    182\u001b[0m \u001b[39melif\u001b[39;00m \u001b[39mself\u001b[39m\u001b[39m.\u001b[39mraw:\n\u001b[0;32m    183\u001b[0m     \u001b[39mreturn\u001b[39;00m \u001b[39mself\u001b[39m\u001b[39m.\u001b[39mapply_raw()\n\u001b[1;32m--> 185\u001b[0m \u001b[39mreturn\u001b[39;00m \u001b[39mself\u001b[39;49m\u001b[39m.\u001b[39;49mapply_standard()\n",
      "File \u001b[1;32mc:\\Users\\fpeloso\\Anaconda3\\envs\\dhdsblend2021\\lib\\site-packages\\pandas\\core\\apply.py:276\u001b[0m, in \u001b[0;36mFrameApply.apply_standard\u001b[1;34m(self)\u001b[0m\n\u001b[0;32m    275\u001b[0m \u001b[39mdef\u001b[39;00m \u001b[39mapply_standard\u001b[39m(\u001b[39mself\u001b[39m):\n\u001b[1;32m--> 276\u001b[0m     results, res_index \u001b[39m=\u001b[39m \u001b[39mself\u001b[39;49m\u001b[39m.\u001b[39;49mapply_series_generator()\n\u001b[0;32m    278\u001b[0m     \u001b[39m# wrap results\u001b[39;00m\n\u001b[0;32m    279\u001b[0m     \u001b[39mreturn\u001b[39;00m \u001b[39mself\u001b[39m\u001b[39m.\u001b[39mwrap_results(results, res_index)\n",
      "File \u001b[1;32mc:\\Users\\fpeloso\\Anaconda3\\envs\\dhdsblend2021\\lib\\site-packages\\pandas\\core\\apply.py:305\u001b[0m, in \u001b[0;36mFrameApply.apply_series_generator\u001b[1;34m(self)\u001b[0m\n\u001b[0;32m    302\u001b[0m \u001b[39mwith\u001b[39;00m option_context(\u001b[39m\"\u001b[39m\u001b[39mmode.chained_assignment\u001b[39m\u001b[39m\"\u001b[39m, \u001b[39mNone\u001b[39;00m):\n\u001b[0;32m    303\u001b[0m     \u001b[39mfor\u001b[39;00m i, v \u001b[39min\u001b[39;00m \u001b[39menumerate\u001b[39m(series_gen):\n\u001b[0;32m    304\u001b[0m         \u001b[39m# ignore SettingWithCopy here in case the user mutates\u001b[39;00m\n\u001b[1;32m--> 305\u001b[0m         results[i] \u001b[39m=\u001b[39m \u001b[39mself\u001b[39;49m\u001b[39m.\u001b[39;49mf(v)\n\u001b[0;32m    306\u001b[0m         \u001b[39mif\u001b[39;00m \u001b[39misinstance\u001b[39m(results[i], ABCSeries):\n\u001b[0;32m    307\u001b[0m             \u001b[39m# If we have a view on v, we need to make a copy because\u001b[39;00m\n\u001b[0;32m    308\u001b[0m             \u001b[39m#  series_generator will swap out the underlying data\u001b[39;00m\n\u001b[0;32m    309\u001b[0m             results[i] \u001b[39m=\u001b[39m results[i]\u001b[39m.\u001b[39mcopy(deep\u001b[39m=\u001b[39m\u001b[39mFalse\u001b[39;00m)\n",
      "\u001b[1;32mc:\\Users\\fpeloso\\Digital House\\TP 1 - Grupo 10\\Grupo 10\\DH-TP-1---Grupo-10\\TP FINAL\\Chess\\Main Borrador copy - Facu.ipynb Cell 105\u001b[0m in \u001b[0;36mGRAFICAS.<locals>.<lambda>\u001b[1;34m(x)\u001b[0m\n\u001b[0;32m     <a href='vscode-notebook-cell:/c%3A/Users/fpeloso/Digital%20House/TP%201%20-%20Grupo%2010/Grupo%2010/DH-TP-1---Grupo-10/TP%20FINAL/Chess/Main%20Borrador%20copy%20-%20Facu.ipynb#Y246sZmlsZQ%3D%3D?line=51'>52</a>\u001b[0m \u001b[39m# Un dataframe de errores:\u001b[39;00m\n\u001b[0;32m     <a href='vscode-notebook-cell:/c%3A/Users/fpeloso/Digital%20House/TP%201%20-%20Grupo%2010/Grupo%2010/DH-TP-1---Grupo-10/TP%20FINAL/Chess/Main%20Borrador%20copy%20-%20Facu.ipynb#Y246sZmlsZQ%3D%3D?line=52'>53</a>\u001b[0m errores \u001b[39m=\u001b[39m pd\u001b[39m.\u001b[39mDataFrame({\u001b[39m\"\u001b[39m\u001b[39my_test\u001b[39m\u001b[39m\"\u001b[39m:y_test[err], \u001b[39m\"\u001b[39m\u001b[39my_pred\u001b[39m\u001b[39m\"\u001b[39m:y_pred[err]})\n\u001b[1;32m---> <a href='vscode-notebook-cell:/c%3A/Users/fpeloso/Digital%20House/TP%201%20-%20Grupo%2010/Grupo%2010/DH-TP-1---Grupo-10/TP%20FINAL/Chess/Main%20Borrador%20copy%20-%20Facu.ipynb#Y246sZmlsZQ%3D%3D?line=53'>54</a>\u001b[0m errores[\u001b[39m\"\u001b[39m\u001b[39mfrecuencia\u001b[39m\u001b[39m\"\u001b[39m] \u001b[39m=\u001b[39m errores\u001b[39m.\u001b[39mapply(\u001b[39mlambda\u001b[39;00m x: c[x\u001b[39m.\u001b[39;49my_test,x\u001b[39m.\u001b[39;49my_pred] ,axis\u001b[39m=\u001b[39m\u001b[39m1\u001b[39m)\n\u001b[0;32m     <a href='vscode-notebook-cell:/c%3A/Users/fpeloso/Digital%20House/TP%201%20-%20Grupo%2010/Grupo%2010/DH-TP-1---Grupo-10/TP%20FINAL/Chess/Main%20Borrador%20copy%20-%20Facu.ipynb#Y246sZmlsZQ%3D%3D?line=54'>55</a>\u001b[0m errores \u001b[39m=\u001b[39m errores\u001b[39m.\u001b[39msort_values(by\u001b[39m=\u001b[39m[\u001b[39m\"\u001b[39m\u001b[39mfrecuencia\u001b[39m\u001b[39m\"\u001b[39m,\u001b[39m'\u001b[39m\u001b[39my_test\u001b[39m\u001b[39m'\u001b[39m, \u001b[39m'\u001b[39m\u001b[39my_pred\u001b[39m\u001b[39m'\u001b[39m],ascending\u001b[39m=\u001b[39m[\u001b[39mFalse\u001b[39;00m,\u001b[39mFalse\u001b[39;00m,\u001b[39mFalse\u001b[39;00m])\n\u001b[0;32m     <a href='vscode-notebook-cell:/c%3A/Users/fpeloso/Digital%20House/TP%201%20-%20Grupo%2010/Grupo%2010/DH-TP-1---Grupo-10/TP%20FINAL/Chess/Main%20Borrador%20copy%20-%20Facu.ipynb#Y246sZmlsZQ%3D%3D?line=56'>57</a>\u001b[0m \u001b[39mprint\u001b[39m(\u001b[39mf\u001b[39m\u001b[39m\"\u001b[39m\u001b[39m\\n\u001b[39;00m\u001b[39m\\n\u001b[39;00m\u001b[39mAquí se muestra la frecuencia de cada uno de los \u001b[39m\u001b[39m{\u001b[39;00merrores\u001b[39m.\u001b[39mshape[\u001b[39m0\u001b[39m]\u001b[39m}\u001b[39;00m\u001b[39m errores cometidos:\u001b[39m\u001b[39m\"\u001b[39m)\n",
      "\u001b[1;31mIndexError\u001b[0m: only integers, slices (`:`), ellipsis (`...`), numpy.newaxis (`None`) and integer or boolean arrays are valid indices"
     ]
    }
   ],
   "source": [
    "GRAFICAS(X_test, y_test, ypred_gnb_test)"
   ]
  },
  {
   "cell_type": "code",
   "execution_count": 59,
   "metadata": {},
   "outputs": [
    {
     "data": {
      "text/plain": [
       "array([[ 4966, 22318,  5211],\n",
       "       [ 1842, 22153,  4085],\n",
       "       [ 1206,  6898,  4026]], dtype=int64)"
      ]
     },
     "execution_count": 59,
     "metadata": {},
     "output_type": "execute_result"
    }
   ],
   "source": [
    "metrics.confusion_matrix(y_train, ypred_gnb_train)"
   ]
  },
  {
   "cell_type": "code",
   "execution_count": 60,
   "metadata": {},
   "outputs": [
    {
     "data": {
      "text/plain": [
       "array([[1185, 5611, 1328],\n",
       "       [ 488, 5559,  973],\n",
       "       [ 294, 1761,  978]], dtype=int64)"
      ]
     },
     "execution_count": 60,
     "metadata": {},
     "output_type": "execute_result"
    }
   ],
   "source": [
    "metrics.confusion_matrix(y_test, ypred_gnb_test)"
   ]
  },
  {
   "cell_type": "code",
   "execution_count": 61,
   "metadata": {},
   "outputs": [
    {
     "name": "stdout",
     "output_type": "stream",
     "text": [
      "acuracy 0.42482257798316553\n",
      "recall 0.42006582168230916\n",
      "precision 0.44353302529872485\n",
      "f1 0.36733799350938057\n"
     ]
    }
   ],
   "source": [
    "print('acuracy', metrics.accuracy_score(y_test,ypred_gnb_test))\n",
    "print('recall',metrics.recall_score(y_test, ypred_gnb_test, average='macro'))\n",
    "print('precision',metrics.precision_score(y_test, ypred_gnb_test, average='macro'))\n",
    "print('f1',metrics.f1_score(y_test, ypred_gnb_test, average='macro'))"
   ]
  },
  {
   "attachments": {},
   "cell_type": "markdown",
   "metadata": {},
   "source": [
    "### Knn"
   ]
  },
  {
   "cell_type": "code",
   "execution_count": 62,
   "metadata": {},
   "outputs": [
    {
     "name": "stdout",
     "output_type": "stream",
     "text": [
      "Fitting 3 folds for each of 14 candidates, totalling 42 fits\n"
     ]
    },
    {
     "name": "stderr",
     "output_type": "stream",
     "text": [
      "[Parallel(n_jobs=-1)]: Using backend LokyBackend with 4 concurrent workers.\n",
      "[Parallel(n_jobs=-1)]: Done  42 out of  42 | elapsed:  5.2min finished\n"
     ]
    },
    {
     "data": {
      "text/plain": [
       "GridSearchCV(cv=3, estimator=KNeighborsClassifier(), n_jobs=-1,\n",
       "             param_grid={'n_neighbors': [1, 2, 3, 4, 5, 6, 7, 8, 9, 10, 11, 12,\n",
       "                                         13, 14]},\n",
       "             verbose=1)"
      ]
     },
     "execution_count": 62,
     "metadata": {},
     "output_type": "execute_result"
    }
   ],
   "source": [
    "from sklearn.neighbors import KNeighborsClassifier\n",
    "\n",
    "knn = KNeighborsClassifier()\n",
    "\n",
    "# Hyperparametros\n",
    "parameters_knn = {\"n_neighbors\" : list(range(1, 15))}\n",
    "\n",
    "clf_knn = GridSearchCV(knn, \n",
    "                   param_grid = parameters_knn, \n",
    "                   refit = True, \n",
    "                   cv = 3,\n",
    "                   verbose=1,\n",
    "                   n_jobs = -1)\n",
    "                   \n",
    "\n",
    "# Fit el modelo ya seleccionado\n",
    "clf_knn.fit(X_train, y_train)"
   ]
  },
  {
   "cell_type": "code",
   "execution_count": 63,
   "metadata": {},
   "outputs": [
    {
     "name": "stdout",
     "output_type": "stream",
     "text": [
      "Los mejores parametros fueron {'n_neighbors': 14} con un score de 0.57\n"
     ]
    }
   ],
   "source": [
    "print(\"Los mejores parametros fueron %s con un score de %0.2f\" % (clf_knn.best_params_, clf_knn.best_score_))"
   ]
  },
  {
   "cell_type": "code",
   "execution_count": 64,
   "metadata": {},
   "outputs": [],
   "source": [
    "ypred_knn_train = clf_knn.predict(X_train)\n",
    "ypred_knn_test = clf_knn.predict(X_test)"
   ]
  },
  {
   "cell_type": "code",
   "execution_count": 65,
   "metadata": {},
   "outputs": [
    {
     "name": "stdout",
     "output_type": "stream",
     "text": [
      "acuracy 0.5733619409143423\n",
      "recall 0.48114611039768135\n",
      "precision 0.5168117211065445\n",
      "f1 0.47521457273310563\n"
     ]
    }
   ],
   "source": [
    "print('acuracy', metrics.accuracy_score(y_test,ypred_knn_test))\n",
    "print('recall',metrics.recall_score(y_test, ypred_knn_test, average='macro'))\n",
    "print('precision',metrics.precision_score(y_test, ypred_knn_test, average='macro'))\n",
    "print('f1',metrics.f1_score(y_test, ypred_knn_test, average='macro'))"
   ]
  },
  {
   "cell_type": "code",
   "execution_count": 66,
   "metadata": {},
   "outputs": [
    {
     "name": "stdout",
     "output_type": "stream",
     "text": [
      "resultados de train\n",
      "0.5873186163262499\n",
      "[[24009  8235   251]\n",
      " [ 9966 17888   226]\n",
      " [ 6815  4511   804]]\n",
      "resultados de test\n",
      "0.5857952357374704\n",
      "[[5994 2073   57]\n",
      " [2499 4457   64]\n",
      " [1735 1101  197]]\n"
     ]
    }
   ],
   "source": [
    "tree_model = tree.DecisionTreeClassifier(min_samples_leaf=20, max_depth=6, random_state=50)\n",
    "tree_model.fit(X_train, y_train)\n",
    "\n",
    "y_train_tree_predict = tree_model.predict(X_train)\n",
    "y_test_tree_predict = tree_model.predict(X_test)\n",
    "\n",
    "print('resultados de train')\n",
    "print(accuracy_score(y_train, y_train_tree_predict))\n",
    "print(confusion_matrix(y_train, y_train_tree_predict))\n",
    "\n",
    "print('resultados de test')\n",
    "print(accuracy_score(y_test, y_test_tree_predict))\n",
    "print(confusion_matrix(y_test, y_test_tree_predict))"
   ]
  },
  {
   "cell_type": "code",
   "execution_count": 67,
   "metadata": {},
   "outputs": [
    {
     "name": "stdout",
     "output_type": "stream",
     "text": [
      "0.9993948146619902\n",
      "[[32479    11     5]\n",
      " [   11 28066     3]\n",
      " [    9     5 12116]]\n",
      "0.5718215327061671\n",
      "[[5481 2118  525]\n",
      " [2312 4224  484]\n",
      " [1327 1017  689]]\n"
     ]
    }
   ],
   "source": [
    "from sklearn.ensemble import BaggingClassifier\n",
    "\n",
    "bagging_tree = tree.DecisionTreeClassifier()\n",
    "bagging_clf = BaggingClassifier(base_estimator=bagging_tree, n_estimators=100,\n",
    "                                bootstrap=True, n_jobs=1, random_state=50)\n",
    "bagging_clf.fit(X_train, y_train)\n",
    "\n",
    "print(accuracy_score(y_train, bagging_clf.predict(X_train)))\n",
    "print(confusion_matrix(y_train, bagging_clf.predict(X_train)))\n",
    "\n",
    "print(accuracy_score(y_test, bagging_clf.predict(X_test)))\n",
    "print(confusion_matrix(y_test, bagging_clf.predict(X_test)))"
   ]
  },
  {
   "cell_type": "code",
   "execution_count": 68,
   "metadata": {},
   "outputs": [],
   "source": [
    "from xgboost.sklearn import XGBClassifier\n",
    "model_xg = XGBClassifier(n_jobs=-1, use_label_encoder=False)"
   ]
  },
  {
   "cell_type": "code",
   "execution_count": 69,
   "metadata": {},
   "outputs": [],
   "source": [
    "from sklearn.model_selection import GridSearchCV\n",
    "params = {  \n",
    "    \"n_estimators\": [20,50,500],      # Number of boosted trees to fit.\n",
    "    \"max_depth\": [1,2,3,4],            # Maximum tree depth for base learners.\n",
    "    \"learning_rate\": [0.01, 0.1],      # Boosting learning rate (xgb’s “eta”)\n",
    "}"
   ]
  },
  {
   "cell_type": "code",
   "execution_count": 70,
   "metadata": {},
   "outputs": [],
   "source": [
    "from sklearn.model_selection import cross_val_score, StratifiedKFold\n",
    "cv = StratifiedKFold(n_splits=5, random_state=41, shuffle=True)"
   ]
  },
  {
   "cell_type": "code",
   "execution_count": 71,
   "metadata": {},
   "outputs": [],
   "source": [
    "xgb = GridSearchCV(model_xg, param_grid=params, cv=cv, verbose=1, n_jobs=-1)"
   ]
  },
  {
   "cell_type": "code",
   "execution_count": 72,
   "metadata": {},
   "outputs": [
    {
     "name": "stdout",
     "output_type": "stream",
     "text": [
      "Fitting 5 folds for each of 24 candidates, totalling 120 fits\n"
     ]
    },
    {
     "name": "stderr",
     "output_type": "stream",
     "text": [
      "[Parallel(n_jobs=-1)]: Using backend LokyBackend with 4 concurrent workers.\n",
      "[Parallel(n_jobs=-1)]: Done  42 tasks      | elapsed: 48.8min\n",
      "[Parallel(n_jobs=-1)]: Done 120 out of 120 | elapsed: 162.3min finished\n"
     ]
    },
    {
     "name": "stdout",
     "output_type": "stream",
     "text": [
      "[10:06:22] WARNING: ..\\src\\learner.cc:1095: Starting in XGBoost 1.3.0, the default evaluation metric used with the objective 'multi:softprob' was changed from 'merror' to 'mlogloss'. Explicitly set eval_metric if you'd like to restore the old behavior.\n"
     ]
    },
    {
     "data": {
      "text/plain": [
       "GridSearchCV(cv=StratifiedKFold(n_splits=5, random_state=41, shuffle=True),\n",
       "             estimator=XGBClassifier(base_score=None, booster=None,\n",
       "                                     colsample_bylevel=None,\n",
       "                                     colsample_bynode=None,\n",
       "                                     colsample_bytree=None, gamma=None,\n",
       "                                     gpu_id=None, importance_type='gain',\n",
       "                                     interaction_constraints=None,\n",
       "                                     learning_rate=None, max_delta_step=None,\n",
       "                                     max_depth=None, min_child_weight=None,\n",
       "                                     missin...otone_constraints=None,\n",
       "                                     n_estimators=100, n_jobs=-1,\n",
       "                                     num_parallel_tree=None, random_state=None,\n",
       "                                     reg_alpha=None, reg_lambda=None,\n",
       "                                     scale_pos_weight=None, subsample=None,\n",
       "                                     tree_method=None, use_label_encoder=False,\n",
       "                                     validate_parameters=None, verbosity=None),\n",
       "             n_jobs=-1,\n",
       "             param_grid={'learning_rate': [0.01, 0.1],\n",
       "                         'max_depth': [1, 2, 3, 4],\n",
       "                         'n_estimators': [20, 50, 500]},\n",
       "             verbose=1)"
      ]
     },
     "execution_count": 72,
     "metadata": {},
     "output_type": "execute_result"
    }
   ],
   "source": [
    "xgb.fit(X_train,y_train)"
   ]
  },
  {
   "cell_type": "code",
   "execution_count": 73,
   "metadata": {},
   "outputs": [
    {
     "data": {
      "text/plain": [
       "{'learning_rate': 0.1, 'max_depth': 2, 'n_estimators': 500}"
      ]
     },
     "execution_count": 73,
     "metadata": {},
     "output_type": "execute_result"
    }
   ],
   "source": [
    "xgb.best_params_"
   ]
  },
  {
   "cell_type": "code",
   "execution_count": 74,
   "metadata": {},
   "outputs": [],
   "source": [
    "def evaluar_rendimiento(modelo, nombre, X, y, cv):\n",
    "    s = cross_val_score(modelo, X, y, cv=cv, n_jobs=-1)\n",
    "    print(\"Rendimiento de {}:\\t{:0.3} ± {:0.3}\".format( \\\n",
    "        nombre, s.mean().round(3), s.std().round(3)))"
   ]
  },
  {
   "cell_type": "code",
   "execution_count": 75,
   "metadata": {},
   "outputs": [
    {
     "name": "stdout",
     "output_type": "stream",
     "text": [
      "Rendimiento de XG Boost:\t0.6 ± 0.003\n"
     ]
    }
   ],
   "source": [
    "evaluar_rendimiento(xgb.best_estimator_,\"XG Boost\", X_train, y_train, cv)"
   ]
  },
  {
   "cell_type": "code",
   "execution_count": 76,
   "metadata": {},
   "outputs": [],
   "source": [
    "import warnings\n",
    "warnings.filterwarnings(action='ignore', category=UserWarning)"
   ]
  },
  {
   "cell_type": "code",
   "execution_count": 77,
   "metadata": {},
   "outputs": [
    {
     "name": "stdout",
     "output_type": "stream",
     "text": [
      "0.6018594927655829\n",
      "[[5929 1910  285]\n",
      " [2286 4482  252]\n",
      " [1446 1058  529]]\n"
     ]
    }
   ],
   "source": [
    "print(accuracy_score(y_test, xgb.best_estimator_.predict(X_test)))\n",
    "print(confusion_matrix(y_test, xgb.best_estimator_.predict(X_test)))"
   ]
  },
  {
   "attachments": {},
   "cell_type": "markdown",
   "metadata": {},
   "source": [
    "# 6. Almacenamos modelos entrenados en Shelve"
   ]
  },
  {
   "cell_type": "code",
   "execution_count": 79,
   "metadata": {},
   "outputs": [],
   "source": [
    "models = shelve.open('modelos.db')\n",
    "\n",
    "models['reg_log']=lr\n",
    "models['gaussian']=gnb\n",
    "models['knn']=clf_knn\n",
    "models['arbol']=tree_model\n",
    "models['bagging_arbol']=bagging_clf\n",
    "models['xgboosted']=xgb\n",
    "\n",
    "\n",
    "models.close()"
   ]
  }
 ],
 "metadata": {
  "kernelspec": {
   "display_name": "dhdsblend2021",
   "language": "python",
   "name": "python3"
  },
  "language_info": {
   "codemirror_mode": {
    "name": "ipython",
    "version": 3
   },
   "file_extension": ".py",
   "mimetype": "text/x-python",
   "name": "python",
   "nbconvert_exporter": "python",
   "pygments_lexer": "ipython3",
   "version": "3.8.13"
  },
  "orig_nbformat": 4,
  "vscode": {
   "interpreter": {
    "hash": "b43af2114f43bcf982d0b53b081e4c6c708721cc588721c6f40c2d9852c4cd7b"
   }
  }
 },
 "nbformat": 4,
 "nbformat_minor": 2
}
