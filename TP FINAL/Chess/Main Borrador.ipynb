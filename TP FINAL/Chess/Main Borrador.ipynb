{
 "cells": [
  {
   "attachments": {},
   "cell_type": "markdown",
   "metadata": {},
   "source": [
    "# Trabajo Práctico Final\n",
    "\n",
    "# Grupo 10\n",
    "### Integrantes:\n",
    "- Facundo Peloso\n",
    "- Eduardo Barbas\n",
    "- Roberto Biancardi \n",
    "- Juan Pablo Anselmo\n",
    "-Matias \n",
    "\n",
    "El objetivo de este trabajo práctico es implementar modelos de regresión categórica que nos permita resolver problemas de clasificación.\n",
    "\n",
    "Para ello utilizaremos un dataset \"propio\", es decir, fue seleccionado por los integrantes de nuestro grupo.\n",
    "\n",
    "El dataset seleccionado fue un registro de las partidas de ajedrez jugadas en el sitio Chess.com\n",
    "\n",
    "Estos datos describen características de los juegos como: \n",
    "\n",
    "La variable target elegida es la de **Inserte Target**.\n",
    "\n"
   ]
  },
  {
   "attachments": {},
   "cell_type": "markdown",
   "metadata": {},
   "source": [
    "## 0. Importación de Módulos y Librerías"
   ]
  },
  {
   "cell_type": "code",
   "execution_count": 1,
   "metadata": {},
   "outputs": [],
   "source": [
    "#Importacion de librerias/módulos\n",
    "import numpy as np\n",
    "import pandas as pd\n",
    "import matplotlib.pyplot as plt\n",
    "import seaborn as sns\n",
    "sns.set(style=\"darkgrid\")\n",
    "\n",
    "from sklearn.model_selection import train_test_split\n",
    "from sklearn.model_selection import GridSearchCV\n",
    "from sklearn import metrics\n",
    "pd.set_option(\"display.max_columns\", None)\n",
    "\n"
   ]
  },
  {
   "cell_type": "code",
   "execution_count": 2,
   "metadata": {},
   "outputs": [],
   "source": [
    "import pandas as pd\n",
    "import numpy as np\n",
    "import seaborn as sns\n",
    "\n",
    "\n",
    "from sklearn import linear_model\n",
    "from sklearn import metrics\n",
    "from sklearn import tree\n",
    "import matplotlib.pyplot as plt\n",
    "%matplotlib inline\n",
    "\n",
    "from sklearn.model_selection import train_test_split\n",
    "from sklearn.model_selection import GridSearchCV\n",
    "from sklearn.model_selection import StratifiedKFold\n",
    "from sklearn.model_selection import KFold\n",
    "from sklearn.model_selection import cross_val_score\n",
    "\n",
    "from sklearn.preprocessing import StandardScaler\n",
    "\n",
    "from sklearn.linear_model import LinearRegression\n",
    "\n",
    "from sklearn.naive_bayes import GaussianNB\n",
    "\n",
    "from sklearn.metrics import accuracy_score\n",
    "from sklearn.metrics import confusion_matrix\n",
    "from sklearn.metrics import mean_squared_error\n",
    "\n",
    "from sklearn.neighbors import KNeighborsClassifier\n",
    "\n",
    "import statsmodels.api as sm\n",
    "from statsmodels.tools import eval_measures\n",
    "\n",
    "from sklearn.ensemble import RandomForestRegressor\n",
    "from sklearn.ensemble import ExtraTreesRegressor"
   ]
  },
  {
   "attachments": {},
   "cell_type": "markdown",
   "metadata": {},
   "source": [
    "## 1. Lectura de Datos"
   ]
  },
  {
   "cell_type": "code",
   "execution_count": 3,
   "metadata": {},
   "outputs": [
    {
     "name": "stderr",
     "output_type": "stream",
     "text": [
      "c:\\Users\\fpeloso\\Anaconda3\\envs\\dhdsblend2021\\lib\\site-packages\\IPython\\core\\interactiveshell.py:3135: DtypeWarning: Columns (10,13,14,23,25) have mixed types.Specify dtype option on import or set low_memory=False.\n",
      "  has_raised = await self.run_ast_nodes(code_ast.body, cell_name,\n",
      "c:\\Users\\fpeloso\\Anaconda3\\envs\\dhdsblend2021\\lib\\site-packages\\numpy\\lib\\arraysetops.py:580: FutureWarning: elementwise comparison failed; returning scalar instead, but in the future will perform elementwise comparison\n",
      "  mask |= (ar1 == a)\n"
     ]
    }
   ],
   "source": [
    "#Establezco la dirección del archivo\n",
    "file_location=\"twic_master.csv\"\n",
    "\n",
    "#Leo el data set usando la librería pandas\n",
    "# y se almacena en el objeto Dataframe llamado datos_crudos  \n",
    "datos_crudos=pd.read_csv(file_location, index_col=0)"
   ]
  },
  {
   "cell_type": "code",
   "execution_count": 4,
   "metadata": {},
   "outputs": [
    {
     "data": {
      "text/html": [
       "<div>\n",
       "<style scoped>\n",
       "    .dataframe tbody tr th:only-of-type {\n",
       "        vertical-align: middle;\n",
       "    }\n",
       "\n",
       "    .dataframe tbody tr th {\n",
       "        vertical-align: top;\n",
       "    }\n",
       "\n",
       "    .dataframe thead th {\n",
       "        text-align: right;\n",
       "    }\n",
       "</style>\n",
       "<table border=\"1\" class=\"dataframe\">\n",
       "  <thead>\n",
       "    <tr style=\"text-align: right;\">\n",
       "      <th></th>\n",
       "      <th>White</th>\n",
       "      <th>Black</th>\n",
       "      <th>Date</th>\n",
       "      <th>EventDate</th>\n",
       "      <th>Event</th>\n",
       "      <th>Result</th>\n",
       "      <th>mainline_moves</th>\n",
       "      <th>Site</th>\n",
       "      <th>Online</th>\n",
       "      <th>Round</th>\n",
       "      <th>ECO</th>\n",
       "      <th>Opening</th>\n",
       "      <th>WhiteFideId</th>\n",
       "      <th>BlackFideId</th>\n",
       "      <th>WhiteElo</th>\n",
       "      <th>BlackElo</th>\n",
       "      <th>Variation</th>\n",
       "      <th>WhiteTitle</th>\n",
       "      <th>BlackTitle</th>\n",
       "      <th>WhiteTeam</th>\n",
       "      <th>BlackTeam</th>\n",
       "      <th>EventType</th>\n",
       "      <th>FEN</th>\n",
       "      <th>SetUp</th>\n",
       "      <th>Variant</th>\n",
       "      <th>Board</th>\n",
       "      <th>PlyCount</th>\n",
       "      <th>EventCategory</th>\n",
       "    </tr>\n",
       "    <tr>\n",
       "      <th>twic_number</th>\n",
       "      <th></th>\n",
       "      <th></th>\n",
       "      <th></th>\n",
       "      <th></th>\n",
       "      <th></th>\n",
       "      <th></th>\n",
       "      <th></th>\n",
       "      <th></th>\n",
       "      <th></th>\n",
       "      <th></th>\n",
       "      <th></th>\n",
       "      <th></th>\n",
       "      <th></th>\n",
       "      <th></th>\n",
       "      <th></th>\n",
       "      <th></th>\n",
       "      <th></th>\n",
       "      <th></th>\n",
       "      <th></th>\n",
       "      <th></th>\n",
       "      <th></th>\n",
       "      <th></th>\n",
       "      <th></th>\n",
       "      <th></th>\n",
       "      <th></th>\n",
       "      <th></th>\n",
       "      <th></th>\n",
       "      <th></th>\n",
       "    </tr>\n",
       "  </thead>\n",
       "  <tbody>\n",
       "    <tr>\n",
       "      <th>1260</th>\n",
       "      <td>Tukhaev,A</td>\n",
       "      <td>Carlsen,M</td>\n",
       "      <td>2018-12-26</td>\n",
       "      <td>2018.12.26</td>\n",
       "      <td>World Rapid 2018</td>\n",
       "      <td>1-0</td>\n",
       "      <td>1. e4 c5 2. Nf3 Nc6 3. d4 cxd4 4. Nxd4 Nf6 5. ...</td>\n",
       "      <td>St Petersburg RUS</td>\n",
       "      <td>False</td>\n",
       "      <td>1.1</td>\n",
       "      <td>B33</td>\n",
       "      <td>Sicilian</td>\n",
       "      <td>1.41095e+07</td>\n",
       "      <td>1.50301e+06</td>\n",
       "      <td>2527.0</td>\n",
       "      <td>2835.0</td>\n",
       "      <td>Pelikan, Chelyabinsk variation</td>\n",
       "      <td>GM</td>\n",
       "      <td>GM</td>\n",
       "      <td>NaN</td>\n",
       "      <td>NaN</td>\n",
       "      <td>NaN</td>\n",
       "      <td>NaN</td>\n",
       "      <td>NaN</td>\n",
       "      <td>NaN</td>\n",
       "      <td>NaN</td>\n",
       "      <td>NaN</td>\n",
       "      <td>NaN</td>\n",
       "    </tr>\n",
       "    <tr>\n",
       "      <th>1260</th>\n",
       "      <td>Nakamura,Hi</td>\n",
       "      <td>Teske,H</td>\n",
       "      <td>2018-12-26</td>\n",
       "      <td>2018.12.26</td>\n",
       "      <td>World Rapid 2018</td>\n",
       "      <td>1-0</td>\n",
       "      <td>1. Nf3 Nf6 2. g3 d5 3. Bg2 g6 4. c4 dxc4 5. Na...</td>\n",
       "      <td>St Petersburg RUS</td>\n",
       "      <td>False</td>\n",
       "      <td>1.2</td>\n",
       "      <td>A05</td>\n",
       "      <td>Reti opening</td>\n",
       "      <td>2.01619e+06</td>\n",
       "      <td>4.6115e+06</td>\n",
       "      <td>2746.0</td>\n",
       "      <td>2483.0</td>\n",
       "      <td>NaN</td>\n",
       "      <td>GM</td>\n",
       "      <td>GM</td>\n",
       "      <td>NaN</td>\n",
       "      <td>NaN</td>\n",
       "      <td>NaN</td>\n",
       "      <td>NaN</td>\n",
       "      <td>NaN</td>\n",
       "      <td>NaN</td>\n",
       "      <td>NaN</td>\n",
       "      <td>NaN</td>\n",
       "      <td>NaN</td>\n",
       "    </tr>\n",
       "    <tr>\n",
       "      <th>1260</th>\n",
       "      <td>Tari,A</td>\n",
       "      <td>Artemiev,V</td>\n",
       "      <td>2018-12-26</td>\n",
       "      <td>2018.12.26</td>\n",
       "      <td>World Rapid 2018</td>\n",
       "      <td>0-1</td>\n",
       "      <td>1. e4 c5 2. Nf3 d6 3. Bb5+ Bd7 4. c4 Nc6 5. d4...</td>\n",
       "      <td>St Petersburg RUS</td>\n",
       "      <td>False</td>\n",
       "      <td>1.3</td>\n",
       "      <td>B52</td>\n",
       "      <td>Sicilian</td>\n",
       "      <td>1.51004e+06</td>\n",
       "      <td>2.41016e+07</td>\n",
       "      <td>2620.0</td>\n",
       "      <td>2709.0</td>\n",
       "      <td>Canal-Sokolsky attack, 3...Bd7</td>\n",
       "      <td>GM</td>\n",
       "      <td>GM</td>\n",
       "      <td>NaN</td>\n",
       "      <td>NaN</td>\n",
       "      <td>NaN</td>\n",
       "      <td>NaN</td>\n",
       "      <td>NaN</td>\n",
       "      <td>NaN</td>\n",
       "      <td>NaN</td>\n",
       "      <td>NaN</td>\n",
       "      <td>NaN</td>\n",
       "    </tr>\n",
       "    <tr>\n",
       "      <th>1260</th>\n",
       "      <td>Fedoseev,Vl3</td>\n",
       "      <td>Tregubov,P</td>\n",
       "      <td>2018-12-26</td>\n",
       "      <td>2018.12.26</td>\n",
       "      <td>World Rapid 2018</td>\n",
       "      <td>1/2-1/2</td>\n",
       "      <td>1. e4 e5 2. Nf3 Nf6 3. Nxe5 d6 4. Nd3 Nxe4 5. ...</td>\n",
       "      <td>St Petersburg RUS</td>\n",
       "      <td>False</td>\n",
       "      <td>1.4</td>\n",
       "      <td>C42</td>\n",
       "      <td>Petrov's defence</td>\n",
       "      <td>2.41307e+07</td>\n",
       "      <td>4.11534e+06</td>\n",
       "      <td>2719.0</td>\n",
       "      <td>2592.0</td>\n",
       "      <td>NaN</td>\n",
       "      <td>GM</td>\n",
       "      <td>GM</td>\n",
       "      <td>NaN</td>\n",
       "      <td>NaN</td>\n",
       "      <td>NaN</td>\n",
       "      <td>NaN</td>\n",
       "      <td>NaN</td>\n",
       "      <td>NaN</td>\n",
       "      <td>NaN</td>\n",
       "      <td>NaN</td>\n",
       "      <td>NaN</td>\n",
       "    </tr>\n",
       "    <tr>\n",
       "      <th>1260</th>\n",
       "      <td>Hovhannisyan,R</td>\n",
       "      <td>Aronian,L</td>\n",
       "      <td>2018-12-26</td>\n",
       "      <td>2018.12.26</td>\n",
       "      <td>World Rapid 2018</td>\n",
       "      <td>1-0</td>\n",
       "      <td>1. e4 g6 2. d4 Bg7 3. Nc3 c6 4. Nf3 d6 5. h3 N...</td>\n",
       "      <td>St Petersburg RUS</td>\n",
       "      <td>False</td>\n",
       "      <td>1.5</td>\n",
       "      <td>B06</td>\n",
       "      <td>Robatsch defence</td>\n",
       "      <td>1.33025e+07</td>\n",
       "      <td>1.33005e+07</td>\n",
       "      <td>2637.0</td>\n",
       "      <td>2765.0</td>\n",
       "      <td>two knights, Suttles variation</td>\n",
       "      <td>GM</td>\n",
       "      <td>GM</td>\n",
       "      <td>NaN</td>\n",
       "      <td>NaN</td>\n",
       "      <td>NaN</td>\n",
       "      <td>NaN</td>\n",
       "      <td>NaN</td>\n",
       "      <td>NaN</td>\n",
       "      <td>NaN</td>\n",
       "      <td>NaN</td>\n",
       "      <td>NaN</td>\n",
       "    </tr>\n",
       "  </tbody>\n",
       "</table>\n",
       "</div>"
      ],
      "text/plain": [
       "                      White       Black        Date   EventDate  \\\n",
       "twic_number                                                       \n",
       "1260              Tukhaev,A   Carlsen,M  2018-12-26  2018.12.26   \n",
       "1260            Nakamura,Hi     Teske,H  2018-12-26  2018.12.26   \n",
       "1260                 Tari,A  Artemiev,V  2018-12-26  2018.12.26   \n",
       "1260           Fedoseev,Vl3  Tregubov,P  2018-12-26  2018.12.26   \n",
       "1260         Hovhannisyan,R   Aronian,L  2018-12-26  2018.12.26   \n",
       "\n",
       "                        Event   Result  \\\n",
       "twic_number                              \n",
       "1260         World Rapid 2018      1-0   \n",
       "1260         World Rapid 2018      1-0   \n",
       "1260         World Rapid 2018      0-1   \n",
       "1260         World Rapid 2018  1/2-1/2   \n",
       "1260         World Rapid 2018      1-0   \n",
       "\n",
       "                                                mainline_moves  \\\n",
       "twic_number                                                      \n",
       "1260         1. e4 c5 2. Nf3 Nc6 3. d4 cxd4 4. Nxd4 Nf6 5. ...   \n",
       "1260         1. Nf3 Nf6 2. g3 d5 3. Bg2 g6 4. c4 dxc4 5. Na...   \n",
       "1260         1. e4 c5 2. Nf3 d6 3. Bb5+ Bd7 4. c4 Nc6 5. d4...   \n",
       "1260         1. e4 e5 2. Nf3 Nf6 3. Nxe5 d6 4. Nd3 Nxe4 5. ...   \n",
       "1260         1. e4 g6 2. d4 Bg7 3. Nc3 c6 4. Nf3 d6 5. h3 N...   \n",
       "\n",
       "                          Site  Online Round  ECO           Opening  \\\n",
       "twic_number                                                           \n",
       "1260         St Petersburg RUS   False   1.1  B33          Sicilian   \n",
       "1260         St Petersburg RUS   False   1.2  A05      Reti opening   \n",
       "1260         St Petersburg RUS   False   1.3  B52          Sicilian   \n",
       "1260         St Petersburg RUS   False   1.4  C42  Petrov's defence   \n",
       "1260         St Petersburg RUS   False   1.5  B06  Robatsch defence   \n",
       "\n",
       "             WhiteFideId  BlackFideId  WhiteElo  BlackElo  \\\n",
       "twic_number                                                 \n",
       "1260         1.41095e+07  1.50301e+06    2527.0    2835.0   \n",
       "1260         2.01619e+06   4.6115e+06    2746.0    2483.0   \n",
       "1260         1.51004e+06  2.41016e+07    2620.0    2709.0   \n",
       "1260         2.41307e+07  4.11534e+06    2719.0    2592.0   \n",
       "1260         1.33025e+07  1.33005e+07    2637.0    2765.0   \n",
       "\n",
       "                                  Variation WhiteTitle BlackTitle WhiteTeam  \\\n",
       "twic_number                                                                   \n",
       "1260         Pelikan, Chelyabinsk variation         GM         GM       NaN   \n",
       "1260                                    NaN         GM         GM       NaN   \n",
       "1260         Canal-Sokolsky attack, 3...Bd7         GM         GM       NaN   \n",
       "1260                                    NaN         GM         GM       NaN   \n",
       "1260         two knights, Suttles variation         GM         GM       NaN   \n",
       "\n",
       "            BlackTeam EventType  FEN  SetUp Variant  Board  PlyCount  \\\n",
       "twic_number                                                            \n",
       "1260              NaN       NaN  NaN    NaN     NaN    NaN       NaN   \n",
       "1260              NaN       NaN  NaN    NaN     NaN    NaN       NaN   \n",
       "1260              NaN       NaN  NaN    NaN     NaN    NaN       NaN   \n",
       "1260              NaN       NaN  NaN    NaN     NaN    NaN       NaN   \n",
       "1260              NaN       NaN  NaN    NaN     NaN    NaN       NaN   \n",
       "\n",
       "             EventCategory  \n",
       "twic_number                 \n",
       "1260                   NaN  \n",
       "1260                   NaN  \n",
       "1260                   NaN  \n",
       "1260                   NaN  \n",
       "1260                   NaN  "
      ]
     },
     "execution_count": 4,
     "metadata": {},
     "output_type": "execute_result"
    }
   ],
   "source": [
    "datos_crudos.head()"
   ]
  },
  {
   "cell_type": "code",
   "execution_count": 6,
   "metadata": {},
   "outputs": [
    {
     "data": {
      "text/plain": [
       "Index(['White', 'Black', 'Date', 'EventDate', 'Event', 'Result',\n",
       "       'mainline_moves', 'Site', 'Online', 'Round', 'ECO', 'Opening',\n",
       "       'WhiteFideId', 'BlackFideId', 'WhiteElo', 'BlackElo', 'Variation',\n",
       "       'WhiteTitle', 'BlackTitle', 'WhiteTeam', 'BlackTeam', 'EventType',\n",
       "       'FEN', 'SetUp', 'Variant', 'Board', 'PlyCount', 'EventCategory'],\n",
       "      dtype='object')"
      ]
     },
     "execution_count": 6,
     "metadata": {},
     "output_type": "execute_result"
    }
   ],
   "source": [
    "datos_crudos.columns"
   ]
  },
  {
   "cell_type": "code",
   "execution_count": 5,
   "metadata": {},
   "outputs": [
    {
     "name": "stdout",
     "output_type": "stream",
     "text": [
      "<class 'pandas.core.frame.DataFrame'>\n",
      "Int64Index: 1971319 entries, 1260 to 980\n",
      "Data columns (total 28 columns):\n",
      " #   Column          Dtype  \n",
      "---  ------          -----  \n",
      " 0   White           object \n",
      " 1   Black           object \n",
      " 2   Date            object \n",
      " 3   EventDate       object \n",
      " 4   Event           object \n",
      " 5   Result          object \n",
      " 6   mainline_moves  object \n",
      " 7   Site            object \n",
      " 8   Online          bool   \n",
      " 9   Round           object \n",
      " 10  ECO             object \n",
      " 11  Opening         object \n",
      " 12  WhiteFideId     object \n",
      " 13  BlackFideId     object \n",
      " 14  WhiteElo        float64\n",
      " 15  BlackElo        float64\n",
      " 16  Variation       object \n",
      " 17  WhiteTitle      object \n",
      " 18  BlackTitle      object \n",
      " 19  WhiteTeam       object \n",
      " 20  BlackTeam       object \n",
      " 21  EventType       object \n",
      " 22  FEN             object \n",
      " 23  SetUp           float64\n",
      " 24  Variant         object \n",
      " 25  Board           float64\n",
      " 26  PlyCount        float64\n",
      " 27  EventCategory   float64\n",
      "dtypes: bool(1), float64(6), object(21)\n",
      "memory usage: 423.0+ MB\n"
     ]
    }
   ],
   "source": [
    "datos_crudos.info()"
   ]
  },
  {
   "cell_type": "code",
   "execution_count": 7,
   "metadata": {},
   "outputs": [
    {
     "data": {
      "text/plain": [
       "1. e4                                                                                                                                                                                                                                                                                                                                                                                                                                                                                                                                                                                                                                                                                                                                            2241\n",
       "1. d4                                                                                                                                                                                                                                                                                                                                                                                                                                                                                                                                                                                                                                                                                                                                            1421\n",
       "1. Nf3                                                                                                                                                                                                                                                                                                                                                                                                                                                                                                                                                                                                                                                                                                                                            332\n",
       "1. c4                                                                                                                                                                                                                                                                                                                                                                                                                                                                                                                                                                                                                                                                                                                                             233\n",
       "1. e4 e5 2. Nf3 Nc6 3. Bb5 Nf6 4. O-O Nxe4 5. d4 Nd6 6. dxe5 Nxb5 7. a4 Nbd4 8. Nxd4 Nxd4 9. Qxd4 d5 10. exd6 Qxd6 11. Qe4+ Qe6 12. Qd4 Qd6 13. Qe4+ Qe6 14. Qd4 Qd6                                                                                                                                                                                                                                                                                                                                                                                                                                                                                                                                                                              128\n",
       "                                                                                                                                                                                                                                                                                                                                                                                                                                                                                                                                                                                                                                                                                                                                                 ... \n",
       "1. d4 Nf6 2. c4 b6 3. Nf3 Bb7 4. g3 c5 5. d5 b5 6. Bg2 bxc4 7. Nc3 d6 8. Nd2 g6 9. Nxc4 Bg7 10. Bf4 O-O 11. Rc1 Ba6 12. Na4 Nbd7 13. O-O Nb6 14. Na5 Qd7 15. Nc6 Rfe8 16. Re1 Bb7 17. b4 Nbxd5 18. Na5 cxb4 19. Nxb7 Qxb7 20. Bg5 Qb5 21. Bxf6 Nxf6 22. Bc6 Qh5 23. Kg2 d5 24. Qb3 Bh6 25. e3 Rab8 26. Bxe8 Nxe8 27. Rc5 e6 28. Ra5 Nf6 29. Nc5 Bf8 30. Qd1 Qe5 31. Qd4 Qc7 32. Nb3 e5 33. Rxa7 Qc3 34. Qd2 Rc8 35. Rd1 h5 36. Qe2 Qc2 37. Qf3 Qf5 38. Qxf5 gxf5 39. Rc1 Rxc1 40. Nxc1 Ne4 41. Nd3 f6 42. Rb7 Nc3 43. Nxb4 Bxb4 44. Rxb4 Nxa2 45. Rb5 Nc3 46. Rc5 d4 47. exd4 exd4 48. Kf3 Kf7 49. Rc4 Ne4 50. Rxd4 Ng5+ 51. Ke3 Ne6 52. Rd7+ Kg6 53. Re7 f4+ 54. Kf3 Kf5 55. Rxe6 Kxe6 56. Kxf4 Ke7 57. Kf5 Kf7 58. h4 Kg7 59. f3 Kf7 60. f4       1\n",
       "1. d4 Nf6 2. Nf3 g6 3. g3 Bg7 4. Bg2 O-O 5. O-O d5 6. Be3 c6 7. Qc1 b6 8. Bh6 Bb7 9. c4 Nbd7 10. Rd1 Rc8 11. Nc3 Ba6 12. b3 e6 13. Bxg7 Kxg7 14. Qa3 Nb8 15. Rac1 dxc4 16. bxc4 Bxc4 17. Ne5 Ba6 18. Nxc6 Nxc6 19. Qxa6 Qe7 20. e3 Rfd8 21. Qe2 Nd5 22. Nxd5 exd5 23. h4 h5 24. Bh3 f5 25. Bf1 Rd6 26. Rc2 Rf8 27. Qb5 Rff6 28. Rdc1 Qe6 29. Qa4 Na5 30. Rc8 Rd7 31. Bb5 Re7 32. Qa3 f4 33. exf4 Nb7 34. R8c7 Nd6 35. Qxa7 Rff7 36. Rxe7 Rxe7 37. Qxb6 Kh6 38. Bd3 Rb7 39. Qd8 Nf7 40. Qg8 Re7 41. Qf8+ Kh7 42. f5 gxf5 43. Bxf5+ Qxf5 44. Qxe7 Kg7 45. Rc7 Qb1+ 46. Kg2 Qe4+ 47. Qxe4 dxe4 48. a4 Kf6 49. a5 Nd6 50. a6 Nb5 51. Rb7 Nd6 52. Rb6 Ke7 53. a7 Nc8 54. Rb7+ Kd8 55. a8=Q e3 56. fxe3 Ke8 57. Qxc8#                                     1\n",
       "1. e4 c5 2. Nf3 d6 3. d4 cxd4 4. Nxd4 Nf6 5. Nc3 a6 6. Be2 e6 7. O-O Be7 8. a4 O-O 9. Be3 e5 10. Nb3 Be6 11. f4 exf4 12. Rxf4 Nbd7 13. Nd5 Bxd5 14. exd5 b6 15. c3 Ne5 16. Qd4 Re8 17. c4 Nfd7 18. Rff1 Bf6 19. Qf4 Ng6 20. Qf2 Qe7 21. Bg4 Qxe3 22. Bxd7 Qxb3 23. Bxe8 Rxe8 24. Rfe1 Rxe1+ 25. Qxe1 Bd4+ 26. Kh1 Be5 27. a5 b5 28. cxb5 Qxb5 29. Rd1 h6 30. b4 Qc4 31. Qd2 Qh4 32. g3 Bxg3 33. b5 axb5 34. a6 Bf2 35. Qe2 Ne5 36. Kg2 Ba7 37. Rb1 Ng4 38. Kh1 Bf2 39. Qe8+ Kh7 40. Qe4+ g6 41. Qg2 Bc5 42. h3 Nf2+ 43. Kh2 Qf4+ 44. Qg3 Qd2 45. Qf3 Ne4+ 46. Kh1 Ng5 47. Qg2 Qd3 48. Rf1 Kg7 49. Kh2 b4 50. h4 Nh7 51. Ra1 Qd4 52. Qf1 Qxh4+ 53. Qh3 Qf4+ 54. Qg3 Qd4 55. Ra4 Nf6 56. Qe1 Nxd5 57. Qa1 Qxa1 58. Rxa1 Ba7 59. Rb1 Kf6               1\n",
       "1. d4 g6 2. c4 Bg7 3. Nf3 c5 4. d5 d6 5. e4 e6 6. Nc3 Ne7 7. h4 exd5 8. cxd5 Bg4 9. Qa4+ Bd7 10. Qb3 b6 11. Bf4 Nc8 12. h5 O-O 13. hxg6 hxg6 14. Bd3 a5 15. Bg5 a4 16. Qc2 Qc7 17. Qd2 c4 18. Bh6 Bf6 19. Qf4 Qd8 20. Bg5 Bf5 21. Qh4                                                                                                                                                                                                                                                                                                                                                                                                                                                                                                               1\n",
       "1. Nf3 Nf6 2. c4 g6 3. Nc3 Bg7 4. e4 d6 5. d4 O-O 6. Be2 e5 7. O-O Nc6 8. dxe5 dxe5 9. Bg5 Qxd1 10. Rfxd1 Bg4 11. Rd2 Bxf3 12. Bxf3 Nd4 13. Nd5 Nxd5 14. cxd5 c6 15. dxc6 bxc6 16. Rc1 Rab8 17. Be3 Rfd8 18. b3 Bf8 19. Kf1 c5 20. Be2 a5 21. Bc4 Bd6 22. Rd3 Kg7 23. Bd5 Rd7 24. Rc4 Ra7 25. g4 Rb4 26. Bd2 Rxc4 27. bxc4 a4 28. Bc1 Ra6 29. h4 Rb6 30. Bg5 f6 31. Be3 Rb1+ 32. Kg2 Rb2 33. Bxd4 cxd4 34. g5 f5 35. exf5 gxf5 36. Be6 Kg6 37. Rf3 f4 38. Rd3 Bc5 39. Bd5 Rxa2 40. Be4+ Kg7 41. Rd1 Rb2 42. Rb1 Rxb1 43. Bxb1 a3 44. f3 d3 45. Kf1 e4 46. fxe4 f3                                                                                                                                                                                   1\n",
       "Name: mainline_moves, Length: 1930226, dtype: int64"
      ]
     },
     "execution_count": 7,
     "metadata": {},
     "output_type": "execute_result"
    }
   ],
   "source": [
    "datos_crudos.mainline_moves.value_counts()"
   ]
  },
  {
   "attachments": {},
   "cell_type": "markdown",
   "metadata": {},
   "source": [
    "### Limpieza de Datos"
   ]
  },
  {
   "attachments": {},
   "cell_type": "markdown",
   "metadata": {},
   "source": [
    "Saco columnas innecesarias"
   ]
  },
  {
   "cell_type": "code",
   "execution_count": 4,
   "metadata": {},
   "outputs": [],
   "source": [
    "# Tiro las columnas que no interesan\n",
    "datos_crudos = datos_crudos.drop([\"PlyCount\", \"Board\", \"EventCategory\", \"BlackTeam\", \"WhiteTeam\"], axis=1)"
   ]
  },
  {
   "attachments": {},
   "cell_type": "markdown",
   "metadata": {},
   "source": [
    "Filtramos los juegos que son de chess 960 y luego borramos la columnas"
   ]
  },
  {
   "cell_type": "code",
   "execution_count": 5,
   "metadata": {},
   "outputs": [],
   "source": [
    "# Primero me quedo solo con los registros nulos en las columnas relacionadas con la modalidad 960\n",
    "# De este modo me voy a quedar con las partidas que NO son 960chess\n",
    "datos_crudos = datos_crudos[ (datos_crudos.Variant.isna()) & (datos_crudos.FEN.isna()) & (datos_crudos.SetUp.isna()) ]\n",
    "\n",
    "# Despues tiro estas columnas que ya no me dicen nada\n",
    "datos_crudos = datos_crudos.drop([\"Variant\", \"FEN\", \"SetUp\"], axis=1)"
   ]
  },
  {
   "cell_type": "code",
   "execution_count": 8,
   "metadata": {},
   "outputs": [
    {
     "data": {
      "text/plain": [
       "team                  80476\n",
       "swiss                 54121\n",
       "blitz                 17099\n",
       "team-tourn             9880\n",
       "tourn                  9488\n",
       "rapid                  7267\n",
       "team-swiss             3788\n",
       "k.o.                   2977\n",
       "swiss (blitz)          2188\n",
       "k.o. blitz              915\n",
       "Team                    495\n",
       "swiss (rapid)           485\n",
       "team-match              400\n",
       "team-tourn (rapid)      362\n",
       "match                   334\n",
       "schev                   320\n",
       "match (blitz)           207\n",
       "tourn (blitz)           197\n",
       "tourn (rapid)           197\n",
       "match (rapid)           158\n",
       "k.o. (blitz)            150\n",
       "team-swiss (rapid)      112\n",
       "team (rapid)            109\n",
       "team-match (blitz)       94\n",
       "tourn (corr)             91\n",
       "team-                    80\n",
       "schev (rapid)            64\n",
       "team-schev (blitz)       64\n",
       "schev (blitz)            40\n",
       "team-schev (rapid)       32\n",
       "team-match (rapid)       22\n",
       "k.o. rapid               17\n",
       "team-k.o.                16\n",
       "simul                    15\n",
       "game (blitz)              1\n",
       "game                      1\n",
       "Name: EventType, dtype: int64"
      ]
     },
     "execution_count": 8,
     "metadata": {},
     "output_type": "execute_result"
    }
   ],
   "source": [
    "datos_crudos.EventType.value_counts()"
   ]
  },
  {
   "cell_type": "code",
   "execution_count": 11,
   "metadata": {},
   "outputs": [
    {
     "data": {
      "text/plain": [
       "(1970769, 20)"
      ]
     },
     "metadata": {},
     "output_type": "display_data"
    },
    {
     "data": {
      "text/plain": [
       "Index(['White', 'Black', 'Date', 'EventDate', 'Event', 'Result',\n",
       "       'mainline_moves', 'Site', 'Online', 'Round', 'ECO', 'Opening',\n",
       "       'WhiteFideId', 'BlackFideId', 'WhiteElo', 'BlackElo', 'Variation',\n",
       "       'WhiteTitle', 'BlackTitle', 'EventType'],\n",
       "      dtype='object')"
      ]
     },
     "execution_count": 11,
     "metadata": {},
     "output_type": "execute_result"
    }
   ],
   "source": [
    "display(datos_crudos.shape)\n",
    "datos_crudos.columns"
   ]
  },
  {
   "cell_type": "code",
   "execution_count": 6,
   "metadata": {},
   "outputs": [],
   "source": [
    "# Vamos a poner todas las letras en minuscula y eliminar espacios en los extremos\n",
    "# En \"mainline_moves\" y \"ECO\" NO toco las mayúsculas ya tienen relevancia en la notación.\n",
    "cols = [\"White\", \"Black\", \"Event\", \"Site\", \"Opening\", \"Variation\", \"WhiteTitle\", \"BlackTitle\", \"EventType\"]\n",
    "for feature in cols:\n",
    "    \n",
    "    datos_crudos[feature] = datos_crudos[feature].str.lower().str.strip()"
   ]
  },
  {
   "cell_type": "code",
   "execution_count": 13,
   "metadata": {},
   "outputs": [
    {
     "data": {
      "text/plain": [
       "'2018-12-26'"
      ]
     },
     "execution_count": 13,
     "metadata": {},
     "output_type": "execute_result"
    }
   ],
   "source": [
    "datos_crudos.Date.iloc[0]"
   ]
  },
  {
   "cell_type": "code",
   "execution_count": 7,
   "metadata": {},
   "outputs": [],
   "source": [
    "datos_crudos[\"Fecha\"] = pd.to_datetime(datos_crudos[\"Date\"])"
   ]
  },
  {
   "cell_type": "code",
   "execution_count": 8,
   "metadata": {},
   "outputs": [
    {
     "data": {
      "text/plain": [
       "Timestamp('2018-12-26 00:00:00')"
      ]
     },
     "execution_count": 8,
     "metadata": {},
     "output_type": "execute_result"
    }
   ],
   "source": [
    "datos_crudos['Fecha'].iloc[0]"
   ]
  },
  {
   "cell_type": "code",
   "execution_count": 12,
   "metadata": {},
   "outputs": [
    {
     "data": {
      "text/plain": [
       "2021-02-16    6185\n",
       "2020-05-16    5749\n",
       "2020-06-14    5079\n",
       "2021-03-13    4826\n",
       "2022-08-02    3780\n",
       "              ... \n",
       "2012-06-04       1\n",
       "2012-05-05       1\n",
       "2012-05-03       1\n",
       "2012-05-06       1\n",
       "1988-11-18       1\n",
       "Name: Fecha, Length: 3800, dtype: int64"
      ]
     },
     "execution_count": 12,
     "metadata": {},
     "output_type": "execute_result"
    }
   ],
   "source": [
    "datos_crudos['Fecha'].value_counts()"
   ]
  },
  {
   "cell_type": "code",
   "execution_count": 13,
   "metadata": {},
   "outputs": [
    {
     "data": {
      "text/plain": [
       "(array([1.00000e+00, 0.00000e+00, 0.00000e+00, 0.00000e+00, 1.00000e+00,\n",
       "        1.66110e+05, 6.17038e+05, 9.00552e+05, 2.87616e+05, 1.00000e+00]),\n",
       " array([ 6896. ,  8397.8,  9899.6, 11401.4, 12903.2, 14405. , 15906.8,\n",
       "        17408.6, 18910.4, 20412.2, 21914. ]),\n",
       " <BarContainer object of 10 artists>)"
      ]
     },
     "execution_count": 13,
     "metadata": {},
     "output_type": "execute_result"
    },
    {
     "data": {
      "image/png": "[encoded data removed]",
      "text/plain": [
       "<Figure size 640x480 with 1 Axes>"
      ]
     },
     "metadata": {},
     "output_type": "display_data"
    }
   ],
   "source": [
    "fig = plt.figure()\n",
    "# creo los axes\n",
    "ax = plt.axes()\n",
    "# dibujo en axes:\n",
    "ax.hist(datos_crudos['Fecha'], label='fechas', alpha = 0.4)"
   ]
  },
  {
   "cell_type": "code",
   "execution_count": 8,
   "metadata": {},
   "outputs": [
    {
     "data": {
      "text/plain": [
       "(1970769, 21)"
      ]
     },
     "execution_count": 8,
     "metadata": {},
     "output_type": "execute_result"
    }
   ],
   "source": [
    "datos_crudos.shape"
   ]
  },
  {
   "attachments": {},
   "cell_type": "markdown",
   "metadata": {},
   "source": [
    "## Aca empezamos a filtrar los datos"
   ]
  },
  {
   "attachments": {},
   "cell_type": "markdown",
   "metadata": {},
   "source": [
    "primero filtro temporalmente a partir de 2021"
   ]
  },
  {
   "cell_type": "code",
   "execution_count": 9,
   "metadata": {},
   "outputs": [],
   "source": [
    "datos=datos_crudos.loc[datos_crudos['Fecha'].dt.year>2010]"
   ]
  },
  {
   "cell_type": "code",
   "execution_count": 10,
   "metadata": {},
   "outputs": [
    {
     "data": {
      "text/plain": [
       "(1970761, 21)"
      ]
     },
     "execution_count": 10,
     "metadata": {},
     "output_type": "execute_result"
    }
   ],
   "source": [
    "datos.shape"
   ]
  },
  {
   "cell_type": "code",
   "execution_count": 30,
   "metadata": {},
   "outputs": [
    {
     "data": {
      "text/html": [
       "<div>\n",
       "<style scoped>\n",
       "    .dataframe tbody tr th:only-of-type {\n",
       "        vertical-align: middle;\n",
       "    }\n",
       "\n",
       "    .dataframe tbody tr th {\n",
       "        vertical-align: top;\n",
       "    }\n",
       "\n",
       "    .dataframe thead th {\n",
       "        text-align: right;\n",
       "    }\n",
       "</style>\n",
       "<table border=\"1\" class=\"dataframe\">\n",
       "  <thead>\n",
       "    <tr style=\"text-align: right;\">\n",
       "      <th></th>\n",
       "      <th>White</th>\n",
       "      <th>Black</th>\n",
       "      <th>Date</th>\n",
       "      <th>EventDate</th>\n",
       "      <th>Event</th>\n",
       "      <th>Result</th>\n",
       "      <th>mainline_moves</th>\n",
       "      <th>Site</th>\n",
       "      <th>Online</th>\n",
       "      <th>Round</th>\n",
       "      <th>ECO</th>\n",
       "      <th>Opening</th>\n",
       "      <th>WhiteFideId</th>\n",
       "      <th>BlackFideId</th>\n",
       "      <th>WhiteElo</th>\n",
       "      <th>BlackElo</th>\n",
       "      <th>Variation</th>\n",
       "      <th>WhiteTitle</th>\n",
       "      <th>BlackTitle</th>\n",
       "      <th>EventType</th>\n",
       "      <th>Fecha</th>\n",
       "    </tr>\n",
       "    <tr>\n",
       "      <th>twic_number</th>\n",
       "      <th></th>\n",
       "      <th></th>\n",
       "      <th></th>\n",
       "      <th></th>\n",
       "      <th></th>\n",
       "      <th></th>\n",
       "      <th></th>\n",
       "      <th></th>\n",
       "      <th></th>\n",
       "      <th></th>\n",
       "      <th></th>\n",
       "      <th></th>\n",
       "      <th></th>\n",
       "      <th></th>\n",
       "      <th></th>\n",
       "      <th></th>\n",
       "      <th></th>\n",
       "      <th></th>\n",
       "      <th></th>\n",
       "      <th></th>\n",
       "      <th></th>\n",
       "    </tr>\n",
       "  </thead>\n",
       "  <tbody>\n",
       "    <tr>\n",
       "      <th>1424</th>\n",
       "      <td>nakamura,hi</td>\n",
       "      <td>rapport,r</td>\n",
       "      <td>2022-02-12</td>\n",
       "      <td>2022.02.12</td>\n",
       "      <td>fide grand prix 1 playoff</td>\n",
       "      <td>1-0</td>\n",
       "      <td>1. d4 Nf6 2. c4 e6 3. Nc3 d5 4. cxd5 exd5 5. B...</td>\n",
       "      <td>berlin ger</td>\n",
       "      <td>False</td>\n",
       "      <td>1.1</td>\n",
       "      <td>D36</td>\n",
       "      <td>qgd</td>\n",
       "      <td>2.01619e+06</td>\n",
       "      <td>738590</td>\n",
       "      <td>2736.0</td>\n",
       "      <td>2763.0</td>\n",
       "      <td>exchange, positional line, 6.qc2</td>\n",
       "      <td>gm</td>\n",
       "      <td>gm</td>\n",
       "      <td>NaN</td>\n",
       "      <td>2022-02-12</td>\n",
       "    </tr>\n",
       "    <tr>\n",
       "      <th>1424</th>\n",
       "      <td>aronian,l</td>\n",
       "      <td>dominguez perez,l</td>\n",
       "      <td>2022-02-12</td>\n",
       "      <td>2022.02.12</td>\n",
       "      <td>fide grand prix 1 playoff</td>\n",
       "      <td>1-0</td>\n",
       "      <td>1. d4 d5 2. c4 dxc4 3. e4 b5 4. a4 c6 5. axb5 ...</td>\n",
       "      <td>berlin ger</td>\n",
       "      <td>False</td>\n",
       "      <td>1.1</td>\n",
       "      <td>D20</td>\n",
       "      <td>qga</td>\n",
       "      <td>1.33005e+07</td>\n",
       "      <td>3.50324e+06</td>\n",
       "      <td>2772.0</td>\n",
       "      <td>2752.0</td>\n",
       "      <td>3.e4</td>\n",
       "      <td>gm</td>\n",
       "      <td>gm</td>\n",
       "      <td>NaN</td>\n",
       "      <td>2022-02-12</td>\n",
       "    </tr>\n",
       "    <tr>\n",
       "      <th>1424</th>\n",
       "      <td>rapport,r</td>\n",
       "      <td>nakamura,hi</td>\n",
       "      <td>2022-02-13</td>\n",
       "      <td>2022.02.12</td>\n",
       "      <td>fide grand prix 1 playoff</td>\n",
       "      <td>1/2-1/2</td>\n",
       "      <td>1. Nf3 d5 2. g3 Nf6 3. Bg2 e6 4. O-O Be7 5. d3...</td>\n",
       "      <td>berlin ger</td>\n",
       "      <td>False</td>\n",
       "      <td>1.2</td>\n",
       "      <td>A07</td>\n",
       "      <td>reti</td>\n",
       "      <td>738590</td>\n",
       "      <td>2.01619e+06</td>\n",
       "      <td>2763.0</td>\n",
       "      <td>2736.0</td>\n",
       "      <td>king's indian attack (barcza system)</td>\n",
       "      <td>gm</td>\n",
       "      <td>gm</td>\n",
       "      <td>NaN</td>\n",
       "      <td>2022-02-13</td>\n",
       "    </tr>\n",
       "    <tr>\n",
       "      <th>1424</th>\n",
       "      <td>dominguez perez,l</td>\n",
       "      <td>aronian,l</td>\n",
       "      <td>2022-02-13</td>\n",
       "      <td>2022.02.12</td>\n",
       "      <td>fide grand prix 1 playoff</td>\n",
       "      <td>1/2-1/2</td>\n",
       "      <td>1. e4 e5 2. Nf3 Nc6 3. Bc4 Nf6 4. d3 Be7 5. O-...</td>\n",
       "      <td>berlin ger</td>\n",
       "      <td>False</td>\n",
       "      <td>1.2</td>\n",
       "      <td>C55</td>\n",
       "      <td>two knights defence (modern bishop's opening)</td>\n",
       "      <td>3.50324e+06</td>\n",
       "      <td>1.33005e+07</td>\n",
       "      <td>2752.0</td>\n",
       "      <td>2772.0</td>\n",
       "      <td>NaN</td>\n",
       "      <td>gm</td>\n",
       "      <td>gm</td>\n",
       "      <td>NaN</td>\n",
       "      <td>2022-02-13</td>\n",
       "    </tr>\n",
       "    <tr>\n",
       "      <th>1424</th>\n",
       "      <td>nakamura,hi</td>\n",
       "      <td>aronian,l</td>\n",
       "      <td>2022-02-15</td>\n",
       "      <td>2022.02.12</td>\n",
       "      <td>fide grand prix 1 playoff</td>\n",
       "      <td>1/2-1/2</td>\n",
       "      <td>1. e4 e5 2. Nf3 Nc6 3. Bb5 a6 4. Ba4 Nf6 5. O-...</td>\n",
       "      <td>berlin ger</td>\n",
       "      <td>False</td>\n",
       "      <td>2.1</td>\n",
       "      <td>C88</td>\n",
       "      <td>ruy lopez</td>\n",
       "      <td>2.01619e+06</td>\n",
       "      <td>1.33005e+07</td>\n",
       "      <td>2736.0</td>\n",
       "      <td>2772.0</td>\n",
       "      <td>closed, 7...o-o</td>\n",
       "      <td>gm</td>\n",
       "      <td>gm</td>\n",
       "      <td>NaN</td>\n",
       "      <td>2022-02-15</td>\n",
       "    </tr>\n",
       "  </tbody>\n",
       "</table>\n",
       "</div>"
      ],
      "text/plain": [
       "                         White              Black        Date   EventDate  \\\n",
       "twic_number                                                                 \n",
       "1424               nakamura,hi          rapport,r  2022-02-12  2022.02.12   \n",
       "1424                 aronian,l  dominguez perez,l  2022-02-12  2022.02.12   \n",
       "1424                 rapport,r        nakamura,hi  2022-02-13  2022.02.12   \n",
       "1424         dominguez perez,l          aronian,l  2022-02-13  2022.02.12   \n",
       "1424               nakamura,hi          aronian,l  2022-02-15  2022.02.12   \n",
       "\n",
       "                                 Event   Result  \\\n",
       "twic_number                                       \n",
       "1424         fide grand prix 1 playoff      1-0   \n",
       "1424         fide grand prix 1 playoff      1-0   \n",
       "1424         fide grand prix 1 playoff  1/2-1/2   \n",
       "1424         fide grand prix 1 playoff  1/2-1/2   \n",
       "1424         fide grand prix 1 playoff  1/2-1/2   \n",
       "\n",
       "                                                mainline_moves        Site  \\\n",
       "twic_number                                                                  \n",
       "1424         1. d4 Nf6 2. c4 e6 3. Nc3 d5 4. cxd5 exd5 5. B...  berlin ger   \n",
       "1424         1. d4 d5 2. c4 dxc4 3. e4 b5 4. a4 c6 5. axb5 ...  berlin ger   \n",
       "1424         1. Nf3 d5 2. g3 Nf6 3. Bg2 e6 4. O-O Be7 5. d3...  berlin ger   \n",
       "1424         1. e4 e5 2. Nf3 Nc6 3. Bc4 Nf6 4. d3 Be7 5. O-...  berlin ger   \n",
       "1424         1. e4 e5 2. Nf3 Nc6 3. Bb5 a6 4. Ba4 Nf6 5. O-...  berlin ger   \n",
       "\n",
       "             Online Round  ECO                                        Opening  \\\n",
       "twic_number                                                                     \n",
       "1424          False   1.1  D36                                            qgd   \n",
       "1424          False   1.1  D20                                            qga   \n",
       "1424          False   1.2  A07                                           reti   \n",
       "1424          False   1.2  C55  two knights defence (modern bishop's opening)   \n",
       "1424          False   2.1  C88                                      ruy lopez   \n",
       "\n",
       "             WhiteFideId  BlackFideId  WhiteElo  BlackElo  \\\n",
       "twic_number                                                 \n",
       "1424         2.01619e+06       738590    2736.0    2763.0   \n",
       "1424         1.33005e+07  3.50324e+06    2772.0    2752.0   \n",
       "1424              738590  2.01619e+06    2763.0    2736.0   \n",
       "1424         3.50324e+06  1.33005e+07    2752.0    2772.0   \n",
       "1424         2.01619e+06  1.33005e+07    2736.0    2772.0   \n",
       "\n",
       "                                        Variation WhiteTitle BlackTitle  \\\n",
       "twic_number                                                               \n",
       "1424             exchange, positional line, 6.qc2         gm         gm   \n",
       "1424                                         3.e4         gm         gm   \n",
       "1424         king's indian attack (barcza system)         gm         gm   \n",
       "1424                                          NaN         gm         gm   \n",
       "1424                              closed, 7...o-o         gm         gm   \n",
       "\n",
       "            EventType      Fecha  \n",
       "twic_number                       \n",
       "1424              NaN 2022-02-12  \n",
       "1424              NaN 2022-02-12  \n",
       "1424              NaN 2022-02-13  \n",
       "1424              NaN 2022-02-13  \n",
       "1424              NaN 2022-02-15  "
      ]
     },
     "execution_count": 30,
     "metadata": {},
     "output_type": "execute_result"
    }
   ],
   "source": [
    "datos.head()"
   ]
  },
  {
   "attachments": {},
   "cell_type": "markdown",
   "metadata": {},
   "source": [
    "### Limpio la columna resultados. Dejo en Nan los que no coinciden y luego los borramos"
   ]
  },
  {
   "cell_type": "code",
   "execution_count": 11,
   "metadata": {},
   "outputs": [
    {
     "name": "stderr",
     "output_type": "stream",
     "text": [
      "C:\\Users\\fpeloso\\AppData\\Local\\Temp\\ipykernel_3384\\3252946653.py:12: SettingWithCopyWarning: \n",
      "A value is trying to be set on a copy of a slice from a DataFrame.\n",
      "Try using .loc[row_indexer,col_indexer] = value instead\n",
      "\n",
      "See the caveats in the documentation: https://pandas.pydata.org/pandas-docs/stable/user_guide/indexing.html#returning-a-view-versus-a-copy\n",
      "  datos['Resultado'] = datos['Result'].apply(condition)\n"
     ]
    }
   ],
   "source": [
    "def condition(x):\n",
    "    if x=='1-0':\n",
    "        return 0\n",
    "    elif x=='0-1':\n",
    "        return 1\n",
    "    elif x=='1/2-1/2':\n",
    "        return 2\n",
    "    else: \n",
    "        return np.NaN\n",
    " \n",
    "# Applying the conditions\n",
    "datos['Resultado'] = datos['Result'].apply(condition)\n",
    " \n",
    "#print(df)"
   ]
  },
  {
   "cell_type": "code",
   "execution_count": 19,
   "metadata": {},
   "outputs": [],
   "source": [
    "#Creo columna resultado \n",
    "#datos['Resultado'] = datos['Result'].apply(lambda x: 0 if x=='1-0' else if x=='0-1' )"
   ]
  },
  {
   "cell_type": "code",
   "execution_count": 11,
   "metadata": {},
   "outputs": [
    {
     "data": {
      "text/plain": [
       "52"
      ]
     },
     "execution_count": 11,
     "metadata": {},
     "output_type": "execute_result"
    }
   ],
   "source": [
    "datos['Resultado'].isna().sum()"
   ]
  },
  {
   "cell_type": "code",
   "execution_count": 33,
   "metadata": {},
   "outputs": [
    {
     "data": {
      "text/plain": [
       "'1. d4 Nf6 2. c4 e6 3. Nc3 d5 4. cxd5 exd5 5. Bg5 c6 6. Qc2 Be7 7. e3 Nbd7 8. Bd3 Nh5 9. Bxe7 Qxe7 10. O-O-O Nb6 11. h3 g6 12. Nf3 Ng7 13. g4 Be6 14. Ne2 O-O-O 15. Kb1 Kb8 16. Rc1 Ne8 17. Nf4 Nd6 18. a4 Ndc4 19. a5 Qb4 20. Qc3 Qxa5 21. Qxa5 Nxa5 22. Ng5 Rdf8 23. Bxg6 Nb3 24. Nfxe6 fxe6 25. Nxh7 Rfg8 26. Bd3 Nxc1 27. Kxc1 Rg7 28. Nf6 Rf7 29. g5 Rxf6 30. gxf6 Rf8 31. h4 Rxf6 32. h5 Rh6 33. Kd2 Kc7 34. Ke2 Kd6 35. Kf3 Ke7 36. Kg4 Kf6 37. Rh3 Nc8 38. Rf3+ Kg7 39. Bg6 Nd6 40. Kg5 a5 41. Rf4 Ne4+ 42. Bxe4 dxe4 43. Rxe4 Rf6 44. f4 Rf5+ 45. Kg4 Rb5 46. Rxe6 a4 47. Re7+ Kh6 48. Re8 Rxb2 49. Rh8+ Kg7 50. Ra8 b5 51. e4 Ra2 52. Ra7+ Kh6 53. Ra6 Kh7 54. Ra7+ Kh6 55. Ra6 Kh7 56. e5 b4 57. e6 b3 58. Kf5 Ra1 59. Rb6 Re1 60. Kf6 Re4 61. e7 Rxf4+ 62. Ke5 Rf1 63. Kd6 Re1 64. Kd7 c5 65. dxc5 Rd1+ 66. Kc7 Re1 67. Kd6 Rd1+ 68. Kc6 Re1 69. Rb4 b2 70. Rxb2 Rxe7 71. Ra2'"
      ]
     },
     "execution_count": 33,
     "metadata": {},
     "output_type": "execute_result"
    }
   ],
   "source": [
    "datos['mainline_moves'].iloc[0]"
   ]
  },
  {
   "cell_type": "code",
   "execution_count": 22,
   "metadata": {},
   "outputs": [
    {
     "data": {
      "text/plain": [
       "str"
      ]
     },
     "execution_count": 22,
     "metadata": {},
     "output_type": "execute_result"
    }
   ],
   "source": [
    "type(datos['mainline_moves'].iloc[0])"
   ]
  },
  {
   "cell_type": "code",
   "execution_count": 23,
   "metadata": {},
   "outputs": [],
   "source": [
    "#aux=datos['mainline_moves'].iloc[0].replace(\" \", \"\")\n",
    "moves_serie=datos['mainline_moves'].iloc[0].replace(\" \", \"\").split('.')\n"
   ]
  },
  {
   "cell_type": "code",
   "execution_count": 24,
   "metadata": {},
   "outputs": [],
   "source": [
    "#deberia remover los espacioes en blanco del string. luego separar por puntos"
   ]
  },
  {
   "cell_type": "code",
   "execution_count": 25,
   "metadata": {},
   "outputs": [
    {
     "data": {
      "text/plain": [
       "72"
      ]
     },
     "execution_count": 25,
     "metadata": {},
     "output_type": "execute_result"
    }
   ],
   "source": [
    "len(moves_serie)"
   ]
  },
  {
   "attachments": {},
   "cell_type": "markdown",
   "metadata": {},
   "source": [
    "### Creo la columna cantidad de Movimientos"
   ]
  },
  {
   "cell_type": "code",
   "execution_count": 12,
   "metadata": {},
   "outputs": [
    {
     "name": "stderr",
     "output_type": "stream",
     "text": [
      "C:\\Users\\fpeloso\\AppData\\Local\\Temp\\ipykernel_3384\\3200335042.py:7: SettingWithCopyWarning: \n",
      "A value is trying to be set on a copy of a slice from a DataFrame.\n",
      "Try using .loc[row_indexer,col_indexer] = value instead\n",
      "\n",
      "See the caveats in the documentation: https://pandas.pydata.org/pandas-docs/stable/user_guide/indexing.html#returning-a-view-versus-a-copy\n",
      "  datos['cant_mov'] = datos['mainline_moves'].apply(cant_move)\n"
     ]
    }
   ],
   "source": [
    "def cant_move(x):\n",
    "    if type(x) is str:\n",
    "        return len(x.replace(\" \", \"\").split('.'))\n",
    "    else:\n",
    "        return np.NaN\n",
    "# Applying the conditions\n",
    "datos['cant_mov'] = datos['mainline_moves'].apply(cant_move)"
   ]
  },
  {
   "cell_type": "code",
   "execution_count": 35,
   "metadata": {},
   "outputs": [
    {
     "data": {
      "text/html": [
       "<div>\n",
       "<style scoped>\n",
       "    .dataframe tbody tr th:only-of-type {\n",
       "        vertical-align: middle;\n",
       "    }\n",
       "\n",
       "    .dataframe tbody tr th {\n",
       "        vertical-align: top;\n",
       "    }\n",
       "\n",
       "    .dataframe thead th {\n",
       "        text-align: right;\n",
       "    }\n",
       "</style>\n",
       "<table border=\"1\" class=\"dataframe\">\n",
       "  <thead>\n",
       "    <tr style=\"text-align: right;\">\n",
       "      <th></th>\n",
       "      <th>White</th>\n",
       "      <th>Black</th>\n",
       "      <th>Date</th>\n",
       "      <th>EventDate</th>\n",
       "      <th>Event</th>\n",
       "      <th>Result</th>\n",
       "      <th>mainline_moves</th>\n",
       "      <th>Site</th>\n",
       "      <th>Online</th>\n",
       "      <th>Round</th>\n",
       "      <th>ECO</th>\n",
       "      <th>Opening</th>\n",
       "      <th>WhiteFideId</th>\n",
       "      <th>BlackFideId</th>\n",
       "      <th>WhiteElo</th>\n",
       "      <th>BlackElo</th>\n",
       "      <th>Variation</th>\n",
       "      <th>WhiteTitle</th>\n",
       "      <th>BlackTitle</th>\n",
       "      <th>EventType</th>\n",
       "      <th>Fecha</th>\n",
       "      <th>Resultado</th>\n",
       "      <th>cant_mov</th>\n",
       "    </tr>\n",
       "    <tr>\n",
       "      <th>twic_number</th>\n",
       "      <th></th>\n",
       "      <th></th>\n",
       "      <th></th>\n",
       "      <th></th>\n",
       "      <th></th>\n",
       "      <th></th>\n",
       "      <th></th>\n",
       "      <th></th>\n",
       "      <th></th>\n",
       "      <th></th>\n",
       "      <th></th>\n",
       "      <th></th>\n",
       "      <th></th>\n",
       "      <th></th>\n",
       "      <th></th>\n",
       "      <th></th>\n",
       "      <th></th>\n",
       "      <th></th>\n",
       "      <th></th>\n",
       "      <th></th>\n",
       "      <th></th>\n",
       "      <th></th>\n",
       "      <th></th>\n",
       "    </tr>\n",
       "  </thead>\n",
       "  <tbody>\n",
       "    <tr>\n",
       "      <th>1424</th>\n",
       "      <td>nakamura,hi</td>\n",
       "      <td>rapport,r</td>\n",
       "      <td>2022-02-12</td>\n",
       "      <td>2022.02.12</td>\n",
       "      <td>fide grand prix 1 playoff</td>\n",
       "      <td>1-0</td>\n",
       "      <td>1. d4 Nf6 2. c4 e6 3. Nc3 d5 4. cxd5 exd5 5. B...</td>\n",
       "      <td>berlin ger</td>\n",
       "      <td>False</td>\n",
       "      <td>1.1</td>\n",
       "      <td>D36</td>\n",
       "      <td>qgd</td>\n",
       "      <td>2.01619e+06</td>\n",
       "      <td>738590</td>\n",
       "      <td>2736.0</td>\n",
       "      <td>2763.0</td>\n",
       "      <td>exchange, positional line, 6.qc2</td>\n",
       "      <td>gm</td>\n",
       "      <td>gm</td>\n",
       "      <td>NaN</td>\n",
       "      <td>2022-02-12</td>\n",
       "      <td>0.0</td>\n",
       "      <td>72.0</td>\n",
       "    </tr>\n",
       "    <tr>\n",
       "      <th>1424</th>\n",
       "      <td>aronian,l</td>\n",
       "      <td>dominguez perez,l</td>\n",
       "      <td>2022-02-12</td>\n",
       "      <td>2022.02.12</td>\n",
       "      <td>fide grand prix 1 playoff</td>\n",
       "      <td>1-0</td>\n",
       "      <td>1. d4 d5 2. c4 dxc4 3. e4 b5 4. a4 c6 5. axb5 ...</td>\n",
       "      <td>berlin ger</td>\n",
       "      <td>False</td>\n",
       "      <td>1.1</td>\n",
       "      <td>D20</td>\n",
       "      <td>qga</td>\n",
       "      <td>1.33005e+07</td>\n",
       "      <td>3.50324e+06</td>\n",
       "      <td>2772.0</td>\n",
       "      <td>2752.0</td>\n",
       "      <td>3.e4</td>\n",
       "      <td>gm</td>\n",
       "      <td>gm</td>\n",
       "      <td>NaN</td>\n",
       "      <td>2022-02-12</td>\n",
       "      <td>0.0</td>\n",
       "      <td>42.0</td>\n",
       "    </tr>\n",
       "    <tr>\n",
       "      <th>1424</th>\n",
       "      <td>rapport,r</td>\n",
       "      <td>nakamura,hi</td>\n",
       "      <td>2022-02-13</td>\n",
       "      <td>2022.02.12</td>\n",
       "      <td>fide grand prix 1 playoff</td>\n",
       "      <td>1/2-1/2</td>\n",
       "      <td>1. Nf3 d5 2. g3 Nf6 3. Bg2 e6 4. O-O Be7 5. d3...</td>\n",
       "      <td>berlin ger</td>\n",
       "      <td>False</td>\n",
       "      <td>1.2</td>\n",
       "      <td>A07</td>\n",
       "      <td>reti</td>\n",
       "      <td>738590</td>\n",
       "      <td>2.01619e+06</td>\n",
       "      <td>2763.0</td>\n",
       "      <td>2736.0</td>\n",
       "      <td>king's indian attack (barcza system)</td>\n",
       "      <td>gm</td>\n",
       "      <td>gm</td>\n",
       "      <td>NaN</td>\n",
       "      <td>2022-02-13</td>\n",
       "      <td>2.0</td>\n",
       "      <td>31.0</td>\n",
       "    </tr>\n",
       "    <tr>\n",
       "      <th>1424</th>\n",
       "      <td>dominguez perez,l</td>\n",
       "      <td>aronian,l</td>\n",
       "      <td>2022-02-13</td>\n",
       "      <td>2022.02.12</td>\n",
       "      <td>fide grand prix 1 playoff</td>\n",
       "      <td>1/2-1/2</td>\n",
       "      <td>1. e4 e5 2. Nf3 Nc6 3. Bc4 Nf6 4. d3 Be7 5. O-...</td>\n",
       "      <td>berlin ger</td>\n",
       "      <td>False</td>\n",
       "      <td>1.2</td>\n",
       "      <td>C55</td>\n",
       "      <td>two knights defence (modern bishop's opening)</td>\n",
       "      <td>3.50324e+06</td>\n",
       "      <td>1.33005e+07</td>\n",
       "      <td>2752.0</td>\n",
       "      <td>2772.0</td>\n",
       "      <td>NaN</td>\n",
       "      <td>gm</td>\n",
       "      <td>gm</td>\n",
       "      <td>NaN</td>\n",
       "      <td>2022-02-13</td>\n",
       "      <td>2.0</td>\n",
       "      <td>32.0</td>\n",
       "    </tr>\n",
       "    <tr>\n",
       "      <th>1424</th>\n",
       "      <td>nakamura,hi</td>\n",
       "      <td>aronian,l</td>\n",
       "      <td>2022-02-15</td>\n",
       "      <td>2022.02.12</td>\n",
       "      <td>fide grand prix 1 playoff</td>\n",
       "      <td>1/2-1/2</td>\n",
       "      <td>1. e4 e5 2. Nf3 Nc6 3. Bb5 a6 4. Ba4 Nf6 5. O-...</td>\n",
       "      <td>berlin ger</td>\n",
       "      <td>False</td>\n",
       "      <td>2.1</td>\n",
       "      <td>C88</td>\n",
       "      <td>ruy lopez</td>\n",
       "      <td>2.01619e+06</td>\n",
       "      <td>1.33005e+07</td>\n",
       "      <td>2736.0</td>\n",
       "      <td>2772.0</td>\n",
       "      <td>closed, 7...o-o</td>\n",
       "      <td>gm</td>\n",
       "      <td>gm</td>\n",
       "      <td>NaN</td>\n",
       "      <td>2022-02-15</td>\n",
       "      <td>2.0</td>\n",
       "      <td>55.0</td>\n",
       "    </tr>\n",
       "  </tbody>\n",
       "</table>\n",
       "</div>"
      ],
      "text/plain": [
       "                         White              Black        Date   EventDate  \\\n",
       "twic_number                                                                 \n",
       "1424               nakamura,hi          rapport,r  2022-02-12  2022.02.12   \n",
       "1424                 aronian,l  dominguez perez,l  2022-02-12  2022.02.12   \n",
       "1424                 rapport,r        nakamura,hi  2022-02-13  2022.02.12   \n",
       "1424         dominguez perez,l          aronian,l  2022-02-13  2022.02.12   \n",
       "1424               nakamura,hi          aronian,l  2022-02-15  2022.02.12   \n",
       "\n",
       "                                 Event   Result  \\\n",
       "twic_number                                       \n",
       "1424         fide grand prix 1 playoff      1-0   \n",
       "1424         fide grand prix 1 playoff      1-0   \n",
       "1424         fide grand prix 1 playoff  1/2-1/2   \n",
       "1424         fide grand prix 1 playoff  1/2-1/2   \n",
       "1424         fide grand prix 1 playoff  1/2-1/2   \n",
       "\n",
       "                                                mainline_moves        Site  \\\n",
       "twic_number                                                                  \n",
       "1424         1. d4 Nf6 2. c4 e6 3. Nc3 d5 4. cxd5 exd5 5. B...  berlin ger   \n",
       "1424         1. d4 d5 2. c4 dxc4 3. e4 b5 4. a4 c6 5. axb5 ...  berlin ger   \n",
       "1424         1. Nf3 d5 2. g3 Nf6 3. Bg2 e6 4. O-O Be7 5. d3...  berlin ger   \n",
       "1424         1. e4 e5 2. Nf3 Nc6 3. Bc4 Nf6 4. d3 Be7 5. O-...  berlin ger   \n",
       "1424         1. e4 e5 2. Nf3 Nc6 3. Bb5 a6 4. Ba4 Nf6 5. O-...  berlin ger   \n",
       "\n",
       "             Online Round  ECO                                        Opening  \\\n",
       "twic_number                                                                     \n",
       "1424          False   1.1  D36                                            qgd   \n",
       "1424          False   1.1  D20                                            qga   \n",
       "1424          False   1.2  A07                                           reti   \n",
       "1424          False   1.2  C55  two knights defence (modern bishop's opening)   \n",
       "1424          False   2.1  C88                                      ruy lopez   \n",
       "\n",
       "             WhiteFideId  BlackFideId  WhiteElo  BlackElo  \\\n",
       "twic_number                                                 \n",
       "1424         2.01619e+06       738590    2736.0    2763.0   \n",
       "1424         1.33005e+07  3.50324e+06    2772.0    2752.0   \n",
       "1424              738590  2.01619e+06    2763.0    2736.0   \n",
       "1424         3.50324e+06  1.33005e+07    2752.0    2772.0   \n",
       "1424         2.01619e+06  1.33005e+07    2736.0    2772.0   \n",
       "\n",
       "                                        Variation WhiteTitle BlackTitle  \\\n",
       "twic_number                                                               \n",
       "1424             exchange, positional line, 6.qc2         gm         gm   \n",
       "1424                                         3.e4         gm         gm   \n",
       "1424         king's indian attack (barcza system)         gm         gm   \n",
       "1424                                          NaN         gm         gm   \n",
       "1424                              closed, 7...o-o         gm         gm   \n",
       "\n",
       "            EventType      Fecha  Resultado  cant_mov  \n",
       "twic_number                                            \n",
       "1424              NaN 2022-02-12        0.0      72.0  \n",
       "1424              NaN 2022-02-12        0.0      42.0  \n",
       "1424              NaN 2022-02-13        2.0      31.0  \n",
       "1424              NaN 2022-02-13        2.0      32.0  \n",
       "1424              NaN 2022-02-15        2.0      55.0  "
      ]
     },
     "execution_count": 35,
     "metadata": {},
     "output_type": "execute_result"
    }
   ],
   "source": [
    "datos.head()"
   ]
  },
  {
   "attachments": {},
   "cell_type": "markdown",
   "metadata": {},
   "source": [
    "Seguimos filtrando"
   ]
  },
  {
   "cell_type": "code",
   "execution_count": 89,
   "metadata": {},
   "outputs": [
    {
     "data": {
      "text/plain": [
       "White                                                   biswas,karl\n",
       "Black                                                   maloberti,d\n",
       "Date                                                     2012-10-21\n",
       "EventDate                                                2012.10.21\n",
       "Event                                            38th guernsey open\n",
       "Result                                                      1/2-1/2\n",
       "mainline_moves    1. d4 Nf6 2. Nf3 g6 3. c4 Bg7 4. Nc3 d6 5. e4 ...\n",
       "Site                                                   guernsey gci\n",
       "Online                                                        False\n",
       "Round                                                             1\n",
       "ECO                                                             E90\n",
       "Opening                                               king's indian\n",
       "WhiteFideId                                                        \n",
       "BlackFideId                                                  620149\n",
       "WhiteElo                                                        NaN\n",
       "BlackElo                                                       2045\n",
       "Variation                                                     5.nf3\n",
       "WhiteTitle                                                      NaN\n",
       "BlackTitle                                                      NaN\n",
       "EventType                                                     swiss\n",
       "Fecha                                           2012-10-21 00:00:00\n",
       "Resultado                                                         2\n",
       "cant_mov                                                         50\n",
       "Name: 940, dtype: object"
      ]
     },
     "execution_count": 89,
     "metadata": {},
     "output_type": "execute_result"
    }
   ],
   "source": [
    "#datos=datos.drop(1537798)\n",
    "datos.iloc[1537798]"
   ]
  },
  {
   "cell_type": "code",
   "execution_count": 34,
   "metadata": {},
   "outputs": [
    {
     "ename": "IndexError",
     "evalue": "single positional indexer is out-of-bounds",
     "output_type": "error",
     "traceback": [
      "\u001b[1;31m---------------------------------------------------------------------------\u001b[0m",
      "\u001b[1;31mIndexError\u001b[0m                                Traceback (most recent call last)",
      "\u001b[1;32mc:\\Users\\fpeloso\\Digital House\\TP 1 - Grupo 10\\Grupo 10\\DH-TP-1---Grupo-10\\TP FINAL\\Chess\\Borrador Facu.ipynb Cell 44\u001b[0m in \u001b[0;36m<cell line: 2>\u001b[1;34m()\u001b[0m\n\u001b[0;32m      <a href='vscode-notebook-cell:/c%3A/Users/fpeloso/Digital%20House/TP%201%20-%20Grupo%2010/Grupo%2010/DH-TP-1---Grupo-10/TP%20FINAL/Chess/Borrador%20Facu.ipynb#X61sZmlsZQ%3D%3D?line=0'>1</a>\u001b[0m \u001b[39m#datos.drop(labels=1537798, inplace=True)\u001b[39;00m\n\u001b[1;32m----> <a href='vscode-notebook-cell:/c%3A/Users/fpeloso/Digital%20House/TP%201%20-%20Grupo%2010/Grupo%2010/DH-TP-1---Grupo-10/TP%20FINAL/Chess/Borrador%20Facu.ipynb#X61sZmlsZQ%3D%3D?line=1'>2</a>\u001b[0m datos \u001b[39m=\u001b[39m datos\u001b[39m.\u001b[39mdrop(index\u001b[39m=\u001b[39mdatos\u001b[39m.\u001b[39;49miloc[\u001b[39m1537798\u001b[39;49m]\u001b[39m.\u001b[39mname)\n",
      "File \u001b[1;32mc:\\Users\\fpeloso\\Anaconda3\\envs\\dhdsblend2021\\lib\\site-packages\\pandas\\core\\indexing.py:879\u001b[0m, in \u001b[0;36m_LocationIndexer.__getitem__\u001b[1;34m(self, key)\u001b[0m\n\u001b[0;32m    876\u001b[0m axis \u001b[39m=\u001b[39m \u001b[39mself\u001b[39m\u001b[39m.\u001b[39maxis \u001b[39mor\u001b[39;00m \u001b[39m0\u001b[39m\n\u001b[0;32m    878\u001b[0m maybe_callable \u001b[39m=\u001b[39m com\u001b[39m.\u001b[39mapply_if_callable(key, \u001b[39mself\u001b[39m\u001b[39m.\u001b[39mobj)\n\u001b[1;32m--> 879\u001b[0m \u001b[39mreturn\u001b[39;00m \u001b[39mself\u001b[39;49m\u001b[39m.\u001b[39;49m_getitem_axis(maybe_callable, axis\u001b[39m=\u001b[39;49maxis)\n",
      "File \u001b[1;32mc:\\Users\\fpeloso\\Anaconda3\\envs\\dhdsblend2021\\lib\\site-packages\\pandas\\core\\indexing.py:1496\u001b[0m, in \u001b[0;36m_iLocIndexer._getitem_axis\u001b[1;34m(self, key, axis)\u001b[0m\n\u001b[0;32m   1493\u001b[0m     \u001b[39mraise\u001b[39;00m \u001b[39mTypeError\u001b[39;00m(\u001b[39m\"\u001b[39m\u001b[39mCannot index by location index with a non-integer key\u001b[39m\u001b[39m\"\u001b[39m)\n\u001b[0;32m   1495\u001b[0m \u001b[39m# validate the location\u001b[39;00m\n\u001b[1;32m-> 1496\u001b[0m \u001b[39mself\u001b[39;49m\u001b[39m.\u001b[39;49m_validate_integer(key, axis)\n\u001b[0;32m   1498\u001b[0m \u001b[39mreturn\u001b[39;00m \u001b[39mself\u001b[39m\u001b[39m.\u001b[39mobj\u001b[39m.\u001b[39m_ixs(key, axis\u001b[39m=\u001b[39maxis)\n",
      "File \u001b[1;32mc:\\Users\\fpeloso\\Anaconda3\\envs\\dhdsblend2021\\lib\\site-packages\\pandas\\core\\indexing.py:1437\u001b[0m, in \u001b[0;36m_iLocIndexer._validate_integer\u001b[1;34m(self, key, axis)\u001b[0m\n\u001b[0;32m   1435\u001b[0m len_axis \u001b[39m=\u001b[39m \u001b[39mlen\u001b[39m(\u001b[39mself\u001b[39m\u001b[39m.\u001b[39mobj\u001b[39m.\u001b[39m_get_axis(axis))\n\u001b[0;32m   1436\u001b[0m \u001b[39mif\u001b[39;00m key \u001b[39m>\u001b[39m\u001b[39m=\u001b[39m len_axis \u001b[39mor\u001b[39;00m key \u001b[39m<\u001b[39m \u001b[39m-\u001b[39mlen_axis:\n\u001b[1;32m-> 1437\u001b[0m     \u001b[39mraise\u001b[39;00m \u001b[39mIndexError\u001b[39;00m(\u001b[39m\"\u001b[39m\u001b[39msingle positional indexer is out-of-bounds\u001b[39m\u001b[39m\"\u001b[39m)\n",
      "\u001b[1;31mIndexError\u001b[0m: single positional indexer is out-of-bounds"
     ]
    }
   ],
   "source": [
    "#datos.drop(labels=1537798, inplace=True)\n",
    "datos = datos.drop(index=datos.iloc[1537798].name)"
   ]
  },
  {
   "cell_type": "code",
   "execution_count": 35,
   "metadata": {},
   "outputs": [
    {
     "name": "stderr",
     "output_type": "stream",
     "text": [
      "C:\\Users\\fpeloso\\AppData\\Local\\Temp\\ipykernel_2484\\3503574612.py:3: SettingWithCopyWarning: \n",
      "A value is trying to be set on a copy of a slice from a DataFrame.\n",
      "Try using .loc[row_indexer,col_indexer] = value instead\n",
      "\n",
      "See the caveats in the documentation: https://pandas.pydata.org/pandas-docs/stable/user_guide/indexing.html#returning-a-view-versus-a-copy\n",
      "  datos['WhiteFideId'] = pd.to_numeric(datos['WhiteFideId']).convert_dtypes()\n",
      "C:\\Users\\fpeloso\\AppData\\Local\\Temp\\ipykernel_2484\\3503574612.py:5: SettingWithCopyWarning: \n",
      "A value is trying to be set on a copy of a slice from a DataFrame.\n",
      "Try using .loc[row_indexer,col_indexer] = value instead\n",
      "\n",
      "See the caveats in the documentation: https://pandas.pydata.org/pandas-docs/stable/user_guide/indexing.html#returning-a-view-versus-a-copy\n",
      "  datos['BlackFideId'] = pd.to_numeric(datos['BlackFideId']).convert_dtypes()\n"
     ]
    }
   ],
   "source": [
    "# Pasemos los números de identificación fide que son tipo object a enteros:\n",
    "\n",
    "datos['WhiteFideId'] = pd.to_numeric(datos['WhiteFideId']).convert_dtypes() \n",
    "\n",
    "datos['BlackFideId'] = pd.to_numeric(datos['BlackFideId']).convert_dtypes() "
   ]
  },
  {
   "cell_type": "markdown",
   "metadata": {},
   "source": []
  },
  {
   "cell_type": "code",
   "execution_count": 15,
   "metadata": {},
   "outputs": [
    {
     "data": {
      "text/plain": [
       "(1970761, 23)"
      ]
     },
     "execution_count": 15,
     "metadata": {},
     "output_type": "execute_result"
    }
   ],
   "source": [
    "datos.shape"
   ]
  },
  {
   "attachments": {},
   "cell_type": "markdown",
   "metadata": {},
   "source": [
    "## Creamos DF para Blits y Rapid"
   ]
  },
  {
   "cell_type": "code",
   "execution_count": 13,
   "metadata": {},
   "outputs": [],
   "source": [
    "df_bz_rp=datos[(datos.Event.str.contains(\"blitz\")) | (datos.EventType.str.contains(\"blitz\"))|(datos.Event.str.contains(\"rapid\")) | (datos.EventType.str.contains(\"rapid\"))]"
   ]
  },
  {
   "cell_type": "code",
   "execution_count": 14,
   "metadata": {},
   "outputs": [
    {
     "data": {
      "text/plain": [
       "(181540, 23)"
      ]
     },
     "execution_count": 14,
     "metadata": {},
     "output_type": "execute_result"
    }
   ],
   "source": [
    "df_bz_rp.shape"
   ]
  },
  {
   "attachments": {},
   "cell_type": "markdown",
   "metadata": {},
   "source": [
    "# aca tenemos df con bz y rp -- hay que limpiar apertura a partir de aca"
   ]
  },
  {
   "attachments": {},
   "cell_type": "markdown",
   "metadata": {},
   "source": [
    "# luego de limpiar columna apertura: separar en Blitz y Rapid y tenemos los dos df finales , limpios"
   ]
  },
  {
   "cell_type": "code",
   "execution_count": 26,
   "metadata": {},
   "outputs": [
    {
     "data": {
      "text/plain": [
       "sicilian                                        26807\n",
       "french                                           8804\n",
       "king's indian                                    8275\n",
       "queen's pawn game                                8114\n",
       "qgd                                              7541\n",
       "ruy lopez                                        7442\n",
       "caro-kann                                        7258\n",
       "english                                          7154\n",
       "reti                                             5310\n",
       "reti opening                                     5276\n",
       "english opening                                  5038\n",
       "sicilian defence                                 4800\n",
       "queen's pawn                                     4134\n",
       "nimzo-indian                                     3684\n",
       "qgd slav                                         3407\n",
       "queen's indian                                   2171\n",
       "giuoco piano                                     2163\n",
       "gruenfeld                                        2150\n",
       "catalan                                          2092\n",
       "trompovsky attack (ruth, opovcensky opening)     1897\n",
       "Name: Opening, dtype: int64"
      ]
     },
     "execution_count": 26,
     "metadata": {},
     "output_type": "execute_result"
    }
   ],
   "source": [
    "df_bz_rp.Opening.value_counts().head(20)"
   ]
  },
  {
   "attachments": {},
   "cell_type": "markdown",
   "metadata": {},
   "source": [
    "## tomamos el top 20 de apertura... quedan 120k registros de juegos   . es suficiente.. hay que limpiar la lista de 20\n",
    "\n",
    "el resto quedan en \"otros\" y mantenenmos 180 mil registros de bz y rp juntos"
   ]
  },
  {
   "cell_type": "code",
   "execution_count": 27,
   "metadata": {},
   "outputs": [
    {
     "data": {
      "text/plain": [
       "Index(['White', 'Black', 'Date', 'EventDate', 'Event', 'Result',\n",
       "       'mainline_moves', 'Site', 'Online', 'Round', 'ECO', 'Opening',\n",
       "       'WhiteFideId', 'BlackFideId', 'WhiteElo', 'BlackElo', 'Variation',\n",
       "       'WhiteTitle', 'BlackTitle', 'EventType', 'Fecha', 'Resultado',\n",
       "       'cant_mov'],\n",
       "      dtype='object')"
      ]
     },
     "execution_count": 27,
     "metadata": {},
     "output_type": "execute_result"
    }
   ],
   "source": [
    "df_bz_rp.columns"
   ]
  },
  {
   "cell_type": "code",
   "execution_count": 28,
   "metadata": {},
   "outputs": [],
   "source": [
    "df_bz_rp=df_bz_rp.drop(columns=['Date','EventDate','Fecha','ECO','Site','Round','Variation','Online','mainline_moves','WhiteTitle','BlackTitle'])"
   ]
  },
  {
   "cell_type": "code",
   "execution_count": 29,
   "metadata": {},
   "outputs": [
    {
     "data": {
      "text/plain": [
       "Index(['White', 'Black', 'Event', 'Result', 'Opening', 'WhiteFideId',\n",
       "       'BlackFideId', 'WhiteElo', 'BlackElo', 'EventType', 'Resultado',\n",
       "       'cant_mov'],\n",
       "      dtype='object')"
      ]
     },
     "execution_count": 29,
     "metadata": {},
     "output_type": "execute_result"
    }
   ],
   "source": [
    "df_bz_rp.columns"
   ]
  },
  {
   "cell_type": "code",
   "execution_count": 32,
   "metadata": {},
   "outputs": [],
   "source": [
    "df_bz_rp=df_bz_rp.reset_index(drop=True)"
   ]
  },
  {
   "cell_type": "code",
   "execution_count": 33,
   "metadata": {},
   "outputs": [
    {
     "data": {
      "text/html": [
       "<div>\n",
       "<style scoped>\n",
       "    .dataframe tbody tr th:only-of-type {\n",
       "        vertical-align: middle;\n",
       "    }\n",
       "\n",
       "    .dataframe tbody tr th {\n",
       "        vertical-align: top;\n",
       "    }\n",
       "\n",
       "    .dataframe thead th {\n",
       "        text-align: right;\n",
       "    }\n",
       "</style>\n",
       "<table border=\"1\" class=\"dataframe\">\n",
       "  <thead>\n",
       "    <tr style=\"text-align: right;\">\n",
       "      <th></th>\n",
       "      <th>White</th>\n",
       "      <th>Black</th>\n",
       "      <th>Event</th>\n",
       "      <th>Result</th>\n",
       "      <th>Opening</th>\n",
       "      <th>WhiteFideId</th>\n",
       "      <th>BlackFideId</th>\n",
       "      <th>WhiteElo</th>\n",
       "      <th>BlackElo</th>\n",
       "      <th>EventType</th>\n",
       "      <th>Resultado</th>\n",
       "      <th>cant_mov</th>\n",
       "    </tr>\n",
       "  </thead>\n",
       "  <tbody>\n",
       "    <tr>\n",
       "      <th>0</th>\n",
       "      <td>tukhaev,a</td>\n",
       "      <td>carlsen,m</td>\n",
       "      <td>world rapid 2018</td>\n",
       "      <td>1-0</td>\n",
       "      <td>sicilian</td>\n",
       "      <td>1.41095e+07</td>\n",
       "      <td>1.50301e+06</td>\n",
       "      <td>2527.0</td>\n",
       "      <td>2835.0</td>\n",
       "      <td>NaN</td>\n",
       "      <td>0.0</td>\n",
       "      <td>73.0</td>\n",
       "    </tr>\n",
       "    <tr>\n",
       "      <th>1</th>\n",
       "      <td>nakamura,hi</td>\n",
       "      <td>teske,h</td>\n",
       "      <td>world rapid 2018</td>\n",
       "      <td>1-0</td>\n",
       "      <td>reti opening</td>\n",
       "      <td>2.01619e+06</td>\n",
       "      <td>4.6115e+06</td>\n",
       "      <td>2746.0</td>\n",
       "      <td>2483.0</td>\n",
       "      <td>NaN</td>\n",
       "      <td>0.0</td>\n",
       "      <td>49.0</td>\n",
       "    </tr>\n",
       "    <tr>\n",
       "      <th>2</th>\n",
       "      <td>tari,a</td>\n",
       "      <td>artemiev,v</td>\n",
       "      <td>world rapid 2018</td>\n",
       "      <td>0-1</td>\n",
       "      <td>sicilian</td>\n",
       "      <td>1.51004e+06</td>\n",
       "      <td>2.41016e+07</td>\n",
       "      <td>2620.0</td>\n",
       "      <td>2709.0</td>\n",
       "      <td>NaN</td>\n",
       "      <td>1.0</td>\n",
       "      <td>61.0</td>\n",
       "    </tr>\n",
       "    <tr>\n",
       "      <th>3</th>\n",
       "      <td>fedoseev,vl3</td>\n",
       "      <td>tregubov,p</td>\n",
       "      <td>world rapid 2018</td>\n",
       "      <td>1/2-1/2</td>\n",
       "      <td>petrov's defence</td>\n",
       "      <td>2.41307e+07</td>\n",
       "      <td>4.11534e+06</td>\n",
       "      <td>2719.0</td>\n",
       "      <td>2592.0</td>\n",
       "      <td>NaN</td>\n",
       "      <td>2.0</td>\n",
       "      <td>64.0</td>\n",
       "    </tr>\n",
       "    <tr>\n",
       "      <th>4</th>\n",
       "      <td>hovhannisyan,r</td>\n",
       "      <td>aronian,l</td>\n",
       "      <td>world rapid 2018</td>\n",
       "      <td>1-0</td>\n",
       "      <td>robatsch defence</td>\n",
       "      <td>1.33025e+07</td>\n",
       "      <td>1.33005e+07</td>\n",
       "      <td>2637.0</td>\n",
       "      <td>2765.0</td>\n",
       "      <td>NaN</td>\n",
       "      <td>0.0</td>\n",
       "      <td>68.0</td>\n",
       "    </tr>\n",
       "  </tbody>\n",
       "</table>\n",
       "</div>"
      ],
      "text/plain": [
       "            White       Black             Event   Result           Opening  \\\n",
       "0       tukhaev,a   carlsen,m  world rapid 2018      1-0          sicilian   \n",
       "1     nakamura,hi     teske,h  world rapid 2018      1-0      reti opening   \n",
       "2          tari,a  artemiev,v  world rapid 2018      0-1          sicilian   \n",
       "3    fedoseev,vl3  tregubov,p  world rapid 2018  1/2-1/2  petrov's defence   \n",
       "4  hovhannisyan,r   aronian,l  world rapid 2018      1-0  robatsch defence   \n",
       "\n",
       "   WhiteFideId  BlackFideId  WhiteElo  BlackElo EventType  Resultado  cant_mov  \n",
       "0  1.41095e+07  1.50301e+06    2527.0    2835.0       NaN        0.0      73.0  \n",
       "1  2.01619e+06   4.6115e+06    2746.0    2483.0       NaN        0.0      49.0  \n",
       "2  1.51004e+06  2.41016e+07    2620.0    2709.0       NaN        1.0      61.0  \n",
       "3  2.41307e+07  4.11534e+06    2719.0    2592.0       NaN        2.0      64.0  \n",
       "4  1.33025e+07  1.33005e+07    2637.0    2765.0       NaN        0.0      68.0  "
      ]
     },
     "execution_count": 33,
     "metadata": {},
     "output_type": "execute_result"
    }
   ],
   "source": [
    "df_bz_rp.head(5)"
   ]
  },
  {
   "attachments": {},
   "cell_type": "markdown",
   "metadata": {},
   "source": [
    "una vez separamos rapid y blitz las columnas event y eventtype se borran"
   ]
  },
  {
   "cell_type": "code",
   "execution_count": 37,
   "metadata": {},
   "outputs": [],
   "source": [
    "aux_value_counts=df_bz_rp.WhiteFideId.value_counts()"
   ]
  },
  {
   "cell_type": "code",
   "execution_count": 42,
   "metadata": {},
   "outputs": [
    {
     "ename": "TypeError",
     "evalue": "dropna() got an unexpected keyword argument 'labels'",
     "output_type": "error",
     "traceback": [
      "\u001b[1;31m---------------------------------------------------------------------------\u001b[0m",
      "\u001b[1;31mTypeError\u001b[0m                                 Traceback (most recent call last)",
      "\u001b[1;32mc:\\Users\\fpeloso\\Digital House\\TP 1 - Grupo 10\\Grupo 10\\DH-TP-1---Grupo-10\\TP FINAL\\Chess\\Main Borrador.ipynb Cell 62\u001b[0m in \u001b[0;36m<cell line: 1>\u001b[1;34m()\u001b[0m\n\u001b[1;32m----> <a href='vscode-notebook-cell:/c%3A/Users/fpeloso/Digital%20House/TP%201%20-%20Grupo%2010/Grupo%2010/DH-TP-1---Grupo-10/TP%20FINAL/Chess/Main%20Borrador.ipynb#Y250sZmlsZQ%3D%3D?line=0'>1</a>\u001b[0m df_bz_rp\u001b[39m=\u001b[39mdf_bz_rp\u001b[39m.\u001b[39;49mdropna(labels\u001b[39m=\u001b[39;49m[\u001b[39m'\u001b[39;49m\u001b[39mWhiteElo\u001b[39;49m\u001b[39m'\u001b[39;49m,\u001b[39m'\u001b[39;49m\u001b[39mBlackElo\u001b[39;49m\u001b[39m'\u001b[39;49m])\n",
      "\u001b[1;31mTypeError\u001b[0m: dropna() got an unexpected keyword argument 'labels'"
     ]
    }
   ],
   "source": []
  },
  {
   "cell_type": "code",
   "execution_count": 38,
   "metadata": {},
   "outputs": [],
   "source": [
    "top100=aux_value_counts[aux_value_counts>100].index"
   ]
  },
  {
   "cell_type": "code",
   "execution_count": 39,
   "metadata": {},
   "outputs": [
    {
     "ename": "KeyError",
     "evalue": "\"Passing list-likes to .loc or [] with any missing labels is no longer supported. The following labels were missing: Index([13401319.0, 13300474.0,  2016192.0,  4126025.0,  4157800.0,\\n       ...\\n       12401226.0,  1112848.0, 24101923.0,  2059630.0, 13306677.0],\\n      dtype='object', length=286). See https://pandas.pydata.org/pandas-docs/stable/user_guide/indexing.html#deprecate-loc-reindex-listlike\"",
     "output_type": "error",
     "traceback": [
      "\u001b[1;31m---------------------------------------------------------------------------\u001b[0m",
      "\u001b[1;31mKeyError\u001b[0m                                  Traceback (most recent call last)",
      "\u001b[1;32mc:\\Users\\fpeloso\\Digital House\\TP 1 - Grupo 10\\Grupo 10\\DH-TP-1---Grupo-10\\TP FINAL\\Chess\\Main Borrador.ipynb Cell 63\u001b[0m in \u001b[0;36m<cell line: 1>\u001b[1;34m()\u001b[0m\n\u001b[1;32m----> <a href='vscode-notebook-cell:/c%3A/Users/fpeloso/Digital%20House/TP%201%20-%20Grupo%2010/Grupo%2010/DH-TP-1---Grupo-10/TP%20FINAL/Chess/Main%20Borrador.ipynb#Y246sZmlsZQ%3D%3D?line=0'>1</a>\u001b[0m df_bz_rp_top100\u001b[39m=\u001b[39mdf_bz_rp\u001b[39m.\u001b[39;49mloc[top100]\n",
      "File \u001b[1;32mc:\\Users\\fpeloso\\Anaconda3\\envs\\dhdsblend2021\\lib\\site-packages\\pandas\\core\\indexing.py:879\u001b[0m, in \u001b[0;36m_LocationIndexer.__getitem__\u001b[1;34m(self, key)\u001b[0m\n\u001b[0;32m    876\u001b[0m axis \u001b[39m=\u001b[39m \u001b[39mself\u001b[39m\u001b[39m.\u001b[39maxis \u001b[39mor\u001b[39;00m \u001b[39m0\u001b[39m\n\u001b[0;32m    878\u001b[0m maybe_callable \u001b[39m=\u001b[39m com\u001b[39m.\u001b[39mapply_if_callable(key, \u001b[39mself\u001b[39m\u001b[39m.\u001b[39mobj)\n\u001b[1;32m--> 879\u001b[0m \u001b[39mreturn\u001b[39;00m \u001b[39mself\u001b[39;49m\u001b[39m.\u001b[39;49m_getitem_axis(maybe_callable, axis\u001b[39m=\u001b[39;49maxis)\n",
      "File \u001b[1;32mc:\\Users\\fpeloso\\Anaconda3\\envs\\dhdsblend2021\\lib\\site-packages\\pandas\\core\\indexing.py:1099\u001b[0m, in \u001b[0;36m_LocIndexer._getitem_axis\u001b[1;34m(self, key, axis)\u001b[0m\n\u001b[0;32m   1096\u001b[0m     \u001b[39mif\u001b[39;00m \u001b[39mhasattr\u001b[39m(key, \u001b[39m\"\u001b[39m\u001b[39mndim\u001b[39m\u001b[39m\"\u001b[39m) \u001b[39mand\u001b[39;00m key\u001b[39m.\u001b[39mndim \u001b[39m>\u001b[39m \u001b[39m1\u001b[39m:\n\u001b[0;32m   1097\u001b[0m         \u001b[39mraise\u001b[39;00m \u001b[39mValueError\u001b[39;00m(\u001b[39m\"\u001b[39m\u001b[39mCannot index with multidimensional key\u001b[39m\u001b[39m\"\u001b[39m)\n\u001b[1;32m-> 1099\u001b[0m     \u001b[39mreturn\u001b[39;00m \u001b[39mself\u001b[39;49m\u001b[39m.\u001b[39;49m_getitem_iterable(key, axis\u001b[39m=\u001b[39;49maxis)\n\u001b[0;32m   1101\u001b[0m \u001b[39m# nested tuple slicing\u001b[39;00m\n\u001b[0;32m   1102\u001b[0m \u001b[39mif\u001b[39;00m is_nested_tuple(key, labels):\n",
      "File \u001b[1;32mc:\\Users\\fpeloso\\Anaconda3\\envs\\dhdsblend2021\\lib\\site-packages\\pandas\\core\\indexing.py:1037\u001b[0m, in \u001b[0;36m_LocIndexer._getitem_iterable\u001b[1;34m(self, key, axis)\u001b[0m\n\u001b[0;32m   1034\u001b[0m \u001b[39mself\u001b[39m\u001b[39m.\u001b[39m_validate_key(key, axis)\n\u001b[0;32m   1036\u001b[0m \u001b[39m# A collection of keys\u001b[39;00m\n\u001b[1;32m-> 1037\u001b[0m keyarr, indexer \u001b[39m=\u001b[39m \u001b[39mself\u001b[39;49m\u001b[39m.\u001b[39;49m_get_listlike_indexer(key, axis, raise_missing\u001b[39m=\u001b[39;49m\u001b[39mFalse\u001b[39;49;00m)\n\u001b[0;32m   1038\u001b[0m \u001b[39mreturn\u001b[39;00m \u001b[39mself\u001b[39m\u001b[39m.\u001b[39mobj\u001b[39m.\u001b[39m_reindex_with_indexers(\n\u001b[0;32m   1039\u001b[0m     {axis: [keyarr, indexer]}, copy\u001b[39m=\u001b[39m\u001b[39mTrue\u001b[39;00m, allow_dups\u001b[39m=\u001b[39m\u001b[39mTrue\u001b[39;00m\n\u001b[0;32m   1040\u001b[0m )\n",
      "File \u001b[1;32mc:\\Users\\fpeloso\\Anaconda3\\envs\\dhdsblend2021\\lib\\site-packages\\pandas\\core\\indexing.py:1254\u001b[0m, in \u001b[0;36m_LocIndexer._get_listlike_indexer\u001b[1;34m(self, key, axis, raise_missing)\u001b[0m\n\u001b[0;32m   1251\u001b[0m \u001b[39melse\u001b[39;00m:\n\u001b[0;32m   1252\u001b[0m     keyarr, indexer, new_indexer \u001b[39m=\u001b[39m ax\u001b[39m.\u001b[39m_reindex_non_unique(keyarr)\n\u001b[1;32m-> 1254\u001b[0m \u001b[39mself\u001b[39;49m\u001b[39m.\u001b[39;49m_validate_read_indexer(keyarr, indexer, axis, raise_missing\u001b[39m=\u001b[39;49mraise_missing)\n\u001b[0;32m   1255\u001b[0m \u001b[39mreturn\u001b[39;00m keyarr, indexer\n",
      "File \u001b[1;32mc:\\Users\\fpeloso\\Anaconda3\\envs\\dhdsblend2021\\lib\\site-packages\\pandas\\core\\indexing.py:1315\u001b[0m, in \u001b[0;36m_LocIndexer._validate_read_indexer\u001b[1;34m(self, key, indexer, axis, raise_missing)\u001b[0m\n\u001b[0;32m   1312\u001b[0m not_found \u001b[39m=\u001b[39m key[missing_mask]\n\u001b[0;32m   1314\u001b[0m \u001b[39mwith\u001b[39;00m option_context(\u001b[39m\"\u001b[39m\u001b[39mdisplay.max_seq_items\u001b[39m\u001b[39m\"\u001b[39m, \u001b[39m10\u001b[39m, \u001b[39m\"\u001b[39m\u001b[39mdisplay.width\u001b[39m\u001b[39m\"\u001b[39m, \u001b[39m80\u001b[39m):\n\u001b[1;32m-> 1315\u001b[0m     \u001b[39mraise\u001b[39;00m \u001b[39mKeyError\u001b[39;00m(\n\u001b[0;32m   1316\u001b[0m         \u001b[39m\"\u001b[39m\u001b[39mPassing list-likes to .loc or [] with any missing labels \u001b[39m\u001b[39m\"\u001b[39m\n\u001b[0;32m   1317\u001b[0m         \u001b[39m\"\u001b[39m\u001b[39mis no longer supported. \u001b[39m\u001b[39m\"\u001b[39m\n\u001b[0;32m   1318\u001b[0m         \u001b[39mf\u001b[39m\u001b[39m\"\u001b[39m\u001b[39mThe following labels were missing: \u001b[39m\u001b[39m{\u001b[39;00mnot_found\u001b[39m}\u001b[39;00m\u001b[39m. \u001b[39m\u001b[39m\"\u001b[39m\n\u001b[0;32m   1319\u001b[0m         \u001b[39m\"\u001b[39m\u001b[39mSee https://pandas.pydata.org/pandas-docs/stable/user_guide/indexing.html#deprecate-loc-reindex-listlike\u001b[39m\u001b[39m\"\u001b[39m  \u001b[39m# noqa:E501\u001b[39;00m\n\u001b[0;32m   1320\u001b[0m     )\n",
      "\u001b[1;31mKeyError\u001b[0m: \"Passing list-likes to .loc or [] with any missing labels is no longer supported. The following labels were missing: Index([13401319.0, 13300474.0,  2016192.0,  4126025.0,  4157800.0,\\n       ...\\n       12401226.0,  1112848.0, 24101923.0,  2059630.0, 13306677.0],\\n      dtype='object', length=286). See https://pandas.pydata.org/pandas-docs/stable/user_guide/indexing.html#deprecate-loc-reindex-listlike\""
     ]
    }
   ],
   "source": [
    "df_bz_rp_top100=df_bz_rp.loc[top100]"
   ]
  },
  {
   "cell_type": "code",
   "execution_count": 11,
   "metadata": {},
   "outputs": [
    {
     "data": {
      "text/plain": [
       "(21162, 23)"
      ]
     },
     "execution_count": 11,
     "metadata": {},
     "output_type": "execute_result"
    }
   ],
   "source": [
    "# Hagamos un df con partidas blitz\n",
    "datos_blitz = datos[(datos.Event.str.contains(\"blitz\")) | (datos.EventType.str.contains(\"blitz\"))]\n",
    "datos_blitz.shape"
   ]
  },
  {
   "cell_type": "code",
   "execution_count": 16,
   "metadata": {},
   "outputs": [
    {
     "data": {
      "text/plain": [
       "(9269, 23)"
      ]
     },
     "execution_count": 16,
     "metadata": {},
     "output_type": "execute_result"
    }
   ],
   "source": [
    "# Hagamos un df con partidas rápidas\n",
    "datos_rd = datos[(datos.Event.str.contains(\"rapid\")) | (datos.EventType.str.contains(\"rapid\"))]\n",
    "datos_rd.shape"
   ]
  },
  {
   "cell_type": "code",
   "execution_count": 36,
   "metadata": {},
   "outputs": [],
   "source": [
    "datos_blitz=datos"
   ]
  },
  {
   "cell_type": "code",
   "execution_count": 74,
   "metadata": {},
   "outputs": [
    {
     "name": "stderr",
     "output_type": "stream",
     "text": [
      "C:\\Users\\fpeloso\\AppData\\Local\\Temp\\ipykernel_10024\\2232308441.py:1: SettingWithCopyWarning: \n",
      "A value is trying to be set on a copy of a slice from a DataFrame.\n",
      "Try using .loc[row_indexer,col_indexer] = value instead\n",
      "\n",
      "See the caveats in the documentation: https://pandas.pydata.org/pandas-docs/stable/user_guide/indexing.html#returning-a-view-versus-a-copy\n",
      "  datos_blitz['WhiteFideId'] = pd.to_numeric(datos_blitz['WhiteFideId']).convert_dtypes()\n",
      "C:\\Users\\fpeloso\\AppData\\Local\\Temp\\ipykernel_10024\\2232308441.py:3: SettingWithCopyWarning: \n",
      "A value is trying to be set on a copy of a slice from a DataFrame.\n",
      "Try using .loc[row_indexer,col_indexer] = value instead\n",
      "\n",
      "See the caveats in the documentation: https://pandas.pydata.org/pandas-docs/stable/user_guide/indexing.html#returning-a-view-versus-a-copy\n",
      "  datos_blitz['BlackFideId'] = pd.to_numeric(datos_blitz['BlackFideId']).convert_dtypes()\n"
     ]
    }
   ],
   "source": [
    "datos_blitz['WhiteFideId'] = pd.to_numeric(datos_blitz['WhiteFideId']).convert_dtypes() \n",
    "\n",
    "datos_blitz['BlackFideId'] = pd.to_numeric(datos_blitz['BlackFideId']).convert_dtypes() "
   ]
  },
  {
   "cell_type": "code",
   "execution_count": 37,
   "metadata": {},
   "outputs": [],
   "source": [
    "#13300474\n",
    "#738590\n",
    "#4126025\n",
    "#3503240\n",
    "#13401319\n",
    "\n",
    "#623539\n",
    "#14204118\n",
    "#46616543\n",
    "#5029465\n",
    "#4158814\n",
    "\n",
    " \n",
    "masktop_10= (datos_blitz['WhiteFideId']==1503014) | (datos_blitz['WhiteFideId']==4168119) | (datos_blitz['WhiteFideId']==13400924)|(datos_blitz['WhiteFideId']==5000017)|(datos_blitz['WhiteFideId']==5202213)|\\\n",
    "    (datos_blitz['WhiteFideId']==2020009)|(datos_blitz['WhiteFideId']==2016192)|(datos_blitz['WhiteFideId']==24116068)|(datos_blitz['WhiteFideId']==12573981)|(datos_blitz['WhiteFideId']==8603677)\\\n",
    "    |(datos_blitz['WhiteFideId']==13300474)|(datos_blitz['WhiteFideId']==738590)|(datos_blitz['WhiteFideId']==4126025)|(datos_blitz['WhiteFideId']==3503240)|(datos_blitz['WhiteFideId']==13401319)\\\n",
    "    |(datos_blitz['WhiteFideId']==623539)|(datos_blitz['WhiteFideId']==14204118)|(datos_blitz['WhiteFideId']==46616543)|(datos_blitz['WhiteFideId']==5029465)|(datos_blitz['WhiteFideId']==4158814)\n",
    "\n",
    "\n",
    "masktop_10_black= (datos_blitz['BlackFideId']==1503014) | (datos_blitz['BlackFideId']==4168119) | (datos_blitz['BlackFideId']==13400924)|(datos_blitz['BlackFideId']==5000017)|(datos_blitz['BlackFideId']==5202213)|\\\n",
    "    (datos_blitz['BlackFideId']==2020009)|(datos_blitz['BlackFideId']==2016192)|(datos_blitz['BlackFideId']==24116068)|(datos_blitz['BlackFideId']==12573981)|(datos_blitz['BlackFideId']==8603677)\\\n",
    "    |(datos_blitz['BlackFideId']==13300474)|(datos_blitz['BlackFideId']==738590)|(datos_blitz['BlackFideId']==4126025)|(datos_blitz['BlackFideId']==3503240)|(datos_blitz['BlackFideId']==13401319)\\\n",
    "    |(datos_blitz['BlackFideId']==623539)|(datos_blitz['BlackFideId']==14204118)|(datos_blitz['BlackFideId']==46616543)|(datos_blitz['BlackFideId']==5029465)|(datos_blitz['BlackFideId']==4158814)"
   ]
  },
  {
   "cell_type": "code",
   "execution_count": 108,
   "metadata": {},
   "outputs": [],
   "source": [
    "datos_top10=datos_blitz.loc[(masktop_10) & (masktop_10_black) ]"
   ]
  },
  {
   "cell_type": "code",
   "execution_count": 109,
   "metadata": {},
   "outputs": [
    {
     "data": {
      "text/plain": [
       "(7094, 23)"
      ]
     },
     "execution_count": 109,
     "metadata": {},
     "output_type": "execute_result"
    }
   ],
   "source": [
    "datos_top10.shape"
   ]
  },
  {
   "cell_type": "code",
   "execution_count": 40,
   "metadata": {},
   "outputs": [
    {
     "data": {
      "text/plain": [
       "1655"
      ]
     },
     "execution_count": 40,
     "metadata": {},
     "output_type": "execute_result"
    }
   ],
   "source": [
    "datos_top10['Opening'][datos_top10['Opening'].str.len()>24].count()\n"
   ]
  },
  {
   "cell_type": "code",
   "execution_count": 110,
   "metadata": {},
   "outputs": [
    {
     "name": "stderr",
     "output_type": "stream",
     "text": [
      "C:\\Users\\fpeloso\\AppData\\Local\\Temp\\ipykernel_2484\\1185953698.py:1: SettingWithCopyWarning: \n",
      "A value is trying to be set on a copy of a slice from a DataFrame.\n",
      "Try using .loc[row_indexer,col_indexer] = value instead\n",
      "\n",
      "See the caveats in the documentation: https://pandas.pydata.org/pandas-docs/stable/user_guide/indexing.html#returning-a-view-versus-a-copy\n",
      "  datos_top10['apertura']=datos_top10['Opening'].str.split().str[0]\n"
     ]
    }
   ],
   "source": [
    "datos_top10['apertura']=datos_top10['Opening'].str.split().str[0]"
   ]
  },
  {
   "cell_type": "code",
   "execution_count": 19,
   "metadata": {},
   "outputs": [],
   "source": [
    "#data=datos_top10[['WhiteElo','BlackElo','Opening','Variation','Resultado','cant_mov','WhiteFideId','BlackFideId']] "
   ]
  },
  {
   "cell_type": "code",
   "execution_count": 114,
   "metadata": {},
   "outputs": [],
   "source": [
    "data=datos_top10[['WhiteElo','BlackElo','apertura','Resultado','cant_mov','WhiteFideId','BlackFideId']]"
   ]
  },
  {
   "cell_type": "code",
   "execution_count": 115,
   "metadata": {},
   "outputs": [
    {
     "name": "stdout",
     "output_type": "stream",
     "text": [
      "<class 'pandas.core.frame.DataFrame'>\n",
      "Int64Index: 7094 entries, 1260 to 1450\n",
      "Data columns (total 7 columns):\n",
      " #   Column       Non-Null Count  Dtype  \n",
      "---  ------       --------------  -----  \n",
      " 0   WhiteElo     7094 non-null   float64\n",
      " 1   BlackElo     7094 non-null   float64\n",
      " 2   apertura     7058 non-null   object \n",
      " 3   Resultado    7094 non-null   float64\n",
      " 4   cant_mov     7058 non-null   float64\n",
      " 5   WhiteFideId  7094 non-null   Int64  \n",
      " 6   BlackFideId  7094 non-null   Int64  \n",
      "dtypes: Int64(2), float64(4), object(1)\n",
      "memory usage: 457.2+ KB\n"
     ]
    }
   ],
   "source": [
    "data.info()"
   ]
  },
  {
   "cell_type": "code",
   "execution_count": 113,
   "metadata": {},
   "outputs": [
    {
     "data": {
      "text/plain": [
       "2016192     753\n",
       "1503014     671\n",
       "5202213     651\n",
       "13300474    604\n",
       "623539      585\n",
       "2020009     508\n",
       "4168119     436\n",
       "24116068    435\n",
       "13401319    402\n",
       "4126025     362\n",
       "8603677     341\n",
       "5000017     265\n",
       "12573981    251\n",
       "3503240     186\n",
       "13400924    162\n",
       "5029465     138\n",
       "4158814     122\n",
       "738590      113\n",
       "14204118     91\n",
       "46616543     18\n",
       "Name: WhiteFideId, dtype: Int64"
      ]
     },
     "execution_count": 113,
     "metadata": {},
     "output_type": "execute_result"
    }
   ],
   "source": [
    "data.WhiteFideId.value_counts().head(30)"
   ]
  },
  {
   "cell_type": "code",
   "execution_count": 116,
   "metadata": {},
   "outputs": [],
   "source": [
    "data=data.dropna(axis=0)"
   ]
  },
  {
   "cell_type": "code",
   "execution_count": 30,
   "metadata": {},
   "outputs": [],
   "source": [
    "#data['cant_mov']=data['mainline_moves']"
   ]
  },
  {
   "attachments": {},
   "cell_type": "markdown",
   "metadata": {},
   "source": [
    "# Pruebo modelos para predecir Resultado"
   ]
  },
  {
   "cell_type": "code",
   "execution_count": 117,
   "metadata": {},
   "outputs": [],
   "source": [
    "#X = data[['WhiteElo','BlackElo','Opening','Variation','cant_mov','WhiteFideId','BlackFideId']]\n",
    "X = data[['WhiteElo','BlackElo','apertura','cant_mov','WhiteFideId','BlackFideId']]\n",
    "#Vector Target\n",
    "y = data.Resultado\n"
   ]
  },
  {
   "cell_type": "code",
   "execution_count": 32,
   "metadata": {},
   "outputs": [],
   "source": [
    "#Hago dummies\n",
    "## hago dummies de barrios y tipo de propiedad\n",
    "#from sklearn.preprocessing import OneHotEncoder\n",
    "#categoricals = ['Opening', 'Variation']\n",
    "#enc = OneHotEncoder(drop='first')\n",
    "#X = listings_modelo[categoricals]\n",
    "#enc.fit(X)\n",
    "#enc.categories_"
   ]
  },
  {
   "cell_type": "code",
   "execution_count": 33,
   "metadata": {},
   "outputs": [],
   "source": [
    "#enc=OneHotEncoder(drop='first')"
   ]
  },
  {
   "cell_type": "code",
   "execution_count": 34,
   "metadata": {},
   "outputs": [],
   "source": [
    "#X_d=data[categoricals]"
   ]
  },
  {
   "cell_type": "code",
   "execution_count": 35,
   "metadata": {},
   "outputs": [],
   "source": [
    "#X_d.head(2)"
   ]
  },
  {
   "cell_type": "code",
   "execution_count": 36,
   "metadata": {},
   "outputs": [],
   "source": [
    "#enc.fit(X_d)\n",
    "#enc.categories_"
   ]
  },
  {
   "cell_type": "code",
   "execution_count": 37,
   "metadata": {},
   "outputs": [
    {
     "data": {
      "text/plain": [
       "\"dummies = enc.transform(X_d).toarray()\\ndummies_df = pd.DataFrame(dummies)\\ncol_names = [categoricals[i] + '_' + enc.categories_[i] for i in range(len(categoricals))]\\ncol_names_drop_first = [sublist[i] for sublist in col_names for i in range(len(sublist)) if i !=0]\\ndummies_df.columns = col_names_drop_first\\n#dummies_df\""
      ]
     },
     "execution_count": 37,
     "metadata": {},
     "output_type": "execute_result"
    }
   ],
   "source": [
    "'''dummies = enc.transform(X_d).toarray()\n",
    "dummies_df = pd.DataFrame(dummies)\n",
    "col_names = [categoricals[i] + '_' + enc.categories_[i] for i in range(len(categoricals))]\n",
    "col_names_drop_first = [sublist[i] for sublist in col_names for i in range(len(sublist)) if i !=0]\n",
    "dummies_df.columns = col_names_drop_first\n",
    "#dummies_df'''"
   ]
  },
  {
   "cell_type": "code",
   "execution_count": 38,
   "metadata": {},
   "outputs": [],
   "source": [
    "#dummies_df.head()"
   ]
  },
  {
   "cell_type": "code",
   "execution_count": 39,
   "metadata": {},
   "outputs": [],
   "source": [
    "#X_dum = X.drop(categoricals, axis=1)\n",
    "#X = pd.concat([X_dum, dummies_df], axis=1)"
   ]
  },
  {
   "cell_type": "code",
   "execution_count": 40,
   "metadata": {},
   "outputs": [],
   "source": [
    "#X = pd.concat([X_dum, dummies_df], axis=1)"
   ]
  },
  {
   "cell_type": "code",
   "execution_count": 22,
   "metadata": {},
   "outputs": [],
   "source": [
    "#MaskDummies3 = datos['barrio'].isin(ListDummies)\n",
    "#datosDummies = pd.get_dummies(datos[MaskDummies3]['barrio'])\n",
    "#datos = pd.merge(datos, datosDummies, how='left', left_index=True, right_index=True)\n",
    "#datos\n",
    "\n",
    "#pd.get_dummies(data=df, columns=['A', 'B'])\n",
    "\n",
    "#X_dum=pd.get_dummies(data=X,columns=['Opening','Variation','WhiteFideId','BlackFideId'])"
   ]
  },
  {
   "cell_type": "code",
   "execution_count": 119,
   "metadata": {},
   "outputs": [],
   "source": [
    "X_dum=pd.get_dummies(data=X,columns=['apertura','WhiteFideId','BlackFideId'])"
   ]
  },
  {
   "cell_type": "code",
   "execution_count": 120,
   "metadata": {},
   "outputs": [
    {
     "data": {
      "text/plain": [
       "(7058, 119)"
      ]
     },
     "execution_count": 120,
     "metadata": {},
     "output_type": "execute_result"
    }
   ],
   "source": [
    "X_dum.shape"
   ]
  },
  {
   "cell_type": "code",
   "execution_count": 121,
   "metadata": {},
   "outputs": [
    {
     "data": {
      "text/plain": [
       "2.0    3412\n",
       "0.0    2160\n",
       "1.0    1486\n",
       "Name: Resultado, dtype: int64"
      ]
     },
     "execution_count": 121,
     "metadata": {},
     "output_type": "execute_result"
    }
   ],
   "source": [
    "y.value_counts()"
   ]
  },
  {
   "cell_type": "code",
   "execution_count": null,
   "metadata": {},
   "outputs": [],
   "source": []
  },
  {
   "attachments": {},
   "cell_type": "markdown",
   "metadata": {},
   "source": [
    "Separo en Train y Test"
   ]
  },
  {
   "cell_type": "code",
   "execution_count": 122,
   "metadata": {},
   "outputs": [],
   "source": [
    "X_train, X_test, y_train, y_test = train_test_split(X_dum, y, test_size=0.2, random_state=1, stratify=y)"
   ]
  },
  {
   "cell_type": "code",
   "execution_count": 45,
   "metadata": {},
   "outputs": [],
   "source": [
    "#X_train, X_test, y_train, y_test = train_test_split(X_dum, y, test_size=0.2, random_state=1)#, stratify=y)"
   ]
  },
  {
   "cell_type": "code",
   "execution_count": 109,
   "metadata": {},
   "outputs": [
    {
     "data": {
      "text/plain": [
       "2.0    1694\n",
       "0.0    1356\n",
       "1.0     986\n",
       "Name: Resultado, dtype: int64"
      ]
     },
     "execution_count": 109,
     "metadata": {},
     "output_type": "execute_result"
    }
   ],
   "source": [
    "y_test.value_counts()"
   ]
  },
  {
   "cell_type": "code",
   "execution_count": 123,
   "metadata": {},
   "outputs": [
    {
     "data": {
      "text/plain": [
       "2.0    0.483711\n",
       "0.0    0.305949\n",
       "1.0    0.210340\n",
       "Name: Resultado, dtype: float64"
      ]
     },
     "execution_count": 123,
     "metadata": {},
     "output_type": "execute_result"
    }
   ],
   "source": [
    "y_test.value_counts()/y_test.size"
   ]
  },
  {
   "attachments": {},
   "cell_type": "markdown",
   "metadata": {},
   "source": [
    "Funcion para evaluar"
   ]
  },
  {
   "cell_type": "code",
   "execution_count": 48,
   "metadata": {},
   "outputs": [],
   "source": [
    "# Funcion para Scores\n",
    "\n",
    "resultados_fin = pd.DataFrame()\n",
    "\n",
    "def evaluacion(y_test, y_pred, model=\"\"):\n",
    "    # Crear diccionario para almacenar los resultados\n",
    "    resultados = {}\n",
    "\n",
    "    # Calcular sensibilidad\n",
    "    sensibilidad = metrics.recall_score(y_test, y_pred, average='macro')\n",
    "    resultados['Sensibilidad'] = round(sensibilidad,2)\n",
    "\n",
    "    # Calcular accuracy\n",
    "    accuracy = metrics.accuracy_score(y_test, y_pred)\n",
    "    resultados['Accuracy'] = round(accuracy,2)\n",
    "\n",
    "    # Calcular precision\n",
    "    precision = metrics.precision_score(y_test, y_pred, average='macro')\n",
    "    resultados['Precision'] = round(precision,2)\n",
    "\n",
    "    # Calcular F1 score\n",
    "    f1_score = metrics.f1_score(y_test, y_pred, average='macro')\n",
    "    resultados['F1 Score'] = round(f1_score,2)\n",
    "\n",
    "    # Graficar matrix de confusion con heatmap\n",
    "    cm = metrics.confusion_matrix(y_test, y_pred)\n",
    "    sns.heatmap(cm, annot=True, fmt=\"d\", xticklabels=np.unique(y_test).tolist(), yticklabels=np.unique(y_pred).tolist())\n",
    "    plt.title(f'Matrix de Confusion {model}')\n",
    "    plt.ylabel('Valor Real')\n",
    "    plt.xlabel('Valor Predicho')\n",
    "    plt.show()\n",
    "\n",
    "    resultado_df = pd.DataFrame.from_dict(resultados, orient='index', columns=[model])\n",
    "    resultados_fin[model]= resultado_df \n",
    "    return resultados_fin.transpose().reset_index().rename(columns={\"index\": \"Modelos\"})"
   ]
  },
  {
   "attachments": {},
   "cell_type": "markdown",
   "metadata": {},
   "source": [
    "Regresion Logistica"
   ]
  },
  {
   "cell_type": "code",
   "execution_count": 124,
   "metadata": {},
   "outputs": [],
   "source": [
    "from sklearn.linear_model import LogisticRegression\n",
    "\n",
    "lr = LogisticRegression(max_iter=2000, random_state=1)\n",
    "\n",
    "lr.fit(X_train, y_train) \n",
    "\n",
    "ypred_lr_train = lr.predict(X_train)\n",
    "ypred_lr_test = lr.predict(X_test)\n"
   ]
  },
  {
   "cell_type": "code",
   "execution_count": 125,
   "metadata": {},
   "outputs": [
    {
     "data": {
      "text/plain": [
       "array([[ 476,   16, 1236],\n",
       "       [ 201,   14,  974],\n",
       "       [ 379,   28, 2322]], dtype=int64)"
      ]
     },
     "execution_count": 125,
     "metadata": {},
     "output_type": "execute_result"
    }
   ],
   "source": [
    "metrics.confusion_matrix(y_train, ypred_lr_train)"
   ]
  },
  {
   "cell_type": "code",
   "execution_count": 126,
   "metadata": {},
   "outputs": [
    {
     "data": {
      "text/plain": [
       "0.49805171803046405"
      ]
     },
     "execution_count": 126,
     "metadata": {},
     "output_type": "execute_result"
    }
   ],
   "source": [
    "metrics.accuracy_score(y_train,ypred_lr_train)"
   ]
  },
  {
   "cell_type": "code",
   "execution_count": 127,
   "metadata": {},
   "outputs": [
    {
     "data": {
      "text/plain": [
       "0.5007082152974505"
      ]
     },
     "execution_count": 127,
     "metadata": {},
     "output_type": "execute_result"
    }
   ],
   "source": [
    "metrics.accuracy_score(y_test,ypred_lr_test)"
   ]
  },
  {
   "cell_type": "code",
   "execution_count": 115,
   "metadata": {},
   "outputs": [
    {
     "data": {
      "text/plain": [
       "0.5019621602065437"
      ]
     },
     "execution_count": 115,
     "metadata": {},
     "output_type": "execute_result"
    }
   ],
   "source": [
    "metrics.recall_score(y_test, ypred_lr_test, average='macro')"
   ]
  },
  {
   "cell_type": "code",
   "execution_count": 116,
   "metadata": {},
   "outputs": [
    {
     "data": {
      "text/plain": [
       "0.5473904863919838"
      ]
     },
     "execution_count": 116,
     "metadata": {},
     "output_type": "execute_result"
    }
   ],
   "source": [
    "metrics.precision_score(y_test, ypred_lr_test, average='macro')"
   ]
  },
  {
   "cell_type": "code",
   "execution_count": 117,
   "metadata": {},
   "outputs": [
    {
     "data": {
      "text/plain": [
       "0.5055933813050858"
      ]
     },
     "execution_count": 117,
     "metadata": {},
     "output_type": "execute_result"
    }
   ],
   "source": [
    "metrics.f1_score(y_test, ypred_lr_test, average='macro')"
   ]
  },
  {
   "cell_type": "code",
   "execution_count": 118,
   "metadata": {},
   "outputs": [
    {
     "data": {
      "text/plain": [
       "array([[ 704,   78,  574],\n",
       "       [ 162,  282,  542],\n",
       "       [ 354,  153, 1187]], dtype=int64)"
      ]
     },
     "execution_count": 118,
     "metadata": {},
     "output_type": "execute_result"
    }
   ],
   "source": [
    "metrics.confusion_matrix(y_test, ypred_lr_test)"
   ]
  },
  {
   "attachments": {},
   "cell_type": "markdown",
   "metadata": {},
   "source": [
    "Naive Bayes"
   ]
  },
  {
   "cell_type": "code",
   "execution_count": 119,
   "metadata": {},
   "outputs": [],
   "source": [
    "from sklearn.naive_bayes import GaussianNB\n",
    "\n",
    "gnb = GaussianNB()\n",
    "\n",
    "gnb.fit(X_train, y_train)\n",
    "\n",
    "\n",
    "ypred_gnb_train = gnb.predict(X_train)\n",
    "\n",
    "\n",
    "ypred_gnb_test = gnb.predict(X_test)"
   ]
  },
  {
   "cell_type": "code",
   "execution_count": 120,
   "metadata": {},
   "outputs": [
    {
     "data": {
      "text/plain": [
       "array([[1644,  325, 3457],\n",
       "       [ 104, 1442, 2399],\n",
       "       [ 201,  293, 6279]], dtype=int64)"
      ]
     },
     "execution_count": 120,
     "metadata": {},
     "output_type": "execute_result"
    }
   ],
   "source": [
    "metrics.confusion_matrix(y_train, ypred_gnb_train)"
   ]
  },
  {
   "cell_type": "code",
   "execution_count": 121,
   "metadata": {},
   "outputs": [
    {
     "data": {
      "text/plain": [
       "array([[ 227,  114, 1015],\n",
       "       [  69,  180,  737],\n",
       "       [  88,  135, 1471]], dtype=int64)"
      ]
     },
     "execution_count": 121,
     "metadata": {},
     "output_type": "execute_result"
    }
   ],
   "source": [
    "metrics.confusion_matrix(y_test, ypred_gnb_test)"
   ]
  },
  {
   "cell_type": "code",
   "execution_count": 122,
   "metadata": {},
   "outputs": [
    {
     "name": "stdout",
     "output_type": "stream",
     "text": [
      "acuracy 0.4653121902874133\n",
      "recall 0.4061062748466775\n",
      "precision 0.4890444423560892\n",
      "f1 0.3712229392712496\n"
     ]
    }
   ],
   "source": [
    "print('acuracy', metrics.accuracy_score(y_test,ypred_gnb_test))\n",
    "print('recall',metrics.recall_score(y_test, ypred_gnb_test, average='macro'))\n",
    "print('precision',metrics.precision_score(y_test, ypred_gnb_test, average='macro'))\n",
    "print('f1',metrics.f1_score(y_test, ypred_gnb_test, average='macro'))"
   ]
  },
  {
   "attachments": {},
   "cell_type": "markdown",
   "metadata": {},
   "source": [
    "### Knn"
   ]
  },
  {
   "cell_type": "code",
   "execution_count": 128,
   "metadata": {},
   "outputs": [
    {
     "name": "stdout",
     "output_type": "stream",
     "text": [
      "Fitting 3 folds for each of 14 candidates, totalling 42 fits\n"
     ]
    },
    {
     "name": "stderr",
     "output_type": "stream",
     "text": [
      "[Parallel(n_jobs=-1)]: Using backend LokyBackend with 4 concurrent workers.\n",
      "[Parallel(n_jobs=-1)]: Done  42 out of  42 | elapsed:   23.0s finished\n"
     ]
    },
    {
     "data": {
      "text/plain": [
       "GridSearchCV(cv=3, estimator=KNeighborsClassifier(), n_jobs=-1,\n",
       "             param_grid={'n_neighbors': [1, 2, 3, 4, 5, 6, 7, 8, 9, 10, 11, 12,\n",
       "                                         13, 14]},\n",
       "             verbose=1)"
      ]
     },
     "execution_count": 128,
     "metadata": {},
     "output_type": "execute_result"
    }
   ],
   "source": [
    "from sklearn.neighbors import KNeighborsClassifier\n",
    "\n",
    "knn = KNeighborsClassifier()\n",
    "\n",
    "# Hyperparametros\n",
    "parameters_knn = {\"n_neighbors\" : list(range(1, 15))}\n",
    "\n",
    "clf_knn = GridSearchCV(knn, \n",
    "                   param_grid = parameters_knn, \n",
    "                   refit = True, \n",
    "                   cv = 3,\n",
    "                   verbose=1,\n",
    "                   n_jobs = -1)\n",
    "                   \n",
    "\n",
    "# Fit el modelo ya seleccionado\n",
    "clf_knn.fit(X_train, y_train)"
   ]
  },
  {
   "cell_type": "code",
   "execution_count": 129,
   "metadata": {},
   "outputs": [
    {
     "name": "stdout",
     "output_type": "stream",
     "text": [
      "Los mejores parametros fueron {'n_neighbors': 14} con un score de 0.45\n"
     ]
    }
   ],
   "source": [
    "print(\"Los mejores parametros fueron %s con un score de %0.2f\" % (clf_knn.best_params_, clf_knn.best_score_))"
   ]
  },
  {
   "cell_type": "code",
   "execution_count": 130,
   "metadata": {},
   "outputs": [],
   "source": [
    "ypred_knn_train = clf_knn.predict(X_train)\n",
    "ypred_knn_test = clf_knn.predict(X_test)"
   ]
  },
  {
   "cell_type": "code",
   "execution_count": 131,
   "metadata": {},
   "outputs": [
    {
     "name": "stdout",
     "output_type": "stream",
     "text": [
      "acuracy 0.4461756373937677\n",
      "recall 0.3748207838922822\n",
      "precision 0.3785080044973174\n",
      "f1 0.36784474206349205\n"
     ]
    }
   ],
   "source": [
    "print('acuracy', metrics.accuracy_score(y_test,ypred_knn_test))\n",
    "print('recall',metrics.recall_score(y_test, ypred_knn_test, average='macro'))\n",
    "print('precision',metrics.precision_score(y_test, ypred_knn_test, average='macro'))\n",
    "print('f1',metrics.f1_score(y_test, ypred_knn_test, average='macro'))"
   ]
  },
  {
   "cell_type": "code",
   "execution_count": 33,
   "metadata": {},
   "outputs": [
    {
     "name": "stdout",
     "output_type": "stream",
     "text": [
      "resultados de train\n",
      "0.4819441290029525\n",
      "[[737 258 666]\n",
      " [216 499 567]\n",
      " [287 287 886]]\n",
      "resultados de test\n",
      "0.4550408719346049\n",
      "[[182  51 182]\n",
      " [ 65 111 145]\n",
      " [ 85  72 208]]\n"
     ]
    }
   ],
   "source": [
    "tree_model = tree.DecisionTreeClassifier(min_samples_leaf=20, max_depth=6, random_state=50)\n",
    "tree_model.fit(X_train, y_train)\n",
    "\n",
    "y_train_tree_predict = tree_model.predict(X_train)\n",
    "y_test_tree_predict = tree_model.predict(X_test)\n",
    "\n",
    "print('resultados de train')\n",
    "print(accuracy_score(y_train, y_train_tree_predict))\n",
    "print(confusion_matrix(y_train, y_train_tree_predict))\n",
    "\n",
    "print('resultados de test')\n",
    "print(accuracy_score(y_test, y_test_tree_predict))\n",
    "print(confusion_matrix(y_test, y_test_tree_predict))"
   ]
  },
  {
   "cell_type": "code",
   "execution_count": 34,
   "metadata": {},
   "outputs": [
    {
     "name": "stdout",
     "output_type": "stream",
     "text": [
      "0.9986372927549398\n",
      "[[1660    1    0]\n",
      " [   1 1279    2]\n",
      " [   2    0 1458]]\n",
      "0.4732061762034514\n",
      "[[227  76 112]\n",
      " [ 98 139  84]\n",
      " [135  75 155]]\n"
     ]
    }
   ],
   "source": [
    "from sklearn.ensemble import BaggingClassifier\n",
    "\n",
    "bagging_tree = tree.DecisionTreeClassifier()\n",
    "bagging_clf = BaggingClassifier(base_estimator=bagging_tree, n_estimators=100,\n",
    "                                bootstrap=True, n_jobs=1, random_state=50)\n",
    "bagging_clf.fit(X_train, y_train)\n",
    "\n",
    "print(accuracy_score(y_train, bagging_clf.predict(X_train)))\n",
    "print(confusion_matrix(y_train, bagging_clf.predict(X_train)))\n",
    "\n",
    "print(accuracy_score(y_test, bagging_clf.predict(X_test)))\n",
    "print(confusion_matrix(y_test, bagging_clf.predict(X_test)))"
   ]
  },
  {
   "cell_type": "code",
   "execution_count": 35,
   "metadata": {},
   "outputs": [],
   "source": [
    "from xgboost.sklearn import XGBClassifier\n",
    "model_xg = XGBClassifier(n_jobs=-1, use_label_encoder=False)"
   ]
  },
  {
   "cell_type": "code",
   "execution_count": 36,
   "metadata": {},
   "outputs": [],
   "source": [
    "from sklearn.model_selection import GridSearchCV\n",
    "params = {  \n",
    "    \"n_estimators\": [20,50,500],      # Number of boosted trees to fit.\n",
    "    \"max_depth\": [1,2,3,4],            # Maximum tree depth for base learners.\n",
    "    \"learning_rate\": [0.01, 0.1],      # Boosting learning rate (xgb’s “eta”)\n",
    "}"
   ]
  },
  {
   "cell_type": "code",
   "execution_count": 37,
   "metadata": {},
   "outputs": [],
   "source": [
    "from sklearn.model_selection import cross_val_score, StratifiedKFold\n",
    "cv = StratifiedKFold(n_splits=5, random_state=41, shuffle=True)"
   ]
  },
  {
   "cell_type": "code",
   "execution_count": 38,
   "metadata": {},
   "outputs": [],
   "source": [
    "xgb = GridSearchCV(model_xg, param_grid=params, cv=cv, verbose=1, n_jobs=-1)"
   ]
  },
  {
   "cell_type": "code",
   "execution_count": 39,
   "metadata": {},
   "outputs": [
    {
     "name": "stdout",
     "output_type": "stream",
     "text": [
      "Fitting 5 folds for each of 24 candidates, totalling 120 fits\n"
     ]
    },
    {
     "name": "stderr",
     "output_type": "stream",
     "text": [
      "[Parallel(n_jobs=-1)]: Using backend LokyBackend with 4 concurrent workers.\n",
      "[Parallel(n_jobs=-1)]: Done  42 tasks      | elapsed:  8.2min\n"
     ]
    },
    {
     "ename": "KeyboardInterrupt",
     "evalue": "",
     "output_type": "error",
     "traceback": [
      "\u001b[1;31m---------------------------------------------------------------------------\u001b[0m",
      "\u001b[1;31mKeyboardInterrupt\u001b[0m                         Traceback (most recent call last)",
      "\u001b[1;32mc:\\Users\\fpeloso\\Digital House\\TP 1 - Grupo 10\\Grupo 10\\DH-TP-1---Grupo-10\\TP FINAL\\Chess\\Borrador Facu.ipynb Cell 108\u001b[0m in \u001b[0;36m<cell line: 1>\u001b[1;34m()\u001b[0m\n\u001b[1;32m----> <a href='vscode-notebook-cell:/c%3A/Users/fpeloso/Digital%20House/TP%201%20-%20Grupo%2010/Grupo%2010/DH-TP-1---Grupo-10/TP%20FINAL/Chess/Borrador%20Facu.ipynb#Y210sZmlsZQ%3D%3D?line=0'>1</a>\u001b[0m xgb\u001b[39m.\u001b[39;49mfit(X_train,y_train)\n",
      "File \u001b[1;32mc:\\Users\\fpeloso\\Anaconda3\\envs\\dhdsblend2021\\lib\\site-packages\\sklearn\\utils\\validation.py:72\u001b[0m, in \u001b[0;36m_deprecate_positional_args.<locals>.inner_f\u001b[1;34m(*args, **kwargs)\u001b[0m\n\u001b[0;32m     67\u001b[0m     warnings\u001b[39m.\u001b[39mwarn(\u001b[39m\"\u001b[39m\u001b[39mPass \u001b[39m\u001b[39m{}\u001b[39;00m\u001b[39m as keyword args. From version 0.25 \u001b[39m\u001b[39m\"\u001b[39m\n\u001b[0;32m     68\u001b[0m                   \u001b[39m\"\u001b[39m\u001b[39mpassing these as positional arguments will \u001b[39m\u001b[39m\"\u001b[39m\n\u001b[0;32m     69\u001b[0m                   \u001b[39m\"\u001b[39m\u001b[39mresult in an error\u001b[39m\u001b[39m\"\u001b[39m\u001b[39m.\u001b[39mformat(\u001b[39m\"\u001b[39m\u001b[39m, \u001b[39m\u001b[39m\"\u001b[39m\u001b[39m.\u001b[39mjoin(args_msg)),\n\u001b[0;32m     70\u001b[0m                   \u001b[39mFutureWarning\u001b[39;00m)\n\u001b[0;32m     71\u001b[0m kwargs\u001b[39m.\u001b[39mupdate({k: arg \u001b[39mfor\u001b[39;00m k, arg \u001b[39min\u001b[39;00m \u001b[39mzip\u001b[39m(sig\u001b[39m.\u001b[39mparameters, args)})\n\u001b[1;32m---> 72\u001b[0m \u001b[39mreturn\u001b[39;00m f(\u001b[39m*\u001b[39;49m\u001b[39m*\u001b[39;49mkwargs)\n",
      "File \u001b[1;32mc:\\Users\\fpeloso\\Anaconda3\\envs\\dhdsblend2021\\lib\\site-packages\\sklearn\\model_selection\\_search.py:736\u001b[0m, in \u001b[0;36mBaseSearchCV.fit\u001b[1;34m(self, X, y, groups, **fit_params)\u001b[0m\n\u001b[0;32m    732\u001b[0m         results \u001b[39m=\u001b[39m \u001b[39mself\u001b[39m\u001b[39m.\u001b[39m_format_results(\n\u001b[0;32m    733\u001b[0m             all_candidate_params, scorers, n_splits, all_out)\n\u001b[0;32m    734\u001b[0m         \u001b[39mreturn\u001b[39;00m results\n\u001b[1;32m--> 736\u001b[0m     \u001b[39mself\u001b[39;49m\u001b[39m.\u001b[39;49m_run_search(evaluate_candidates)\n\u001b[0;32m    738\u001b[0m \u001b[39m# For multi-metric evaluation, store the best_index_, best_params_ and\u001b[39;00m\n\u001b[0;32m    739\u001b[0m \u001b[39m# best_score_ iff refit is one of the scorer names\u001b[39;00m\n\u001b[0;32m    740\u001b[0m \u001b[39m# In single metric evaluation, refit_metric is \"score\"\u001b[39;00m\n\u001b[0;32m    741\u001b[0m \u001b[39mif\u001b[39;00m \u001b[39mself\u001b[39m\u001b[39m.\u001b[39mrefit \u001b[39mor\u001b[39;00m \u001b[39mnot\u001b[39;00m \u001b[39mself\u001b[39m\u001b[39m.\u001b[39mmultimetric_:\n\u001b[0;32m    742\u001b[0m     \u001b[39m# If callable, refit is expected to return the index of the best\u001b[39;00m\n\u001b[0;32m    743\u001b[0m     \u001b[39m# parameter set.\u001b[39;00m\n",
      "File \u001b[1;32mc:\\Users\\fpeloso\\Anaconda3\\envs\\dhdsblend2021\\lib\\site-packages\\sklearn\\model_selection\\_search.py:1188\u001b[0m, in \u001b[0;36mGridSearchCV._run_search\u001b[1;34m(self, evaluate_candidates)\u001b[0m\n\u001b[0;32m   1186\u001b[0m \u001b[39mdef\u001b[39;00m \u001b[39m_run_search\u001b[39m(\u001b[39mself\u001b[39m, evaluate_candidates):\n\u001b[0;32m   1187\u001b[0m     \u001b[39m\"\"\"Search all candidates in param_grid\"\"\"\u001b[39;00m\n\u001b[1;32m-> 1188\u001b[0m     evaluate_candidates(ParameterGrid(\u001b[39mself\u001b[39;49m\u001b[39m.\u001b[39;49mparam_grid))\n",
      "File \u001b[1;32mc:\\Users\\fpeloso\\Anaconda3\\envs\\dhdsblend2021\\lib\\site-packages\\sklearn\\model_selection\\_search.py:708\u001b[0m, in \u001b[0;36mBaseSearchCV.fit.<locals>.evaluate_candidates\u001b[1;34m(candidate_params)\u001b[0m\n\u001b[0;32m    703\u001b[0m \u001b[39mif\u001b[39;00m \u001b[39mself\u001b[39m\u001b[39m.\u001b[39mverbose \u001b[39m>\u001b[39m \u001b[39m0\u001b[39m:\n\u001b[0;32m    704\u001b[0m     \u001b[39mprint\u001b[39m(\u001b[39m\"\u001b[39m\u001b[39mFitting \u001b[39m\u001b[39m{0}\u001b[39;00m\u001b[39m folds for each of \u001b[39m\u001b[39m{1}\u001b[39;00m\u001b[39m candidates,\u001b[39m\u001b[39m\"\u001b[39m\n\u001b[0;32m    705\u001b[0m           \u001b[39m\"\u001b[39m\u001b[39m totalling \u001b[39m\u001b[39m{2}\u001b[39;00m\u001b[39m fits\u001b[39m\u001b[39m\"\u001b[39m\u001b[39m.\u001b[39mformat(\n\u001b[0;32m    706\u001b[0m               n_splits, n_candidates, n_candidates \u001b[39m*\u001b[39m n_splits))\n\u001b[1;32m--> 708\u001b[0m out \u001b[39m=\u001b[39m parallel(delayed(_fit_and_score)(clone(base_estimator),\n\u001b[0;32m    709\u001b[0m                                        X, y,\n\u001b[0;32m    710\u001b[0m                                        train\u001b[39m=\u001b[39;49mtrain, test\u001b[39m=\u001b[39;49mtest,\n\u001b[0;32m    711\u001b[0m                                        parameters\u001b[39m=\u001b[39;49mparameters,\n\u001b[0;32m    712\u001b[0m                                        \u001b[39m*\u001b[39;49m\u001b[39m*\u001b[39;49mfit_and_score_kwargs)\n\u001b[0;32m    713\u001b[0m                \u001b[39mfor\u001b[39;49;00m parameters, (train, test)\n\u001b[0;32m    714\u001b[0m                \u001b[39min\u001b[39;49;00m product(candidate_params,\n\u001b[0;32m    715\u001b[0m                           cv\u001b[39m.\u001b[39;49msplit(X, y, groups)))\n\u001b[0;32m    717\u001b[0m \u001b[39mif\u001b[39;00m \u001b[39mlen\u001b[39m(out) \u001b[39m<\u001b[39m \u001b[39m1\u001b[39m:\n\u001b[0;32m    718\u001b[0m     \u001b[39mraise\u001b[39;00m \u001b[39mValueError\u001b[39;00m(\u001b[39m'\u001b[39m\u001b[39mNo fits were performed. \u001b[39m\u001b[39m'\u001b[39m\n\u001b[0;32m    719\u001b[0m                      \u001b[39m'\u001b[39m\u001b[39mWas the CV iterator empty? \u001b[39m\u001b[39m'\u001b[39m\n\u001b[0;32m    720\u001b[0m                      \u001b[39m'\u001b[39m\u001b[39mWere there no candidates?\u001b[39m\u001b[39m'\u001b[39m)\n",
      "File \u001b[1;32mc:\\Users\\fpeloso\\Anaconda3\\envs\\dhdsblend2021\\lib\\site-packages\\joblib\\parallel.py:1056\u001b[0m, in \u001b[0;36mParallel.__call__\u001b[1;34m(self, iterable)\u001b[0m\n\u001b[0;32m   1053\u001b[0m     \u001b[39mself\u001b[39m\u001b[39m.\u001b[39m_iterating \u001b[39m=\u001b[39m \u001b[39mFalse\u001b[39;00m\n\u001b[0;32m   1055\u001b[0m \u001b[39mwith\u001b[39;00m \u001b[39mself\u001b[39m\u001b[39m.\u001b[39m_backend\u001b[39m.\u001b[39mretrieval_context():\n\u001b[1;32m-> 1056\u001b[0m     \u001b[39mself\u001b[39;49m\u001b[39m.\u001b[39;49mretrieve()\n\u001b[0;32m   1057\u001b[0m \u001b[39m# Make sure that we get a last message telling us we are done\u001b[39;00m\n\u001b[0;32m   1058\u001b[0m elapsed_time \u001b[39m=\u001b[39m time\u001b[39m.\u001b[39mtime() \u001b[39m-\u001b[39m \u001b[39mself\u001b[39m\u001b[39m.\u001b[39m_start_time\n",
      "File \u001b[1;32mc:\\Users\\fpeloso\\Anaconda3\\envs\\dhdsblend2021\\lib\\site-packages\\joblib\\parallel.py:935\u001b[0m, in \u001b[0;36mParallel.retrieve\u001b[1;34m(self)\u001b[0m\n\u001b[0;32m    933\u001b[0m \u001b[39mtry\u001b[39;00m:\n\u001b[0;32m    934\u001b[0m     \u001b[39mif\u001b[39;00m \u001b[39mgetattr\u001b[39m(\u001b[39mself\u001b[39m\u001b[39m.\u001b[39m_backend, \u001b[39m'\u001b[39m\u001b[39msupports_timeout\u001b[39m\u001b[39m'\u001b[39m, \u001b[39mFalse\u001b[39;00m):\n\u001b[1;32m--> 935\u001b[0m         \u001b[39mself\u001b[39m\u001b[39m.\u001b[39m_output\u001b[39m.\u001b[39mextend(job\u001b[39m.\u001b[39;49mget(timeout\u001b[39m=\u001b[39;49m\u001b[39mself\u001b[39;49m\u001b[39m.\u001b[39;49mtimeout))\n\u001b[0;32m    936\u001b[0m     \u001b[39melse\u001b[39;00m:\n\u001b[0;32m    937\u001b[0m         \u001b[39mself\u001b[39m\u001b[39m.\u001b[39m_output\u001b[39m.\u001b[39mextend(job\u001b[39m.\u001b[39mget())\n",
      "File \u001b[1;32mc:\\Users\\fpeloso\\Anaconda3\\envs\\dhdsblend2021\\lib\\site-packages\\joblib\\_parallel_backends.py:542\u001b[0m, in \u001b[0;36mLokyBackend.wrap_future_result\u001b[1;34m(future, timeout)\u001b[0m\n\u001b[0;32m    539\u001b[0m \u001b[39m\"\"\"Wrapper for Future.result to implement the same behaviour as\u001b[39;00m\n\u001b[0;32m    540\u001b[0m \u001b[39mAsyncResults.get from multiprocessing.\"\"\"\u001b[39;00m\n\u001b[0;32m    541\u001b[0m \u001b[39mtry\u001b[39;00m:\n\u001b[1;32m--> 542\u001b[0m     \u001b[39mreturn\u001b[39;00m future\u001b[39m.\u001b[39;49mresult(timeout\u001b[39m=\u001b[39;49mtimeout)\n\u001b[0;32m    543\u001b[0m \u001b[39mexcept\u001b[39;00m CfTimeoutError \u001b[39mas\u001b[39;00m e:\n\u001b[0;32m    544\u001b[0m     \u001b[39mraise\u001b[39;00m \u001b[39mTimeoutError\u001b[39;00m \u001b[39mfrom\u001b[39;00m \u001b[39me\u001b[39;00m\n",
      "File \u001b[1;32mc:\\Users\\fpeloso\\Anaconda3\\envs\\dhdsblend2021\\lib\\concurrent\\futures\\_base.py:439\u001b[0m, in \u001b[0;36mFuture.result\u001b[1;34m(self, timeout)\u001b[0m\n\u001b[0;32m    436\u001b[0m \u001b[39melif\u001b[39;00m \u001b[39mself\u001b[39m\u001b[39m.\u001b[39m_state \u001b[39m==\u001b[39m FINISHED:\n\u001b[0;32m    437\u001b[0m     \u001b[39mreturn\u001b[39;00m \u001b[39mself\u001b[39m\u001b[39m.\u001b[39m__get_result()\n\u001b[1;32m--> 439\u001b[0m \u001b[39mself\u001b[39;49m\u001b[39m.\u001b[39;49m_condition\u001b[39m.\u001b[39;49mwait(timeout)\n\u001b[0;32m    441\u001b[0m \u001b[39mif\u001b[39;00m \u001b[39mself\u001b[39m\u001b[39m.\u001b[39m_state \u001b[39min\u001b[39;00m [CANCELLED, CANCELLED_AND_NOTIFIED]:\n\u001b[0;32m    442\u001b[0m     \u001b[39mraise\u001b[39;00m CancelledError()\n",
      "File \u001b[1;32mc:\\Users\\fpeloso\\Anaconda3\\envs\\dhdsblend2021\\lib\\threading.py:302\u001b[0m, in \u001b[0;36mCondition.wait\u001b[1;34m(self, timeout)\u001b[0m\n\u001b[0;32m    300\u001b[0m \u001b[39mtry\u001b[39;00m:    \u001b[39m# restore state no matter what (e.g., KeyboardInterrupt)\u001b[39;00m\n\u001b[0;32m    301\u001b[0m     \u001b[39mif\u001b[39;00m timeout \u001b[39mis\u001b[39;00m \u001b[39mNone\u001b[39;00m:\n\u001b[1;32m--> 302\u001b[0m         waiter\u001b[39m.\u001b[39;49macquire()\n\u001b[0;32m    303\u001b[0m         gotit \u001b[39m=\u001b[39m \u001b[39mTrue\u001b[39;00m\n\u001b[0;32m    304\u001b[0m     \u001b[39melse\u001b[39;00m:\n",
      "\u001b[1;31mKeyboardInterrupt\u001b[0m: "
     ]
    }
   ],
   "source": [
    "xgb.fit(X_train,y_train)"
   ]
  },
  {
   "cell_type": "code",
   "execution_count": 46,
   "metadata": {},
   "outputs": [
    {
     "data": {
      "text/plain": [
       "{'learning_rate': 0.1, 'max_depth': 4, 'n_estimators': 100}"
      ]
     },
     "execution_count": 46,
     "metadata": {},
     "output_type": "execute_result"
    }
   ],
   "source": [
    "xgb.best_params_"
   ]
  },
  {
   "cell_type": "code",
   "execution_count": 47,
   "metadata": {},
   "outputs": [],
   "source": [
    "def evaluar_rendimiento(modelo, nombre, X, y, cv):\n",
    "    s = cross_val_score(modelo, X, y, cv=cv, n_jobs=-1)\n",
    "    print(\"Rendimiento de {}:\\t{:0.3} ± {:0.3}\".format( \\\n",
    "        nombre, s.mean().round(3), s.std().round(3)))"
   ]
  },
  {
   "cell_type": "code",
   "execution_count": 48,
   "metadata": {},
   "outputs": [
    {
     "name": "stdout",
     "output_type": "stream",
     "text": [
      "Rendimiento de XG Boost:\t0.557 ± 0.009\n"
     ]
    }
   ],
   "source": [
    "evaluar_rendimiento(xgb.best_estimator_,\"XG Boost\", X_train, y_train, cv)"
   ]
  },
  {
   "cell_type": "code",
   "execution_count": 39,
   "metadata": {},
   "outputs": [],
   "source": [
    "import warnings\n",
    "warnings.filterwarnings(action='ignore', category=UserWarning)"
   ]
  },
  {
   "cell_type": "code",
   "execution_count": 41,
   "metadata": {},
   "outputs": [
    {
     "name": "stdout",
     "output_type": "stream",
     "text": [
      "0.5547571853320119\n",
      "[[ 657   62  637]\n",
      " [ 135  264  587]\n",
      " [ 271  105 1318]]\n"
     ]
    }
   ],
   "source": [
    "print(accuracy_score(y_test, xgb.best_estimator_.predict(X_test)))\n",
    "print(confusion_matrix(y_test, xgb.best_estimator_.predict(X_test)))"
   ]
  }
 ],
 "metadata": {
  "kernelspec": {
   "display_name": "dhdsblend2021",
   "language": "python",
   "name": "python3"
  },
  "language_info": {
   "codemirror_mode": {
    "name": "ipython",
    "version": 3
   },
   "file_extension": ".py",
   "mimetype": "text/x-python",
   "name": "python",
   "nbconvert_exporter": "python",
   "pygments_lexer": "ipython3",
   "version": "3.8.13"
  },
  "orig_nbformat": 4,
  "vscode": {
   "interpreter": {
    "hash": "b43af2114f43bcf982d0b53b081e4c6c708721cc588721c6f40c2d9852c4cd7b"
   }
  }
 },
 "nbformat": 4,
 "nbformat_minor": 2
}
