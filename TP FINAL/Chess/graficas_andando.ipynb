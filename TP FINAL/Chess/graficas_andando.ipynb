{
  "cells": [
    {
      "cell_type": "markdown",
      "metadata": {
        "id": "8HquAJR2XteV"
      },
      "source": [
        "# Trabajo Práctico Final\n",
        "\n",
        "# Grupo 10\n",
        "### Integrantes:\n",
        "- Facundo Peloso\n",
        "- Eduardo Barbas\n",
        "- Roberto Biancardi \n",
        "- Juan Pablo Anselmo \n",
        "\n",
        "El objetivo de este trabajo práctico es implementar un modelo que pueda predecir el resultado de una partida de ajedrez.\n",
        "\n",
        "Para ello utilizaremos un dataset proporcionado por el sitio Chess.com donde están registradas casi dos millones de partidas desde el 2010 en adelante.\n",
        "\n",
        "Estos datos describen características de los juegos como: \n",
        "\n",
        "La variable target elegida es el \"Resultado\" de la partida."
      ]
    },
    {
      "cell_type": "markdown",
      "metadata": {
        "id": "3f76J33RXteb"
      },
      "source": [
        "## 0. Importación de Módulos y Librerías"
      ]
    },
    {
      "cell_type": "code",
      "execution_count": 322,
      "metadata": {
        "id": "g2kw70aCXtec"
      },
      "outputs": [],
      "source": [
        "#Importacion de librerias/módulos\n",
        "import numpy as np\n",
        "import pandas as pd\n",
        "pd.set_option(\"display.max_columns\", None)\n",
        "import matplotlib.pyplot as plt\n",
        "%matplotlib inline\n",
        "import seaborn as sns\n",
        "sns.set(style=\"darkgrid\")\n",
        "\n",
        "from sklearn.model_selection import train_test_split\n",
        "from sklearn.model_selection import GridSearchCV\n",
        "from sklearn.model_selection import StratifiedKFold\n",
        "from sklearn.linear_model import LogisticRegression\n",
        "from sklearn.model_selection import KFold\n",
        "from sklearn.model_selection import cross_val_score\n",
        "from sklearn.preprocessing import StandardScaler\n",
        "from sklearn.linear_model import LinearRegression\n",
        "from sklearn.naive_bayes import GaussianNB\n",
        "from sklearn.metrics import accuracy_score\n",
        "from sklearn.metrics import recall_score\n",
        "from sklearn.metrics import precision_score\n",
        "from sklearn.metrics import f1_score\n",
        "from sklearn.metrics import confusion_matrix\n",
        "from sklearn.metrics import mean_squared_error\n",
        "from sklearn.neighbors import KNeighborsClassifier\n",
        "import statsmodels.api as sm\n",
        "from statsmodels.tools import eval_measures\n",
        "from sklearn.ensemble import RandomForestRegressor\n",
        "from sklearn.ensemble import ExtraTreesRegressor\n",
        "from sklearn import linear_model\n",
        "from sklearn import metrics\n",
        "from sklearn import tree\n",
        "from sklearn.pipeline import Pipeline\n",
        "from sklearn.ensemble import BaggingClassifier\n",
        "\n",
        "import shelve"
      ]
    },
    {
      "cell_type": "markdown",
      "metadata": {
        "id": "0qA7DQc3Xtef"
      },
      "source": [
        "## 1. Lectura de Datos y Visualización"
      ]
    },
    {
      "cell_type": "code",
      "execution_count": 323,
      "metadata": {
        "id": "EmKplpWkXteg",
        "outputId": "90a22a77-7a1e-46d8-e14b-f68a1ad946b7",
        "colab": {
          "base_uri": "https://localhost:8080/"
        }
      },
      "outputs": [
        {
          "output_type": "stream",
          "name": "stderr",
          "text": [
            "<ipython-input-323-68bcb21f8585>:5: DtypeWarning: Columns (9,10,23,25) have mixed types. Specify dtype option on import or set low_memory=False.\n",
            "  datos_crudos=pd.read_csv(file_location, index_col=0)\n"
          ]
        }
      ],
      "source": [
        "#Establezco la dirección del archivo\n",
        "file_location=\"twic_master.csv\"\n",
        "\n",
        "#Leo el data set usando la librería pandas y se almacena en el objeto Dataframe llamado datos_crudos  \n",
        "datos_crudos=pd.read_csv(file_location, index_col=0)"
      ]
    },
    {
      "cell_type": "code",
      "execution_count": 324,
      "metadata": {
        "id": "hMZ7FdebXtei",
        "outputId": "484b4e54-2275-4c45-e008-5b596cc38b59",
        "colab": {
          "base_uri": "https://localhost:8080/",
          "height": 492
        }
      },
      "outputs": [
        {
          "output_type": "execute_result",
          "data": {
            "text/plain": [
              "                      White       Black        Date   EventDate  \\\n",
              "twic_number                                                       \n",
              "1260              Tukhaev,A   Carlsen,M  2018-12-26  2018.12.26   \n",
              "1260            Nakamura,Hi     Teske,H  2018-12-26  2018.12.26   \n",
              "1260                 Tari,A  Artemiev,V  2018-12-26  2018.12.26   \n",
              "1260           Fedoseev,Vl3  Tregubov,P  2018-12-26  2018.12.26   \n",
              "1260         Hovhannisyan,R   Aronian,L  2018-12-26  2018.12.26   \n",
              "\n",
              "                        Event   Result  \\\n",
              "twic_number                              \n",
              "1260         World Rapid 2018      1-0   \n",
              "1260         World Rapid 2018      1-0   \n",
              "1260         World Rapid 2018      0-1   \n",
              "1260         World Rapid 2018  1/2-1/2   \n",
              "1260         World Rapid 2018      1-0   \n",
              "\n",
              "                                                mainline_moves  \\\n",
              "twic_number                                                      \n",
              "1260         1. e4 c5 2. Nf3 Nc6 3. d4 cxd4 4. Nxd4 Nf6 5. ...   \n",
              "1260         1. Nf3 Nf6 2. g3 d5 3. Bg2 g6 4. c4 dxc4 5. Na...   \n",
              "1260         1. e4 c5 2. Nf3 d6 3. Bb5+ Bd7 4. c4 Nc6 5. d4...   \n",
              "1260         1. e4 e5 2. Nf3 Nf6 3. Nxe5 d6 4. Nd3 Nxe4 5. ...   \n",
              "1260         1. e4 g6 2. d4 Bg7 3. Nc3 c6 4. Nf3 d6 5. h3 N...   \n",
              "\n",
              "                          Site Online Round  ECO           Opening  \\\n",
              "twic_number                                                          \n",
              "1260         St Petersburg RUS  False   1.1  B33          Sicilian   \n",
              "1260         St Petersburg RUS  False   1.2  A05      Reti opening   \n",
              "1260         St Petersburg RUS  False   1.3  B52          Sicilian   \n",
              "1260         St Petersburg RUS  False   1.4  C42  Petrov's defence   \n",
              "1260         St Petersburg RUS  False   1.5  B06  Robatsch defence   \n",
              "\n",
              "             WhiteFideId  BlackFideId  WhiteElo  BlackElo  \\\n",
              "twic_number                                                 \n",
              "1260          14109476.0    1503014.0    2527.0    2835.0   \n",
              "1260           2016192.0    4611500.0    2746.0    2483.0   \n",
              "1260           1510045.0   24101605.0    2620.0    2709.0   \n",
              "1260          24130737.0    4115341.0    2719.0    2592.0   \n",
              "1260          13302507.0   13300474.0    2637.0    2765.0   \n",
              "\n",
              "                                  Variation WhiteTitle BlackTitle WhiteTeam  \\\n",
              "twic_number                                                                   \n",
              "1260         Pelikan, Chelyabinsk variation         GM         GM       NaN   \n",
              "1260                                    NaN         GM         GM       NaN   \n",
              "1260         Canal-Sokolsky attack, 3...Bd7         GM         GM       NaN   \n",
              "1260                                    NaN         GM         GM       NaN   \n",
              "1260         two knights, Suttles variation         GM         GM       NaN   \n",
              "\n",
              "            BlackTeam EventType  FEN  SetUp Variant  Board  PlyCount  \\\n",
              "twic_number                                                            \n",
              "1260              NaN       NaN  NaN    NaN     NaN    NaN       NaN   \n",
              "1260              NaN       NaN  NaN    NaN     NaN    NaN       NaN   \n",
              "1260              NaN       NaN  NaN    NaN     NaN    NaN       NaN   \n",
              "1260              NaN       NaN  NaN    NaN     NaN    NaN       NaN   \n",
              "1260              NaN       NaN  NaN    NaN     NaN    NaN       NaN   \n",
              "\n",
              "             EventCategory  \n",
              "twic_number                 \n",
              "1260                   NaN  \n",
              "1260                   NaN  \n",
              "1260                   NaN  \n",
              "1260                   NaN  \n",
              "1260                   NaN  "
            ],
            "text/html": [
              "\n",
              "  <div id=\"df-4cd21318-74b5-494b-b7ba-89d660cab96d\">\n",
              "    <div class=\"colab-df-container\">\n",
              "      <div>\n",
              "<style scoped>\n",
              "    .dataframe tbody tr th:only-of-type {\n",
              "        vertical-align: middle;\n",
              "    }\n",
              "\n",
              "    .dataframe tbody tr th {\n",
              "        vertical-align: top;\n",
              "    }\n",
              "\n",
              "    .dataframe thead th {\n",
              "        text-align: right;\n",
              "    }\n",
              "</style>\n",
              "<table border=\"1\" class=\"dataframe\">\n",
              "  <thead>\n",
              "    <tr style=\"text-align: right;\">\n",
              "      <th></th>\n",
              "      <th>White</th>\n",
              "      <th>Black</th>\n",
              "      <th>Date</th>\n",
              "      <th>EventDate</th>\n",
              "      <th>Event</th>\n",
              "      <th>Result</th>\n",
              "      <th>mainline_moves</th>\n",
              "      <th>Site</th>\n",
              "      <th>Online</th>\n",
              "      <th>Round</th>\n",
              "      <th>ECO</th>\n",
              "      <th>Opening</th>\n",
              "      <th>WhiteFideId</th>\n",
              "      <th>BlackFideId</th>\n",
              "      <th>WhiteElo</th>\n",
              "      <th>BlackElo</th>\n",
              "      <th>Variation</th>\n",
              "      <th>WhiteTitle</th>\n",
              "      <th>BlackTitle</th>\n",
              "      <th>WhiteTeam</th>\n",
              "      <th>BlackTeam</th>\n",
              "      <th>EventType</th>\n",
              "      <th>FEN</th>\n",
              "      <th>SetUp</th>\n",
              "      <th>Variant</th>\n",
              "      <th>Board</th>\n",
              "      <th>PlyCount</th>\n",
              "      <th>EventCategory</th>\n",
              "    </tr>\n",
              "    <tr>\n",
              "      <th>twic_number</th>\n",
              "      <th></th>\n",
              "      <th></th>\n",
              "      <th></th>\n",
              "      <th></th>\n",
              "      <th></th>\n",
              "      <th></th>\n",
              "      <th></th>\n",
              "      <th></th>\n",
              "      <th></th>\n",
              "      <th></th>\n",
              "      <th></th>\n",
              "      <th></th>\n",
              "      <th></th>\n",
              "      <th></th>\n",
              "      <th></th>\n",
              "      <th></th>\n",
              "      <th></th>\n",
              "      <th></th>\n",
              "      <th></th>\n",
              "      <th></th>\n",
              "      <th></th>\n",
              "      <th></th>\n",
              "      <th></th>\n",
              "      <th></th>\n",
              "      <th></th>\n",
              "      <th></th>\n",
              "      <th></th>\n",
              "      <th></th>\n",
              "    </tr>\n",
              "  </thead>\n",
              "  <tbody>\n",
              "    <tr>\n",
              "      <th>1260</th>\n",
              "      <td>Tukhaev,A</td>\n",
              "      <td>Carlsen,M</td>\n",
              "      <td>2018-12-26</td>\n",
              "      <td>2018.12.26</td>\n",
              "      <td>World Rapid 2018</td>\n",
              "      <td>1-0</td>\n",
              "      <td>1. e4 c5 2. Nf3 Nc6 3. d4 cxd4 4. Nxd4 Nf6 5. ...</td>\n",
              "      <td>St Petersburg RUS</td>\n",
              "      <td>False</td>\n",
              "      <td>1.1</td>\n",
              "      <td>B33</td>\n",
              "      <td>Sicilian</td>\n",
              "      <td>14109476.0</td>\n",
              "      <td>1503014.0</td>\n",
              "      <td>2527.0</td>\n",
              "      <td>2835.0</td>\n",
              "      <td>Pelikan, Chelyabinsk variation</td>\n",
              "      <td>GM</td>\n",
              "      <td>GM</td>\n",
              "      <td>NaN</td>\n",
              "      <td>NaN</td>\n",
              "      <td>NaN</td>\n",
              "      <td>NaN</td>\n",
              "      <td>NaN</td>\n",
              "      <td>NaN</td>\n",
              "      <td>NaN</td>\n",
              "      <td>NaN</td>\n",
              "      <td>NaN</td>\n",
              "    </tr>\n",
              "    <tr>\n",
              "      <th>1260</th>\n",
              "      <td>Nakamura,Hi</td>\n",
              "      <td>Teske,H</td>\n",
              "      <td>2018-12-26</td>\n",
              "      <td>2018.12.26</td>\n",
              "      <td>World Rapid 2018</td>\n",
              "      <td>1-0</td>\n",
              "      <td>1. Nf3 Nf6 2. g3 d5 3. Bg2 g6 4. c4 dxc4 5. Na...</td>\n",
              "      <td>St Petersburg RUS</td>\n",
              "      <td>False</td>\n",
              "      <td>1.2</td>\n",
              "      <td>A05</td>\n",
              "      <td>Reti opening</td>\n",
              "      <td>2016192.0</td>\n",
              "      <td>4611500.0</td>\n",
              "      <td>2746.0</td>\n",
              "      <td>2483.0</td>\n",
              "      <td>NaN</td>\n",
              "      <td>GM</td>\n",
              "      <td>GM</td>\n",
              "      <td>NaN</td>\n",
              "      <td>NaN</td>\n",
              "      <td>NaN</td>\n",
              "      <td>NaN</td>\n",
              "      <td>NaN</td>\n",
              "      <td>NaN</td>\n",
              "      <td>NaN</td>\n",
              "      <td>NaN</td>\n",
              "      <td>NaN</td>\n",
              "    </tr>\n",
              "    <tr>\n",
              "      <th>1260</th>\n",
              "      <td>Tari,A</td>\n",
              "      <td>Artemiev,V</td>\n",
              "      <td>2018-12-26</td>\n",
              "      <td>2018.12.26</td>\n",
              "      <td>World Rapid 2018</td>\n",
              "      <td>0-1</td>\n",
              "      <td>1. e4 c5 2. Nf3 d6 3. Bb5+ Bd7 4. c4 Nc6 5. d4...</td>\n",
              "      <td>St Petersburg RUS</td>\n",
              "      <td>False</td>\n",
              "      <td>1.3</td>\n",
              "      <td>B52</td>\n",
              "      <td>Sicilian</td>\n",
              "      <td>1510045.0</td>\n",
              "      <td>24101605.0</td>\n",
              "      <td>2620.0</td>\n",
              "      <td>2709.0</td>\n",
              "      <td>Canal-Sokolsky attack, 3...Bd7</td>\n",
              "      <td>GM</td>\n",
              "      <td>GM</td>\n",
              "      <td>NaN</td>\n",
              "      <td>NaN</td>\n",
              "      <td>NaN</td>\n",
              "      <td>NaN</td>\n",
              "      <td>NaN</td>\n",
              "      <td>NaN</td>\n",
              "      <td>NaN</td>\n",
              "      <td>NaN</td>\n",
              "      <td>NaN</td>\n",
              "    </tr>\n",
              "    <tr>\n",
              "      <th>1260</th>\n",
              "      <td>Fedoseev,Vl3</td>\n",
              "      <td>Tregubov,P</td>\n",
              "      <td>2018-12-26</td>\n",
              "      <td>2018.12.26</td>\n",
              "      <td>World Rapid 2018</td>\n",
              "      <td>1/2-1/2</td>\n",
              "      <td>1. e4 e5 2. Nf3 Nf6 3. Nxe5 d6 4. Nd3 Nxe4 5. ...</td>\n",
              "      <td>St Petersburg RUS</td>\n",
              "      <td>False</td>\n",
              "      <td>1.4</td>\n",
              "      <td>C42</td>\n",
              "      <td>Petrov's defence</td>\n",
              "      <td>24130737.0</td>\n",
              "      <td>4115341.0</td>\n",
              "      <td>2719.0</td>\n",
              "      <td>2592.0</td>\n",
              "      <td>NaN</td>\n",
              "      <td>GM</td>\n",
              "      <td>GM</td>\n",
              "      <td>NaN</td>\n",
              "      <td>NaN</td>\n",
              "      <td>NaN</td>\n",
              "      <td>NaN</td>\n",
              "      <td>NaN</td>\n",
              "      <td>NaN</td>\n",
              "      <td>NaN</td>\n",
              "      <td>NaN</td>\n",
              "      <td>NaN</td>\n",
              "    </tr>\n",
              "    <tr>\n",
              "      <th>1260</th>\n",
              "      <td>Hovhannisyan,R</td>\n",
              "      <td>Aronian,L</td>\n",
              "      <td>2018-12-26</td>\n",
              "      <td>2018.12.26</td>\n",
              "      <td>World Rapid 2018</td>\n",
              "      <td>1-0</td>\n",
              "      <td>1. e4 g6 2. d4 Bg7 3. Nc3 c6 4. Nf3 d6 5. h3 N...</td>\n",
              "      <td>St Petersburg RUS</td>\n",
              "      <td>False</td>\n",
              "      <td>1.5</td>\n",
              "      <td>B06</td>\n",
              "      <td>Robatsch defence</td>\n",
              "      <td>13302507.0</td>\n",
              "      <td>13300474.0</td>\n",
              "      <td>2637.0</td>\n",
              "      <td>2765.0</td>\n",
              "      <td>two knights, Suttles variation</td>\n",
              "      <td>GM</td>\n",
              "      <td>GM</td>\n",
              "      <td>NaN</td>\n",
              "      <td>NaN</td>\n",
              "      <td>NaN</td>\n",
              "      <td>NaN</td>\n",
              "      <td>NaN</td>\n",
              "      <td>NaN</td>\n",
              "      <td>NaN</td>\n",
              "      <td>NaN</td>\n",
              "      <td>NaN</td>\n",
              "    </tr>\n",
              "  </tbody>\n",
              "</table>\n",
              "</div>\n",
              "      <button class=\"colab-df-convert\" onclick=\"convertToInteractive('df-4cd21318-74b5-494b-b7ba-89d660cab96d')\"\n",
              "              title=\"Convert this dataframe to an interactive table.\"\n",
              "              style=\"display:none;\">\n",
              "        \n",
              "  <svg xmlns=\"http://www.w3.org/2000/svg\" height=\"24px\"viewBox=\"0 0 24 24\"\n",
              "       width=\"24px\">\n",
              "    <path d=\"M0 0h24v24H0V0z\" fill=\"none\"/>\n",
              "    <path d=\"M18.56 5.44l.94 2.06.94-2.06 2.06-.94-2.06-.94-.94-2.06-.94 2.06-2.06.94zm-11 1L8.5 8.5l.94-2.06 2.06-.94-2.06-.94L8.5 2.5l-.94 2.06-2.06.94zm10 10l.94 2.06.94-2.06 2.06-.94-2.06-.94-.94-2.06-.94 2.06-2.06.94z\"/><path d=\"M17.41 7.96l-1.37-1.37c-.4-.4-.92-.59-1.43-.59-.52 0-1.04.2-1.43.59L10.3 9.45l-7.72 7.72c-.78.78-.78 2.05 0 2.83L4 21.41c.39.39.9.59 1.41.59.51 0 1.02-.2 1.41-.59l7.78-7.78 2.81-2.81c.8-.78.8-2.07 0-2.86zM5.41 20L4 18.59l7.72-7.72 1.47 1.35L5.41 20z\"/>\n",
              "  </svg>\n",
              "      </button>\n",
              "      \n",
              "  <style>\n",
              "    .colab-df-container {\n",
              "      display:flex;\n",
              "      flex-wrap:wrap;\n",
              "      gap: 12px;\n",
              "    }\n",
              "\n",
              "    .colab-df-convert {\n",
              "      background-color: #E8F0FE;\n",
              "      border: none;\n",
              "      border-radius: 50%;\n",
              "      cursor: pointer;\n",
              "      display: none;\n",
              "      fill: #1967D2;\n",
              "      height: 32px;\n",
              "      padding: 0 0 0 0;\n",
              "      width: 32px;\n",
              "    }\n",
              "\n",
              "    .colab-df-convert:hover {\n",
              "      background-color: #E2EBFA;\n",
              "      box-shadow: 0px 1px 2px rgba(60, 64, 67, 0.3), 0px 1px 3px 1px rgba(60, 64, 67, 0.15);\n",
              "      fill: #174EA6;\n",
              "    }\n",
              "\n",
              "    [theme=dark] .colab-df-convert {\n",
              "      background-color: #3B4455;\n",
              "      fill: #D2E3FC;\n",
              "    }\n",
              "\n",
              "    [theme=dark] .colab-df-convert:hover {\n",
              "      background-color: #434B5C;\n",
              "      box-shadow: 0px 1px 3px 1px rgba(0, 0, 0, 0.15);\n",
              "      filter: drop-shadow(0px 1px 2px rgba(0, 0, 0, 0.3));\n",
              "      fill: #FFFFFF;\n",
              "    }\n",
              "  </style>\n",
              "\n",
              "      <script>\n",
              "        const buttonEl =\n",
              "          document.querySelector('#df-4cd21318-74b5-494b-b7ba-89d660cab96d button.colab-df-convert');\n",
              "        buttonEl.style.display =\n",
              "          google.colab.kernel.accessAllowed ? 'block' : 'none';\n",
              "\n",
              "        async function convertToInteractive(key) {\n",
              "          const element = document.querySelector('#df-4cd21318-74b5-494b-b7ba-89d660cab96d');\n",
              "          const dataTable =\n",
              "            await google.colab.kernel.invokeFunction('convertToInteractive',\n",
              "                                                     [key], {});\n",
              "          if (!dataTable) return;\n",
              "\n",
              "          const docLinkHtml = 'Like what you see? Visit the ' +\n",
              "            '<a target=\"_blank\" href=https://colab.research.google.com/notebooks/data_table.ipynb>data table notebook</a>'\n",
              "            + ' to learn more about interactive tables.';\n",
              "          element.innerHTML = '';\n",
              "          dataTable['output_type'] = 'display_data';\n",
              "          await google.colab.output.renderOutput(dataTable, element);\n",
              "          const docLink = document.createElement('div');\n",
              "          docLink.innerHTML = docLinkHtml;\n",
              "          element.appendChild(docLink);\n",
              "        }\n",
              "      </script>\n",
              "    </div>\n",
              "  </div>\n",
              "  "
            ]
          },
          "metadata": {},
          "execution_count": 324
        }
      ],
      "source": [
        "#Visualizamos los primeros registros del dataset\n",
        "datos_crudos.head()"
      ]
    },
    {
      "cell_type": "code",
      "execution_count": 325,
      "metadata": {
        "id": "k4KwxPUzXtej",
        "outputId": "154506e6-c6a3-4b92-cd1f-e3d7e5c84d8a",
        "colab": {
          "base_uri": "https://localhost:8080/"
        }
      },
      "outputs": [
        {
          "output_type": "stream",
          "name": "stdout",
          "text": [
            "El tamaño del dataset original es de:\n"
          ]
        },
        {
          "output_type": "execute_result",
          "data": {
            "text/plain": [
              "(959193, 28)"
            ]
          },
          "metadata": {},
          "execution_count": 325
        }
      ],
      "source": [
        "print(\"El tamaño del dataset original es de:\")\n",
        "datos_crudos.shape"
      ]
    },
    {
      "cell_type": "code",
      "execution_count": 326,
      "metadata": {
        "id": "TICTdtnIXtek",
        "outputId": "85f2f20f-ece2-4c48-b4f8-cb3e261c0aa4",
        "colab": {
          "base_uri": "https://localhost:8080/"
        }
      },
      "outputs": [
        {
          "output_type": "execute_result",
          "data": {
            "text/plain": [
              "Index(['White', 'Black', 'Date', 'EventDate', 'Event', 'Result',\n",
              "       'mainline_moves', 'Site', 'Online', 'Round', 'ECO', 'Opening',\n",
              "       'WhiteFideId', 'BlackFideId', 'WhiteElo', 'BlackElo', 'Variation',\n",
              "       'WhiteTitle', 'BlackTitle', 'WhiteTeam', 'BlackTeam', 'EventType',\n",
              "       'FEN', 'SetUp', 'Variant', 'Board', 'PlyCount', 'EventCategory'],\n",
              "      dtype='object')"
            ]
          },
          "metadata": {},
          "execution_count": 326
        }
      ],
      "source": [
        "#Listamos todas las columnas del dataset\n",
        "datos_crudos.columns"
      ]
    },
    {
      "cell_type": "code",
      "execution_count": 327,
      "metadata": {
        "id": "eGcQFV5pXtel",
        "outputId": "0e080077-bde9-4cf1-a82e-358aa4806f7d",
        "colab": {
          "base_uri": "https://localhost:8080/",
          "height": 850
        }
      },
      "outputs": [
        {
          "output_type": "stream",
          "name": "stderr",
          "text": [
            "<ipython-input-327-868bf7109666>:2: FutureWarning: null_counts is deprecated. Use show_counts instead\n",
            "  display(datos_crudos.iloc[:,0:14].info(verbose=True, null_counts=True))\n"
          ]
        },
        {
          "output_type": "stream",
          "name": "stdout",
          "text": [
            "<class 'pandas.core.frame.DataFrame'>\n",
            "Int64Index: 959193 entries, 1260 to 1070\n",
            "Data columns (total 14 columns):\n",
            " #   Column          Non-Null Count   Dtype  \n",
            "---  ------          --------------   -----  \n",
            " 0   White           959193 non-null  object \n",
            " 1   Black           959193 non-null  object \n",
            " 2   Date            959193 non-null  object \n",
            " 3   EventDate       958704 non-null  object \n",
            " 4   Event           959193 non-null  object \n",
            " 5   Result          959193 non-null  object \n",
            " 6   mainline_moves  954159 non-null  object \n",
            " 7   Site            959192 non-null  object \n",
            " 8   Online          959192 non-null  object \n",
            " 9   Round           959192 non-null  object \n",
            " 10  ECO             955205 non-null  object \n",
            " 11  Opening         951727 non-null  object \n",
            " 12  WhiteFideId     946569 non-null  float64\n",
            " 13  BlackFideId     946487 non-null  float64\n",
            "dtypes: float64(2), object(12)\n",
            "memory usage: 109.8+ MB\n"
          ]
        },
        {
          "output_type": "display_data",
          "data": {
            "text/plain": [
              "None"
            ]
          },
          "metadata": {}
        },
        {
          "output_type": "stream",
          "name": "stderr",
          "text": [
            "<ipython-input-327-868bf7109666>:4: FutureWarning: null_counts is deprecated. Use show_counts instead\n",
            "  display(datos_crudos.iloc[:,14:28].info(verbose=True, null_counts=True))\n"
          ]
        },
        {
          "output_type": "stream",
          "name": "stdout",
          "text": [
            "<class 'pandas.core.frame.DataFrame'>\n",
            "Int64Index: 959193 entries, 1260 to 1070\n",
            "Data columns (total 14 columns):\n",
            " #   Column         Non-Null Count   Dtype  \n",
            "---  ------         --------------   -----  \n",
            " 0   WhiteElo       924194 non-null  float64\n",
            " 1   BlackElo       923643 non-null  float64\n",
            " 2   Variation      624328 non-null  object \n",
            " 3   WhiteTitle     583333 non-null  object \n",
            " 4   BlackTitle     580005 non-null  object \n",
            " 5   WhiteTeam      187164 non-null  object \n",
            " 6   BlackTeam      187164 non-null  object \n",
            " 7   EventType      95807 non-null   object \n",
            " 8   FEN            152 non-null     object \n",
            " 9   SetUp          147 non-null     float64\n",
            " 10  Variant        145 non-null     object \n",
            " 11  Board          0 non-null       float64\n",
            " 12  PlyCount       10 non-null      float64\n",
            " 13  EventCategory  0 non-null       float64\n",
            "dtypes: float64(6), object(8)\n",
            "memory usage: 109.8+ MB\n"
          ]
        },
        {
          "output_type": "display_data",
          "data": {
            "text/plain": [
              "None"
            ]
          },
          "metadata": {}
        }
      ],
      "source": [
        "#Vemos cuales son las columnas del dataset y que tipo de datos almacenan\n",
        "display(datos_crudos.iloc[:,0:14].info(verbose=True, null_counts=True))\n",
        "\n",
        "display(datos_crudos.iloc[:,14:28].info(verbose=True, null_counts=True))"
      ]
    },
    {
      "cell_type": "markdown",
      "metadata": {
        "id": "85aHiHlyXtem"
      },
      "source": [
        "## 1.1 Descripción de los Campos\n",
        "\n",
        "- White\n",
        "- Black\n",
        "- Date\n",
        "- EventDate\n",
        "- Result\n",
        "- mainline_moves\n",
        "- Site\n",
        "- Online\n",
        "- Round\n",
        "- ECO\n",
        "- Opening\n",
        "- WhiteFideId\n",
        "- BlackFideId\n",
        "- WhiteElo\n",
        "- BlackElo\n",
        "- Variation\n",
        "- WhiteTitle\n",
        "- BlackTitle\n",
        "- WhiteTeam\n",
        "- BlackTeam\n",
        "- EventType\n",
        "- FEN\n",
        "- Variant\n",
        "- Board\n",
        "- PlyCount\n",
        "- EventCategory"
      ]
    },
    {
      "cell_type": "markdown",
      "metadata": {
        "id": "xcQ4tEU3Xtem"
      },
      "source": [
        "## 2. Limpieza y Preprocesamiento de Datos"
      ]
    },
    {
      "cell_type": "markdown",
      "metadata": {
        "id": "fmNHspX4Xten"
      },
      "source": [
        "### 2.1 Se retiran columnas innecesarias que se considera no aportan información predictiva al modelo y/o tienen mayoritariamente valore nulo \n"
      ]
    },
    {
      "cell_type": "code",
      "execution_count": 328,
      "metadata": {
        "id": "rqvOMmCgXten"
      },
      "outputs": [],
      "source": [
        "# PlyCount , Board y EventCategory tiene altísimos porcentajes de valores nulos\n",
        "# BlackTeam y WhiteTeam indican a que equipo pertenecía el jugador en caso de ser un torneo por equipos\n",
        "# Se considera que no tiene valor predictivo ya que el partido en sí es entre dos individuos\n",
        "datos_crudos = datos_crudos.drop([\"PlyCount\", \"Board\", \"EventCategory\", \"White\", \"Black\",\"BlackTeam\", \"WhiteTeam\",'WhiteTitle','BlackTitle','ECO','Site','Round','Online'], axis=1)"
      ]
    },
    {
      "cell_type": "markdown",
      "metadata": {
        "id": "HUDicVLLXten"
      },
      "source": [
        "### 2.2 Las columnas Variant, FEN y Setup corresponden a juegos de \"Ajedrez 960\". \n",
        "Como es una variación del juego que incluye un orden aleatorio de las piezas, no lo incluimos en el modelo. \n",
        "\n",
        "Primero filtramos lo registros correpondientes a dichos juegos y luego eliminamos las columnas"
      ]
    },
    {
      "cell_type": "code",
      "execution_count": 329,
      "metadata": {
        "id": "VIwn2sEhXten"
      },
      "outputs": [],
      "source": [
        "# Primero me quedo solo con los registros nulos en las columnas relacionadas con la modalidad 960\n",
        "# De este modo me voy a quedar con las partidas que NO son Ajedrez 060\n",
        "datos_crudos = datos_crudos[ (datos_crudos.Variant.isna()) & (datos_crudos.FEN.isna()) & (datos_crudos.SetUp.isna()) ]\n",
        "\n",
        "# Despues tiro estas columnas que ya no me dicen nada\n",
        "datos_crudos = datos_crudos.drop([\"Variant\", \"FEN\", \"SetUp\"], axis=1)"
      ]
    },
    {
      "cell_type": "markdown",
      "metadata": {
        "id": "hBAeaIOJXteo"
      },
      "source": [
        "Luego de eliminar los registros y columnas en el paso anterior. Volvemos a ver la dimensión del dataset"
      ]
    },
    {
      "cell_type": "code",
      "execution_count": 330,
      "metadata": {
        "id": "ajen9VZUXteo",
        "outputId": "86901c19-3ae6-46d4-ac16-79306d80a9c3",
        "colab": {
          "base_uri": "https://localhost:8080/",
          "height": 121
        }
      },
      "outputs": [
        {
          "output_type": "stream",
          "name": "stdout",
          "text": [
            "Tamaño del Dataset:\n"
          ]
        },
        {
          "output_type": "display_data",
          "data": {
            "text/plain": [
              "(959041, 12)"
            ]
          },
          "metadata": {}
        },
        {
          "output_type": "execute_result",
          "data": {
            "text/plain": [
              "Index(['Date', 'EventDate', 'Event', 'Result', 'mainline_moves', 'Opening',\n",
              "       'WhiteFideId', 'BlackFideId', 'WhiteElo', 'BlackElo', 'Variation',\n",
              "       'EventType'],\n",
              "      dtype='object')"
            ]
          },
          "metadata": {},
          "execution_count": 330
        }
      ],
      "source": [
        "print(\"Tamaño del Dataset:\")\n",
        "display(datos_crudos.shape)\n",
        "datos_crudos.columns"
      ]
    },
    {
      "cell_type": "markdown",
      "metadata": {
        "id": "S8qvvqTrXteo"
      },
      "source": [
        "### 2.3 Pasamos los registro de texto a letras minúsculas. Con la excepción \"mainline_moves\" donde la notación es \"case-sensitive\""
      ]
    },
    {
      "cell_type": "code",
      "execution_count": 331,
      "metadata": {
        "id": "nkjh5Fe3Xteo"
      },
      "outputs": [],
      "source": [
        "# Vamos a poner todas las letras en minuscula y eliminar espacios en los extremos\n",
        "# En \"mainline_moves\" y \"ECO\" NO toco las mayúsculas ya tienen relevancia en la notación.\n",
        "cols = [\"Event\", \"Opening\", \"Variation\", \"EventType\"]\n",
        "for feature in cols:\n",
        "    \n",
        "    datos_crudos[feature] = datos_crudos[feature].str.lower().str.strip()"
      ]
    },
    {
      "cell_type": "markdown",
      "metadata": {
        "id": "RXidsDQ6Xtep"
      },
      "source": [
        "### 2.4 La columna \"Date\" es un string, creamos una nueva columna fecha con el formato de pandas \"datetime\""
      ]
    },
    {
      "cell_type": "code",
      "execution_count": 332,
      "metadata": {
        "id": "yM4zl-5fXtep"
      },
      "outputs": [],
      "source": [
        "datos_crudos[\"Fecha\"] = pd.to_datetime(datos_crudos[\"Date\"])"
      ]
    },
    {
      "cell_type": "markdown",
      "metadata": {
        "id": "XmQOytOGXtep"
      },
      "source": [
        "Visualizamos las fechas de las partidas en un histograma"
      ]
    },
    {
      "cell_type": "code",
      "execution_count": 333,
      "metadata": {
        "id": "jPk1_vIFXtep",
        "outputId": "24001532-9e6a-41bd-9fda-e89094d4abaa",
        "colab": {
          "base_uri": "https://localhost:8080/",
          "height": 615
        }
      },
      "outputs": [
        {
          "output_type": "execute_result",
          "data": {
            "text/plain": [
              "(array([1.0000e+00, 0.0000e+00, 0.0000e+00, 0.0000e+00, 0.0000e+00,\n",
              "        0.0000e+00, 0.0000e+00, 0.0000e+00, 0.0000e+00, 0.0000e+00,\n",
              "        0.0000e+00, 0.0000e+00, 0.0000e+00, 0.0000e+00, 0.0000e+00,\n",
              "        0.0000e+00, 0.0000e+00, 0.0000e+00, 3.0000e+00, 1.0227e+04,\n",
              "        2.7849e+04, 1.3833e+04, 3.0245e+04, 2.2436e+04, 2.0670e+04,\n",
              "        3.1616e+04, 2.2451e+04, 2.9026e+04, 2.4716e+04, 2.2040e+04,\n",
              "        2.9580e+04, 4.4154e+04, 2.7469e+04, 2.5962e+04, 2.8522e+04,\n",
              "        2.8610e+04, 3.2975e+04, 3.7631e+04, 3.6672e+04, 3.7419e+04,\n",
              "        3.8607e+04, 2.4081e+04, 1.0826e+04, 2.5125e+04, 2.6500e+04,\n",
              "        8.8411e+04, 3.2594e+04, 3.6465e+04, 4.4093e+04, 4.8232e+04]),\n",
              " array([13063.  , 13186.82, 13310.64, 13434.46, 13558.28, 13682.1 ,\n",
              "        13805.92, 13929.74, 14053.56, 14177.38, 14301.2 , 14425.02,\n",
              "        14548.84, 14672.66, 14796.48, 14920.3 , 15044.12, 15167.94,\n",
              "        15291.76, 15415.58, 15539.4 , 15663.22, 15787.04, 15910.86,\n",
              "        16034.68, 16158.5 , 16282.32, 16406.14, 16529.96, 16653.78,\n",
              "        16777.6 , 16901.42, 17025.24, 17149.06, 17272.88, 17396.7 ,\n",
              "        17520.52, 17644.34, 17768.16, 17891.98, 18015.8 , 18139.62,\n",
              "        18263.44, 18387.26, 18511.08, 18634.9 , 18758.72, 18882.54,\n",
              "        19006.36, 19130.18, 19254.  ]),\n",
              " <BarContainer object of 50 artists>)"
            ]
          },
          "metadata": {},
          "execution_count": 333
        },
        {
          "output_type": "display_data",
          "data": {
            "text/plain": [
              "<Figure size 432x288 with 1 Axes>"
            ],
            "image/png": "[encoded data removed]"
          },
          "metadata": {}
        }
      ],
      "source": [
        "fig = plt.figure()\n",
        "# creo los axes\n",
        "ax = plt.axes()\n",
        "# dibujo en axes:\n",
        "ax.hist(datos_crudos['Fecha'], label='fechas', alpha = 0.4,bins=50)"
      ]
    },
    {
      "cell_type": "markdown",
      "metadata": {
        "id": "IZAlB4NvXteq"
      },
      "source": [
        "Observamos que hay outliers en las fechas. Los visualizamos con utilizando una máscara en la columna de fechas"
      ]
    },
    {
      "cell_type": "code",
      "execution_count": 334,
      "metadata": {
        "id": "TQS-CBlLXteq",
        "outputId": "7b788d67-1b78-4f34-90ca-eb657bcfaa60",
        "colab": {
          "base_uri": "https://localhost:8080/"
        }
      },
      "outputs": [
        {
          "output_type": "stream",
          "name": "stdout",
          "text": [
            "twic_number\n",
            "936   2005-10-07\n",
            "Name: Fecha, dtype: datetime64[ns]\n"
          ]
        }
      ],
      "source": [
        "print(datos_crudos['Fecha'].loc[datos_crudos['Fecha'].dt.year<2010])"
      ]
    },
    {
      "cell_type": "markdown",
      "metadata": {
        "id": "goCPqf0fXteq"
      },
      "source": [
        "Filtramos las fechas previas al 2010"
      ]
    },
    {
      "cell_type": "code",
      "execution_count": 335,
      "metadata": {
        "id": "-D-h9q6ZXteq"
      },
      "outputs": [],
      "source": [
        "#Filtramos las fechas previas al 2010\n",
        "datos_crudos=datos_crudos.loc[datos_crudos['Fecha'].dt.year>2010]"
      ]
    },
    {
      "cell_type": "code",
      "execution_count": 336,
      "metadata": {
        "id": "gmpbOF0XXteq",
        "outputId": "d20a5d8a-a224-469f-e641-a7f240f8eb46",
        "colab": {
          "base_uri": "https://localhost:8080/",
          "height": 564
        }
      },
      "outputs": [
        {
          "output_type": "execute_result",
          "data": {
            "text/plain": [
              "(array([   90.,  8603., 21381., 11716.,  6620., 13496., 27574., 12677.,\n",
              "        14239.,  8793., 13360., 25421., 11152., 19009., 15032.,  8850.,\n",
              "        20475., 15826., 21314., 16809., 24555., 26824., 13639., 16532.,\n",
              "        15986., 19461., 24970., 14852., 22702., 13016., 29032., 22280.,\n",
              "        26880., 20594., 12995., 29158., 20881.,  5486.,  5340., 17945.,\n",
              "         7396., 26284., 48267., 46079., 20532., 21729., 29320., 27117.,\n",
              "        15481., 41270.]),\n",
              " array([15381.  , 15458.46, 15535.92, 15613.38, 15690.84, 15768.3 ,\n",
              "        15845.76, 15923.22, 16000.68, 16078.14, 16155.6 , 16233.06,\n",
              "        16310.52, 16387.98, 16465.44, 16542.9 , 16620.36, 16697.82,\n",
              "        16775.28, 16852.74, 16930.2 , 17007.66, 17085.12, 17162.58,\n",
              "        17240.04, 17317.5 , 17394.96, 17472.42, 17549.88, 17627.34,\n",
              "        17704.8 , 17782.26, 17859.72, 17937.18, 18014.64, 18092.1 ,\n",
              "        18169.56, 18247.02, 18324.48, 18401.94, 18479.4 , 18556.86,\n",
              "        18634.32, 18711.78, 18789.24, 18866.7 , 18944.16, 19021.62,\n",
              "        19099.08, 19176.54, 19254.  ]),\n",
              " <BarContainer object of 50 artists>)"
            ]
          },
          "metadata": {},
          "execution_count": 336
        },
        {
          "output_type": "display_data",
          "data": {
            "text/plain": [
              "<Figure size 432x288 with 1 Axes>"
            ],
            "image/png": "[encoded data removed]"
          },
          "metadata": {}
        }
      ],
      "source": [
        "#Volvemos a visualizar\n",
        "fig = plt.figure()\n",
        "# creo los axes\n",
        "ax = plt.axes()\n",
        "# dibujo en axes:\n",
        "ax.hist(datos_crudos['Fecha'], label='fechas', alpha = 0.4,bins=50)"
      ]
    },
    {
      "cell_type": "markdown",
      "metadata": {
        "id": "4V-AaIObXter"
      },
      "source": [
        "### 2.5 Visualizamos y limpiamos la columna Target: Resultados"
      ]
    },
    {
      "cell_type": "code",
      "execution_count": 337,
      "metadata": {
        "id": "NxnY4QlmXter",
        "outputId": "a8b9ff68-4438-49a6-b4ce-8747fb6625c2",
        "colab": {
          "base_uri": "https://localhost:8080/"
        }
      },
      "outputs": [
        {
          "output_type": "execute_result",
          "data": {
            "text/plain": [
              "1-0        390239\n",
              "0-1        321519\n",
              "1/2-1/2    247255\n",
              "*               9\n",
              "-/+             6\n",
              "+/-             4\n",
              "0-0             4\n",
              "00-1            1\n",
              "1/2 1/2         1\n",
              "(+)-(-)         1\n",
              "1-O             1\n",
              "Name: Result, dtype: int64"
            ]
          },
          "metadata": {},
          "execution_count": 337
        }
      ],
      "source": [
        "datos_crudos['Result'].value_counts()"
      ]
    },
    {
      "cell_type": "markdown",
      "metadata": {
        "id": "cDt2Ob2DXter"
      },
      "source": [
        "\"1-0\" es una victoria para Blancas, \"0-1\" es una victoria para Negras y \"1/2-1/2\" es un Empate.\n",
        "\n",
        "Realizamos un apply para simplificar la notación y dejar en NaN todos los demas registros que no coincidan con esta notación"
      ]
    },
    {
      "cell_type": "code",
      "execution_count": 338,
      "metadata": {
        "id": "OysqS9RkXter"
      },
      "outputs": [],
      "source": [
        "#Definimos una función que se aplicará sobre cada registro\n",
        "def limpiar_resultado(x):\n",
        "    if x=='1-0':\n",
        "        return 0\n",
        "    elif x=='0-1':\n",
        "        return 1\n",
        "    elif x=='1/2-1/2':\n",
        "        return 2\n",
        "    else: \n",
        "        return np.NaN\n",
        " \n",
        "# Aplicamos la función y creamos la columna Resultado\n",
        "datos_crudos['Resultado'] = datos_crudos['Result'].apply(limpiar_resultado)"
      ]
    },
    {
      "cell_type": "code",
      "execution_count": 339,
      "metadata": {
        "id": "iU8W4U_jXtes",
        "outputId": "86833718-7258-4ef0-9c79-1449e6bb35a8",
        "colab": {
          "base_uri": "https://localhost:8080/"
        }
      },
      "outputs": [
        {
          "output_type": "execute_result",
          "data": {
            "text/plain": [
              "0.0    390239\n",
              "1.0    321519\n",
              "2.0    247255\n",
              "Name: Resultado, dtype: int64"
            ]
          },
          "metadata": {},
          "execution_count": 339
        }
      ],
      "source": [
        "#Vemos como quedo\n",
        "datos_crudos['Resultado'].value_counts()"
      ]
    },
    {
      "cell_type": "markdown",
      "metadata": {
        "id": "hnXOiOLxXtet"
      },
      "source": [
        "### 2.6 Generamos la columna de cantidad de movimientos\n",
        "Utilizamos la columna \"mainline_moves\", dónde se detallan todos los movimientos del partido, para crear una nueva columna dónde se indique la cantidad de movimientos en total que duró la partida"
      ]
    },
    {
      "cell_type": "code",
      "execution_count": 340,
      "metadata": {
        "id": "0MYzp21tXtet",
        "outputId": "98170ce6-22e8-432c-a947-f068d1b8b185",
        "colab": {
          "base_uri": "https://localhost:8080/",
          "height": 70
        }
      },
      "outputs": [
        {
          "output_type": "execute_result",
          "data": {
            "text/plain": [
              "'1. d4 f5 2. c4 Nf6 3. Nc3 e6 4. e3 b6 5. d5 Bd6 6. g3 Bb7 7. Bg2 O-O 8. Nge2 Na6 9. O-O c6 10. b3 Nc7 11. dxc6 dxc6 12. Nd4 Qd7 13. Bb2 g6 14. Ncb5 Nxb5 15. cxb5 Ne4 16. bxc6 Bxc6 17. Nxc6 Qxc6 18. Rc1 Qd5 19. Qxd5 exd5 20. Rfd1 Rac8 21. Bxe4 Rxc1'"
            ],
            "application/vnd.google.colaboratory.intrinsic+json": {
              "type": "string"
            }
          },
          "metadata": {},
          "execution_count": 340
        }
      ],
      "source": [
        "datos_crudos['mainline_moves'].iloc[5]"
      ]
    },
    {
      "cell_type": "markdown",
      "metadata": {
        "id": "YMzNOTcZXteu"
      },
      "source": [
        "El string tienen el formato de:  \"N° de Mov\". \"Mov.Blanca\" Mov.Negra\". Aplicamos una función a cada registro para contar la cantidad de movimientos"
      ]
    },
    {
      "cell_type": "code",
      "execution_count": 341,
      "metadata": {
        "id": "D3vdWqaAXteu"
      },
      "outputs": [],
      "source": [
        "#Definimos una función que primero retira los espacios en blanco y luego separamos el string por el caracter '.' \n",
        "#almacena los strings separados en una serie y cuenta la cantidad de elementos que tiene\n",
        "def cant_mov(x):\n",
        "    if type(x) is str:\n",
        "        return len(x.replace(\" \", \"\").split('.'))\n",
        "    else:\n",
        "        return np.NaN\n",
        "# Aplico la función y creo una nueva columna llamada \"Duración\"\n",
        "datos_crudos['Duración'] = datos_crudos['mainline_moves'].apply(cant_mov)"
      ]
    },
    {
      "cell_type": "markdown",
      "metadata": {
        "id": "Gu0foTpBXtev"
      },
      "source": [
        "### 2.7 Filtramos aquellas partidas dónde el Control de Tiempo haya sido Blitz (3 minutos) y/o Rapid (5 minutos).\n",
        "En estas partidas con menor tiempo de juego, la diferencia de puntuación entre jugadores es un factor más determinante en el resultado final del juego.\n",
        "\n",
        "Las columnas Event y EventType son las que tienen información sobre el tipo de control de tiempo utilizado."
      ]
    },
    {
      "cell_type": "code",
      "execution_count": 342,
      "metadata": {
        "id": "EFWAsFlVXtev"
      },
      "outputs": [],
      "source": [
        "# Creamos un nuevo dataframe filtrando si las columnas Event y EventType tiene la palabra blitz y/o rapid\n",
        "datos_bz_rp=datos_crudos[(datos_crudos.Event.str.contains(\"blitz\")) | (datos_crudos.EventType.str.contains(\"blitz\"))|(datos_crudos.Event.str.contains(\"rapid\")) | (datos_crudos.EventType.str.contains(\"rapid\"))]"
      ]
    },
    {
      "cell_type": "code",
      "execution_count": 343,
      "metadata": {
        "id": "5yvNPFYDXtev",
        "outputId": "77b916a4-aeeb-423a-eb80-75601f3cf220",
        "colab": {
          "base_uri": "https://localhost:8080/"
        }
      },
      "outputs": [
        {
          "output_type": "stream",
          "name": "stdout",
          "text": [
            "Tamaño del dataset de partidas Blitz y Rapid:\n"
          ]
        },
        {
          "output_type": "execute_result",
          "data": {
            "text/plain": [
              "(91691, 15)"
            ]
          },
          "metadata": {},
          "execution_count": 343
        }
      ],
      "source": [
        "print(\"Tamaño del dataset de partidas Blitz y Rapid:\")\n",
        "datos_bz_rp.shape"
      ]
    },
    {
      "cell_type": "markdown",
      "metadata": {
        "id": "v2e3bW-xXtev"
      },
      "source": [
        "### 2.8 Visualizamos y limpiamos los valores de la columna Opening\n",
        "Esta columna indica la apertura elegida por blancas. Esto determina el tipo de estrategia que seguirá la partida, si es mas agresiva o conservadora, posicionas mas o menos balanceades, etc."
      ]
    },
    {
      "cell_type": "code",
      "execution_count": 344,
      "metadata": {
        "id": "XUe2AziuXtev",
        "outputId": "22ded25b-0d5e-4057-c21c-99697dc6dd69",
        "colab": {
          "base_uri": "https://localhost:8080/"
        }
      },
      "outputs": [
        {
          "output_type": "execute_result",
          "data": {
            "text/plain": [
              "sicilian                   13143\n",
              "french                      4402\n",
              "king's indian               4272\n",
              "queen's pawn game           4179\n",
              "ruy lopez                   3741\n",
              "english                     3716\n",
              "qgd                         3653\n",
              "caro-kann                   3598\n",
              "reti opening                2844\n",
              "reti                        2794\n",
              "english opening             2563\n",
              "sicilian defence            2499\n",
              "queen's pawn                2171\n",
              "nimzo-indian                1872\n",
              "qgd slav                    1834\n",
              "queen's indian              1166\n",
              "nimzovich-larsen attack     1096\n",
              "giuoco piano                1070\n",
              "catalan                     1061\n",
              "gruenfeld                   1052\n",
              "Name: Opening, dtype: int64"
            ]
          },
          "metadata": {},
          "execution_count": 344
        }
      ],
      "source": [
        "#Vemos las aperturas más utilizadas\n",
        "datos_bz_rp.Opening.value_counts().head(20)"
      ]
    },
    {
      "cell_type": "markdown",
      "metadata": {
        "id": "-0s_Gl9VXtew"
      },
      "source": [
        "Vamos a limpiar los valores repetidos la columna y categorizar a todas a las aperturas fuera del top 20 como \"otras\""
      ]
    },
    {
      "cell_type": "code",
      "execution_count": 345,
      "metadata": {
        "id": "6wcK_yt1Xtew",
        "outputId": "ce431971-1085-4656-a387-93f15f1ed258",
        "colab": {
          "base_uri": "https://localhost:8080/"
        }
      },
      "outputs": [
        {
          "output_type": "stream",
          "name": "stderr",
          "text": [
            "<ipython-input-345-89c9c79798be>:14: SettingWithCopyWarning: \n",
            "A value is trying to be set on a copy of a slice from a DataFrame.\n",
            "Try using .loc[row_indexer,col_indexer] = value instead\n",
            "\n",
            "See the caveats in the documentation: https://pandas.pydata.org/pandas-docs/stable/user_guide/indexing.html#returning-a-view-versus-a-copy\n",
            "  datos_bz_rp['Apertura'] = datos_bz_rp['Opening'].apply(limpiar_opening)\n"
          ]
        }
      ],
      "source": [
        "def limpiar_opening(x):\n",
        "    if \"sicilian\" in str(x):\n",
        "        return \"sicilian\"\n",
        "    elif \"english\" in str(x):\n",
        "        return \"english\"\n",
        "    elif \"reti\" in str(x):\n",
        "        return \"reti\"\n",
        "    elif \"qgd\" in str(x):\n",
        "        return \"qgd\"\n",
        "    else: \n",
        "        return x\n",
        " \n",
        "# Aplicamos la función \n",
        "datos_bz_rp['Apertura'] = datos_bz_rp['Opening'].apply(limpiar_opening)"
      ]
    },
    {
      "cell_type": "code",
      "execution_count": 346,
      "metadata": {
        "id": "du7fCCEfXtew",
        "outputId": "cb1b0f38-61e6-4739-d915-b5febe85e66a",
        "colab": {
          "base_uri": "https://localhost:8080/"
        }
      },
      "outputs": [
        {
          "output_type": "execute_result",
          "data": {
            "text/plain": [
              "sicilian                                        16020\n",
              "qgd                                              7076\n",
              "english                                          6678\n",
              "reti                                             5809\n",
              "french                                           4402\n",
              "king's indian                                    4272\n",
              "queen's pawn game                                4179\n",
              "ruy lopez                                        3741\n",
              "caro-kann                                        3598\n",
              "queen's pawn                                     2171\n",
              "nimzo-indian                                     1872\n",
              "queen's indian                                   1166\n",
              "nimzovich-larsen attack                          1096\n",
              "giuoco piano                                     1070\n",
              "catalan                                          1061\n",
              "gruenfeld                                        1052\n",
              "trompovsky attack (ruth, opovcensky opening)      976\n",
              "robatsch (modern) defence                         835\n",
              "pirc                                              805\n",
              "four knights                                      781\n",
              "Name: Apertura, dtype: int64"
            ]
          },
          "metadata": {},
          "execution_count": 346
        }
      ],
      "source": [
        "#Vemos las aperturas más utilizadas luego de haber corregido las repetidas en el top 20\n",
        "datos_bz_rp.Apertura.value_counts().head(20)"
      ]
    },
    {
      "cell_type": "markdown",
      "metadata": {
        "id": "oWAAiAudXtex"
      },
      "source": [
        "Ponemos un umbral de 2000 registros para las aperturas. Aquellas que tengan menos de 2000, serán categorizadas\n",
        "como \"other\""
      ]
    },
    {
      "cell_type": "code",
      "execution_count": 347,
      "metadata": {
        "id": "wY44aTIaXtex",
        "outputId": "72623a16-4d13-490e-9fc6-f549622a194e",
        "colab": {
          "base_uri": "https://localhost:8080/"
        }
      },
      "outputs": [
        {
          "output_type": "stream",
          "name": "stderr",
          "text": [
            "<ipython-input-347-da79d234cdbf>:2: SettingWithCopyWarning: \n",
            "A value is trying to be set on a copy of a slice from a DataFrame.\n",
            "Try using .loc[row_indexer,col_indexer] = value instead\n",
            "\n",
            "See the caveats in the documentation: https://pandas.pydata.org/pandas-docs/stable/user_guide/indexing.html#returning-a-view-versus-a-copy\n",
            "  datos_bz_rp['Apertura']=datos_bz_rp.Apertura.where(datos_bz_rp['Apertura'].map(datos_bz_rp['Apertura'].value_counts()).gt(2000),'other')\n"
          ]
        }
      ],
      "source": [
        "#Aquellas Aperturas que tenga menos de 2000 registros, las clasifico como 'other'\n",
        "datos_bz_rp['Apertura']=datos_bz_rp.Apertura.where(datos_bz_rp['Apertura'].map(datos_bz_rp['Apertura'].value_counts()).gt(2000),'other')"
      ]
    },
    {
      "cell_type": "code",
      "execution_count": 348,
      "metadata": {
        "id": "P24GoHvjXtey",
        "outputId": "5a5373ab-38e3-457f-aa97-b1f4d7621930",
        "colab": {
          "base_uri": "https://localhost:8080/"
        }
      },
      "outputs": [
        {
          "output_type": "execute_result",
          "data": {
            "text/plain": [
              "other                33745\n",
              "sicilian             16020\n",
              "qgd                   7076\n",
              "english               6678\n",
              "reti                  5809\n",
              "french                4402\n",
              "king's indian         4272\n",
              "queen's pawn game     4179\n",
              "ruy lopez             3741\n",
              "caro-kann             3598\n",
              "queen's pawn          2171\n",
              "Name: Apertura, dtype: int64"
            ]
          },
          "metadata": {},
          "execution_count": 348
        }
      ],
      "source": [
        "datos_bz_rp['Apertura'].value_counts()"
      ]
    },
    {
      "cell_type": "markdown",
      "metadata": {
        "id": "abl6Qg3tXtey"
      },
      "source": [
        "Verificamos por última vez las columnas que ya no son necesarias para nuestro luego de haber limpiado el dataset"
      ]
    },
    {
      "cell_type": "code",
      "execution_count": 349,
      "metadata": {
        "id": "ux1bZmZwXtey",
        "outputId": "7c32ceba-0bf9-4447-cd9a-bedf2bf07fc9",
        "colab": {
          "base_uri": "https://localhost:8080/"
        }
      },
      "outputs": [
        {
          "output_type": "execute_result",
          "data": {
            "text/plain": [
              "Index(['Date', 'EventDate', 'Event', 'Result', 'mainline_moves', 'Opening',\n",
              "       'WhiteFideId', 'BlackFideId', 'WhiteElo', 'BlackElo', 'Variation',\n",
              "       'EventType', 'Fecha', 'Resultado', 'Duración', 'Apertura'],\n",
              "      dtype='object')"
            ]
          },
          "metadata": {},
          "execution_count": 349
        }
      ],
      "source": [
        "datos_bz_rp.columns"
      ]
    },
    {
      "cell_type": "markdown",
      "metadata": {
        "id": "KBqvtEeMXtez"
      },
      "source": [
        "### 2.9 Removemos las columnas que ya no vamos a utilizar: Date, EventDate, Fecha, Variation, mainline_moves, Result y Opening"
      ]
    },
    {
      "cell_type": "code",
      "execution_count": 350,
      "metadata": {
        "id": "LKHMh6ssXtez"
      },
      "outputs": [],
      "source": [
        "datos_bz_rp=datos_bz_rp.drop(columns=['Date','EventDate','Fecha','Variation','mainline_moves','Result','Opening'])"
      ]
    },
    {
      "cell_type": "code",
      "execution_count": 351,
      "metadata": {
        "id": "LtkvkrotXtez",
        "outputId": "f6faf547-5c34-4f5d-c765-eb0ed7ae1d65",
        "colab": {
          "base_uri": "https://localhost:8080/"
        }
      },
      "outputs": [
        {
          "output_type": "execute_result",
          "data": {
            "text/plain": [
              "Index(['Event', 'WhiteFideId', 'BlackFideId', 'WhiteElo', 'BlackElo',\n",
              "       'EventType', 'Resultado', 'Duración', 'Apertura'],\n",
              "      dtype='object')"
            ]
          },
          "metadata": {},
          "execution_count": 351
        }
      ],
      "source": [
        "datos_bz_rp.columns"
      ]
    },
    {
      "cell_type": "markdown",
      "metadata": {
        "id": "Nja2m-SpXtez"
      },
      "source": [
        "### 2.10 Reseteamos el Index "
      ]
    },
    {
      "cell_type": "code",
      "execution_count": 352,
      "metadata": {
        "id": "beP_fLlqXtez"
      },
      "outputs": [],
      "source": [
        "datos_bz_rp=datos_bz_rp.reset_index(drop=True)"
      ]
    },
    {
      "cell_type": "markdown",
      "metadata": {
        "id": "qmQljQhGXtez"
      },
      "source": [
        "### 2.11 Separamos en Blitz por un lado y Rapid por el otro"
      ]
    },
    {
      "cell_type": "code",
      "execution_count": 353,
      "metadata": {
        "id": "DhPAtNheXtez",
        "outputId": "f8330c50-3a81-4c43-f2e0-ae2131f076c8",
        "colab": {
          "base_uri": "https://localhost:8080/"
        }
      },
      "outputs": [
        {
          "output_type": "execute_result",
          "data": {
            "text/plain": [
              "(53943, 9)"
            ]
          },
          "metadata": {},
          "execution_count": 353
        }
      ],
      "source": [
        "# Hagamos un df con partidas blitz\n",
        "datos_blitz = datos_bz_rp[(datos_bz_rp.Event.str.contains(\"blitz\")) | (datos_bz_rp.EventType.str.contains(\"blitz\"))]\n",
        "datos_blitz.shape"
      ]
    },
    {
      "cell_type": "code",
      "execution_count": 354,
      "metadata": {
        "id": "TfuvE-6oXte0",
        "outputId": "40a17fd1-3e45-4790-9c32-2e2efa2e3d38",
        "colab": {
          "base_uri": "https://localhost:8080/"
        }
      },
      "outputs": [
        {
          "output_type": "execute_result",
          "data": {
            "text/plain": [
              "(37748, 9)"
            ]
          },
          "metadata": {},
          "execution_count": 354
        }
      ],
      "source": [
        "# Hagamos un df con partidas blitz\n",
        "datos_rapid = datos_bz_rp[(datos_bz_rp.Event.str.contains(\"rapid\")) | (datos_bz_rp.EventType.str.contains(\"rapid\"))]\n",
        "datos_rapid.shape"
      ]
    },
    {
      "cell_type": "markdown",
      "metadata": {
        "id": "Cjg2-DqGXte0"
      },
      "source": [
        "### 2.12 Eliminamos las columnas Event y EventType luego de separa en Blitz y Rapid"
      ]
    },
    {
      "cell_type": "code",
      "execution_count": 355,
      "metadata": {
        "id": "jOxCaaboXte0"
      },
      "outputs": [],
      "source": [
        "datos_blitz=datos_blitz.drop(columns=['Event', 'EventType'])\n",
        "\n",
        "datos_rapid=datos_rapid.drop(columns=['Event', 'EventType'])"
      ]
    },
    {
      "cell_type": "markdown",
      "metadata": {
        "id": "lP6rqLObXte0"
      },
      "source": [
        "### 2.13 Eliminamos Registros que tengan algun valor nulo"
      ]
    },
    {
      "cell_type": "code",
      "execution_count": 356,
      "metadata": {
        "id": "1nAoDHE4Xte1"
      },
      "outputs": [],
      "source": [
        "data=datos_blitz.dropna(axis=0)"
      ]
    },
    {
      "cell_type": "markdown",
      "metadata": {
        "id": "eHDpBRBnXte1"
      },
      "source": [
        "Asi quedaron las columnas finales que serán las features y target de nuestro modelo"
      ]
    },
    {
      "cell_type": "code",
      "execution_count": 357,
      "metadata": {
        "id": "Fw448jPoXte1",
        "outputId": "d752c0cc-0ab8-459f-a790-9d98734dc92d",
        "colab": {
          "base_uri": "https://localhost:8080/"
        }
      },
      "outputs": [
        {
          "output_type": "stream",
          "name": "stdout",
          "text": [
            "<class 'pandas.core.frame.DataFrame'>\n",
            "Int64Index: 48067 entries, 2244 to 91690\n",
            "Data columns (total 7 columns):\n",
            " #   Column       Non-Null Count  Dtype  \n",
            "---  ------       --------------  -----  \n",
            " 0   WhiteFideId  48067 non-null  float64\n",
            " 1   BlackFideId  48067 non-null  float64\n",
            " 2   WhiteElo     48067 non-null  float64\n",
            " 3   BlackElo     48067 non-null  float64\n",
            " 4   Resultado    48067 non-null  float64\n",
            " 5   Duración     48067 non-null  float64\n",
            " 6   Apertura     48067 non-null  object \n",
            "dtypes: float64(6), object(1)\n",
            "memory usage: 2.9+ MB\n"
          ]
        }
      ],
      "source": [
        "data.info()"
      ]
    },
    {
      "cell_type": "markdown",
      "metadata": {
        "id": "DQuE16_bXte2"
      },
      "source": [
        "# 3. Definimos Features y Target del Modelo"
      ]
    },
    {
      "cell_type": "markdown",
      "metadata": {
        "id": "82bca7MhXte2"
      },
      "source": [
        "### 3.1 Definimos X e Y"
      ]
    },
    {
      "cell_type": "code",
      "execution_count": 358,
      "metadata": {
        "id": "EJoyEqh3Xte2"
      },
      "outputs": [],
      "source": [
        "X= data.drop(columns='Resultado')\n",
        "y=data.Resultado"
      ]
    },
    {
      "cell_type": "markdown",
      "metadata": {
        "id": "9iWaIiFnXte2"
      },
      "source": [
        "### 3.2 Implementamos Variables Dummies"
      ]
    },
    {
      "cell_type": "markdown",
      "metadata": {
        "id": "efVuHWvFXte3"
      },
      "source": [
        "Hacemos variables dummies de las columnas Apertura, WhiteFideId y BlackFideId"
      ]
    },
    {
      "cell_type": "code",
      "execution_count": 359,
      "metadata": {
        "id": "J5K1zQtnXte3"
      },
      "outputs": [],
      "source": [
        "X_dum=pd.get_dummies(data=X,columns=['Apertura','WhiteFideId','BlackFideId'])"
      ]
    },
    {
      "cell_type": "markdown",
      "metadata": {
        "id": "iNg2d2tkXte3"
      },
      "source": [
        "Vemos cuantos columnas dummies se crearon"
      ]
    },
    {
      "cell_type": "code",
      "execution_count": 360,
      "metadata": {
        "id": "0_qMoacsXte4",
        "outputId": "7e68d484-129d-44b0-a0f0-afe0482a9230",
        "colab": {
          "base_uri": "https://localhost:8080/"
        }
      },
      "outputs": [
        {
          "output_type": "execute_result",
          "data": {
            "text/plain": [
              "(48067, 9112)"
            ]
          },
          "metadata": {},
          "execution_count": 360
        }
      ],
      "source": [
        "X_dum.shape"
      ]
    },
    {
      "cell_type": "markdown",
      "metadata": {
        "id": "qQ6UlCInXte4"
      },
      "source": [
        "Al hacer dummies de todos los jugadores se crean más de 15 mil, lo cual es demasiado. Para reducir ese número vamos a determinar un umbral de mínimos juegos registrados para tener en cuenta el Id del jugador"
      ]
    },
    {
      "cell_type": "code",
      "execution_count": 361,
      "metadata": {
        "id": "5IZv5yUIXte4"
      },
      "outputs": [],
      "source": [
        "# Vamos a hacer dummies de los IDs de los jugadores que tengan mas de \"N\" partidas en el dataframe\n",
        "# Lo implementamos mediante una función que recibe las features \"X\" y el número de partidas mínimas \"N\".\n",
        "def OHE_ID(X, N):\n",
        "\n",
        "    #almaceno la lista de partidas por cada id en un auxiliar\n",
        "    frecw = X.WhiteFideId.value_counts()\n",
        "    #almaceno el índice de dicha lista\n",
        "    idw = set(frecw[frecw>N].index)\n",
        "\n",
        "    #mismo proceso para las piezas negras\n",
        "    frecb = X.BlackFideId.value_counts()\n",
        "    idb = set(frecb[frecb>N].index)\n",
        "\n",
        "    #un nuevo índice que es la unión de los dos anteriores\n",
        "    ids = (idw | idb)\n",
        "\n",
        "    print(f\"Son {len(ids)} jugadores los que tienen más de {N} juegos con negras o blancas\")\n",
        "\n",
        "    # Veamos cuantas partidas participan estos jugadores\n",
        "    partidas = (X[(X.WhiteFideId.isin(ids)) | (X.BlackFideId.isin(ids))].shape[0])\n",
        "    print(f\"Estos jugadores aparecen en {partidas} registros \")\n",
        "\n",
        "    # Ahora creo dos columnas con los ids para blancas y negras, en donde\n",
        "    # a los jugadores que no tengan la presencia deseada les quedará un\n",
        "    # ID = -1\n",
        "\n",
        "    X[\"IDW\"] = X.WhiteFideId.apply(lambda x: x if x in ids else -1 )\n",
        "    X[\"IDB\"] = X.BlackFideId.apply(lambda x: x if x in ids else -1 )\n",
        "\n",
        "    # Hago las dummies\n",
        "    X = pd.get_dummies(X, columns=['IDW', 'IDB'], prefix=[\"W\", \"B\"], prefix_sep='')\n",
        "\n",
        "    # Dropeo columnas de IDs originales:\n",
        "    X = X.drop([\"WhiteFideId\", \"BlackFideId\"], axis=1)\n",
        "\n",
        "    #hago dummies de las aperturas\n",
        "    X=pd.get_dummies(data=X,columns=['Apertura'])\n",
        "\n",
        "    return X\n"
      ]
    },
    {
      "cell_type": "code",
      "execution_count": 362,
      "metadata": {
        "id": "cQsJ_KneXte4",
        "outputId": "9b563643-ec27-4292-d138-31a76728ab91",
        "colab": {
          "base_uri": "https://localhost:8080/"
        }
      },
      "outputs": [
        {
          "output_type": "stream",
          "name": "stdout",
          "text": [
            "Son 49 jugadores los que tienen más de 100 juegos con negras o blancas\n",
            "Estos jugadores aparecen en 10741 registros \n"
          ]
        }
      ],
      "source": [
        "X=OHE_ID(X,100)"
      ]
    },
    {
      "cell_type": "markdown",
      "metadata": {
        "id": "4vgndujEXte5"
      },
      "source": [
        "Ahora nos quedan 331 columnas luego de implementar dummies"
      ]
    },
    {
      "cell_type": "code",
      "execution_count": 363,
      "metadata": {
        "id": "wGY2zbIdXte5",
        "outputId": "ab45d818-4019-449d-f52d-a1e24d198025",
        "colab": {
          "base_uri": "https://localhost:8080/"
        }
      },
      "outputs": [
        {
          "output_type": "execute_result",
          "data": {
            "text/plain": [
              "(48067, 114)"
            ]
          },
          "metadata": {},
          "execution_count": 363
        }
      ],
      "source": [
        "X.shape"
      ]
    },
    {
      "cell_type": "markdown",
      "metadata": {
        "id": "cY-RTTllXte5"
      },
      "source": [
        "### 3.3 Separamos en Test y Train"
      ]
    },
    {
      "cell_type": "code",
      "execution_count": 364,
      "metadata": {
        "id": "SwXXEKYXXte5"
      },
      "outputs": [],
      "source": [
        "X_train, X_test, y_train, y_test = train_test_split(X, y, test_size=0.2, random_state=1, stratify=y)"
      ]
    },
    {
      "cell_type": "markdown",
      "metadata": {
        "id": "tvUyus8vXte5"
      },
      "source": [
        "Vemos la distribución de nuestro Target en Test"
      ]
    },
    {
      "cell_type": "code",
      "execution_count": 365,
      "metadata": {
        "id": "ggkJ0rBMXte5",
        "outputId": "6e4304b8-c9f8-4ae8-cbfd-e5a235c12a98",
        "colab": {
          "base_uri": "https://localhost:8080/"
        }
      },
      "outputs": [
        {
          "output_type": "execute_result",
          "data": {
            "text/plain": [
              "0.0    0.444768\n",
              "1.0    0.384231\n",
              "2.0    0.171001\n",
              "Name: Resultado, dtype: float64"
            ]
          },
          "metadata": {},
          "execution_count": 365
        }
      ],
      "source": [
        "y_test.value_counts()/y_test.size"
      ]
    },
    {
      "cell_type": "markdown",
      "metadata": {
        "id": "DGdiHUIXXte6"
      },
      "source": [
        "Partimos de una Hipótesis Nula de que el 44% de las veces ganan las piezas blancas."
      ]
    },
    {
      "cell_type": "markdown",
      "metadata": {
        "id": "kBway7YkXte6"
      },
      "source": [
        "# 4. Pipeline"
      ]
    },
    {
      "cell_type": "markdown",
      "metadata": {
        "id": "i18ndHOwXte6"
      },
      "source": [
        "Implementamos un pipeline +GridSearch para determinar el mejor modelo y mejores parámetros"
      ]
    },
    {
      "cell_type": "code",
      "execution_count": 366,
      "metadata": {
        "id": "RaNCWXxDXte6"
      },
      "outputs": [],
      "source": [
        "#defino en los pasos que es preprocesamiento y cual es el clasificador\n",
        "pasos=[('preprocessing', StandardScaler()), ('classifier', LogisticRegression())]\n",
        "#instancio el pipeline\n",
        "pipe = Pipeline(pasos)"
      ]
    },
    {
      "cell_type": "code",
      "execution_count": 367,
      "metadata": {
        "id": "njsn7SymXte6"
      },
      "outputs": [],
      "source": [
        "param_grid = [\n",
        "              {'classifier': [LogisticRegression(max_iter=2000)], 'preprocessing': [StandardScaler(), None]},\n",
        "\n",
        "              {'classifier': [KNeighborsClassifier ()],\n",
        "               'preprocessing': [None], 'classifier__n_neighbors': list(range(1, 15))}]"
      ]
    },
    {
      "cell_type": "markdown",
      "metadata": {
        "id": "1FQWY3RDXte6"
      },
      "source": [
        "luego probar pasar otros modelos al pipeline"
      ]
    },
    {
      "cell_type": "code",
      "execution_count": 368,
      "metadata": {
        "id": "zUX9PUNCXte7"
      },
      "outputs": [],
      "source": [
        "#tree.DecisionTreeClassifier(min_samples_leaf=20, max_depth=6, random_state=50)"
      ]
    },
    {
      "cell_type": "code",
      "execution_count": 369,
      "metadata": {
        "id": "ssP75MbRXte7"
      },
      "outputs": [],
      "source": [
        "#bagging_tree = tree.DecisionTreeClassifier()\n",
        "#bagging_clf = BaggingClassifier(base_estimator=bagging_tree, n_estimators=100,\n",
        "#                                bootstrap=True, n_jobs=1, random_state=50)"
      ]
    },
    {
      "cell_type": "code",
      "execution_count": 370,
      "metadata": {
        "id": "p1CMHJA9Xte7"
      },
      "outputs": [],
      "source": [
        "folds=StratifiedKFold(n_splits=5,shuffle=True, random_state=42)"
      ]
    },
    {
      "cell_type": "code",
      "execution_count": 371,
      "metadata": {
        "id": "zwZDscsnXte7",
        "outputId": "675b072f-ed33-47f4-e76c-d6321f9de735",
        "colab": {
          "base_uri": "https://localhost:8080/",
          "height": 150
        }
      },
      "outputs": [
        {
          "data": {
            "text/html": [
              "<style>#sk-container-id-4 {color: black;background-color: white;}#sk-container-id-4 pre{padding: 0;}#sk-container-id-4 div.sk-toggleable {background-color: white;}#sk-container-id-4 label.sk-toggleable__label {cursor: pointer;display: block;width: 100%;margin-bottom: 0;padding: 0.3em;box-sizing: border-box;text-align: center;}#sk-container-id-4 label.sk-toggleable__label-arrow:before {content: \"▸\";float: left;margin-right: 0.25em;color: #696969;}#sk-container-id-4 label.sk-toggleable__label-arrow:hover:before {color: black;}#sk-container-id-4 div.sk-estimator:hover label.sk-toggleable__label-arrow:before {color: black;}#sk-container-id-4 div.sk-toggleable__content {max-height: 0;max-width: 0;overflow: hidden;text-align: left;background-color: #f0f8ff;}#sk-container-id-4 div.sk-toggleable__content pre {margin: 0.2em;color: black;border-radius: 0.25em;background-color: #f0f8ff;}#sk-container-id-4 input.sk-toggleable__control:checked~div.sk-toggleable__content {max-height: 200px;max-width: 100%;overflow: auto;}#sk-container-id-4 input.sk-toggleable__control:checked~label.sk-toggleable__label-arrow:before {content: \"▾\";}#sk-container-id-4 div.sk-estimator input.sk-toggleable__control:checked~label.sk-toggleable__label {background-color: #d4ebff;}#sk-container-id-4 div.sk-label input.sk-toggleable__control:checked~label.sk-toggleable__label {background-color: #d4ebff;}#sk-container-id-4 input.sk-hidden--visually {border: 0;clip: rect(1px 1px 1px 1px);clip: rect(1px, 1px, 1px, 1px);height: 1px;margin: -1px;overflow: hidden;padding: 0;position: absolute;width: 1px;}#sk-container-id-4 div.sk-estimator {font-family: monospace;background-color: #f0f8ff;border: 1px dotted black;border-radius: 0.25em;box-sizing: border-box;margin-bottom: 0.5em;}#sk-container-id-4 div.sk-estimator:hover {background-color: #d4ebff;}#sk-container-id-4 div.sk-parallel-item::after {content: \"\";width: 100%;border-bottom: 1px solid gray;flex-grow: 1;}#sk-container-id-4 div.sk-label:hover label.sk-toggleable__label {background-color: #d4ebff;}#sk-container-id-4 div.sk-serial::before {content: \"\";position: absolute;border-left: 1px solid gray;box-sizing: border-box;top: 0;bottom: 0;left: 50%;z-index: 0;}#sk-container-id-4 div.sk-serial {display: flex;flex-direction: column;align-items: center;background-color: white;padding-right: 0.2em;padding-left: 0.2em;position: relative;}#sk-container-id-4 div.sk-item {position: relative;z-index: 1;}#sk-container-id-4 div.sk-parallel {display: flex;align-items: stretch;justify-content: center;background-color: white;position: relative;}#sk-container-id-4 div.sk-item::before, #sk-container-id-4 div.sk-parallel-item::before {content: \"\";position: absolute;border-left: 1px solid gray;box-sizing: border-box;top: 0;bottom: 0;left: 50%;z-index: -1;}#sk-container-id-4 div.sk-parallel-item {display: flex;flex-direction: column;z-index: 1;position: relative;background-color: white;}#sk-container-id-4 div.sk-parallel-item:first-child::after {align-self: flex-end;width: 50%;}#sk-container-id-4 div.sk-parallel-item:last-child::after {align-self: flex-start;width: 50%;}#sk-container-id-4 div.sk-parallel-item:only-child::after {width: 0;}#sk-container-id-4 div.sk-dashed-wrapped {border: 1px dashed gray;margin: 0 0.4em 0.5em 0.4em;box-sizing: border-box;padding-bottom: 0.4em;background-color: white;}#sk-container-id-4 div.sk-label label {font-family: monospace;font-weight: bold;display: inline-block;line-height: 1.2em;}#sk-container-id-4 div.sk-label-container {text-align: center;}#sk-container-id-4 div.sk-container {/* jupyter's `normalize.less` sets `[hidden] { display: none; }` but bootstrap.min.css set `[hidden] { display: none !important; }` so we also need the `!important` here to be able to override the default hidden behavior on the sphinx rendered scikit-learn.org. See: https://github.com/scikit-learn/scikit-learn/issues/21755 */display: inline-block !important;position: relative;}#sk-container-id-4 div.sk-text-repr-fallback {display: none;}</style><div id=\"sk-container-id-4\" class=\"sk-top-container\"><div class=\"sk-text-repr-fallback\"><pre>GridSearchCV(cv=StratifiedKFold(n_splits=5, random_state=42, shuffle=True),\n",
              "             estimator=Pipeline(steps=[(&#x27;preprocessing&#x27;, StandardScaler()),\n",
              "                                       (&#x27;classifier&#x27;, LogisticRegression())]),\n",
              "             param_grid=[{&#x27;classifier&#x27;: [LogisticRegression(max_iter=2000)],\n",
              "                          &#x27;preprocessing&#x27;: [StandardScaler(), None]},\n",
              "                         {&#x27;classifier&#x27;: [KNeighborsClassifier()],\n",
              "                          &#x27;classifier__n_neighbors&#x27;: [1, 2, 3, 4, 5, 6, 7, 8, 9,\n",
              "                                                      10, 11, 12, 13, 14],\n",
              "                          &#x27;preprocessing&#x27;: [None]}])</pre><b>In a Jupyter environment, please rerun this cell to show the HTML representation or trust the notebook. <br />On GitHub, the HTML representation is unable to render, please try loading this page with nbviewer.org.</b></div><div class=\"sk-container\" hidden><div class=\"sk-item sk-dashed-wrapped\"><div class=\"sk-label-container\"><div class=\"sk-label sk-toggleable\"><input class=\"sk-toggleable__control sk-hidden--visually\" id=\"sk-estimator-id-13\" type=\"checkbox\" ><label for=\"sk-estimator-id-13\" class=\"sk-toggleable__label sk-toggleable__label-arrow\">GridSearchCV</label><div class=\"sk-toggleable__content\"><pre>GridSearchCV(cv=StratifiedKFold(n_splits=5, random_state=42, shuffle=True),\n",
              "             estimator=Pipeline(steps=[(&#x27;preprocessing&#x27;, StandardScaler()),\n",
              "                                       (&#x27;classifier&#x27;, LogisticRegression())]),\n",
              "             param_grid=[{&#x27;classifier&#x27;: [LogisticRegression(max_iter=2000)],\n",
              "                          &#x27;preprocessing&#x27;: [StandardScaler(), None]},\n",
              "                         {&#x27;classifier&#x27;: [KNeighborsClassifier()],\n",
              "                          &#x27;classifier__n_neighbors&#x27;: [1, 2, 3, 4, 5, 6, 7, 8, 9,\n",
              "                                                      10, 11, 12, 13, 14],\n",
              "                          &#x27;preprocessing&#x27;: [None]}])</pre></div></div></div><div class=\"sk-parallel\"><div class=\"sk-parallel-item\"><div class=\"sk-item\"><div class=\"sk-label-container\"><div class=\"sk-label sk-toggleable\"><input class=\"sk-toggleable__control sk-hidden--visually\" id=\"sk-estimator-id-14\" type=\"checkbox\" ><label for=\"sk-estimator-id-14\" class=\"sk-toggleable__label sk-toggleable__label-arrow\">estimator: Pipeline</label><div class=\"sk-toggleable__content\"><pre>Pipeline(steps=[(&#x27;preprocessing&#x27;, StandardScaler()),\n",
              "                (&#x27;classifier&#x27;, LogisticRegression())])</pre></div></div></div><div class=\"sk-serial\"><div class=\"sk-item\"><div class=\"sk-serial\"><div class=\"sk-item\"><div class=\"sk-estimator sk-toggleable\"><input class=\"sk-toggleable__control sk-hidden--visually\" id=\"sk-estimator-id-15\" type=\"checkbox\" ><label for=\"sk-estimator-id-15\" class=\"sk-toggleable__label sk-toggleable__label-arrow\">StandardScaler</label><div class=\"sk-toggleable__content\"><pre>StandardScaler()</pre></div></div></div><div class=\"sk-item\"><div class=\"sk-estimator sk-toggleable\"><input class=\"sk-toggleable__control sk-hidden--visually\" id=\"sk-estimator-id-16\" type=\"checkbox\" ><label for=\"sk-estimator-id-16\" class=\"sk-toggleable__label sk-toggleable__label-arrow\">LogisticRegression</label><div class=\"sk-toggleable__content\"><pre>LogisticRegression()</pre></div></div></div></div></div></div></div></div></div></div></div></div>"
            ],
            "text/plain": [
              "GridSearchCV(cv=StratifiedKFold(n_splits=5, random_state=42, shuffle=True),\n",
              "             estimator=Pipeline(steps=[('preprocessing', StandardScaler()),\n",
              "                                       ('classifier', LogisticRegression())]),\n",
              "             param_grid=[{'classifier': [LogisticRegression(max_iter=2000)],\n",
              "                          'preprocessing': [StandardScaler(), None]},\n",
              "                         {'classifier': [KNeighborsClassifier()],\n",
              "                          'classifier__n_neighbors': [1, 2, 3, 4, 5, 6, 7, 8, 9,\n",
              "                                                      10, 11, 12, 13, 14],\n",
              "                          'preprocessing': [None]}])"
            ]
          },
          "execution_count": 371,
          "metadata": {},
          "output_type": "execute_result"
        }
      ],
      "source": [
        "grid = GridSearchCV(pipe, param_grid, cv=folds)\n",
        "grid.fit(X_train, y_train)"
      ]
    },
    {
      "cell_type": "code",
      "execution_count": 372,
      "metadata": {
        "id": "lGl0pO5WXte7",
        "outputId": "15636c82-e67d-483c-c2b4-526c501b7d9f",
        "colab": {
          "base_uri": "https://localhost:8080/"
        }
      },
      "outputs": [
        {
          "metadata": {
            "tags": null
          },
          "name": "stdout",
          "output_type": "stream",
          "text": [
            "Best params:\n",
            "{'classifier': LogisticRegression(max_iter=2000), 'preprocessing': StandardScaler()}\n",
            "\n",
            "Best cross-validation score: 0.58\n",
            "Test-set score: 0.58\n"
          ]
        }
      ],
      "source": [
        "print(\"Best params:\\n{}\\n\".format(grid.best_params_))\n",
        "print(\"Best cross-validation score: {:.2f}\".format(grid.best_score_))\n",
        "print(\"Test-set score: {:.2f}\".format(grid.score(X_test, y_test)))"
      ]
    },
    {
      "cell_type": "code",
      "execution_count": 373,
      "metadata": {
        "id": "RkjZ4EcQXte7"
      },
      "outputs": [],
      "source": [
        "#pasos = [('scaler', StandardScaler()), ('knn', KNeighborsClassifier())]\n"
      ]
    },
    {
      "cell_type": "code",
      "execution_count": 374,
      "metadata": {
        "id": "PhY4nSf4Xte8"
      },
      "outputs": [],
      "source": [
        "#pipe_grid = Pipeline(pasos)"
      ]
    },
    {
      "cell_type": "code",
      "execution_count": 375,
      "metadata": {
        "id": "U07ss-0gXte8"
      },
      "outputs": [],
      "source": [
        "#folds=StratifiedKFold(n_splits=5,shuffle=True, random_state=42)"
      ]
    },
    {
      "cell_type": "code",
      "execution_count": 376,
      "metadata": {
        "id": "szQ_XLCrXte8"
      },
      "outputs": [],
      "source": [
        "#param_grid = {'knn__n_neighbors':range(2,20,2),'knn__weights':['uniform','distance']}"
      ]
    },
    {
      "cell_type": "code",
      "execution_count": 377,
      "metadata": {
        "id": "AQVpn2_ZXte8"
      },
      "outputs": [],
      "source": [
        "#grid = GridSearchCV(pipe_grid, param_grid, cv=folds)\n",
        "#grid.fit(X_train, y_train)"
      ]
    },
    {
      "cell_type": "markdown",
      "metadata": {
        "id": "vEPoKgnTXte8"
      },
      "source": [
        "# 5. Implementación de Modelos"
      ]
    },
    {
      "cell_type": "markdown",
      "metadata": {
        "id": "b3zNt3ZKXte9"
      },
      "source": [
        "### 5.1 Definimos función para visualizar resultados"
      ]
    },
    {
      "cell_type": "code",
      "execution_count": 378,
      "metadata": {
        "id": "oO9zMGh8Xte9"
      },
      "outputs": [],
      "source": [
        "# Esta funcion toma los sets (X_test, y_test) y la predicción y_pred de un modelo\n",
        "# Para entregar gráficas y métricas de score\n",
        "\n",
        "def GRAFICAS(X_ts, y_ts, y_p):\n",
        "\n",
        "    X_ts = X_ts.copy()    \n",
        "    y_ts = pd.Series(y_ts)\n",
        "    y_p = pd.Series(y_p, index=y_ts.index)\n",
        "    \n",
        "    c = confusion_matrix(y_ts, y_p) # mostramos la matriz de confusion\n",
        "    plt.figure(figsize=(4  ,4))\n",
        "    ax= plt.subplot()\n",
        "    sns.heatmap(c, annot=True, fmt=\"d\")\n",
        "    ax.set_xlabel('Resultados predecidos')\n",
        "    ax.set_ylabel('Resultados del test')\n",
        "    ax.xaxis.set_ticklabels(['B(0)', 'N(1)', \"T(2)\"])\n",
        "    ax.yaxis.set_ticklabels(['B(0)', 'N(1)', \"T(2)\"])\n",
        "    ax.set_title('Matriz de Confusión')\n",
        "    plt.show()\n",
        "    \n",
        "\n",
        "    print(f\"El accuracy global del modelo es {accuracy_score(y_ts, y_p)}.\")\n",
        "\n",
        "    # Me armo un df de scores para cada resultado\n",
        "    scores = pd.DataFrame({\"Resultado\":range(3),\n",
        "                         \"sensibilidad\":pd.Series(recall_score(y_ts, y_p, average=None)),\n",
        "                         \"precisión\":pd.Series(precision_score(y_ts, y_p, average=None)),\n",
        "                         \"f1\":pd.Series(f1_score(y_ts, y_p, average=None))})\n",
        "    scores.index.name='Resultado'\n",
        "    print(f\"\\n\\nEstos son los scores para cada resultado\")\n",
        "\n",
        "    display(scores.loc[:,\"sensibilidad\":].transpose().round(3))\n",
        "    \n",
        "    # hacemos un melt sobre Resultados para graficar\n",
        "    df = scores.melt(\"Resultado\", var_name='scores', value_name='Scores')\n",
        "    # graficamos los scores para cada resultado\n",
        "    sns.catplot(x=\"Resultado\", y=\"Scores\", hue='scores', data=df, kind='point')\n",
        "    #plt.savefig(f\"tp3_{type(modelo)}.png\")\n",
        "    plt.show()\n",
        "\n",
        "    # Mostremos los errores cometidos\n",
        "    err = y_ts != y_p # Hacemos una mascara de errores\n",
        "\n",
        "    print(f\"\\n\\nEstos son los errores de sensado (resultado mal identificado) y los errores de presición (resultado mal asignado):\") \n",
        "\n",
        "    err1 = pd.DataFrame({\"Mal sensado\":y_ts[err].value_counts(), \"Mal predecido\":y_p[err].value_counts()})\n",
        "    tot1 = err1[\"Mal sensado\"].sum()\n",
        "    tot2 = err1[\"Mal predecido\"].sum()\n",
        "    err1.loc[\"Total\"] = [tot1,tot2]\n",
        "    err1.index.name='Resultado'\n",
        "    display(err1.transpose())\n",
        "\n",
        "    # Un dataframe de errores:\n",
        "    errores = pd.DataFrame({\"y_ts\":y_ts[err], \"y_p\":y_p[err]})\n",
        "    errores[\"frecuencia\"] = errores.apply(lambda x: c[int(x.y_ts),int(x.y_p)] ,axis=1)\n",
        "    errores = errores.sort_values(by=[\"frecuencia\",'y_ts', 'y_p'],ascending=[False,False,False])\n",
        "\n",
        "    print(f\"\\n\\nAquí se muestra la frecuencia de cada uno de los {errores.shape[0]} errores cometidos:\")\n",
        "    display (errores.drop_duplicates().set_index('frecuencia').transpose())\n",
        " \n",
        "    # Y para finalizar graficamos los errores de predicción,\n",
        "    # con la perspectiva puesta en Los Elos, que son nuestros\n",
        "    # mejores predictores\n",
        "    X_ts[\"Errores de Sensibilidad\"] = y_ts    \n",
        "    X_ts[\"Errores de Precisión\"] = y_p\n",
        "    \n",
        "    print(\"\\n\\nEstos son los errores de recall:\")\n",
        "    sns.pairplot(X_ts[err], vars=['WhiteElo', 'BlackElo'], hue = \"Errores de Sensibilidad\", plot_kws={\"s\": 3})\n",
        "    plt.show()\n",
        "\n",
        "    # Acá se va a ver cómo los modelos predicen empates sólo para los jugadores de mayor Elo.\n",
        "    print(\"\\n\\nEstos son los errores de precisión:\")\n",
        "    sns.pairplot(X_ts[err], vars=['WhiteElo', 'BlackElo'], hue = \"Errores de Precisión\", plot_kws={\"s\": 3})\n",
        "    plt.show()\n"
      ]
    },
    {
      "cell_type": "markdown",
      "metadata": {
        "id": "W3UusTHZXte_"
      },
      "source": [
        "Regresion Logistica"
      ]
    },
    {
      "cell_type": "code",
      "execution_count": 379,
      "metadata": {
        "id": "L7wVHx8OXte_"
      },
      "outputs": [],
      "source": [
        "from sklearn.linear_model import LogisticRegression\n",
        "\n",
        "lr = LogisticRegression(max_iter=2000, random_state=1)\n",
        "\n",
        "lr.fit(X_train, y_train) \n",
        "\n",
        "ypred_lr_train = lr.predict(X_train)\n",
        "ypred_lr_test = lr.predict(X_test)\n"
      ]
    },
    {
      "cell_type": "code",
      "execution_count": 380,
      "metadata": {
        "id": "8kqivJIcXtfA",
        "outputId": "78f33f59-38cc-4c14-8a69-9e6fca5b4265",
        "colab": {
          "base_uri": "https://localhost:8080/",
          "height": 1000
        }
      },
      "outputs": [
        {
          "data": {
            "image/png": "[encoded data removed]",
            "text/plain": [
              "<Figure size 288x288 with 2 Axes>"
            ]
          },
          "metadata": {},
          "output_type": "display_data"
        },
        {
          "metadata": {
            "tags": null
          },
          "name": "stdout",
          "output_type": "stream",
          "text": [
            "El accuracy global del modelo es 0.5792594133555232.\n",
            "\n",
            "\n",
            "Estos son los scores para cada resultado\n"
          ]
        },
        {
          "data": {
            "text/html": [
              "\n",
              "  <div id=\"df-74a62e8a-fc76-43d6-b8cf-ccc2737434d1\">\n",
              "    <div class=\"colab-df-container\">\n",
              "      <div>\n",
              "<style scoped>\n",
              "    .dataframe tbody tr th:only-of-type {\n",
              "        vertical-align: middle;\n",
              "    }\n",
              "\n",
              "    .dataframe tbody tr th {\n",
              "        vertical-align: top;\n",
              "    }\n",
              "\n",
              "    .dataframe thead th {\n",
              "        text-align: right;\n",
              "    }\n",
              "</style>\n",
              "<table border=\"1\" class=\"dataframe\">\n",
              "  <thead>\n",
              "    <tr style=\"text-align: right;\">\n",
              "      <th>Resultado</th>\n",
              "      <th>0</th>\n",
              "      <th>1</th>\n",
              "      <th>2</th>\n",
              "    </tr>\n",
              "  </thead>\n",
              "  <tbody>\n",
              "    <tr>\n",
              "      <th>sensibilidad</th>\n",
              "      <td>0.740</td>\n",
              "      <td>0.605</td>\n",
              "      <td>0.103</td>\n",
              "    </tr>\n",
              "    <tr>\n",
              "      <th>precisión</th>\n",
              "      <td>0.587</td>\n",
              "      <td>0.585</td>\n",
              "      <td>0.420</td>\n",
              "    </tr>\n",
              "    <tr>\n",
              "      <th>f1</th>\n",
              "      <td>0.655</td>\n",
              "      <td>0.595</td>\n",
              "      <td>0.166</td>\n",
              "    </tr>\n",
              "  </tbody>\n",
              "</table>\n",
              "</div>\n",
              "      <button class=\"colab-df-convert\" onclick=\"convertToInteractive('df-74a62e8a-fc76-43d6-b8cf-ccc2737434d1')\"\n",
              "              title=\"Convert this dataframe to an interactive table.\"\n",
              "              style=\"display:none;\">\n",
              "        \n",
              "  <svg xmlns=\"http://www.w3.org/2000/svg\" height=\"24px\"viewBox=\"0 0 24 24\"\n",
              "       width=\"24px\">\n",
              "    <path d=\"M0 0h24v24H0V0z\" fill=\"none\"/>\n",
              "    <path d=\"M18.56 5.44l.94 2.06.94-2.06 2.06-.94-2.06-.94-.94-2.06-.94 2.06-2.06.94zm-11 1L8.5 8.5l.94-2.06 2.06-.94-2.06-.94L8.5 2.5l-.94 2.06-2.06.94zm10 10l.94 2.06.94-2.06 2.06-.94-2.06-.94-.94-2.06-.94 2.06-2.06.94z\"/><path d=\"M17.41 7.96l-1.37-1.37c-.4-.4-.92-.59-1.43-.59-.52 0-1.04.2-1.43.59L10.3 9.45l-7.72 7.72c-.78.78-.78 2.05 0 2.83L4 21.41c.39.39.9.59 1.41.59.51 0 1.02-.2 1.41-.59l7.78-7.78 2.81-2.81c.8-.78.8-2.07 0-2.86zM5.41 20L4 18.59l7.72-7.72 1.47 1.35L5.41 20z\"/>\n",
              "  </svg>\n",
              "      </button>\n",
              "      \n",
              "  <style>\n",
              "    .colab-df-container {\n",
              "      display:flex;\n",
              "      flex-wrap:wrap;\n",
              "      gap: 12px;\n",
              "    }\n",
              "\n",
              "    .colab-df-convert {\n",
              "      background-color: #E8F0FE;\n",
              "      border: none;\n",
              "      border-radius: 50%;\n",
              "      cursor: pointer;\n",
              "      display: none;\n",
              "      fill: #1967D2;\n",
              "      height: 32px;\n",
              "      padding: 0 0 0 0;\n",
              "      width: 32px;\n",
              "    }\n",
              "\n",
              "    .colab-df-convert:hover {\n",
              "      background-color: #E2EBFA;\n",
              "      box-shadow: 0px 1px 2px rgba(60, 64, 67, 0.3), 0px 1px 3px 1px rgba(60, 64, 67, 0.15);\n",
              "      fill: #174EA6;\n",
              "    }\n",
              "\n",
              "    [theme=dark] .colab-df-convert {\n",
              "      background-color: #3B4455;\n",
              "      fill: #D2E3FC;\n",
              "    }\n",
              "\n",
              "    [theme=dark] .colab-df-convert:hover {\n",
              "      background-color: #434B5C;\n",
              "      box-shadow: 0px 1px 3px 1px rgba(0, 0, 0, 0.15);\n",
              "      filter: drop-shadow(0px 1px 2px rgba(0, 0, 0, 0.3));\n",
              "      fill: #FFFFFF;\n",
              "    }\n",
              "  </style>\n",
              "\n",
              "      <script>\n",
              "        const buttonEl =\n",
              "          document.querySelector('#df-74a62e8a-fc76-43d6-b8cf-ccc2737434d1 button.colab-df-convert');\n",
              "        buttonEl.style.display =\n",
              "          google.colab.kernel.accessAllowed ? 'block' : 'none';\n",
              "\n",
              "        async function convertToInteractive(key) {\n",
              "          const element = document.querySelector('#df-74a62e8a-fc76-43d6-b8cf-ccc2737434d1');\n",
              "          const dataTable =\n",
              "            await google.colab.kernel.invokeFunction('convertToInteractive',\n",
              "                                                     [key], {});\n",
              "          if (!dataTable) return;\n",
              "\n",
              "          const docLinkHtml = 'Like what you see? Visit the ' +\n",
              "            '<a target=\"_blank\" href=https://colab.research.google.com/notebooks/data_table.ipynb>data table notebook</a>'\n",
              "            + ' to learn more about interactive tables.';\n",
              "          element.innerHTML = '';\n",
              "          dataTable['output_type'] = 'display_data';\n",
              "          await google.colab.output.renderOutput(dataTable, element);\n",
              "          const docLink = document.createElement('div');\n",
              "          docLink.innerHTML = docLinkHtml;\n",
              "          element.appendChild(docLink);\n",
              "        }\n",
              "      </script>\n",
              "    </div>\n",
              "  </div>\n",
              "  "
            ],
            "text/plain": [
              "Resultado         0      1      2\n",
              "sensibilidad  0.740  0.605  0.103\n",
              "precisión     0.587  0.585  0.420\n",
              "f1            0.655  0.595  0.166"
            ]
          },
          "metadata": {},
          "output_type": "display_data"
        },
        {
          "data": {
            "image/png": "[encoded data removed]",
            "text/plain": [
              "<Figure size 465.225x360 with 1 Axes>"
            ]
          },
          "metadata": {},
          "output_type": "display_data"
        },
        {
          "metadata": {
            "tags": null
          },
          "name": "stdout",
          "output_type": "stream",
          "text": [
            "\n",
            "\n",
            "Estos son los errores de sensado (resultado mal identificado) y los errores de presición (resultado mal asignado):\n"
          ]
        },
        {
          "data": {
            "text/html": [
              "\n",
              "  <div id=\"df-66089779-ad4b-42b9-9740-d070fbcc4955\">\n",
              "    <div class=\"colab-df-container\">\n",
              "      <div>\n",
              "<style scoped>\n",
              "    .dataframe tbody tr th:only-of-type {\n",
              "        vertical-align: middle;\n",
              "    }\n",
              "\n",
              "    .dataframe tbody tr th {\n",
              "        vertical-align: top;\n",
              "    }\n",
              "\n",
              "    .dataframe thead th {\n",
              "        text-align: right;\n",
              "    }\n",
              "</style>\n",
              "<table border=\"1\" class=\"dataframe\">\n",
              "  <thead>\n",
              "    <tr style=\"text-align: right;\">\n",
              "      <th>Resultado</th>\n",
              "      <th>0.0</th>\n",
              "      <th>1.0</th>\n",
              "      <th>2.0</th>\n",
              "      <th>Total</th>\n",
              "    </tr>\n",
              "  </thead>\n",
              "  <tbody>\n",
              "    <tr>\n",
              "      <th>Mal sensado</th>\n",
              "      <td>1113</td>\n",
              "      <td>1458</td>\n",
              "      <td>1474</td>\n",
              "      <td>4045</td>\n",
              "    </tr>\n",
              "    <tr>\n",
              "      <th>Mal predecido</th>\n",
              "      <td>2222</td>\n",
              "      <td>1588</td>\n",
              "      <td>235</td>\n",
              "      <td>4045</td>\n",
              "    </tr>\n",
              "  </tbody>\n",
              "</table>\n",
              "</div>\n",
              "      <button class=\"colab-df-convert\" onclick=\"convertToInteractive('df-66089779-ad4b-42b9-9740-d070fbcc4955')\"\n",
              "              title=\"Convert this dataframe to an interactive table.\"\n",
              "              style=\"display:none;\">\n",
              "        \n",
              "  <svg xmlns=\"http://www.w3.org/2000/svg\" height=\"24px\"viewBox=\"0 0 24 24\"\n",
              "       width=\"24px\">\n",
              "    <path d=\"M0 0h24v24H0V0z\" fill=\"none\"/>\n",
              "    <path d=\"M18.56 5.44l.94 2.06.94-2.06 2.06-.94-2.06-.94-.94-2.06-.94 2.06-2.06.94zm-11 1L8.5 8.5l.94-2.06 2.06-.94-2.06-.94L8.5 2.5l-.94 2.06-2.06.94zm10 10l.94 2.06.94-2.06 2.06-.94-2.06-.94-.94-2.06-.94 2.06-2.06.94z\"/><path d=\"M17.41 7.96l-1.37-1.37c-.4-.4-.92-.59-1.43-.59-.52 0-1.04.2-1.43.59L10.3 9.45l-7.72 7.72c-.78.78-.78 2.05 0 2.83L4 21.41c.39.39.9.59 1.41.59.51 0 1.02-.2 1.41-.59l7.78-7.78 2.81-2.81c.8-.78.8-2.07 0-2.86zM5.41 20L4 18.59l7.72-7.72 1.47 1.35L5.41 20z\"/>\n",
              "  </svg>\n",
              "      </button>\n",
              "      \n",
              "  <style>\n",
              "    .colab-df-container {\n",
              "      display:flex;\n",
              "      flex-wrap:wrap;\n",
              "      gap: 12px;\n",
              "    }\n",
              "\n",
              "    .colab-df-convert {\n",
              "      background-color: #E8F0FE;\n",
              "      border: none;\n",
              "      border-radius: 50%;\n",
              "      cursor: pointer;\n",
              "      display: none;\n",
              "      fill: #1967D2;\n",
              "      height: 32px;\n",
              "      padding: 0 0 0 0;\n",
              "      width: 32px;\n",
              "    }\n",
              "\n",
              "    .colab-df-convert:hover {\n",
              "      background-color: #E2EBFA;\n",
              "      box-shadow: 0px 1px 2px rgba(60, 64, 67, 0.3), 0px 1px 3px 1px rgba(60, 64, 67, 0.15);\n",
              "      fill: #174EA6;\n",
              "    }\n",
              "\n",
              "    [theme=dark] .colab-df-convert {\n",
              "      background-color: #3B4455;\n",
              "      fill: #D2E3FC;\n",
              "    }\n",
              "\n",
              "    [theme=dark] .colab-df-convert:hover {\n",
              "      background-color: #434B5C;\n",
              "      box-shadow: 0px 1px 3px 1px rgba(0, 0, 0, 0.15);\n",
              "      filter: drop-shadow(0px 1px 2px rgba(0, 0, 0, 0.3));\n",
              "      fill: #FFFFFF;\n",
              "    }\n",
              "  </style>\n",
              "\n",
              "      <script>\n",
              "        const buttonEl =\n",
              "          document.querySelector('#df-66089779-ad4b-42b9-9740-d070fbcc4955 button.colab-df-convert');\n",
              "        buttonEl.style.display =\n",
              "          google.colab.kernel.accessAllowed ? 'block' : 'none';\n",
              "\n",
              "        async function convertToInteractive(key) {\n",
              "          const element = document.querySelector('#df-66089779-ad4b-42b9-9740-d070fbcc4955');\n",
              "          const dataTable =\n",
              "            await google.colab.kernel.invokeFunction('convertToInteractive',\n",
              "                                                     [key], {});\n",
              "          if (!dataTable) return;\n",
              "\n",
              "          const docLinkHtml = 'Like what you see? Visit the ' +\n",
              "            '<a target=\"_blank\" href=https://colab.research.google.com/notebooks/data_table.ipynb>data table notebook</a>'\n",
              "            + ' to learn more about interactive tables.';\n",
              "          element.innerHTML = '';\n",
              "          dataTable['output_type'] = 'display_data';\n",
              "          await google.colab.output.renderOutput(dataTable, element);\n",
              "          const docLink = document.createElement('div');\n",
              "          docLink.innerHTML = docLinkHtml;\n",
              "          element.appendChild(docLink);\n",
              "        }\n",
              "      </script>\n",
              "    </div>\n",
              "  </div>\n",
              "  "
            ],
            "text/plain": [
              "Resultado       0.0   1.0   2.0  Total\n",
              "Mal sensado    1113  1458  1474   4045\n",
              "Mal predecido  2222  1588   235   4045"
            ]
          },
          "metadata": {},
          "output_type": "display_data"
        },
        {
          "metadata": {
            "tags": null
          },
          "name": "stdout",
          "output_type": "stream",
          "text": [
            "\n",
            "\n",
            "Aquí se muestra la frecuencia de cada uno de los 4045 errores cometidos:\n"
          ]
        },
        {
          "data": {
            "text/html": [
              "\n",
              "  <div id=\"df-5ca9b445-f980-4931-9ad3-06945bd0dbed\">\n",
              "    <div class=\"colab-df-container\">\n",
              "      <div>\n",
              "<style scoped>\n",
              "    .dataframe tbody tr th:only-of-type {\n",
              "        vertical-align: middle;\n",
              "    }\n",
              "\n",
              "    .dataframe tbody tr th {\n",
              "        vertical-align: top;\n",
              "    }\n",
              "\n",
              "    .dataframe thead th {\n",
              "        text-align: right;\n",
              "    }\n",
              "</style>\n",
              "<table border=\"1\" class=\"dataframe\">\n",
              "  <thead>\n",
              "    <tr style=\"text-align: right;\">\n",
              "      <th>frecuencia</th>\n",
              "      <th>1350</th>\n",
              "      <th>986</th>\n",
              "      <th>872</th>\n",
              "      <th>602</th>\n",
              "      <th>127</th>\n",
              "      <th>108</th>\n",
              "    </tr>\n",
              "  </thead>\n",
              "  <tbody>\n",
              "    <tr>\n",
              "      <th>y_ts</th>\n",
              "      <td>1.0</td>\n",
              "      <td>0.0</td>\n",
              "      <td>2.0</td>\n",
              "      <td>2.0</td>\n",
              "      <td>0.0</td>\n",
              "      <td>1.0</td>\n",
              "    </tr>\n",
              "    <tr>\n",
              "      <th>y_p</th>\n",
              "      <td>0.0</td>\n",
              "      <td>1.0</td>\n",
              "      <td>0.0</td>\n",
              "      <td>1.0</td>\n",
              "      <td>2.0</td>\n",
              "      <td>2.0</td>\n",
              "    </tr>\n",
              "  </tbody>\n",
              "</table>\n",
              "</div>\n",
              "      <button class=\"colab-df-convert\" onclick=\"convertToInteractive('df-5ca9b445-f980-4931-9ad3-06945bd0dbed')\"\n",
              "              title=\"Convert this dataframe to an interactive table.\"\n",
              "              style=\"display:none;\">\n",
              "        \n",
              "  <svg xmlns=\"http://www.w3.org/2000/svg\" height=\"24px\"viewBox=\"0 0 24 24\"\n",
              "       width=\"24px\">\n",
              "    <path d=\"M0 0h24v24H0V0z\" fill=\"none\"/>\n",
              "    <path d=\"M18.56 5.44l.94 2.06.94-2.06 2.06-.94-2.06-.94-.94-2.06-.94 2.06-2.06.94zm-11 1L8.5 8.5l.94-2.06 2.06-.94-2.06-.94L8.5 2.5l-.94 2.06-2.06.94zm10 10l.94 2.06.94-2.06 2.06-.94-2.06-.94-.94-2.06-.94 2.06-2.06.94z\"/><path d=\"M17.41 7.96l-1.37-1.37c-.4-.4-.92-.59-1.43-.59-.52 0-1.04.2-1.43.59L10.3 9.45l-7.72 7.72c-.78.78-.78 2.05 0 2.83L4 21.41c.39.39.9.59 1.41.59.51 0 1.02-.2 1.41-.59l7.78-7.78 2.81-2.81c.8-.78.8-2.07 0-2.86zM5.41 20L4 18.59l7.72-7.72 1.47 1.35L5.41 20z\"/>\n",
              "  </svg>\n",
              "      </button>\n",
              "      \n",
              "  <style>\n",
              "    .colab-df-container {\n",
              "      display:flex;\n",
              "      flex-wrap:wrap;\n",
              "      gap: 12px;\n",
              "    }\n",
              "\n",
              "    .colab-df-convert {\n",
              "      background-color: #E8F0FE;\n",
              "      border: none;\n",
              "      border-radius: 50%;\n",
              "      cursor: pointer;\n",
              "      display: none;\n",
              "      fill: #1967D2;\n",
              "      height: 32px;\n",
              "      padding: 0 0 0 0;\n",
              "      width: 32px;\n",
              "    }\n",
              "\n",
              "    .colab-df-convert:hover {\n",
              "      background-color: #E2EBFA;\n",
              "      box-shadow: 0px 1px 2px rgba(60, 64, 67, 0.3), 0px 1px 3px 1px rgba(60, 64, 67, 0.15);\n",
              "      fill: #174EA6;\n",
              "    }\n",
              "\n",
              "    [theme=dark] .colab-df-convert {\n",
              "      background-color: #3B4455;\n",
              "      fill: #D2E3FC;\n",
              "    }\n",
              "\n",
              "    [theme=dark] .colab-df-convert:hover {\n",
              "      background-color: #434B5C;\n",
              "      box-shadow: 0px 1px 3px 1px rgba(0, 0, 0, 0.15);\n",
              "      filter: drop-shadow(0px 1px 2px rgba(0, 0, 0, 0.3));\n",
              "      fill: #FFFFFF;\n",
              "    }\n",
              "  </style>\n",
              "\n",
              "      <script>\n",
              "        const buttonEl =\n",
              "          document.querySelector('#df-5ca9b445-f980-4931-9ad3-06945bd0dbed button.colab-df-convert');\n",
              "        buttonEl.style.display =\n",
              "          google.colab.kernel.accessAllowed ? 'block' : 'none';\n",
              "\n",
              "        async function convertToInteractive(key) {\n",
              "          const element = document.querySelector('#df-5ca9b445-f980-4931-9ad3-06945bd0dbed');\n",
              "          const dataTable =\n",
              "            await google.colab.kernel.invokeFunction('convertToInteractive',\n",
              "                                                     [key], {});\n",
              "          if (!dataTable) return;\n",
              "\n",
              "          const docLinkHtml = 'Like what you see? Visit the ' +\n",
              "            '<a target=\"_blank\" href=https://colab.research.google.com/notebooks/data_table.ipynb>data table notebook</a>'\n",
              "            + ' to learn more about interactive tables.';\n",
              "          element.innerHTML = '';\n",
              "          dataTable['output_type'] = 'display_data';\n",
              "          await google.colab.output.renderOutput(dataTable, element);\n",
              "          const docLink = document.createElement('div');\n",
              "          docLink.innerHTML = docLinkHtml;\n",
              "          element.appendChild(docLink);\n",
              "        }\n",
              "      </script>\n",
              "    </div>\n",
              "  </div>\n",
              "  "
            ],
            "text/plain": [
              "frecuencia  1350  986   872   602   127   108 \n",
              "y_ts         1.0   0.0   2.0   2.0   0.0   1.0\n",
              "y_p          0.0   1.0   0.0   1.0   2.0   2.0"
            ]
          },
          "metadata": {},
          "output_type": "display_data"
        },
        {
          "metadata": {
            "tags": null
          },
          "name": "stdout",
          "output_type": "stream",
          "text": [
            "\n",
            "\n",
            "Estos son los errores de recall:\n"
          ]
        },
        {
          "data": {
            "image/png": "[encoded data removed]",
            "text/plain": [
              "<Figure size 507.05x360 with 6 Axes>"
            ]
          },
          "metadata": {},
          "output_type": "display_data"
        },
        {
          "metadata": {
            "tags": null
          },
          "name": "stdout",
          "output_type": "stream",
          "text": [
            "\n",
            "\n",
            "Estos son los errores de precisión:\n"
          ]
        },
        {
          "data": {
            "image/png": "[encoded data removed]",
            "text/plain": [
              "<Figure size 487.8x360 with 6 Axes>"
            ]
          },
          "metadata": {},
          "output_type": "display_data"
        }
      ],
      "source": [
        "GRAFICAS(X_test, y_test, ypred_lr_test)"
      ]
    },
    {
      "cell_type": "code",
      "execution_count": 381,
      "metadata": {
        "id": "r_vhnrnkXtfA",
        "outputId": "c7fc124d-608b-4154-eec5-909894d1d848",
        "colab": {
          "base_uri": "https://localhost:8080/"
        }
      },
      "outputs": [
        {
          "data": {
            "text/plain": [
              "array([[12596,  4012,   495],\n",
              "       [ 5292,  9001,   480],\n",
              "       [ 3459,  2516,   602]])"
            ]
          },
          "execution_count": 381,
          "metadata": {},
          "output_type": "execute_result"
        }
      ],
      "source": [
        "metrics.confusion_matrix(y_train, ypred_lr_train)"
      ]
    },
    {
      "cell_type": "code",
      "execution_count": 382,
      "metadata": {
        "id": "qRuss7rzXtfA",
        "outputId": "7d650ebe-1713-48ce-c141-2f6b7fe3c629",
        "colab": {
          "base_uri": "https://localhost:8080/"
        }
      },
      "outputs": [
        {
          "data": {
            "text/plain": [
              "0.5773021610797597"
            ]
          },
          "execution_count": 382,
          "metadata": {},
          "output_type": "execute_result"
        }
      ],
      "source": [
        "metrics.accuracy_score(y_train,ypred_lr_train)"
      ]
    },
    {
      "cell_type": "code",
      "execution_count": 383,
      "metadata": {
        "id": "8ujcCcFSXtfA",
        "outputId": "cb9d0b8d-efb4-4927-a4c2-4cb7d43838c9",
        "colab": {
          "base_uri": "https://localhost:8080/"
        }
      },
      "outputs": [
        {
          "data": {
            "text/plain": [
              "0.5792594133555232"
            ]
          },
          "execution_count": 383,
          "metadata": {},
          "output_type": "execute_result"
        }
      ],
      "source": [
        "metrics.accuracy_score(y_test,ypred_lr_test)"
      ]
    },
    {
      "cell_type": "code",
      "execution_count": 384,
      "metadata": {
        "id": "vk3BRbPkXtfB",
        "outputId": "ef431dd8-cbe4-4df0-bf79-8a798d280914",
        "colab": {
          "base_uri": "https://localhost:8080/"
        }
      },
      "outputs": [
        {
          "data": {
            "text/plain": [
              "0.4828074122834767"
            ]
          },
          "execution_count": 384,
          "metadata": {},
          "output_type": "execute_result"
        }
      ],
      "source": [
        "metrics.recall_score(y_test, ypred_lr_test, average='macro')"
      ]
    },
    {
      "cell_type": "code",
      "execution_count": 385,
      "metadata": {
        "id": "E0OZs1pPXtfB",
        "outputId": "f7cf089d-75fe-4245-dd90-d570472a5532",
        "colab": {
          "base_uri": "https://localhost:8080/"
        }
      },
      "outputs": [
        {
          "data": {
            "text/plain": [
              "0.5306178168134581"
            ]
          },
          "execution_count": 385,
          "metadata": {},
          "output_type": "execute_result"
        }
      ],
      "source": [
        "metrics.precision_score(y_test, ypred_lr_test, average='macro')"
      ]
    },
    {
      "cell_type": "code",
      "execution_count": 386,
      "metadata": {
        "id": "T7vy1RxcXtfB",
        "outputId": "833f9b7e-2485-4696-a004-7a91092e9be0",
        "colab": {
          "base_uri": "https://localhost:8080/"
        }
      },
      "outputs": [
        {
          "data": {
            "text/plain": [
              "0.4718570983934895"
            ]
          },
          "execution_count": 386,
          "metadata": {},
          "output_type": "execute_result"
        }
      ],
      "source": [
        "metrics.f1_score(y_test, ypred_lr_test, average='macro')"
      ]
    },
    {
      "cell_type": "code",
      "execution_count": 387,
      "metadata": {
        "id": "Nldef3gaXtfB",
        "outputId": "2b63d0b4-ad6c-4f28-a173-2dc2b251474e",
        "colab": {
          "base_uri": "https://localhost:8080/"
        }
      },
      "outputs": [
        {
          "data": {
            "text/plain": [
              "array([[3163,  986,  127],\n",
              "       [1350, 2236,  108],\n",
              "       [ 872,  602,  170]])"
            ]
          },
          "execution_count": 387,
          "metadata": {},
          "output_type": "execute_result"
        }
      ],
      "source": [
        "metrics.confusion_matrix(y_test, ypred_lr_test)"
      ]
    },
    {
      "cell_type": "markdown",
      "metadata": {
        "id": "BdCswi_IXtfB"
      },
      "source": [
        "Naive Bayes"
      ]
    },
    {
      "cell_type": "code",
      "execution_count": 388,
      "metadata": {
        "id": "rpx6y8cGXtfC"
      },
      "outputs": [],
      "source": [
        "from sklearn.naive_bayes import GaussianNB\n",
        "\n",
        "gnb = GaussianNB()\n",
        "\n",
        "gnb.fit(X_train, y_train)\n",
        "\n",
        "\n",
        "ypred_gnb_train = gnb.predict(X_train)\n",
        "\n",
        "\n",
        "ypred_gnb_test = gnb.predict(X_test)"
      ]
    },
    {
      "cell_type": "code",
      "execution_count": 389,
      "metadata": {
        "id": "ndYTOHAgXtfC",
        "outputId": "f418932b-23e7-4e5d-cceb-a2905776e897",
        "colab": {
          "base_uri": "https://localhost:8080/",
          "height": 1000
        }
      },
      "outputs": [
        {
          "data": {
            "image/png": "[encoded data removed]",
            "text/plain": [
              "<Figure size 288x288 with 2 Axes>"
            ]
          },
          "metadata": {},
          "output_type": "display_data"
        },
        {
          "metadata": {
            "tags": null
          },
          "name": "stdout",
          "output_type": "stream",
          "text": [
            "El accuracy global del modelo es 0.4224048262949865.\n",
            "\n",
            "\n",
            "Estos son los scores para cada resultado\n"
          ]
        },
        {
          "data": {
            "text/html": [
              "\n",
              "  <div id=\"df-8798f3ea-7b24-4224-b1ac-d2c1eb2ceb76\">\n",
              "    <div class=\"colab-df-container\">\n",
              "      <div>\n",
              "<style scoped>\n",
              "    .dataframe tbody tr th:only-of-type {\n",
              "        vertical-align: middle;\n",
              "    }\n",
              "\n",
              "    .dataframe tbody tr th {\n",
              "        vertical-align: top;\n",
              "    }\n",
              "\n",
              "    .dataframe thead th {\n",
              "        text-align: right;\n",
              "    }\n",
              "</style>\n",
              "<table border=\"1\" class=\"dataframe\">\n",
              "  <thead>\n",
              "    <tr style=\"text-align: right;\">\n",
              "      <th>Resultado</th>\n",
              "      <th>0</th>\n",
              "      <th>1</th>\n",
              "      <th>2</th>\n",
              "    </tr>\n",
              "  </thead>\n",
              "  <tbody>\n",
              "    <tr>\n",
              "      <th>sensibilidad</th>\n",
              "      <td>0.120</td>\n",
              "      <td>0.864</td>\n",
              "      <td>0.215</td>\n",
              "    </tr>\n",
              "    <tr>\n",
              "      <th>precisión</th>\n",
              "      <td>0.687</td>\n",
              "      <td>0.413</td>\n",
              "      <td>0.309</td>\n",
              "    </tr>\n",
              "    <tr>\n",
              "      <th>f1</th>\n",
              "      <td>0.205</td>\n",
              "      <td>0.559</td>\n",
              "      <td>0.253</td>\n",
              "    </tr>\n",
              "  </tbody>\n",
              "</table>\n",
              "</div>\n",
              "      <button class=\"colab-df-convert\" onclick=\"convertToInteractive('df-8798f3ea-7b24-4224-b1ac-d2c1eb2ceb76')\"\n",
              "              title=\"Convert this dataframe to an interactive table.\"\n",
              "              style=\"display:none;\">\n",
              "        \n",
              "  <svg xmlns=\"http://www.w3.org/2000/svg\" height=\"24px\"viewBox=\"0 0 24 24\"\n",
              "       width=\"24px\">\n",
              "    <path d=\"M0 0h24v24H0V0z\" fill=\"none\"/>\n",
              "    <path d=\"M18.56 5.44l.94 2.06.94-2.06 2.06-.94-2.06-.94-.94-2.06-.94 2.06-2.06.94zm-11 1L8.5 8.5l.94-2.06 2.06-.94-2.06-.94L8.5 2.5l-.94 2.06-2.06.94zm10 10l.94 2.06.94-2.06 2.06-.94-2.06-.94-.94-2.06-.94 2.06-2.06.94z\"/><path d=\"M17.41 7.96l-1.37-1.37c-.4-.4-.92-.59-1.43-.59-.52 0-1.04.2-1.43.59L10.3 9.45l-7.72 7.72c-.78.78-.78 2.05 0 2.83L4 21.41c.39.39.9.59 1.41.59.51 0 1.02-.2 1.41-.59l7.78-7.78 2.81-2.81c.8-.78.8-2.07 0-2.86zM5.41 20L4 18.59l7.72-7.72 1.47 1.35L5.41 20z\"/>\n",
              "  </svg>\n",
              "      </button>\n",
              "      \n",
              "  <style>\n",
              "    .colab-df-container {\n",
              "      display:flex;\n",
              "      flex-wrap:wrap;\n",
              "      gap: 12px;\n",
              "    }\n",
              "\n",
              "    .colab-df-convert {\n",
              "      background-color: #E8F0FE;\n",
              "      border: none;\n",
              "      border-radius: 50%;\n",
              "      cursor: pointer;\n",
              "      display: none;\n",
              "      fill: #1967D2;\n",
              "      height: 32px;\n",
              "      padding: 0 0 0 0;\n",
              "      width: 32px;\n",
              "    }\n",
              "\n",
              "    .colab-df-convert:hover {\n",
              "      background-color: #E2EBFA;\n",
              "      box-shadow: 0px 1px 2px rgba(60, 64, 67, 0.3), 0px 1px 3px 1px rgba(60, 64, 67, 0.15);\n",
              "      fill: #174EA6;\n",
              "    }\n",
              "\n",
              "    [theme=dark] .colab-df-convert {\n",
              "      background-color: #3B4455;\n",
              "      fill: #D2E3FC;\n",
              "    }\n",
              "\n",
              "    [theme=dark] .colab-df-convert:hover {\n",
              "      background-color: #434B5C;\n",
              "      box-shadow: 0px 1px 3px 1px rgba(0, 0, 0, 0.15);\n",
              "      filter: drop-shadow(0px 1px 2px rgba(0, 0, 0, 0.3));\n",
              "      fill: #FFFFFF;\n",
              "    }\n",
              "  </style>\n",
              "\n",
              "      <script>\n",
              "        const buttonEl =\n",
              "          document.querySelector('#df-8798f3ea-7b24-4224-b1ac-d2c1eb2ceb76 button.colab-df-convert');\n",
              "        buttonEl.style.display =\n",
              "          google.colab.kernel.accessAllowed ? 'block' : 'none';\n",
              "\n",
              "        async function convertToInteractive(key) {\n",
              "          const element = document.querySelector('#df-8798f3ea-7b24-4224-b1ac-d2c1eb2ceb76');\n",
              "          const dataTable =\n",
              "            await google.colab.kernel.invokeFunction('convertToInteractive',\n",
              "                                                     [key], {});\n",
              "          if (!dataTable) return;\n",
              "\n",
              "          const docLinkHtml = 'Like what you see? Visit the ' +\n",
              "            '<a target=\"_blank\" href=https://colab.research.google.com/notebooks/data_table.ipynb>data table notebook</a>'\n",
              "            + ' to learn more about interactive tables.';\n",
              "          element.innerHTML = '';\n",
              "          dataTable['output_type'] = 'display_data';\n",
              "          await google.colab.output.renderOutput(dataTable, element);\n",
              "          const docLink = document.createElement('div');\n",
              "          docLink.innerHTML = docLinkHtml;\n",
              "          element.appendChild(docLink);\n",
              "        }\n",
              "      </script>\n",
              "    </div>\n",
              "  </div>\n",
              "  "
            ],
            "text/plain": [
              "Resultado         0      1      2\n",
              "sensibilidad  0.120  0.864  0.215\n",
              "precisión     0.687  0.413  0.309\n",
              "f1            0.205  0.559  0.253"
            ]
          },
          "metadata": {},
          "output_type": "display_data"
        },
        {
          "data": {
            "image/png": "[encoded data removed]",
            "text/plain": [
              "<Figure size 465.225x360 with 1 Axes>"
            ]
          },
          "metadata": {},
          "output_type": "display_data"
        },
        {
          "metadata": {
            "tags": null
          },
          "name": "stdout",
          "output_type": "stream",
          "text": [
            "\n",
            "\n",
            "Estos son los errores de sensado (resultado mal identificado) y los errores de presición (resultado mal asignado):\n"
          ]
        },
        {
          "data": {
            "text/html": [
              "\n",
              "  <div id=\"df-8987f3ee-90f1-47d6-bc25-ad2014325a80\">\n",
              "    <div class=\"colab-df-container\">\n",
              "      <div>\n",
              "<style scoped>\n",
              "    .dataframe tbody tr th:only-of-type {\n",
              "        vertical-align: middle;\n",
              "    }\n",
              "\n",
              "    .dataframe tbody tr th {\n",
              "        vertical-align: top;\n",
              "    }\n",
              "\n",
              "    .dataframe thead th {\n",
              "        text-align: right;\n",
              "    }\n",
              "</style>\n",
              "<table border=\"1\" class=\"dataframe\">\n",
              "  <thead>\n",
              "    <tr style=\"text-align: right;\">\n",
              "      <th>Resultado</th>\n",
              "      <th>0.0</th>\n",
              "      <th>1.0</th>\n",
              "      <th>2.0</th>\n",
              "      <th>Total</th>\n",
              "    </tr>\n",
              "  </thead>\n",
              "  <tbody>\n",
              "    <tr>\n",
              "      <th>Mal sensado</th>\n",
              "      <td>3761</td>\n",
              "      <td>501</td>\n",
              "      <td>1291</td>\n",
              "      <td>5553</td>\n",
              "    </tr>\n",
              "    <tr>\n",
              "      <th>Mal predecido</th>\n",
              "      <td>235</td>\n",
              "      <td>4529</td>\n",
              "      <td>789</td>\n",
              "      <td>5553</td>\n",
              "    </tr>\n",
              "  </tbody>\n",
              "</table>\n",
              "</div>\n",
              "      <button class=\"colab-df-convert\" onclick=\"convertToInteractive('df-8987f3ee-90f1-47d6-bc25-ad2014325a80')\"\n",
              "              title=\"Convert this dataframe to an interactive table.\"\n",
              "              style=\"display:none;\">\n",
              "        \n",
              "  <svg xmlns=\"http://www.w3.org/2000/svg\" height=\"24px\"viewBox=\"0 0 24 24\"\n",
              "       width=\"24px\">\n",
              "    <path d=\"M0 0h24v24H0V0z\" fill=\"none\"/>\n",
              "    <path d=\"M18.56 5.44l.94 2.06.94-2.06 2.06-.94-2.06-.94-.94-2.06-.94 2.06-2.06.94zm-11 1L8.5 8.5l.94-2.06 2.06-.94-2.06-.94L8.5 2.5l-.94 2.06-2.06.94zm10 10l.94 2.06.94-2.06 2.06-.94-2.06-.94-.94-2.06-.94 2.06-2.06.94z\"/><path d=\"M17.41 7.96l-1.37-1.37c-.4-.4-.92-.59-1.43-.59-.52 0-1.04.2-1.43.59L10.3 9.45l-7.72 7.72c-.78.78-.78 2.05 0 2.83L4 21.41c.39.39.9.59 1.41.59.51 0 1.02-.2 1.41-.59l7.78-7.78 2.81-2.81c.8-.78.8-2.07 0-2.86zM5.41 20L4 18.59l7.72-7.72 1.47 1.35L5.41 20z\"/>\n",
              "  </svg>\n",
              "      </button>\n",
              "      \n",
              "  <style>\n",
              "    .colab-df-container {\n",
              "      display:flex;\n",
              "      flex-wrap:wrap;\n",
              "      gap: 12px;\n",
              "    }\n",
              "\n",
              "    .colab-df-convert {\n",
              "      background-color: #E8F0FE;\n",
              "      border: none;\n",
              "      border-radius: 50%;\n",
              "      cursor: pointer;\n",
              "      display: none;\n",
              "      fill: #1967D2;\n",
              "      height: 32px;\n",
              "      padding: 0 0 0 0;\n",
              "      width: 32px;\n",
              "    }\n",
              "\n",
              "    .colab-df-convert:hover {\n",
              "      background-color: #E2EBFA;\n",
              "      box-shadow: 0px 1px 2px rgba(60, 64, 67, 0.3), 0px 1px 3px 1px rgba(60, 64, 67, 0.15);\n",
              "      fill: #174EA6;\n",
              "    }\n",
              "\n",
              "    [theme=dark] .colab-df-convert {\n",
              "      background-color: #3B4455;\n",
              "      fill: #D2E3FC;\n",
              "    }\n",
              "\n",
              "    [theme=dark] .colab-df-convert:hover {\n",
              "      background-color: #434B5C;\n",
              "      box-shadow: 0px 1px 3px 1px rgba(0, 0, 0, 0.15);\n",
              "      filter: drop-shadow(0px 1px 2px rgba(0, 0, 0, 0.3));\n",
              "      fill: #FFFFFF;\n",
              "    }\n",
              "  </style>\n",
              "\n",
              "      <script>\n",
              "        const buttonEl =\n",
              "          document.querySelector('#df-8987f3ee-90f1-47d6-bc25-ad2014325a80 button.colab-df-convert');\n",
              "        buttonEl.style.display =\n",
              "          google.colab.kernel.accessAllowed ? 'block' : 'none';\n",
              "\n",
              "        async function convertToInteractive(key) {\n",
              "          const element = document.querySelector('#df-8987f3ee-90f1-47d6-bc25-ad2014325a80');\n",
              "          const dataTable =\n",
              "            await google.colab.kernel.invokeFunction('convertToInteractive',\n",
              "                                                     [key], {});\n",
              "          if (!dataTable) return;\n",
              "\n",
              "          const docLinkHtml = 'Like what you see? Visit the ' +\n",
              "            '<a target=\"_blank\" href=https://colab.research.google.com/notebooks/data_table.ipynb>data table notebook</a>'\n",
              "            + ' to learn more about interactive tables.';\n",
              "          element.innerHTML = '';\n",
              "          dataTable['output_type'] = 'display_data';\n",
              "          await google.colab.output.renderOutput(dataTable, element);\n",
              "          const docLink = document.createElement('div');\n",
              "          docLink.innerHTML = docLinkHtml;\n",
              "          element.appendChild(docLink);\n",
              "        }\n",
              "      </script>\n",
              "    </div>\n",
              "  </div>\n",
              "  "
            ],
            "text/plain": [
              "Resultado       0.0   1.0   2.0  Total\n",
              "Mal sensado    3761   501  1291   5553\n",
              "Mal predecido   235  4529   789   5553"
            ]
          },
          "metadata": {},
          "output_type": "display_data"
        },
        {
          "metadata": {
            "tags": null
          },
          "name": "stdout",
          "output_type": "stream",
          "text": [
            "\n",
            "\n",
            "Aquí se muestra la frecuencia de cada uno de los 5553 errores cometidos:\n"
          ]
        },
        {
          "data": {
            "text/html": [
              "\n",
              "  <div id=\"df-7cfeb8cd-1691-4f6d-8275-18857b6b4568\">\n",
              "    <div class=\"colab-df-container\">\n",
              "      <div>\n",
              "<style scoped>\n",
              "    .dataframe tbody tr th:only-of-type {\n",
              "        vertical-align: middle;\n",
              "    }\n",
              "\n",
              "    .dataframe tbody tr th {\n",
              "        vertical-align: top;\n",
              "    }\n",
              "\n",
              "    .dataframe thead th {\n",
              "        text-align: right;\n",
              "    }\n",
              "</style>\n",
              "<table border=\"1\" class=\"dataframe\">\n",
              "  <thead>\n",
              "    <tr style=\"text-align: right;\">\n",
              "      <th>frecuencia</th>\n",
              "      <th>3335</th>\n",
              "      <th>1194</th>\n",
              "      <th>426</th>\n",
              "      <th>363</th>\n",
              "      <th>138</th>\n",
              "      <th>97</th>\n",
              "    </tr>\n",
              "  </thead>\n",
              "  <tbody>\n",
              "    <tr>\n",
              "      <th>y_ts</th>\n",
              "      <td>0.0</td>\n",
              "      <td>2.0</td>\n",
              "      <td>0.0</td>\n",
              "      <td>1.0</td>\n",
              "      <td>1.0</td>\n",
              "      <td>2.0</td>\n",
              "    </tr>\n",
              "    <tr>\n",
              "      <th>y_p</th>\n",
              "      <td>1.0</td>\n",
              "      <td>1.0</td>\n",
              "      <td>2.0</td>\n",
              "      <td>2.0</td>\n",
              "      <td>0.0</td>\n",
              "      <td>0.0</td>\n",
              "    </tr>\n",
              "  </tbody>\n",
              "</table>\n",
              "</div>\n",
              "      <button class=\"colab-df-convert\" onclick=\"convertToInteractive('df-7cfeb8cd-1691-4f6d-8275-18857b6b4568')\"\n",
              "              title=\"Convert this dataframe to an interactive table.\"\n",
              "              style=\"display:none;\">\n",
              "        \n",
              "  <svg xmlns=\"http://www.w3.org/2000/svg\" height=\"24px\"viewBox=\"0 0 24 24\"\n",
              "       width=\"24px\">\n",
              "    <path d=\"M0 0h24v24H0V0z\" fill=\"none\"/>\n",
              "    <path d=\"M18.56 5.44l.94 2.06.94-2.06 2.06-.94-2.06-.94-.94-2.06-.94 2.06-2.06.94zm-11 1L8.5 8.5l.94-2.06 2.06-.94-2.06-.94L8.5 2.5l-.94 2.06-2.06.94zm10 10l.94 2.06.94-2.06 2.06-.94-2.06-.94-.94-2.06-.94 2.06-2.06.94z\"/><path d=\"M17.41 7.96l-1.37-1.37c-.4-.4-.92-.59-1.43-.59-.52 0-1.04.2-1.43.59L10.3 9.45l-7.72 7.72c-.78.78-.78 2.05 0 2.83L4 21.41c.39.39.9.59 1.41.59.51 0 1.02-.2 1.41-.59l7.78-7.78 2.81-2.81c.8-.78.8-2.07 0-2.86zM5.41 20L4 18.59l7.72-7.72 1.47 1.35L5.41 20z\"/>\n",
              "  </svg>\n",
              "      </button>\n",
              "      \n",
              "  <style>\n",
              "    .colab-df-container {\n",
              "      display:flex;\n",
              "      flex-wrap:wrap;\n",
              "      gap: 12px;\n",
              "    }\n",
              "\n",
              "    .colab-df-convert {\n",
              "      background-color: #E8F0FE;\n",
              "      border: none;\n",
              "      border-radius: 50%;\n",
              "      cursor: pointer;\n",
              "      display: none;\n",
              "      fill: #1967D2;\n",
              "      height: 32px;\n",
              "      padding: 0 0 0 0;\n",
              "      width: 32px;\n",
              "    }\n",
              "\n",
              "    .colab-df-convert:hover {\n",
              "      background-color: #E2EBFA;\n",
              "      box-shadow: 0px 1px 2px rgba(60, 64, 67, 0.3), 0px 1px 3px 1px rgba(60, 64, 67, 0.15);\n",
              "      fill: #174EA6;\n",
              "    }\n",
              "\n",
              "    [theme=dark] .colab-df-convert {\n",
              "      background-color: #3B4455;\n",
              "      fill: #D2E3FC;\n",
              "    }\n",
              "\n",
              "    [theme=dark] .colab-df-convert:hover {\n",
              "      background-color: #434B5C;\n",
              "      box-shadow: 0px 1px 3px 1px rgba(0, 0, 0, 0.15);\n",
              "      filter: drop-shadow(0px 1px 2px rgba(0, 0, 0, 0.3));\n",
              "      fill: #FFFFFF;\n",
              "    }\n",
              "  </style>\n",
              "\n",
              "      <script>\n",
              "        const buttonEl =\n",
              "          document.querySelector('#df-7cfeb8cd-1691-4f6d-8275-18857b6b4568 button.colab-df-convert');\n",
              "        buttonEl.style.display =\n",
              "          google.colab.kernel.accessAllowed ? 'block' : 'none';\n",
              "\n",
              "        async function convertToInteractive(key) {\n",
              "          const element = document.querySelector('#df-7cfeb8cd-1691-4f6d-8275-18857b6b4568');\n",
              "          const dataTable =\n",
              "            await google.colab.kernel.invokeFunction('convertToInteractive',\n",
              "                                                     [key], {});\n",
              "          if (!dataTable) return;\n",
              "\n",
              "          const docLinkHtml = 'Like what you see? Visit the ' +\n",
              "            '<a target=\"_blank\" href=https://colab.research.google.com/notebooks/data_table.ipynb>data table notebook</a>'\n",
              "            + ' to learn more about interactive tables.';\n",
              "          element.innerHTML = '';\n",
              "          dataTable['output_type'] = 'display_data';\n",
              "          await google.colab.output.renderOutput(dataTable, element);\n",
              "          const docLink = document.createElement('div');\n",
              "          docLink.innerHTML = docLinkHtml;\n",
              "          element.appendChild(docLink);\n",
              "        }\n",
              "      </script>\n",
              "    </div>\n",
              "  </div>\n",
              "  "
            ],
            "text/plain": [
              "frecuencia  3335  1194  426   363   138   97  \n",
              "y_ts         0.0   2.0   0.0   1.0   1.0   2.0\n",
              "y_p          1.0   1.0   2.0   2.0   0.0   0.0"
            ]
          },
          "metadata": {},
          "output_type": "display_data"
        },
        {
          "metadata": {
            "tags": null
          },
          "name": "stdout",
          "output_type": "stream",
          "text": [
            "\n",
            "\n",
            "Estos son los errores de recall:\n"
          ]
        },
        {
          "data": {
            "image/png": "[encoded data removed]",
            "text/plain": [
              "<Figure size 507.05x360 with 6 Axes>"
            ]
          },
          "metadata": {},
          "output_type": "display_data"
        },
        {
          "metadata": {
            "tags": null
          },
          "name": "stdout",
          "output_type": "stream",
          "text": [
            "\n",
            "\n",
            "Estos son los errores de precisión:\n"
          ]
        },
        {
          "data": {
            "image/png": "[encoded data removed]",
            "text/plain": [
              "<Figure size 487.8x360 with 6 Axes>"
            ]
          },
          "metadata": {},
          "output_type": "display_data"
        }
      ],
      "source": [
        "GRAFICAS(X_test, y_test, ypred_gnb_test)"
      ]
    },
    {
      "cell_type": "code",
      "execution_count": 390,
      "metadata": {
        "id": "On4cPhmMXtfC",
        "outputId": "03e36ac8-30d2-41ed-b8c2-d40464bd6a04",
        "colab": {
          "base_uri": "https://localhost:8080/"
        }
      },
      "outputs": [
        {
          "data": {
            "text/plain": [
              "array([[ 2065, 13329,  1709],\n",
              "       [  624, 12720,  1429],\n",
              "       [  362,  4782,  1433]])"
            ]
          },
          "execution_count": 390,
          "metadata": {},
          "output_type": "execute_result"
        }
      ],
      "source": [
        "metrics.confusion_matrix(y_train, ypred_gnb_train)"
      ]
    },
    {
      "cell_type": "code",
      "execution_count": 391,
      "metadata": {
        "id": "lB5sxsxaXtfC",
        "outputId": "4b5a4315-b16d-4b5f-e9ca-b4adf4de9ab5",
        "colab": {
          "base_uri": "https://localhost:8080/"
        }
      },
      "outputs": [
        {
          "data": {
            "text/plain": [
              "array([[ 515, 3335,  426],\n",
              "       [ 138, 3193,  363],\n",
              "       [  97, 1194,  353]])"
            ]
          },
          "execution_count": 391,
          "metadata": {},
          "output_type": "execute_result"
        }
      ],
      "source": [
        "metrics.confusion_matrix(y_test, ypred_gnb_test)"
      ]
    },
    {
      "cell_type": "code",
      "execution_count": 392,
      "metadata": {
        "id": "aap5Y1SDXtfC",
        "outputId": "e2bb954e-d730-4ac7-a6b5-deff546d1d12",
        "colab": {
          "base_uri": "https://localhost:8080/"
        }
      },
      "outputs": [
        {
          "metadata": {
            "tags": null
          },
          "name": "stdout",
          "output_type": "stream",
          "text": [
            "acuracy 0.4224048262949865\n",
            "recall 0.39984483983243296\n",
            "precision 0.46975580342772405\n",
            "f1 0.33924485915437635\n"
          ]
        }
      ],
      "source": [
        "print('acuracy', metrics.accuracy_score(y_test,ypred_gnb_test))\n",
        "print('recall',metrics.recall_score(y_test, ypred_gnb_test, average='macro'))\n",
        "print('precision',metrics.precision_score(y_test, ypred_gnb_test, average='macro'))\n",
        "print('f1',metrics.f1_score(y_test, ypred_gnb_test, average='macro'))"
      ]
    },
    {
      "cell_type": "markdown",
      "metadata": {
        "id": "k4CCnGfTXtfD"
      },
      "source": [
        "### Knn"
      ]
    },
    {
      "cell_type": "code",
      "execution_count": 393,
      "metadata": {
        "id": "WHDLcESnXtfD",
        "outputId": "ab3d8fe6-688d-44da-bddd-3e45c212cbfb",
        "colab": {
          "base_uri": "https://localhost:8080/",
          "height": 133
        }
      },
      "outputs": [
        {
          "metadata": {
            "tags": null
          },
          "name": "stdout",
          "output_type": "stream",
          "text": [
            "Fitting 3 folds for each of 14 candidates, totalling 42 fits\n"
          ]
        },
        {
          "data": {
            "text/html": [
              "<style>#sk-container-id-5 {color: black;background-color: white;}#sk-container-id-5 pre{padding: 0;}#sk-container-id-5 div.sk-toggleable {background-color: white;}#sk-container-id-5 label.sk-toggleable__label {cursor: pointer;display: block;width: 100%;margin-bottom: 0;padding: 0.3em;box-sizing: border-box;text-align: center;}#sk-container-id-5 label.sk-toggleable__label-arrow:before {content: \"▸\";float: left;margin-right: 0.25em;color: #696969;}#sk-container-id-5 label.sk-toggleable__label-arrow:hover:before {color: black;}#sk-container-id-5 div.sk-estimator:hover label.sk-toggleable__label-arrow:before {color: black;}#sk-container-id-5 div.sk-toggleable__content {max-height: 0;max-width: 0;overflow: hidden;text-align: left;background-color: #f0f8ff;}#sk-container-id-5 div.sk-toggleable__content pre {margin: 0.2em;color: black;border-radius: 0.25em;background-color: #f0f8ff;}#sk-container-id-5 input.sk-toggleable__control:checked~div.sk-toggleable__content {max-height: 200px;max-width: 100%;overflow: auto;}#sk-container-id-5 input.sk-toggleable__control:checked~label.sk-toggleable__label-arrow:before {content: \"▾\";}#sk-container-id-5 div.sk-estimator input.sk-toggleable__control:checked~label.sk-toggleable__label {background-color: #d4ebff;}#sk-container-id-5 div.sk-label input.sk-toggleable__control:checked~label.sk-toggleable__label {background-color: #d4ebff;}#sk-container-id-5 input.sk-hidden--visually {border: 0;clip: rect(1px 1px 1px 1px);clip: rect(1px, 1px, 1px, 1px);height: 1px;margin: -1px;overflow: hidden;padding: 0;position: absolute;width: 1px;}#sk-container-id-5 div.sk-estimator {font-family: monospace;background-color: #f0f8ff;border: 1px dotted black;border-radius: 0.25em;box-sizing: border-box;margin-bottom: 0.5em;}#sk-container-id-5 div.sk-estimator:hover {background-color: #d4ebff;}#sk-container-id-5 div.sk-parallel-item::after {content: \"\";width: 100%;border-bottom: 1px solid gray;flex-grow: 1;}#sk-container-id-5 div.sk-label:hover label.sk-toggleable__label {background-color: #d4ebff;}#sk-container-id-5 div.sk-serial::before {content: \"\";position: absolute;border-left: 1px solid gray;box-sizing: border-box;top: 0;bottom: 0;left: 50%;z-index: 0;}#sk-container-id-5 div.sk-serial {display: flex;flex-direction: column;align-items: center;background-color: white;padding-right: 0.2em;padding-left: 0.2em;position: relative;}#sk-container-id-5 div.sk-item {position: relative;z-index: 1;}#sk-container-id-5 div.sk-parallel {display: flex;align-items: stretch;justify-content: center;background-color: white;position: relative;}#sk-container-id-5 div.sk-item::before, #sk-container-id-5 div.sk-parallel-item::before {content: \"\";position: absolute;border-left: 1px solid gray;box-sizing: border-box;top: 0;bottom: 0;left: 50%;z-index: -1;}#sk-container-id-5 div.sk-parallel-item {display: flex;flex-direction: column;z-index: 1;position: relative;background-color: white;}#sk-container-id-5 div.sk-parallel-item:first-child::after {align-self: flex-end;width: 50%;}#sk-container-id-5 div.sk-parallel-item:last-child::after {align-self: flex-start;width: 50%;}#sk-container-id-5 div.sk-parallel-item:only-child::after {width: 0;}#sk-container-id-5 div.sk-dashed-wrapped {border: 1px dashed gray;margin: 0 0.4em 0.5em 0.4em;box-sizing: border-box;padding-bottom: 0.4em;background-color: white;}#sk-container-id-5 div.sk-label label {font-family: monospace;font-weight: bold;display: inline-block;line-height: 1.2em;}#sk-container-id-5 div.sk-label-container {text-align: center;}#sk-container-id-5 div.sk-container {/* jupyter's `normalize.less` sets `[hidden] { display: none; }` but bootstrap.min.css set `[hidden] { display: none !important; }` so we also need the `!important` here to be able to override the default hidden behavior on the sphinx rendered scikit-learn.org. See: https://github.com/scikit-learn/scikit-learn/issues/21755 */display: inline-block !important;position: relative;}#sk-container-id-5 div.sk-text-repr-fallback {display: none;}</style><div id=\"sk-container-id-5\" class=\"sk-top-container\"><div class=\"sk-text-repr-fallback\"><pre>GridSearchCV(cv=3, estimator=KNeighborsClassifier(), n_jobs=-1,\n",
              "             param_grid={&#x27;n_neighbors&#x27;: [1, 2, 3, 4, 5, 6, 7, 8, 9, 10, 11, 12,\n",
              "                                         13, 14]},\n",
              "             verbose=1)</pre><b>In a Jupyter environment, please rerun this cell to show the HTML representation or trust the notebook. <br />On GitHub, the HTML representation is unable to render, please try loading this page with nbviewer.org.</b></div><div class=\"sk-container\" hidden><div class=\"sk-item sk-dashed-wrapped\"><div class=\"sk-label-container\"><div class=\"sk-label sk-toggleable\"><input class=\"sk-toggleable__control sk-hidden--visually\" id=\"sk-estimator-id-17\" type=\"checkbox\" ><label for=\"sk-estimator-id-17\" class=\"sk-toggleable__label sk-toggleable__label-arrow\">GridSearchCV</label><div class=\"sk-toggleable__content\"><pre>GridSearchCV(cv=3, estimator=KNeighborsClassifier(), n_jobs=-1,\n",
              "             param_grid={&#x27;n_neighbors&#x27;: [1, 2, 3, 4, 5, 6, 7, 8, 9, 10, 11, 12,\n",
              "                                         13, 14]},\n",
              "             verbose=1)</pre></div></div></div><div class=\"sk-parallel\"><div class=\"sk-parallel-item\"><div class=\"sk-item\"><div class=\"sk-label-container\"><div class=\"sk-label sk-toggleable\"><input class=\"sk-toggleable__control sk-hidden--visually\" id=\"sk-estimator-id-18\" type=\"checkbox\" ><label for=\"sk-estimator-id-18\" class=\"sk-toggleable__label sk-toggleable__label-arrow\">estimator: KNeighborsClassifier</label><div class=\"sk-toggleable__content\"><pre>KNeighborsClassifier()</pre></div></div></div><div class=\"sk-serial\"><div class=\"sk-item\"><div class=\"sk-estimator sk-toggleable\"><input class=\"sk-toggleable__control sk-hidden--visually\" id=\"sk-estimator-id-19\" type=\"checkbox\" ><label for=\"sk-estimator-id-19\" class=\"sk-toggleable__label sk-toggleable__label-arrow\">KNeighborsClassifier</label><div class=\"sk-toggleable__content\"><pre>KNeighborsClassifier()</pre></div></div></div></div></div></div></div></div></div></div>"
            ],
            "text/plain": [
              "GridSearchCV(cv=3, estimator=KNeighborsClassifier(), n_jobs=-1,\n",
              "             param_grid={'n_neighbors': [1, 2, 3, 4, 5, 6, 7, 8, 9, 10, 11, 12,\n",
              "                                         13, 14]},\n",
              "             verbose=1)"
            ]
          },
          "execution_count": 393,
          "metadata": {},
          "output_type": "execute_result"
        }
      ],
      "source": [
        "from sklearn.neighbors import KNeighborsClassifier\n",
        "\n",
        "knn = KNeighborsClassifier()\n",
        "\n",
        "# Hyperparametros\n",
        "parameters_knn = {\"n_neighbors\" : list(range(1, 15))}\n",
        "\n",
        "clf_knn = GridSearchCV(knn, \n",
        "                   param_grid = parameters_knn, \n",
        "                   refit = True, \n",
        "                   cv = 3,\n",
        "                   verbose=1,\n",
        "                   n_jobs = -1)\n",
        "                   \n",
        "\n",
        "# Fit el modelo ya seleccionado\n",
        "clf_knn.fit(X_train, y_train)"
      ]
    },
    {
      "cell_type": "code",
      "execution_count": 394,
      "metadata": {
        "id": "CAr8Qdy2XtfD",
        "outputId": "da73af25-51cc-4205-ffea-4f449ef23889",
        "colab": {
          "base_uri": "https://localhost:8080/"
        }
      },
      "outputs": [
        {
          "metadata": {
            "tags": null
          },
          "name": "stdout",
          "output_type": "stream",
          "text": [
            "Los mejores parametros fueron {'n_neighbors': 14} con un score de 0.56\n"
          ]
        }
      ],
      "source": [
        "print(\"Los mejores parametros fueron %s con un score de %0.2f\" % (clf_knn.best_params_, clf_knn.best_score_))"
      ]
    },
    {
      "cell_type": "code",
      "execution_count": 395,
      "metadata": {
        "id": "VwKZfHARXtfD"
      },
      "outputs": [],
      "source": [
        "ypred_knn_train = clf_knn.predict(X_train)\n",
        "ypred_knn_test = clf_knn.predict(X_test)"
      ]
    },
    {
      "cell_type": "code",
      "execution_count": 396,
      "metadata": {
        "id": "gIkpCCIzXtfD",
        "outputId": "c03ede22-230d-4c09-f815-d7110dc01855",
        "colab": {
          "base_uri": "https://localhost:8080/"
        }
      },
      "outputs": [
        {
          "metadata": {
            "tags": null
          },
          "name": "stdout",
          "output_type": "stream",
          "text": [
            "acuracy 0.5574162679425837\n",
            "recall 0.469183861862837\n",
            "precision 0.508316458910197\n",
            "f1 0.46295146441428564\n"
          ]
        }
      ],
      "source": [
        "print('acuracy', metrics.accuracy_score(y_test,ypred_knn_test))\n",
        "print('recall',metrics.recall_score(y_test, ypred_knn_test, average='macro'))\n",
        "print('precision',metrics.precision_score(y_test, ypred_knn_test, average='macro'))\n",
        "print('f1',metrics.f1_score(y_test, ypred_knn_test, average='macro'))"
      ]
    },
    {
      "cell_type": "code",
      "execution_count": 397,
      "metadata": {
        "id": "-etmb7sOXtfE",
        "outputId": "62ecb2c2-5669-4d64-fc33-814f7ee22a57",
        "colab": {
          "base_uri": "https://localhost:8080/"
        }
      },
      "outputs": [
        {
          "metadata": {
            "tags": null
          },
          "name": "stdout",
          "output_type": "stream",
          "text": [
            "resultados de train\n",
            "0.5769900918003796\n",
            "[[12297  3516  1290]\n",
            " [ 5242  8232  1299]\n",
            " [ 3088  1831  1658]]\n",
            "resultados de test\n",
            "0.5640732265446224\n",
            "[[3022  905  349]\n",
            " [1369 1996  329]\n",
            " [ 799  440  405]]\n"
          ]
        }
      ],
      "source": [
        "tree_model = tree.DecisionTreeClassifier(min_samples_leaf=20, max_depth=6, random_state=50)\n",
        "tree_model.fit(X_train, y_train)\n",
        "\n",
        "y_train_tree_predict = tree_model.predict(X_train)\n",
        "y_test_tree_predict = tree_model.predict(X_test)\n",
        "\n",
        "print('resultados de train')\n",
        "print(accuracy_score(y_train, y_train_tree_predict))\n",
        "print(confusion_matrix(y_train, y_train_tree_predict))\n",
        "\n",
        "print('resultados de test')\n",
        "print(accuracy_score(y_test, y_test_tree_predict))\n",
        "print(confusion_matrix(y_test, y_test_tree_predict))"
      ]
    },
    {
      "cell_type": "code",
      "execution_count": 398,
      "metadata": {
        "id": "rL6l0ErMXtfE",
        "outputId": "039e1aa0-70ae-4328-953f-223492ecc7c7",
        "colab": {
          "base_uri": "https://localhost:8080/"
        }
      },
      "outputs": [
        {
          "metadata": {
            "tags": null
          },
          "name": "stderr",
          "output_type": "stream",
          "text": [
            "/usr/local/lib/python3.9/dist-packages/sklearn/ensemble/_base.py:166: FutureWarning: `base_estimator` was renamed to `estimator` in version 1.2 and will be removed in 1.4.\n",
            "  warnings.warn(\n"
          ]
        },
        {
          "metadata": {
            "tags": null
          },
          "name": "stdout",
          "output_type": "stream",
          "text": [
            "0.9994798845343666\n",
            "[[17094     6     3]\n",
            " [    3 14769     1]\n",
            " [    4     3  6570]]\n",
            "0.5542958185978781\n",
            "[[2855 1143  278]\n",
            " [1304 2102  288]\n",
            " [ 705  567  372]]\n"
          ]
        }
      ],
      "source": [
        "from sklearn.ensemble import BaggingClassifier\n",
        "\n",
        "bagging_tree = tree.DecisionTreeClassifier()\n",
        "bagging_clf = BaggingClassifier(base_estimator=bagging_tree, n_estimators=100,\n",
        "                                bootstrap=True, n_jobs=1, random_state=50)\n",
        "bagging_clf.fit(X_train, y_train)\n",
        "\n",
        "print(accuracy_score(y_train, bagging_clf.predict(X_train)))\n",
        "print(confusion_matrix(y_train, bagging_clf.predict(X_train)))\n",
        "\n",
        "print(accuracy_score(y_test, bagging_clf.predict(X_test)))\n",
        "print(confusion_matrix(y_test, bagging_clf.predict(X_test)))"
      ]
    },
    {
      "cell_type": "code",
      "execution_count": 399,
      "metadata": {
        "id": "k5rdCaaKXtfE",
        "outputId": "e75aae41-ff5b-48fd-e3ed-6d5a72b50927",
        "colab": {
          "base_uri": "https://localhost:8080/"
        }
      },
      "outputs": [
        {
          "metadata": {
            "tags": null
          },
          "name": "stderr",
          "output_type": "stream",
          "text": [
            "/usr/local/lib/python3.9/dist-packages/xgboost/sklearn.py:1395: UserWarning: `use_label_encoder` is deprecated in 1.7.0.\n",
            "  warnings.warn(\"`use_label_encoder` is deprecated in 1.7.0.\")\n"
          ]
        }
      ],
      "source": [
        "from xgboost.sklearn import XGBClassifier\n",
        "model_xg = XGBClassifier(n_jobs=-1, use_label_encoder=False)"
      ]
    },
    {
      "cell_type": "code",
      "execution_count": 400,
      "metadata": {
        "id": "Dt0mPqdcXtfE"
      },
      "outputs": [],
      "source": [
        "from sklearn.model_selection import GridSearchCV\n",
        "params = {  \n",
        "    \"n_estimators\": [20,50,500],      # Number of boosted trees to fit.\n",
        "    \"max_depth\": [1,2,3,4],            # Maximum tree depth for base learners.\n",
        "    \"learning_rate\": [0.01, 0.1],      # Boosting learning rate (xgb’s “eta”)\n",
        "}"
      ]
    },
    {
      "cell_type": "code",
      "execution_count": 401,
      "metadata": {
        "id": "T_gupXWGXtfE"
      },
      "outputs": [],
      "source": [
        "from sklearn.model_selection import cross_val_score, StratifiedKFold\n",
        "cv = StratifiedKFold(n_splits=5, random_state=41, shuffle=True)"
      ]
    },
    {
      "cell_type": "code",
      "execution_count": 402,
      "metadata": {
        "id": "LdEK9kXiXtfF"
      },
      "outputs": [],
      "source": [
        "xgb = GridSearchCV(model_xg, param_grid=params, cv=cv, verbose=1, n_jobs=-1)"
      ]
    },
    {
      "cell_type": "code",
      "execution_count": 403,
      "metadata": {
        "id": "q-C3iA7dXtfF",
        "outputId": "76441039-61cc-4d3b-80d0-b3ec8d0fa87e",
        "colab": {
          "base_uri": "https://localhost:8080/",
          "height": 188
        }
      },
      "outputs": [
        {
          "metadata": {
            "tags": null
          },
          "name": "stderr",
          "output_type": "stream",
          "text": [
            "/usr/local/lib/python3.9/dist-packages/xgboost/sklearn.py:1395: UserWarning: `use_label_encoder` is deprecated in 1.7.0.\n",
            "  warnings.warn(\"`use_label_encoder` is deprecated in 1.7.0.\")\n"
          ]
        },
        {
          "metadata": {
            "tags": null
          },
          "name": "stdout",
          "output_type": "stream",
          "text": [
            "Fitting 5 folds for each of 24 candidates, totalling 120 fits\n"
          ]
        },
        {
          "output_type": "execute_result",
          "data": {
            "text/plain": [
              "GridSearchCV(cv=StratifiedKFold(n_splits=5, random_state=41, shuffle=True),\n",
              "             estimator=XGBClassifier(base_score=None, booster=None,\n",
              "                                     callbacks=None, colsample_bylevel=None,\n",
              "                                     colsample_bynode=None,\n",
              "                                     colsample_bytree=None,\n",
              "                                     early_stopping_rounds=None,\n",
              "                                     enable_categorical=False, eval_metric=None,\n",
              "                                     feature_types=None, gamma=None,\n",
              "                                     gpu_id=None, grow_policy=None,\n",
              "                                     importance_typ...\n",
              "                                     max_cat_threshold=None,\n",
              "                                     max_cat_to_onehot=None,\n",
              "                                     max_delta_step=None, max_depth=None,\n",
              "                                     max_leaves=None, min_child_weight=None,\n",
              "                                     missing=nan, monotone_constraints=None,\n",
              "                                     n_estimators=100, n_jobs=-1,\n",
              "                                     num_parallel_tree=None, predictor=None,\n",
              "                                     random_state=None, ...),\n",
              "             n_jobs=-1,\n",
              "             param_grid={'learning_rate': [0.01, 0.1],\n",
              "                         'max_depth': [1, 2, 3, 4],\n",
              "                         'n_estimators': [20, 50, 500]},\n",
              "             verbose=1)"
            ],
            "text/html": [
              "<style>#sk-container-id-6 {color: black;background-color: white;}#sk-container-id-6 pre{padding: 0;}#sk-container-id-6 div.sk-toggleable {background-color: white;}#sk-container-id-6 label.sk-toggleable__label {cursor: pointer;display: block;width: 100%;margin-bottom: 0;padding: 0.3em;box-sizing: border-box;text-align: center;}#sk-container-id-6 label.sk-toggleable__label-arrow:before {content: \"▸\";float: left;margin-right: 0.25em;color: #696969;}#sk-container-id-6 label.sk-toggleable__label-arrow:hover:before {color: black;}#sk-container-id-6 div.sk-estimator:hover label.sk-toggleable__label-arrow:before {color: black;}#sk-container-id-6 div.sk-toggleable__content {max-height: 0;max-width: 0;overflow: hidden;text-align: left;background-color: #f0f8ff;}#sk-container-id-6 div.sk-toggleable__content pre {margin: 0.2em;color: black;border-radius: 0.25em;background-color: #f0f8ff;}#sk-container-id-6 input.sk-toggleable__control:checked~div.sk-toggleable__content {max-height: 200px;max-width: 100%;overflow: auto;}#sk-container-id-6 input.sk-toggleable__control:checked~label.sk-toggleable__label-arrow:before {content: \"▾\";}#sk-container-id-6 div.sk-estimator input.sk-toggleable__control:checked~label.sk-toggleable__label {background-color: #d4ebff;}#sk-container-id-6 div.sk-label input.sk-toggleable__control:checked~label.sk-toggleable__label {background-color: #d4ebff;}#sk-container-id-6 input.sk-hidden--visually {border: 0;clip: rect(1px 1px 1px 1px);clip: rect(1px, 1px, 1px, 1px);height: 1px;margin: -1px;overflow: hidden;padding: 0;position: absolute;width: 1px;}#sk-container-id-6 div.sk-estimator {font-family: monospace;background-color: #f0f8ff;border: 1px dotted black;border-radius: 0.25em;box-sizing: border-box;margin-bottom: 0.5em;}#sk-container-id-6 div.sk-estimator:hover {background-color: #d4ebff;}#sk-container-id-6 div.sk-parallel-item::after {content: \"\";width: 100%;border-bottom: 1px solid gray;flex-grow: 1;}#sk-container-id-6 div.sk-label:hover label.sk-toggleable__label {background-color: #d4ebff;}#sk-container-id-6 div.sk-serial::before {content: \"\";position: absolute;border-left: 1px solid gray;box-sizing: border-box;top: 0;bottom: 0;left: 50%;z-index: 0;}#sk-container-id-6 div.sk-serial {display: flex;flex-direction: column;align-items: center;background-color: white;padding-right: 0.2em;padding-left: 0.2em;position: relative;}#sk-container-id-6 div.sk-item {position: relative;z-index: 1;}#sk-container-id-6 div.sk-parallel {display: flex;align-items: stretch;justify-content: center;background-color: white;position: relative;}#sk-container-id-6 div.sk-item::before, #sk-container-id-6 div.sk-parallel-item::before {content: \"\";position: absolute;border-left: 1px solid gray;box-sizing: border-box;top: 0;bottom: 0;left: 50%;z-index: -1;}#sk-container-id-6 div.sk-parallel-item {display: flex;flex-direction: column;z-index: 1;position: relative;background-color: white;}#sk-container-id-6 div.sk-parallel-item:first-child::after {align-self: flex-end;width: 50%;}#sk-container-id-6 div.sk-parallel-item:last-child::after {align-self: flex-start;width: 50%;}#sk-container-id-6 div.sk-parallel-item:only-child::after {width: 0;}#sk-container-id-6 div.sk-dashed-wrapped {border: 1px dashed gray;margin: 0 0.4em 0.5em 0.4em;box-sizing: border-box;padding-bottom: 0.4em;background-color: white;}#sk-container-id-6 div.sk-label label {font-family: monospace;font-weight: bold;display: inline-block;line-height: 1.2em;}#sk-container-id-6 div.sk-label-container {text-align: center;}#sk-container-id-6 div.sk-container {/* jupyter's `normalize.less` sets `[hidden] { display: none; }` but bootstrap.min.css set `[hidden] { display: none !important; }` so we also need the `!important` here to be able to override the default hidden behavior on the sphinx rendered scikit-learn.org. See: https://github.com/scikit-learn/scikit-learn/issues/21755 */display: inline-block !important;position: relative;}#sk-container-id-6 div.sk-text-repr-fallback {display: none;}</style><div id=\"sk-container-id-6\" class=\"sk-top-container\"><div class=\"sk-text-repr-fallback\"><pre>GridSearchCV(cv=StratifiedKFold(n_splits=5, random_state=41, shuffle=True),\n",
              "             estimator=XGBClassifier(base_score=None, booster=None,\n",
              "                                     callbacks=None, colsample_bylevel=None,\n",
              "                                     colsample_bynode=None,\n",
              "                                     colsample_bytree=None,\n",
              "                                     early_stopping_rounds=None,\n",
              "                                     enable_categorical=False, eval_metric=None,\n",
              "                                     feature_types=None, gamma=None,\n",
              "                                     gpu_id=None, grow_policy=None,\n",
              "                                     importance_typ...\n",
              "                                     max_cat_threshold=None,\n",
              "                                     max_cat_to_onehot=None,\n",
              "                                     max_delta_step=None, max_depth=None,\n",
              "                                     max_leaves=None, min_child_weight=None,\n",
              "                                     missing=nan, monotone_constraints=None,\n",
              "                                     n_estimators=100, n_jobs=-1,\n",
              "                                     num_parallel_tree=None, predictor=None,\n",
              "                                     random_state=None, ...),\n",
              "             n_jobs=-1,\n",
              "             param_grid={&#x27;learning_rate&#x27;: [0.01, 0.1],\n",
              "                         &#x27;max_depth&#x27;: [1, 2, 3, 4],\n",
              "                         &#x27;n_estimators&#x27;: [20, 50, 500]},\n",
              "             verbose=1)</pre><b>In a Jupyter environment, please rerun this cell to show the HTML representation or trust the notebook. <br />On GitHub, the HTML representation is unable to render, please try loading this page with nbviewer.org.</b></div><div class=\"sk-container\" hidden><div class=\"sk-item sk-dashed-wrapped\"><div class=\"sk-label-container\"><div class=\"sk-label sk-toggleable\"><input class=\"sk-toggleable__control sk-hidden--visually\" id=\"sk-estimator-id-20\" type=\"checkbox\" ><label for=\"sk-estimator-id-20\" class=\"sk-toggleable__label sk-toggleable__label-arrow\">GridSearchCV</label><div class=\"sk-toggleable__content\"><pre>GridSearchCV(cv=StratifiedKFold(n_splits=5, random_state=41, shuffle=True),\n",
              "             estimator=XGBClassifier(base_score=None, booster=None,\n",
              "                                     callbacks=None, colsample_bylevel=None,\n",
              "                                     colsample_bynode=None,\n",
              "                                     colsample_bytree=None,\n",
              "                                     early_stopping_rounds=None,\n",
              "                                     enable_categorical=False, eval_metric=None,\n",
              "                                     feature_types=None, gamma=None,\n",
              "                                     gpu_id=None, grow_policy=None,\n",
              "                                     importance_typ...\n",
              "                                     max_cat_threshold=None,\n",
              "                                     max_cat_to_onehot=None,\n",
              "                                     max_delta_step=None, max_depth=None,\n",
              "                                     max_leaves=None, min_child_weight=None,\n",
              "                                     missing=nan, monotone_constraints=None,\n",
              "                                     n_estimators=100, n_jobs=-1,\n",
              "                                     num_parallel_tree=None, predictor=None,\n",
              "                                     random_state=None, ...),\n",
              "             n_jobs=-1,\n",
              "             param_grid={&#x27;learning_rate&#x27;: [0.01, 0.1],\n",
              "                         &#x27;max_depth&#x27;: [1, 2, 3, 4],\n",
              "                         &#x27;n_estimators&#x27;: [20, 50, 500]},\n",
              "             verbose=1)</pre></div></div></div><div class=\"sk-parallel\"><div class=\"sk-parallel-item\"><div class=\"sk-item\"><div class=\"sk-label-container\"><div class=\"sk-label sk-toggleable\"><input class=\"sk-toggleable__control sk-hidden--visually\" id=\"sk-estimator-id-21\" type=\"checkbox\" ><label for=\"sk-estimator-id-21\" class=\"sk-toggleable__label sk-toggleable__label-arrow\">estimator: XGBClassifier</label><div class=\"sk-toggleable__content\"><pre>XGBClassifier(base_score=None, booster=None, callbacks=None,\n",
              "              colsample_bylevel=None, colsample_bynode=None,\n",
              "              colsample_bytree=None, early_stopping_rounds=None,\n",
              "              enable_categorical=False, eval_metric=None, feature_types=None,\n",
              "              gamma=None, gpu_id=None, grow_policy=None, importance_type=None,\n",
              "              interaction_constraints=None, learning_rate=None, max_bin=None,\n",
              "              max_cat_threshold=None, max_cat_to_onehot=None,\n",
              "              max_delta_step=None, max_depth=None, max_leaves=None,\n",
              "              min_child_weight=None, missing=nan, monotone_constraints=None,\n",
              "              n_estimators=100, n_jobs=-1, num_parallel_tree=None,\n",
              "              predictor=None, random_state=None, ...)</pre></div></div></div><div class=\"sk-serial\"><div class=\"sk-item\"><div class=\"sk-estimator sk-toggleable\"><input class=\"sk-toggleable__control sk-hidden--visually\" id=\"sk-estimator-id-22\" type=\"checkbox\" ><label for=\"sk-estimator-id-22\" class=\"sk-toggleable__label sk-toggleable__label-arrow\">XGBClassifier</label><div class=\"sk-toggleable__content\"><pre>XGBClassifier(base_score=None, booster=None, callbacks=None,\n",
              "              colsample_bylevel=None, colsample_bynode=None,\n",
              "              colsample_bytree=None, early_stopping_rounds=None,\n",
              "              enable_categorical=False, eval_metric=None, feature_types=None,\n",
              "              gamma=None, gpu_id=None, grow_policy=None, importance_type=None,\n",
              "              interaction_constraints=None, learning_rate=None, max_bin=None,\n",
              "              max_cat_threshold=None, max_cat_to_onehot=None,\n",
              "              max_delta_step=None, max_depth=None, max_leaves=None,\n",
              "              min_child_weight=None, missing=nan, monotone_constraints=None,\n",
              "              n_estimators=100, n_jobs=-1, num_parallel_tree=None,\n",
              "              predictor=None, random_state=None, ...)</pre></div></div></div></div></div></div></div></div></div></div>"
            ]
          },
          "metadata": {},
          "execution_count": 403
        }
      ],
      "source": [
        "xgb.fit(X_train,y_train)"
      ]
    },
    {
      "cell_type": "code",
      "execution_count": 404,
      "metadata": {
        "id": "W8zRc7mFXtfF",
        "outputId": "712d16a2-87bd-402c-abcf-e514b04026f7",
        "colab": {
          "base_uri": "https://localhost:8080/"
        }
      },
      "outputs": [
        {
          "output_type": "execute_result",
          "data": {
            "text/plain": [
              "{'learning_rate': 0.1, 'max_depth': 2, 'n_estimators': 500}"
            ]
          },
          "metadata": {},
          "execution_count": 404
        }
      ],
      "source": [
        "xgb.best_params_"
      ]
    },
    {
      "cell_type": "code",
      "execution_count": 405,
      "metadata": {
        "id": "Aba5d71oXtfF"
      },
      "outputs": [],
      "source": [
        "def evaluar_rendimiento(modelo, nombre, X, y, cv):\n",
        "    s = cross_val_score(modelo, X, y, cv=cv, n_jobs=-1)\n",
        "    print(\"Rendimiento de {}:\\t{:0.3} ± {:0.3}\".format( \\\n",
        "        nombre, s.mean().round(3), s.std().round(3)))"
      ]
    },
    {
      "cell_type": "code",
      "execution_count": 406,
      "metadata": {
        "id": "_Gos6l1GXtfF",
        "outputId": "528936d8-7988-45e7-9b9a-0381f6f981a9",
        "colab": {
          "base_uri": "https://localhost:8080/"
        }
      },
      "outputs": [
        {
          "output_type": "stream",
          "name": "stderr",
          "text": [
            "/usr/local/lib/python3.9/dist-packages/xgboost/sklearn.py:1395: UserWarning: `use_label_encoder` is deprecated in 1.7.0.\n",
            "  warnings.warn(\"`use_label_encoder` is deprecated in 1.7.0.\")\n"
          ]
        },
        {
          "output_type": "stream",
          "name": "stdout",
          "text": [
            "Rendimiento de XG Boost:\t0.59 ± 0.006\n"
          ]
        }
      ],
      "source": [
        "evaluar_rendimiento(xgb.best_estimator_,\"XG Boost\", X_train, y_train, cv)"
      ]
    },
    {
      "cell_type": "code",
      "execution_count": 407,
      "metadata": {
        "id": "1J4LjhTJXtfG"
      },
      "outputs": [],
      "source": [
        "import warnings\n",
        "warnings.filterwarnings(action='ignore', category=UserWarning)"
      ]
    },
    {
      "cell_type": "code",
      "execution_count": 408,
      "metadata": {
        "id": "6eHO0VfnXtfG",
        "outputId": "6c0e43c7-cf8b-43c4-ba52-865f045f4cff",
        "colab": {
          "base_uri": "https://localhost:8080/"
        }
      },
      "outputs": [
        {
          "output_type": "stream",
          "name": "stdout",
          "text": [
            "0.5899729561056792\n",
            "[[3096 1037  143]\n",
            " [1284 2274  136]\n",
            " [ 757  585  302]]\n"
          ]
        }
      ],
      "source": [
        "print(accuracy_score(y_test, xgb.best_estimator_.predict(X_test)))\n",
        "print(confusion_matrix(y_test, xgb.best_estimator_.predict(X_test)))"
      ]
    },
    {
      "cell_type": "markdown",
      "metadata": {
        "id": "lBvo8kK4XtfG"
      },
      "source": [
        "# 6. Almacenamos modelos entrenados en Shelve"
      ]
    },
    {
      "cell_type": "code",
      "execution_count": 409,
      "metadata": {
        "id": "ebEKl_ycXtfG"
      },
      "outputs": [],
      "source": [
        "models = shelve.open('modelos.db')\n",
        "\n",
        "models['reg_log']=lr\n",
        "models['gaussian']=gnb\n",
        "models['knn']=clf_knn\n",
        "models['arbol']=tree_model\n",
        "models['bagging_arbol']=bagging_clf\n",
        "models['xgboosted']=xgb\n",
        "\n",
        "\n",
        "models.close()"
      ]
    }
  ],
  "metadata": {
    "kernelspec": {
      "display_name": "dhdsblend2021",
      "language": "python",
      "name": "python3"
    },
    "language_info": {
      "codemirror_mode": {
        "name": "ipython",
        "version": 3
      },
      "file_extension": ".py",
      "mimetype": "text/x-python",
      "name": "python",
      "nbconvert_exporter": "python",
      "pygments_lexer": "ipython3",
      "version": "3.8.13"
    },
    "orig_nbformat": 4,
    "vscode": {
      "interpreter": {
        "hash": "b43af2114f43bcf982d0b53b081e4c6c708721cc588721c6f40c2d9852c4cd7b"
      }
    },
    "colab": {
      "provenance": []
    }
  },
  "nbformat": 4,
  "nbformat_minor": 0
}