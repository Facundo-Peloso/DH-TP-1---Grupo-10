{
 "cells": [
  {
   "cell_type": "code",
   "execution_count": 6,
   "metadata": {},
   "outputs": [],
   "source": [
    "import pickle\n",
    "import pandas as pd\n",
    "import gradio as gr\n",
    "\n",
    "import warnings\n",
    "warnings.filterwarnings(\"ignore\")"
   ]
  },
  {
   "cell_type": "code",
   "execution_count": 7,
   "metadata": {},
   "outputs": [],
   "source": [
    "# Cargar el modelo\n",
    "with open('modelo_search.pkl', 'rb') as f:\n",
    "    model = pickle.load(f)"
   ]
  },
  {
   "cell_type": "code",
   "execution_count": 8,
   "metadata": {},
   "outputs": [],
   "source": [
    "def predict(mainline_moves, Opening, WhiteFideId, BlackFideId, WhiteElo, BlackElo):\n",
    "    df_model = pd.DataFrame({\"mainline_moves\":mainline_moves,\n",
    "                             \"Opening\":Opening,\n",
    "                             \"WhiteFideId\":WhiteFideId,\n",
    "                             \"BlackFideId\":BlackFideId,\n",
    "                             \"WhiteElo\": WhiteElo, \n",
    "                             \"BlackElo\": BlackElo}, \n",
    "                            index= [0])\n",
    "    \n",
    "    label_pred = model.predict(df_model)[0].item()\n",
    "    \n",
    "    if label_pred == 0:\n",
    "        return \"Ganó Blancas\"\n",
    "    elif label_pred == 1:\n",
    "        return \"Ganó Negras\"\n",
    "    else:\n",
    "        return \"Tablas\""
   ]
  },
  {
   "cell_type": "code",
   "execution_count": 9,
   "metadata": {},
   "outputs": [
    {
     "data": {
      "text/plain": [
       "'Ganó Negras'"
      ]
     },
     "execution_count": 9,
     "metadata": {},
     "output_type": "execute_result"
    }
   ],
   "source": [
    "# Ejmeplo\n",
    "predict(90, \"sicilian\", 12313, 4234234, 2345, 2456)"
   ]
  },
  {
   "cell_type": "code",
   "execution_count": 11,
   "metadata": {},
   "outputs": [
    {
     "name": "stdout",
     "output_type": "stream",
     "text": [
      "Running on local URL:  http://127.0.0.1:7862\n",
      "\n",
      "To create a public link, set `share=True` in `launch()`.\n"
     ]
    },
    {
     "data": {
      "text/html": [
       "<div><iframe src=\"http://127.0.0.1:7862/\" width=\"100%\" height=\"500\" allow=\"autoplay; camera; microphone; clipboard-read; clipboard-write;\" frameborder=\"0\" allowfullscreen></iframe></div>"
      ],
      "text/plain": [
       "<IPython.core.display.HTML object>"
      ]
     },
     "metadata": {},
     "output_type": "display_data"
    },
    {
     "data": {
      "text/plain": []
     },
     "execution_count": 11,
     "metadata": {},
     "output_type": "execute_result"
    }
   ],
   "source": [
    "# Definir los widgets de entrada\n",
    "\n",
    "mainline_moves = gr.inputs.Number(label=\"Mainline Moves\")\n",
    "Opening = gr.inputs.Dropdown(label=\"Opening\", \n",
    "                             choices=[\"Sicilian Defense\", \"French Defense\", \"Caro-Kann Defense\"])\n",
    "WhiteFideId = gr.inputs.Textbox(label=\"White Fide ID\")\n",
    "BlackFideId = gr.inputs.Textbox(label=\"Black Fide ID\")\n",
    "WhiteElo = gr.inputs.Slider(label=\"White Elo\", \n",
    "                            minimum=0, maximum=3000, step=50,\n",
    "                            default=2400)\n",
    "BlackElo = gr.inputs.Slider(label=\"Black Elo\", \n",
    "                            minimum=0, maximum=3000, step=50,\n",
    "                            default=2400)\n",
    "\n",
    "# Definir la salida\n",
    "output_label = gr.outputs.Label(num_top_classes=1, label=\"Resultado de la partida\")\n",
    "\n",
    "# Definir la interfaz\n",
    "iface = gr.Interface(fn=predict, \n",
    "                     inputs=[mainline_moves, Opening, WhiteFideId, BlackFideId, WhiteElo, BlackElo], \n",
    "                     outputs=output_label, \n",
    "                     title=\"Predicción de partidas de Ajedrez\", \n",
    "                     theme=gr.themes.Soft(),\n",
    "                     layout=\"horizontal\",\n",
    "                     allow_flagging=False,\n",
    "                     description=\"Coloca los datos solicitados y descubre el resultado de la partida!\")\n",
    "\n",
    "# Ejecutar la interfaz\n",
    "iface.launch()\n"
   ]
  }
 ],
 "metadata": {
  "kernelspec": {
   "display_name": "base",
   "language": "python",
   "name": "python3"
  },
  "language_info": {
   "codemirror_mode": {
    "name": "ipython",
    "version": 3
   },
   "file_extension": ".py",
   "mimetype": "text/x-python",
   "name": "python",
   "nbconvert_exporter": "python",
   "pygments_lexer": "ipython3",
   "version": "3.9.13"
  },
  "orig_nbformat": 4
 },
 "nbformat": 4,
 "nbformat_minor": 2
}
