{
 "cells": [
  {
   "attachments": {},
   "cell_type": "markdown",
   "metadata": {},
   "source": [
    "# Trabajo Práctico Final\n",
    "\n",
    "# Grupo 10\n",
    "### Integrantes:\n",
    "- Facundo Peloso\n",
    "- Eduardo Barbas\n",
    "- Roberto Biancardi \n",
    "- Juan Pablo Anselmo\n",
    "-Matias \n",
    "\n",
    "El objetivo de este trabajo práctico es implementar modelos de regresión categórica que nos permita resolver problemas de clasificación.\n",
    "\n",
    "Para ello utilizaremos un dataset \"propio\", es decir, fue seleccionado por los integrantes de nuestro grupo.\n",
    "\n",
    "El dataset seleccionado fue un registro de las partidas de ajedrez jugadas en el sitio Chess.com\n",
    "\n",
    "Estos datos describen características de los juegos como: \n",
    "\n",
    "La variable target elegida es la de **Inserte Target**.\n",
    "\n"
   ]
  },
  {
   "attachments": {},
   "cell_type": "markdown",
   "metadata": {},
   "source": [
    "## 0. Importación de Módulos y Librerías"
   ]
  },
  {
   "cell_type": "code",
   "execution_count": 1,
   "metadata": {},
   "outputs": [],
   "source": [
    "#Importacion de librerias/módulos\n",
    "import numpy as np\n",
    "import pandas as pd\n",
    "import matplotlib.pyplot as plt\n",
    "import seaborn as sns\n",
    "sns.set(style=\"darkgrid\")\n",
    "\n",
    "from sklearn.model_selection import train_test_split\n",
    "from sklearn.model_selection import GridSearchCV\n",
    "from sklearn import metrics\n",
    "pd.set_option(\"display.max_columns\", None)\n",
    "\n"
   ]
  },
  {
   "cell_type": "code",
   "execution_count": 2,
   "metadata": {},
   "outputs": [],
   "source": [
    "import pandas as pd\n",
    "import numpy as np\n",
    "import seaborn as sns\n",
    "\n",
    "\n",
    "from sklearn import linear_model\n",
    "from sklearn import metrics\n",
    "from sklearn import tree\n",
    "import matplotlib.pyplot as plt\n",
    "%matplotlib inline\n",
    "\n",
    "from sklearn.model_selection import train_test_split\n",
    "from sklearn.model_selection import GridSearchCV\n",
    "from sklearn.model_selection import StratifiedKFold\n",
    "from sklearn.model_selection import KFold\n",
    "from sklearn.model_selection import cross_val_score\n",
    "\n",
    "from sklearn.preprocessing import StandardScaler\n",
    "\n",
    "from sklearn.linear_model import LinearRegression\n",
    "\n",
    "from sklearn.naive_bayes import GaussianNB\n",
    "\n",
    "from sklearn.metrics import accuracy_score\n",
    "from sklearn.metrics import confusion_matrix\n",
    "from sklearn.metrics import mean_squared_error\n",
    "\n",
    "from sklearn.neighbors import KNeighborsClassifier\n",
    "\n",
    "import statsmodels.api as sm\n",
    "from statsmodels.tools import eval_measures\n",
    "\n",
    "from sklearn.ensemble import RandomForestRegressor\n",
    "from sklearn.ensemble import ExtraTreesRegressor"
   ]
  },
  {
   "attachments": {},
   "cell_type": "markdown",
   "metadata": {},
   "source": [
    "## 1. Lectura de Datos"
   ]
  },
  {
   "cell_type": "code",
   "execution_count": 3,
   "metadata": {},
   "outputs": [
    {
     "name": "stderr",
     "output_type": "stream",
     "text": [
      "c:\\Users\\fpeloso\\Anaconda3\\envs\\dhdsblend2021\\lib\\site-packages\\IPython\\core\\interactiveshell.py:3135: DtypeWarning: Columns (10,13,14,23,25) have mixed types.Specify dtype option on import or set low_memory=False.\n",
      "  has_raised = await self.run_ast_nodes(code_ast.body, cell_name,\n",
      "c:\\Users\\fpeloso\\Anaconda3\\envs\\dhdsblend2021\\lib\\site-packages\\numpy\\lib\\arraysetops.py:580: FutureWarning: elementwise comparison failed; returning scalar instead, but in the future will perform elementwise comparison\n",
      "  mask |= (ar1 == a)\n"
     ]
    }
   ],
   "source": [
    "#Establezco la dirección del archivo\n",
    "file_location=\"twic_master.csv\"\n",
    "\n",
    "#Leo el data set usando la librería pandas\n",
    "# y se almacena en el objeto Dataframe llamado datos_crudos  \n",
    "datos_crudos=pd.read_csv(file_location, index_col=0)"
   ]
  },
  {
   "cell_type": "code",
   "execution_count": 25,
   "metadata": {},
   "outputs": [
    {
     "data": {
      "text/html": [
       "<div>\n",
       "<style scoped>\n",
       "    .dataframe tbody tr th:only-of-type {\n",
       "        vertical-align: middle;\n",
       "    }\n",
       "\n",
       "    .dataframe tbody tr th {\n",
       "        vertical-align: top;\n",
       "    }\n",
       "\n",
       "    .dataframe thead th {\n",
       "        text-align: right;\n",
       "    }\n",
       "</style>\n",
       "<table border=\"1\" class=\"dataframe\">\n",
       "  <thead>\n",
       "    <tr style=\"text-align: right;\">\n",
       "      <th></th>\n",
       "      <th>White</th>\n",
       "      <th>Black</th>\n",
       "      <th>Date</th>\n",
       "      <th>EventDate</th>\n",
       "      <th>Event</th>\n",
       "      <th>Result</th>\n",
       "      <th>mainline_moves</th>\n",
       "      <th>Site</th>\n",
       "      <th>Online</th>\n",
       "      <th>Round</th>\n",
       "      <th>ECO</th>\n",
       "      <th>Opening</th>\n",
       "      <th>WhiteFideId</th>\n",
       "      <th>BlackFideId</th>\n",
       "      <th>WhiteElo</th>\n",
       "      <th>BlackElo</th>\n",
       "      <th>Variation</th>\n",
       "      <th>WhiteTitle</th>\n",
       "      <th>BlackTitle</th>\n",
       "      <th>EventType</th>\n",
       "      <th>Time_Control</th>\n",
       "    </tr>\n",
       "    <tr>\n",
       "      <th>twic_number</th>\n",
       "      <th></th>\n",
       "      <th></th>\n",
       "      <th></th>\n",
       "      <th></th>\n",
       "      <th></th>\n",
       "      <th></th>\n",
       "      <th></th>\n",
       "      <th></th>\n",
       "      <th></th>\n",
       "      <th></th>\n",
       "      <th></th>\n",
       "      <th></th>\n",
       "      <th></th>\n",
       "      <th></th>\n",
       "      <th></th>\n",
       "      <th></th>\n",
       "      <th></th>\n",
       "      <th></th>\n",
       "      <th></th>\n",
       "      <th></th>\n",
       "      <th></th>\n",
       "    </tr>\n",
       "  </thead>\n",
       "  <tbody>\n",
       "    <tr>\n",
       "      <th>1223</th>\n",
       "      <td>bonnmann,r</td>\n",
       "      <td>van dael,siem</td>\n",
       "      <td>2018-02-04</td>\n",
       "      <td>2017.10.08</td>\n",
       "      <td>2nd bundesliga west 2017-18</td>\n",
       "      <td>1/2-1/2</td>\n",
       "      <td>1. d4 Nf6 2. c4 g6 3. Nc3 Bg7 4. e4 d6 5. Nf3 ...</td>\n",
       "      <td>germany ger</td>\n",
       "      <td>False</td>\n",
       "      <td>6.7</td>\n",
       "      <td>E92</td>\n",
       "      <td>king's indian</td>\n",
       "      <td>4.62814e+06</td>\n",
       "      <td>1.04977e+06</td>\n",
       "      <td>2229.0</td>\n",
       "      <td>2286.0</td>\n",
       "      <td>andersson variation</td>\n",
       "      <td>NaN</td>\n",
       "      <td>fm</td>\n",
       "      <td>NaN</td>\n",
       "      <td>NaN</td>\n",
       "    </tr>\n",
       "    <tr>\n",
       "      <th>1386</th>\n",
       "      <td>sumaneev,d</td>\n",
       "      <td>skalik,p</td>\n",
       "      <td>2021-05-25</td>\n",
       "      <td>2021.05.25</td>\n",
       "      <td>titled tuesday 25th may</td>\n",
       "      <td>1-0</td>\n",
       "      <td>1. e4 c6 2. Nc3 d5 3. d4 dxe4 4. Nxe4 Bf5 5. N...</td>\n",
       "      <td>chess.com int</td>\n",
       "      <td>True</td>\n",
       "      <td>3</td>\n",
       "      <td>B18</td>\n",
       "      <td>caro-kann</td>\n",
       "      <td>4.12531e+06</td>\n",
       "      <td>1.10073e+06</td>\n",
       "      <td>2450.0</td>\n",
       "      <td>2367.0</td>\n",
       "      <td>classical variation</td>\n",
       "      <td>im</td>\n",
       "      <td>im</td>\n",
       "      <td>NaN</td>\n",
       "      <td>NaN</td>\n",
       "    </tr>\n",
       "    <tr>\n",
       "      <th>1399</th>\n",
       "      <td>bashirli,saadat</td>\n",
       "      <td>kholin,a</td>\n",
       "      <td>2021-08-24</td>\n",
       "      <td>2021.08.24</td>\n",
       "      <td>titled tuesday 24th aug</td>\n",
       "      <td>1-0</td>\n",
       "      <td>1. e4 c5 2. Nf3 d6 3. Bb5+ Nd7 4. O-O Nf6 5. R...</td>\n",
       "      <td>chess.com int</td>\n",
       "      <td>True</td>\n",
       "      <td>10</td>\n",
       "      <td>B51</td>\n",
       "      <td>sicilian</td>\n",
       "      <td>1.343e+07</td>\n",
       "      <td>1.42022e+07</td>\n",
       "      <td>1320.0</td>\n",
       "      <td>2052.0</td>\n",
       "      <td>canal-sokolsky (nimzovich-rossolimo, moscow) a...</td>\n",
       "      <td>wcm</td>\n",
       "      <td>NaN</td>\n",
       "      <td>NaN</td>\n",
       "      <td>NaN</td>\n",
       "    </tr>\n",
       "    <tr>\n",
       "      <th>1190</th>\n",
       "      <td>burdalev,k</td>\n",
       "      <td>zuttioni,f</td>\n",
       "      <td>2017-08-24</td>\n",
       "      <td>2017.08.20</td>\n",
       "      <td>7th split open 2017</td>\n",
       "      <td>1-0</td>\n",
       "      <td>1. d4 Nf6 2. c4 e6 3. g3 d5 4. Nf3 Be7 5. Bg2 ...</td>\n",
       "      <td>split cro</td>\n",
       "      <td>False</td>\n",
       "      <td>6.1</td>\n",
       "      <td>E09</td>\n",
       "      <td>catalan</td>\n",
       "      <td>1.41219e+07</td>\n",
       "      <td>849596</td>\n",
       "      <td>2368.0</td>\n",
       "      <td>2192.0</td>\n",
       "      <td>closed, main line</td>\n",
       "      <td>fm</td>\n",
       "      <td>NaN</td>\n",
       "      <td>NaN</td>\n",
       "      <td>NaN</td>\n",
       "    </tr>\n",
       "    <tr>\n",
       "      <th>1366</th>\n",
       "      <td>selvik,elma</td>\n",
       "      <td>sithumsa,h g sasmi</td>\n",
       "      <td>2021-01-07</td>\n",
       "      <td>2021.01.07</td>\n",
       "      <td>11th sharjah women prelim</td>\n",
       "      <td>1-0</td>\n",
       "      <td>1. d4 d5 2. c4 e6 3. Nf3 Nf6 4. g3 Be7 5. Bg2 ...</td>\n",
       "      <td>lichess.org int</td>\n",
       "      <td>True</td>\n",
       "      <td>11</td>\n",
       "      <td>E06</td>\n",
       "      <td>catalan</td>\n",
       "      <td>1.53224e+06</td>\n",
       "      <td>2.99539e+07</td>\n",
       "      <td>1374.0</td>\n",
       "      <td>NaN</td>\n",
       "      <td>closed, 5.nf3</td>\n",
       "      <td>NaN</td>\n",
       "      <td>NaN</td>\n",
       "      <td>NaN</td>\n",
       "      <td>NaN</td>\n",
       "    </tr>\n",
       "    <tr>\n",
       "      <th>1291</th>\n",
       "      <td>rakic,tijana</td>\n",
       "      <td>pajkovic,v</td>\n",
       "      <td>2019-07-21</td>\n",
       "      <td>2019.07.20</td>\n",
       "      <td>tch-mne premier 2019</td>\n",
       "      <td>0-1</td>\n",
       "      <td>1. e4 e5 2. d4 exd4 3. Nf3 d5 4. Qxd4 Nf6 5. e...</td>\n",
       "      <td>podgorica mne</td>\n",
       "      <td>False</td>\n",
       "      <td>2.5</td>\n",
       "      <td>C21</td>\n",
       "      <td>centre game</td>\n",
       "      <td>1.65042e+07</td>\n",
       "      <td>900699</td>\n",
       "      <td>1546.0</td>\n",
       "      <td>2426.0</td>\n",
       "      <td>NaN</td>\n",
       "      <td>NaN</td>\n",
       "      <td>fm</td>\n",
       "      <td>team</td>\n",
       "      <td>team</td>\n",
       "    </tr>\n",
       "    <tr>\n",
       "      <th>1101</th>\n",
       "      <td>pijanovic,d</td>\n",
       "      <td>kvaternik,s</td>\n",
       "      <td>2015-12-07</td>\n",
       "      <td>2015.12.05</td>\n",
       "      <td>8th mediteran 2017 open</td>\n",
       "      <td>1/2-1/2</td>\n",
       "      <td>1. d4 d5 2. c4 Nf6 3. Nf3 e6 4. Nc3 b6 5. Bg5 ...</td>\n",
       "      <td>rijeka cro</td>\n",
       "      <td>False</td>\n",
       "      <td>4.12</td>\n",
       "      <td>D37</td>\n",
       "      <td>qgd</td>\n",
       "      <td>1.45141e+07</td>\n",
       "      <td>1.45085e+07</td>\n",
       "      <td>1662.0</td>\n",
       "      <td>1869.0</td>\n",
       "      <td>4.nf3</td>\n",
       "      <td>NaN</td>\n",
       "      <td>NaN</td>\n",
       "      <td>NaN</td>\n",
       "      <td>NaN</td>\n",
       "    </tr>\n",
       "    <tr>\n",
       "      <th>1234</th>\n",
       "      <td>dominguez perez,l</td>\n",
       "      <td>meier,geo</td>\n",
       "      <td>2018-06-26</td>\n",
       "      <td>2018.06.26</td>\n",
       "      <td>chess.com speed inv qualifier</td>\n",
       "      <td>1-0</td>\n",
       "      <td>1. e4 e6 2. d4 d5 3. Nc3 Nf6 4. e5 Nfd7 5. Nce...</td>\n",
       "      <td>chess.com int</td>\n",
       "      <td>True</td>\n",
       "      <td>1.14</td>\n",
       "      <td>C11</td>\n",
       "      <td>french</td>\n",
       "      <td>3.50324e+06</td>\n",
       "      <td>4.67579e+06</td>\n",
       "      <td>2739.0</td>\n",
       "      <td>2628.0</td>\n",
       "      <td>steinitz variation</td>\n",
       "      <td>gm</td>\n",
       "      <td>gm</td>\n",
       "      <td>NaN</td>\n",
       "      <td>NaN</td>\n",
       "    </tr>\n",
       "    <tr>\n",
       "      <th>1440</th>\n",
       "      <td>hoffmann,as</td>\n",
       "      <td>hartikainen,j</td>\n",
       "      <td>2022-06-07</td>\n",
       "      <td>2022.06.07</td>\n",
       "      <td>titled tue 7th jun late</td>\n",
       "      <td>1-0</td>\n",
       "      <td>1. d4 Nf6 2. Bg5 Ne4 3. Bf4 d5 4. f3 Nd6 5. Nc...</td>\n",
       "      <td>chess.com int</td>\n",
       "      <td>True</td>\n",
       "      <td>4</td>\n",
       "      <td>A45</td>\n",
       "      <td>trompovsky attack (ruth, opovcensky opening)</td>\n",
       "      <td>2.00147e+06</td>\n",
       "      <td>503134</td>\n",
       "      <td>2185.0</td>\n",
       "      <td>2133.0</td>\n",
       "      <td>NaN</td>\n",
       "      <td>fm</td>\n",
       "      <td>cm</td>\n",
       "      <td>NaN</td>\n",
       "      <td>NaN</td>\n",
       "    </tr>\n",
       "    <tr>\n",
       "      <th>1094</th>\n",
       "      <td>matlakov,m</td>\n",
       "      <td>ginsburg,g</td>\n",
       "      <td>2015-10-18</td>\n",
       "      <td>2015.10.18</td>\n",
       "      <td>31st ecc open 2015</td>\n",
       "      <td>1-0</td>\n",
       "      <td>1. d4 d5 2. c4 e6 3. Nf3 Nf6 4. g3 c5 5. Bg2 N...</td>\n",
       "      <td>skopje mkd</td>\n",
       "      <td>False</td>\n",
       "      <td>1.5</td>\n",
       "      <td>D30</td>\n",
       "      <td>queen's gambit declined</td>\n",
       "      <td>4.168e+06</td>\n",
       "      <td>4.63063e+06</td>\n",
       "      <td>2689.0</td>\n",
       "      <td>2511.0</td>\n",
       "      <td>NaN</td>\n",
       "      <td>gm</td>\n",
       "      <td>gm</td>\n",
       "      <td>team</td>\n",
       "      <td>team</td>\n",
       "    </tr>\n",
       "    <tr>\n",
       "      <th>1158</th>\n",
       "      <td>hu yik kwan</td>\n",
       "      <td>shi,william</td>\n",
       "      <td>2016-12-30</td>\n",
       "      <td>2016.12.26</td>\n",
       "      <td>jolimark hk open 2016</td>\n",
       "      <td>1-0</td>\n",
       "      <td>1. e4 c5 2. Nf3 e6 3. d4 cxd4 4. Nxd4 Nc6 5. N...</td>\n",
       "      <td>hong kong hkg</td>\n",
       "      <td>False</td>\n",
       "      <td>9.20</td>\n",
       "      <td>B48</td>\n",
       "      <td>sicilian</td>\n",
       "      <td>6.00254e+06</td>\n",
       "      <td>2.62676e+06</td>\n",
       "      <td>1394.0</td>\n",
       "      <td>1756.0</td>\n",
       "      <td>taimanov variation</td>\n",
       "      <td>NaN</td>\n",
       "      <td>NaN</td>\n",
       "      <td>NaN</td>\n",
       "      <td>NaN</td>\n",
       "    </tr>\n",
       "    <tr>\n",
       "      <th>1455</th>\n",
       "      <td>baches garcia,g</td>\n",
       "      <td>pinheiro,i</td>\n",
       "      <td>2022-09-20</td>\n",
       "      <td>2022.09.20</td>\n",
       "      <td>titled tue 20th sep early</td>\n",
       "      <td>1-0</td>\n",
       "      <td>1. e4 c5 2. Nf3 Nc6 3. d4 cxd4 4. Nxd4 e5 5. N...</td>\n",
       "      <td>chess.com int</td>\n",
       "      <td>True</td>\n",
       "      <td>7</td>\n",
       "      <td>B32</td>\n",
       "      <td>sicilian</td>\n",
       "      <td>2.20976e+06</td>\n",
       "      <td>2.10435e+06</td>\n",
       "      <td>2326.0</td>\n",
       "      <td>2320.0</td>\n",
       "      <td>labourdonnais-loewenthal (kalashnikov) variation</td>\n",
       "      <td>im</td>\n",
       "      <td>fm</td>\n",
       "      <td>NaN</td>\n",
       "      <td>NaN</td>\n",
       "    </tr>\n",
       "    <tr>\n",
       "      <th>1064</th>\n",
       "      <td>krivonosov,o</td>\n",
       "      <td>kovalenko,i</td>\n",
       "      <td>2015-02-16</td>\n",
       "      <td>2015.01.24</td>\n",
       "      <td>tch-ltu 2015</td>\n",
       "      <td>1-0</td>\n",
       "      <td>1. Nf3 g6 2. d4 Bg7 3. c4 f5 4. g3 Nf6 5. Bg2 ...</td>\n",
       "      <td>lithuania ltu</td>\n",
       "      <td>False</td>\n",
       "      <td>5.1</td>\n",
       "      <td>A87</td>\n",
       "      <td>dutch</td>\n",
       "      <td>1.16003e+07</td>\n",
       "      <td>1.41179e+07</td>\n",
       "      <td>2452.0</td>\n",
       "      <td>2653.0</td>\n",
       "      <td>leningrad, main variation</td>\n",
       "      <td>im</td>\n",
       "      <td>gm</td>\n",
       "      <td>team</td>\n",
       "      <td>team</td>\n",
       "    </tr>\n",
       "    <tr>\n",
       "      <th>1029</th>\n",
       "      <td>rodriguez rodriguez,a</td>\n",
       "      <td>gaftarnik,o</td>\n",
       "      <td>2014-07-23</td>\n",
       "      <td>2014.07.19</td>\n",
       "      <td>29th avoine open 2014</td>\n",
       "      <td>1-0</td>\n",
       "      <td>1. c4 Nf6 2. Nc3 g6 3. e4 d6 4. d4 Bg7 5. f3 a...</td>\n",
       "      <td>avoine fra</td>\n",
       "      <td>False</td>\n",
       "      <td>5.23</td>\n",
       "      <td>E80</td>\n",
       "      <td>king's indian</td>\n",
       "      <td>2.21926e+06</td>\n",
       "      <td>619132</td>\n",
       "      <td>2186.0</td>\n",
       "      <td>1793.0</td>\n",
       "      <td>saemisch variation</td>\n",
       "      <td>fm</td>\n",
       "      <td>NaN</td>\n",
       "      <td>NaN</td>\n",
       "      <td>NaN</td>\n",
       "    </tr>\n",
       "    <tr>\n",
       "      <th>1292</th>\n",
       "      <td>kaunas,k</td>\n",
       "      <td>staponas,zygimantas</td>\n",
       "      <td>2019-07-27</td>\n",
       "      <td>2019.07.27</td>\n",
       "      <td>16th sea festival rapid</td>\n",
       "      <td>1-0</td>\n",
       "      <td>1. d4 d5 2. c4 e6 3. Nf3 Nf6 4. Nc3 c5 5. cxd5...</td>\n",
       "      <td>klaipeda ltu</td>\n",
       "      <td>False</td>\n",
       "      <td>7.11</td>\n",
       "      <td>D42</td>\n",
       "      <td>qgd</td>\n",
       "      <td>1.28001e+07</td>\n",
       "      <td>1.28157e+07</td>\n",
       "      <td>2154.0</td>\n",
       "      <td>1235.0</td>\n",
       "      <td>semi-tarrasch, 7.bd3</td>\n",
       "      <td>im</td>\n",
       "      <td>NaN</td>\n",
       "      <td>NaN</td>\n",
       "      <td>NaN</td>\n",
       "    </tr>\n",
       "    <tr>\n",
       "      <th>1383</th>\n",
       "      <td>perez gormaz,m</td>\n",
       "      <td>tarasova,viktoriy</td>\n",
       "      <td>2021-05-04</td>\n",
       "      <td>2021.05.04</td>\n",
       "      <td>titled tuesday 4th may</td>\n",
       "      <td>1-0</td>\n",
       "      <td>1. e4 e5 2. Nf3 Nc6 3. Bc4 Bc5 4. c3 Nf6 5. d3...</td>\n",
       "      <td>chess.com int</td>\n",
       "      <td>True</td>\n",
       "      <td>3</td>\n",
       "      <td>C53</td>\n",
       "      <td>giuoco piano</td>\n",
       "      <td>3.40634e+06</td>\n",
       "      <td>4.17584e+06</td>\n",
       "      <td>2413.0</td>\n",
       "      <td>2226.0</td>\n",
       "      <td>NaN</td>\n",
       "      <td>im</td>\n",
       "      <td>wim</td>\n",
       "      <td>NaN</td>\n",
       "      <td>NaN</td>\n",
       "    </tr>\n",
       "    <tr>\n",
       "      <th>1296</th>\n",
       "      <td>drygalov,andrey</td>\n",
       "      <td>lobanov,sergei</td>\n",
       "      <td>2019-09-07</td>\n",
       "      <td>2019.09.06</td>\n",
       "      <td>kurnosov mem rapid 2019</td>\n",
       "      <td>0-1</td>\n",
       "      <td>1. Nf3 d5 2. c4 d4 3. b4 f6 4. Qa4+ Bd7 5. Qb3...</td>\n",
       "      <td>chelyabinsk rus</td>\n",
       "      <td>False</td>\n",
       "      <td>7.6</td>\n",
       "      <td>A09</td>\n",
       "      <td>reti</td>\n",
       "      <td>2.41717e+07</td>\n",
       "      <td>2.41838e+07</td>\n",
       "      <td>2499.0</td>\n",
       "      <td>2515.0</td>\n",
       "      <td>advance variation</td>\n",
       "      <td>im</td>\n",
       "      <td>im</td>\n",
       "      <td>rapid</td>\n",
       "      <td>rapid</td>\n",
       "    </tr>\n",
       "    <tr>\n",
       "      <th>1010</th>\n",
       "      <td>vijayalakshmi,s</td>\n",
       "      <td>diu,v</td>\n",
       "      <td>2014-03-11</td>\n",
       "      <td>2014.03.10</td>\n",
       "      <td>4th hd bank cup 2014</td>\n",
       "      <td>0-1</td>\n",
       "      <td>1. d4 d5 2. c4 c6 3. Nc3 Nf6 4. e3 e6 5. Nf3 a...</td>\n",
       "      <td>ho chi minh city vie</td>\n",
       "      <td>False</td>\n",
       "      <td>2.20</td>\n",
       "      <td>D45</td>\n",
       "      <td>qgd semi-slav</td>\n",
       "      <td>5.0041e+06</td>\n",
       "      <td>4.16746e+06</td>\n",
       "      <td>2365.0</td>\n",
       "      <td>2474.0</td>\n",
       "      <td>accelerated meran (alekhine variation)</td>\n",
       "      <td>im</td>\n",
       "      <td>im</td>\n",
       "      <td>NaN</td>\n",
       "      <td>NaN</td>\n",
       "    </tr>\n",
       "    <tr>\n",
       "      <th>1348</th>\n",
       "      <td>villegas,p</td>\n",
       "      <td>bacrot,e</td>\n",
       "      <td>2020-09-01</td>\n",
       "      <td>2020.09.01</td>\n",
       "      <td>titled tuesday 1st sept</td>\n",
       "      <td>1/2-1/2</td>\n",
       "      <td>1. d4 Nf6 2. c4 g6 3. f3 e5 4. dxe5 Nh5 5. Nh3...</td>\n",
       "      <td>chess.com int</td>\n",
       "      <td>True</td>\n",
       "      <td>5</td>\n",
       "      <td>E60</td>\n",
       "      <td>king's indian defence</td>\n",
       "      <td>654183</td>\n",
       "      <td>605506</td>\n",
       "      <td>2364.0</td>\n",
       "      <td>2673.0</td>\n",
       "      <td>NaN</td>\n",
       "      <td>im</td>\n",
       "      <td>gm</td>\n",
       "      <td>NaN</td>\n",
       "      <td>NaN</td>\n",
       "    </tr>\n",
       "    <tr>\n",
       "      <th>1359</th>\n",
       "      <td>golsta,madara</td>\n",
       "      <td>lopez del alamo,an</td>\n",
       "      <td>2020-11-17</td>\n",
       "      <td>2020.11.17</td>\n",
       "      <td>titled tuesday 17th nov</td>\n",
       "      <td>1-0</td>\n",
       "      <td>1. e4</td>\n",
       "      <td>chess.com int</td>\n",
       "      <td>True</td>\n",
       "      <td>8</td>\n",
       "      <td>B00</td>\n",
       "      <td>king's pawn opening</td>\n",
       "      <td>1.16074e+07</td>\n",
       "      <td>2.22734e+06</td>\n",
       "      <td>1967.0</td>\n",
       "      <td>2295.0</td>\n",
       "      <td>NaN</td>\n",
       "      <td>NaN</td>\n",
       "      <td>fm</td>\n",
       "      <td>NaN</td>\n",
       "      <td>NaN</td>\n",
       "    </tr>\n",
       "    <tr>\n",
       "      <th>1399</th>\n",
       "      <td>christensen,thom2</td>\n",
       "      <td>gubajdullin,a</td>\n",
       "      <td>2021-08-24</td>\n",
       "      <td>2021.08.24</td>\n",
       "      <td>titled tuesday 24th aug</td>\n",
       "      <td>0-1</td>\n",
       "      <td>1. d4 Nf6 2. Nc3 g6 3. e4 d6 4. f4 Bg7 5. Nf3 ...</td>\n",
       "      <td>chess.com int</td>\n",
       "      <td>True</td>\n",
       "      <td>4</td>\n",
       "      <td>B09</td>\n",
       "      <td>pirc</td>\n",
       "      <td>1.40764e+06</td>\n",
       "      <td>4.1412e+06</td>\n",
       "      <td>2154.0</td>\n",
       "      <td>2321.0</td>\n",
       "      <td>austrian attack, 6.e5</td>\n",
       "      <td>cm</td>\n",
       "      <td>fm</td>\n",
       "      <td>NaN</td>\n",
       "      <td>NaN</td>\n",
       "    </tr>\n",
       "    <tr>\n",
       "      <th>1361</th>\n",
       "      <td>bojczewski,mateusz</td>\n",
       "      <td>rosa,antoni</td>\n",
       "      <td>2020-12-02</td>\n",
       "      <td>2020.11.30</td>\n",
       "      <td>ch-pol u20 2020</td>\n",
       "      <td>1/2-1/2</td>\n",
       "      <td>1. e4 e6 2. d4 d5 3. Nd2 c5 4. Ngf3 Nc6 5. exd...</td>\n",
       "      <td>pokrzywna pol</td>\n",
       "      <td>False</td>\n",
       "      <td>5.29</td>\n",
       "      <td>C07</td>\n",
       "      <td>french</td>\n",
       "      <td>2.18056e+07</td>\n",
       "      <td>2.1002e+07</td>\n",
       "      <td>1960.0</td>\n",
       "      <td>1416.0</td>\n",
       "      <td>tarrasch, open variation</td>\n",
       "      <td>NaN</td>\n",
       "      <td>NaN</td>\n",
       "      <td>NaN</td>\n",
       "      <td>NaN</td>\n",
       "    </tr>\n",
       "    <tr>\n",
       "      <th>1434</th>\n",
       "      <td>araujo sanchez,josue</td>\n",
       "      <td>rangel,d</td>\n",
       "      <td>2022-04-26</td>\n",
       "      <td>2022.04.26</td>\n",
       "      <td>titled tue 26th apr early</td>\n",
       "      <td>1-0</td>\n",
       "      <td>1. d4</td>\n",
       "      <td>chess.com int</td>\n",
       "      <td>True</td>\n",
       "      <td>2</td>\n",
       "      <td>A40</td>\n",
       "      <td>queen's pawn</td>\n",
       "      <td>6.4169e+06</td>\n",
       "      <td>2.12448e+06</td>\n",
       "      <td>2244.0</td>\n",
       "      <td>2207.0</td>\n",
       "      <td>NaN</td>\n",
       "      <td>im</td>\n",
       "      <td>fm</td>\n",
       "      <td>NaN</td>\n",
       "      <td>NaN</td>\n",
       "    </tr>\n",
       "    <tr>\n",
       "      <th>1435</th>\n",
       "      <td>vega gutierrez,s</td>\n",
       "      <td>lashkin,jegor</td>\n",
       "      <td>2022-05-03</td>\n",
       "      <td>2022.05.03</td>\n",
       "      <td>titled tue 3rd may late</td>\n",
       "      <td>0-1</td>\n",
       "      <td>1. e4 c5 2. Nf3 d6 3. d4 cxd4 4. Qxd4 Nc6 5. B...</td>\n",
       "      <td>chess.com int</td>\n",
       "      <td>True</td>\n",
       "      <td>11</td>\n",
       "      <td>B53</td>\n",
       "      <td>sicilian, chekhover variation</td>\n",
       "      <td>2.21903e+06</td>\n",
       "      <td>1.39078e+07</td>\n",
       "      <td>2385.0</td>\n",
       "      <td>2386.0</td>\n",
       "      <td>NaN</td>\n",
       "      <td>im</td>\n",
       "      <td>fm</td>\n",
       "      <td>NaN</td>\n",
       "      <td>NaN</td>\n",
       "    </tr>\n",
       "    <tr>\n",
       "      <th>1361</th>\n",
       "      <td>sadhwani,raunak</td>\n",
       "      <td>baskin,r</td>\n",
       "      <td>2020-12-02</td>\n",
       "      <td>2020.12.02</td>\n",
       "      <td>rbi open qualifier 2 2020</td>\n",
       "      <td>1-0</td>\n",
       "      <td>1. c4 c5 2. Nc3 Nf6 3. g3 e6 4. Bg2 d5 5. d4 N...</td>\n",
       "      <td>lichess.org int</td>\n",
       "      <td>True</td>\n",
       "      <td>6</td>\n",
       "      <td>A34</td>\n",
       "      <td>english</td>\n",
       "      <td>3.50935e+07</td>\n",
       "      <td>2.46624e+07</td>\n",
       "      <td>2545.0</td>\n",
       "      <td>2390.0</td>\n",
       "      <td>symmetrical variation</td>\n",
       "      <td>gm</td>\n",
       "      <td>im</td>\n",
       "      <td>NaN</td>\n",
       "      <td>NaN</td>\n",
       "    </tr>\n",
       "    <tr>\n",
       "      <th>1333</th>\n",
       "      <td>cernousek,l</td>\n",
       "      <td>zverev,lev</td>\n",
       "      <td>2020-05-19</td>\n",
       "      <td>2020.05.19</td>\n",
       "      <td>titled tuesday 19th may</td>\n",
       "      <td>1-0</td>\n",
       "      <td>1. d4 Nf6 2. c4 e6 3. Nc3 Bb4 4. Qc2 Bxc3+ 5. ...</td>\n",
       "      <td>chess.com int</td>\n",
       "      <td>True</td>\n",
       "      <td>4</td>\n",
       "      <td>E32</td>\n",
       "      <td>nimzo-indian</td>\n",
       "      <td>311707</td>\n",
       "      <td>24250775</td>\n",
       "      <td>2460.0</td>\n",
       "      <td>2087.0</td>\n",
       "      <td>classical variation</td>\n",
       "      <td>im</td>\n",
       "      <td>cm</td>\n",
       "      <td>NaN</td>\n",
       "      <td>NaN</td>\n",
       "    </tr>\n",
       "    <tr>\n",
       "      <th>1352</th>\n",
       "      <td>kanyamarala,tarun</td>\n",
       "      <td>shuvalov,e</td>\n",
       "      <td>2020-10-03</td>\n",
       "      <td>2020.10.03</td>\n",
       "      <td>speed chess super swiss</td>\n",
       "      <td>1-0</td>\n",
       "      <td>1. e4 e6 2. Nf3 d5 3. d3 c5 4. Qe2 Nf6 5. g3 b...</td>\n",
       "      <td>chess.com int</td>\n",
       "      <td>True</td>\n",
       "      <td>7</td>\n",
       "      <td>C00</td>\n",
       "      <td>french defence</td>\n",
       "      <td>4.50047e+07</td>\n",
       "      <td>4.18724e+06</td>\n",
       "      <td>2369.0</td>\n",
       "      <td>2182.0</td>\n",
       "      <td>NaN</td>\n",
       "      <td>fm</td>\n",
       "      <td>NaN</td>\n",
       "      <td>NaN</td>\n",
       "      <td>NaN</td>\n",
       "    </tr>\n",
       "    <tr>\n",
       "      <th>1062</th>\n",
       "      <td>gruz,j</td>\n",
       "      <td>bacsi,a</td>\n",
       "      <td>2015-03-10</td>\n",
       "      <td>2015.03.07</td>\n",
       "      <td>fsfmb march 2015</td>\n",
       "      <td>1/2-1/2</td>\n",
       "      <td>1. c4 Nf6 2. Nc3 e6 3. e4 d5 4. e5 Nfd7 5. d4 ...</td>\n",
       "      <td>budapest hun</td>\n",
       "      <td>False</td>\n",
       "      <td>4.5</td>\n",
       "      <td>A18</td>\n",
       "      <td>english</td>\n",
       "      <td>703710</td>\n",
       "      <td>717975</td>\n",
       "      <td>1797.0</td>\n",
       "      <td>1729.0</td>\n",
       "      <td>mikenas-carls, flohr variation</td>\n",
       "      <td>NaN</td>\n",
       "      <td>NaN</td>\n",
       "      <td>NaN</td>\n",
       "      <td>NaN</td>\n",
       "    </tr>\n",
       "    <tr>\n",
       "      <th>1152</th>\n",
       "      <td>macek,o</td>\n",
       "      <td>kylar,m</td>\n",
       "      <td>2016-11-28</td>\n",
       "      <td>2016.11.19</td>\n",
       "      <td>world senior 50+ 2016</td>\n",
       "      <td>0-1</td>\n",
       "      <td>1. e4 d5 2. exd5 Qxd5 3. Nc3 Qd6 4. d4 Nf6 5. ...</td>\n",
       "      <td>marianske lazne cze</td>\n",
       "      <td>False</td>\n",
       "      <td>9.71</td>\n",
       "      <td>B01</td>\n",
       "      <td>scandinavian</td>\n",
       "      <td>339415</td>\n",
       "      <td>329797</td>\n",
       "      <td>1677.0</td>\n",
       "      <td>1851.0</td>\n",
       "      <td>pytel-wade variation</td>\n",
       "      <td>NaN</td>\n",
       "      <td>NaN</td>\n",
       "      <td>NaN</td>\n",
       "      <td>NaN</td>\n",
       "    </tr>\n",
       "    <tr>\n",
       "      <th>1290</th>\n",
       "      <td>kenneskog,theodor</td>\n",
       "      <td>cernousek,l</td>\n",
       "      <td>2019-07-22</td>\n",
       "      <td>2019.07.19</td>\n",
       "      <td>30th czech open a 2019</td>\n",
       "      <td>0-1</td>\n",
       "      <td>1. d4 Nf6 2. c4 c5 3. d5 g6 4. Nc3 d6 5. e4 Bg...</td>\n",
       "      <td>pardubice cze</td>\n",
       "      <td>False</td>\n",
       "      <td>4.36</td>\n",
       "      <td>A56</td>\n",
       "      <td>benoni defence</td>\n",
       "      <td>1.71501e+06</td>\n",
       "      <td>311707</td>\n",
       "      <td>2284.0</td>\n",
       "      <td>2451.0</td>\n",
       "      <td>NaN</td>\n",
       "      <td>fm</td>\n",
       "      <td>im</td>\n",
       "      <td>NaN</td>\n",
       "      <td>NaN</td>\n",
       "    </tr>\n",
       "  </tbody>\n",
       "</table>\n",
       "</div>"
      ],
      "text/plain": [
       "                             White                Black        Date  \\\n",
       "twic_number                                                           \n",
       "1223                    bonnmann,r        van dael,siem  2018-02-04   \n",
       "1386                    sumaneev,d             skalik,p  2021-05-25   \n",
       "1399               bashirli,saadat             kholin,a  2021-08-24   \n",
       "1190                    burdalev,k           zuttioni,f  2017-08-24   \n",
       "1366                   selvik,elma   sithumsa,h g sasmi  2021-01-07   \n",
       "1291                  rakic,tijana           pajkovic,v  2019-07-21   \n",
       "1101                   pijanovic,d          kvaternik,s  2015-12-07   \n",
       "1234             dominguez perez,l            meier,geo  2018-06-26   \n",
       "1440                   hoffmann,as        hartikainen,j  2022-06-07   \n",
       "1094                    matlakov,m           ginsburg,g  2015-10-18   \n",
       "1158                   hu yik kwan          shi,william  2016-12-30   \n",
       "1455               baches garcia,g           pinheiro,i  2022-09-20   \n",
       "1064                  krivonosov,o          kovalenko,i  2015-02-16   \n",
       "1029         rodriguez rodriguez,a          gaftarnik,o  2014-07-23   \n",
       "1292                      kaunas,k  staponas,zygimantas  2019-07-27   \n",
       "1383                perez gormaz,m    tarasova,viktoriy  2021-05-04   \n",
       "1296               drygalov,andrey       lobanov,sergei  2019-09-07   \n",
       "1010               vijayalakshmi,s                diu,v  2014-03-11   \n",
       "1348                    villegas,p             bacrot,e  2020-09-01   \n",
       "1359                 golsta,madara   lopez del alamo,an  2020-11-17   \n",
       "1399             christensen,thom2        gubajdullin,a  2021-08-24   \n",
       "1361            bojczewski,mateusz          rosa,antoni  2020-12-02   \n",
       "1434          araujo sanchez,josue             rangel,d  2022-04-26   \n",
       "1435              vega gutierrez,s        lashkin,jegor  2022-05-03   \n",
       "1361               sadhwani,raunak             baskin,r  2020-12-02   \n",
       "1333                   cernousek,l           zverev,lev  2020-05-19   \n",
       "1352             kanyamarala,tarun           shuvalov,e  2020-10-03   \n",
       "1062                        gruz,j              bacsi,a  2015-03-10   \n",
       "1152                       macek,o              kylar,m  2016-11-28   \n",
       "1290             kenneskog,theodor          cernousek,l  2019-07-22   \n",
       "\n",
       "              EventDate                          Event   Result  \\\n",
       "twic_number                                                       \n",
       "1223         2017.10.08    2nd bundesliga west 2017-18  1/2-1/2   \n",
       "1386         2021.05.25        titled tuesday 25th may      1-0   \n",
       "1399         2021.08.24        titled tuesday 24th aug      1-0   \n",
       "1190         2017.08.20            7th split open 2017      1-0   \n",
       "1366         2021.01.07      11th sharjah women prelim      1-0   \n",
       "1291         2019.07.20           tch-mne premier 2019      0-1   \n",
       "1101         2015.12.05        8th mediteran 2017 open  1/2-1/2   \n",
       "1234         2018.06.26  chess.com speed inv qualifier      1-0   \n",
       "1440         2022.06.07        titled tue 7th jun late      1-0   \n",
       "1094         2015.10.18             31st ecc open 2015      1-0   \n",
       "1158         2016.12.26          jolimark hk open 2016      1-0   \n",
       "1455         2022.09.20      titled tue 20th sep early      1-0   \n",
       "1064         2015.01.24                   tch-ltu 2015      1-0   \n",
       "1029         2014.07.19          29th avoine open 2014      1-0   \n",
       "1292         2019.07.27        16th sea festival rapid      1-0   \n",
       "1383         2021.05.04         titled tuesday 4th may      1-0   \n",
       "1296         2019.09.06        kurnosov mem rapid 2019      0-1   \n",
       "1010         2014.03.10           4th hd bank cup 2014      0-1   \n",
       "1348         2020.09.01        titled tuesday 1st sept  1/2-1/2   \n",
       "1359         2020.11.17        titled tuesday 17th nov      1-0   \n",
       "1399         2021.08.24        titled tuesday 24th aug      0-1   \n",
       "1361         2020.11.30                ch-pol u20 2020  1/2-1/2   \n",
       "1434         2022.04.26      titled tue 26th apr early      1-0   \n",
       "1435         2022.05.03        titled tue 3rd may late      0-1   \n",
       "1361         2020.12.02      rbi open qualifier 2 2020      1-0   \n",
       "1333         2020.05.19        titled tuesday 19th may      1-0   \n",
       "1352         2020.10.03        speed chess super swiss      1-0   \n",
       "1062         2015.03.07               fsfmb march 2015  1/2-1/2   \n",
       "1152         2016.11.19          world senior 50+ 2016      0-1   \n",
       "1290         2019.07.19         30th czech open a 2019      0-1   \n",
       "\n",
       "                                                mainline_moves  \\\n",
       "twic_number                                                      \n",
       "1223         1. d4 Nf6 2. c4 g6 3. Nc3 Bg7 4. e4 d6 5. Nf3 ...   \n",
       "1386         1. e4 c6 2. Nc3 d5 3. d4 dxe4 4. Nxe4 Bf5 5. N...   \n",
       "1399         1. e4 c5 2. Nf3 d6 3. Bb5+ Nd7 4. O-O Nf6 5. R...   \n",
       "1190         1. d4 Nf6 2. c4 e6 3. g3 d5 4. Nf3 Be7 5. Bg2 ...   \n",
       "1366         1. d4 d5 2. c4 e6 3. Nf3 Nf6 4. g3 Be7 5. Bg2 ...   \n",
       "1291         1. e4 e5 2. d4 exd4 3. Nf3 d5 4. Qxd4 Nf6 5. e...   \n",
       "1101         1. d4 d5 2. c4 Nf6 3. Nf3 e6 4. Nc3 b6 5. Bg5 ...   \n",
       "1234         1. e4 e6 2. d4 d5 3. Nc3 Nf6 4. e5 Nfd7 5. Nce...   \n",
       "1440         1. d4 Nf6 2. Bg5 Ne4 3. Bf4 d5 4. f3 Nd6 5. Nc...   \n",
       "1094         1. d4 d5 2. c4 e6 3. Nf3 Nf6 4. g3 c5 5. Bg2 N...   \n",
       "1158         1. e4 c5 2. Nf3 e6 3. d4 cxd4 4. Nxd4 Nc6 5. N...   \n",
       "1455         1. e4 c5 2. Nf3 Nc6 3. d4 cxd4 4. Nxd4 e5 5. N...   \n",
       "1064         1. Nf3 g6 2. d4 Bg7 3. c4 f5 4. g3 Nf6 5. Bg2 ...   \n",
       "1029         1. c4 Nf6 2. Nc3 g6 3. e4 d6 4. d4 Bg7 5. f3 a...   \n",
       "1292         1. d4 d5 2. c4 e6 3. Nf3 Nf6 4. Nc3 c5 5. cxd5...   \n",
       "1383         1. e4 e5 2. Nf3 Nc6 3. Bc4 Bc5 4. c3 Nf6 5. d3...   \n",
       "1296         1. Nf3 d5 2. c4 d4 3. b4 f6 4. Qa4+ Bd7 5. Qb3...   \n",
       "1010         1. d4 d5 2. c4 c6 3. Nc3 Nf6 4. e3 e6 5. Nf3 a...   \n",
       "1348         1. d4 Nf6 2. c4 g6 3. f3 e5 4. dxe5 Nh5 5. Nh3...   \n",
       "1359                                                     1. e4   \n",
       "1399         1. d4 Nf6 2. Nc3 g6 3. e4 d6 4. f4 Bg7 5. Nf3 ...   \n",
       "1361         1. e4 e6 2. d4 d5 3. Nd2 c5 4. Ngf3 Nc6 5. exd...   \n",
       "1434                                                     1. d4   \n",
       "1435         1. e4 c5 2. Nf3 d6 3. d4 cxd4 4. Qxd4 Nc6 5. B...   \n",
       "1361         1. c4 c5 2. Nc3 Nf6 3. g3 e6 4. Bg2 d5 5. d4 N...   \n",
       "1333         1. d4 Nf6 2. c4 e6 3. Nc3 Bb4 4. Qc2 Bxc3+ 5. ...   \n",
       "1352         1. e4 e6 2. Nf3 d5 3. d3 c5 4. Qe2 Nf6 5. g3 b...   \n",
       "1062         1. c4 Nf6 2. Nc3 e6 3. e4 d5 4. e5 Nfd7 5. d4 ...   \n",
       "1152         1. e4 d5 2. exd5 Qxd5 3. Nc3 Qd6 4. d4 Nf6 5. ...   \n",
       "1290         1. d4 Nf6 2. c4 c5 3. d5 g6 4. Nc3 d6 5. e4 Bg...   \n",
       "\n",
       "                             Site  Online Round  ECO  \\\n",
       "twic_number                                            \n",
       "1223                  germany ger   False   6.7  E92   \n",
       "1386                chess.com int    True     3  B18   \n",
       "1399                chess.com int    True    10  B51   \n",
       "1190                    split cro   False   6.1  E09   \n",
       "1366              lichess.org int    True    11  E06   \n",
       "1291                podgorica mne   False   2.5  C21   \n",
       "1101                   rijeka cro   False  4.12  D37   \n",
       "1234                chess.com int    True  1.14  C11   \n",
       "1440                chess.com int    True     4  A45   \n",
       "1094                   skopje mkd   False   1.5  D30   \n",
       "1158                hong kong hkg   False  9.20  B48   \n",
       "1455                chess.com int    True     7  B32   \n",
       "1064                lithuania ltu   False   5.1  A87   \n",
       "1029                   avoine fra   False  5.23  E80   \n",
       "1292                 klaipeda ltu   False  7.11  D42   \n",
       "1383                chess.com int    True     3  C53   \n",
       "1296              chelyabinsk rus   False   7.6  A09   \n",
       "1010         ho chi minh city vie   False  2.20  D45   \n",
       "1348                chess.com int    True     5  E60   \n",
       "1359                chess.com int    True     8  B00   \n",
       "1399                chess.com int    True     4  B09   \n",
       "1361                pokrzywna pol   False  5.29  C07   \n",
       "1434                chess.com int    True     2  A40   \n",
       "1435                chess.com int    True    11  B53   \n",
       "1361              lichess.org int    True     6  A34   \n",
       "1333                chess.com int    True     4  E32   \n",
       "1352                chess.com int    True     7  C00   \n",
       "1062                 budapest hun   False   4.5  A18   \n",
       "1152          marianske lazne cze   False  9.71  B01   \n",
       "1290                pardubice cze   False  4.36  A56   \n",
       "\n",
       "                                                  Opening  WhiteFideId  \\\n",
       "twic_number                                                              \n",
       "1223                                        king's indian  4.62814e+06   \n",
       "1386                                            caro-kann  4.12531e+06   \n",
       "1399                                             sicilian    1.343e+07   \n",
       "1190                                              catalan  1.41219e+07   \n",
       "1366                                              catalan  1.53224e+06   \n",
       "1291                                          centre game  1.65042e+07   \n",
       "1101                                                  qgd  1.45141e+07   \n",
       "1234                                               french  3.50324e+06   \n",
       "1440         trompovsky attack (ruth, opovcensky opening)  2.00147e+06   \n",
       "1094                              queen's gambit declined    4.168e+06   \n",
       "1158                                             sicilian  6.00254e+06   \n",
       "1455                                             sicilian  2.20976e+06   \n",
       "1064                                                dutch  1.16003e+07   \n",
       "1029                                        king's indian  2.21926e+06   \n",
       "1292                                                  qgd  1.28001e+07   \n",
       "1383                                         giuoco piano  3.40634e+06   \n",
       "1296                                                 reti  2.41717e+07   \n",
       "1010                                        qgd semi-slav   5.0041e+06   \n",
       "1348                                king's indian defence       654183   \n",
       "1359                                  king's pawn opening  1.16074e+07   \n",
       "1399                                                 pirc  1.40764e+06   \n",
       "1361                                               french  2.18056e+07   \n",
       "1434                                         queen's pawn   6.4169e+06   \n",
       "1435                        sicilian, chekhover variation  2.21903e+06   \n",
       "1361                                              english  3.50935e+07   \n",
       "1333                                         nimzo-indian       311707   \n",
       "1352                                       french defence  4.50047e+07   \n",
       "1062                                              english       703710   \n",
       "1152                                         scandinavian       339415   \n",
       "1290                                       benoni defence  1.71501e+06   \n",
       "\n",
       "             BlackFideId  WhiteElo  BlackElo  \\\n",
       "twic_number                                    \n",
       "1223         1.04977e+06    2229.0    2286.0   \n",
       "1386         1.10073e+06    2450.0    2367.0   \n",
       "1399         1.42022e+07    1320.0    2052.0   \n",
       "1190              849596    2368.0    2192.0   \n",
       "1366         2.99539e+07    1374.0       NaN   \n",
       "1291              900699    1546.0    2426.0   \n",
       "1101         1.45085e+07    1662.0    1869.0   \n",
       "1234         4.67579e+06    2739.0    2628.0   \n",
       "1440              503134    2185.0    2133.0   \n",
       "1094         4.63063e+06    2689.0    2511.0   \n",
       "1158         2.62676e+06    1394.0    1756.0   \n",
       "1455         2.10435e+06    2326.0    2320.0   \n",
       "1064         1.41179e+07    2452.0    2653.0   \n",
       "1029              619132    2186.0    1793.0   \n",
       "1292         1.28157e+07    2154.0    1235.0   \n",
       "1383         4.17584e+06    2413.0    2226.0   \n",
       "1296         2.41838e+07    2499.0    2515.0   \n",
       "1010         4.16746e+06    2365.0    2474.0   \n",
       "1348              605506    2364.0    2673.0   \n",
       "1359         2.22734e+06    1967.0    2295.0   \n",
       "1399          4.1412e+06    2154.0    2321.0   \n",
       "1361          2.1002e+07    1960.0    1416.0   \n",
       "1434         2.12448e+06    2244.0    2207.0   \n",
       "1435         1.39078e+07    2385.0    2386.0   \n",
       "1361         2.46624e+07    2545.0    2390.0   \n",
       "1333            24250775    2460.0    2087.0   \n",
       "1352         4.18724e+06    2369.0    2182.0   \n",
       "1062              717975    1797.0    1729.0   \n",
       "1152              329797    1677.0    1851.0   \n",
       "1290              311707    2284.0    2451.0   \n",
       "\n",
       "                                                     Variation WhiteTitle  \\\n",
       "twic_number                                                                 \n",
       "1223                                       andersson variation        NaN   \n",
       "1386                                       classical variation         im   \n",
       "1399         canal-sokolsky (nimzovich-rossolimo, moscow) a...        wcm   \n",
       "1190                                         closed, main line         fm   \n",
       "1366                                             closed, 5.nf3        NaN   \n",
       "1291                                                       NaN        NaN   \n",
       "1101                                                     4.nf3        NaN   \n",
       "1234                                        steinitz variation         gm   \n",
       "1440                                                       NaN         fm   \n",
       "1094                                                       NaN         gm   \n",
       "1158                                        taimanov variation        NaN   \n",
       "1455          labourdonnais-loewenthal (kalashnikov) variation         im   \n",
       "1064                                 leningrad, main variation         im   \n",
       "1029                                        saemisch variation         fm   \n",
       "1292                                      semi-tarrasch, 7.bd3         im   \n",
       "1383                                                       NaN         im   \n",
       "1296                                         advance variation         im   \n",
       "1010                    accelerated meran (alekhine variation)         im   \n",
       "1348                                                       NaN         im   \n",
       "1359                                                       NaN        NaN   \n",
       "1399                                     austrian attack, 6.e5         cm   \n",
       "1361                                  tarrasch, open variation        NaN   \n",
       "1434                                                       NaN         im   \n",
       "1435                                                       NaN         im   \n",
       "1361                                     symmetrical variation         gm   \n",
       "1333                                       classical variation         im   \n",
       "1352                                                       NaN         fm   \n",
       "1062                            mikenas-carls, flohr variation        NaN   \n",
       "1152                                      pytel-wade variation        NaN   \n",
       "1290                                                       NaN         fm   \n",
       "\n",
       "            BlackTitle EventType Time_Control  \n",
       "twic_number                                    \n",
       "1223                fm       NaN          NaN  \n",
       "1386                im       NaN          NaN  \n",
       "1399               NaN       NaN          NaN  \n",
       "1190               NaN       NaN          NaN  \n",
       "1366               NaN       NaN          NaN  \n",
       "1291                fm      team         team  \n",
       "1101               NaN       NaN          NaN  \n",
       "1234                gm       NaN          NaN  \n",
       "1440                cm       NaN          NaN  \n",
       "1094                gm      team         team  \n",
       "1158               NaN       NaN          NaN  \n",
       "1455                fm       NaN          NaN  \n",
       "1064                gm      team         team  \n",
       "1029               NaN       NaN          NaN  \n",
       "1292               NaN       NaN          NaN  \n",
       "1383               wim       NaN          NaN  \n",
       "1296                im     rapid        rapid  \n",
       "1010                im       NaN          NaN  \n",
       "1348                gm       NaN          NaN  \n",
       "1359                fm       NaN          NaN  \n",
       "1399                fm       NaN          NaN  \n",
       "1361               NaN       NaN          NaN  \n",
       "1434                fm       NaN          NaN  \n",
       "1435                fm       NaN          NaN  \n",
       "1361                im       NaN          NaN  \n",
       "1333                cm       NaN          NaN  \n",
       "1352               NaN       NaN          NaN  \n",
       "1062               NaN       NaN          NaN  \n",
       "1152               NaN       NaN          NaN  \n",
       "1290                im       NaN          NaN  "
      ]
     },
     "execution_count": 25,
     "metadata": {},
     "output_type": "execute_result"
    }
   ],
   "source": [
    "datos_crudos.sample(30)"
   ]
  },
  {
   "cell_type": "code",
   "execution_count": 6,
   "metadata": {},
   "outputs": [
    {
     "data": {
      "text/plain": [
       "Index(['White', 'Black', 'Date', 'EventDate', 'Event', 'Result',\n",
       "       'mainline_moves', 'Site', 'Online', 'Round', 'ECO', 'Opening',\n",
       "       'WhiteFideId', 'BlackFideId', 'WhiteElo', 'BlackElo', 'Variation',\n",
       "       'WhiteTitle', 'BlackTitle', 'WhiteTeam', 'BlackTeam', 'EventType',\n",
       "       'FEN', 'SetUp', 'Variant', 'Board', 'PlyCount', 'EventCategory'],\n",
       "      dtype='object')"
      ]
     },
     "execution_count": 6,
     "metadata": {},
     "output_type": "execute_result"
    }
   ],
   "source": [
    "datos_crudos.columns"
   ]
  },
  {
   "cell_type": "code",
   "execution_count": 5,
   "metadata": {},
   "outputs": [
    {
     "name": "stdout",
     "output_type": "stream",
     "text": [
      "<class 'pandas.core.frame.DataFrame'>\n",
      "Int64Index: 1971319 entries, 1260 to 980\n",
      "Data columns (total 28 columns):\n",
      " #   Column          Dtype  \n",
      "---  ------          -----  \n",
      " 0   White           object \n",
      " 1   Black           object \n",
      " 2   Date            object \n",
      " 3   EventDate       object \n",
      " 4   Event           object \n",
      " 5   Result          object \n",
      " 6   mainline_moves  object \n",
      " 7   Site            object \n",
      " 8   Online          bool   \n",
      " 9   Round           object \n",
      " 10  ECO             object \n",
      " 11  Opening         object \n",
      " 12  WhiteFideId     object \n",
      " 13  BlackFideId     object \n",
      " 14  WhiteElo        float64\n",
      " 15  BlackElo        float64\n",
      " 16  Variation       object \n",
      " 17  WhiteTitle      object \n",
      " 18  BlackTitle      object \n",
      " 19  WhiteTeam       object \n",
      " 20  BlackTeam       object \n",
      " 21  EventType       object \n",
      " 22  FEN             object \n",
      " 23  SetUp           float64\n",
      " 24  Variant         object \n",
      " 25  Board           float64\n",
      " 26  PlyCount        float64\n",
      " 27  EventCategory   float64\n",
      "dtypes: bool(1), float64(6), object(21)\n",
      "memory usage: 423.0+ MB\n"
     ]
    }
   ],
   "source": [
    "datos_crudos.info()"
   ]
  },
  {
   "cell_type": "code",
   "execution_count": 7,
   "metadata": {},
   "outputs": [
    {
     "data": {
      "text/plain": [
       "1. e4                                                                                                                                                                                                                                                                                                                                                                                                                                                                                                                                                                                                                                                                                                                                            2241\n",
       "1. d4                                                                                                                                                                                                                                                                                                                                                                                                                                                                                                                                                                                                                                                                                                                                            1421\n",
       "1. Nf3                                                                                                                                                                                                                                                                                                                                                                                                                                                                                                                                                                                                                                                                                                                                            332\n",
       "1. c4                                                                                                                                                                                                                                                                                                                                                                                                                                                                                                                                                                                                                                                                                                                                             233\n",
       "1. e4 e5 2. Nf3 Nc6 3. Bb5 Nf6 4. O-O Nxe4 5. d4 Nd6 6. dxe5 Nxb5 7. a4 Nbd4 8. Nxd4 Nxd4 9. Qxd4 d5 10. exd6 Qxd6 11. Qe4+ Qe6 12. Qd4 Qd6 13. Qe4+ Qe6 14. Qd4 Qd6                                                                                                                                                                                                                                                                                                                                                                                                                                                                                                                                                                              128\n",
       "                                                                                                                                                                                                                                                                                                                                                                                                                                                                                                                                                                                                                                                                                                                                                 ... \n",
       "1. d4 Nf6 2. c4 b6 3. Nf3 Bb7 4. g3 c5 5. d5 b5 6. Bg2 bxc4 7. Nc3 d6 8. Nd2 g6 9. Nxc4 Bg7 10. Bf4 O-O 11. Rc1 Ba6 12. Na4 Nbd7 13. O-O Nb6 14. Na5 Qd7 15. Nc6 Rfe8 16. Re1 Bb7 17. b4 Nbxd5 18. Na5 cxb4 19. Nxb7 Qxb7 20. Bg5 Qb5 21. Bxf6 Nxf6 22. Bc6 Qh5 23. Kg2 d5 24. Qb3 Bh6 25. e3 Rab8 26. Bxe8 Nxe8 27. Rc5 e6 28. Ra5 Nf6 29. Nc5 Bf8 30. Qd1 Qe5 31. Qd4 Qc7 32. Nb3 e5 33. Rxa7 Qc3 34. Qd2 Rc8 35. Rd1 h5 36. Qe2 Qc2 37. Qf3 Qf5 38. Qxf5 gxf5 39. Rc1 Rxc1 40. Nxc1 Ne4 41. Nd3 f6 42. Rb7 Nc3 43. Nxb4 Bxb4 44. Rxb4 Nxa2 45. Rb5 Nc3 46. Rc5 d4 47. exd4 exd4 48. Kf3 Kf7 49. Rc4 Ne4 50. Rxd4 Ng5+ 51. Ke3 Ne6 52. Rd7+ Kg6 53. Re7 f4+ 54. Kf3 Kf5 55. Rxe6 Kxe6 56. Kxf4 Ke7 57. Kf5 Kf7 58. h4 Kg7 59. f3 Kf7 60. f4       1\n",
       "1. d4 Nf6 2. Nf3 g6 3. g3 Bg7 4. Bg2 O-O 5. O-O d5 6. Be3 c6 7. Qc1 b6 8. Bh6 Bb7 9. c4 Nbd7 10. Rd1 Rc8 11. Nc3 Ba6 12. b3 e6 13. Bxg7 Kxg7 14. Qa3 Nb8 15. Rac1 dxc4 16. bxc4 Bxc4 17. Ne5 Ba6 18. Nxc6 Nxc6 19. Qxa6 Qe7 20. e3 Rfd8 21. Qe2 Nd5 22. Nxd5 exd5 23. h4 h5 24. Bh3 f5 25. Bf1 Rd6 26. Rc2 Rf8 27. Qb5 Rff6 28. Rdc1 Qe6 29. Qa4 Na5 30. Rc8 Rd7 31. Bb5 Re7 32. Qa3 f4 33. exf4 Nb7 34. R8c7 Nd6 35. Qxa7 Rff7 36. Rxe7 Rxe7 37. Qxb6 Kh6 38. Bd3 Rb7 39. Qd8 Nf7 40. Qg8 Re7 41. Qf8+ Kh7 42. f5 gxf5 43. Bxf5+ Qxf5 44. Qxe7 Kg7 45. Rc7 Qb1+ 46. Kg2 Qe4+ 47. Qxe4 dxe4 48. a4 Kf6 49. a5 Nd6 50. a6 Nb5 51. Rb7 Nd6 52. Rb6 Ke7 53. a7 Nc8 54. Rb7+ Kd8 55. a8=Q e3 56. fxe3 Ke8 57. Qxc8#                                     1\n",
       "1. e4 c5 2. Nf3 d6 3. d4 cxd4 4. Nxd4 Nf6 5. Nc3 a6 6. Be2 e6 7. O-O Be7 8. a4 O-O 9. Be3 e5 10. Nb3 Be6 11. f4 exf4 12. Rxf4 Nbd7 13. Nd5 Bxd5 14. exd5 b6 15. c3 Ne5 16. Qd4 Re8 17. c4 Nfd7 18. Rff1 Bf6 19. Qf4 Ng6 20. Qf2 Qe7 21. Bg4 Qxe3 22. Bxd7 Qxb3 23. Bxe8 Rxe8 24. Rfe1 Rxe1+ 25. Qxe1 Bd4+ 26. Kh1 Be5 27. a5 b5 28. cxb5 Qxb5 29. Rd1 h6 30. b4 Qc4 31. Qd2 Qh4 32. g3 Bxg3 33. b5 axb5 34. a6 Bf2 35. Qe2 Ne5 36. Kg2 Ba7 37. Rb1 Ng4 38. Kh1 Bf2 39. Qe8+ Kh7 40. Qe4+ g6 41. Qg2 Bc5 42. h3 Nf2+ 43. Kh2 Qf4+ 44. Qg3 Qd2 45. Qf3 Ne4+ 46. Kh1 Ng5 47. Qg2 Qd3 48. Rf1 Kg7 49. Kh2 b4 50. h4 Nh7 51. Ra1 Qd4 52. Qf1 Qxh4+ 53. Qh3 Qf4+ 54. Qg3 Qd4 55. Ra4 Nf6 56. Qe1 Nxd5 57. Qa1 Qxa1 58. Rxa1 Ba7 59. Rb1 Kf6               1\n",
       "1. d4 g6 2. c4 Bg7 3. Nf3 c5 4. d5 d6 5. e4 e6 6. Nc3 Ne7 7. h4 exd5 8. cxd5 Bg4 9. Qa4+ Bd7 10. Qb3 b6 11. Bf4 Nc8 12. h5 O-O 13. hxg6 hxg6 14. Bd3 a5 15. Bg5 a4 16. Qc2 Qc7 17. Qd2 c4 18. Bh6 Bf6 19. Qf4 Qd8 20. Bg5 Bf5 21. Qh4                                                                                                                                                                                                                                                                                                                                                                                                                                                                                                               1\n",
       "1. Nf3 Nf6 2. c4 g6 3. Nc3 Bg7 4. e4 d6 5. d4 O-O 6. Be2 e5 7. O-O Nc6 8. dxe5 dxe5 9. Bg5 Qxd1 10. Rfxd1 Bg4 11. Rd2 Bxf3 12. Bxf3 Nd4 13. Nd5 Nxd5 14. cxd5 c6 15. dxc6 bxc6 16. Rc1 Rab8 17. Be3 Rfd8 18. b3 Bf8 19. Kf1 c5 20. Be2 a5 21. Bc4 Bd6 22. Rd3 Kg7 23. Bd5 Rd7 24. Rc4 Ra7 25. g4 Rb4 26. Bd2 Rxc4 27. bxc4 a4 28. Bc1 Ra6 29. h4 Rb6 30. Bg5 f6 31. Be3 Rb1+ 32. Kg2 Rb2 33. Bxd4 cxd4 34. g5 f5 35. exf5 gxf5 36. Be6 Kg6 37. Rf3 f4 38. Rd3 Bc5 39. Bd5 Rxa2 40. Be4+ Kg7 41. Rd1 Rb2 42. Rb1 Rxb1 43. Bxb1 a3 44. f3 d3 45. Kf1 e4 46. fxe4 f3                                                                                                                                                                                   1\n",
       "Name: mainline_moves, Length: 1930226, dtype: int64"
      ]
     },
     "execution_count": 7,
     "metadata": {},
     "output_type": "execute_result"
    }
   ],
   "source": [
    "datos_crudos.mainline_moves.value_counts()"
   ]
  },
  {
   "attachments": {},
   "cell_type": "markdown",
   "metadata": {},
   "source": [
    "### Limpieza de Datos"
   ]
  },
  {
   "attachments": {},
   "cell_type": "markdown",
   "metadata": {},
   "source": [
    "Saco columnas innecesarias"
   ]
  },
  {
   "cell_type": "code",
   "execution_count": 4,
   "metadata": {},
   "outputs": [],
   "source": [
    "# Tiro las columnas que no interesan\n",
    "datos_crudos = datos_crudos.drop([\"PlyCount\", \"Board\", \"EventCategory\", \"BlackTeam\", \"WhiteTeam\"], axis=1)"
   ]
  },
  {
   "attachments": {},
   "cell_type": "markdown",
   "metadata": {},
   "source": [
    "Filtramos los juegos que son de chess 960 y luego borramos la columnas"
   ]
  },
  {
   "cell_type": "code",
   "execution_count": 6,
   "metadata": {},
   "outputs": [
    {
     "ename": "AttributeError",
     "evalue": "'DataFrame' object has no attribute 'Variant'",
     "output_type": "error",
     "traceback": [
      "\u001b[1;31m---------------------------------------------------------------------------\u001b[0m",
      "\u001b[1;31mAttributeError\u001b[0m                            Traceback (most recent call last)",
      "\u001b[1;32mc:\\Users\\fpeloso\\Digital House\\TP 1 - Grupo 10\\Grupo 10\\DH-TP-1---Grupo-10\\TP FINAL\\Chess\\Borrador Facu 2.ipynb Cell 15\u001b[0m in \u001b[0;36m<cell line: 3>\u001b[1;34m()\u001b[0m\n\u001b[0;32m      <a href='vscode-notebook-cell:/c%3A/Users/fpeloso/Digital%20House/TP%201%20-%20Grupo%2010/Grupo%2010/DH-TP-1---Grupo-10/TP%20FINAL/Chess/Borrador%20Facu%202.ipynb#X20sZmlsZQ%3D%3D?line=0'>1</a>\u001b[0m \u001b[39m# Primero me quedo solo con los registros nulos en las columnas relacionadas con la modalidad 960\u001b[39;00m\n\u001b[0;32m      <a href='vscode-notebook-cell:/c%3A/Users/fpeloso/Digital%20House/TP%201%20-%20Grupo%2010/Grupo%2010/DH-TP-1---Grupo-10/TP%20FINAL/Chess/Borrador%20Facu%202.ipynb#X20sZmlsZQ%3D%3D?line=1'>2</a>\u001b[0m \u001b[39m# De este modo me voy a quedar con las partidas que NO son 960chess\u001b[39;00m\n\u001b[1;32m----> <a href='vscode-notebook-cell:/c%3A/Users/fpeloso/Digital%20House/TP%201%20-%20Grupo%2010/Grupo%2010/DH-TP-1---Grupo-10/TP%20FINAL/Chess/Borrador%20Facu%202.ipynb#X20sZmlsZQ%3D%3D?line=2'>3</a>\u001b[0m datos_crudos \u001b[39m=\u001b[39m datos_crudos[ (datos_crudos\u001b[39m.\u001b[39;49mVariant\u001b[39m.\u001b[39misna()) \u001b[39m&\u001b[39m (datos_crudos\u001b[39m.\u001b[39mFEN\u001b[39m.\u001b[39misna()) \u001b[39m&\u001b[39m (datos_crudos\u001b[39m.\u001b[39mSetUp\u001b[39m.\u001b[39misna()) ]\n\u001b[0;32m      <a href='vscode-notebook-cell:/c%3A/Users/fpeloso/Digital%20House/TP%201%20-%20Grupo%2010/Grupo%2010/DH-TP-1---Grupo-10/TP%20FINAL/Chess/Borrador%20Facu%202.ipynb#X20sZmlsZQ%3D%3D?line=4'>5</a>\u001b[0m \u001b[39m# Despues tiro estas columnas que ya no me dicen nada\u001b[39;00m\n\u001b[0;32m      <a href='vscode-notebook-cell:/c%3A/Users/fpeloso/Digital%20House/TP%201%20-%20Grupo%2010/Grupo%2010/DH-TP-1---Grupo-10/TP%20FINAL/Chess/Borrador%20Facu%202.ipynb#X20sZmlsZQ%3D%3D?line=5'>6</a>\u001b[0m datos_crudos \u001b[39m=\u001b[39m datos_crudos\u001b[39m.\u001b[39mdrop([\u001b[39m\"\u001b[39m\u001b[39mVariant\u001b[39m\u001b[39m\"\u001b[39m, \u001b[39m\"\u001b[39m\u001b[39mFEN\u001b[39m\u001b[39m\"\u001b[39m, \u001b[39m\"\u001b[39m\u001b[39mSetUp\u001b[39m\u001b[39m\"\u001b[39m], axis\u001b[39m=\u001b[39m\u001b[39m1\u001b[39m)\n",
      "File \u001b[1;32mc:\\Users\\fpeloso\\Anaconda3\\envs\\dhdsblend2021\\lib\\site-packages\\pandas\\core\\generic.py:5141\u001b[0m, in \u001b[0;36mNDFrame.__getattr__\u001b[1;34m(self, name)\u001b[0m\n\u001b[0;32m   5139\u001b[0m \u001b[39mif\u001b[39;00m \u001b[39mself\u001b[39m\u001b[39m.\u001b[39m_info_axis\u001b[39m.\u001b[39m_can_hold_identifiers_and_holds_name(name):\n\u001b[0;32m   5140\u001b[0m     \u001b[39mreturn\u001b[39;00m \u001b[39mself\u001b[39m[name]\n\u001b[1;32m-> 5141\u001b[0m \u001b[39mreturn\u001b[39;00m \u001b[39mobject\u001b[39;49m\u001b[39m.\u001b[39;49m\u001b[39m__getattribute__\u001b[39;49m(\u001b[39mself\u001b[39;49m, name)\n",
      "\u001b[1;31mAttributeError\u001b[0m: 'DataFrame' object has no attribute 'Variant'"
     ]
    }
   ],
   "source": [
    "# Primero me quedo solo con los registros nulos en las columnas relacionadas con la modalidad 960\n",
    "# De este modo me voy a quedar con las partidas que NO son 960chess\n",
    "datos_crudos = datos_crudos[ (datos_crudos.Variant.isna()) & (datos_crudos.FEN.isna()) & (datos_crudos.SetUp.isna()) ]\n",
    "\n",
    "# Despues tiro estas columnas que ya no me dicen nada\n",
    "datos_crudos = datos_crudos.drop([\"Variant\", \"FEN\", \"SetUp\"], axis=1)"
   ]
  },
  {
   "cell_type": "code",
   "execution_count": 6,
   "metadata": {},
   "outputs": [
    {
     "data": {
      "text/plain": [
       "team                  80476\n",
       "swiss                 54121\n",
       "blitz                 17099\n",
       "team-tourn             9879\n",
       "tourn                  9488\n",
       "rapid                  7267\n",
       "team-swiss             3788\n",
       "k.o.                   2977\n",
       "swiss (blitz)          2188\n",
       "k.o. blitz              915\n",
       "Team                    495\n",
       "swiss (rapid)           485\n",
       "team-match              400\n",
       "team-tourn (rapid)      362\n",
       "match                   334\n",
       "schev                   320\n",
       "match (blitz)           207\n",
       "tourn (blitz)           197\n",
       "tourn (rapid)           197\n",
       "match (rapid)           158\n",
       "k.o. (blitz)            150\n",
       "team-swiss (rapid)      112\n",
       "team (rapid)            109\n",
       "team-match (blitz)       94\n",
       "tourn (corr)             91\n",
       "team-                    80\n",
       "schev (rapid)            64\n",
       "team-schev (blitz)       64\n",
       "schev (blitz)            40\n",
       "team-schev (rapid)       32\n",
       "team-match (rapid)       22\n",
       "k.o. rapid               17\n",
       "team-k.o.                16\n",
       "simul                    15\n",
       "game                      1\n",
       "game (blitz)              1\n",
       "Name: EventType, dtype: int64"
      ]
     },
     "execution_count": 6,
     "metadata": {},
     "output_type": "execute_result"
    }
   ],
   "source": [
    "datos_crudos.EventType.value_counts()"
   ]
  },
  {
   "cell_type": "code",
   "execution_count": 31,
   "metadata": {},
   "outputs": [
    {
     "data": {
      "text/plain": [
       "1778508"
      ]
     },
     "execution_count": 31,
     "metadata": {},
     "output_type": "execute_result"
    }
   ],
   "source": [
    "datos_crudos.EventType.isna().sum()"
   ]
  },
  {
   "cell_type": "code",
   "execution_count": 33,
   "metadata": {},
   "outputs": [
    {
     "data": {
      "text/plain": [
       "0"
      ]
     },
     "execution_count": 33,
     "metadata": {},
     "output_type": "execute_result"
    }
   ],
   "source": [
    "datos_crudos.Event.isna().sum()"
   ]
  },
  {
   "cell_type": "code",
   "execution_count": 7,
   "metadata": {},
   "outputs": [],
   "source": [
    "#datos_blitz = datos[(datos.Event.str.contains(\"blitz\")) | (datos.EventType.str.contains(\"blitz\"))]\n",
    "def condition(x):\n",
    "    if \"blitz\" in str(x):\n",
    "        return \"blitz\"\n",
    "    elif \"rapid\" in str(x):\n",
    "        return \"rapid\"\n",
    "    elif \"team\" in str(x):\n",
    "        return \"team\"\n",
    "    else: \n",
    "        return \"classic\"\n",
    " \n",
    "# Applying the conditions\n",
    "#datos_crudos['Time_Control'] = datos_crudos['EventType'].apply(condition)\n",
    " \n",
    "datos_crudos['Time_Control'] = datos_crudos['EventType'].apply(condition)\n",
    "\n",
    "\n"
   ]
  },
  {
   "cell_type": "code",
   "execution_count": 8,
   "metadata": {},
   "outputs": [
    {
     "data": {
      "text/plain": [
       "classic    1846350\n",
       "team         94639\n",
       "blitz        20955\n",
       "rapid         8825\n",
       "Name: Time_Control, dtype: int64"
      ]
     },
     "execution_count": 8,
     "metadata": {},
     "output_type": "execute_result"
    }
   ],
   "source": [
    "datos_crudos.Time_Control.value_counts()"
   ]
  },
  {
   "cell_type": "code",
   "execution_count": 7,
   "metadata": {},
   "outputs": [
    {
     "data": {
      "text/plain": [
       "PRO League Group Stage                         7861\n",
       "ch-FRA Blitz Online Qual                       4900\n",
       "Djerba Women Online 2020                       4651\n",
       "World Youth U16 Olympiad                       4275\n",
       "44th Olympiad 2022                             4070\n",
       "                                               ... \n",
       "ch-POL Playoff 2013                               1\n",
       "122nd US Open Armageddon                          1\n",
       "FIDE Steinitz Women TB                            1\n",
       "43rd Annual World Open TB                         1\n",
       "chess.com Blitz Final 3m+2spm Chess960 2016       1\n",
       "Name: Event, Length: 11150, dtype: int64"
      ]
     },
     "execution_count": 7,
     "metadata": {},
     "output_type": "execute_result"
    }
   ],
   "source": [
    "datos_crudos.Event.value_counts()"
   ]
  },
  {
   "cell_type": "code",
   "execution_count": 22,
   "metadata": {},
   "outputs": [
    {
     "data": {
      "text/plain": [
       "(1970769, 22)"
      ]
     },
     "metadata": {},
     "output_type": "display_data"
    },
    {
     "data": {
      "text/plain": [
       "Index(['White', 'Black', 'Date', 'EventDate', 'Event', 'Result',\n",
       "       'mainline_moves', 'Site', 'Online', 'Round', 'ECO', 'Opening',\n",
       "       'WhiteFideId', 'BlackFideId', 'WhiteElo', 'BlackElo', 'Variation',\n",
       "       'WhiteTitle', 'BlackTitle', 'EventType', 'Time_Control', 'Fecha'],\n",
       "      dtype='object')"
      ]
     },
     "execution_count": 22,
     "metadata": {},
     "output_type": "execute_result"
    }
   ],
   "source": [
    "display(datos_crudos.shape)\n",
    "datos_crudos.columns"
   ]
  },
  {
   "cell_type": "code",
   "execution_count": 23,
   "metadata": {},
   "outputs": [],
   "source": [
    "# Vamos a poner todas las letras en minuscula y eliminar espacios en los extremos\n",
    "# En \"mainline_moves\" y \"ECO\" NO toco las mayúsculas ya tienen relevancia en la notación.\n",
    "cols = [\"White\", \"Black\", \"Event\", \"Site\", \"Opening\", \"Variation\", \"WhiteTitle\", \"BlackTitle\", \"EventType\",\"Time_Control\"]\n",
    "for feature in cols:\n",
    "    \n",
    "    datos_crudos[feature] = datos_crudos[feature].str.lower().str.strip()"
   ]
  },
  {
   "cell_type": "code",
   "execution_count": 13,
   "metadata": {},
   "outputs": [
    {
     "data": {
      "text/plain": [
       "'2018-12-26'"
      ]
     },
     "execution_count": 13,
     "metadata": {},
     "output_type": "execute_result"
    }
   ],
   "source": [
    "datos_crudos.Date.iloc[0]"
   ]
  },
  {
   "cell_type": "code",
   "execution_count": 24,
   "metadata": {},
   "outputs": [],
   "source": [
    "datos_crudos[\"Fecha\"] = pd.to_datetime(datos_crudos[\"Date\"])"
   ]
  },
  {
   "cell_type": "code",
   "execution_count": 8,
   "metadata": {},
   "outputs": [
    {
     "data": {
      "text/plain": [
       "Timestamp('2018-12-26 00:00:00')"
      ]
     },
     "execution_count": 8,
     "metadata": {},
     "output_type": "execute_result"
    }
   ],
   "source": [
    "datos_crudos['Fecha'].iloc[0]"
   ]
  },
  {
   "cell_type": "code",
   "execution_count": 12,
   "metadata": {},
   "outputs": [
    {
     "data": {
      "text/plain": [
       "2021-02-16    6185\n",
       "2020-05-16    5749\n",
       "2020-06-14    5079\n",
       "2021-03-13    4826\n",
       "2022-08-02    3780\n",
       "              ... \n",
       "2012-06-04       1\n",
       "2012-05-05       1\n",
       "2012-05-03       1\n",
       "2012-05-06       1\n",
       "1988-11-18       1\n",
       "Name: Fecha, Length: 3800, dtype: int64"
      ]
     },
     "execution_count": 12,
     "metadata": {},
     "output_type": "execute_result"
    }
   ],
   "source": [
    "datos_crudos['Fecha'].value_counts()"
   ]
  },
  {
   "cell_type": "code",
   "execution_count": 13,
   "metadata": {},
   "outputs": [
    {
     "data": {
      "text/plain": [
       "(array([1.00000e+00, 0.00000e+00, 0.00000e+00, 0.00000e+00, 1.00000e+00,\n",
       "        1.66110e+05, 6.17038e+05, 9.00552e+05, 2.87616e+05, 1.00000e+00]),\n",
       " array([ 6896. ,  8397.8,  9899.6, 11401.4, 12903.2, 14405. , 15906.8,\n",
       "        17408.6, 18910.4, 20412.2, 21914. ]),\n",
       " <BarContainer object of 10 artists>)"
      ]
     },
     "execution_count": 13,
     "metadata": {},
     "output_type": "execute_result"
    },
    {
     "data": {
      "image/png": "[encoded data removed]",
      "text/plain": [
       "<Figure size 640x480 with 1 Axes>"
      ]
     },
     "metadata": {},
     "output_type": "display_data"
    }
   ],
   "source": [
    "fig = plt.figure()\n",
    "# creo los axes\n",
    "ax = plt.axes()\n",
    "# dibujo en axes:\n",
    "ax.hist(datos_crudos['Fecha'], label='fechas', alpha = 0.4)"
   ]
  },
  {
   "cell_type": "code",
   "execution_count": 21,
   "metadata": {},
   "outputs": [
    {
     "data": {
      "text/plain": [
       "(1970769, 22)"
      ]
     },
     "execution_count": 21,
     "metadata": {},
     "output_type": "execute_result"
    }
   ],
   "source": [
    "datos_crudos.shape"
   ]
  },
  {
   "attachments": {},
   "cell_type": "markdown",
   "metadata": {},
   "source": [
    "## Aca empezamos a filtrar los datos"
   ]
  },
  {
   "attachments": {},
   "cell_type": "markdown",
   "metadata": {},
   "source": [
    "primero filtro temporalmente a partir de 2021"
   ]
  },
  {
   "cell_type": "code",
   "execution_count": 25,
   "metadata": {},
   "outputs": [],
   "source": [
    "datos=datos_crudos.loc[datos_crudos['Fecha'].dt.year>2021]"
   ]
  },
  {
   "cell_type": "code",
   "execution_count": 26,
   "metadata": {},
   "outputs": [
    {
     "data": {
      "text/plain": [
       "(225984, 22)"
      ]
     },
     "execution_count": 26,
     "metadata": {},
     "output_type": "execute_result"
    }
   ],
   "source": [
    "datos.shape"
   ]
  },
  {
   "cell_type": "code",
   "execution_count": 27,
   "metadata": {},
   "outputs": [
    {
     "data": {
      "text/html": [
       "<div>\n",
       "<style scoped>\n",
       "    .dataframe tbody tr th:only-of-type {\n",
       "        vertical-align: middle;\n",
       "    }\n",
       "\n",
       "    .dataframe tbody tr th {\n",
       "        vertical-align: top;\n",
       "    }\n",
       "\n",
       "    .dataframe thead th {\n",
       "        text-align: right;\n",
       "    }\n",
       "</style>\n",
       "<table border=\"1\" class=\"dataframe\">\n",
       "  <thead>\n",
       "    <tr style=\"text-align: right;\">\n",
       "      <th></th>\n",
       "      <th>White</th>\n",
       "      <th>Black</th>\n",
       "      <th>Date</th>\n",
       "      <th>EventDate</th>\n",
       "      <th>Event</th>\n",
       "      <th>Result</th>\n",
       "      <th>mainline_moves</th>\n",
       "      <th>Site</th>\n",
       "      <th>Online</th>\n",
       "      <th>Round</th>\n",
       "      <th>ECO</th>\n",
       "      <th>Opening</th>\n",
       "      <th>WhiteFideId</th>\n",
       "      <th>BlackFideId</th>\n",
       "      <th>WhiteElo</th>\n",
       "      <th>BlackElo</th>\n",
       "      <th>Variation</th>\n",
       "      <th>WhiteTitle</th>\n",
       "      <th>BlackTitle</th>\n",
       "      <th>EventType</th>\n",
       "      <th>Time_Control</th>\n",
       "      <th>Fecha</th>\n",
       "    </tr>\n",
       "    <tr>\n",
       "      <th>twic_number</th>\n",
       "      <th></th>\n",
       "      <th></th>\n",
       "      <th></th>\n",
       "      <th></th>\n",
       "      <th></th>\n",
       "      <th></th>\n",
       "      <th></th>\n",
       "      <th></th>\n",
       "      <th></th>\n",
       "      <th></th>\n",
       "      <th></th>\n",
       "      <th></th>\n",
       "      <th></th>\n",
       "      <th></th>\n",
       "      <th></th>\n",
       "      <th></th>\n",
       "      <th></th>\n",
       "      <th></th>\n",
       "      <th></th>\n",
       "      <th></th>\n",
       "      <th></th>\n",
       "      <th></th>\n",
       "    </tr>\n",
       "  </thead>\n",
       "  <tbody>\n",
       "    <tr>\n",
       "      <th>1424</th>\n",
       "      <td>nakamura,hi</td>\n",
       "      <td>rapport,r</td>\n",
       "      <td>2022-02-12</td>\n",
       "      <td>2022.02.12</td>\n",
       "      <td>fide grand prix 1 playoff</td>\n",
       "      <td>1-0</td>\n",
       "      <td>1. d4 Nf6 2. c4 e6 3. Nc3 d5 4. cxd5 exd5 5. B...</td>\n",
       "      <td>berlin ger</td>\n",
       "      <td>False</td>\n",
       "      <td>1.1</td>\n",
       "      <td>D36</td>\n",
       "      <td>qgd</td>\n",
       "      <td>2.01619e+06</td>\n",
       "      <td>738590</td>\n",
       "      <td>2736.0</td>\n",
       "      <td>2763.0</td>\n",
       "      <td>exchange, positional line, 6.qc2</td>\n",
       "      <td>gm</td>\n",
       "      <td>gm</td>\n",
       "      <td>NaN</td>\n",
       "      <td>classic</td>\n",
       "      <td>2022-02-12</td>\n",
       "    </tr>\n",
       "    <tr>\n",
       "      <th>1424</th>\n",
       "      <td>aronian,l</td>\n",
       "      <td>dominguez perez,l</td>\n",
       "      <td>2022-02-12</td>\n",
       "      <td>2022.02.12</td>\n",
       "      <td>fide grand prix 1 playoff</td>\n",
       "      <td>1-0</td>\n",
       "      <td>1. d4 d5 2. c4 dxc4 3. e4 b5 4. a4 c6 5. axb5 ...</td>\n",
       "      <td>berlin ger</td>\n",
       "      <td>False</td>\n",
       "      <td>1.1</td>\n",
       "      <td>D20</td>\n",
       "      <td>qga</td>\n",
       "      <td>1.33005e+07</td>\n",
       "      <td>3.50324e+06</td>\n",
       "      <td>2772.0</td>\n",
       "      <td>2752.0</td>\n",
       "      <td>3.e4</td>\n",
       "      <td>gm</td>\n",
       "      <td>gm</td>\n",
       "      <td>NaN</td>\n",
       "      <td>classic</td>\n",
       "      <td>2022-02-12</td>\n",
       "    </tr>\n",
       "    <tr>\n",
       "      <th>1424</th>\n",
       "      <td>rapport,r</td>\n",
       "      <td>nakamura,hi</td>\n",
       "      <td>2022-02-13</td>\n",
       "      <td>2022.02.12</td>\n",
       "      <td>fide grand prix 1 playoff</td>\n",
       "      <td>1/2-1/2</td>\n",
       "      <td>1. Nf3 d5 2. g3 Nf6 3. Bg2 e6 4. O-O Be7 5. d3...</td>\n",
       "      <td>berlin ger</td>\n",
       "      <td>False</td>\n",
       "      <td>1.2</td>\n",
       "      <td>A07</td>\n",
       "      <td>reti</td>\n",
       "      <td>738590</td>\n",
       "      <td>2.01619e+06</td>\n",
       "      <td>2763.0</td>\n",
       "      <td>2736.0</td>\n",
       "      <td>king's indian attack (barcza system)</td>\n",
       "      <td>gm</td>\n",
       "      <td>gm</td>\n",
       "      <td>NaN</td>\n",
       "      <td>classic</td>\n",
       "      <td>2022-02-13</td>\n",
       "    </tr>\n",
       "    <tr>\n",
       "      <th>1424</th>\n",
       "      <td>dominguez perez,l</td>\n",
       "      <td>aronian,l</td>\n",
       "      <td>2022-02-13</td>\n",
       "      <td>2022.02.12</td>\n",
       "      <td>fide grand prix 1 playoff</td>\n",
       "      <td>1/2-1/2</td>\n",
       "      <td>1. e4 e5 2. Nf3 Nc6 3. Bc4 Nf6 4. d3 Be7 5. O-...</td>\n",
       "      <td>berlin ger</td>\n",
       "      <td>False</td>\n",
       "      <td>1.2</td>\n",
       "      <td>C55</td>\n",
       "      <td>two knights defence (modern bishop's opening)</td>\n",
       "      <td>3.50324e+06</td>\n",
       "      <td>1.33005e+07</td>\n",
       "      <td>2752.0</td>\n",
       "      <td>2772.0</td>\n",
       "      <td>NaN</td>\n",
       "      <td>gm</td>\n",
       "      <td>gm</td>\n",
       "      <td>NaN</td>\n",
       "      <td>classic</td>\n",
       "      <td>2022-02-13</td>\n",
       "    </tr>\n",
       "    <tr>\n",
       "      <th>1424</th>\n",
       "      <td>nakamura,hi</td>\n",
       "      <td>aronian,l</td>\n",
       "      <td>2022-02-15</td>\n",
       "      <td>2022.02.12</td>\n",
       "      <td>fide grand prix 1 playoff</td>\n",
       "      <td>1/2-1/2</td>\n",
       "      <td>1. e4 e5 2. Nf3 Nc6 3. Bb5 a6 4. Ba4 Nf6 5. O-...</td>\n",
       "      <td>berlin ger</td>\n",
       "      <td>False</td>\n",
       "      <td>2.1</td>\n",
       "      <td>C88</td>\n",
       "      <td>ruy lopez</td>\n",
       "      <td>2.01619e+06</td>\n",
       "      <td>1.33005e+07</td>\n",
       "      <td>2736.0</td>\n",
       "      <td>2772.0</td>\n",
       "      <td>closed, 7...o-o</td>\n",
       "      <td>gm</td>\n",
       "      <td>gm</td>\n",
       "      <td>NaN</td>\n",
       "      <td>classic</td>\n",
       "      <td>2022-02-15</td>\n",
       "    </tr>\n",
       "  </tbody>\n",
       "</table>\n",
       "</div>"
      ],
      "text/plain": [
       "                         White              Black        Date   EventDate  \\\n",
       "twic_number                                                                 \n",
       "1424               nakamura,hi          rapport,r  2022-02-12  2022.02.12   \n",
       "1424                 aronian,l  dominguez perez,l  2022-02-12  2022.02.12   \n",
       "1424                 rapport,r        nakamura,hi  2022-02-13  2022.02.12   \n",
       "1424         dominguez perez,l          aronian,l  2022-02-13  2022.02.12   \n",
       "1424               nakamura,hi          aronian,l  2022-02-15  2022.02.12   \n",
       "\n",
       "                                 Event   Result  \\\n",
       "twic_number                                       \n",
       "1424         fide grand prix 1 playoff      1-0   \n",
       "1424         fide grand prix 1 playoff      1-0   \n",
       "1424         fide grand prix 1 playoff  1/2-1/2   \n",
       "1424         fide grand prix 1 playoff  1/2-1/2   \n",
       "1424         fide grand prix 1 playoff  1/2-1/2   \n",
       "\n",
       "                                                mainline_moves        Site  \\\n",
       "twic_number                                                                  \n",
       "1424         1. d4 Nf6 2. c4 e6 3. Nc3 d5 4. cxd5 exd5 5. B...  berlin ger   \n",
       "1424         1. d4 d5 2. c4 dxc4 3. e4 b5 4. a4 c6 5. axb5 ...  berlin ger   \n",
       "1424         1. Nf3 d5 2. g3 Nf6 3. Bg2 e6 4. O-O Be7 5. d3...  berlin ger   \n",
       "1424         1. e4 e5 2. Nf3 Nc6 3. Bc4 Nf6 4. d3 Be7 5. O-...  berlin ger   \n",
       "1424         1. e4 e5 2. Nf3 Nc6 3. Bb5 a6 4. Ba4 Nf6 5. O-...  berlin ger   \n",
       "\n",
       "             Online Round  ECO                                        Opening  \\\n",
       "twic_number                                                                     \n",
       "1424          False   1.1  D36                                            qgd   \n",
       "1424          False   1.1  D20                                            qga   \n",
       "1424          False   1.2  A07                                           reti   \n",
       "1424          False   1.2  C55  two knights defence (modern bishop's opening)   \n",
       "1424          False   2.1  C88                                      ruy lopez   \n",
       "\n",
       "             WhiteFideId  BlackFideId  WhiteElo  BlackElo  \\\n",
       "twic_number                                                 \n",
       "1424         2.01619e+06       738590    2736.0    2763.0   \n",
       "1424         1.33005e+07  3.50324e+06    2772.0    2752.0   \n",
       "1424              738590  2.01619e+06    2763.0    2736.0   \n",
       "1424         3.50324e+06  1.33005e+07    2752.0    2772.0   \n",
       "1424         2.01619e+06  1.33005e+07    2736.0    2772.0   \n",
       "\n",
       "                                        Variation WhiteTitle BlackTitle  \\\n",
       "twic_number                                                               \n",
       "1424             exchange, positional line, 6.qc2         gm         gm   \n",
       "1424                                         3.e4         gm         gm   \n",
       "1424         king's indian attack (barcza system)         gm         gm   \n",
       "1424                                          NaN         gm         gm   \n",
       "1424                              closed, 7...o-o         gm         gm   \n",
       "\n",
       "            EventType Time_Control      Fecha  \n",
       "twic_number                                    \n",
       "1424              NaN      classic 2022-02-12  \n",
       "1424              NaN      classic 2022-02-12  \n",
       "1424              NaN      classic 2022-02-13  \n",
       "1424              NaN      classic 2022-02-13  \n",
       "1424              NaN      classic 2022-02-15  "
      ]
     },
     "execution_count": 27,
     "metadata": {},
     "output_type": "execute_result"
    }
   ],
   "source": [
    "datos.head()"
   ]
  },
  {
   "attachments": {},
   "cell_type": "markdown",
   "metadata": {},
   "source": [
    "### Limpio la columna resultados. Dejo en Nan los que no coinciden y luego los borramos"
   ]
  },
  {
   "cell_type": "code",
   "execution_count": 13,
   "metadata": {},
   "outputs": [
    {
     "name": "stderr",
     "output_type": "stream",
     "text": [
      "C:\\Users\\fpeloso\\AppData\\Local\\Temp\\ipykernel_13832\\3252946653.py:12: SettingWithCopyWarning: \n",
      "A value is trying to be set on a copy of a slice from a DataFrame.\n",
      "Try using .loc[row_indexer,col_indexer] = value instead\n",
      "\n",
      "See the caveats in the documentation: https://pandas.pydata.org/pandas-docs/stable/user_guide/indexing.html#returning-a-view-versus-a-copy\n",
      "  datos['Resultado'] = datos['Result'].apply(condition)\n"
     ]
    }
   ],
   "source": [
    "def condition(x):\n",
    "    if x=='1-0':\n",
    "        return 0\n",
    "    elif x=='0-1':\n",
    "        return 1\n",
    "    elif x=='1/2-1/2':\n",
    "        return 2\n",
    "    else: \n",
    "        return np.NaN\n",
    " \n",
    "# Applying the conditions\n",
    "datos['Resultado'] = datos['Result'].apply(condition)\n",
    " \n",
    "#print(df)"
   ]
  },
  {
   "cell_type": "code",
   "execution_count": 19,
   "metadata": {},
   "outputs": [],
   "source": [
    "#Creo columna resultado \n",
    "#datos['Resultado'] = datos['Result'].apply(lambda x: 0 if x=='1-0' else if x=='0-1' )"
   ]
  },
  {
   "cell_type": "code",
   "execution_count": 11,
   "metadata": {},
   "outputs": [
    {
     "data": {
      "text/plain": [
       "52"
      ]
     },
     "execution_count": 11,
     "metadata": {},
     "output_type": "execute_result"
    }
   ],
   "source": [
    "datos['Resultado'].isna().sum()"
   ]
  },
  {
   "cell_type": "code",
   "execution_count": 33,
   "metadata": {},
   "outputs": [
    {
     "data": {
      "text/plain": [
       "'1. d4 Nf6 2. c4 e6 3. Nc3 d5 4. cxd5 exd5 5. Bg5 c6 6. Qc2 Be7 7. e3 Nbd7 8. Bd3 Nh5 9. Bxe7 Qxe7 10. O-O-O Nb6 11. h3 g6 12. Nf3 Ng7 13. g4 Be6 14. Ne2 O-O-O 15. Kb1 Kb8 16. Rc1 Ne8 17. Nf4 Nd6 18. a4 Ndc4 19. a5 Qb4 20. Qc3 Qxa5 21. Qxa5 Nxa5 22. Ng5 Rdf8 23. Bxg6 Nb3 24. Nfxe6 fxe6 25. Nxh7 Rfg8 26. Bd3 Nxc1 27. Kxc1 Rg7 28. Nf6 Rf7 29. g5 Rxf6 30. gxf6 Rf8 31. h4 Rxf6 32. h5 Rh6 33. Kd2 Kc7 34. Ke2 Kd6 35. Kf3 Ke7 36. Kg4 Kf6 37. Rh3 Nc8 38. Rf3+ Kg7 39. Bg6 Nd6 40. Kg5 a5 41. Rf4 Ne4+ 42. Bxe4 dxe4 43. Rxe4 Rf6 44. f4 Rf5+ 45. Kg4 Rb5 46. Rxe6 a4 47. Re7+ Kh6 48. Re8 Rxb2 49. Rh8+ Kg7 50. Ra8 b5 51. e4 Ra2 52. Ra7+ Kh6 53. Ra6 Kh7 54. Ra7+ Kh6 55. Ra6 Kh7 56. e5 b4 57. e6 b3 58. Kf5 Ra1 59. Rb6 Re1 60. Kf6 Re4 61. e7 Rxf4+ 62. Ke5 Rf1 63. Kd6 Re1 64. Kd7 c5 65. dxc5 Rd1+ 66. Kc7 Re1 67. Kd6 Rd1+ 68. Kc6 Re1 69. Rb4 b2 70. Rxb2 Rxe7 71. Ra2'"
      ]
     },
     "execution_count": 33,
     "metadata": {},
     "output_type": "execute_result"
    }
   ],
   "source": [
    "datos['mainline_moves'].iloc[0]"
   ]
  },
  {
   "cell_type": "code",
   "execution_count": 22,
   "metadata": {},
   "outputs": [
    {
     "data": {
      "text/plain": [
       "str"
      ]
     },
     "execution_count": 22,
     "metadata": {},
     "output_type": "execute_result"
    }
   ],
   "source": [
    "type(datos['mainline_moves'].iloc[0])"
   ]
  },
  {
   "cell_type": "code",
   "execution_count": 23,
   "metadata": {},
   "outputs": [],
   "source": [
    "#aux=datos['mainline_moves'].iloc[0].replace(\" \", \"\")\n",
    "moves_serie=datos['mainline_moves'].iloc[0].replace(\" \", \"\").split('.')\n"
   ]
  },
  {
   "cell_type": "code",
   "execution_count": 24,
   "metadata": {},
   "outputs": [],
   "source": [
    "#deberia remover los espacioes en blanco del string. luego separar por puntos"
   ]
  },
  {
   "cell_type": "code",
   "execution_count": 25,
   "metadata": {},
   "outputs": [
    {
     "data": {
      "text/plain": [
       "72"
      ]
     },
     "execution_count": 25,
     "metadata": {},
     "output_type": "execute_result"
    }
   ],
   "source": [
    "len(moves_serie)"
   ]
  },
  {
   "attachments": {},
   "cell_type": "markdown",
   "metadata": {},
   "source": [
    "### Creo la columna cantidad de Movimientos"
   ]
  },
  {
   "cell_type": "code",
   "execution_count": 14,
   "metadata": {},
   "outputs": [
    {
     "name": "stderr",
     "output_type": "stream",
     "text": [
      "C:\\Users\\fpeloso\\AppData\\Local\\Temp\\ipykernel_13832\\3200335042.py:7: SettingWithCopyWarning: \n",
      "A value is trying to be set on a copy of a slice from a DataFrame.\n",
      "Try using .loc[row_indexer,col_indexer] = value instead\n",
      "\n",
      "See the caveats in the documentation: https://pandas.pydata.org/pandas-docs/stable/user_guide/indexing.html#returning-a-view-versus-a-copy\n",
      "  datos['cant_mov'] = datos['mainline_moves'].apply(cant_move)\n"
     ]
    }
   ],
   "source": [
    "def cant_move(x):\n",
    "    if type(x) is str:\n",
    "        return len(x.replace(\" \", \"\").split('.'))\n",
    "    else:\n",
    "        return np.NaN\n",
    "# Applying the conditions\n",
    "datos['cant_mov'] = datos['mainline_moves'].apply(cant_move)"
   ]
  },
  {
   "cell_type": "code",
   "execution_count": 35,
   "metadata": {},
   "outputs": [
    {
     "data": {
      "text/html": [
       "<div>\n",
       "<style scoped>\n",
       "    .dataframe tbody tr th:only-of-type {\n",
       "        vertical-align: middle;\n",
       "    }\n",
       "\n",
       "    .dataframe tbody tr th {\n",
       "        vertical-align: top;\n",
       "    }\n",
       "\n",
       "    .dataframe thead th {\n",
       "        text-align: right;\n",
       "    }\n",
       "</style>\n",
       "<table border=\"1\" class=\"dataframe\">\n",
       "  <thead>\n",
       "    <tr style=\"text-align: right;\">\n",
       "      <th></th>\n",
       "      <th>White</th>\n",
       "      <th>Black</th>\n",
       "      <th>Date</th>\n",
       "      <th>EventDate</th>\n",
       "      <th>Event</th>\n",
       "      <th>Result</th>\n",
       "      <th>mainline_moves</th>\n",
       "      <th>Site</th>\n",
       "      <th>Online</th>\n",
       "      <th>Round</th>\n",
       "      <th>ECO</th>\n",
       "      <th>Opening</th>\n",
       "      <th>WhiteFideId</th>\n",
       "      <th>BlackFideId</th>\n",
       "      <th>WhiteElo</th>\n",
       "      <th>BlackElo</th>\n",
       "      <th>Variation</th>\n",
       "      <th>WhiteTitle</th>\n",
       "      <th>BlackTitle</th>\n",
       "      <th>EventType</th>\n",
       "      <th>Fecha</th>\n",
       "      <th>Resultado</th>\n",
       "      <th>cant_mov</th>\n",
       "    </tr>\n",
       "    <tr>\n",
       "      <th>twic_number</th>\n",
       "      <th></th>\n",
       "      <th></th>\n",
       "      <th></th>\n",
       "      <th></th>\n",
       "      <th></th>\n",
       "      <th></th>\n",
       "      <th></th>\n",
       "      <th></th>\n",
       "      <th></th>\n",
       "      <th></th>\n",
       "      <th></th>\n",
       "      <th></th>\n",
       "      <th></th>\n",
       "      <th></th>\n",
       "      <th></th>\n",
       "      <th></th>\n",
       "      <th></th>\n",
       "      <th></th>\n",
       "      <th></th>\n",
       "      <th></th>\n",
       "      <th></th>\n",
       "      <th></th>\n",
       "      <th></th>\n",
       "    </tr>\n",
       "  </thead>\n",
       "  <tbody>\n",
       "    <tr>\n",
       "      <th>1424</th>\n",
       "      <td>nakamura,hi</td>\n",
       "      <td>rapport,r</td>\n",
       "      <td>2022-02-12</td>\n",
       "      <td>2022.02.12</td>\n",
       "      <td>fide grand prix 1 playoff</td>\n",
       "      <td>1-0</td>\n",
       "      <td>1. d4 Nf6 2. c4 e6 3. Nc3 d5 4. cxd5 exd5 5. B...</td>\n",
       "      <td>berlin ger</td>\n",
       "      <td>False</td>\n",
       "      <td>1.1</td>\n",
       "      <td>D36</td>\n",
       "      <td>qgd</td>\n",
       "      <td>2.01619e+06</td>\n",
       "      <td>738590</td>\n",
       "      <td>2736.0</td>\n",
       "      <td>2763.0</td>\n",
       "      <td>exchange, positional line, 6.qc2</td>\n",
       "      <td>gm</td>\n",
       "      <td>gm</td>\n",
       "      <td>NaN</td>\n",
       "      <td>2022-02-12</td>\n",
       "      <td>0.0</td>\n",
       "      <td>72.0</td>\n",
       "    </tr>\n",
       "    <tr>\n",
       "      <th>1424</th>\n",
       "      <td>aronian,l</td>\n",
       "      <td>dominguez perez,l</td>\n",
       "      <td>2022-02-12</td>\n",
       "      <td>2022.02.12</td>\n",
       "      <td>fide grand prix 1 playoff</td>\n",
       "      <td>1-0</td>\n",
       "      <td>1. d4 d5 2. c4 dxc4 3. e4 b5 4. a4 c6 5. axb5 ...</td>\n",
       "      <td>berlin ger</td>\n",
       "      <td>False</td>\n",
       "      <td>1.1</td>\n",
       "      <td>D20</td>\n",
       "      <td>qga</td>\n",
       "      <td>1.33005e+07</td>\n",
       "      <td>3.50324e+06</td>\n",
       "      <td>2772.0</td>\n",
       "      <td>2752.0</td>\n",
       "      <td>3.e4</td>\n",
       "      <td>gm</td>\n",
       "      <td>gm</td>\n",
       "      <td>NaN</td>\n",
       "      <td>2022-02-12</td>\n",
       "      <td>0.0</td>\n",
       "      <td>42.0</td>\n",
       "    </tr>\n",
       "    <tr>\n",
       "      <th>1424</th>\n",
       "      <td>rapport,r</td>\n",
       "      <td>nakamura,hi</td>\n",
       "      <td>2022-02-13</td>\n",
       "      <td>2022.02.12</td>\n",
       "      <td>fide grand prix 1 playoff</td>\n",
       "      <td>1/2-1/2</td>\n",
       "      <td>1. Nf3 d5 2. g3 Nf6 3. Bg2 e6 4. O-O Be7 5. d3...</td>\n",
       "      <td>berlin ger</td>\n",
       "      <td>False</td>\n",
       "      <td>1.2</td>\n",
       "      <td>A07</td>\n",
       "      <td>reti</td>\n",
       "      <td>738590</td>\n",
       "      <td>2.01619e+06</td>\n",
       "      <td>2763.0</td>\n",
       "      <td>2736.0</td>\n",
       "      <td>king's indian attack (barcza system)</td>\n",
       "      <td>gm</td>\n",
       "      <td>gm</td>\n",
       "      <td>NaN</td>\n",
       "      <td>2022-02-13</td>\n",
       "      <td>2.0</td>\n",
       "      <td>31.0</td>\n",
       "    </tr>\n",
       "    <tr>\n",
       "      <th>1424</th>\n",
       "      <td>dominguez perez,l</td>\n",
       "      <td>aronian,l</td>\n",
       "      <td>2022-02-13</td>\n",
       "      <td>2022.02.12</td>\n",
       "      <td>fide grand prix 1 playoff</td>\n",
       "      <td>1/2-1/2</td>\n",
       "      <td>1. e4 e5 2. Nf3 Nc6 3. Bc4 Nf6 4. d3 Be7 5. O-...</td>\n",
       "      <td>berlin ger</td>\n",
       "      <td>False</td>\n",
       "      <td>1.2</td>\n",
       "      <td>C55</td>\n",
       "      <td>two knights defence (modern bishop's opening)</td>\n",
       "      <td>3.50324e+06</td>\n",
       "      <td>1.33005e+07</td>\n",
       "      <td>2752.0</td>\n",
       "      <td>2772.0</td>\n",
       "      <td>NaN</td>\n",
       "      <td>gm</td>\n",
       "      <td>gm</td>\n",
       "      <td>NaN</td>\n",
       "      <td>2022-02-13</td>\n",
       "      <td>2.0</td>\n",
       "      <td>32.0</td>\n",
       "    </tr>\n",
       "    <tr>\n",
       "      <th>1424</th>\n",
       "      <td>nakamura,hi</td>\n",
       "      <td>aronian,l</td>\n",
       "      <td>2022-02-15</td>\n",
       "      <td>2022.02.12</td>\n",
       "      <td>fide grand prix 1 playoff</td>\n",
       "      <td>1/2-1/2</td>\n",
       "      <td>1. e4 e5 2. Nf3 Nc6 3. Bb5 a6 4. Ba4 Nf6 5. O-...</td>\n",
       "      <td>berlin ger</td>\n",
       "      <td>False</td>\n",
       "      <td>2.1</td>\n",
       "      <td>C88</td>\n",
       "      <td>ruy lopez</td>\n",
       "      <td>2.01619e+06</td>\n",
       "      <td>1.33005e+07</td>\n",
       "      <td>2736.0</td>\n",
       "      <td>2772.0</td>\n",
       "      <td>closed, 7...o-o</td>\n",
       "      <td>gm</td>\n",
       "      <td>gm</td>\n",
       "      <td>NaN</td>\n",
       "      <td>2022-02-15</td>\n",
       "      <td>2.0</td>\n",
       "      <td>55.0</td>\n",
       "    </tr>\n",
       "  </tbody>\n",
       "</table>\n",
       "</div>"
      ],
      "text/plain": [
       "                         White              Black        Date   EventDate  \\\n",
       "twic_number                                                                 \n",
       "1424               nakamura,hi          rapport,r  2022-02-12  2022.02.12   \n",
       "1424                 aronian,l  dominguez perez,l  2022-02-12  2022.02.12   \n",
       "1424                 rapport,r        nakamura,hi  2022-02-13  2022.02.12   \n",
       "1424         dominguez perez,l          aronian,l  2022-02-13  2022.02.12   \n",
       "1424               nakamura,hi          aronian,l  2022-02-15  2022.02.12   \n",
       "\n",
       "                                 Event   Result  \\\n",
       "twic_number                                       \n",
       "1424         fide grand prix 1 playoff      1-0   \n",
       "1424         fide grand prix 1 playoff      1-0   \n",
       "1424         fide grand prix 1 playoff  1/2-1/2   \n",
       "1424         fide grand prix 1 playoff  1/2-1/2   \n",
       "1424         fide grand prix 1 playoff  1/2-1/2   \n",
       "\n",
       "                                                mainline_moves        Site  \\\n",
       "twic_number                                                                  \n",
       "1424         1. d4 Nf6 2. c4 e6 3. Nc3 d5 4. cxd5 exd5 5. B...  berlin ger   \n",
       "1424         1. d4 d5 2. c4 dxc4 3. e4 b5 4. a4 c6 5. axb5 ...  berlin ger   \n",
       "1424         1. Nf3 d5 2. g3 Nf6 3. Bg2 e6 4. O-O Be7 5. d3...  berlin ger   \n",
       "1424         1. e4 e5 2. Nf3 Nc6 3. Bc4 Nf6 4. d3 Be7 5. O-...  berlin ger   \n",
       "1424         1. e4 e5 2. Nf3 Nc6 3. Bb5 a6 4. Ba4 Nf6 5. O-...  berlin ger   \n",
       "\n",
       "             Online Round  ECO                                        Opening  \\\n",
       "twic_number                                                                     \n",
       "1424          False   1.1  D36                                            qgd   \n",
       "1424          False   1.1  D20                                            qga   \n",
       "1424          False   1.2  A07                                           reti   \n",
       "1424          False   1.2  C55  two knights defence (modern bishop's opening)   \n",
       "1424          False   2.1  C88                                      ruy lopez   \n",
       "\n",
       "             WhiteFideId  BlackFideId  WhiteElo  BlackElo  \\\n",
       "twic_number                                                 \n",
       "1424         2.01619e+06       738590    2736.0    2763.0   \n",
       "1424         1.33005e+07  3.50324e+06    2772.0    2752.0   \n",
       "1424              738590  2.01619e+06    2763.0    2736.0   \n",
       "1424         3.50324e+06  1.33005e+07    2752.0    2772.0   \n",
       "1424         2.01619e+06  1.33005e+07    2736.0    2772.0   \n",
       "\n",
       "                                        Variation WhiteTitle BlackTitle  \\\n",
       "twic_number                                                               \n",
       "1424             exchange, positional line, 6.qc2         gm         gm   \n",
       "1424                                         3.e4         gm         gm   \n",
       "1424         king's indian attack (barcza system)         gm         gm   \n",
       "1424                                          NaN         gm         gm   \n",
       "1424                              closed, 7...o-o         gm         gm   \n",
       "\n",
       "            EventType      Fecha  Resultado  cant_mov  \n",
       "twic_number                                            \n",
       "1424              NaN 2022-02-12        0.0      72.0  \n",
       "1424              NaN 2022-02-12        0.0      42.0  \n",
       "1424              NaN 2022-02-13        2.0      31.0  \n",
       "1424              NaN 2022-02-13        2.0      32.0  \n",
       "1424              NaN 2022-02-15        2.0      55.0  "
      ]
     },
     "execution_count": 35,
     "metadata": {},
     "output_type": "execute_result"
    }
   ],
   "source": [
    "datos.head()"
   ]
  },
  {
   "attachments": {},
   "cell_type": "markdown",
   "metadata": {},
   "source": [
    "Seguimos filtrando"
   ]
  },
  {
   "cell_type": "code",
   "execution_count": 89,
   "metadata": {},
   "outputs": [
    {
     "data": {
      "text/plain": [
       "White                                                   biswas,karl\n",
       "Black                                                   maloberti,d\n",
       "Date                                                     2012-10-21\n",
       "EventDate                                                2012.10.21\n",
       "Event                                            38th guernsey open\n",
       "Result                                                      1/2-1/2\n",
       "mainline_moves    1. d4 Nf6 2. Nf3 g6 3. c4 Bg7 4. Nc3 d6 5. e4 ...\n",
       "Site                                                   guernsey gci\n",
       "Online                                                        False\n",
       "Round                                                             1\n",
       "ECO                                                             E90\n",
       "Opening                                               king's indian\n",
       "WhiteFideId                                                        \n",
       "BlackFideId                                                  620149\n",
       "WhiteElo                                                        NaN\n",
       "BlackElo                                                       2045\n",
       "Variation                                                     5.nf3\n",
       "WhiteTitle                                                      NaN\n",
       "BlackTitle                                                      NaN\n",
       "EventType                                                     swiss\n",
       "Fecha                                           2012-10-21 00:00:00\n",
       "Resultado                                                         2\n",
       "cant_mov                                                         50\n",
       "Name: 940, dtype: object"
      ]
     },
     "execution_count": 89,
     "metadata": {},
     "output_type": "execute_result"
    }
   ],
   "source": [
    "#datos=datos.drop(1537798)\n",
    "datos.iloc[1537798]"
   ]
  },
  {
   "cell_type": "code",
   "execution_count": 34,
   "metadata": {},
   "outputs": [
    {
     "ename": "IndexError",
     "evalue": "single positional indexer is out-of-bounds",
     "output_type": "error",
     "traceback": [
      "\u001b[1;31m---------------------------------------------------------------------------\u001b[0m",
      "\u001b[1;31mIndexError\u001b[0m                                Traceback (most recent call last)",
      "\u001b[1;32mc:\\Users\\fpeloso\\Digital House\\TP 1 - Grupo 10\\Grupo 10\\DH-TP-1---Grupo-10\\TP FINAL\\Chess\\Borrador Facu.ipynb Cell 44\u001b[0m in \u001b[0;36m<cell line: 2>\u001b[1;34m()\u001b[0m\n\u001b[0;32m      <a href='vscode-notebook-cell:/c%3A/Users/fpeloso/Digital%20House/TP%201%20-%20Grupo%2010/Grupo%2010/DH-TP-1---Grupo-10/TP%20FINAL/Chess/Borrador%20Facu.ipynb#X61sZmlsZQ%3D%3D?line=0'>1</a>\u001b[0m \u001b[39m#datos.drop(labels=1537798, inplace=True)\u001b[39;00m\n\u001b[1;32m----> <a href='vscode-notebook-cell:/c%3A/Users/fpeloso/Digital%20House/TP%201%20-%20Grupo%2010/Grupo%2010/DH-TP-1---Grupo-10/TP%20FINAL/Chess/Borrador%20Facu.ipynb#X61sZmlsZQ%3D%3D?line=1'>2</a>\u001b[0m datos \u001b[39m=\u001b[39m datos\u001b[39m.\u001b[39mdrop(index\u001b[39m=\u001b[39mdatos\u001b[39m.\u001b[39;49miloc[\u001b[39m1537798\u001b[39;49m]\u001b[39m.\u001b[39mname)\n",
      "File \u001b[1;32mc:\\Users\\fpeloso\\Anaconda3\\envs\\dhdsblend2021\\lib\\site-packages\\pandas\\core\\indexing.py:879\u001b[0m, in \u001b[0;36m_LocationIndexer.__getitem__\u001b[1;34m(self, key)\u001b[0m\n\u001b[0;32m    876\u001b[0m axis \u001b[39m=\u001b[39m \u001b[39mself\u001b[39m\u001b[39m.\u001b[39maxis \u001b[39mor\u001b[39;00m \u001b[39m0\u001b[39m\n\u001b[0;32m    878\u001b[0m maybe_callable \u001b[39m=\u001b[39m com\u001b[39m.\u001b[39mapply_if_callable(key, \u001b[39mself\u001b[39m\u001b[39m.\u001b[39mobj)\n\u001b[1;32m--> 879\u001b[0m \u001b[39mreturn\u001b[39;00m \u001b[39mself\u001b[39;49m\u001b[39m.\u001b[39;49m_getitem_axis(maybe_callable, axis\u001b[39m=\u001b[39;49maxis)\n",
      "File \u001b[1;32mc:\\Users\\fpeloso\\Anaconda3\\envs\\dhdsblend2021\\lib\\site-packages\\pandas\\core\\indexing.py:1496\u001b[0m, in \u001b[0;36m_iLocIndexer._getitem_axis\u001b[1;34m(self, key, axis)\u001b[0m\n\u001b[0;32m   1493\u001b[0m     \u001b[39mraise\u001b[39;00m \u001b[39mTypeError\u001b[39;00m(\u001b[39m\"\u001b[39m\u001b[39mCannot index by location index with a non-integer key\u001b[39m\u001b[39m\"\u001b[39m)\n\u001b[0;32m   1495\u001b[0m \u001b[39m# validate the location\u001b[39;00m\n\u001b[1;32m-> 1496\u001b[0m \u001b[39mself\u001b[39;49m\u001b[39m.\u001b[39;49m_validate_integer(key, axis)\n\u001b[0;32m   1498\u001b[0m \u001b[39mreturn\u001b[39;00m \u001b[39mself\u001b[39m\u001b[39m.\u001b[39mobj\u001b[39m.\u001b[39m_ixs(key, axis\u001b[39m=\u001b[39maxis)\n",
      "File \u001b[1;32mc:\\Users\\fpeloso\\Anaconda3\\envs\\dhdsblend2021\\lib\\site-packages\\pandas\\core\\indexing.py:1437\u001b[0m, in \u001b[0;36m_iLocIndexer._validate_integer\u001b[1;34m(self, key, axis)\u001b[0m\n\u001b[0;32m   1435\u001b[0m len_axis \u001b[39m=\u001b[39m \u001b[39mlen\u001b[39m(\u001b[39mself\u001b[39m\u001b[39m.\u001b[39mobj\u001b[39m.\u001b[39m_get_axis(axis))\n\u001b[0;32m   1436\u001b[0m \u001b[39mif\u001b[39;00m key \u001b[39m>\u001b[39m\u001b[39m=\u001b[39m len_axis \u001b[39mor\u001b[39;00m key \u001b[39m<\u001b[39m \u001b[39m-\u001b[39mlen_axis:\n\u001b[1;32m-> 1437\u001b[0m     \u001b[39mraise\u001b[39;00m \u001b[39mIndexError\u001b[39;00m(\u001b[39m\"\u001b[39m\u001b[39msingle positional indexer is out-of-bounds\u001b[39m\u001b[39m\"\u001b[39m)\n",
      "\u001b[1;31mIndexError\u001b[0m: single positional indexer is out-of-bounds"
     ]
    }
   ],
   "source": [
    "#datos.drop(labels=1537798, inplace=True)\n",
    "datos = datos.drop(index=datos.iloc[1537798].name)"
   ]
  },
  {
   "cell_type": "code",
   "execution_count": 15,
   "metadata": {},
   "outputs": [
    {
     "name": "stderr",
     "output_type": "stream",
     "text": [
      "C:\\Users\\fpeloso\\AppData\\Local\\Temp\\ipykernel_13832\\3503574612.py:3: SettingWithCopyWarning: \n",
      "A value is trying to be set on a copy of a slice from a DataFrame.\n",
      "Try using .loc[row_indexer,col_indexer] = value instead\n",
      "\n",
      "See the caveats in the documentation: https://pandas.pydata.org/pandas-docs/stable/user_guide/indexing.html#returning-a-view-versus-a-copy\n",
      "  datos['WhiteFideId'] = pd.to_numeric(datos['WhiteFideId']).convert_dtypes()\n",
      "C:\\Users\\fpeloso\\AppData\\Local\\Temp\\ipykernel_13832\\3503574612.py:5: SettingWithCopyWarning: \n",
      "A value is trying to be set on a copy of a slice from a DataFrame.\n",
      "Try using .loc[row_indexer,col_indexer] = value instead\n",
      "\n",
      "See the caveats in the documentation: https://pandas.pydata.org/pandas-docs/stable/user_guide/indexing.html#returning-a-view-versus-a-copy\n",
      "  datos['BlackFideId'] = pd.to_numeric(datos['BlackFideId']).convert_dtypes()\n"
     ]
    }
   ],
   "source": [
    "# Pasemos los números de identificación fide que son tipo object a enteros:\n",
    "\n",
    "datos['WhiteFideId'] = pd.to_numeric(datos['WhiteFideId']).convert_dtypes() \n",
    "\n",
    "datos['BlackFideId'] = pd.to_numeric(datos['BlackFideId']).convert_dtypes() "
   ]
  },
  {
   "cell_type": "markdown",
   "metadata": {},
   "source": []
  },
  {
   "cell_type": "code",
   "execution_count": 23,
   "metadata": {},
   "outputs": [
    {
     "data": {
      "text/plain": [
       "(528729, 23)"
      ]
     },
     "execution_count": 23,
     "metadata": {},
     "output_type": "execute_result"
    }
   ],
   "source": [
    "datos.shape"
   ]
  },
  {
   "attachments": {},
   "cell_type": "markdown",
   "metadata": {},
   "source": [
    "## filtramos blitz y 2010 en adelante y quedan 37k registros"
   ]
  },
  {
   "cell_type": "code",
   "execution_count": 46,
   "metadata": {},
   "outputs": [
    {
     "data": {
      "text/plain": [
       "(4457, 24)"
      ]
     },
     "execution_count": 46,
     "metadata": {},
     "output_type": "execute_result"
    }
   ],
   "source": [
    "# Hagamos un df con partidas blitz\n",
    "datos_blitz = datos[(datos.Event.str.contains(\"blitz\")) | (datos.EventType.str.contains(\"blitz\"))]\n",
    "datos_blitz.shape"
   ]
  },
  {
   "cell_type": "code",
   "execution_count": 17,
   "metadata": {},
   "outputs": [],
   "source": [
    "datos_blitz=datos"
   ]
  },
  {
   "cell_type": "code",
   "execution_count": 18,
   "metadata": {},
   "outputs": [
    {
     "data": {
      "text/plain": [
       "(225984, 24)"
      ]
     },
     "execution_count": 18,
     "metadata": {},
     "output_type": "execute_result"
    }
   ],
   "source": [
    "datos_blitz.shape"
   ]
  },
  {
   "cell_type": "code",
   "execution_count": 74,
   "metadata": {},
   "outputs": [
    {
     "name": "stderr",
     "output_type": "stream",
     "text": [
      "C:\\Users\\fpeloso\\AppData\\Local\\Temp\\ipykernel_10024\\2232308441.py:1: SettingWithCopyWarning: \n",
      "A value is trying to be set on a copy of a slice from a DataFrame.\n",
      "Try using .loc[row_indexer,col_indexer] = value instead\n",
      "\n",
      "See the caveats in the documentation: https://pandas.pydata.org/pandas-docs/stable/user_guide/indexing.html#returning-a-view-versus-a-copy\n",
      "  datos_blitz['WhiteFideId'] = pd.to_numeric(datos_blitz['WhiteFideId']).convert_dtypes()\n",
      "C:\\Users\\fpeloso\\AppData\\Local\\Temp\\ipykernel_10024\\2232308441.py:3: SettingWithCopyWarning: \n",
      "A value is trying to be set on a copy of a slice from a DataFrame.\n",
      "Try using .loc[row_indexer,col_indexer] = value instead\n",
      "\n",
      "See the caveats in the documentation: https://pandas.pydata.org/pandas-docs/stable/user_guide/indexing.html#returning-a-view-versus-a-copy\n",
      "  datos_blitz['BlackFideId'] = pd.to_numeric(datos_blitz['BlackFideId']).convert_dtypes()\n"
     ]
    }
   ],
   "source": [
    "datos_blitz['WhiteFideId'] = pd.to_numeric(datos_blitz['WhiteFideId']).convert_dtypes() \n",
    "\n",
    "datos_blitz['BlackFideId'] = pd.to_numeric(datos_blitz['BlackFideId']).convert_dtypes() "
   ]
  },
  {
   "cell_type": "code",
   "execution_count": 49,
   "metadata": {},
   "outputs": [],
   "source": [
    "#13300474\n",
    "#738590\n",
    "#4126025\n",
    "#3503240\n",
    "#13401319\n",
    "\n",
    "#623539\n",
    "#14204118\n",
    "#46616543\n",
    "#5029465\n",
    "#4158814\n",
    "\n",
    " \n",
    "masktop_10= (datos_blitz['WhiteFideId']==1503014) | (datos_blitz['WhiteFideId']==4168119) | (datos_blitz['WhiteFideId']==13400924)|(datos_blitz['WhiteFideId']==5000017)|(datos_blitz['WhiteFideId']==5202213)|\\\n",
    "    (datos_blitz['WhiteFideId']==2020009)|(datos_blitz['WhiteFideId']==2016192)|(datos_blitz['WhiteFideId']==24116068)|(datos_blitz['WhiteFideId']==12573981)|(datos_blitz['WhiteFideId']==8603677)\\\n",
    "    |(datos_blitz['WhiteFideId']==13300474)|(datos_blitz['WhiteFideId']==738590)|(datos_blitz['WhiteFideId']==4126025)|(datos_blitz['WhiteFideId']==3503240)|(datos_blitz['WhiteFideId']==13401319)\\\n",
    "    |(datos_blitz['WhiteFideId']==623539)|(datos_blitz['WhiteFideId']==14204118)|(datos_blitz['WhiteFideId']==46616543)|(datos_blitz['WhiteFideId']==5029465)|(datos_blitz['WhiteFideId']==4158814)\n",
    "\n",
    "\n",
    "masktop_10_black= (datos_blitz['BlackFideId']==1503014) | (datos_blitz['BlackFideId']==4168119) | (datos_blitz['BlackFideId']==13400924)|(datos_blitz['BlackFideId']==5000017)|(datos_blitz['BlackFideId']==5202213)|\\\n",
    "    (datos_blitz['BlackFideId']==2020009)|(datos_blitz['BlackFideId']==2016192)|(datos_blitz['BlackFideId']==24116068)|(datos_blitz['BlackFideId']==12573981)|(datos_blitz['BlackFideId']==8603677)\\\n",
    "    |(datos_blitz['BlackFideId']==13300474)|(datos_blitz['BlackFideId']==738590)|(datos_blitz['BlackFideId']==4126025)|(datos_blitz['BlackFideId']==3503240)|(datos_blitz['BlackFideId']==13401319)\\\n",
    "    |(datos_blitz['BlackFideId']==623539)|(datos_blitz['BlackFideId']==14204118)|(datos_blitz['BlackFideId']==46616543)|(datos_blitz['BlackFideId']==5029465)|(datos_blitz['BlackFideId']==4158814)"
   ]
  },
  {
   "cell_type": "code",
   "execution_count": 50,
   "metadata": {},
   "outputs": [],
   "source": [
    "datos_top10=datos_blitz.loc[(masktop_10) & (masktop_10_black) ]"
   ]
  },
  {
   "cell_type": "code",
   "execution_count": 51,
   "metadata": {},
   "outputs": [
    {
     "data": {
      "text/plain": [
       "(814, 24)"
      ]
     },
     "execution_count": 51,
     "metadata": {},
     "output_type": "execute_result"
    }
   ],
   "source": [
    "datos_top10.shape"
   ]
  },
  {
   "cell_type": "code",
   "execution_count": 40,
   "metadata": {},
   "outputs": [
    {
     "data": {
      "text/plain": [
       "1655"
      ]
     },
     "execution_count": 40,
     "metadata": {},
     "output_type": "execute_result"
    }
   ],
   "source": [
    "datos_top10['Opening'][datos_top10['Opening'].str.len()>24].count()\n"
   ]
  },
  {
   "cell_type": "code",
   "execution_count": 110,
   "metadata": {},
   "outputs": [
    {
     "name": "stderr",
     "output_type": "stream",
     "text": [
      "C:\\Users\\fpeloso\\AppData\\Local\\Temp\\ipykernel_2484\\1185953698.py:1: SettingWithCopyWarning: \n",
      "A value is trying to be set on a copy of a slice from a DataFrame.\n",
      "Try using .loc[row_indexer,col_indexer] = value instead\n",
      "\n",
      "See the caveats in the documentation: https://pandas.pydata.org/pandas-docs/stable/user_guide/indexing.html#returning-a-view-versus-a-copy\n",
      "  datos_top10['apertura']=datos_top10['Opening'].str.split().str[0]\n"
     ]
    }
   ],
   "source": [
    "datos_top10['apertura']=datos_top10['Opening'].str.split().str[0]"
   ]
  },
  {
   "cell_type": "code",
   "execution_count": 19,
   "metadata": {},
   "outputs": [
    {
     "name": "stderr",
     "output_type": "stream",
     "text": [
      "C:\\Users\\fpeloso\\AppData\\Local\\Temp\\ipykernel_13832\\1797105559.py:1: SettingWithCopyWarning: \n",
      "A value is trying to be set on a copy of a slice from a DataFrame.\n",
      "Try using .loc[row_indexer,col_indexer] = value instead\n",
      "\n",
      "See the caveats in the documentation: https://pandas.pydata.org/pandas-docs/stable/user_guide/indexing.html#returning-a-view-versus-a-copy\n",
      "  datos_blitz['apertura']=datos_blitz['Opening'].str.split().str[0]\n"
     ]
    }
   ],
   "source": [
    "datos_blitz['apertura']=datos_blitz['Opening'].str.split().str[0]"
   ]
  },
  {
   "cell_type": "code",
   "execution_count": 19,
   "metadata": {},
   "outputs": [],
   "source": [
    "#data=datos_top10[['WhiteElo','BlackElo','Opening','Variation','Resultado','cant_mov','WhiteFideId','BlackFideId']] "
   ]
  },
  {
   "cell_type": "code",
   "execution_count": 114,
   "metadata": {},
   "outputs": [],
   "source": [
    "data=datos_top10[['WhiteElo','BlackElo','apertura','Resultado','cant_mov','WhiteFideId','BlackFideId']]"
   ]
  },
  {
   "cell_type": "code",
   "execution_count": 28,
   "metadata": {},
   "outputs": [],
   "source": [
    "data=datos_blitz[['WhiteElo','BlackElo','apertura','Resultado','cant_mov','Time_Control']]"
   ]
  },
  {
   "cell_type": "code",
   "execution_count": 29,
   "metadata": {},
   "outputs": [
    {
     "name": "stdout",
     "output_type": "stream",
     "text": [
      "<class 'pandas.core.frame.DataFrame'>\n",
      "Int64Index: 225984 entries, 1424 to 1450\n",
      "Data columns (total 6 columns):\n",
      " #   Column        Non-Null Count   Dtype  \n",
      "---  ------        --------------   -----  \n",
      " 0   WhiteElo      219534 non-null  float64\n",
      " 1   BlackElo      219523 non-null  float64\n",
      " 2   apertura      224279 non-null  object \n",
      " 3   Resultado     225975 non-null  float64\n",
      " 4   cant_mov      224623 non-null  float64\n",
      " 5   Time_Control  225984 non-null  object \n",
      "dtypes: float64(4), object(2)\n",
      "memory usage: 12.1+ MB\n"
     ]
    }
   ],
   "source": [
    "data.info()"
   ]
  },
  {
   "cell_type": "code",
   "execution_count": 113,
   "metadata": {},
   "outputs": [
    {
     "data": {
      "text/plain": [
       "2016192     753\n",
       "1503014     671\n",
       "5202213     651\n",
       "13300474    604\n",
       "623539      585\n",
       "2020009     508\n",
       "4168119     436\n",
       "24116068    435\n",
       "13401319    402\n",
       "4126025     362\n",
       "8603677     341\n",
       "5000017     265\n",
       "12573981    251\n",
       "3503240     186\n",
       "13400924    162\n",
       "5029465     138\n",
       "4158814     122\n",
       "738590      113\n",
       "14204118     91\n",
       "46616543     18\n",
       "Name: WhiteFideId, dtype: Int64"
      ]
     },
     "execution_count": 113,
     "metadata": {},
     "output_type": "execute_result"
    }
   ],
   "source": [
    "data.WhiteFideId.value_counts().head(30)"
   ]
  },
  {
   "cell_type": "code",
   "execution_count": 30,
   "metadata": {},
   "outputs": [],
   "source": [
    "data=data.dropna(axis=0)"
   ]
  },
  {
   "cell_type": "code",
   "execution_count": 30,
   "metadata": {},
   "outputs": [],
   "source": [
    "#data['cant_mov']=data['mainline_moves']"
   ]
  },
  {
   "attachments": {},
   "cell_type": "markdown",
   "metadata": {},
   "source": [
    "# Pruebo modelos para predecir Resultado"
   ]
  },
  {
   "cell_type": "code",
   "execution_count": 31,
   "metadata": {},
   "outputs": [],
   "source": [
    "#X = data[['WhiteElo','BlackElo','Opening','Variation','cant_mov','WhiteFideId','BlackFideId']]\n",
    "#X = data[['WhiteElo','BlackElo','apertura','cant_mov','WhiteFideId','BlackFideId']]\n",
    "\n",
    "X = data[['WhiteElo','BlackElo','apertura','cant_mov','Time_Control']]\n",
    "#Vector Target\n",
    "y = data.Resultado\n"
   ]
  },
  {
   "cell_type": "code",
   "execution_count": 32,
   "metadata": {},
   "outputs": [],
   "source": [
    "#Hago dummies\n",
    "## hago dummies de barrios y tipo de propiedad\n",
    "#from sklearn.preprocessing import OneHotEncoder\n",
    "#categoricals = ['Opening', 'Variation']\n",
    "#enc = OneHotEncoder(drop='first')\n",
    "#X = listings_modelo[categoricals]\n",
    "#enc.fit(X)\n",
    "#enc.categories_"
   ]
  },
  {
   "cell_type": "code",
   "execution_count": 33,
   "metadata": {},
   "outputs": [],
   "source": [
    "#enc=OneHotEncoder(drop='first')"
   ]
  },
  {
   "cell_type": "code",
   "execution_count": 34,
   "metadata": {},
   "outputs": [],
   "source": [
    "#X_d=data[categoricals]"
   ]
  },
  {
   "cell_type": "code",
   "execution_count": 35,
   "metadata": {},
   "outputs": [],
   "source": [
    "#X_d.head(2)"
   ]
  },
  {
   "cell_type": "code",
   "execution_count": 36,
   "metadata": {},
   "outputs": [],
   "source": [
    "#enc.fit(X_d)\n",
    "#enc.categories_"
   ]
  },
  {
   "cell_type": "code",
   "execution_count": 37,
   "metadata": {},
   "outputs": [
    {
     "data": {
      "text/plain": [
       "\"dummies = enc.transform(X_d).toarray()\\ndummies_df = pd.DataFrame(dummies)\\ncol_names = [categoricals[i] + '_' + enc.categories_[i] for i in range(len(categoricals))]\\ncol_names_drop_first = [sublist[i] for sublist in col_names for i in range(len(sublist)) if i !=0]\\ndummies_df.columns = col_names_drop_first\\n#dummies_df\""
      ]
     },
     "execution_count": 37,
     "metadata": {},
     "output_type": "execute_result"
    }
   ],
   "source": [
    "'''dummies = enc.transform(X_d).toarray()\n",
    "dummies_df = pd.DataFrame(dummies)\n",
    "col_names = [categoricals[i] + '_' + enc.categories_[i] for i in range(len(categoricals))]\n",
    "col_names_drop_first = [sublist[i] for sublist in col_names for i in range(len(sublist)) if i !=0]\n",
    "dummies_df.columns = col_names_drop_first\n",
    "#dummies_df'''"
   ]
  },
  {
   "cell_type": "code",
   "execution_count": 38,
   "metadata": {},
   "outputs": [],
   "source": [
    "#dummies_df.head()"
   ]
  },
  {
   "cell_type": "code",
   "execution_count": 39,
   "metadata": {},
   "outputs": [],
   "source": [
    "#X_dum = X.drop(categoricals, axis=1)\n",
    "#X = pd.concat([X_dum, dummies_df], axis=1)"
   ]
  },
  {
   "cell_type": "code",
   "execution_count": 40,
   "metadata": {},
   "outputs": [],
   "source": [
    "#X = pd.concat([X_dum, dummies_df], axis=1)"
   ]
  },
  {
   "cell_type": "code",
   "execution_count": 22,
   "metadata": {},
   "outputs": [],
   "source": [
    "#MaskDummies3 = datos['barrio'].isin(ListDummies)\n",
    "#datosDummies = pd.get_dummies(datos[MaskDummies3]['barrio'])\n",
    "#datos = pd.merge(datos, datosDummies, how='left', left_index=True, right_index=True)\n",
    "#datos\n",
    "\n",
    "#pd.get_dummies(data=df, columns=['A', 'B'])\n",
    "\n",
    "#X_dum=pd.get_dummies(data=X,columns=['Opening','Variation','WhiteFideId','BlackFideId'])"
   ]
  },
  {
   "cell_type": "code",
   "execution_count": 32,
   "metadata": {},
   "outputs": [],
   "source": [
    "X_dum=pd.get_dummies(data=X,columns=['apertura','Time_Control'])"
   ]
  },
  {
   "cell_type": "code",
   "execution_count": 33,
   "metadata": {},
   "outputs": [
    {
     "data": {
      "text/plain": [
       "(213789, 131)"
      ]
     },
     "execution_count": 33,
     "metadata": {},
     "output_type": "execute_result"
    }
   ],
   "source": [
    "X_dum.shape"
   ]
  },
  {
   "cell_type": "code",
   "execution_count": 59,
   "metadata": {},
   "outputs": [
    {
     "data": {
      "text/plain": [
       "0.0    92608\n",
       "1.0    77919\n",
       "2.0    43262\n",
       "Name: Resultado, dtype: int64"
      ]
     },
     "execution_count": 59,
     "metadata": {},
     "output_type": "execute_result"
    }
   ],
   "source": [
    "y.value_counts()"
   ]
  },
  {
   "cell_type": "code",
   "execution_count": null,
   "metadata": {},
   "outputs": [],
   "source": []
  },
  {
   "attachments": {},
   "cell_type": "markdown",
   "metadata": {},
   "source": [
    "Separo en Train y Test"
   ]
  },
  {
   "cell_type": "code",
   "execution_count": 34,
   "metadata": {},
   "outputs": [],
   "source": [
    "X_train, X_test, y_train, y_test = train_test_split(X_dum, y, test_size=0.2, random_state=1, stratify=y)"
   ]
  },
  {
   "cell_type": "code",
   "execution_count": 45,
   "metadata": {},
   "outputs": [],
   "source": [
    "#X_train, X_test, y_train, y_test = train_test_split(X_dum, y, test_size=0.2, random_state=1)#, stratify=y)"
   ]
  },
  {
   "cell_type": "code",
   "execution_count": 61,
   "metadata": {},
   "outputs": [
    {
     "data": {
      "text/plain": [
       "0.0    18522\n",
       "1.0    15584\n",
       "2.0     8652\n",
       "Name: Resultado, dtype: int64"
      ]
     },
     "execution_count": 61,
     "metadata": {},
     "output_type": "execute_result"
    }
   ],
   "source": [
    "y_test.value_counts()"
   ]
  },
  {
   "cell_type": "code",
   "execution_count": 62,
   "metadata": {},
   "outputs": [
    {
     "data": {
      "text/plain": [
       "0.0    0.433182\n",
       "1.0    0.364470\n",
       "2.0    0.202348\n",
       "Name: Resultado, dtype: float64"
      ]
     },
     "execution_count": 62,
     "metadata": {},
     "output_type": "execute_result"
    }
   ],
   "source": [
    "y_test.value_counts()/y_test.size"
   ]
  },
  {
   "attachments": {},
   "cell_type": "markdown",
   "metadata": {},
   "source": [
    "Funcion para evaluar"
   ]
  },
  {
   "cell_type": "code",
   "execution_count": 48,
   "metadata": {},
   "outputs": [],
   "source": [
    "# Funcion para Scores\n",
    "\n",
    "resultados_fin = pd.DataFrame()\n",
    "\n",
    "def evaluacion(y_test, y_pred, model=\"\"):\n",
    "    # Crear diccionario para almacenar los resultados\n",
    "    resultados = {}\n",
    "\n",
    "    # Calcular sensibilidad\n",
    "    sensibilidad = metrics.recall_score(y_test, y_pred, average='macro')\n",
    "    resultados['Sensibilidad'] = round(sensibilidad,2)\n",
    "\n",
    "    # Calcular accuracy\n",
    "    accuracy = metrics.accuracy_score(y_test, y_pred)\n",
    "    resultados['Accuracy'] = round(accuracy,2)\n",
    "\n",
    "    # Calcular precision\n",
    "    precision = metrics.precision_score(y_test, y_pred, average='macro')\n",
    "    resultados['Precision'] = round(precision,2)\n",
    "\n",
    "    # Calcular F1 score\n",
    "    f1_score = metrics.f1_score(y_test, y_pred, average='macro')\n",
    "    resultados['F1 Score'] = round(f1_score,2)\n",
    "\n",
    "    # Graficar matrix de confusion con heatmap\n",
    "    cm = metrics.confusion_matrix(y_test, y_pred)\n",
    "    sns.heatmap(cm, annot=True, fmt=\"d\", xticklabels=np.unique(y_test).tolist(), yticklabels=np.unique(y_pred).tolist())\n",
    "    plt.title(f'Matrix de Confusion {model}')\n",
    "    plt.ylabel('Valor Real')\n",
    "    plt.xlabel('Valor Predicho')\n",
    "    plt.show()\n",
    "\n",
    "    resultado_df = pd.DataFrame.from_dict(resultados, orient='index', columns=[model])\n",
    "    resultados_fin[model]= resultado_df \n",
    "    return resultados_fin.transpose().reset_index().rename(columns={\"index\": \"Modelos\"})"
   ]
  },
  {
   "attachments": {},
   "cell_type": "markdown",
   "metadata": {},
   "source": [
    "Regresion Logistica"
   ]
  },
  {
   "cell_type": "code",
   "execution_count": 35,
   "metadata": {},
   "outputs": [],
   "source": [
    "from sklearn.linear_model import LogisticRegression\n",
    "\n",
    "lr = LogisticRegression(max_iter=2000, random_state=1)\n",
    "\n",
    "lr.fit(X_train, y_train) \n",
    "\n",
    "ypred_lr_train = lr.predict(X_train)\n",
    "ypred_lr_test = lr.predict(X_test)\n"
   ]
  },
  {
   "cell_type": "code",
   "execution_count": 36,
   "metadata": {},
   "outputs": [
    {
     "data": {
      "text/plain": [
       "array([[56458, 17626,     2],\n",
       "       [21741, 40593,     1],\n",
       "       [19619, 14991,     0]], dtype=int64)"
      ]
     },
     "execution_count": 36,
     "metadata": {},
     "output_type": "execute_result"
    }
   ],
   "source": [
    "metrics.confusion_matrix(y_train, ypred_lr_train)"
   ]
  },
  {
   "cell_type": "code",
   "execution_count": 37,
   "metadata": {},
   "outputs": [
    {
     "data": {
      "text/plain": [
       "0.5674468371230946"
      ]
     },
     "execution_count": 37,
     "metadata": {},
     "output_type": "execute_result"
    }
   ],
   "source": [
    "metrics.accuracy_score(y_train,ypred_lr_train)"
   ]
  },
  {
   "cell_type": "code",
   "execution_count": 38,
   "metadata": {},
   "outputs": [
    {
     "data": {
      "text/plain": [
       "0.5641049628139764"
      ]
     },
     "execution_count": 38,
     "metadata": {},
     "output_type": "execute_result"
    }
   ],
   "source": [
    "metrics.accuracy_score(y_test,ypred_lr_test)"
   ]
  },
  {
   "cell_type": "code",
   "execution_count": 39,
   "metadata": {},
   "outputs": [
    {
     "data": {
      "text/plain": [
       "0.4683969965494536"
      ]
     },
     "execution_count": 39,
     "metadata": {},
     "output_type": "execute_result"
    }
   ],
   "source": [
    "metrics.recall_score(y_test, ypred_lr_test, average='macro')"
   ]
  },
  {
   "cell_type": "code",
   "execution_count": 40,
   "metadata": {},
   "outputs": [
    {
     "name": "stderr",
     "output_type": "stream",
     "text": [
      "c:\\Users\\fpeloso\\Anaconda3\\envs\\dhdsblend2021\\lib\\site-packages\\sklearn\\metrics\\_classification.py:1221: UndefinedMetricWarning: Precision is ill-defined and being set to 0.0 in labels with no predicted samples. Use `zero_division` parameter to control this behavior.\n",
      "  _warn_prf(average, modifier, msg_start, len(result))\n"
     ]
    },
    {
     "data": {
      "text/plain": [
       "0.3748155465628744"
      ]
     },
     "execution_count": 40,
     "metadata": {},
     "output_type": "execute_result"
    }
   ],
   "source": [
    "metrics.precision_score(y_test, ypred_lr_test, average='macro')"
   ]
  },
  {
   "cell_type": "code",
   "execution_count": 41,
   "metadata": {},
   "outputs": [
    {
     "data": {
      "text/plain": [
       "0.41613616473576914"
      ]
     },
     "execution_count": 41,
     "metadata": {},
     "output_type": "execute_result"
    }
   ],
   "source": [
    "metrics.f1_score(y_test, ypred_lr_test, average='macro')"
   ]
  },
  {
   "cell_type": "code",
   "execution_count": 42,
   "metadata": {},
   "outputs": [
    {
     "data": {
      "text/plain": [
       "array([[14005,  4517,     0],\n",
       "       [ 5469, 10115,     0],\n",
       "       [ 4844,  3808,     0]], dtype=int64)"
      ]
     },
     "execution_count": 42,
     "metadata": {},
     "output_type": "execute_result"
    }
   ],
   "source": [
    "metrics.confusion_matrix(y_test, ypred_lr_test)"
   ]
  },
  {
   "attachments": {},
   "cell_type": "markdown",
   "metadata": {},
   "source": [
    "Naive Bayes"
   ]
  },
  {
   "cell_type": "code",
   "execution_count": 119,
   "metadata": {},
   "outputs": [],
   "source": [
    "from sklearn.naive_bayes import GaussianNB\n",
    "\n",
    "gnb = GaussianNB()\n",
    "\n",
    "gnb.fit(X_train, y_train)\n",
    "\n",
    "\n",
    "ypred_gnb_train = gnb.predict(X_train)\n",
    "\n",
    "\n",
    "ypred_gnb_test = gnb.predict(X_test)"
   ]
  },
  {
   "cell_type": "code",
   "execution_count": 120,
   "metadata": {},
   "outputs": [
    {
     "data": {
      "text/plain": [
       "array([[1644,  325, 3457],\n",
       "       [ 104, 1442, 2399],\n",
       "       [ 201,  293, 6279]], dtype=int64)"
      ]
     },
     "execution_count": 120,
     "metadata": {},
     "output_type": "execute_result"
    }
   ],
   "source": [
    "metrics.confusion_matrix(y_train, ypred_gnb_train)"
   ]
  },
  {
   "cell_type": "code",
   "execution_count": 121,
   "metadata": {},
   "outputs": [
    {
     "data": {
      "text/plain": [
       "array([[ 227,  114, 1015],\n",
       "       [  69,  180,  737],\n",
       "       [  88,  135, 1471]], dtype=int64)"
      ]
     },
     "execution_count": 121,
     "metadata": {},
     "output_type": "execute_result"
    }
   ],
   "source": [
    "metrics.confusion_matrix(y_test, ypred_gnb_test)"
   ]
  },
  {
   "cell_type": "code",
   "execution_count": 122,
   "metadata": {},
   "outputs": [
    {
     "name": "stdout",
     "output_type": "stream",
     "text": [
      "acuracy 0.4653121902874133\n",
      "recall 0.4061062748466775\n",
      "precision 0.4890444423560892\n",
      "f1 0.3712229392712496\n"
     ]
    }
   ],
   "source": [
    "print('acuracy', metrics.accuracy_score(y_test,ypred_gnb_test))\n",
    "print('recall',metrics.recall_score(y_test, ypred_gnb_test, average='macro'))\n",
    "print('precision',metrics.precision_score(y_test, ypred_gnb_test, average='macro'))\n",
    "print('f1',metrics.f1_score(y_test, ypred_gnb_test, average='macro'))"
   ]
  },
  {
   "attachments": {},
   "cell_type": "markdown",
   "metadata": {},
   "source": [
    "### Knn"
   ]
  },
  {
   "cell_type": "code",
   "execution_count": 43,
   "metadata": {},
   "outputs": [
    {
     "name": "stdout",
     "output_type": "stream",
     "text": [
      "Fitting 3 folds for each of 14 candidates, totalling 42 fits\n"
     ]
    },
    {
     "name": "stderr",
     "output_type": "stream",
     "text": [
      "[Parallel(n_jobs=-1)]: Using backend LokyBackend with 4 concurrent workers.\n",
      "[Parallel(n_jobs=-1)]: Done  42 out of  42 | elapsed:  6.9min finished\n"
     ]
    },
    {
     "data": {
      "text/plain": [
       "GridSearchCV(cv=3, estimator=KNeighborsClassifier(), n_jobs=-1,\n",
       "             param_grid={'n_neighbors': [1, 2, 3, 4, 5, 6, 7, 8, 9, 10, 11, 12,\n",
       "                                         13, 14]},\n",
       "             verbose=1)"
      ]
     },
     "execution_count": 43,
     "metadata": {},
     "output_type": "execute_result"
    }
   ],
   "source": [
    "from sklearn.neighbors import KNeighborsClassifier\n",
    "\n",
    "knn = KNeighborsClassifier()\n",
    "\n",
    "# Hyperparametros\n",
    "parameters_knn = {\"n_neighbors\" : list(range(1, 15))}\n",
    "\n",
    "clf_knn = GridSearchCV(knn, \n",
    "                   param_grid = parameters_knn, \n",
    "                   refit = True, \n",
    "                   cv = 3,\n",
    "                   verbose=1,\n",
    "                   n_jobs = -1)\n",
    "                   \n",
    "\n",
    "# Fit el modelo ya seleccionado\n",
    "clf_knn.fit(X_train, y_train)"
   ]
  },
  {
   "cell_type": "code",
   "execution_count": 44,
   "metadata": {},
   "outputs": [
    {
     "name": "stdout",
     "output_type": "stream",
     "text": [
      "Los mejores parametros fueron {'n_neighbors': 14} con un score de 0.56\n"
     ]
    }
   ],
   "source": [
    "print(\"Los mejores parametros fueron %s con un score de %0.2f\" % (clf_knn.best_params_, clf_knn.best_score_))"
   ]
  },
  {
   "cell_type": "code",
   "execution_count": 45,
   "metadata": {},
   "outputs": [],
   "source": [
    "ypred_knn_train = clf_knn.predict(X_train)\n",
    "ypred_knn_test = clf_knn.predict(X_test)"
   ]
  },
  {
   "cell_type": "code",
   "execution_count": 74,
   "metadata": {},
   "outputs": [
    {
     "name": "stdout",
     "output_type": "stream",
     "text": [
      "acuracy 0.5624210674025913\n",
      "recall 0.4943873930645836\n",
      "precision 0.5366990743732867\n",
      "f1 0.4884045794775156\n"
     ]
    }
   ],
   "source": [
    "print('acuracy', metrics.accuracy_score(y_test,ypred_knn_test))\n",
    "print('recall',metrics.recall_score(y_test, ypred_knn_test, average='macro'))\n",
    "print('precision',metrics.precision_score(y_test, ypred_knn_test, average='macro'))\n",
    "print('f1',metrics.f1_score(y_test, ypred_knn_test, average='macro'))"
   ]
  },
  {
   "cell_type": "code",
   "execution_count": 76,
   "metadata": {},
   "outputs": [
    {
     "name": "stdout",
     "output_type": "stream",
     "text": [
      "[[13245  4400   877]\n",
      " [ 5512  9347   725]\n",
      " [ 4039  3157  1456]]\n"
     ]
    }
   ],
   "source": [
    "print(confusion_matrix(y_test,ypred_knn_test))"
   ]
  },
  {
   "cell_type": "code",
   "execution_count": 46,
   "metadata": {},
   "outputs": [
    {
     "name": "stdout",
     "output_type": "stream",
     "text": [
      "resultados de train\n",
      "0.5770766703112301\n",
      "[[52064 21112   910]\n",
      " [18347 43267   721]\n",
      " [15852 15391  3367]]\n",
      "resultados de test\n",
      "0.5726179896159783\n",
      "[[12893  5402   227]\n",
      " [ 4635 10755   194]\n",
      " [ 3936  3880   836]]\n"
     ]
    }
   ],
   "source": [
    "tree_model = tree.DecisionTreeClassifier(min_samples_leaf=20, max_depth=6, random_state=50)\n",
    "tree_model.fit(X_train, y_train)\n",
    "\n",
    "y_train_tree_predict = tree_model.predict(X_train)\n",
    "y_test_tree_predict = tree_model.predict(X_test)\n",
    "\n",
    "print('resultados de train')\n",
    "print(accuracy_score(y_train, y_train_tree_predict))\n",
    "print(confusion_matrix(y_train, y_train_tree_predict))\n",
    "\n",
    "print('resultados de test')\n",
    "print(accuracy_score(y_test, y_test_tree_predict))\n",
    "print(confusion_matrix(y_test, y_test_tree_predict))"
   ]
  },
  {
   "cell_type": "code",
   "execution_count": 47,
   "metadata": {},
   "outputs": [
    {
     "name": "stdout",
     "output_type": "stream",
     "text": [
      "0.9996842677643234\n",
      "[[74064    14     8]\n",
      " [   16 62318     1]\n",
      " [    9     6 34595]]\n",
      "0.5588895645259366\n",
      "[[12513  4595  1414]\n",
      " [ 5066  9243  1275]\n",
      " [ 3550  2961  2141]]\n"
     ]
    }
   ],
   "source": [
    "from sklearn.ensemble import BaggingClassifier\n",
    "\n",
    "bagging_tree = tree.DecisionTreeClassifier()\n",
    "bagging_clf = BaggingClassifier(base_estimator=bagging_tree, n_estimators=100,\n",
    "                                bootstrap=True, n_jobs=1, random_state=50)\n",
    "bagging_clf.fit(X_train, y_train)\n",
    "\n",
    "print(accuracy_score(y_train, bagging_clf.predict(X_train)))\n",
    "print(confusion_matrix(y_train, bagging_clf.predict(X_train)))\n",
    "\n",
    "print(accuracy_score(y_test, bagging_clf.predict(X_test)))\n",
    "print(confusion_matrix(y_test, bagging_clf.predict(X_test)))"
   ]
  },
  {
   "cell_type": "code",
   "execution_count": 77,
   "metadata": {},
   "outputs": [],
   "source": [
    "from xgboost.sklearn import XGBClassifier\n",
    "model_xg = XGBClassifier(n_jobs=-1, use_label_encoder=False)"
   ]
  },
  {
   "cell_type": "code",
   "execution_count": 78,
   "metadata": {},
   "outputs": [],
   "source": [
    "from sklearn.model_selection import GridSearchCV\n",
    "params = {  \n",
    "    \"n_estimators\": [20,50,500],      # Number of boosted trees to fit.\n",
    "    \"max_depth\": [1,2,3,4],            # Maximum tree depth for base learners.\n",
    "    \"learning_rate\": [0.01, 0.1],      # Boosting learning rate (xgb’s “eta”)\n",
    "}"
   ]
  },
  {
   "cell_type": "code",
   "execution_count": 79,
   "metadata": {},
   "outputs": [],
   "source": [
    "from sklearn.model_selection import cross_val_score, StratifiedKFold\n",
    "cv = StratifiedKFold(n_splits=5, random_state=41, shuffle=True)"
   ]
  },
  {
   "cell_type": "code",
   "execution_count": 80,
   "metadata": {},
   "outputs": [],
   "source": [
    "xgb = GridSearchCV(model_xg, param_grid=params, cv=cv, verbose=1, n_jobs=-1)"
   ]
  },
  {
   "cell_type": "code",
   "execution_count": 81,
   "metadata": {},
   "outputs": [
    {
     "name": "stdout",
     "output_type": "stream",
     "text": [
      "Fitting 5 folds for each of 24 candidates, totalling 120 fits\n"
     ]
    },
    {
     "name": "stderr",
     "output_type": "stream",
     "text": [
      "[Parallel(n_jobs=-1)]: Using backend LokyBackend with 4 concurrent workers.\n"
     ]
    }
   ],
   "source": [
    "xgb.fit(X_train,y_train)"
   ]
  },
  {
   "cell_type": "code",
   "execution_count": 46,
   "metadata": {},
   "outputs": [
    {
     "data": {
      "text/plain": [
       "{'learning_rate': 0.1, 'max_depth': 4, 'n_estimators': 100}"
      ]
     },
     "execution_count": 46,
     "metadata": {},
     "output_type": "execute_result"
    }
   ],
   "source": [
    "xgb.best_params_"
   ]
  },
  {
   "cell_type": "code",
   "execution_count": 47,
   "metadata": {},
   "outputs": [],
   "source": [
    "def evaluar_rendimiento(modelo, nombre, X, y, cv):\n",
    "    s = cross_val_score(modelo, X, y, cv=cv, n_jobs=-1)\n",
    "    print(\"Rendimiento de {}:\\t{:0.3} ± {:0.3}\".format( \\\n",
    "        nombre, s.mean().round(3), s.std().round(3)))"
   ]
  },
  {
   "cell_type": "code",
   "execution_count": 48,
   "metadata": {},
   "outputs": [
    {
     "name": "stdout",
     "output_type": "stream",
     "text": [
      "Rendimiento de XG Boost:\t0.557 ± 0.009\n"
     ]
    }
   ],
   "source": [
    "evaluar_rendimiento(xgb.best_estimator_,\"XG Boost\", X_train, y_train, cv)"
   ]
  },
  {
   "cell_type": "code",
   "execution_count": 39,
   "metadata": {},
   "outputs": [],
   "source": [
    "import warnings\n",
    "warnings.filterwarnings(action='ignore', category=UserWarning)"
   ]
  },
  {
   "cell_type": "code",
   "execution_count": 41,
   "metadata": {},
   "outputs": [
    {
     "name": "stdout",
     "output_type": "stream",
     "text": [
      "0.5547571853320119\n",
      "[[ 657   62  637]\n",
      " [ 135  264  587]\n",
      " [ 271  105 1318]]\n"
     ]
    }
   ],
   "source": [
    "print(accuracy_score(y_test, xgb.best_estimator_.predict(X_test)))\n",
    "print(confusion_matrix(y_test, xgb.best_estimator_.predict(X_test)))"
   ]
  }
 ],
 "metadata": {
  "kernelspec": {
   "display_name": "dhdsblend2021",
   "language": "python",
   "name": "python3"
  },
  "language_info": {
   "codemirror_mode": {
    "name": "ipython",
    "version": 3
   },
   "file_extension": ".py",
   "mimetype": "text/x-python",
   "name": "python",
   "nbconvert_exporter": "python",
   "pygments_lexer": "ipython3",
   "version": "3.8.13"
  },
  "orig_nbformat": 4,
  "vscode": {
   "interpreter": {
    "hash": "b43af2114f43bcf982d0b53b081e4c6c708721cc588721c6f40c2d9852c4cd7b"
   }
  }
 },
 "nbformat": 4,
 "nbformat_minor": 2
}
