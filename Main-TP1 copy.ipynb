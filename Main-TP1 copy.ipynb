{
 "cells": [
  {
   "cell_type": "markdown",
   "metadata": {},
   "source": [
    "# TP Integrador N° 1 \n",
    "#### Grupo 10\n",
    "\n",
    "Integrantes:\n",
    "- Rodrigo Gramajo\n",
    "- Facundo Peloso\n",
    "- Roberto Biancardi\n",
    "\n",
    "Introducción\n",
    "\n",
    "La inmobiliaria Properatti desea implementar un ***tasador automático*** para sus operaciones.\n",
    "\n",
    "Nuestro objetivo final es desarrollar un modelo de regresión lineal que permita *predecir el* ***precio por metro cuadrado*** *de una propiedad.* Para ello, la empresa nos provee un dataset con los datos de sus operaciones en el primer semestre del 2017.\n",
    "\n",
    "El alcance de este primer trabajo práctico es de leer, analizar y procesar dichos datos para desarrollar un modelo predictivo en próximos trabajos.\n",
    "\n"
   ]
  },
  {
   "cell_type": "markdown",
   "metadata": {},
   "source": [
    "### Lectura de Datos ###\n",
    "\n",
    "\n",
    "Importamos las librerías que nos permitiran manejar y visualizar los datos"
   ]
  },
  {
   "cell_type": "code",
   "execution_count": 1,
   "metadata": {},
   "outputs": [],
   "source": [
    "#Importacion de librerias/módulos\n",
    "import pandas as pd\n",
    "import numpy as np\n",
    "import seaborn as sns\n",
    "import matplotlib.pyplot as plt\n",
    "import re\n",
    "import collections\n",
    "import descartes\n",
    "import geopandas as gpd\n",
    "from shapely.geometry import Point, polygon\n",
    "import shapely.wkt"
   ]
  },
  {
   "cell_type": "markdown",
   "metadata": {},
   "source": [
    "Leemos el archivo .csv que contiene al dataset y  hacemos una primera visualización.\n",
    "\n",
    "NOTA: El archivo .csv esta ubicado en el mismo directorio que la notebook Main para evitar conflictos de distintas rutas locales."
   ]
  },
  {
   "cell_type": "code",
   "execution_count": 2,
   "metadata": {},
   "outputs": [
    {
     "data": {
      "text/html": [
       "<div>\n",
       "<style scoped>\n",
       "    .dataframe tbody tr th:only-of-type {\n",
       "        vertical-align: middle;\n",
       "    }\n",
       "\n",
       "    .dataframe tbody tr th {\n",
       "        vertical-align: top;\n",
       "    }\n",
       "\n",
       "    .dataframe thead th {\n",
       "        text-align: right;\n",
       "    }\n",
       "</style>\n",
       "<table border=\"1\" class=\"dataframe\">\n",
       "  <thead>\n",
       "    <tr style=\"text-align: right;\">\n",
       "      <th></th>\n",
       "      <th>Unnamed: 0</th>\n",
       "      <th>operation</th>\n",
       "      <th>property_type</th>\n",
       "      <th>place_name</th>\n",
       "      <th>place_with_parent_names</th>\n",
       "      <th>country_name</th>\n",
       "      <th>state_name</th>\n",
       "      <th>geonames_id</th>\n",
       "      <th>lat-lon</th>\n",
       "      <th>lat</th>\n",
       "      <th>...</th>\n",
       "      <th>surface_covered_in_m2</th>\n",
       "      <th>price_usd_per_m2</th>\n",
       "      <th>price_per_m2</th>\n",
       "      <th>floor</th>\n",
       "      <th>rooms</th>\n",
       "      <th>expenses</th>\n",
       "      <th>properati_url</th>\n",
       "      <th>description</th>\n",
       "      <th>title</th>\n",
       "      <th>image_thumbnail</th>\n",
       "    </tr>\n",
       "  </thead>\n",
       "  <tbody>\n",
       "    <tr>\n",
       "      <th>0</th>\n",
       "      <td>0</td>\n",
       "      <td>sell</td>\n",
       "      <td>PH</td>\n",
       "      <td>Mataderos</td>\n",
       "      <td>|Argentina|Capital Federal|Mataderos|</td>\n",
       "      <td>Argentina</td>\n",
       "      <td>Capital Federal</td>\n",
       "      <td>3430787.0</td>\n",
       "      <td>-34.6618237,-58.5088387</td>\n",
       "      <td>-34.661824</td>\n",
       "      <td>...</td>\n",
       "      <td>40.0</td>\n",
       "      <td>1127.272727</td>\n",
       "      <td>1550.000000</td>\n",
       "      <td>NaN</td>\n",
       "      <td>NaN</td>\n",
       "      <td>NaN</td>\n",
       "      <td>http://www.properati.com.ar/15bo8_venta_ph_mat...</td>\n",
       "      <td>2 AMBIENTES TIPO CASA PLANTA BAJA POR PASILLO,...</td>\n",
       "      <td>2 AMB TIPO CASA SIN EXPENSAS EN PB</td>\n",
       "      <td>https://thumbs4.properati.com/8/BluUYiHJLhgIIK...</td>\n",
       "    </tr>\n",
       "    <tr>\n",
       "      <th>1</th>\n",
       "      <td>1</td>\n",
       "      <td>sell</td>\n",
       "      <td>apartment</td>\n",
       "      <td>La Plata</td>\n",
       "      <td>|Argentina|Bs.As. G.B.A. Zona Sur|La Plata|</td>\n",
       "      <td>Argentina</td>\n",
       "      <td>Bs.As. G.B.A. Zona Sur</td>\n",
       "      <td>3432039.0</td>\n",
       "      <td>-34.9038831,-57.9643295</td>\n",
       "      <td>-34.903883</td>\n",
       "      <td>...</td>\n",
       "      <td>NaN</td>\n",
       "      <td>NaN</td>\n",
       "      <td>NaN</td>\n",
       "      <td>NaN</td>\n",
       "      <td>NaN</td>\n",
       "      <td>NaN</td>\n",
       "      <td>http://www.properati.com.ar/15bob_venta_depart...</td>\n",
       "      <td>Venta de departamento en décimo piso al frente...</td>\n",
       "      <td>VENTA Depto 2 dorm. a estrenar 7 e/ 36 y 37   ...</td>\n",
       "      <td>https://thumbs4.properati.com/7/ikpVBu2ztHA7jv...</td>\n",
       "    </tr>\n",
       "    <tr>\n",
       "      <th>2</th>\n",
       "      <td>2</td>\n",
       "      <td>sell</td>\n",
       "      <td>apartment</td>\n",
       "      <td>Mataderos</td>\n",
       "      <td>|Argentina|Capital Federal|Mataderos|</td>\n",
       "      <td>Argentina</td>\n",
       "      <td>Capital Federal</td>\n",
       "      <td>3430787.0</td>\n",
       "      <td>-34.6522615,-58.5229825</td>\n",
       "      <td>-34.652262</td>\n",
       "      <td>...</td>\n",
       "      <td>55.0</td>\n",
       "      <td>1309.090909</td>\n",
       "      <td>1309.090909</td>\n",
       "      <td>NaN</td>\n",
       "      <td>NaN</td>\n",
       "      <td>NaN</td>\n",
       "      <td>http://www.properati.com.ar/15bod_venta_depart...</td>\n",
       "      <td>2 AMBIENTES 3ER PISO LATERAL LIVING COMEDOR AM...</td>\n",
       "      <td>2 AMB 3ER PISO CON ASCENSOR APTO CREDITO</td>\n",
       "      <td>https://thumbs4.properati.com/5/SXKr34F_IwG3W_...</td>\n",
       "    </tr>\n",
       "  </tbody>\n",
       "</table>\n",
       "<p>3 rows × 26 columns</p>\n",
       "</div>"
      ],
      "text/plain": [
       "   Unnamed: 0 operation property_type place_name  \\\n",
       "0           0      sell            PH  Mataderos   \n",
       "1           1      sell     apartment   La Plata   \n",
       "2           2      sell     apartment  Mataderos   \n",
       "\n",
       "                       place_with_parent_names country_name  \\\n",
       "0        |Argentina|Capital Federal|Mataderos|    Argentina   \n",
       "1  |Argentina|Bs.As. G.B.A. Zona Sur|La Plata|    Argentina   \n",
       "2        |Argentina|Capital Federal|Mataderos|    Argentina   \n",
       "\n",
       "               state_name  geonames_id                  lat-lon        lat  \\\n",
       "0         Capital Federal    3430787.0  -34.6618237,-58.5088387 -34.661824   \n",
       "1  Bs.As. G.B.A. Zona Sur    3432039.0  -34.9038831,-57.9643295 -34.903883   \n",
       "2         Capital Federal    3430787.0  -34.6522615,-58.5229825 -34.652262   \n",
       "\n",
       "   ...  surface_covered_in_m2  price_usd_per_m2 price_per_m2  floor  rooms  \\\n",
       "0  ...                   40.0       1127.272727  1550.000000    NaN    NaN   \n",
       "1  ...                    NaN               NaN          NaN    NaN    NaN   \n",
       "2  ...                   55.0       1309.090909  1309.090909    NaN    NaN   \n",
       "\n",
       "   expenses                                      properati_url  \\\n",
       "0       NaN  http://www.properati.com.ar/15bo8_venta_ph_mat...   \n",
       "1       NaN  http://www.properati.com.ar/15bob_venta_depart...   \n",
       "2       NaN  http://www.properati.com.ar/15bod_venta_depart...   \n",
       "\n",
       "                                         description  \\\n",
       "0  2 AMBIENTES TIPO CASA PLANTA BAJA POR PASILLO,...   \n",
       "1  Venta de departamento en décimo piso al frente...   \n",
       "2  2 AMBIENTES 3ER PISO LATERAL LIVING COMEDOR AM...   \n",
       "\n",
       "                                               title  \\\n",
       "0                 2 AMB TIPO CASA SIN EXPENSAS EN PB   \n",
       "1  VENTA Depto 2 dorm. a estrenar 7 e/ 36 y 37   ...   \n",
       "2           2 AMB 3ER PISO CON ASCENSOR APTO CREDITO   \n",
       "\n",
       "                                     image_thumbnail  \n",
       "0  https://thumbs4.properati.com/8/BluUYiHJLhgIIK...  \n",
       "1  https://thumbs4.properati.com/7/ikpVBu2ztHA7jv...  \n",
       "2  https://thumbs4.properati.com/5/SXKr34F_IwG3W_...  \n",
       "\n",
       "[3 rows x 26 columns]"
      ]
     },
     "metadata": {},
     "output_type": "display_data"
    }
   ],
   "source": [
    "#Establezco la dirección del archivo\n",
    "file_location='properatti.csv'\n",
    "\n",
    "#Leo el data set usando la librería pandas\n",
    "# y se almacena en el objeto Dataframe llamado datos_crudos  \n",
    "datos_crudos=pd.read_csv(file_location)\n",
    "\n",
    "#Visualizo las primeras filas\n",
    "display(datos_crudos.head(3))"
   ]
  },
  {
   "cell_type": "markdown",
   "metadata": {},
   "source": [
    "### Dimensiones del Dataset ###\n",
    "Visualizamos la dimensión del dataset en filas *(Registros)* y columnas *(Campos)*:"
   ]
  },
  {
   "cell_type": "code",
   "execution_count": 3,
   "metadata": {},
   "outputs": [
    {
     "name": "stdout",
     "output_type": "stream",
     "text": [
      "Tamaño del dataset\n",
      "Filas: 121220\n",
      "Columnas: 26\n"
     ]
    }
   ],
   "source": [
    "#Imprimimos en pantalla la cantidad de filas y columnas\n",
    "print('Tamaño del dataset')\n",
    "print('Filas:',datos_crudos.shape[0])\n",
    "print('Columnas:',datos_crudos.shape[1])"
   ]
  },
  {
   "cell_type": "markdown",
   "metadata": {},
   "source": [
    "Hay mas 120 mil registro por lo que es de tamaño chico/mediano.\n",
    "\n",
    "Cuenta con 26 campos para describir cada operacion inmobiliaria.\n",
    "\n",
    "### Analisis de los Campos ###\n",
    "\n",
    "Listamos todos los campos del dataset y el tipo de dato que almacenan para entender que información nos brindan"
   ]
  },
  {
   "cell_type": "code",
   "execution_count": 4,
   "metadata": {},
   "outputs": [
    {
     "name": "stderr",
     "output_type": "stream",
     "text": [
      "C:\\Users\\fpeloso\\AppData\\Local\\Temp\\ipykernel_11008\\1820039734.py:2: DeprecationWarning: The default dtype for empty Series will be 'object' instead of 'float64' in a future version. Specify a dtype explicitly to silence this warning.\n",
      "  nombre_tipo_columnas=pd.Series()\n"
     ]
    },
    {
     "data": {
      "text/plain": [
       "Unnamed: 0                      <class 'numpy.int64'>\n",
       "operation                               <class 'str'>\n",
       "property_type                           <class 'str'>\n",
       "place_name                              <class 'str'>\n",
       "place_with_parent_names                 <class 'str'>\n",
       "country_name                            <class 'str'>\n",
       "state_name                              <class 'str'>\n",
       "geonames_id                   <class 'numpy.float64'>\n",
       "lat-lon                                 <class 'str'>\n",
       "lat                           <class 'numpy.float64'>\n",
       "lon                           <class 'numpy.float64'>\n",
       "price                         <class 'numpy.float64'>\n",
       "currency                                <class 'str'>\n",
       "price_aprox_local_currency    <class 'numpy.float64'>\n",
       "price_aprox_usd               <class 'numpy.float64'>\n",
       "surface_total_in_m2           <class 'numpy.float64'>\n",
       "surface_covered_in_m2         <class 'numpy.float64'>\n",
       "price_usd_per_m2              <class 'numpy.float64'>\n",
       "price_per_m2                  <class 'numpy.float64'>\n",
       "floor                         <class 'numpy.float64'>\n",
       "rooms                         <class 'numpy.float64'>\n",
       "expenses                      <class 'numpy.float64'>\n",
       "properati_url                           <class 'str'>\n",
       "description                             <class 'str'>\n",
       "title                                   <class 'str'>\n",
       "image_thumbnail                         <class 'str'>\n",
       "dtype: object"
      ]
     },
     "execution_count": 4,
     "metadata": {},
     "output_type": "execute_result"
    }
   ],
   "source": [
    "#Instanciamos un Serie vacía\n",
    "nombre_tipo_columnas=pd.Series()\n",
    "#Utilizamos las columnas de nuestro dataset como índice de la serie vacía\n",
    "# como valores guardamos el tipo de objeto almacenado en la primera fila de cada columna\n",
    "for i in datos_crudos.columns : \n",
    "     nombre_tipo_columnas[i]=type(datos_crudos.loc[0,i])\n",
    "nombre_tipo_columnas\n"
   ]
  },
  {
   "cell_type": "code",
   "execution_count": 5,
   "metadata": {},
   "outputs": [
    {
     "name": "stdout",
     "output_type": "stream",
     "text": [
      "<class 'pandas.core.frame.DataFrame'>\n",
      "RangeIndex: 121220 entries, 0 to 121219\n",
      "Data columns (total 26 columns):\n",
      " #   Column                      Non-Null Count   Dtype  \n",
      "---  ------                      --------------   -----  \n",
      " 0   Unnamed: 0                  121220 non-null  int64  \n",
      " 1   operation                   121220 non-null  object \n",
      " 2   property_type               121220 non-null  object \n",
      " 3   place_name                  121197 non-null  object \n",
      " 4   place_with_parent_names     121220 non-null  object \n",
      " 5   country_name                121220 non-null  object \n",
      " 6   state_name                  121220 non-null  object \n",
      " 7   geonames_id                 102503 non-null  float64\n",
      " 8   lat-lon                     69670 non-null   object \n",
      " 9   lat                         69670 non-null   float64\n",
      " 10  lon                         69670 non-null   float64\n",
      " 11  price                       100810 non-null  float64\n",
      " 12  currency                    100809 non-null  object \n",
      " 13  price_aprox_local_currency  100810 non-null  float64\n",
      " 14  price_aprox_usd             100810 non-null  float64\n",
      " 15  surface_total_in_m2         81892 non-null   float64\n",
      " 16  surface_covered_in_m2       101313 non-null  float64\n",
      " 17  price_usd_per_m2            68617 non-null   float64\n",
      " 18  price_per_m2                87658 non-null   float64\n",
      " 19  floor                       7899 non-null    float64\n",
      " 20  rooms                       47390 non-null   float64\n",
      " 21  expenses                    14262 non-null   float64\n",
      " 22  properati_url               121220 non-null  object \n",
      " 23  description                 121218 non-null  object \n",
      " 24  title                       121220 non-null  object \n",
      " 25  image_thumbnail             118108 non-null  object \n",
      "dtypes: float64(13), int64(1), object(12)\n",
      "memory usage: 24.0+ MB\n"
     ]
    }
   ],
   "source": [
    "datos_crudos.info()"
   ]
  },
  {
   "cell_type": "markdown",
   "metadata": {},
   "source": [
    "### Listado y breve descripción de cada campo ###\n",
    "\n",
    "- \"Unnamed: 0\": Es un campo que hace la función de índice. Cada registro es un valor numérico, entero, único y ordenado desde el 0 hasta el total de filas menos uno.\n",
    "\n",
    "- \"operation\": String que define el tipo de operación: venta(sell) o alquiler(rent).\n",
    "\n",
    "- property_type: String que define el tipo de propiedad (PH, Casa, Departamento)\n",
    "\n",
    "- place_name: String que define el barrio/ciudad de la propiedad\n",
    "\n",
    "- place_with_parent_names: String con diferentes datos geograficos separados por un caracter\n",
    " (pais, nombre, provincia, ciudad).\n",
    "\n",
    "- country_name: String que define el país de la propiedad.\n",
    "\n",
    "- state_name: String que indica la provincia/región de la propiedad.\n",
    "\n",
    "- geonames_id:\n",
    "\n",
    "- lat-lon: Latitud y Longitud separados por un caracter.\n",
    "\n",
    "- lat: Latidud\n",
    "\n",
    "- lon: Longitud\n",
    "\n",
    "- price: Precio \n",
    "\n",
    "- currency: Moneda \n",
    "\n",
    "- price_aprox_local_currency: Precio en moneda local.\n",
    "\n",
    "- price_aprox_usd: Precio aproximado en dólares\n",
    "\n",
    "- surface_total_in_m2: Superficie total en metros cuadrados.\n",
    "\n",
    "- surface_covered_in_m2: Superficie cubierta/bajo techo en metros cuadrados.\n",
    "\n",
    "- price_usd_per_m2: Precio en dolar del metro cuadrado de la propiedad.\n",
    "\n",
    "- price_per_m2: Precio en monedad local del metro cuadrado de la propiedad.\n",
    "\n",
    "- floor: String que indica el piso en el que se encuentra el departamento o cantidad de pisos que tiene una casa.\n",
    "\n",
    "- rooms: Cantidad de  ambientes que tiene la propiedad.\n",
    "\n",
    "- expenses: Valor de las expensas.\n",
    "\n",
    "- properati_url\n",
    "\n",
    "- description\n",
    "\n",
    "- title\n",
    "\n",
    "- image_thumbnail"
   ]
  },
  {
   "cell_type": "markdown",
   "metadata": {},
   "source": [
    "### Analisis de los campos del Dataset ###\n",
    "\n",
    "\n",
    "##### Eliminación de campos: ####\n",
    "\n",
    "Creamos una lista vacía donde iremos añadiendo los campos redundantes/ innecesarios que serán eliminados"
   ]
  },
  {
   "cell_type": "code",
   "execution_count": 6,
   "metadata": {},
   "outputs": [],
   "source": [
    "#Lista vacía de campos a eliminar:\n",
    "campos_a_eliminar=[]"
   ]
  },
  {
   "cell_type": "markdown",
   "metadata": {},
   "source": [
    "**Unnamed 0:** - Esta columna no tiene ninguna utilidad o función ya que volcamos el dataset a un objeto Dataframe que ya cuenta con su propio índice. Por ende se descarta."
   ]
  },
  {
   "cell_type": "code",
   "execution_count": 7,
   "metadata": {},
   "outputs": [],
   "source": [
    "#añadimos el campo a la lista eliminar\n",
    "campos_a_eliminar.append('Unnamed: 0')"
   ]
  },
  {
   "cell_type": "markdown",
   "metadata": {},
   "source": [
    "**Operation:** - Esta columna debería tener dos tipos de valores posibles (venta y alquiler). Podemos corrobar cuantos operaciones fueron venta y cuantas alquiler:"
   ]
  },
  {
   "cell_type": "code",
   "execution_count": 8,
   "metadata": {},
   "outputs": [
    {
     "data": {
      "text/plain": [
       "sell    121220\n",
       "Name: operation, dtype: int64"
      ]
     },
     "execution_count": 8,
     "metadata": {},
     "output_type": "execute_result"
    }
   ],
   "source": [
    "#Utilizamos el método value_counts para totalizar las operaciones de venta y alquier \n",
    "datos_crudos.operation.value_counts()"
   ]
  },
  {
   "cell_type": "markdown",
   "metadata": {},
   "source": [
    "Vemos que todas las operaciones realizadas han sido de ventas y ninguna de alquiler. Por lo tanto, esta columna no me aporta información y se descarta."
   ]
  },
  {
   "cell_type": "code",
   "execution_count": 9,
   "metadata": {},
   "outputs": [],
   "source": [
    "#añadimos el campo a la lista eliminar\n",
    "campos_a_eliminar.append('operation')"
   ]
  },
  {
   "cell_type": "markdown",
   "metadata": {},
   "source": [
    "**country_name** - A priori se debería descartar ya que, por definición, partimos de la base que la inmobiliaria Properatti es una empresa argentina que opera solo en dicho país. No obstante, podemos corroborar si todos los registros del campo country_name coinciden y son efectivamente \"Argentina\":"
   ]
  },
  {
   "cell_type": "code",
   "execution_count": 10,
   "metadata": {},
   "outputs": [
    {
     "data": {
      "text/plain": [
       "Argentina    121220\n",
       "Name: country_name, dtype: int64"
      ]
     },
     "execution_count": 10,
     "metadata": {},
     "output_type": "execute_result"
    }
   ],
   "source": [
    "#Utilizamos el método value_counts para totalizar los valores distinto que aparecen\n",
    "#en la columna country_name\n",
    "datos_crudos.country_name.value_counts()"
   ]
  },
  {
   "cell_type": "markdown",
   "metadata": {},
   "source": [
    "Confirmamos que todos los registros tiene el mismo valor por lo que el campo no aporta información y se decarta la columna."
   ]
  },
  {
   "cell_type": "code",
   "execution_count": 11,
   "metadata": {},
   "outputs": [],
   "source": [
    "#añadimos el campo a la lista eliminar\n",
    "campos_a_eliminar.append('country_name')"
   ]
  },
  {
   "cell_type": "markdown",
   "metadata": {},
   "source": [
    "place_with_parent_names: Es un campo que contiene la misma información que place_name, state_name y country_name separados\n",
    "por un caracter \"|\".\n",
    "\n",
    "A priori, uno podría descartar esta columna y quedarse con las columnas que cuentan con los valores ya separados.\n",
    "\n",
    "Sin embargo, vemos que place_name tiene registros nulos y place_with_parent_names no:"
   ]
  },
  {
   "cell_type": "code",
   "execution_count": 12,
   "metadata": {},
   "outputs": [
    {
     "data": {
      "text/plain": [
       "state_name                  0\n",
       "place_name                 23\n",
       "place_with_parent_names     0\n",
       "dtype: int64"
      ]
     },
     "execution_count": 12,
     "metadata": {},
     "output_type": "execute_result"
    }
   ],
   "source": [
    "datos_crudos[['state_name','place_name','place_with_parent_names']].isnull().sum()"
   ]
  },
  {
   "cell_type": "markdown",
   "metadata": {},
   "source": [
    "Por esto decidimos quedarnos con la ccolumna place_with_parent_names que tiene toda la mayor cantidad de información, \n",
    "a pesar que luego tendremos que procesarla.\n",
    "\n",
    "Descartamos los campos state_name y place_name:"
   ]
  },
  {
   "cell_type": "code",
   "execution_count": 13,
   "metadata": {},
   "outputs": [],
   "source": [
    "#añadimos los campos a la lista eliminar\n",
    "campos_a_eliminar.extend(('state_name','place_name'))"
   ]
  },
  {
   "cell_type": "markdown",
   "metadata": {},
   "source": [
    "geonames_id: Corresponde a una base de datos que asigna latitud y longitud a ciudades, provincias y otras\n",
    "entidades geográficas.\n",
    "\n",
    "No es útil para imputar las columnas de latitud y longitud ya que si queremos analizar los precios de las propiedades por barrio, esto introduciría un sesgo a los datos y empeoraría el valor predictivo\n",
    "de nuestro modelo. Por ende se descarta"
   ]
  },
  {
   "cell_type": "code",
   "execution_count": 14,
   "metadata": {},
   "outputs": [],
   "source": [
    "#añadimos los campos a la lista eliminar\n",
    "campos_a_eliminar.append('geonames_id')"
   ]
  },
  {
   "cell_type": "markdown",
   "metadata": {},
   "source": [
    "\n",
    "lat-lon: Tiene los datos de latitud y longitud separados por un caracter \"-\".\n",
    "Podríamos descartala y utilizar las columnas lat y lon en su lugar. Pero primero corroboramos la calidad\n",
    "de las columnas según cantidad de nulos:"
   ]
  },
  {
   "cell_type": "code",
   "execution_count": 15,
   "metadata": {},
   "outputs": [
    {
     "data": {
      "text/plain": [
       "lat-lon    51550\n",
       "lat        51550\n",
       "lon        51550\n",
       "dtype: int64"
      ]
     },
     "execution_count": 15,
     "metadata": {},
     "output_type": "execute_result"
    }
   ],
   "source": [
    "#Vemos la cantidad de nulos en las columnas:\n",
    "datos_crudos[['lat-lon','lat','lon']].isnull().sum()"
   ]
  },
  {
   "cell_type": "markdown",
   "metadata": {},
   "source": [
    "Como tienen la misma cantidad de datos, descartamos la columna lat-lon."
   ]
  },
  {
   "cell_type": "code",
   "execution_count": 16,
   "metadata": {},
   "outputs": [],
   "source": [
    "#añadimos los campos a la lista eliminar\n",
    "campos_a_eliminar.append('lat-lon')"
   ]
  },
  {
   "cell_type": "markdown",
   "metadata": {},
   "source": [
    "Ahora analizamos las columnas correspondientes al precio de las propiedades\n",
    "\n",
    "Tenemos las columnas price (precio en dólares), currency(moneda en que se cotiza), \n",
    "price_aprox_local_currency (precio aproximado en pesos) y price_aprox_usd (precio aproximado en dólares)\n",
    "\n",
    "\n",
    "Por un lado vemos que monedas se usaron para cotizar:"
   ]
  },
  {
   "cell_type": "code",
   "execution_count": 17,
   "metadata": {},
   "outputs": [
    {
     "data": {
      "text/plain": [
       "USD    87587\n",
       "ARS    13219\n",
       "PEN        2\n",
       "UYU        1\n",
       "Name: currency, dtype: int64"
      ]
     },
     "execution_count": 17,
     "metadata": {},
     "output_type": "execute_result"
    }
   ],
   "source": [
    "#Vemos cuantas monedas se utilizaron\n",
    "datos_crudos.currency.value_counts()"
   ]
  },
  {
   "cell_type": "markdown",
   "metadata": {},
   "source": [
    "La gran mayoria de las cotizaciones fue en dólares. Deberíamos tener una única columna con el precio de las propiedades en dólares.\n",
    "\n",
    "Ahora vemos si los precios en pesos han usado el mismo tipo de cambio:"
   ]
  },
  {
   "cell_type": "code",
   "execution_count": 18,
   "metadata": {},
   "outputs": [
    {
     "data": {
      "text/plain": [
       "17.6445    82402\n",
       "17.6445      714\n",
       "17.6445      670\n",
       "17.6445      224\n",
       "17.6445      224\n",
       "           ...  \n",
       "17.6445        1\n",
       "17.6445        1\n",
       "17.6445        1\n",
       "17.6445        1\n",
       "17.6445        1\n",
       "Length: 7238, dtype: int64"
      ]
     },
     "execution_count": 18,
     "metadata": {},
     "output_type": "execute_result"
    }
   ],
   "source": [
    "#Creamos un df dividiendo el precio aproximado en pesos por el precio aproximado en dólares\n",
    "valor_de_cambio=datos_crudos.price_aprox_local_currency/datos_crudos.price_aprox_usd\n",
    "\n",
    "#Vemos cuantas cotizaciones hubo\n",
    "valor_de_cambio.value_counts()"
   ]
  },
  {
   "cell_type": "code",
   "execution_count": 19,
   "metadata": {},
   "outputs": [
    {
     "name": "stdout",
     "output_type": "stream",
     "text": [
      "          price  price_aprox_usd  price_aprox_local_currency currency\n",
      "50387  380000.0        117139.33                  2066864.90      PEN\n",
      "50388  950000.0        292848.33                  5167162.35      PEN\n",
      "17.644499930125942\n",
      "17.64449997034301\n",
      "              price  price_aprox_usd  price_aprox_local_currency currency\n",
      "107390  650000000.0      22980378.29                4.054773e+08      UYU\n",
      "17.644499999656013\n"
     ]
    }
   ],
   "source": [
    "#Analizamos los tres casos en donde se utilizaron monedas que no son ni pesos ni dólares\n",
    "\n",
    "#La cotización resulta igual al tipo de cambio peso/dolar. Asumimos que el precio esta en pesos y hubo \n",
    "#un error de tipeo\n",
    "\n",
    "print(datos_crudos.loc[datos_crudos.currency=='PEN'][['price','price_aprox_usd','price_aprox_local_currency','currency']])\n",
    "print(datos_crudos.loc[50387,'price_aprox_local_currency']/datos_crudos.loc[50387,'price_aprox_usd'])\n",
    "print(datos_crudos.loc[50388,'price_aprox_local_currency']/datos_crudos.loc[50388,'price_aprox_usd'])\n",
    "\n",
    "print(datos_crudos.loc[datos_crudos.currency=='UYU'][['price','price_aprox_usd','price_aprox_local_currency','currency']])\n",
    "print(datos_crudos.loc[107390,'price_aprox_local_currency']/datos_crudos.loc[107390,'price_aprox_usd'])"
   ]
  },
  {
   "cell_type": "markdown",
   "metadata": {},
   "source": [
    "Todas los precios tienen un tipo de cambio de 17,6445. Probablemente, se haya tomado el tipo de cambio\n",
    "el dia de la fecha en que se exportó el dataset y se aplicó sobre los precios en dólares."
   ]
  },
  {
   "cell_type": "code",
   "execution_count": 20,
   "metadata": {},
   "outputs": [
    {
     "data": {
      "text/plain": [
       "price                         20410\n",
       "price_aprox_local_currency    20410\n",
       "price_aprox_usd               20410\n",
       "dtype: int64"
      ]
     },
     "execution_count": 20,
     "metadata": {},
     "output_type": "execute_result"
    }
   ],
   "source": [
    "#Vemos la cantidad de nulos en los campos relativos al precio\n",
    "datos_crudos[['price','price_aprox_local_currency','price_aprox_usd']].isnull().sum()"
   ]
  },
  {
   "cell_type": "markdown",
   "metadata": {},
   "source": [
    "Nos quedamos con la columna price_aprox_usd."
   ]
  },
  {
   "cell_type": "code",
   "execution_count": 21,
   "metadata": {},
   "outputs": [],
   "source": [
    "#añadimos los campos a la lista eliminar\n",
    "campos_a_eliminar.extend(('price','price_aprox_local_currency','currency'))"
   ]
  },
  {
   "cell_type": "code",
   "execution_count": 22,
   "metadata": {},
   "outputs": [
    {
     "data": {
      "text/plain": [
       "['Unnamed: 0',\n",
       " 'operation',\n",
       " 'country_name',\n",
       " 'state_name',\n",
       " 'place_name',\n",
       " 'geonames_id',\n",
       " 'lat-lon',\n",
       " 'price',\n",
       " 'price_aprox_local_currency',\n",
       " 'currency']"
      ]
     },
     "execution_count": 22,
     "metadata": {},
     "output_type": "execute_result"
    }
   ],
   "source": [
    "campos_a_eliminar"
   ]
  },
  {
   "cell_type": "code",
   "execution_count": 23,
   "metadata": {},
   "outputs": [
    {
     "data": {
      "text/html": [
       "<div>\n",
       "<style scoped>\n",
       "    .dataframe tbody tr th:only-of-type {\n",
       "        vertical-align: middle;\n",
       "    }\n",
       "\n",
       "    .dataframe tbody tr th {\n",
       "        vertical-align: top;\n",
       "    }\n",
       "\n",
       "    .dataframe thead th {\n",
       "        text-align: right;\n",
       "    }\n",
       "</style>\n",
       "<table border=\"1\" class=\"dataframe\">\n",
       "  <thead>\n",
       "    <tr style=\"text-align: right;\">\n",
       "      <th></th>\n",
       "      <th>property_type</th>\n",
       "      <th>place_with_parent_names</th>\n",
       "      <th>lat</th>\n",
       "      <th>lon</th>\n",
       "      <th>price_aprox_usd</th>\n",
       "      <th>surface_total_in_m2</th>\n",
       "      <th>surface_covered_in_m2</th>\n",
       "      <th>price_usd_per_m2</th>\n",
       "      <th>price_per_m2</th>\n",
       "      <th>floor</th>\n",
       "      <th>rooms</th>\n",
       "      <th>expenses</th>\n",
       "      <th>properati_url</th>\n",
       "      <th>description</th>\n",
       "      <th>title</th>\n",
       "      <th>image_thumbnail</th>\n",
       "    </tr>\n",
       "  </thead>\n",
       "  <tbody>\n",
       "    <tr>\n",
       "      <th>0</th>\n",
       "      <td>PH</td>\n",
       "      <td>|Argentina|Capital Federal|Mataderos|</td>\n",
       "      <td>-34.661824</td>\n",
       "      <td>-58.508839</td>\n",
       "      <td>62000.0</td>\n",
       "      <td>55.0</td>\n",
       "      <td>40.0</td>\n",
       "      <td>1127.272727</td>\n",
       "      <td>1550.000000</td>\n",
       "      <td>NaN</td>\n",
       "      <td>NaN</td>\n",
       "      <td>NaN</td>\n",
       "      <td>http://www.properati.com.ar/15bo8_venta_ph_mat...</td>\n",
       "      <td>2 AMBIENTES TIPO CASA PLANTA BAJA POR PASILLO,...</td>\n",
       "      <td>2 AMB TIPO CASA SIN EXPENSAS EN PB</td>\n",
       "      <td>https://thumbs4.properati.com/8/BluUYiHJLhgIIK...</td>\n",
       "    </tr>\n",
       "    <tr>\n",
       "      <th>1</th>\n",
       "      <td>apartment</td>\n",
       "      <td>|Argentina|Bs.As. G.B.A. Zona Sur|La Plata|</td>\n",
       "      <td>-34.903883</td>\n",
       "      <td>-57.964330</td>\n",
       "      <td>150000.0</td>\n",
       "      <td>NaN</td>\n",
       "      <td>NaN</td>\n",
       "      <td>NaN</td>\n",
       "      <td>NaN</td>\n",
       "      <td>NaN</td>\n",
       "      <td>NaN</td>\n",
       "      <td>NaN</td>\n",
       "      <td>http://www.properati.com.ar/15bob_venta_depart...</td>\n",
       "      <td>Venta de departamento en décimo piso al frente...</td>\n",
       "      <td>VENTA Depto 2 dorm. a estrenar 7 e/ 36 y 37   ...</td>\n",
       "      <td>https://thumbs4.properati.com/7/ikpVBu2ztHA7jv...</td>\n",
       "    </tr>\n",
       "    <tr>\n",
       "      <th>2</th>\n",
       "      <td>apartment</td>\n",
       "      <td>|Argentina|Capital Federal|Mataderos|</td>\n",
       "      <td>-34.652262</td>\n",
       "      <td>-58.522982</td>\n",
       "      <td>72000.0</td>\n",
       "      <td>55.0</td>\n",
       "      <td>55.0</td>\n",
       "      <td>1309.090909</td>\n",
       "      <td>1309.090909</td>\n",
       "      <td>NaN</td>\n",
       "      <td>NaN</td>\n",
       "      <td>NaN</td>\n",
       "      <td>http://www.properati.com.ar/15bod_venta_depart...</td>\n",
       "      <td>2 AMBIENTES 3ER PISO LATERAL LIVING COMEDOR AM...</td>\n",
       "      <td>2 AMB 3ER PISO CON ASCENSOR APTO CREDITO</td>\n",
       "      <td>https://thumbs4.properati.com/5/SXKr34F_IwG3W_...</td>\n",
       "    </tr>\n",
       "  </tbody>\n",
       "</table>\n",
       "</div>"
      ],
      "text/plain": [
       "  property_type                      place_with_parent_names        lat  \\\n",
       "0            PH        |Argentina|Capital Federal|Mataderos| -34.661824   \n",
       "1     apartment  |Argentina|Bs.As. G.B.A. Zona Sur|La Plata| -34.903883   \n",
       "2     apartment        |Argentina|Capital Federal|Mataderos| -34.652262   \n",
       "\n",
       "         lon  price_aprox_usd  surface_total_in_m2  surface_covered_in_m2  \\\n",
       "0 -58.508839          62000.0                 55.0                   40.0   \n",
       "1 -57.964330         150000.0                  NaN                    NaN   \n",
       "2 -58.522982          72000.0                 55.0                   55.0   \n",
       "\n",
       "   price_usd_per_m2  price_per_m2  floor  rooms  expenses  \\\n",
       "0       1127.272727   1550.000000    NaN    NaN       NaN   \n",
       "1               NaN           NaN    NaN    NaN       NaN   \n",
       "2       1309.090909   1309.090909    NaN    NaN       NaN   \n",
       "\n",
       "                                       properati_url  \\\n",
       "0  http://www.properati.com.ar/15bo8_venta_ph_mat...   \n",
       "1  http://www.properati.com.ar/15bob_venta_depart...   \n",
       "2  http://www.properati.com.ar/15bod_venta_depart...   \n",
       "\n",
       "                                         description  \\\n",
       "0  2 AMBIENTES TIPO CASA PLANTA BAJA POR PASILLO,...   \n",
       "1  Venta de departamento en décimo piso al frente...   \n",
       "2  2 AMBIENTES 3ER PISO LATERAL LIVING COMEDOR AM...   \n",
       "\n",
       "                                               title  \\\n",
       "0                 2 AMB TIPO CASA SIN EXPENSAS EN PB   \n",
       "1  VENTA Depto 2 dorm. a estrenar 7 e/ 36 y 37   ...   \n",
       "2           2 AMB 3ER PISO CON ASCENSOR APTO CREDITO   \n",
       "\n",
       "                                     image_thumbnail  \n",
       "0  https://thumbs4.properati.com/8/BluUYiHJLhgIIK...  \n",
       "1  https://thumbs4.properati.com/7/ikpVBu2ztHA7jv...  \n",
       "2  https://thumbs4.properati.com/5/SXKr34F_IwG3W_...  "
      ]
     },
     "execution_count": 23,
     "metadata": {},
     "output_type": "execute_result"
    }
   ],
   "source": [
    "#Damos de baja las columnas \n",
    "\n",
    "datos= datos_crudos.drop(campos_a_eliminar, axis=1)\n",
    "\n",
    "datos.head(3)"
   ]
  },
  {
   "cell_type": "markdown",
   "metadata": {},
   "source": [
    "### Visualizamos la calidad de cada columna según cantidad de valores nulos"
   ]
  },
  {
   "cell_type": "code",
   "execution_count": 24,
   "metadata": {},
   "outputs": [
    {
     "data": {
      "text/html": [
       "<div>\n",
       "<style scoped>\n",
       "    .dataframe tbody tr th:only-of-type {\n",
       "        vertical-align: middle;\n",
       "    }\n",
       "\n",
       "    .dataframe tbody tr th {\n",
       "        vertical-align: top;\n",
       "    }\n",
       "\n",
       "    .dataframe thead th {\n",
       "        text-align: right;\n",
       "    }\n",
       "</style>\n",
       "<table border=\"1\" class=\"dataframe\">\n",
       "  <thead>\n",
       "    <tr style=\"text-align: right;\">\n",
       "      <th></th>\n",
       "      <th>valores_no_nulos</th>\n",
       "      <th>valores_nulos</th>\n",
       "    </tr>\n",
       "  </thead>\n",
       "  <tbody>\n",
       "    <tr>\n",
       "      <th>property_type</th>\n",
       "      <td>1.000000</td>\n",
       "      <td>0.000000</td>\n",
       "    </tr>\n",
       "    <tr>\n",
       "      <th>place_with_parent_names</th>\n",
       "      <td>1.000000</td>\n",
       "      <td>0.000000</td>\n",
       "    </tr>\n",
       "    <tr>\n",
       "      <th>lat</th>\n",
       "      <td>0.574740</td>\n",
       "      <td>0.425260</td>\n",
       "    </tr>\n",
       "    <tr>\n",
       "      <th>lon</th>\n",
       "      <td>0.574740</td>\n",
       "      <td>0.425260</td>\n",
       "    </tr>\n",
       "    <tr>\n",
       "      <th>price_aprox_usd</th>\n",
       "      <td>0.831628</td>\n",
       "      <td>0.168372</td>\n",
       "    </tr>\n",
       "    <tr>\n",
       "      <th>surface_total_in_m2</th>\n",
       "      <td>0.675565</td>\n",
       "      <td>0.324435</td>\n",
       "    </tr>\n",
       "    <tr>\n",
       "      <th>surface_covered_in_m2</th>\n",
       "      <td>0.835778</td>\n",
       "      <td>0.164222</td>\n",
       "    </tr>\n",
       "    <tr>\n",
       "      <th>price_usd_per_m2</th>\n",
       "      <td>0.566053</td>\n",
       "      <td>0.433947</td>\n",
       "    </tr>\n",
       "    <tr>\n",
       "      <th>price_per_m2</th>\n",
       "      <td>0.723131</td>\n",
       "      <td>0.276869</td>\n",
       "    </tr>\n",
       "    <tr>\n",
       "      <th>floor</th>\n",
       "      <td>0.065163</td>\n",
       "      <td>0.934837</td>\n",
       "    </tr>\n",
       "    <tr>\n",
       "      <th>rooms</th>\n",
       "      <td>0.390942</td>\n",
       "      <td>0.609058</td>\n",
       "    </tr>\n",
       "    <tr>\n",
       "      <th>expenses</th>\n",
       "      <td>0.117654</td>\n",
       "      <td>0.882346</td>\n",
       "    </tr>\n",
       "    <tr>\n",
       "      <th>properati_url</th>\n",
       "      <td>1.000000</td>\n",
       "      <td>0.000000</td>\n",
       "    </tr>\n",
       "    <tr>\n",
       "      <th>description</th>\n",
       "      <td>0.999984</td>\n",
       "      <td>0.000016</td>\n",
       "    </tr>\n",
       "    <tr>\n",
       "      <th>title</th>\n",
       "      <td>1.000000</td>\n",
       "      <td>0.000000</td>\n",
       "    </tr>\n",
       "    <tr>\n",
       "      <th>image_thumbnail</th>\n",
       "      <td>0.974328</td>\n",
       "      <td>0.025672</td>\n",
       "    </tr>\n",
       "  </tbody>\n",
       "</table>\n",
       "</div>"
      ],
      "text/plain": [
       "                         valores_no_nulos  valores_nulos\n",
       "property_type                    1.000000       0.000000\n",
       "place_with_parent_names          1.000000       0.000000\n",
       "lat                              0.574740       0.425260\n",
       "lon                              0.574740       0.425260\n",
       "price_aprox_usd                  0.831628       0.168372\n",
       "surface_total_in_m2              0.675565       0.324435\n",
       "surface_covered_in_m2            0.835778       0.164222\n",
       "price_usd_per_m2                 0.566053       0.433947\n",
       "price_per_m2                     0.723131       0.276869\n",
       "floor                            0.065163       0.934837\n",
       "rooms                            0.390942       0.609058\n",
       "expenses                         0.117654       0.882346\n",
       "properati_url                    1.000000       0.000000\n",
       "description                      0.999984       0.000016\n",
       "title                            1.000000       0.000000\n",
       "image_thumbnail                  0.974328       0.025672"
      ]
     },
     "execution_count": 24,
     "metadata": {},
     "output_type": "execute_result"
    }
   ],
   "source": [
    "#Creamos dos series donde guardamos los porcentajes de valores nulos y no nulos de cada campo\n",
    "valores_nulos=datos.isnull().sum()/datos.shape[0]\n",
    "\n",
    "valores_no_nulos=datos.notnull().sum()/datos.shape[0]\n",
    "\n",
    "#Usando ambas series, instanciamos un dataframe\n",
    "df_calidad_columnas=pd.DataFrame(dict(valores_no_nulos=valores_no_nulos,valores_nulos=valores_nulos))\n",
    "\n",
    "df_calidad_columnas"
   ]
  },
  {
   "cell_type": "markdown",
   "metadata": {},
   "source": [
    "### Utilizamos un gráfico de barras para visualizar la calidad de las columnas"
   ]
  },
  {
   "cell_type": "code",
   "execution_count": 25,
   "metadata": {},
   "outputs": [
    {
     "name": "stderr",
     "output_type": "stream",
     "text": [
      "C:\\Users\\fpeloso\\AppData\\Local\\Temp\\ipykernel_11008\\1661578272.py:19: UserWarning: FixedFormatter should only be used together with FixedLocator\n",
      "  ax.set_xticklabels(ind)\n",
      "C:\\Users\\fpeloso\\AppData\\Local\\Temp\\ipykernel_11008\\1661578272.py:22: UserWarning: FixedFormatter should only be used together with FixedLocator\n",
      "  ax.set_xticklabels(ind, rotation = 90, ha=\"right\")\n"
     ]
    },
    {
     "data": {
      "image/png": "[encoded data removed]",
      "text/plain": [
       "<Figure size 1600x600 with 1 Axes>"
      ]
     },
     "metadata": {},
     "output_type": "display_data"
    }
   ],
   "source": [
    "ind=datos.columns\n",
    "ind_label=np.arange(0,datos.shape[1]-1)\n",
    "\n",
    "valores_nulos=datos.isnull().sum()/datos.shape[0]\n",
    "\n",
    "valores_no_nulos=datos.notnull().sum()/datos.shape[0]\n",
    "\n",
    "width = 0.25\n",
    "\n",
    "fig = plt.figure(figsize=(16,6)); ax = plt.axes()\n",
    "#fig2= plt.figure(figsize=(16,6)); ax2 = plt.axes()\n",
    "\n",
    "ax.bar(ind, valores_nulos, width, color='r') # barra roja. \n",
    "ax.bar(ind, valores_no_nulos, width, color='b',bottom=valores_nulos)\n",
    "#ax2.bar(ind, valores_no_nulos, width, color='b')#, bottom=valores_no_nulos) # barra azul \n",
    "\n",
    "ax.set_ylabel('Porcentaje'); ax.set_title('Valores Nulos y No-Nulos por Columna')\n",
    "#ax.set_xticks(ind); \n",
    "ax.set_xticklabels(ind)\n",
    "ax.tick_params(axis='both', which='minor', labelsize='small')\n",
    "\n",
    "ax.set_xticklabels(ind, rotation = 90, ha=\"right\")\n",
    "#ax2.set_xticklabels(ind,labelsize=8)\n",
    "#ax.legend(labels=['Men', 'Women'])\n",
    "\n",
    "#plt.gca().invert_xaxis()\n",
    "plt.show()\n"
   ]
  },
  {
   "cell_type": "code",
   "execution_count": 26,
   "metadata": {},
   "outputs": [],
   "source": [
    "#estaria para dropear pric, curency y el precio en moneda local\n",
    "\n",
    "#usar datos de comentarios para validar, que la información sea consistente \n",
    "\n",
    "#validar "
   ]
  },
  {
   "cell_type": "markdown",
   "metadata": {},
   "source": [
    "## Procesamiento de columna places para crear nuevas columnas de ubicación geográfica "
   ]
  },
  {
   "cell_type": "code",
   "execution_count": 27,
   "metadata": {},
   "outputs": [
    {
     "data": {
      "text/html": [
       "<div>\n",
       "<style scoped>\n",
       "    .dataframe tbody tr th:only-of-type {\n",
       "        vertical-align: middle;\n",
       "    }\n",
       "\n",
       "    .dataframe tbody tr th {\n",
       "        vertical-align: top;\n",
       "    }\n",
       "\n",
       "    .dataframe thead th {\n",
       "        text-align: right;\n",
       "    }\n",
       "</style>\n",
       "<table border=\"1\" class=\"dataframe\">\n",
       "  <thead>\n",
       "    <tr style=\"text-align: right;\">\n",
       "      <th></th>\n",
       "      <th>0</th>\n",
       "      <th>1</th>\n",
       "      <th>2</th>\n",
       "      <th>3</th>\n",
       "      <th>4</th>\n",
       "      <th>5</th>\n",
       "      <th>6</th>\n",
       "    </tr>\n",
       "  </thead>\n",
       "  <tbody>\n",
       "    <tr>\n",
       "      <th>0</th>\n",
       "      <td></td>\n",
       "      <td>Argentina</td>\n",
       "      <td>Capital Federal</td>\n",
       "      <td>Mataderos</td>\n",
       "      <td></td>\n",
       "      <td>None</td>\n",
       "      <td>None</td>\n",
       "    </tr>\n",
       "    <tr>\n",
       "      <th>1</th>\n",
       "      <td></td>\n",
       "      <td>Argentina</td>\n",
       "      <td>Bs.As. G.B.A. Zona Sur</td>\n",
       "      <td>La Plata</td>\n",
       "      <td></td>\n",
       "      <td>None</td>\n",
       "      <td>None</td>\n",
       "    </tr>\n",
       "    <tr>\n",
       "      <th>2</th>\n",
       "      <td></td>\n",
       "      <td>Argentina</td>\n",
       "      <td>Capital Federal</td>\n",
       "      <td>Mataderos</td>\n",
       "      <td></td>\n",
       "      <td>None</td>\n",
       "      <td>None</td>\n",
       "    </tr>\n",
       "    <tr>\n",
       "      <th>3</th>\n",
       "      <td></td>\n",
       "      <td>Argentina</td>\n",
       "      <td>Capital Federal</td>\n",
       "      <td>Liniers</td>\n",
       "      <td></td>\n",
       "      <td>None</td>\n",
       "      <td>None</td>\n",
       "    </tr>\n",
       "    <tr>\n",
       "      <th>4</th>\n",
       "      <td></td>\n",
       "      <td>Argentina</td>\n",
       "      <td>Buenos Aires Costa Atlántica</td>\n",
       "      <td>Mar del Plata</td>\n",
       "      <td>Centro</td>\n",
       "      <td></td>\n",
       "      <td>None</td>\n",
       "    </tr>\n",
       "    <tr>\n",
       "      <th>...</th>\n",
       "      <td>...</td>\n",
       "      <td>...</td>\n",
       "      <td>...</td>\n",
       "      <td>...</td>\n",
       "      <td>...</td>\n",
       "      <td>...</td>\n",
       "      <td>...</td>\n",
       "    </tr>\n",
       "    <tr>\n",
       "      <th>121215</th>\n",
       "      <td></td>\n",
       "      <td>Argentina</td>\n",
       "      <td>Capital Federal</td>\n",
       "      <td>Belgrano</td>\n",
       "      <td></td>\n",
       "      <td>None</td>\n",
       "      <td>None</td>\n",
       "    </tr>\n",
       "    <tr>\n",
       "      <th>121216</th>\n",
       "      <td></td>\n",
       "      <td>Argentina</td>\n",
       "      <td>Bs.As. G.B.A. Zona Norte</td>\n",
       "      <td>San Isidro</td>\n",
       "      <td>Beccar</td>\n",
       "      <td></td>\n",
       "      <td>None</td>\n",
       "    </tr>\n",
       "    <tr>\n",
       "      <th>121217</th>\n",
       "      <td></td>\n",
       "      <td>Argentina</td>\n",
       "      <td>Capital Federal</td>\n",
       "      <td>Villa Urquiza</td>\n",
       "      <td></td>\n",
       "      <td>None</td>\n",
       "      <td>None</td>\n",
       "    </tr>\n",
       "    <tr>\n",
       "      <th>121218</th>\n",
       "      <td></td>\n",
       "      <td>Argentina</td>\n",
       "      <td>Buenos Aires Costa Atlántica</td>\n",
       "      <td>Mar del Plata</td>\n",
       "      <td>Plaza Colón</td>\n",
       "      <td></td>\n",
       "      <td>None</td>\n",
       "    </tr>\n",
       "    <tr>\n",
       "      <th>121219</th>\n",
       "      <td></td>\n",
       "      <td>Argentina</td>\n",
       "      <td>Capital Federal</td>\n",
       "      <td></td>\n",
       "      <td>None</td>\n",
       "      <td>None</td>\n",
       "      <td>None</td>\n",
       "    </tr>\n",
       "  </tbody>\n",
       "</table>\n",
       "<p>121220 rows × 7 columns</p>\n",
       "</div>"
      ],
      "text/plain": [
       "       0           1                             2              3  \\\n",
       "0          Argentina               Capital Federal      Mataderos   \n",
       "1          Argentina        Bs.As. G.B.A. Zona Sur       La Plata   \n",
       "2          Argentina               Capital Federal      Mataderos   \n",
       "3          Argentina               Capital Federal        Liniers   \n",
       "4          Argentina  Buenos Aires Costa Atlántica  Mar del Plata   \n",
       "...    ..        ...                           ...            ...   \n",
       "121215     Argentina               Capital Federal       Belgrano   \n",
       "121216     Argentina      Bs.As. G.B.A. Zona Norte     San Isidro   \n",
       "121217     Argentina               Capital Federal  Villa Urquiza   \n",
       "121218     Argentina  Buenos Aires Costa Atlántica  Mar del Plata   \n",
       "121219     Argentina               Capital Federal                  \n",
       "\n",
       "                  4     5     6  \n",
       "0                    None  None  \n",
       "1                    None  None  \n",
       "2                    None  None  \n",
       "3                    None  None  \n",
       "4            Centro        None  \n",
       "...             ...   ...   ...  \n",
       "121215               None  None  \n",
       "121216       Beccar        None  \n",
       "121217               None  None  \n",
       "121218  Plaza Colón        None  \n",
       "121219         None  None  None  \n",
       "\n",
       "[121220 rows x 7 columns]"
      ]
     },
     "execution_count": 27,
     "metadata": {},
     "output_type": "execute_result"
    }
   ],
   "source": [
    "#Creo un dataframe nuevo separando los campso de la columna places_with_parents\n",
    "ubicacion = datos[\"place_with_parent_names\"].str.split('|', expand=True) # Separo en varias columnas\n",
    "#Visualizamos el dataframe creado:\n",
    "ubicacion"
   ]
  },
  {
   "cell_type": "code",
   "execution_count": 28,
   "metadata": {},
   "outputs": [
    {
     "name": "stdout",
     "output_type": "stream",
     "text": [
      "Porcentaje vacios en columna 0  : 0.0\n",
      "Porcentaje vacios en columna 1  : 0.0\n",
      "Porcentaje vacios en columna 2  : 0.0\n",
      "Porcentaje vacios en columna 3  : 0.0\n",
      "Porcentaje vacios en columna 4  : 0.03943243689160204\n",
      "Porcentaje vacios en columna 5  : 0.6663916845405049\n",
      "Porcentaje vacios en columna 6  : 0.9954792938459001\n"
     ]
    }
   ],
   "source": [
    "#Vemos cantidad de valores vacios/nulos en cada columna\n",
    "for i in range(ubicacion.shape[1]):\n",
    "    print('Porcentaje vacios en columna', i ,' :' ,ubicacion.iloc[:,i].isna().sum()/ubicacion.shape[0])\n"
   ]
  },
  {
   "cell_type": "markdown",
   "metadata": {},
   "source": [
    "Eliminamos la columna 0 por ser un índice redundante, la columna 1 por tener el dato de País que ya decidimos descartar y la columna 6 por su alta tasa de registros vacios."
   ]
  },
  {
   "cell_type": "code",
   "execution_count": 29,
   "metadata": {},
   "outputs": [
    {
     "data": {
      "text/html": [
       "<div>\n",
       "<style scoped>\n",
       "    .dataframe tbody tr th:only-of-type {\n",
       "        vertical-align: middle;\n",
       "    }\n",
       "\n",
       "    .dataframe tbody tr th {\n",
       "        vertical-align: top;\n",
       "    }\n",
       "\n",
       "    .dataframe thead th {\n",
       "        text-align: right;\n",
       "    }\n",
       "</style>\n",
       "<table border=\"1\" class=\"dataframe\">\n",
       "  <thead>\n",
       "    <tr style=\"text-align: right;\">\n",
       "      <th></th>\n",
       "      <th>provincia</th>\n",
       "      <th>ciudad</th>\n",
       "      <th>barrio1</th>\n",
       "      <th>barrio2</th>\n",
       "    </tr>\n",
       "  </thead>\n",
       "  <tbody>\n",
       "    <tr>\n",
       "      <th>0</th>\n",
       "      <td>Capital Federal</td>\n",
       "      <td>Mataderos</td>\n",
       "      <td></td>\n",
       "      <td>None</td>\n",
       "    </tr>\n",
       "    <tr>\n",
       "      <th>1</th>\n",
       "      <td>Bs.As. G.B.A. Zona Sur</td>\n",
       "      <td>La Plata</td>\n",
       "      <td></td>\n",
       "      <td>None</td>\n",
       "    </tr>\n",
       "    <tr>\n",
       "      <th>2</th>\n",
       "      <td>Capital Federal</td>\n",
       "      <td>Mataderos</td>\n",
       "      <td></td>\n",
       "      <td>None</td>\n",
       "    </tr>\n",
       "    <tr>\n",
       "      <th>3</th>\n",
       "      <td>Capital Federal</td>\n",
       "      <td>Liniers</td>\n",
       "      <td></td>\n",
       "      <td>None</td>\n",
       "    </tr>\n",
       "    <tr>\n",
       "      <th>4</th>\n",
       "      <td>Buenos Aires Costa Atlántica</td>\n",
       "      <td>Mar del Plata</td>\n",
       "      <td>Centro</td>\n",
       "      <td></td>\n",
       "    </tr>\n",
       "    <tr>\n",
       "      <th>...</th>\n",
       "      <td>...</td>\n",
       "      <td>...</td>\n",
       "      <td>...</td>\n",
       "      <td>...</td>\n",
       "    </tr>\n",
       "    <tr>\n",
       "      <th>121215</th>\n",
       "      <td>Capital Federal</td>\n",
       "      <td>Belgrano</td>\n",
       "      <td></td>\n",
       "      <td>None</td>\n",
       "    </tr>\n",
       "    <tr>\n",
       "      <th>121216</th>\n",
       "      <td>Bs.As. G.B.A. Zona Norte</td>\n",
       "      <td>San Isidro</td>\n",
       "      <td>Beccar</td>\n",
       "      <td></td>\n",
       "    </tr>\n",
       "    <tr>\n",
       "      <th>121217</th>\n",
       "      <td>Capital Federal</td>\n",
       "      <td>Villa Urquiza</td>\n",
       "      <td></td>\n",
       "      <td>None</td>\n",
       "    </tr>\n",
       "    <tr>\n",
       "      <th>121218</th>\n",
       "      <td>Buenos Aires Costa Atlántica</td>\n",
       "      <td>Mar del Plata</td>\n",
       "      <td>Plaza Colón</td>\n",
       "      <td></td>\n",
       "    </tr>\n",
       "    <tr>\n",
       "      <th>121219</th>\n",
       "      <td>Capital Federal</td>\n",
       "      <td></td>\n",
       "      <td>None</td>\n",
       "      <td>None</td>\n",
       "    </tr>\n",
       "  </tbody>\n",
       "</table>\n",
       "<p>121220 rows × 4 columns</p>\n",
       "</div>"
      ],
      "text/plain": [
       "                           provincia         ciudad      barrio1 barrio2\n",
       "0                    Capital Federal      Mataderos                 None\n",
       "1             Bs.As. G.B.A. Zona Sur       La Plata                 None\n",
       "2                    Capital Federal      Mataderos                 None\n",
       "3                    Capital Federal        Liniers                 None\n",
       "4       Buenos Aires Costa Atlántica  Mar del Plata       Centro        \n",
       "...                              ...            ...          ...     ...\n",
       "121215               Capital Federal       Belgrano                 None\n",
       "121216      Bs.As. G.B.A. Zona Norte     San Isidro       Beccar        \n",
       "121217               Capital Federal  Villa Urquiza                 None\n",
       "121218  Buenos Aires Costa Atlántica  Mar del Plata  Plaza Colón        \n",
       "121219               Capital Federal                        None    None\n",
       "\n",
       "[121220 rows x 4 columns]"
      ]
     },
     "execution_count": 29,
     "metadata": {},
     "output_type": "execute_result"
    }
   ],
   "source": [
    "#Creamos un df con las columnas de interes y el nombre de las columnas\n",
    "ubicacion_limpia=ubicacion.drop([0,1,6],axis=1,inplace=False)\n",
    "ubicacion_limpia.columns=['provincia','ciudad','barrio1','barrio2']\n",
    "ubicacion_limpia"
   ]
  },
  {
   "cell_type": "code",
   "execution_count": 30,
   "metadata": {},
   "outputs": [
    {
     "data": {
      "text/plain": [
       "0             Mataderos\n",
       "1                      \n",
       "2             Mataderos\n",
       "3               Liniers\n",
       "4                Centro\n",
       "              ...      \n",
       "121215         Belgrano\n",
       "121216           Beccar\n",
       "121217    Villa Urquiza\n",
       "121218      Plaza Colón\n",
       "121219                 \n",
       "Length: 121220, dtype: object"
      ]
     },
     "execution_count": 30,
     "metadata": {},
     "output_type": "execute_result"
    }
   ],
   "source": [
    "#aca pongo capturo los barrios de capital federal que estan en la columna ciudad\n",
    "#esto se debe a que Capital Federal se guarda en la columna provinci\n",
    "\n",
    "barrio_limpio=ubicacion_limpia.apply(lambda x: x['ciudad'] if x['provincia'] =='Capital Federal' else x['barrio1'],axis=1)\n",
    "\n",
    "#precio_m2_imputado=datos.apply(lambda x: x['price']/x['surface_total_in_m2']  if x['price_usd_per_m2'] is np.NAN else x['price_usd_per_m2'], axis=1)\n",
    "barrio_limpio"
   ]
  },
  {
   "cell_type": "code",
   "execution_count": 31,
   "metadata": {},
   "outputs": [],
   "source": [
    "ubicacion_limpia['barrio1']=barrio_limpio"
   ]
  },
  {
   "cell_type": "code",
   "execution_count": 32,
   "metadata": {},
   "outputs": [],
   "source": [
    "ciudad_limpia=ubicacion_limpia.apply(lambda x: x['provincia'] if x['provincia'] =='Capital Federal' else x['ciudad'],axis=1)"
   ]
  },
  {
   "cell_type": "code",
   "execution_count": 33,
   "metadata": {},
   "outputs": [],
   "source": [
    "ubicacion_limpia['ciudad']=ciudad_limpia"
   ]
  },
  {
   "cell_type": "code",
   "execution_count": 34,
   "metadata": {},
   "outputs": [
    {
     "data": {
      "text/plain": [
       "                             39892\n",
       "Barrio Los Alisos              278\n",
       "Barrio La Alameda               62\n",
       "BarrioPortezuelo                54\n",
       "Barrio Los Lagos                39\n",
       "Barrio El Golf                  32\n",
       "Enyoi                           17\n",
       "Barrio Los Castores             14\n",
       "QBay Yacht                      13\n",
       "Barrio Las Glorietas            10\n",
       "Barrio La Isla                  10\n",
       "Islas del Canal                  6\n",
       "Barrio Los Sauces                4\n",
       "Barrio Barrancas del Lago        4\n",
       "Barrio Cabos del Lago            3\n",
       "Barrio Los Tilos                 1\n",
       "Barrio El Yacht                  1\n",
       "Name: barrio2, dtype: int64"
      ]
     },
     "execution_count": 34,
     "metadata": {},
     "output_type": "execute_result"
    }
   ],
   "source": [
    "ubicacion_limpia.barrio2.value_counts()"
   ]
  },
  {
   "cell_type": "code",
   "execution_count": 35,
   "metadata": {},
   "outputs": [
    {
     "data": {
      "text/plain": [
       "80780"
      ]
     },
     "execution_count": 35,
     "metadata": {},
     "output_type": "execute_result"
    }
   ],
   "source": [
    "#Ademas de 40.000 registros vacios, hay mas de 80.000 registros nulos \n",
    "ubicacion_limpia.barrio2.isnull().sum()"
   ]
  },
  {
   "cell_type": "code",
   "execution_count": 36,
   "metadata": {},
   "outputs": [
    {
     "data": {
      "text/plain": [
       "Barrio Los Alisos            278\n",
       "Barrio La Alameda             62\n",
       "BarrioPortezuelo              54\n",
       "Barrio Los Lagos              39\n",
       "Barrio El Golf                32\n",
       "Enyoi                         17\n",
       "Barrio Los Castores           14\n",
       "QBay Yacht                    13\n",
       "Barrio La Isla                10\n",
       "Barrio Las Glorietas          10\n",
       "Islas del Canal                6\n",
       "Barrio Los Sauces              4\n",
       "Barrio Barrancas del Lago      4\n",
       "Barrio Cabos del Lago          3\n",
       "Barrio Los Tilos               1\n",
       "Barrio El Yacht                1\n",
       "Name: barrio2, dtype: int64"
      ]
     },
     "execution_count": 36,
     "metadata": {},
     "output_type": "execute_result"
    }
   ],
   "source": [
    "#Creo una mascara para filtrar los registros vacío y nulos\n",
    "mascara_barrio2 = ((ubicacion_limpia['barrio2']!='') & (ubicacion_limpia['barrio2'].notnull()))\n",
    "\n",
    "#Aplicamos el filtro a la columna barrio 2 y vemos cuantos valores quedan\n",
    "barrio_2_filtrado=ubicacion_limpia['barrio2'].loc[mascara_barrio2]\n",
    "\n",
    "barrio_2_filtrado.value_counts()"
   ]
  },
  {
   "cell_type": "code",
   "execution_count": 37,
   "metadata": {},
   "outputs": [
    {
     "data": {
      "text/plain": [
       "17                   Barrio El Golf\n",
       "33                   Barrio El Golf\n",
       "278            Barrio Las Glorietas\n",
       "416                Barrio Los Lagos\n",
       "446            Barrio Las Glorietas\n",
       "                    ...            \n",
       "117011                   QBay Yacht\n",
       "118210             Barrio Los Lagos\n",
       "118841    Barrio Barrancas del Lago\n",
       "119583    Barrio Barrancas del Lago\n",
       "120156    Barrio Barrancas del Lago\n",
       "Name: barrio2, Length: 548, dtype: object"
      ]
     },
     "execution_count": 37,
     "metadata": {},
     "output_type": "execute_result"
    }
   ],
   "source": [
    "barrio_2_filtrado"
   ]
  },
  {
   "cell_type": "code",
   "execution_count": 38,
   "metadata": {},
   "outputs": [],
   "source": [
    "ubicacion_limpia.barrio1.loc[mascara_barrio2]=barrio_2_filtrado"
   ]
  },
  {
   "cell_type": "code",
   "execution_count": 39,
   "metadata": {},
   "outputs": [
    {
     "data": {
      "text/plain": [
       "                          47499\n",
       "Palermo                    4083\n",
       "Nordelta                   3315\n",
       "Belgrano                   2992\n",
       "Caballito                  2273\n",
       "                          ...  \n",
       "Juramento                     1\n",
       "Las Chacras                   1\n",
       "William Morris                1\n",
       "El Canton Barrio Norte        1\n",
       "Chacras de La Trinidad        1\n",
       "Name: barrio1, Length: 634, dtype: int64"
      ]
     },
     "execution_count": 39,
     "metadata": {},
     "output_type": "execute_result"
    }
   ],
   "source": [
    "ubicacion_limpia.barrio1.value_counts()"
   ]
  },
  {
   "cell_type": "code",
   "execution_count": 40,
   "metadata": {},
   "outputs": [
    {
     "data": {
      "text/plain": [
       "Barrio Los Alisos            278\n",
       "Barrio La Alameda             62\n",
       "BarrioPortezuelo              54\n",
       "Barrio Los Lagos              39\n",
       "Barrio El Golf                32\n",
       "Enyoi                         17\n",
       "Barrio Los Castores           14\n",
       "QBay Yacht                    13\n",
       "Barrio La Isla                10\n",
       "Barrio Las Glorietas          10\n",
       "Islas del Canal                6\n",
       "Barrio Los Sauces              4\n",
       "Barrio Barrancas del Lago      4\n",
       "Barrio Cabos del Lago          3\n",
       "Barrio Los Tilos               1\n",
       "Barrio El Yacht                1\n",
       "Name: barrio1, dtype: int64"
      ]
     },
     "execution_count": 40,
     "metadata": {},
     "output_type": "execute_result"
    }
   ],
   "source": [
    "#ahora veo que valores hay en barrio 1 cuando tengo algo en barrio2\n",
    "ubicacion_limpia['barrio1'].loc[mascara_barrio2].value_counts() "
   ]
  },
  {
   "cell_type": "code",
   "execution_count": 41,
   "metadata": {},
   "outputs": [
    {
     "data": {
      "text/plain": [
       "Tigre    548\n",
       "Name: ciudad, dtype: int64"
      ]
     },
     "execution_count": 41,
     "metadata": {},
     "output_type": "execute_result"
    }
   ],
   "source": [
    "#ahora veo que valores hay en barrio 1 cuando tengo algo en barrio2\n",
    "ubicacion_limpia['ciudad'].loc[mascara_barrio2].value_counts() "
   ]
  },
  {
   "cell_type": "code",
   "execution_count": 42,
   "metadata": {},
   "outputs": [],
   "source": [
    "#Añado los barrios de barrio2 a la columna de barrio1\n",
    "ubicacion_limpia.barrio1.loc[mascara_barrio2]=barrio_2_filtrado"
   ]
  },
  {
   "cell_type": "code",
   "execution_count": 43,
   "metadata": {},
   "outputs": [
    {
     "data": {
      "text/html": [
       "<div>\n",
       "<style scoped>\n",
       "    .dataframe tbody tr th:only-of-type {\n",
       "        vertical-align: middle;\n",
       "    }\n",
       "\n",
       "    .dataframe tbody tr th {\n",
       "        vertical-align: top;\n",
       "    }\n",
       "\n",
       "    .dataframe thead th {\n",
       "        text-align: right;\n",
       "    }\n",
       "</style>\n",
       "<table border=\"1\" class=\"dataframe\">\n",
       "  <thead>\n",
       "    <tr style=\"text-align: right;\">\n",
       "      <th></th>\n",
       "      <th>provincia</th>\n",
       "      <th>ciudad</th>\n",
       "      <th>barrio1</th>\n",
       "    </tr>\n",
       "  </thead>\n",
       "  <tbody>\n",
       "    <tr>\n",
       "      <th>115777</th>\n",
       "      <td>Córdoba</td>\n",
       "      <td>Córdoba</td>\n",
       "      <td></td>\n",
       "    </tr>\n",
       "    <tr>\n",
       "      <th>79674</th>\n",
       "      <td>Santa Fe</td>\n",
       "      <td>Rosario</td>\n",
       "      <td></td>\n",
       "    </tr>\n",
       "    <tr>\n",
       "      <th>45531</th>\n",
       "      <td>Capital Federal</td>\n",
       "      <td>Capital Federal</td>\n",
       "      <td>Caballito</td>\n",
       "    </tr>\n",
       "    <tr>\n",
       "      <th>24518</th>\n",
       "      <td>Córdoba</td>\n",
       "      <td>Punilla</td>\n",
       "      <td></td>\n",
       "    </tr>\n",
       "    <tr>\n",
       "      <th>40368</th>\n",
       "      <td>Capital Federal</td>\n",
       "      <td>Capital Federal</td>\n",
       "      <td>Flores</td>\n",
       "    </tr>\n",
       "    <tr>\n",
       "      <th>115641</th>\n",
       "      <td>Córdoba</td>\n",
       "      <td>Córdoba</td>\n",
       "      <td></td>\n",
       "    </tr>\n",
       "    <tr>\n",
       "      <th>89812</th>\n",
       "      <td>Bs.As. G.B.A. Zona Sur</td>\n",
       "      <td>Almirante Brown</td>\n",
       "      <td>Adrogué</td>\n",
       "    </tr>\n",
       "    <tr>\n",
       "      <th>61709</th>\n",
       "      <td>Buenos Aires Costa Atlántica</td>\n",
       "      <td>Villa Gesell</td>\n",
       "      <td></td>\n",
       "    </tr>\n",
       "    <tr>\n",
       "      <th>32452</th>\n",
       "      <td>Bs.As. G.B.A. Zona Oeste</td>\n",
       "      <td>La Matanza</td>\n",
       "      <td>San Justo</td>\n",
       "    </tr>\n",
       "    <tr>\n",
       "      <th>83250</th>\n",
       "      <td>Córdoba</td>\n",
       "      <td>Córdoba</td>\n",
       "      <td></td>\n",
       "    </tr>\n",
       "    <tr>\n",
       "      <th>78010</th>\n",
       "      <td>Bs.As. G.B.A. Zona Sur</td>\n",
       "      <td>Lomas de Zamora</td>\n",
       "      <td>Temperley</td>\n",
       "    </tr>\n",
       "    <tr>\n",
       "      <th>39899</th>\n",
       "      <td>Bs.As. G.B.A. Zona Sur</td>\n",
       "      <td>La Plata</td>\n",
       "      <td>Manuel B Gonnet</td>\n",
       "    </tr>\n",
       "    <tr>\n",
       "      <th>7059</th>\n",
       "      <td>Capital Federal</td>\n",
       "      <td>Capital Federal</td>\n",
       "      <td>Belgrano</td>\n",
       "    </tr>\n",
       "    <tr>\n",
       "      <th>90107</th>\n",
       "      <td>Bs.As. G.B.A. Zona Norte</td>\n",
       "      <td>Vicente López</td>\n",
       "      <td>Olivos</td>\n",
       "    </tr>\n",
       "    <tr>\n",
       "      <th>76680</th>\n",
       "      <td>Capital Federal</td>\n",
       "      <td>Capital Federal</td>\n",
       "      <td>Palermo</td>\n",
       "    </tr>\n",
       "    <tr>\n",
       "      <th>43455</th>\n",
       "      <td>Buenos Aires Costa Atlántica</td>\n",
       "      <td>Costa Esmeralda</td>\n",
       "      <td></td>\n",
       "    </tr>\n",
       "    <tr>\n",
       "      <th>77623</th>\n",
       "      <td>Bs.As. G.B.A. Zona Norte</td>\n",
       "      <td>Vicente López</td>\n",
       "      <td>Olivos</td>\n",
       "    </tr>\n",
       "    <tr>\n",
       "      <th>56687</th>\n",
       "      <td>Bs.As. G.B.A. Zona Sur</td>\n",
       "      <td>Ezeiza</td>\n",
       "      <td>Canning</td>\n",
       "    </tr>\n",
       "    <tr>\n",
       "      <th>98539</th>\n",
       "      <td>Bs.As. G.B.A. Zona Norte</td>\n",
       "      <td>San Isidro</td>\n",
       "      <td>Beccar</td>\n",
       "    </tr>\n",
       "    <tr>\n",
       "      <th>55258</th>\n",
       "      <td>Capital Federal</td>\n",
       "      <td>Capital Federal</td>\n",
       "      <td>Monserrat</td>\n",
       "    </tr>\n",
       "  </tbody>\n",
       "</table>\n",
       "</div>"
      ],
      "text/plain": [
       "                           provincia           ciudad          barrio1\n",
       "115777                       Córdoba          Córdoba                 \n",
       "79674                       Santa Fe          Rosario                 \n",
       "45531                Capital Federal  Capital Federal        Caballito\n",
       "24518                        Córdoba          Punilla                 \n",
       "40368                Capital Federal  Capital Federal           Flores\n",
       "115641                       Córdoba          Córdoba                 \n",
       "89812         Bs.As. G.B.A. Zona Sur  Almirante Brown          Adrogué\n",
       "61709   Buenos Aires Costa Atlántica     Villa Gesell                 \n",
       "32452       Bs.As. G.B.A. Zona Oeste       La Matanza        San Justo\n",
       "83250                        Córdoba          Córdoba                 \n",
       "78010         Bs.As. G.B.A. Zona Sur  Lomas de Zamora        Temperley\n",
       "39899         Bs.As. G.B.A. Zona Sur         La Plata  Manuel B Gonnet\n",
       "7059                 Capital Federal  Capital Federal         Belgrano\n",
       "90107       Bs.As. G.B.A. Zona Norte    Vicente López           Olivos\n",
       "76680                Capital Federal  Capital Federal          Palermo\n",
       "43455   Buenos Aires Costa Atlántica  Costa Esmeralda                 \n",
       "77623       Bs.As. G.B.A. Zona Norte    Vicente López           Olivos\n",
       "56687         Bs.As. G.B.A. Zona Sur           Ezeiza          Canning\n",
       "98539       Bs.As. G.B.A. Zona Norte       San Isidro           Beccar\n",
       "55258                Capital Federal  Capital Federal        Monserrat"
      ]
     },
     "execution_count": 43,
     "metadata": {},
     "output_type": "execute_result"
    }
   ],
   "source": [
    "#Damos de baja la columna barrio2\n",
    "ubicacion_limpia.drop('barrio2',axis=1, inplace=True)\n",
    "ubicacion_limpia.sample(20)"
   ]
  },
  {
   "cell_type": "code",
   "execution_count": 44,
   "metadata": {},
   "outputs": [],
   "source": [
    "#aca pruebo sumar las nuevas columnas a nuestro datos\n",
    "datos[['provincia','ciudad','barrio1']]=ubicacion_limpia"
   ]
  },
  {
   "cell_type": "code",
   "execution_count": 45,
   "metadata": {},
   "outputs": [
    {
     "data": {
      "text/html": [
       "<div>\n",
       "<style scoped>\n",
       "    .dataframe tbody tr th:only-of-type {\n",
       "        vertical-align: middle;\n",
       "    }\n",
       "\n",
       "    .dataframe tbody tr th {\n",
       "        vertical-align: top;\n",
       "    }\n",
       "\n",
       "    .dataframe thead th {\n",
       "        text-align: right;\n",
       "    }\n",
       "</style>\n",
       "<table border=\"1\" class=\"dataframe\">\n",
       "  <thead>\n",
       "    <tr style=\"text-align: right;\">\n",
       "      <th></th>\n",
       "      <th>property_type</th>\n",
       "      <th>lat</th>\n",
       "      <th>lon</th>\n",
       "      <th>price_aprox_usd</th>\n",
       "      <th>surface_total_in_m2</th>\n",
       "      <th>surface_covered_in_m2</th>\n",
       "      <th>price_usd_per_m2</th>\n",
       "      <th>price_per_m2</th>\n",
       "      <th>floor</th>\n",
       "      <th>rooms</th>\n",
       "      <th>expenses</th>\n",
       "      <th>properati_url</th>\n",
       "      <th>description</th>\n",
       "      <th>title</th>\n",
       "      <th>image_thumbnail</th>\n",
       "      <th>provincia</th>\n",
       "      <th>ciudad</th>\n",
       "      <th>barrio1</th>\n",
       "    </tr>\n",
       "  </thead>\n",
       "  <tbody>\n",
       "    <tr>\n",
       "      <th>50011</th>\n",
       "      <td>apartment</td>\n",
       "      <td>-31.744700</td>\n",
       "      <td>-60.525787</td>\n",
       "      <td>NaN</td>\n",
       "      <td>34.0</td>\n",
       "      <td>NaN</td>\n",
       "      <td>NaN</td>\n",
       "      <td>NaN</td>\n",
       "      <td>3.0</td>\n",
       "      <td>1.0</td>\n",
       "      <td>NaN</td>\n",
       "      <td>http://www.properati.com.ar/19d7x_venta_depart...</td>\n",
       "      <td>Venta de Departamento MONOAMBIENTE, Paraná -  ...</td>\n",
       "      <td>DEPARTAMENTO EN VENTA</td>\n",
       "      <td>https://thumbs4.properati.com/1/6SiTy8atgBG67v...</td>\n",
       "      <td>Entre Ríos</td>\n",
       "      <td>Paraná</td>\n",
       "      <td></td>\n",
       "    </tr>\n",
       "    <tr>\n",
       "      <th>87119</th>\n",
       "      <td>apartment</td>\n",
       "      <td>NaN</td>\n",
       "      <td>NaN</td>\n",
       "      <td>NaN</td>\n",
       "      <td>64.0</td>\n",
       "      <td>56.0</td>\n",
       "      <td>NaN</td>\n",
       "      <td>NaN</td>\n",
       "      <td>NaN</td>\n",
       "      <td>NaN</td>\n",
       "      <td>NaN</td>\n",
       "      <td>http://www.properati.com.ar/1b5e4_venta_depart...</td>\n",
       "      <td>BBU2956 AP234766</td>\n",
       "      <td>EVOQUE</td>\n",
       "      <td>https://thumbs4.properati.com/6/wnI3G-m_z8TBWx...</td>\n",
       "      <td>Capital Federal</td>\n",
       "      <td>Capital Federal</td>\n",
       "      <td>Villa Urquiza</td>\n",
       "    </tr>\n",
       "    <tr>\n",
       "      <th>91106</th>\n",
       "      <td>house</td>\n",
       "      <td>NaN</td>\n",
       "      <td>NaN</td>\n",
       "      <td>220000.00</td>\n",
       "      <td>NaN</td>\n",
       "      <td>210.0</td>\n",
       "      <td>NaN</td>\n",
       "      <td>1047.619048</td>\n",
       "      <td>NaN</td>\n",
       "      <td>NaN</td>\n",
       "      <td>NaN</td>\n",
       "      <td>http://www.properati.com.ar/1bb4b_venta_casa_c...</td>\n",
       "      <td>Excelente Casa 3 Ambientes Castelar NorteCarac...</td>\n",
       "      <td>Casa - Castelar</td>\n",
       "      <td>https://thumbs4.properati.com/6/rm3h-AuLbtYSFJ...</td>\n",
       "      <td>Bs.As. G.B.A. Zona Oeste</td>\n",
       "      <td>Morón</td>\n",
       "      <td>Castelar</td>\n",
       "    </tr>\n",
       "    <tr>\n",
       "      <th>29183</th>\n",
       "      <td>apartment</td>\n",
       "      <td>-32.946487</td>\n",
       "      <td>-60.662521</td>\n",
       "      <td>NaN</td>\n",
       "      <td>46.0</td>\n",
       "      <td>46.0</td>\n",
       "      <td>NaN</td>\n",
       "      <td>NaN</td>\n",
       "      <td>NaN</td>\n",
       "      <td>2.0</td>\n",
       "      <td>NaN</td>\n",
       "      <td>http://www.properati.com.ar/17yek_venta_depart...</td>\n",
       "      <td>Departamento de 1 dormitorio, al contrafrente....</td>\n",
       "      <td>Departamento en venta de un dormitorio, entreg...</td>\n",
       "      <td>https://thumbs4.properati.com/9/7tlYuuqyceQ_g8...</td>\n",
       "      <td>Santa Fe</td>\n",
       "      <td>Rosario</td>\n",
       "      <td></td>\n",
       "    </tr>\n",
       "    <tr>\n",
       "      <th>37384</th>\n",
       "      <td>apartment</td>\n",
       "      <td>NaN</td>\n",
       "      <td>NaN</td>\n",
       "      <td>430000.00</td>\n",
       "      <td>94.0</td>\n",
       "      <td>94.0</td>\n",
       "      <td>4574.468085</td>\n",
       "      <td>4574.468085</td>\n",
       "      <td>1.0</td>\n",
       "      <td>NaN</td>\n",
       "      <td>NaN</td>\n",
       "      <td>http://www.properati.com.ar/18iys_venta_depart...</td>\n",
       "      <td>El condominio OM Punta Chica incorpora exclusi...</td>\n",
       "      <td>Departamento 94m² con Plantas en Arias 3100, S...</td>\n",
       "      <td>https://thumbs4.properati.com/7/dYoZ-sp8gZfgvz...</td>\n",
       "      <td>Bs.As. G.B.A. Zona Norte</td>\n",
       "      <td>San Fernando</td>\n",
       "      <td>Victoria</td>\n",
       "    </tr>\n",
       "    <tr>\n",
       "      <th>117746</th>\n",
       "      <td>house</td>\n",
       "      <td>NaN</td>\n",
       "      <td>NaN</td>\n",
       "      <td>NaN</td>\n",
       "      <td>258.0</td>\n",
       "      <td>222.0</td>\n",
       "      <td>NaN</td>\n",
       "      <td>NaN</td>\n",
       "      <td>NaN</td>\n",
       "      <td>NaN</td>\n",
       "      <td>4200.0</td>\n",
       "      <td>http://www.properati.com.ar/1cdxa_venta_casa_t...</td>\n",
       "      <td>COMERCIALIZACIÓN EN EXCLUSIVIDAD - MIERES PROP...</td>\n",
       "      <td>Casa - San Gabriel</td>\n",
       "      <td>https://thumbs4.properati.com/2/Yaqdh1_PGlMWLW...</td>\n",
       "      <td>Bs.As. G.B.A. Zona Norte</td>\n",
       "      <td>Tigre</td>\n",
       "      <td></td>\n",
       "    </tr>\n",
       "    <tr>\n",
       "      <th>27618</th>\n",
       "      <td>house</td>\n",
       "      <td>-34.789541</td>\n",
       "      <td>-58.380162</td>\n",
       "      <td>NaN</td>\n",
       "      <td>251.0</td>\n",
       "      <td>211.0</td>\n",
       "      <td>NaN</td>\n",
       "      <td>NaN</td>\n",
       "      <td>NaN</td>\n",
       "      <td>NaN</td>\n",
       "      <td>NaN</td>\n",
       "      <td>http://www.properati.com.ar/17u1f_venta_casa_j...</td>\n",
       "      <td>\"Patio cielo encauzado, el patio es el declive...</td>\n",
       "      <td>CASA \"AMALÍA\" en José Mármol, vivir con poesía...</td>\n",
       "      <td>https://thumbs4.properati.com/9/yyDTw74YUPs4UT...</td>\n",
       "      <td>Bs.As. G.B.A. Zona Sur</td>\n",
       "      <td>Almirante Brown</td>\n",
       "      <td>Jose Marmol</td>\n",
       "    </tr>\n",
       "    <tr>\n",
       "      <th>43374</th>\n",
       "      <td>house</td>\n",
       "      <td>-34.652526</td>\n",
       "      <td>-59.445128</td>\n",
       "      <td>56083.67</td>\n",
       "      <td>250.0</td>\n",
       "      <td>90.0</td>\n",
       "      <td>224.334680</td>\n",
       "      <td>11111.111111</td>\n",
       "      <td>NaN</td>\n",
       "      <td>4.0</td>\n",
       "      <td>NaN</td>\n",
       "      <td>http://www.properati.com.ar/18ydk_venta_casa_m...</td>\n",
       "      <td>Venta de casa ubicada en calle 14 y 51, de la ...</td>\n",
       "      <td>Venta de casa calle 14 y 51, 3 dormitorios. $ ...</td>\n",
       "      <td>https://thumbs4.properati.com/0/f9gpfnxdAr2_Yo...</td>\n",
       "      <td>Buenos Aires Interior</td>\n",
       "      <td>Mercedes</td>\n",
       "      <td></td>\n",
       "    </tr>\n",
       "    <tr>\n",
       "      <th>28651</th>\n",
       "      <td>house</td>\n",
       "      <td>-37.165292</td>\n",
       "      <td>-56.916967</td>\n",
       "      <td>390000.00</td>\n",
       "      <td>1150.0</td>\n",
       "      <td>272.0</td>\n",
       "      <td>339.130435</td>\n",
       "      <td>1433.823529</td>\n",
       "      <td>NaN</td>\n",
       "      <td>6.0</td>\n",
       "      <td>NaN</td>\n",
       "      <td>http://www.properati.com.ar/17wvn_venta_casa_c...</td>\n",
       "      <td>SUPERFICIE TOTAL CUBIERTA 272M2 LOTE 1150M2. 6...</td>\n",
       "      <td>CASA URRACA</td>\n",
       "      <td>https://thumbs4.properati.com/0/-RiPDRnpaZtJ60...</td>\n",
       "      <td>Buenos Aires Costa Atlántica</td>\n",
       "      <td>Cariló</td>\n",
       "      <td></td>\n",
       "    </tr>\n",
       "    <tr>\n",
       "      <th>14796</th>\n",
       "      <td>apartment</td>\n",
       "      <td>NaN</td>\n",
       "      <td>NaN</td>\n",
       "      <td>215000.00</td>\n",
       "      <td>90.0</td>\n",
       "      <td>83.0</td>\n",
       "      <td>2388.888889</td>\n",
       "      <td>2590.361446</td>\n",
       "      <td>NaN</td>\n",
       "      <td>3.0</td>\n",
       "      <td>NaN</td>\n",
       "      <td>http://www.properati.com.ar/16t7h_venta_depart...</td>\n",
       "      <td>MUY LINDO depto. de 3 ambientes. DISTRIBUCIÓN:...</td>\n",
       "      <td>EXCELENTE !!!!! Dpto en QUARTIER  Nordelta</td>\n",
       "      <td>https://thumbs4.properati.com/4/nlNRMcrPNYGAEy...</td>\n",
       "      <td>Bs.As. G.B.A. Zona Norte</td>\n",
       "      <td>Tigre</td>\n",
       "      <td>Nordelta</td>\n",
       "    </tr>\n",
       "    <tr>\n",
       "      <th>82001</th>\n",
       "      <td>house</td>\n",
       "      <td>NaN</td>\n",
       "      <td>NaN</td>\n",
       "      <td>450000.00</td>\n",
       "      <td>NaN</td>\n",
       "      <td>315.0</td>\n",
       "      <td>NaN</td>\n",
       "      <td>1428.571429</td>\n",
       "      <td>NaN</td>\n",
       "      <td>NaN</td>\n",
       "      <td>NaN</td>\n",
       "      <td>http://www.properati.com.ar/1aynt_venta_casa_s...</td>\n",
       "      <td>3 CUADRAS DE AVENIDA 4 DE ESTACION, AMB MUY AM...</td>\n",
       "      <td>Casa en San Isidro</td>\n",
       "      <td>https://thumbs4.properati.com/3/JzskY4aspHDIih...</td>\n",
       "      <td>Bs.As. G.B.A. Zona Norte</td>\n",
       "      <td>San Isidro</td>\n",
       "      <td>San Isidro</td>\n",
       "    </tr>\n",
       "    <tr>\n",
       "      <th>101962</th>\n",
       "      <td>house</td>\n",
       "      <td>NaN</td>\n",
       "      <td>NaN</td>\n",
       "      <td>260000.00</td>\n",
       "      <td>NaN</td>\n",
       "      <td>116.0</td>\n",
       "      <td>NaN</td>\n",
       "      <td>2241.379310</td>\n",
       "      <td>NaN</td>\n",
       "      <td>NaN</td>\n",
       "      <td>NaN</td>\n",
       "      <td>http://www.properati.com.ar/1bq0w_venta_casa_f...</td>\n",
       "      <td>Casa en PH de 3 dormitorios muy buena en 2 pla...</td>\n",
       "      <td>Casa - Florida</td>\n",
       "      <td>https://thumbs4.properati.com/3/4bYX28tIeQgg_V...</td>\n",
       "      <td>Bs.As. G.B.A. Zona Norte</td>\n",
       "      <td>Vicente López</td>\n",
       "      <td>Florida</td>\n",
       "    </tr>\n",
       "    <tr>\n",
       "      <th>94718</th>\n",
       "      <td>apartment</td>\n",
       "      <td>NaN</td>\n",
       "      <td>NaN</td>\n",
       "      <td>92000.00</td>\n",
       "      <td>38.0</td>\n",
       "      <td>32.0</td>\n",
       "      <td>2421.052632</td>\n",
       "      <td>2875.000000</td>\n",
       "      <td>NaN</td>\n",
       "      <td>NaN</td>\n",
       "      <td>NaN</td>\n",
       "      <td>http://www.properati.com.ar/1bg0l_venta_depart...</td>\n",
       "      <td>COCHERA OPTATIVA: Descubiertas U$S 20.000.- Cu...</td>\n",
       "      <td>Departamento de 1 ambiente a estrenar con balcon</td>\n",
       "      <td>https://thumbs4.properati.com/4/Ntx83UEbIVRokX...</td>\n",
       "      <td>Capital Federal</td>\n",
       "      <td>Capital Federal</td>\n",
       "      <td>Caballito</td>\n",
       "    </tr>\n",
       "    <tr>\n",
       "      <th>25965</th>\n",
       "      <td>apartment</td>\n",
       "      <td>NaN</td>\n",
       "      <td>NaN</td>\n",
       "      <td>915600.00</td>\n",
       "      <td>40.0</td>\n",
       "      <td>40.0</td>\n",
       "      <td>22890.000000</td>\n",
       "      <td>22890.000000</td>\n",
       "      <td>NaN</td>\n",
       "      <td>2.0</td>\n",
       "      <td>NaN</td>\n",
       "      <td>http://www.properati.com.ar/17qln_venta_depart...</td>\n",
       "      <td>sj117- PERSONAS HACEN COLA P/INGRESAR A ESTE D...</td>\n",
       "      <td>sj117- PERSONAS HACEN COLA P/INGRESAR A ESTE D...</td>\n",
       "      <td>https://thumbs4.properati.com/6/YQhvFiz28AMcLP...</td>\n",
       "      <td>Capital Federal</td>\n",
       "      <td>Capital Federal</td>\n",
       "      <td>Boedo</td>\n",
       "    </tr>\n",
       "    <tr>\n",
       "      <th>50529</th>\n",
       "      <td>house</td>\n",
       "      <td>-33.681407</td>\n",
       "      <td>-59.657557</td>\n",
       "      <td>360000.00</td>\n",
       "      <td>350.0</td>\n",
       "      <td>350.0</td>\n",
       "      <td>1028.571429</td>\n",
       "      <td>1028.571429</td>\n",
       "      <td>NaN</td>\n",
       "      <td>NaN</td>\n",
       "      <td>NaN</td>\n",
       "      <td>http://www.properati.com.ar/19eju_venta_casa_s...</td>\n",
       "      <td>Ofrecemos en venta una espectacular casa muy b...</td>\n",
       "      <td>En Venta - Casa - San Pedro</td>\n",
       "      <td>https://thumbs4.properati.com/5/EQCOv4a2SOOyZc...</td>\n",
       "      <td>Buenos Aires Interior</td>\n",
       "      <td>San Pedro</td>\n",
       "      <td>San Pedro</td>\n",
       "    </tr>\n",
       "    <tr>\n",
       "      <th>8329</th>\n",
       "      <td>apartment</td>\n",
       "      <td>-34.955402</td>\n",
       "      <td>-57.891451</td>\n",
       "      <td>29724.34</td>\n",
       "      <td>82.0</td>\n",
       "      <td>64.0</td>\n",
       "      <td>362.491951</td>\n",
       "      <td>8281.250000</td>\n",
       "      <td>NaN</td>\n",
       "      <td>NaN</td>\n",
       "      <td>NaN</td>\n",
       "      <td>http://www.properati.com.ar/160oi_venta_depart...</td>\n",
       "      <td>Venta de Departamento 4 AMBIENTES en La PlataU...</td>\n",
       "      <td>DEPARTAMENTO EN VENTA</td>\n",
       "      <td>https://thumbs4.properati.com/8/K19p2Kz-TF84SW...</td>\n",
       "      <td>Bs.As. G.B.A. Zona Sur</td>\n",
       "      <td>La Plata</td>\n",
       "      <td>La Plata</td>\n",
       "    </tr>\n",
       "    <tr>\n",
       "      <th>221</th>\n",
       "      <td>apartment</td>\n",
       "      <td>-34.565265</td>\n",
       "      <td>-58.438233</td>\n",
       "      <td>237895.00</td>\n",
       "      <td>69.0</td>\n",
       "      <td>53.0</td>\n",
       "      <td>3447.753623</td>\n",
       "      <td>4488.584906</td>\n",
       "      <td>NaN</td>\n",
       "      <td>2.0</td>\n",
       "      <td>NaN</td>\n",
       "      <td>http://www.properati.com.ar/15djb_venta_depart...</td>\n",
       "      <td>El edificio está situado en el barrio de  las ...</td>\n",
       "      <td>Ultimas Unidades</td>\n",
       "      <td>https://thumbs4.properati.com/3/ty6dg6lN--7t5l...</td>\n",
       "      <td>Capital Federal</td>\n",
       "      <td>Capital Federal</td>\n",
       "      <td>Belgrano</td>\n",
       "    </tr>\n",
       "    <tr>\n",
       "      <th>50169</th>\n",
       "      <td>apartment</td>\n",
       "      <td>-34.545528</td>\n",
       "      <td>-58.707990</td>\n",
       "      <td>125000.00</td>\n",
       "      <td>64.0</td>\n",
       "      <td>64.0</td>\n",
       "      <td>1953.125000</td>\n",
       "      <td>1953.125000</td>\n",
       "      <td>NaN</td>\n",
       "      <td>NaN</td>\n",
       "      <td>NaN</td>\n",
       "      <td>http://www.properati.com.ar/19dm0_venta_depart...</td>\n",
       "      <td>Venta de Departamento 3 AMBIENTES en San Migue...</td>\n",
       "      <td>DEPARTAMENTO EN VENTA</td>\n",
       "      <td>https://thumbs4.properati.com/8/nKqxWmAxsp6ZdB...</td>\n",
       "      <td>Bs.As. G.B.A. Zona Norte</td>\n",
       "      <td>San Miguel</td>\n",
       "      <td></td>\n",
       "    </tr>\n",
       "    <tr>\n",
       "      <th>73256</th>\n",
       "      <td>store</td>\n",
       "      <td>-34.688534</td>\n",
       "      <td>-58.411681</td>\n",
       "      <td>150000.00</td>\n",
       "      <td>150.0</td>\n",
       "      <td>120.0</td>\n",
       "      <td>1000.000000</td>\n",
       "      <td>1250.000000</td>\n",
       "      <td>NaN</td>\n",
       "      <td>NaN</td>\n",
       "      <td>NaN</td>\n",
       "      <td>http://www.properati.com.ar/1anhk_venta_local_...</td>\n",
       "      <td>EXCELENTE EDIFICIO COMERCIAL EN LANUS OESTE. S...</td>\n",
       "      <td>Edificio Comercial - Lanús Oeste</td>\n",
       "      <td>https://thumbs4.properati.com/0/O22pX_Qf7peqdd...</td>\n",
       "      <td>Bs.As. G.B.A. Zona Sur</td>\n",
       "      <td>Lanús</td>\n",
       "      <td>Lanús</td>\n",
       "    </tr>\n",
       "    <tr>\n",
       "      <th>64576</th>\n",
       "      <td>apartment</td>\n",
       "      <td>NaN</td>\n",
       "      <td>NaN</td>\n",
       "      <td>295000.00</td>\n",
       "      <td>115.0</td>\n",
       "      <td>110.0</td>\n",
       "      <td>2565.217391</td>\n",
       "      <td>2681.818182</td>\n",
       "      <td>NaN</td>\n",
       "      <td>NaN</td>\n",
       "      <td>6000.0</td>\n",
       "      <td>http://www.properati.com.ar/1ab1d_venta_depart...</td>\n",
       "      <td>Edificio Rivarola: piso alto vista abierta con...</td>\n",
       "      <td>Alberdi 651</td>\n",
       "      <td>https://thumbs4.properati.com/2/oQc6Y5iTt9n8ai...</td>\n",
       "      <td>Bs.As. G.B.A. Zona Norte</td>\n",
       "      <td>Vicente López</td>\n",
       "      <td>Olivos</td>\n",
       "    </tr>\n",
       "    <tr>\n",
       "      <th>4902</th>\n",
       "      <td>PH</td>\n",
       "      <td>-34.648384</td>\n",
       "      <td>-58.390921</td>\n",
       "      <td>120000.00</td>\n",
       "      <td>200.0</td>\n",
       "      <td>200.0</td>\n",
       "      <td>600.000000</td>\n",
       "      <td>600.000000</td>\n",
       "      <td>NaN</td>\n",
       "      <td>NaN</td>\n",
       "      <td>NaN</td>\n",
       "      <td>http://www.properati.com.ar/15oel_venta_ph_bar...</td>\n",
       "      <td>Hermoso PH de 4 ambientes, patio y terraza en ...</td>\n",
       "      <td>PH DE 4 AMBIENTES CON PATIO Y TERRAZA SUPER LU...</td>\n",
       "      <td>https://thumbs4.properati.com/0/jonxpUUDgIOk-F...</td>\n",
       "      <td>Capital Federal</td>\n",
       "      <td>Capital Federal</td>\n",
       "      <td>Barracas</td>\n",
       "    </tr>\n",
       "    <tr>\n",
       "      <th>99144</th>\n",
       "      <td>house</td>\n",
       "      <td>NaN</td>\n",
       "      <td>NaN</td>\n",
       "      <td>240000.00</td>\n",
       "      <td>NaN</td>\n",
       "      <td>240.0</td>\n",
       "      <td>NaN</td>\n",
       "      <td>1000.000000</td>\n",
       "      <td>NaN</td>\n",
       "      <td>NaN</td>\n",
       "      <td>NaN</td>\n",
       "      <td>http://www.properati.com.ar/1bmbc_venta_casa_m...</td>\n",
       "      <td>Venta en block ( no están subdivididos ), está...</td>\n",
       "      <td>Casa - Munro</td>\n",
       "      <td>https://thumbs4.properati.com/8/J0THdrCruqgyVX...</td>\n",
       "      <td>Bs.As. G.B.A. Zona Norte</td>\n",
       "      <td>Vicente López</td>\n",
       "      <td>Munro</td>\n",
       "    </tr>\n",
       "    <tr>\n",
       "      <th>30380</th>\n",
       "      <td>apartment</td>\n",
       "      <td>-34.390008</td>\n",
       "      <td>-58.645368</td>\n",
       "      <td>526469.00</td>\n",
       "      <td>NaN</td>\n",
       "      <td>256.0</td>\n",
       "      <td>NaN</td>\n",
       "      <td>2056.519531</td>\n",
       "      <td>45.0</td>\n",
       "      <td>4.0</td>\n",
       "      <td>NaN</td>\n",
       "      <td>http://www.properati.com.ar/1818l_venta_depart...</td>\n",
       "      <td>Corredor Responsable: Rene Alejandro Vera - CS...</td>\n",
       "      <td>NUEVO DESARROLLO EN NORDELTA - VILAGO FINANCIA...</td>\n",
       "      <td>https://thumbs4.properati.com/2/jd1uAiKcMvsnaR...</td>\n",
       "      <td>Bs.As. G.B.A. Zona Norte</td>\n",
       "      <td>Tigre</td>\n",
       "      <td>Nordelta</td>\n",
       "    </tr>\n",
       "    <tr>\n",
       "      <th>14313</th>\n",
       "      <td>house</td>\n",
       "      <td>-34.589236</td>\n",
       "      <td>-58.594690</td>\n",
       "      <td>215000.00</td>\n",
       "      <td>NaN</td>\n",
       "      <td>130.0</td>\n",
       "      <td>NaN</td>\n",
       "      <td>1653.846154</td>\n",
       "      <td>NaN</td>\n",
       "      <td>5.0</td>\n",
       "      <td>NaN</td>\n",
       "      <td>http://www.properati.com.ar/16rv1_venta_casa_t...</td>\n",
       "      <td>Corredor Responsable: Marcelo Trujillo - CUCIC...</td>\n",
       "      <td>Casa - Venta- Ciudad Jardin -5 Ambientes 2 Coc...</td>\n",
       "      <td>https://thumbs4.properati.com/7/d9gBZDSsz-gjbz...</td>\n",
       "      <td>Bs.As. G.B.A. Zona Oeste</td>\n",
       "      <td>Tres de Febrero</td>\n",
       "      <td></td>\n",
       "    </tr>\n",
       "    <tr>\n",
       "      <th>86406</th>\n",
       "      <td>apartment</td>\n",
       "      <td>NaN</td>\n",
       "      <td>NaN</td>\n",
       "      <td>NaN</td>\n",
       "      <td>47.0</td>\n",
       "      <td>42.0</td>\n",
       "      <td>NaN</td>\n",
       "      <td>NaN</td>\n",
       "      <td>NaN</td>\n",
       "      <td>NaN</td>\n",
       "      <td>NaN</td>\n",
       "      <td>http://www.properati.com.ar/1b4cz_venta_depart...</td>\n",
       "      <td>Tipologia \"B\": Monoambiente divisible de 47.15...</td>\n",
       "      <td>SOLAR QUEENS</td>\n",
       "      <td>https://thumbs4.properati.com/3/x-sAgyWTbY37oS...</td>\n",
       "      <td>Capital Federal</td>\n",
       "      <td>Capital Federal</td>\n",
       "      <td>Almagro</td>\n",
       "    </tr>\n",
       "    <tr>\n",
       "      <th>31724</th>\n",
       "      <td>apartment</td>\n",
       "      <td>-34.546357</td>\n",
       "      <td>-58.704653</td>\n",
       "      <td>50000.00</td>\n",
       "      <td>27.0</td>\n",
       "      <td>27.0</td>\n",
       "      <td>1851.851852</td>\n",
       "      <td>1851.851852</td>\n",
       "      <td>NaN</td>\n",
       "      <td>1.0</td>\n",
       "      <td>1100.0</td>\n",
       "      <td>http://www.properati.com.ar/18547_venta_depart...</td>\n",
       "      <td>Venta de Departamento monoambiente en Barcelon...</td>\n",
       "      <td>DEPARTAMENTO EN VENTA</td>\n",
       "      <td>https://thumbs4.properati.com/8/_XexbB_qZVTbQS...</td>\n",
       "      <td>Bs.As. G.B.A. Zona Norte</td>\n",
       "      <td>San Miguel</td>\n",
       "      <td>San Miguel</td>\n",
       "    </tr>\n",
       "    <tr>\n",
       "      <th>30456</th>\n",
       "      <td>house</td>\n",
       "      <td>-34.394807</td>\n",
       "      <td>-58.697178</td>\n",
       "      <td>298000.00</td>\n",
       "      <td>800.0</td>\n",
       "      <td>230.0</td>\n",
       "      <td>372.500000</td>\n",
       "      <td>1295.652174</td>\n",
       "      <td>NaN</td>\n",
       "      <td>NaN</td>\n",
       "      <td>NaN</td>\n",
       "      <td>http://www.properati.com.ar/181ez_venta_casa_b...</td>\n",
       "      <td>LCL. Hermosa casa de dos plantas en barrio pri...</td>\n",
       "      <td>Casa en Venta en San Agustin Villanueva</td>\n",
       "      <td>https://thumbs4.properati.com/1/T_BtigiDVJWTLm...</td>\n",
       "      <td>Bs.As. G.B.A. Zona Norte</td>\n",
       "      <td>Tigre</td>\n",
       "      <td></td>\n",
       "    </tr>\n",
       "    <tr>\n",
       "      <th>9693</th>\n",
       "      <td>apartment</td>\n",
       "      <td>-37.974370</td>\n",
       "      <td>-57.591731</td>\n",
       "      <td>55000.00</td>\n",
       "      <td>39.0</td>\n",
       "      <td>NaN</td>\n",
       "      <td>1410.256410</td>\n",
       "      <td>NaN</td>\n",
       "      <td>NaN</td>\n",
       "      <td>2.0</td>\n",
       "      <td>NaN</td>\n",
       "      <td>http://www.properati.com.ar/165dh_venta_depart...</td>\n",
       "      <td>Hermoso 2 ambientes reciclado, ubicado en prim...</td>\n",
       "      <td>OPORTUNIDAD Depto 2 amb reciclado</td>\n",
       "      <td>https://thumbs4.properati.com/2/O5LVI8gIIlsVOH...</td>\n",
       "      <td>Buenos Aires Costa Atlántica</td>\n",
       "      <td>Mar del Plata</td>\n",
       "      <td></td>\n",
       "    </tr>\n",
       "    <tr>\n",
       "      <th>46398</th>\n",
       "      <td>house</td>\n",
       "      <td>-34.361057</td>\n",
       "      <td>-58.683980</td>\n",
       "      <td>315000.00</td>\n",
       "      <td>199.0</td>\n",
       "      <td>192.0</td>\n",
       "      <td>1582.914573</td>\n",
       "      <td>1640.625000</td>\n",
       "      <td>NaN</td>\n",
       "      <td>NaN</td>\n",
       "      <td>NaN</td>\n",
       "      <td>http://www.properati.com.ar/19613_venta_casa_b...</td>\n",
       "      <td>Casa en venta de 4 ambientes ubicada en el Bar...</td>\n",
       "      <td>Casa en venta de 4 ambientes con dependencia d...</td>\n",
       "      <td>https://thumbs4.properati.com/3/oOpPV7-MJc4T_S...</td>\n",
       "      <td>Bs.As. G.B.A. Zona Norte</td>\n",
       "      <td>Tigre</td>\n",
       "      <td></td>\n",
       "    </tr>\n",
       "    <tr>\n",
       "      <th>7379</th>\n",
       "      <td>apartment</td>\n",
       "      <td>NaN</td>\n",
       "      <td>NaN</td>\n",
       "      <td>160000.00</td>\n",
       "      <td>60.0</td>\n",
       "      <td>60.0</td>\n",
       "      <td>2666.666667</td>\n",
       "      <td>2666.666667</td>\n",
       "      <td>NaN</td>\n",
       "      <td>3.0</td>\n",
       "      <td>NaN</td>\n",
       "      <td>http://www.properati.com.ar/15xpr_venta_depart...</td>\n",
       "      <td>EN PLENO PALERMO HOLLWOOD. EDIFICIO ANTIGUO, I...</td>\n",
       "      <td>NICARAGUA Y GURRUCHAGA - 60M2 RECICLADO A NUEV...</td>\n",
       "      <td>https://thumbs4.properati.com/5/DYa2eoVd-7oxKQ...</td>\n",
       "      <td>Capital Federal</td>\n",
       "      <td>Capital Federal</td>\n",
       "      <td>Palermo</td>\n",
       "    </tr>\n",
       "  </tbody>\n",
       "</table>\n",
       "</div>"
      ],
      "text/plain": [
       "       property_type        lat        lon  price_aprox_usd  \\\n",
       "50011      apartment -31.744700 -60.525787              NaN   \n",
       "87119      apartment        NaN        NaN              NaN   \n",
       "91106          house        NaN        NaN        220000.00   \n",
       "29183      apartment -32.946487 -60.662521              NaN   \n",
       "37384      apartment        NaN        NaN        430000.00   \n",
       "117746         house        NaN        NaN              NaN   \n",
       "27618          house -34.789541 -58.380162              NaN   \n",
       "43374          house -34.652526 -59.445128         56083.67   \n",
       "28651          house -37.165292 -56.916967        390000.00   \n",
       "14796      apartment        NaN        NaN        215000.00   \n",
       "82001          house        NaN        NaN        450000.00   \n",
       "101962         house        NaN        NaN        260000.00   \n",
       "94718      apartment        NaN        NaN         92000.00   \n",
       "25965      apartment        NaN        NaN        915600.00   \n",
       "50529          house -33.681407 -59.657557        360000.00   \n",
       "8329       apartment -34.955402 -57.891451         29724.34   \n",
       "221        apartment -34.565265 -58.438233        237895.00   \n",
       "50169      apartment -34.545528 -58.707990        125000.00   \n",
       "73256          store -34.688534 -58.411681        150000.00   \n",
       "64576      apartment        NaN        NaN        295000.00   \n",
       "4902              PH -34.648384 -58.390921        120000.00   \n",
       "99144          house        NaN        NaN        240000.00   \n",
       "30380      apartment -34.390008 -58.645368        526469.00   \n",
       "14313          house -34.589236 -58.594690        215000.00   \n",
       "86406      apartment        NaN        NaN              NaN   \n",
       "31724      apartment -34.546357 -58.704653         50000.00   \n",
       "30456          house -34.394807 -58.697178        298000.00   \n",
       "9693       apartment -37.974370 -57.591731         55000.00   \n",
       "46398          house -34.361057 -58.683980        315000.00   \n",
       "7379       apartment        NaN        NaN        160000.00   \n",
       "\n",
       "        surface_total_in_m2  surface_covered_in_m2  price_usd_per_m2  \\\n",
       "50011                  34.0                    NaN               NaN   \n",
       "87119                  64.0                   56.0               NaN   \n",
       "91106                   NaN                  210.0               NaN   \n",
       "29183                  46.0                   46.0               NaN   \n",
       "37384                  94.0                   94.0       4574.468085   \n",
       "117746                258.0                  222.0               NaN   \n",
       "27618                 251.0                  211.0               NaN   \n",
       "43374                 250.0                   90.0        224.334680   \n",
       "28651                1150.0                  272.0        339.130435   \n",
       "14796                  90.0                   83.0       2388.888889   \n",
       "82001                   NaN                  315.0               NaN   \n",
       "101962                  NaN                  116.0               NaN   \n",
       "94718                  38.0                   32.0       2421.052632   \n",
       "25965                  40.0                   40.0      22890.000000   \n",
       "50529                 350.0                  350.0       1028.571429   \n",
       "8329                   82.0                   64.0        362.491951   \n",
       "221                    69.0                   53.0       3447.753623   \n",
       "50169                  64.0                   64.0       1953.125000   \n",
       "73256                 150.0                  120.0       1000.000000   \n",
       "64576                 115.0                  110.0       2565.217391   \n",
       "4902                  200.0                  200.0        600.000000   \n",
       "99144                   NaN                  240.0               NaN   \n",
       "30380                   NaN                  256.0               NaN   \n",
       "14313                   NaN                  130.0               NaN   \n",
       "86406                  47.0                   42.0               NaN   \n",
       "31724                  27.0                   27.0       1851.851852   \n",
       "30456                 800.0                  230.0        372.500000   \n",
       "9693                   39.0                    NaN       1410.256410   \n",
       "46398                 199.0                  192.0       1582.914573   \n",
       "7379                   60.0                   60.0       2666.666667   \n",
       "\n",
       "        price_per_m2  floor  rooms  expenses  \\\n",
       "50011            NaN    3.0    1.0       NaN   \n",
       "87119            NaN    NaN    NaN       NaN   \n",
       "91106    1047.619048    NaN    NaN       NaN   \n",
       "29183            NaN    NaN    2.0       NaN   \n",
       "37384    4574.468085    1.0    NaN       NaN   \n",
       "117746           NaN    NaN    NaN    4200.0   \n",
       "27618            NaN    NaN    NaN       NaN   \n",
       "43374   11111.111111    NaN    4.0       NaN   \n",
       "28651    1433.823529    NaN    6.0       NaN   \n",
       "14796    2590.361446    NaN    3.0       NaN   \n",
       "82001    1428.571429    NaN    NaN       NaN   \n",
       "101962   2241.379310    NaN    NaN       NaN   \n",
       "94718    2875.000000    NaN    NaN       NaN   \n",
       "25965   22890.000000    NaN    2.0       NaN   \n",
       "50529    1028.571429    NaN    NaN       NaN   \n",
       "8329     8281.250000    NaN    NaN       NaN   \n",
       "221      4488.584906    NaN    2.0       NaN   \n",
       "50169    1953.125000    NaN    NaN       NaN   \n",
       "73256    1250.000000    NaN    NaN       NaN   \n",
       "64576    2681.818182    NaN    NaN    6000.0   \n",
       "4902      600.000000    NaN    NaN       NaN   \n",
       "99144    1000.000000    NaN    NaN       NaN   \n",
       "30380    2056.519531   45.0    4.0       NaN   \n",
       "14313    1653.846154    NaN    5.0       NaN   \n",
       "86406            NaN    NaN    NaN       NaN   \n",
       "31724    1851.851852    NaN    1.0    1100.0   \n",
       "30456    1295.652174    NaN    NaN       NaN   \n",
       "9693             NaN    NaN    2.0       NaN   \n",
       "46398    1640.625000    NaN    NaN       NaN   \n",
       "7379     2666.666667    NaN    3.0       NaN   \n",
       "\n",
       "                                            properati_url  \\\n",
       "50011   http://www.properati.com.ar/19d7x_venta_depart...   \n",
       "87119   http://www.properati.com.ar/1b5e4_venta_depart...   \n",
       "91106   http://www.properati.com.ar/1bb4b_venta_casa_c...   \n",
       "29183   http://www.properati.com.ar/17yek_venta_depart...   \n",
       "37384   http://www.properati.com.ar/18iys_venta_depart...   \n",
       "117746  http://www.properati.com.ar/1cdxa_venta_casa_t...   \n",
       "27618   http://www.properati.com.ar/17u1f_venta_casa_j...   \n",
       "43374   http://www.properati.com.ar/18ydk_venta_casa_m...   \n",
       "28651   http://www.properati.com.ar/17wvn_venta_casa_c...   \n",
       "14796   http://www.properati.com.ar/16t7h_venta_depart...   \n",
       "82001   http://www.properati.com.ar/1aynt_venta_casa_s...   \n",
       "101962  http://www.properati.com.ar/1bq0w_venta_casa_f...   \n",
       "94718   http://www.properati.com.ar/1bg0l_venta_depart...   \n",
       "25965   http://www.properati.com.ar/17qln_venta_depart...   \n",
       "50529   http://www.properati.com.ar/19eju_venta_casa_s...   \n",
       "8329    http://www.properati.com.ar/160oi_venta_depart...   \n",
       "221     http://www.properati.com.ar/15djb_venta_depart...   \n",
       "50169   http://www.properati.com.ar/19dm0_venta_depart...   \n",
       "73256   http://www.properati.com.ar/1anhk_venta_local_...   \n",
       "64576   http://www.properati.com.ar/1ab1d_venta_depart...   \n",
       "4902    http://www.properati.com.ar/15oel_venta_ph_bar...   \n",
       "99144   http://www.properati.com.ar/1bmbc_venta_casa_m...   \n",
       "30380   http://www.properati.com.ar/1818l_venta_depart...   \n",
       "14313   http://www.properati.com.ar/16rv1_venta_casa_t...   \n",
       "86406   http://www.properati.com.ar/1b4cz_venta_depart...   \n",
       "31724   http://www.properati.com.ar/18547_venta_depart...   \n",
       "30456   http://www.properati.com.ar/181ez_venta_casa_b...   \n",
       "9693    http://www.properati.com.ar/165dh_venta_depart...   \n",
       "46398   http://www.properati.com.ar/19613_venta_casa_b...   \n",
       "7379    http://www.properati.com.ar/15xpr_venta_depart...   \n",
       "\n",
       "                                              description  \\\n",
       "50011   Venta de Departamento MONOAMBIENTE, Paraná -  ...   \n",
       "87119                                    BBU2956 AP234766   \n",
       "91106   Excelente Casa 3 Ambientes Castelar NorteCarac...   \n",
       "29183   Departamento de 1 dormitorio, al contrafrente....   \n",
       "37384   El condominio OM Punta Chica incorpora exclusi...   \n",
       "117746  COMERCIALIZACIÓN EN EXCLUSIVIDAD - MIERES PROP...   \n",
       "27618   \"Patio cielo encauzado, el patio es el declive...   \n",
       "43374   Venta de casa ubicada en calle 14 y 51, de la ...   \n",
       "28651   SUPERFICIE TOTAL CUBIERTA 272M2 LOTE 1150M2. 6...   \n",
       "14796   MUY LINDO depto. de 3 ambientes. DISTRIBUCIÓN:...   \n",
       "82001   3 CUADRAS DE AVENIDA 4 DE ESTACION, AMB MUY AM...   \n",
       "101962  Casa en PH de 3 dormitorios muy buena en 2 pla...   \n",
       "94718   COCHERA OPTATIVA: Descubiertas U$S 20.000.- Cu...   \n",
       "25965   sj117- PERSONAS HACEN COLA P/INGRESAR A ESTE D...   \n",
       "50529   Ofrecemos en venta una espectacular casa muy b...   \n",
       "8329    Venta de Departamento 4 AMBIENTES en La PlataU...   \n",
       "221     El edificio está situado en el barrio de  las ...   \n",
       "50169   Venta de Departamento 3 AMBIENTES en San Migue...   \n",
       "73256   EXCELENTE EDIFICIO COMERCIAL EN LANUS OESTE. S...   \n",
       "64576   Edificio Rivarola: piso alto vista abierta con...   \n",
       "4902    Hermoso PH de 4 ambientes, patio y terraza en ...   \n",
       "99144   Venta en block ( no están subdivididos ), está...   \n",
       "30380   Corredor Responsable: Rene Alejandro Vera - CS...   \n",
       "14313   Corredor Responsable: Marcelo Trujillo - CUCIC...   \n",
       "86406   Tipologia \"B\": Monoambiente divisible de 47.15...   \n",
       "31724   Venta de Departamento monoambiente en Barcelon...   \n",
       "30456   LCL. Hermosa casa de dos plantas en barrio pri...   \n",
       "9693    Hermoso 2 ambientes reciclado, ubicado en prim...   \n",
       "46398   Casa en venta de 4 ambientes ubicada en el Bar...   \n",
       "7379    EN PLENO PALERMO HOLLWOOD. EDIFICIO ANTIGUO, I...   \n",
       "\n",
       "                                                    title  \\\n",
       "50011                               DEPARTAMENTO EN VENTA   \n",
       "87119                                              EVOQUE   \n",
       "91106                                     Casa - Castelar   \n",
       "29183   Departamento en venta de un dormitorio, entreg...   \n",
       "37384   Departamento 94m² con Plantas en Arias 3100, S...   \n",
       "117746                                 Casa - San Gabriel   \n",
       "27618   CASA \"AMALÍA\" en José Mármol, vivir con poesía...   \n",
       "43374   Venta de casa calle 14 y 51, 3 dormitorios. $ ...   \n",
       "28651                                         CASA URRACA   \n",
       "14796         EXCELENTE !!!!! Dpto en QUARTIER  Nordelta    \n",
       "82001                                  Casa en San Isidro   \n",
       "101962                                     Casa - Florida   \n",
       "94718    Departamento de 1 ambiente a estrenar con balcon   \n",
       "25965   sj117- PERSONAS HACEN COLA P/INGRESAR A ESTE D...   \n",
       "50529                         En Venta - Casa - San Pedro   \n",
       "8329                                DEPARTAMENTO EN VENTA   \n",
       "221                                      Ultimas Unidades   \n",
       "50169                               DEPARTAMENTO EN VENTA   \n",
       "73256                    Edificio Comercial - Lanús Oeste   \n",
       "64576                                         Alberdi 651   \n",
       "4902    PH DE 4 AMBIENTES CON PATIO Y TERRAZA SUPER LU...   \n",
       "99144                                        Casa - Munro   \n",
       "30380   NUEVO DESARROLLO EN NORDELTA - VILAGO FINANCIA...   \n",
       "14313   Casa - Venta- Ciudad Jardin -5 Ambientes 2 Coc...   \n",
       "86406                                        SOLAR QUEENS   \n",
       "31724                               DEPARTAMENTO EN VENTA   \n",
       "30456             Casa en Venta en San Agustin Villanueva   \n",
       "9693                    OPORTUNIDAD Depto 2 amb reciclado   \n",
       "46398   Casa en venta de 4 ambientes con dependencia d...   \n",
       "7379    NICARAGUA Y GURRUCHAGA - 60M2 RECICLADO A NUEV...   \n",
       "\n",
       "                                          image_thumbnail  \\\n",
       "50011   https://thumbs4.properati.com/1/6SiTy8atgBG67v...   \n",
       "87119   https://thumbs4.properati.com/6/wnI3G-m_z8TBWx...   \n",
       "91106   https://thumbs4.properati.com/6/rm3h-AuLbtYSFJ...   \n",
       "29183   https://thumbs4.properati.com/9/7tlYuuqyceQ_g8...   \n",
       "37384   https://thumbs4.properati.com/7/dYoZ-sp8gZfgvz...   \n",
       "117746  https://thumbs4.properati.com/2/Yaqdh1_PGlMWLW...   \n",
       "27618   https://thumbs4.properati.com/9/yyDTw74YUPs4UT...   \n",
       "43374   https://thumbs4.properati.com/0/f9gpfnxdAr2_Yo...   \n",
       "28651   https://thumbs4.properati.com/0/-RiPDRnpaZtJ60...   \n",
       "14796   https://thumbs4.properati.com/4/nlNRMcrPNYGAEy...   \n",
       "82001   https://thumbs4.properati.com/3/JzskY4aspHDIih...   \n",
       "101962  https://thumbs4.properati.com/3/4bYX28tIeQgg_V...   \n",
       "94718   https://thumbs4.properati.com/4/Ntx83UEbIVRokX...   \n",
       "25965   https://thumbs4.properati.com/6/YQhvFiz28AMcLP...   \n",
       "50529   https://thumbs4.properati.com/5/EQCOv4a2SOOyZc...   \n",
       "8329    https://thumbs4.properati.com/8/K19p2Kz-TF84SW...   \n",
       "221     https://thumbs4.properati.com/3/ty6dg6lN--7t5l...   \n",
       "50169   https://thumbs4.properati.com/8/nKqxWmAxsp6ZdB...   \n",
       "73256   https://thumbs4.properati.com/0/O22pX_Qf7peqdd...   \n",
       "64576   https://thumbs4.properati.com/2/oQc6Y5iTt9n8ai...   \n",
       "4902    https://thumbs4.properati.com/0/jonxpUUDgIOk-F...   \n",
       "99144   https://thumbs4.properati.com/8/J0THdrCruqgyVX...   \n",
       "30380   https://thumbs4.properati.com/2/jd1uAiKcMvsnaR...   \n",
       "14313   https://thumbs4.properati.com/7/d9gBZDSsz-gjbz...   \n",
       "86406   https://thumbs4.properati.com/3/x-sAgyWTbY37oS...   \n",
       "31724   https://thumbs4.properati.com/8/_XexbB_qZVTbQS...   \n",
       "30456   https://thumbs4.properati.com/1/T_BtigiDVJWTLm...   \n",
       "9693    https://thumbs4.properati.com/2/O5LVI8gIIlsVOH...   \n",
       "46398   https://thumbs4.properati.com/3/oOpPV7-MJc4T_S...   \n",
       "7379    https://thumbs4.properati.com/5/DYa2eoVd-7oxKQ...   \n",
       "\n",
       "                           provincia           ciudad        barrio1  \n",
       "50011                     Entre Ríos           Paraná                 \n",
       "87119                Capital Federal  Capital Federal  Villa Urquiza  \n",
       "91106       Bs.As. G.B.A. Zona Oeste            Morón       Castelar  \n",
       "29183                       Santa Fe          Rosario                 \n",
       "37384       Bs.As. G.B.A. Zona Norte     San Fernando       Victoria  \n",
       "117746      Bs.As. G.B.A. Zona Norte            Tigre                 \n",
       "27618         Bs.As. G.B.A. Zona Sur  Almirante Brown    Jose Marmol  \n",
       "43374          Buenos Aires Interior         Mercedes                 \n",
       "28651   Buenos Aires Costa Atlántica           Cariló                 \n",
       "14796       Bs.As. G.B.A. Zona Norte            Tigre       Nordelta  \n",
       "82001       Bs.As. G.B.A. Zona Norte       San Isidro     San Isidro  \n",
       "101962      Bs.As. G.B.A. Zona Norte    Vicente López        Florida  \n",
       "94718                Capital Federal  Capital Federal      Caballito  \n",
       "25965                Capital Federal  Capital Federal          Boedo  \n",
       "50529          Buenos Aires Interior        San Pedro      San Pedro  \n",
       "8329          Bs.As. G.B.A. Zona Sur         La Plata       La Plata  \n",
       "221                  Capital Federal  Capital Federal       Belgrano  \n",
       "50169       Bs.As. G.B.A. Zona Norte       San Miguel                 \n",
       "73256         Bs.As. G.B.A. Zona Sur            Lanús          Lanús  \n",
       "64576       Bs.As. G.B.A. Zona Norte    Vicente López         Olivos  \n",
       "4902                 Capital Federal  Capital Federal       Barracas  \n",
       "99144       Bs.As. G.B.A. Zona Norte    Vicente López          Munro  \n",
       "30380       Bs.As. G.B.A. Zona Norte            Tigre       Nordelta  \n",
       "14313       Bs.As. G.B.A. Zona Oeste  Tres de Febrero                 \n",
       "86406                Capital Federal  Capital Federal        Almagro  \n",
       "31724       Bs.As. G.B.A. Zona Norte       San Miguel     San Miguel  \n",
       "30456       Bs.As. G.B.A. Zona Norte            Tigre                 \n",
       "9693    Buenos Aires Costa Atlántica    Mar del Plata                 \n",
       "46398       Bs.As. G.B.A. Zona Norte            Tigre                 \n",
       "7379                 Capital Federal  Capital Federal        Palermo  "
      ]
     },
     "execution_count": 45,
     "metadata": {},
     "output_type": "execute_result"
    }
   ],
   "source": [
    "#ahora hacemos drop de la columna place_with_parent_names, ya que ya extraímos su información\n",
    "datos.drop('place_with_parent_names',axis=1, inplace=True)\n",
    "datos.sample(30)\n"
   ]
  },
  {
   "cell_type": "markdown",
   "metadata": {},
   "source": [
    "### Ahora volvemos a ver la calidad de las columnas"
   ]
  },
  {
   "cell_type": "code",
   "execution_count": 46,
   "metadata": {},
   "outputs": [
    {
     "name": "stderr",
     "output_type": "stream",
     "text": [
      "C:\\Users\\fpeloso\\AppData\\Local\\Temp\\ipykernel_11008\\3929143227.py:19: UserWarning: FixedFormatter should only be used together with FixedLocator\n",
      "  ax.set_xticklabels(ind)\n",
      "C:\\Users\\fpeloso\\AppData\\Local\\Temp\\ipykernel_11008\\3929143227.py:22: UserWarning: FixedFormatter should only be used together with FixedLocator\n",
      "  ax.set_xticklabels(ind, rotation = 90, ha=\"right\")\n"
     ]
    },
    {
     "data": {
      "image/png": "[encoded data removed]",
      "text/plain": [
       "<Figure size 1600x600 with 1 Axes>"
      ]
     },
     "metadata": {},
     "output_type": "display_data"
    }
   ],
   "source": [
    "ind=datos.columns\n",
    "ind_label=np.arange(0,datos.shape[1]-1)\n",
    "\n",
    "valores_nulos=datos.isnull().sum()/datos.shape[0]\n",
    "\n",
    "valores_no_nulos=datos.notnull().sum()/datos.shape[0]\n",
    "\n",
    "width = 0.25\n",
    "\n",
    "fig = plt.figure(figsize=(16,6)); ax = plt.axes()\n",
    "#fig2= plt.figure(figsize=(16,6)); ax2 = plt.axes()\n",
    "\n",
    "ax.bar(ind, valores_nulos, width, color='r') # barra roja. \n",
    "ax.bar(ind, valores_no_nulos, width, color='b',bottom=valores_nulos)\n",
    "#ax2.bar(ind, valores_no_nulos, width, color='b')#, bottom=valores_no_nulos) # barra azul \n",
    "\n",
    "ax.set_ylabel('Porcentaje'); ax.set_title('Valores Nulos y No-Nulos por Columna')\n",
    "#ax.set_xticks(ind); \n",
    "ax.set_xticklabels(ind)\n",
    "ax.tick_params(axis='both', which='minor', labelsize='small')\n",
    "\n",
    "ax.set_xticklabels(ind, rotation = 90, ha=\"right\")\n",
    "#ax2.set_xticklabels(ind,labelsize=8)\n",
    "#ax.legend(labels=['Men', 'Women'])\n",
    "\n",
    "#plt.gca().invert_xaxis()\n",
    "plt.show()"
   ]
  },
  {
   "cell_type": "markdown",
   "metadata": {},
   "source": [
    "# Roberto: empezamos con el procesamiento de la columna descripción para encontrar data relevante:"
   ]
  },
  {
   "cell_type": "code",
   "execution_count": 47,
   "metadata": {},
   "outputs": [],
   "source": [
    "# recorre el campo description y llama la funcion CuentaPalabras en cada registro y va sumando palabra y cantidad de cada registro\n",
    "# Genera un DataFrame CantPalabras con las dos listas\n",
    "listPalabras = []\n",
    "listCantidad = []\n",
    "\n"
   ]
  },
  {
   "cell_type": "markdown",
   "metadata": {},
   "source": [
    "### ANALIZAR SI CONVIENE REDEFINIR LA FUNCIÓN CUENTAPALABRAS:\n",
    "\n",
    "AHORA MISMO MODIFICA LAS LISTAS DEFINIDAS POR FUERA DE LA FUNCIÓN, SERÍA MEJOR\n",
    "UTILIZAR UN RETURN"
   ]
  },
  {
   "cell_type": "code",
   "execution_count": 48,
   "metadata": {},
   "outputs": [],
   "source": [
    "SerieAmbiente = datos['description']\n",
    "patron_amb = '\\d\\s+[Aa]mbiente'\n",
    "patron_regex_amb = re.compile(patron_amb)\n",
    "Ambiente = SerieAmbiente.apply(lambda x: np.NaN if len(patron_regex_amb.findall(str(x)))==0\n",
    "                               else (patron_regex_amb.findall(str(x))[0])[0])\n",
    "datos['ambientes'] = Ambiente"
   ]
  },
  {
   "cell_type": "code",
   "execution_count": 49,
   "metadata": {},
   "outputs": [
    {
     "data": {
      "text/plain": [
       "98892"
      ]
     },
     "execution_count": 49,
     "metadata": {},
     "output_type": "execute_result"
    }
   ],
   "source": [
    "datos['ambientes'].isnull().sum()"
   ]
  },
  {
   "cell_type": "code",
   "execution_count": 50,
   "metadata": {},
   "outputs": [],
   "source": [
    "mask_amb=datos['ambientes'].notnull() & datos['rooms'].isnull() "
   ]
  },
  {
   "cell_type": "code",
   "execution_count": 51,
   "metadata": {},
   "outputs": [
    {
     "data": {
      "text/plain": [
       "11559"
      ]
     },
     "execution_count": 51,
     "metadata": {},
     "output_type": "execute_result"
    }
   ],
   "source": [
    "#se pueden imputar 11 mil datos de la columna ambietnes a rooms\n",
    "mask_amb.sum()\n"
   ]
  },
  {
   "cell_type": "code",
   "execution_count": 52,
   "metadata": {},
   "outputs": [
    {
     "data": {
      "text/plain": [
       "73830"
      ]
     },
     "execution_count": 52,
     "metadata": {},
     "output_type": "execute_result"
    }
   ],
   "source": [
    "datos['rooms'].isnull().sum()"
   ]
  },
  {
   "cell_type": "markdown",
   "metadata": {},
   "source": [
    "Analisis de Cochera "
   ]
  },
  {
   "cell_type": "code",
   "execution_count": 53,
   "metadata": {},
   "outputs": [],
   "source": [
    "SerieCoch = datos['description']\n",
    "patron_coch = '([Cc]ochera|[Gg]arage)'\n",
    "patron_regex_coch = re.compile(patron_coch)\n",
    "Cochera = SerieCoch.apply(lambda x: False if len(patron_regex_coch.findall(str(x)))==0 else True)\n",
    "datos['cochera'] = Cochera"
   ]
  },
  {
   "cell_type": "markdown",
   "metadata": {},
   "source": [
    "Añado Parrilla"
   ]
  },
  {
   "cell_type": "code",
   "execution_count": 54,
   "metadata": {},
   "outputs": [],
   "source": [
    "SerieParrilla = datos['description']\n",
    "patron_parrilla = '[Pp]arrilla'\n",
    "patron_regex_parrilla = re.compile(patron_parrilla)\n",
    "Parrilla = SerieParrilla.apply(lambda x: False if len(patron_regex_parrilla.findall(str(x)))==0 else True)\n",
    "datos['parrilla'] = Parrilla"
   ]
  },
  {
   "cell_type": "code",
   "execution_count": 55,
   "metadata": {},
   "outputs": [],
   "source": [
    "SeriePatio = datos['description']\n",
    "patron_patio = '[Pp]atio'\n",
    "patron_regex_patio = re.compile(patron_patio)\n",
    "Patio = SeriePatio.apply(lambda x: False if len(patron_regex_patio.findall(str(x)))==0 else True)\n",
    "datos['patio'] = Patio"
   ]
  },
  {
   "cell_type": "code",
   "execution_count": 56,
   "metadata": {},
   "outputs": [],
   "source": [
    "SeriePileta = datos['description']\n",
    "patron_pileta = '([Pp]ileta|[Pp]iscina)'\n",
    "patron_regex_pileta = re.compile(patron_pileta)\n",
    "Pileta = SeriePileta.apply(lambda x: False if len(patron_regex_pileta.findall(str(x)))==0 else True)\n",
    "datos['pileta'] = Pileta"
   ]
  },
  {
   "cell_type": "code",
   "execution_count": 57,
   "metadata": {},
   "outputs": [],
   "source": [
    "SerieVista = datos['description']\n",
    "patron_vista = '([Aa]l\\s[Ff]rente|[\\s.,!/][Vv]istas*[\\s.,!/)])'\n",
    "patron_regex_vista = re.compile(patron_vista)\n",
    "Vista = SerieVista.apply(lambda x: False if len(patron_regex_vista.findall(str(x)))==0 else True)\n",
    "datos['vista'] = Vista"
   ]
  },
  {
   "cell_type": "code",
   "execution_count": 58,
   "metadata": {},
   "outputs": [],
   "source": [
    "# cuando price_usd_m2 es nulo, o bien price_aprox_usd es nulo o surface_total_in_m2 es nulo\n",
    "# por lo tanto no podemos conformarlo a partir de esos dos valores\n",
    "datos_usdm2_null = datos[datos['price_usd_per_m2'].isnull()]"
   ]
  },
  {
   "cell_type": "code",
   "execution_count": 59,
   "metadata": {},
   "outputs": [],
   "source": [
    "# Cuando price_usd_per_m2 es nulo hay muchos registros completos en price_per_m2\n",
    "# Tomamos sólo los que se encuentran entre 1000 y 6000 que hacen pensar que se cargaron en el campo equivocado\n",
    "# Son 17.817 valores que llevarían los 52.603 nulos de price_usd_per_m2 a 34.786\n",
    "\n",
    "mask1 = datos_usdm2_null['price_per_m2'] < 6000\n",
    "mask2 = datos_usdm2_null['price_per_m2'] > 500\n",
    "Serie_price_per_m2 = datos_usdm2_null[mask1 & mask2]['price_per_m2']\n",
    "datos['usd_per_m2_2'] = Serie_price_per_m2"
   ]
  },
  {
   "cell_type": "markdown",
   "metadata": {},
   "source": [
    "### Desde acá analizamos el nuevo campo usd_per_m2_2 que complementa a price_usd_per_m2"
   ]
  },
  {
   "cell_type": "code",
   "execution_count": 60,
   "metadata": {},
   "outputs": [
    {
     "name": "stdout",
     "output_type": "stream",
     "text": [
      "el campo price_usd_per_m2 cuenta con 68617 datos no nulos\n",
      "el campo usd_per_m2_2  aporta 19966 valores no nulos al campo price_usd_per_m2\n"
     ]
    }
   ],
   "source": [
    "mask20 = datos['price_usd_per_m2'].isnull() & datos['usd_per_m2_2'].notnull()\n",
    "\n",
    "print(f'el campo price_usd_per_m2 cuenta con {datos.price_usd_per_m2.count()} datos no nulos')\n",
    "print(f'el campo usd_per_m2_2  aporta {datos[mask20].usd_per_m2_2.count()} valores no nulos al campo price_usd_per_m2')\n"
   ]
  },
  {
   "cell_type": "code",
   "execution_count": 61,
   "metadata": {},
   "outputs": [
    {
     "data": {
      "text/html": [
       "<div>\n",
       "<style scoped>\n",
       "    .dataframe tbody tr th:only-of-type {\n",
       "        vertical-align: middle;\n",
       "    }\n",
       "\n",
       "    .dataframe tbody tr th {\n",
       "        vertical-align: top;\n",
       "    }\n",
       "\n",
       "    .dataframe thead tr th {\n",
       "        text-align: left;\n",
       "    }\n",
       "\n",
       "    .dataframe thead tr:last-of-type th {\n",
       "        text-align: right;\n",
       "    }\n",
       "</style>\n",
       "<table border=\"1\" class=\"dataframe\">\n",
       "  <thead>\n",
       "    <tr>\n",
       "      <th></th>\n",
       "      <th></th>\n",
       "      <th></th>\n",
       "      <th colspan=\"3\" halign=\"left\">price_usd_per_m2</th>\n",
       "      <th colspan=\"3\" halign=\"left\">usd_per_m2_2</th>\n",
       "    </tr>\n",
       "    <tr>\n",
       "      <th></th>\n",
       "      <th></th>\n",
       "      <th></th>\n",
       "      <th>mean</th>\n",
       "      <th>std</th>\n",
       "      <th>count</th>\n",
       "      <th>mean</th>\n",
       "      <th>std</th>\n",
       "      <th>count</th>\n",
       "    </tr>\n",
       "    <tr>\n",
       "      <th>provincia</th>\n",
       "      <th>ciudad</th>\n",
       "      <th>property_type</th>\n",
       "      <th></th>\n",
       "      <th></th>\n",
       "      <th></th>\n",
       "      <th></th>\n",
       "      <th></th>\n",
       "      <th></th>\n",
       "    </tr>\n",
       "  </thead>\n",
       "  <tbody>\n",
       "    <tr>\n",
       "      <th>Buenos Aires Costa Atlántica</th>\n",
       "      <th>Mar del Plata</th>\n",
       "      <th>apartment</th>\n",
       "      <td>1986.896177</td>\n",
       "      <td>539.483595</td>\n",
       "      <td>3466</td>\n",
       "      <td>1939.210364</td>\n",
       "      <td>535.268024</td>\n",
       "      <td>917</td>\n",
       "    </tr>\n",
       "    <tr>\n",
       "      <th>Bs.As. G.B.A. Zona Norte</th>\n",
       "      <th>Tigre</th>\n",
       "      <th>house</th>\n",
       "      <td>1639.454885</td>\n",
       "      <td>694.365804</td>\n",
       "      <td>2936</td>\n",
       "      <td>1951.398657</td>\n",
       "      <td>651.248168</td>\n",
       "      <td>858</td>\n",
       "    </tr>\n",
       "    <tr>\n",
       "      <th>Bs.As. G.B.A. Zona Sur</th>\n",
       "      <th>Lomas de Zamora</th>\n",
       "      <th>house</th>\n",
       "      <td>1353.224498</td>\n",
       "      <td>474.131192</td>\n",
       "      <td>433</td>\n",
       "      <td>1384.156061</td>\n",
       "      <td>533.035214</td>\n",
       "      <td>801</td>\n",
       "    </tr>\n",
       "    <tr>\n",
       "      <th>Bs.As. G.B.A. Zona Norte</th>\n",
       "      <th>Tigre</th>\n",
       "      <th>apartment</th>\n",
       "      <td>2376.631307</td>\n",
       "      <td>643.255606</td>\n",
       "      <td>2914</td>\n",
       "      <td>2499.103360</td>\n",
       "      <td>712.255133</td>\n",
       "      <td>663</td>\n",
       "    </tr>\n",
       "    <tr>\n",
       "      <th>Córdoba</th>\n",
       "      <th>Córdoba</th>\n",
       "      <th>house</th>\n",
       "      <td>889.641567</td>\n",
       "      <td>339.074551</td>\n",
       "      <td>210</td>\n",
       "      <td>1255.528798</td>\n",
       "      <td>926.594816</td>\n",
       "      <td>593</td>\n",
       "    </tr>\n",
       "    <tr>\n",
       "      <th>Bs.As. G.B.A. Zona Norte</th>\n",
       "      <th>Vicente López</th>\n",
       "      <th>apartment</th>\n",
       "      <td>3063.957543</td>\n",
       "      <td>849.464267</td>\n",
       "      <td>1363</td>\n",
       "      <td>3070.254809</td>\n",
       "      <td>827.409718</td>\n",
       "      <td>566</td>\n",
       "    </tr>\n",
       "    <tr>\n",
       "      <th>Bs.As. G.B.A. Zona Sur</th>\n",
       "      <th>La Plata</th>\n",
       "      <th>house</th>\n",
       "      <td>1339.969649</td>\n",
       "      <td>580.974937</td>\n",
       "      <td>265</td>\n",
       "      <td>1492.484930</td>\n",
       "      <td>557.511626</td>\n",
       "      <td>515</td>\n",
       "    </tr>\n",
       "    <tr>\n",
       "      <th>Bs.As. G.B.A. Zona Oeste</th>\n",
       "      <th>La Matanza</th>\n",
       "      <th>apartment</th>\n",
       "      <td>1751.969835</td>\n",
       "      <td>506.831824</td>\n",
       "      <td>389</td>\n",
       "      <td>1971.952269</td>\n",
       "      <td>510.201628</td>\n",
       "      <td>489</td>\n",
       "    </tr>\n",
       "    <tr>\n",
       "      <th rowspan=\"2\" valign=\"top\">Bs.As. G.B.A. Zona Norte</th>\n",
       "      <th>San Isidro</th>\n",
       "      <th>house</th>\n",
       "      <td>1443.511966</td>\n",
       "      <td>608.869569</td>\n",
       "      <td>950</td>\n",
       "      <td>1874.288131</td>\n",
       "      <td>625.317530</td>\n",
       "      <td>460</td>\n",
       "    </tr>\n",
       "    <tr>\n",
       "      <th>Escobar</th>\n",
       "      <th>house</th>\n",
       "      <td>1272.935898</td>\n",
       "      <td>433.624570</td>\n",
       "      <td>793</td>\n",
       "      <td>1425.429927</td>\n",
       "      <td>609.771963</td>\n",
       "      <td>448</td>\n",
       "    </tr>\n",
       "    <tr>\n",
       "      <th rowspan=\"2\" valign=\"top\">Bs.As. G.B.A. Zona Sur</th>\n",
       "      <th>Lomas de Zamora</th>\n",
       "      <th>apartment</th>\n",
       "      <td>2007.972072</td>\n",
       "      <td>506.828392</td>\n",
       "      <td>815</td>\n",
       "      <td>2150.514590</td>\n",
       "      <td>444.993014</td>\n",
       "      <td>428</td>\n",
       "    </tr>\n",
       "    <tr>\n",
       "      <th>La Plata</th>\n",
       "      <th>apartment</th>\n",
       "      <td>1754.927357</td>\n",
       "      <td>496.831600</td>\n",
       "      <td>598</td>\n",
       "      <td>1698.321391</td>\n",
       "      <td>393.060586</td>\n",
       "      <td>401</td>\n",
       "    </tr>\n",
       "    <tr>\n",
       "      <th>Bs.As. G.B.A. Zona Norte</th>\n",
       "      <th>Pilar</th>\n",
       "      <th>house</th>\n",
       "      <td>1417.256507</td>\n",
       "      <td>505.266135</td>\n",
       "      <td>1202</td>\n",
       "      <td>1462.804473</td>\n",
       "      <td>630.961810</td>\n",
       "      <td>393</td>\n",
       "    </tr>\n",
       "    <tr>\n",
       "      <th>Bs.As. G.B.A. Zona Oeste</th>\n",
       "      <th>Morón</th>\n",
       "      <th>apartment</th>\n",
       "      <td>1762.455910</td>\n",
       "      <td>442.554520</td>\n",
       "      <td>667</td>\n",
       "      <td>1931.368302</td>\n",
       "      <td>407.804286</td>\n",
       "      <td>384</td>\n",
       "    </tr>\n",
       "    <tr>\n",
       "      <th>Bs.As. G.B.A. Zona Norte</th>\n",
       "      <th>Vicente López</th>\n",
       "      <th>house</th>\n",
       "      <td>1576.729160</td>\n",
       "      <td>588.072260</td>\n",
       "      <td>726</td>\n",
       "      <td>1880.130871</td>\n",
       "      <td>626.066158</td>\n",
       "      <td>365</td>\n",
       "    </tr>\n",
       "  </tbody>\n",
       "</table>\n",
       "</div>"
      ],
      "text/plain": [
       "                                                           price_usd_per_m2  \\\n",
       "                                                                       mean   \n",
       "provincia                    ciudad          property_type                    \n",
       "Buenos Aires Costa Atlántica Mar del Plata   apartment          1986.896177   \n",
       "Bs.As. G.B.A. Zona Norte     Tigre           house              1639.454885   \n",
       "Bs.As. G.B.A. Zona Sur       Lomas de Zamora house              1353.224498   \n",
       "Bs.As. G.B.A. Zona Norte     Tigre           apartment          2376.631307   \n",
       "Córdoba                      Córdoba         house               889.641567   \n",
       "Bs.As. G.B.A. Zona Norte     Vicente López   apartment          3063.957543   \n",
       "Bs.As. G.B.A. Zona Sur       La Plata        house              1339.969649   \n",
       "Bs.As. G.B.A. Zona Oeste     La Matanza      apartment          1751.969835   \n",
       "Bs.As. G.B.A. Zona Norte     San Isidro      house              1443.511966   \n",
       "                             Escobar         house              1272.935898   \n",
       "Bs.As. G.B.A. Zona Sur       Lomas de Zamora apartment          2007.972072   \n",
       "                             La Plata        apartment          1754.927357   \n",
       "Bs.As. G.B.A. Zona Norte     Pilar           house              1417.256507   \n",
       "Bs.As. G.B.A. Zona Oeste     Morón           apartment          1762.455910   \n",
       "Bs.As. G.B.A. Zona Norte     Vicente López   house              1576.729160   \n",
       "\n",
       "                                                                              \\\n",
       "                                                                   std count   \n",
       "provincia                    ciudad          property_type                     \n",
       "Buenos Aires Costa Atlántica Mar del Plata   apartment      539.483595  3466   \n",
       "Bs.As. G.B.A. Zona Norte     Tigre           house          694.365804  2936   \n",
       "Bs.As. G.B.A. Zona Sur       Lomas de Zamora house          474.131192   433   \n",
       "Bs.As. G.B.A. Zona Norte     Tigre           apartment      643.255606  2914   \n",
       "Córdoba                      Córdoba         house          339.074551   210   \n",
       "Bs.As. G.B.A. Zona Norte     Vicente López   apartment      849.464267  1363   \n",
       "Bs.As. G.B.A. Zona Sur       La Plata        house          580.974937   265   \n",
       "Bs.As. G.B.A. Zona Oeste     La Matanza      apartment      506.831824   389   \n",
       "Bs.As. G.B.A. Zona Norte     San Isidro      house          608.869569   950   \n",
       "                             Escobar         house          433.624570   793   \n",
       "Bs.As. G.B.A. Zona Sur       Lomas de Zamora apartment      506.828392   815   \n",
       "                             La Plata        apartment      496.831600   598   \n",
       "Bs.As. G.B.A. Zona Norte     Pilar           house          505.266135  1202   \n",
       "Bs.As. G.B.A. Zona Oeste     Morón           apartment      442.554520   667   \n",
       "Bs.As. G.B.A. Zona Norte     Vicente López   house          588.072260   726   \n",
       "\n",
       "                                                           usd_per_m2_2  \\\n",
       "                                                                   mean   \n",
       "provincia                    ciudad          property_type                \n",
       "Buenos Aires Costa Atlántica Mar del Plata   apartment      1939.210364   \n",
       "Bs.As. G.B.A. Zona Norte     Tigre           house          1951.398657   \n",
       "Bs.As. G.B.A. Zona Sur       Lomas de Zamora house          1384.156061   \n",
       "Bs.As. G.B.A. Zona Norte     Tigre           apartment      2499.103360   \n",
       "Córdoba                      Córdoba         house          1255.528798   \n",
       "Bs.As. G.B.A. Zona Norte     Vicente López   apartment      3070.254809   \n",
       "Bs.As. G.B.A. Zona Sur       La Plata        house          1492.484930   \n",
       "Bs.As. G.B.A. Zona Oeste     La Matanza      apartment      1971.952269   \n",
       "Bs.As. G.B.A. Zona Norte     San Isidro      house          1874.288131   \n",
       "                             Escobar         house          1425.429927   \n",
       "Bs.As. G.B.A. Zona Sur       Lomas de Zamora apartment      2150.514590   \n",
       "                             La Plata        apartment      1698.321391   \n",
       "Bs.As. G.B.A. Zona Norte     Pilar           house          1462.804473   \n",
       "Bs.As. G.B.A. Zona Oeste     Morón           apartment      1931.368302   \n",
       "Bs.As. G.B.A. Zona Norte     Vicente López   house          1880.130871   \n",
       "\n",
       "                                                                              \n",
       "                                                                   std count  \n",
       "provincia                    ciudad          property_type                    \n",
       "Buenos Aires Costa Atlántica Mar del Plata   apartment      535.268024   917  \n",
       "Bs.As. G.B.A. Zona Norte     Tigre           house          651.248168   858  \n",
       "Bs.As. G.B.A. Zona Sur       Lomas de Zamora house          533.035214   801  \n",
       "Bs.As. G.B.A. Zona Norte     Tigre           apartment      712.255133   663  \n",
       "Córdoba                      Córdoba         house          926.594816   593  \n",
       "Bs.As. G.B.A. Zona Norte     Vicente López   apartment      827.409718   566  \n",
       "Bs.As. G.B.A. Zona Sur       La Plata        house          557.511626   515  \n",
       "Bs.As. G.B.A. Zona Oeste     La Matanza      apartment      510.201628   489  \n",
       "Bs.As. G.B.A. Zona Norte     San Isidro      house          625.317530   460  \n",
       "                             Escobar         house          609.771963   448  \n",
       "Bs.As. G.B.A. Zona Sur       Lomas de Zamora apartment      444.993014   428  \n",
       "                             La Plata        apartment      393.060586   401  \n",
       "Bs.As. G.B.A. Zona Norte     Pilar           house          630.961810   393  \n",
       "Bs.As. G.B.A. Zona Oeste     Morón           apartment      407.804286   384  \n",
       "Bs.As. G.B.A. Zona Norte     Vicente López   house          626.066158   365  "
      ]
     },
     "execution_count": 61,
     "metadata": {},
     "output_type": "execute_result"
    }
   ],
   "source": [
    "#Comparamos promedio y desvío estándard de las combinaciones provincia/ciudad/property_type que más valores tenemos en el campo nuevo de precio\n",
    "#Al campo original (price_usd_per_m2) lo limitamos entre 500 y 6000 ya que el campo nuevo sólo lo agregamos en ese rango\n",
    "\n",
    "\n",
    "maskm2 = (datos['price_usd_per_m2'] > 500) & (datos['price_usd_per_m2'] < 6000) | (datos['usd_per_m2_2'].notnull())\n",
    "masknoCap = datos['provincia'] != 'Capital Federal'\n",
    "datos_agrup =datos[maskm2 & masknoCap].groupby(['provincia', 'ciudad', 'property_type']).agg({'price_usd_per_m2': ['mean', 'std', 'count'], \n",
    "                                                             'usd_per_m2_2': ['mean', 'std', 'count']})\n",
    "datos_agrup.sort_values(('usd_per_m2_2', 'count'), ascending=False).head(15)\n"
   ]
  },
  {
   "cell_type": "code",
   "execution_count": 62,
   "metadata": {},
   "outputs": [
    {
     "data": {
      "text/html": [
       "<div>\n",
       "<style scoped>\n",
       "    .dataframe tbody tr th:only-of-type {\n",
       "        vertical-align: middle;\n",
       "    }\n",
       "\n",
       "    .dataframe tbody tr th {\n",
       "        vertical-align: top;\n",
       "    }\n",
       "\n",
       "    .dataframe thead tr th {\n",
       "        text-align: left;\n",
       "    }\n",
       "\n",
       "    .dataframe thead tr:last-of-type th {\n",
       "        text-align: right;\n",
       "    }\n",
       "</style>\n",
       "<table border=\"1\" class=\"dataframe\">\n",
       "  <thead>\n",
       "    <tr>\n",
       "      <th></th>\n",
       "      <th></th>\n",
       "      <th></th>\n",
       "      <th colspan=\"3\" halign=\"left\">price_usd_per_m2</th>\n",
       "      <th colspan=\"3\" halign=\"left\">usd_per_m2_2</th>\n",
       "    </tr>\n",
       "    <tr>\n",
       "      <th></th>\n",
       "      <th></th>\n",
       "      <th></th>\n",
       "      <th>mean</th>\n",
       "      <th>std</th>\n",
       "      <th>count</th>\n",
       "      <th>mean</th>\n",
       "      <th>std</th>\n",
       "      <th>count</th>\n",
       "    </tr>\n",
       "    <tr>\n",
       "      <th>ciudad</th>\n",
       "      <th>barrio1</th>\n",
       "      <th>property_type</th>\n",
       "      <th></th>\n",
       "      <th></th>\n",
       "      <th></th>\n",
       "      <th></th>\n",
       "      <th></th>\n",
       "      <th></th>\n",
       "    </tr>\n",
       "  </thead>\n",
       "  <tbody>\n",
       "    <tr>\n",
       "      <th rowspan=\"15\" valign=\"top\">Capital Federal</th>\n",
       "      <th>Palermo</th>\n",
       "      <th>apartment</th>\n",
       "      <td>3267.368270</td>\n",
       "      <td>885.445453</td>\n",
       "      <td>2573</td>\n",
       "      <td>3163.330657</td>\n",
       "      <td>887.100077</td>\n",
       "      <td>453</td>\n",
       "    </tr>\n",
       "    <tr>\n",
       "      <th>Belgrano</th>\n",
       "      <th>apartment</th>\n",
       "      <td>3103.608970</td>\n",
       "      <td>755.599333</td>\n",
       "      <td>1932</td>\n",
       "      <td>3062.154112</td>\n",
       "      <td>758.910102</td>\n",
       "      <td>324</td>\n",
       "    </tr>\n",
       "    <tr>\n",
       "      <th>Caballito</th>\n",
       "      <th>apartment</th>\n",
       "      <td>2473.293396</td>\n",
       "      <td>479.477095</td>\n",
       "      <td>1550</td>\n",
       "      <td>2430.778342</td>\n",
       "      <td>570.699880</td>\n",
       "      <td>297</td>\n",
       "    </tr>\n",
       "    <tr>\n",
       "      <th>Recoleta</th>\n",
       "      <th>apartment</th>\n",
       "      <td>3253.156680</td>\n",
       "      <td>844.546704</td>\n",
       "      <td>1090</td>\n",
       "      <td>3072.140606</td>\n",
       "      <td>786.529508</td>\n",
       "      <td>199</td>\n",
       "    </tr>\n",
       "    <tr>\n",
       "      <th>Villa Urquiza</th>\n",
       "      <th>apartment</th>\n",
       "      <td>2540.308867</td>\n",
       "      <td>422.938569</td>\n",
       "      <td>970</td>\n",
       "      <td>2520.946062</td>\n",
       "      <td>548.497952</td>\n",
       "      <td>183</td>\n",
       "    </tr>\n",
       "    <tr>\n",
       "      <th>Flores</th>\n",
       "      <th>apartment</th>\n",
       "      <td>2083.413897</td>\n",
       "      <td>388.891222</td>\n",
       "      <td>839</td>\n",
       "      <td>2021.531467</td>\n",
       "      <td>359.774317</td>\n",
       "      <td>173</td>\n",
       "    </tr>\n",
       "    <tr>\n",
       "      <th>Monserrat</th>\n",
       "      <th>apartment</th>\n",
       "      <td>2134.715442</td>\n",
       "      <td>562.656036</td>\n",
       "      <td>274</td>\n",
       "      <td>2243.269970</td>\n",
       "      <td>422.047788</td>\n",
       "      <td>158</td>\n",
       "    </tr>\n",
       "    <tr>\n",
       "      <th>Balvanera</th>\n",
       "      <th>apartment</th>\n",
       "      <td>1954.858611</td>\n",
       "      <td>480.799102</td>\n",
       "      <td>415</td>\n",
       "      <td>1906.616812</td>\n",
       "      <td>400.384843</td>\n",
       "      <td>131</td>\n",
       "    </tr>\n",
       "    <tr>\n",
       "      <th>San Telmo</th>\n",
       "      <th>apartment</th>\n",
       "      <td>2375.152130</td>\n",
       "      <td>567.877259</td>\n",
       "      <td>918</td>\n",
       "      <td>2320.995845</td>\n",
       "      <td>466.261080</td>\n",
       "      <td>126</td>\n",
       "    </tr>\n",
       "    <tr>\n",
       "      <th>Nuñez</th>\n",
       "      <th>apartment</th>\n",
       "      <td>3060.117617</td>\n",
       "      <td>859.737583</td>\n",
       "      <td>458</td>\n",
       "      <td>3053.258287</td>\n",
       "      <td>693.584771</td>\n",
       "      <td>122</td>\n",
       "    </tr>\n",
       "    <tr>\n",
       "      <th>Almagro</th>\n",
       "      <th>apartment</th>\n",
       "      <td>2248.286685</td>\n",
       "      <td>502.465890</td>\n",
       "      <td>706</td>\n",
       "      <td>2222.833961</td>\n",
       "      <td>378.694497</td>\n",
       "      <td>117</td>\n",
       "    </tr>\n",
       "    <tr>\n",
       "      <th>Villa Crespo</th>\n",
       "      <th>apartment</th>\n",
       "      <td>2548.230588</td>\n",
       "      <td>503.147813</td>\n",
       "      <td>873</td>\n",
       "      <td>2467.204556</td>\n",
       "      <td>558.492324</td>\n",
       "      <td>106</td>\n",
       "    </tr>\n",
       "    <tr>\n",
       "      <th>Barrio Norte</th>\n",
       "      <th>apartment</th>\n",
       "      <td>3000.903922</td>\n",
       "      <td>856.912873</td>\n",
       "      <td>818</td>\n",
       "      <td>2675.966357</td>\n",
       "      <td>545.611518</td>\n",
       "      <td>99</td>\n",
       "    </tr>\n",
       "    <tr>\n",
       "      <th>San Cristobal</th>\n",
       "      <th>apartment</th>\n",
       "      <td>2240.282509</td>\n",
       "      <td>1108.599814</td>\n",
       "      <td>211</td>\n",
       "      <td>2078.085641</td>\n",
       "      <td>387.333403</td>\n",
       "      <td>82</td>\n",
       "    </tr>\n",
       "    <tr>\n",
       "      <th>Floresta</th>\n",
       "      <th>apartment</th>\n",
       "      <td>1913.494005</td>\n",
       "      <td>347.763150</td>\n",
       "      <td>191</td>\n",
       "      <td>1966.045062</td>\n",
       "      <td>443.407371</td>\n",
       "      <td>80</td>\n",
       "    </tr>\n",
       "  </tbody>\n",
       "</table>\n",
       "</div>"
      ],
      "text/plain": [
       "                                            price_usd_per_m2               \\\n",
       "                                                        mean          std   \n",
       "ciudad          barrio1       property_type                                 \n",
       "Capital Federal Palermo       apartment          3267.368270   885.445453   \n",
       "                Belgrano      apartment          3103.608970   755.599333   \n",
       "                Caballito     apartment          2473.293396   479.477095   \n",
       "                Recoleta      apartment          3253.156680   844.546704   \n",
       "                Villa Urquiza apartment          2540.308867   422.938569   \n",
       "                Flores        apartment          2083.413897   388.891222   \n",
       "                Monserrat     apartment          2134.715442   562.656036   \n",
       "                Balvanera     apartment          1954.858611   480.799102   \n",
       "                San Telmo     apartment          2375.152130   567.877259   \n",
       "                Nuñez         apartment          3060.117617   859.737583   \n",
       "                Almagro       apartment          2248.286685   502.465890   \n",
       "                Villa Crespo  apartment          2548.230588   503.147813   \n",
       "                Barrio Norte  apartment          3000.903922   856.912873   \n",
       "                San Cristobal apartment          2240.282509  1108.599814   \n",
       "                Floresta      apartment          1913.494005   347.763150   \n",
       "\n",
       "                                                  usd_per_m2_2              \\\n",
       "                                            count         mean         std   \n",
       "ciudad          barrio1       property_type                                  \n",
       "Capital Federal Palermo       apartment      2573  3163.330657  887.100077   \n",
       "                Belgrano      apartment      1932  3062.154112  758.910102   \n",
       "                Caballito     apartment      1550  2430.778342  570.699880   \n",
       "                Recoleta      apartment      1090  3072.140606  786.529508   \n",
       "                Villa Urquiza apartment       970  2520.946062  548.497952   \n",
       "                Flores        apartment       839  2021.531467  359.774317   \n",
       "                Monserrat     apartment       274  2243.269970  422.047788   \n",
       "                Balvanera     apartment       415  1906.616812  400.384843   \n",
       "                San Telmo     apartment       918  2320.995845  466.261080   \n",
       "                Nuñez         apartment       458  3053.258287  693.584771   \n",
       "                Almagro       apartment       706  2222.833961  378.694497   \n",
       "                Villa Crespo  apartment       873  2467.204556  558.492324   \n",
       "                Barrio Norte  apartment       818  2675.966357  545.611518   \n",
       "                San Cristobal apartment       211  2078.085641  387.333403   \n",
       "                Floresta      apartment       191  1966.045062  443.407371   \n",
       "\n",
       "                                                   \n",
       "                                            count  \n",
       "ciudad          barrio1       property_type        \n",
       "Capital Federal Palermo       apartment       453  \n",
       "                Belgrano      apartment       324  \n",
       "                Caballito     apartment       297  \n",
       "                Recoleta      apartment       199  \n",
       "                Villa Urquiza apartment       183  \n",
       "                Flores        apartment       173  \n",
       "                Monserrat     apartment       158  \n",
       "                Balvanera     apartment       131  \n",
       "                San Telmo     apartment       126  \n",
       "                Nuñez         apartment       122  \n",
       "                Almagro       apartment       117  \n",
       "                Villa Crespo  apartment       106  \n",
       "                Barrio Norte  apartment        99  \n",
       "                San Cristobal apartment        82  \n",
       "                Floresta      apartment        80  "
      ]
     },
     "execution_count": 62,
     "metadata": {},
     "output_type": "execute_result"
    }
   ],
   "source": [
    "maskm2 = (datos['price_usd_per_m2'] > 500) & (datos['price_usd_per_m2'] < 6000) | (datos['usd_per_m2_2'].notnull())\n",
    "masknoCap = datos['provincia'] == 'Capital Federal'\n",
    "datos_agrup =datos[maskm2 & masknoCap].groupby(['ciudad', 'barrio1', 'property_type']).agg({'price_usd_per_m2': ['mean', 'std', 'count'], \n",
    "                                                             'usd_per_m2_2': ['mean', 'std', 'count']})\n",
    "datos_agrup.sort_values(('usd_per_m2_2', 'count'), ascending=False).head(15)"
   ]
  },
  {
   "cell_type": "code",
   "execution_count": 63,
   "metadata": {},
   "outputs": [],
   "source": [
    "datos['price_usd_per_m2'] = datos.apply(lambda x: x['price_usd_per_m2'] if x['price_usd_per_m2'] > 1 else x['usd_per_m2_2'], axis=1)"
   ]
  },
  {
   "cell_type": "code",
   "execution_count": 64,
   "metadata": {},
   "outputs": [
    {
     "data": {
      "text/plain": [
       "88581"
      ]
     },
     "execution_count": 64,
     "metadata": {},
     "output_type": "execute_result"
    }
   ],
   "source": [
    "datos.price_usd_per_m2.notnull().sum()"
   ]
  },
  {
   "cell_type": "markdown",
   "metadata": {},
   "source": [
    "### Verificamos outliers en el campo price_usd_per_m2"
   ]
  },
  {
   "cell_type": "code",
   "execution_count": 65,
   "metadata": {},
   "outputs": [
    {
     "data": {
      "text/plain": [
       "<AxesSubplot:xlabel='price_usd_per_m2', ylabel='Count'>"
      ]
     },
     "execution_count": 65,
     "metadata": {},
     "output_type": "execute_result"
    },
    {
     "data": {
      "image/png": "[encoded data removed]",
      "text/plain": [
       "<Figure size 640x480 with 1 Axes>"
      ]
     },
     "metadata": {},
     "output_type": "display_data"
    }
   ],
   "source": [
    "mask = datos.price_usd_per_m2 < 10000\n",
    "sns.histplot(datos[mask].price_usd_per_m2, color='blue', bins=100)"
   ]
  },
  {
   "cell_type": "code",
   "execution_count": 66,
   "metadata": {},
   "outputs": [
    {
     "name": "stdout",
     "output_type": "stream",
     "text": [
      "en todo el país hay 5333 de menos de 500 usd x m2\n",
      "en todo el país hay 1489 de más de 6000 usd x m2\n"
     ]
    }
   ],
   "source": [
    "mask = datos.price_usd_per_m2 < 500\n",
    "print(f'en todo el país hay {datos[mask].price_usd_per_m2.count()} de menos de 500 usd x m2')\n",
    "\n",
    "mask1 = datos.price_usd_per_m2 > 6000\n",
    "print(f'en todo el país hay {datos[mask1].price_usd_per_m2.count()} de más de 6000 usd x m2')\n"
   ]
  },
  {
   "cell_type": "code",
   "execution_count": 67,
   "metadata": {},
   "outputs": [
    {
     "data": {
      "text/html": [
       "<div>\n",
       "<style scoped>\n",
       "    .dataframe tbody tr th:only-of-type {\n",
       "        vertical-align: middle;\n",
       "    }\n",
       "\n",
       "    .dataframe tbody tr th {\n",
       "        vertical-align: top;\n",
       "    }\n",
       "\n",
       "    .dataframe thead th {\n",
       "        text-align: right;\n",
       "    }\n",
       "</style>\n",
       "<table border=\"1\" class=\"dataframe\">\n",
       "  <thead>\n",
       "    <tr style=\"text-align: right;\">\n",
       "      <th></th>\n",
       "      <th></th>\n",
       "      <th></th>\n",
       "      <th></th>\n",
       "      <th>price_usd_per_m2</th>\n",
       "    </tr>\n",
       "    <tr>\n",
       "      <th>provincia</th>\n",
       "      <th>ciudad</th>\n",
       "      <th>barrio1</th>\n",
       "      <th>property_type</th>\n",
       "      <th></th>\n",
       "    </tr>\n",
       "  </thead>\n",
       "  <tbody>\n",
       "    <tr>\n",
       "      <th>Capital Federal</th>\n",
       "      <th>Capital Federal</th>\n",
       "      <th>Boedo</th>\n",
       "      <th>apartment</th>\n",
       "      <td>403</td>\n",
       "    </tr>\n",
       "    <tr>\n",
       "      <th>Buenos Aires Costa Atlántica</th>\n",
       "      <th>Mar del Plata</th>\n",
       "      <th></th>\n",
       "      <th>house</th>\n",
       "      <td>368</td>\n",
       "    </tr>\n",
       "    <tr>\n",
       "      <th>Bs.As. G.B.A. Zona Norte</th>\n",
       "      <th>Tigre</th>\n",
       "      <th>Benavidez</th>\n",
       "      <th>house</th>\n",
       "      <td>264</td>\n",
       "    </tr>\n",
       "    <tr>\n",
       "      <th rowspan=\"2\" valign=\"top\">Capital Federal</th>\n",
       "      <th rowspan=\"2\" valign=\"top\">Capital Federal</th>\n",
       "      <th>Puerto Madero</th>\n",
       "      <th>apartment</th>\n",
       "      <td>218</td>\n",
       "    </tr>\n",
       "    <tr>\n",
       "      <th>San Cristobal</th>\n",
       "      <th>apartment</th>\n",
       "      <td>193</td>\n",
       "    </tr>\n",
       "    <tr>\n",
       "      <th>Bs.As. G.B.A. Zona Norte</th>\n",
       "      <th>Pilar</th>\n",
       "      <th></th>\n",
       "      <th>house</th>\n",
       "      <td>177</td>\n",
       "    </tr>\n",
       "    <tr>\n",
       "      <th>Córdoba</th>\n",
       "      <th>Villa Carlos Paz</th>\n",
       "      <th></th>\n",
       "      <th>house</th>\n",
       "      <td>151</td>\n",
       "    </tr>\n",
       "  </tbody>\n",
       "</table>\n",
       "</div>"
      ],
      "text/plain": [
       "                                                                           price_usd_per_m2\n",
       "provincia                    ciudad           barrio1       property_type                  \n",
       "Capital Federal              Capital Federal  Boedo         apartment                   403\n",
       "Buenos Aires Costa Atlántica Mar del Plata                  house                       368\n",
       "Bs.As. G.B.A. Zona Norte     Tigre            Benavidez     house                       264\n",
       "Capital Federal              Capital Federal  Puerto Madero apartment                   218\n",
       "                                              San Cristobal apartment                   193\n",
       "Bs.As. G.B.A. Zona Norte     Pilar                          house                       177\n",
       "Córdoba                      Villa Carlos Paz               house                       151"
      ]
     },
     "execution_count": 67,
     "metadata": {},
     "output_type": "execute_result"
    }
   ],
   "source": [
    "mask2 = (datos.price_usd_per_m2 < 500) | (datos.price_usd_per_m2 > 6000)\n",
    "datos_outliers_usd = datos[mask2].groupby(['provincia', 'ciudad', 'barrio1', 'property_type']).agg({'price_usd_per_m2': 'count'})\n",
    "datos_outliers_usd.sort_values('price_usd_per_m2', ascending=False).head(7)"
   ]
  },
  {
   "cell_type": "code",
   "execution_count": 68,
   "metadata": {},
   "outputs": [
    {
     "data": {
      "text/plain": [
       "357"
      ]
     },
     "execution_count": 68,
     "metadata": {},
     "output_type": "execute_result"
    }
   ],
   "source": [
    "# Capital Federal | Capital Federal | Boedo | apartment con price_usd_per_m2 < 500 y mayor a 6000\n",
    "# en el 100% de los cosas corresponden a proyectos desde el pozo \n",
    "# en casi todos los casos price_usd_per_m2 = price_per_m2 pero no guardan relación ni en $ ni en usd con 'description'\n",
    "# vemos cuantos quedan entre 500 y 6000 usd en la misma zona paraa el mismo property_type\n",
    "maskboedo = (datos.price_usd_per_m2 > 500) & (datos.price_usd_per_m2 < 6000) &\\\n",
    "             (datos.provincia == 'Capital Federal') & (datos.ciudad == 'Capital Federal') &\\\n",
    "             (datos.barrio1 == 'Boedo') & (datos.property_type == 'apartment')\n",
    "datos[maskboedo].price_usd_per_m2.count() # quedan 357 en el dataset con las mismas características"
   ]
  },
  {
   "cell_type": "code",
   "execution_count": 69,
   "metadata": {},
   "outputs": [],
   "source": [
    "# eliminamos entonces los 403 que no son consistentes\n",
    "maskboedodrop = ((datos.price_usd_per_m2 < 500) | (datos.price_usd_per_m2 > 6000)) &\\\n",
    "             (datos.provincia == 'Capital Federal') & (datos.ciudad == 'Capital Federal') &\\\n",
    "             (datos.barrio1 == 'Boedo') & (datos.property_type == 'apartment')\n",
    "listboedodrop = datos[maskboedodrop].index\n",
    "datos = datos.drop(listboedodrop, axis=0)"
   ]
  },
  {
   "cell_type": "code",
   "execution_count": 70,
   "metadata": {},
   "outputs": [],
   "source": [
    "# Buenos Aires Costa Atlántica | Mar del Plata |  | house con price_usd_per_m2 < 500 y mayor a 6000\n",
    "# todos con precios en usd x m2 debajo de 500 - pudimos chequear con el campo description valores correctos de 309, 450 y 442\n",
    "# maskMardel = (datos.index==9529)\n",
    "# datos[maskMardel][['price_usd_per_m2', 'surface_total_in_m2']]\n",
    "# eliminamos sólo los que tienen price_usd_per_m2 < 300 - 186 registros\n",
    "maskMardel = (datos.price_usd_per_m2 < 300) &\\\n",
    "             (datos.provincia == 'Buenos Aires Costa Atlántica') & (datos.ciudad == 'Mar del Plata') &\\\n",
    "             (datos.property_type == 'house')\n",
    "listMardeldrop = datos[maskMardel].index\n",
    "datos = datos.drop(listMardeldrop, axis=0)"
   ]
  },
  {
   "cell_type": "code",
   "execution_count": 71,
   "metadata": {},
   "outputs": [],
   "source": [
    "# Bs.As. G.B.A. Zona Norte | Tigre | Benavidez | house con price_usd_per_m2 < 500 y mayor a 6000\n",
    "# todos con precios x m2 debajo de 500 - pudimos chequear con el campo description valores correctos 120, 187, 246 y 300\n",
    "# el mínimo valor es 110 por lo cual no eliminamos ninguno\n",
    "# maskTigre = (datos.index==110636)\n",
    "# datos[maskTigre][['price_usd_per_m2', 'surface_total_in_m2']]"
   ]
  },
  {
   "cell_type": "code",
   "execution_count": 72,
   "metadata": {},
   "outputs": [],
   "source": [
    "# Capital Federal | Capital Federal | Puerto Madero | apartment con price_usd_per_m2 < 500 y mayor a 6000\n",
    "# son todos apartments con precios x m2 entre 6000 y 10000\n",
    "# dejamos todos"
   ]
  },
  {
   "cell_type": "code",
   "execution_count": 73,
   "metadata": {},
   "outputs": [
    {
     "data": {
      "text/plain": [
       "293"
      ]
     },
     "execution_count": 73,
     "metadata": {},
     "output_type": "execute_result"
    }
   ],
   "source": [
    "# Capital Federal | Capital Federal | San Cristobal | apartment con price_usd_per_m2 < 500 y mayor a 6000\n",
    "# en el 100% de los cosas corresponden a proyectos desde el pozo \n",
    "# en casi todos los casos price_usd_per_m2 = price_per_m2 pero no guardan relación ni en $ ni en usd con 'description'\n",
    "# vemos cuantos quedan entre 500 y 6000 usd en la misma zona paraa el mismo property_type\n",
    "maskSanCrist = (datos.price_usd_per_m2 > 500) & (datos.price_usd_per_m2 < 6000) &\\\n",
    "             (datos.provincia == 'Capital Federal') & (datos.ciudad == 'Capital Federal') &\\\n",
    "             (datos.barrio1 == 'San Cristobal') & (datos.property_type == 'apartment')\n",
    "datos[maskSanCrist].price_usd_per_m2.count() # quedan 293 en el dataset con las mismas características"
   ]
  },
  {
   "cell_type": "code",
   "execution_count": 74,
   "metadata": {},
   "outputs": [],
   "source": [
    "# eliminamos entonces los 193 que no son consistentes\n",
    "maskSanCristdrop = ((datos.price_usd_per_m2 < 500) | (datos.price_usd_per_m2 > 6000)) &\\\n",
    "             (datos.provincia == 'Capital Federal') & (datos.ciudad == 'Capital Federal') &\\\n",
    "             (datos.barrio1 == 'San Cristobal') & (datos.property_type == 'apartment')\n",
    "listSanCristdrop = datos[maskSanCristdrop].index\n",
    "datos = datos.drop(listSanCristdrop, axis=0)"
   ]
  },
  {
   "cell_type": "code",
   "execution_count": 75,
   "metadata": {},
   "outputs": [
    {
     "data": {
      "text/plain": [
       "(120435, 25)"
      ]
     },
     "execution_count": 75,
     "metadata": {},
     "output_type": "execute_result"
    }
   ],
   "source": [
    "# BsAs. G.B.A. Zona Norte | Pilar | | house con price_usd_per_m2 < 500 y mayor a 6000\n",
    "# las que están x debajo de 500 usd x m2 son todas reales muy afectadas por la superficie descubierta\n",
    "# arriba de 6000 hay 3 que dropeamos\n",
    "maskPilardrop = (datos.price_usd_per_m2 > 6000) &\\\n",
    "             (datos.provincia == 'Bs.As. G.B.A. Zona Norte') & (datos.ciudad == 'Pilar') &\\\n",
    "             (datos.property_type == 'house')\n",
    "listPilardrop = datos[maskPilardrop].index\n",
    "datos = datos.drop(listPilardrop, axis=0)\n",
    "datos.shape"
   ]
  },
  {
   "cell_type": "code",
   "execution_count": 76,
   "metadata": {},
   "outputs": [
    {
     "data": {
      "text/plain": [
       "(120426, 25)"
      ]
     },
     "execution_count": 76,
     "metadata": {},
     "output_type": "execute_result"
    }
   ],
   "source": [
    "# Córdoba | Villa Carlos Paz | | house con price_usd_per_m2 < 500 y mayor a 6000\n",
    "# todas debajo de 500 usd x m2 y verificado valores de 100 a 200\n",
    "# dropeamos sólo debajo de 100 usd x m2 porque parecen casas muy destruídas\n",
    "maskCarlosdrop = (datos.price_usd_per_m2 < 100) &\\\n",
    "                 (datos.provincia == 'Córdoba') & (datos.ciudad == 'Villa Carlos Paz') &\\\n",
    "                 (datos.property_type == 'house')\n",
    "listCarlosDrop = datos[maskCarlosdrop].index\n",
    "datos = datos.drop(listCarlosDrop, axis=0)\n",
    "datos.shape"
   ]
  },
  {
   "cell_type": "code",
   "execution_count": 77,
   "metadata": {},
   "outputs": [
    {
     "data": {
      "text/plain": [
       "(120418, 25)"
      ]
     },
     "execution_count": 77,
     "metadata": {},
     "output_type": "execute_result"
    }
   ],
   "source": [
    "# Buenos Aires Costa Atlántica | Pinamar | | house con price_usd_per_m2 < 500 y mayor a 6000\n",
    "# Son todas debajo de 500 usd y pudimos verificar rangos de 200 a 500\n",
    "# dropeamos debajo de 200\n",
    "maskPinadrop = (datos.price_usd_per_m2 < 200) &\\\n",
    "                 (datos.provincia == 'Buenos Aires Costa Atlántica') & (datos.ciudad == 'Pinamar') &\\\n",
    "                 (datos.property_type == 'house')\n",
    "listPinaDrop = datos[maskPinadrop].index\n",
    "datos = datos.drop(listPinaDrop, axis=0)\n",
    "datos.shape"
   ]
  },
  {
   "cell_type": "code",
   "execution_count": 78,
   "metadata": {},
   "outputs": [
    {
     "data": {
      "text/plain": [
       "3300"
      ]
     },
     "execution_count": 78,
     "metadata": {},
     "output_type": "execute_result"
    }
   ],
   "source": [
    "# Santa Fe | Rosario | | department con price_usd_per_m2 < 500 y mayor a 6000\n",
    "# todos los vimos como errores < 500 no valida ninguno con 'description' > 6000 son emprendimientos desde el pozo y tampoco valida\n",
    "maskRosario = (datos.price_usd_per_m2 > 500) & (datos.price_usd_per_m2 < 6000) &\\\n",
    "             (datos.provincia == 'Santa Fe') & (datos.ciudad == 'Rosario') &\\\n",
    "             (datos.property_type == 'apartment')\n",
    "datos[maskRosario].price_usd_per_m2.count() # quedan 3300 en el dataset con las mismas características"
   ]
  },
  {
   "cell_type": "code",
   "execution_count": 79,
   "metadata": {},
   "outputs": [],
   "source": [
    "# eliminamos entonces los 119 que no son consistentes\n",
    "maskRosariodrop = ((datos.price_usd_per_m2 < 500) | (datos.price_usd_per_m2 > 6000)) &\\\n",
    "             (datos.provincia == 'Santa Fe') & (datos.ciudad == 'Rosario') &\\\n",
    "             (datos.property_type == 'apartment')\n",
    "listRosariodrop = datos[maskRosariodrop].index\n",
    "datos = datos.drop(listRosariodrop, axis=0)"
   ]
  },
  {
   "cell_type": "markdown",
   "metadata": {},
   "source": [
    "# Busqueda de outliers en variables de precio"
   ]
  },
  {
   "cell_type": "code",
   "execution_count": 105,
   "metadata": {},
   "outputs": [
    {
     "data": {
      "text/plain": [
       "<AxesSubplot:xlabel='price_usd_per_m2', ylabel='Count'>"
      ]
     },
     "execution_count": 105,
     "metadata": {},
     "output_type": "execute_result"
    },
    {
     "data": {
      "image/png": "[encoded data removed]",
      "text/plain": [
       "<Figure size 640x480 with 1 Axes>"
      ]
     },
     "metadata": {},
     "output_type": "display_data"
    }
   ],
   "source": [
    "sns.histplot(datos['price_usd_per_m2'], color = \"orange\",binwidth=100)\n",
    "#sns.histplot(data['y'], bins = 50);"
   ]
  },
  {
   "cell_type": "markdown",
   "metadata": {},
   "source": [
    "creo que aca se ve tan feo el histograma porque hay outliers"
   ]
  },
  {
   "cell_type": "code",
   "execution_count": 106,
   "metadata": {},
   "outputs": [],
   "source": [
    "precio_filtrado=datos['price_usd_per_m2']"
   ]
  },
  {
   "cell_type": "code",
   "execution_count": 109,
   "metadata": {},
   "outputs": [],
   "source": [
    "precio_filtrado2=precio_filtrado.apply(lambda x: 0 if x>20000 else x)"
   ]
  },
  {
   "cell_type": "code",
   "execution_count": 110,
   "metadata": {},
   "outputs": [
    {
     "data": {
      "text/plain": [
       "<AxesSubplot:xlabel='price_usd_per_m2', ylabel='Count'>"
      ]
     },
     "execution_count": 110,
     "metadata": {},
     "output_type": "execute_result"
    },
    {
     "data": {
      "image/png": "[encoded data removed]",
      "text/plain": [
       "<Figure size 640x480 with 1 Axes>"
      ]
     },
     "metadata": {},
     "output_type": "display_data"
    }
   ],
   "source": [
    "sns.histplot(precio_filtrado2, color = \"orange\")"
   ]
  },
  {
   "cell_type": "code",
   "execution_count": 84,
   "metadata": {},
   "outputs": [
    {
     "data": {
      "text/plain": [
       "<AxesSubplot:xlabel='price_aprox_usd', ylabel='Density'>"
      ]
     },
     "execution_count": 84,
     "metadata": {},
     "output_type": "execute_result"
    },
    {
     "data": {
      "image/png": "[encoded data removed]",
      "text/plain": [
       "<Figure size 640x480 with 1 Axes>"
      ]
     },
     "metadata": {},
     "output_type": "display_data"
    }
   ],
   "source": [
    "sns.kdeplot(precio_filtrado2, shade=True)"
   ]
  },
  {
   "cell_type": "code",
   "execution_count": 85,
   "metadata": {},
   "outputs": [
    {
     "data": {
      "text/plain": [
       "<AxesSubplot:xlabel='price_aprox_usd', ylabel='Density'>"
      ]
     },
     "execution_count": 85,
     "metadata": {},
     "output_type": "execute_result"
    },
    {
     "data": {
      "image/png": "[encoded data removed]",
      "text/plain": [
       "<Figure size 640x480 with 1 Axes>"
      ]
     },
     "metadata": {},
     "output_type": "display_data"
    }
   ],
   "source": [
    "sns.kdeplot(precio_filtrado, shade=True)"
   ]
  },
  {
   "cell_type": "code",
   "execution_count": 86,
   "metadata": {},
   "outputs": [
    {
     "name": "stderr",
     "output_type": "stream",
     "text": [
      "c:\\Users\\fpeloso\\Anaconda3\\envs\\dhdsblend2021\\lib\\site-packages\\seaborn\\_decorators.py:36: FutureWarning: Pass the following variable as a keyword arg: x. From version 0.12, the only valid positional argument will be `data`, and passing other arguments without an explicit keyword will result in an error or misinterpretation.\n",
      "  warnings.warn(\n"
     ]
    },
    {
     "data": {
      "text/plain": [
       "<AxesSubplot:xlabel='price_aprox_usd'>"
      ]
     },
     "execution_count": 86,
     "metadata": {},
     "output_type": "execute_result"
    },
    {
     "data": {
      "image/png": "[encoded data removed]",
      "text/plain": [
       "<Figure size 640x480 with 1 Axes>"
      ]
     },
     "metadata": {},
     "output_type": "display_data"
    }
   ],
   "source": [
    "sns.boxplot(precio_filtrado2)"
   ]
  },
  {
   "cell_type": "code",
   "execution_count": 87,
   "metadata": {},
   "outputs": [],
   "source": [
    "\n",
    "precio_por_provincia=datos[['price_aprox_usd','provincia']]"
   ]
  },
  {
   "cell_type": "code",
   "execution_count": null,
   "metadata": {},
   "outputs": [],
   "source": []
  },
  {
   "cell_type": "code",
   "execution_count": 88,
   "metadata": {},
   "outputs": [],
   "source": [
    "precio_medio_por_provincia=precio_por_provincia.groupby('provincia').mean()"
   ]
  },
  {
   "cell_type": "code",
   "execution_count": 89,
   "metadata": {},
   "outputs": [
    {
     "data": {
      "text/html": [
       "<div>\n",
       "<style scoped>\n",
       "    .dataframe tbody tr th:only-of-type {\n",
       "        vertical-align: middle;\n",
       "    }\n",
       "\n",
       "    .dataframe tbody tr th {\n",
       "        vertical-align: top;\n",
       "    }\n",
       "\n",
       "    .dataframe thead th {\n",
       "        text-align: right;\n",
       "    }\n",
       "</style>\n",
       "<table border=\"1\" class=\"dataframe\">\n",
       "  <thead>\n",
       "    <tr style=\"text-align: right;\">\n",
       "      <th></th>\n",
       "      <th>price_aprox_usd</th>\n",
       "    </tr>\n",
       "    <tr>\n",
       "      <th>provincia</th>\n",
       "      <th></th>\n",
       "    </tr>\n",
       "  </thead>\n",
       "  <tbody>\n",
       "    <tr>\n",
       "      <th>Bs.As. G.B.A. Zona Norte</th>\n",
       "      <td>324142.230274</td>\n",
       "    </tr>\n",
       "    <tr>\n",
       "      <th>Bs.As. G.B.A. Zona Oeste</th>\n",
       "      <td>167545.648499</td>\n",
       "    </tr>\n",
       "    <tr>\n",
       "      <th>Bs.As. G.B.A. Zona Sur</th>\n",
       "      <td>198555.715572</td>\n",
       "    </tr>\n",
       "    <tr>\n",
       "      <th>Buenos Aires Costa Atlántica</th>\n",
       "      <td>143896.831339</td>\n",
       "    </tr>\n",
       "    <tr>\n",
       "      <th>Buenos Aires Interior</th>\n",
       "      <td>183249.996582</td>\n",
       "    </tr>\n",
       "    <tr>\n",
       "      <th>Capital Federal</th>\n",
       "      <td>261346.651424</td>\n",
       "    </tr>\n",
       "    <tr>\n",
       "      <th>Catamarca</th>\n",
       "      <td>725471.707308</td>\n",
       "    </tr>\n",
       "    <tr>\n",
       "      <th>Chaco</th>\n",
       "      <td>178583.551389</td>\n",
       "    </tr>\n",
       "    <tr>\n",
       "      <th>Chubut</th>\n",
       "      <td>342338.181524</td>\n",
       "    </tr>\n",
       "    <tr>\n",
       "      <th>Corrientes</th>\n",
       "      <td>206896.786681</td>\n",
       "    </tr>\n",
       "    <tr>\n",
       "      <th>Córdoba</th>\n",
       "      <td>203757.502636</td>\n",
       "    </tr>\n",
       "    <tr>\n",
       "      <th>Entre Ríos</th>\n",
       "      <td>148113.819692</td>\n",
       "    </tr>\n",
       "    <tr>\n",
       "      <th>Formosa</th>\n",
       "      <td>63463.367586</td>\n",
       "    </tr>\n",
       "    <tr>\n",
       "      <th>Jujuy</th>\n",
       "      <td>301584.442000</td>\n",
       "    </tr>\n",
       "    <tr>\n",
       "      <th>La Pampa</th>\n",
       "      <td>111053.792222</td>\n",
       "    </tr>\n",
       "    <tr>\n",
       "      <th>La Rioja</th>\n",
       "      <td>60954.385000</td>\n",
       "    </tr>\n",
       "    <tr>\n",
       "      <th>Mendoza</th>\n",
       "      <td>249705.485588</td>\n",
       "    </tr>\n",
       "    <tr>\n",
       "      <th>Misiones</th>\n",
       "      <td>121241.552299</td>\n",
       "    </tr>\n",
       "    <tr>\n",
       "      <th>Neuquén</th>\n",
       "      <td>219429.090401</td>\n",
       "    </tr>\n",
       "    <tr>\n",
       "      <th>Río Negro</th>\n",
       "      <td>300126.180693</td>\n",
       "    </tr>\n",
       "    <tr>\n",
       "      <th>Salta</th>\n",
       "      <td>312755.743529</td>\n",
       "    </tr>\n",
       "    <tr>\n",
       "      <th>San Juan</th>\n",
       "      <td>299575.820000</td>\n",
       "    </tr>\n",
       "    <tr>\n",
       "      <th>San Luis</th>\n",
       "      <td>282242.500433</td>\n",
       "    </tr>\n",
       "    <tr>\n",
       "      <th>Santa Cruz</th>\n",
       "      <td>176129.507895</td>\n",
       "    </tr>\n",
       "    <tr>\n",
       "      <th>Santa Fe</th>\n",
       "      <td>115404.318988</td>\n",
       "    </tr>\n",
       "    <tr>\n",
       "      <th>Santiago Del Estero</th>\n",
       "      <td>163428.393333</td>\n",
       "    </tr>\n",
       "    <tr>\n",
       "      <th>Tierra Del Fuego</th>\n",
       "      <td>180246.755161</td>\n",
       "    </tr>\n",
       "    <tr>\n",
       "      <th>Tucumán</th>\n",
       "      <td>158878.733192</td>\n",
       "    </tr>\n",
       "  </tbody>\n",
       "</table>\n",
       "</div>"
      ],
      "text/plain": [
       "                              price_aprox_usd\n",
       "provincia                                    \n",
       "Bs.As. G.B.A. Zona Norte        324142.230274\n",
       "Bs.As. G.B.A. Zona Oeste        167545.648499\n",
       "Bs.As. G.B.A. Zona Sur          198555.715572\n",
       "Buenos Aires Costa Atlántica    143896.831339\n",
       "Buenos Aires Interior           183249.996582\n",
       "Capital Federal                 261346.651424\n",
       "Catamarca                       725471.707308\n",
       "Chaco                           178583.551389\n",
       "Chubut                          342338.181524\n",
       "Corrientes                      206896.786681\n",
       "Córdoba                         203757.502636\n",
       "Entre Ríos                      148113.819692\n",
       "Formosa                          63463.367586\n",
       "Jujuy                           301584.442000\n",
       "La Pampa                        111053.792222\n",
       "La Rioja                         60954.385000\n",
       "Mendoza                         249705.485588\n",
       "Misiones                        121241.552299\n",
       "Neuquén                         219429.090401\n",
       "Río Negro                       300126.180693\n",
       "Salta                           312755.743529\n",
       "San Juan                        299575.820000\n",
       "San Luis                        282242.500433\n",
       "Santa Cruz                      176129.507895\n",
       "Santa Fe                        115404.318988\n",
       "Santiago Del Estero             163428.393333\n",
       "Tierra Del Fuego                180246.755161\n",
       "Tucumán                         158878.733192"
      ]
     },
     "execution_count": 89,
     "metadata": {},
     "output_type": "execute_result"
    }
   ],
   "source": [
    "precio_medio_por_provincia.head(10)\n",
    "precio_medio_por_provincia"
   ]
  },
  {
   "cell_type": "code",
   "execution_count": 90,
   "metadata": {},
   "outputs": [],
   "source": [
    "#with sns.axes_style(style='ticks'):\n",
    " #   g= sns.scatterplot(x='provincia', y='price_aprox_usd',data=precio_medio_por_provincia)\n",
    "  #  g.set_axis_labels(\"Provincia\", \"Precio Medio\")\n",
    "   # g.set_xticklabels(rotation=90) "
   ]
  },
  {
   "cell_type": "code",
   "execution_count": null,
   "metadata": {},
   "outputs": [],
   "source": []
  },
  {
   "cell_type": "code",
   "execution_count": 91,
   "metadata": {},
   "outputs": [
    {
     "data": {
      "image/png": "[encoded data removed]",
      "text/plain": [
       "<Figure size 500x500 with 1 Axes>"
      ]
     },
     "metadata": {},
     "output_type": "display_data"
    }
   ],
   "source": [
    "with sns.axes_style(style='ticks'):\n",
    "    g = sns.catplot(x = \"provincia\", y = \"price_aprox_usd\", data=precio_por_provincia, kind=\"box\")\n",
    "    g.set_axis_labels(\"Provincia\", \"Precio\")\n",
    "    #ax.tick_params(axis='x', rotation=90)\n",
    "    g.set_xticklabels(rotation=90) "
   ]
  },
  {
   "cell_type": "code",
   "execution_count": 92,
   "metadata": {},
   "outputs": [
    {
     "data": {
      "text/plain": [
       "<AxesSubplot:xlabel='lon', ylabel='lat'>"
      ]
     },
     "execution_count": 92,
     "metadata": {},
     "output_type": "execute_result"
    },
    {
     "data": {
      "image/png": "[encoded data removed]",
      "text/plain": [
       "<Figure size 640x480 with 1 Axes>"
      ]
     },
     "metadata": {},
     "output_type": "display_data"
    }
   ],
   "source": [
    "sns.scatterplot(data = datos[datos[\"ciudad\"] == \"Capital Federal\"].sample(1000), x=\"lon\", y=\"lat\",hue='property_type')"
   ]
  },
  {
   "cell_type": "code",
   "execution_count": 93,
   "metadata": {},
   "outputs": [],
   "source": [
    "comunas = pd.read_csv(\"https://cdn.buenosaires.gob.ar/datosabiertos/datasets/comunas/comunas.csv\")\n",
    "\n",
    "#display (comunas.head())\n",
    "#Trasnformamos la columna WKT\n",
    "comunas[\"WKT\"] = comunas[\"WKT\"].apply(shapely.wkt.loads) \n",
    "\n",
    "#display(comunas.head())\n",
    "\n",
    "# Creamos el GeoComunas\n",
    "geo_comunas = gpd.GeoDataFrame(comunas, geometry='WKT')\n",
    "#display (geo_comunas.head())"
   ]
  },
  {
   "cell_type": "code",
   "execution_count": 94,
   "metadata": {},
   "outputs": [
    {
     "data": {
      "text/html": [
       "<div>\n",
       "<style scoped>\n",
       "    .dataframe tbody tr th:only-of-type {\n",
       "        vertical-align: middle;\n",
       "    }\n",
       "\n",
       "    .dataframe tbody tr th {\n",
       "        vertical-align: top;\n",
       "    }\n",
       "\n",
       "    .dataframe thead th {\n",
       "        text-align: right;\n",
       "    }\n",
       "</style>\n",
       "<table border=\"1\" class=\"dataframe\">\n",
       "  <thead>\n",
       "    <tr style=\"text-align: right;\">\n",
       "      <th></th>\n",
       "      <th>property_type</th>\n",
       "      <th>lat</th>\n",
       "      <th>lon</th>\n",
       "      <th>price_aprox_usd</th>\n",
       "      <th>surface_total_in_m2</th>\n",
       "      <th>surface_covered_in_m2</th>\n",
       "      <th>price_usd_per_m2</th>\n",
       "      <th>price_per_m2</th>\n",
       "      <th>floor</th>\n",
       "      <th>rooms</th>\n",
       "      <th>...</th>\n",
       "      <th>ciudad</th>\n",
       "      <th>barrio1</th>\n",
       "      <th>ambientes</th>\n",
       "      <th>cochera</th>\n",
       "      <th>parrilla</th>\n",
       "      <th>patio</th>\n",
       "      <th>pileta</th>\n",
       "      <th>vista</th>\n",
       "      <th>usd_per_m2_2</th>\n",
       "      <th>geometry</th>\n",
       "    </tr>\n",
       "  </thead>\n",
       "  <tbody>\n",
       "    <tr>\n",
       "      <th>0</th>\n",
       "      <td>PH</td>\n",
       "      <td>-34.661824</td>\n",
       "      <td>-58.508839</td>\n",
       "      <td>62000.0</td>\n",
       "      <td>55.0</td>\n",
       "      <td>40.0</td>\n",
       "      <td>1127.272727</td>\n",
       "      <td>1550.000000</td>\n",
       "      <td>NaN</td>\n",
       "      <td>NaN</td>\n",
       "      <td>...</td>\n",
       "      <td>Capital Federal</td>\n",
       "      <td>Mataderos</td>\n",
       "      <td>NaN</td>\n",
       "      <td>False</td>\n",
       "      <td>False</td>\n",
       "      <td>False</td>\n",
       "      <td>False</td>\n",
       "      <td>False</td>\n",
       "      <td>NaN</td>\n",
       "      <td>POINT (-58.50884 -34.66182)</td>\n",
       "    </tr>\n",
       "    <tr>\n",
       "      <th>1</th>\n",
       "      <td>apartment</td>\n",
       "      <td>-34.903883</td>\n",
       "      <td>-57.964330</td>\n",
       "      <td>150000.0</td>\n",
       "      <td>NaN</td>\n",
       "      <td>NaN</td>\n",
       "      <td>NaN</td>\n",
       "      <td>NaN</td>\n",
       "      <td>NaN</td>\n",
       "      <td>NaN</td>\n",
       "      <td>...</td>\n",
       "      <td>La Plata</td>\n",
       "      <td></td>\n",
       "      <td>NaN</td>\n",
       "      <td>True</td>\n",
       "      <td>False</td>\n",
       "      <td>False</td>\n",
       "      <td>False</td>\n",
       "      <td>True</td>\n",
       "      <td>NaN</td>\n",
       "      <td>POINT (-57.96433 -34.90388)</td>\n",
       "    </tr>\n",
       "    <tr>\n",
       "      <th>2</th>\n",
       "      <td>apartment</td>\n",
       "      <td>-34.652262</td>\n",
       "      <td>-58.522982</td>\n",
       "      <td>72000.0</td>\n",
       "      <td>55.0</td>\n",
       "      <td>55.0</td>\n",
       "      <td>1309.090909</td>\n",
       "      <td>1309.090909</td>\n",
       "      <td>NaN</td>\n",
       "      <td>NaN</td>\n",
       "      <td>...</td>\n",
       "      <td>Capital Federal</td>\n",
       "      <td>Mataderos</td>\n",
       "      <td>NaN</td>\n",
       "      <td>False</td>\n",
       "      <td>False</td>\n",
       "      <td>False</td>\n",
       "      <td>False</td>\n",
       "      <td>False</td>\n",
       "      <td>NaN</td>\n",
       "      <td>POINT (-58.52298 -34.65226)</td>\n",
       "    </tr>\n",
       "    <tr>\n",
       "      <th>3</th>\n",
       "      <td>PH</td>\n",
       "      <td>-34.647797</td>\n",
       "      <td>-58.516424</td>\n",
       "      <td>95000.0</td>\n",
       "      <td>NaN</td>\n",
       "      <td>NaN</td>\n",
       "      <td>NaN</td>\n",
       "      <td>NaN</td>\n",
       "      <td>NaN</td>\n",
       "      <td>NaN</td>\n",
       "      <td>...</td>\n",
       "      <td>Capital Federal</td>\n",
       "      <td>Liniers</td>\n",
       "      <td>3</td>\n",
       "      <td>False</td>\n",
       "      <td>False</td>\n",
       "      <td>True</td>\n",
       "      <td>False</td>\n",
       "      <td>False</td>\n",
       "      <td>NaN</td>\n",
       "      <td>POINT (-58.51642 -34.64780)</td>\n",
       "    </tr>\n",
       "    <tr>\n",
       "      <th>4</th>\n",
       "      <td>apartment</td>\n",
       "      <td>-38.002626</td>\n",
       "      <td>-57.549447</td>\n",
       "      <td>64000.0</td>\n",
       "      <td>35.0</td>\n",
       "      <td>35.0</td>\n",
       "      <td>1828.571429</td>\n",
       "      <td>1828.571429</td>\n",
       "      <td>NaN</td>\n",
       "      <td>NaN</td>\n",
       "      <td>...</td>\n",
       "      <td>Mar del Plata</td>\n",
       "      <td>Centro</td>\n",
       "      <td>NaN</td>\n",
       "      <td>False</td>\n",
       "      <td>False</td>\n",
       "      <td>False</td>\n",
       "      <td>False</td>\n",
       "      <td>False</td>\n",
       "      <td>NaN</td>\n",
       "      <td>POINT (-57.54945 -38.00263)</td>\n",
       "    </tr>\n",
       "  </tbody>\n",
       "</table>\n",
       "<p>5 rows × 26 columns</p>\n",
       "</div>"
      ],
      "text/plain": [
       "  property_type        lat        lon  price_aprox_usd  surface_total_in_m2  \\\n",
       "0            PH -34.661824 -58.508839          62000.0                 55.0   \n",
       "1     apartment -34.903883 -57.964330         150000.0                  NaN   \n",
       "2     apartment -34.652262 -58.522982          72000.0                 55.0   \n",
       "3            PH -34.647797 -58.516424          95000.0                  NaN   \n",
       "4     apartment -38.002626 -57.549447          64000.0                 35.0   \n",
       "\n",
       "   surface_covered_in_m2  price_usd_per_m2  price_per_m2  floor  rooms  ...  \\\n",
       "0                   40.0       1127.272727   1550.000000    NaN    NaN  ...   \n",
       "1                    NaN               NaN           NaN    NaN    NaN  ...   \n",
       "2                   55.0       1309.090909   1309.090909    NaN    NaN  ...   \n",
       "3                    NaN               NaN           NaN    NaN    NaN  ...   \n",
       "4                   35.0       1828.571429   1828.571429    NaN    NaN  ...   \n",
       "\n",
       "            ciudad    barrio1 ambientes cochera parrilla  patio pileta  vista  \\\n",
       "0  Capital Federal  Mataderos       NaN   False    False  False  False  False   \n",
       "1         La Plata                  NaN    True    False  False  False   True   \n",
       "2  Capital Federal  Mataderos       NaN   False    False  False  False  False   \n",
       "3  Capital Federal    Liniers         3   False    False   True  False  False   \n",
       "4    Mar del Plata     Centro       NaN   False    False  False  False  False   \n",
       "\n",
       "  usd_per_m2_2                     geometry  \n",
       "0          NaN  POINT (-58.50884 -34.66182)  \n",
       "1          NaN  POINT (-57.96433 -34.90388)  \n",
       "2          NaN  POINT (-58.52298 -34.65226)  \n",
       "3          NaN  POINT (-58.51642 -34.64780)  \n",
       "4          NaN  POINT (-57.54945 -38.00263)  \n",
       "\n",
       "[5 rows x 26 columns]"
      ]
     },
     "execution_count": 94,
     "metadata": {},
     "output_type": "execute_result"
    }
   ],
   "source": [
    "geo_datos = gpd.GeoDataFrame(datos,geometry=gpd.points_from_xy(datos.lon, datos.lat))\n",
    "geo_datos.head()"
   ]
  },
  {
   "cell_type": "code",
   "execution_count": 95,
   "metadata": {},
   "outputs": [
    {
     "data": {
      "text/plain": [
       "<AxesSubplot:>"
      ]
     },
     "execution_count": 95,
     "metadata": {},
     "output_type": "execute_result"
    },
    {
     "data": {
      "image/png": "[encoded data removed]",
      "text/plain": [
       "<Figure size 640x480 with 1 Axes>"
      ]
     },
     "metadata": {},
     "output_type": "display_data"
    }
   ],
   "source": [
    "fig, ax = plt.subplots()\n",
    "\n",
    "#geo_arboles.sample(1000).plot(ax=ax, column = \"nombre_cientifico\")\n",
    "geo_comunas.plot(ax=ax, facecolor=\"none\", edgecolor='black')\n",
    "geo_datos.loc[geo_datos['ciudad']=='Capital Federal'].plot(ax=ax, column='property_type')\n"
   ]
  },
  {
   "cell_type": "code",
   "execution_count": 96,
   "metadata": {},
   "outputs": [],
   "source": [
    "#Vemos que hay un valor erroneo, no esta en capital federal su ubicación de lat lon\n",
    "propiedades_caba=geo_datos.loc[geo_datos['ciudad']=='Capital Federal']"
   ]
  },
  {
   "cell_type": "code",
   "execution_count": 97,
   "metadata": {},
   "outputs": [],
   "source": [
    "lejanas=propiedades_caba.lat < -38"
   ]
  },
  {
   "cell_type": "code",
   "execution_count": 98,
   "metadata": {},
   "outputs": [],
   "source": [
    "caba_cercanas=propiedades_caba.lat > -38"
   ]
  },
  {
   "cell_type": "code",
   "execution_count": 99,
   "metadata": {},
   "outputs": [
    {
     "data": {
      "text/html": [
       "<div>\n",
       "<style scoped>\n",
       "    .dataframe tbody tr th:only-of-type {\n",
       "        vertical-align: middle;\n",
       "    }\n",
       "\n",
       "    .dataframe tbody tr th {\n",
       "        vertical-align: top;\n",
       "    }\n",
       "\n",
       "    .dataframe thead th {\n",
       "        text-align: right;\n",
       "    }\n",
       "</style>\n",
       "<table border=\"1\" class=\"dataframe\">\n",
       "  <thead>\n",
       "    <tr style=\"text-align: right;\">\n",
       "      <th></th>\n",
       "      <th>property_type</th>\n",
       "      <th>lat</th>\n",
       "      <th>lon</th>\n",
       "      <th>price_aprox_usd</th>\n",
       "      <th>surface_total_in_m2</th>\n",
       "      <th>surface_covered_in_m2</th>\n",
       "      <th>price_usd_per_m2</th>\n",
       "      <th>price_per_m2</th>\n",
       "      <th>floor</th>\n",
       "      <th>rooms</th>\n",
       "      <th>...</th>\n",
       "      <th>ciudad</th>\n",
       "      <th>barrio1</th>\n",
       "      <th>ambientes</th>\n",
       "      <th>cochera</th>\n",
       "      <th>parrilla</th>\n",
       "      <th>patio</th>\n",
       "      <th>pileta</th>\n",
       "      <th>vista</th>\n",
       "      <th>usd_per_m2_2</th>\n",
       "      <th>geometry</th>\n",
       "    </tr>\n",
       "  </thead>\n",
       "  <tbody>\n",
       "    <tr>\n",
       "      <th>0</th>\n",
       "      <td>PH</td>\n",
       "      <td>-34.661824</td>\n",
       "      <td>-58.508839</td>\n",
       "      <td>62000.0</td>\n",
       "      <td>55.0</td>\n",
       "      <td>40.0</td>\n",
       "      <td>1127.272727</td>\n",
       "      <td>1550.000000</td>\n",
       "      <td>NaN</td>\n",
       "      <td>NaN</td>\n",
       "      <td>...</td>\n",
       "      <td>Capital Federal</td>\n",
       "      <td>Mataderos</td>\n",
       "      <td>NaN</td>\n",
       "      <td>False</td>\n",
       "      <td>False</td>\n",
       "      <td>False</td>\n",
       "      <td>False</td>\n",
       "      <td>False</td>\n",
       "      <td>NaN</td>\n",
       "      <td>POINT (-58.50884 -34.66182)</td>\n",
       "    </tr>\n",
       "    <tr>\n",
       "      <th>2</th>\n",
       "      <td>apartment</td>\n",
       "      <td>-34.652262</td>\n",
       "      <td>-58.522982</td>\n",
       "      <td>72000.0</td>\n",
       "      <td>55.0</td>\n",
       "      <td>55.0</td>\n",
       "      <td>1309.090909</td>\n",
       "      <td>1309.090909</td>\n",
       "      <td>NaN</td>\n",
       "      <td>NaN</td>\n",
       "      <td>...</td>\n",
       "      <td>Capital Federal</td>\n",
       "      <td>Mataderos</td>\n",
       "      <td>NaN</td>\n",
       "      <td>False</td>\n",
       "      <td>False</td>\n",
       "      <td>False</td>\n",
       "      <td>False</td>\n",
       "      <td>False</td>\n",
       "      <td>NaN</td>\n",
       "      <td>POINT (-58.52298 -34.65226)</td>\n",
       "    </tr>\n",
       "    <tr>\n",
       "      <th>3</th>\n",
       "      <td>PH</td>\n",
       "      <td>-34.647797</td>\n",
       "      <td>-58.516424</td>\n",
       "      <td>95000.0</td>\n",
       "      <td>NaN</td>\n",
       "      <td>NaN</td>\n",
       "      <td>NaN</td>\n",
       "      <td>NaN</td>\n",
       "      <td>NaN</td>\n",
       "      <td>NaN</td>\n",
       "      <td>...</td>\n",
       "      <td>Capital Federal</td>\n",
       "      <td>Liniers</td>\n",
       "      <td>3</td>\n",
       "      <td>False</td>\n",
       "      <td>False</td>\n",
       "      <td>True</td>\n",
       "      <td>False</td>\n",
       "      <td>False</td>\n",
       "      <td>NaN</td>\n",
       "      <td>POINT (-58.51642 -34.64780)</td>\n",
       "    </tr>\n",
       "    <tr>\n",
       "      <th>7</th>\n",
       "      <td>apartment</td>\n",
       "      <td>-34.559873</td>\n",
       "      <td>-58.443362</td>\n",
       "      <td>138000.0</td>\n",
       "      <td>45.0</td>\n",
       "      <td>40.0</td>\n",
       "      <td>3066.666667</td>\n",
       "      <td>3450.000000</td>\n",
       "      <td>NaN</td>\n",
       "      <td>NaN</td>\n",
       "      <td>...</td>\n",
       "      <td>Capital Federal</td>\n",
       "      <td>Belgrano</td>\n",
       "      <td>NaN</td>\n",
       "      <td>False</td>\n",
       "      <td>False</td>\n",
       "      <td>False</td>\n",
       "      <td>False</td>\n",
       "      <td>False</td>\n",
       "      <td>NaN</td>\n",
       "      <td>POINT (-58.44336 -34.55987)</td>\n",
       "    </tr>\n",
       "    <tr>\n",
       "      <th>8</th>\n",
       "      <td>apartment</td>\n",
       "      <td>-34.559873</td>\n",
       "      <td>-58.443362</td>\n",
       "      <td>195000.0</td>\n",
       "      <td>65.0</td>\n",
       "      <td>60.0</td>\n",
       "      <td>3000.000000</td>\n",
       "      <td>3250.000000</td>\n",
       "      <td>NaN</td>\n",
       "      <td>NaN</td>\n",
       "      <td>...</td>\n",
       "      <td>Capital Federal</td>\n",
       "      <td>Belgrano</td>\n",
       "      <td>NaN</td>\n",
       "      <td>False</td>\n",
       "      <td>False</td>\n",
       "      <td>False</td>\n",
       "      <td>False</td>\n",
       "      <td>False</td>\n",
       "      <td>NaN</td>\n",
       "      <td>POINT (-58.44336 -34.55987)</td>\n",
       "    </tr>\n",
       "  </tbody>\n",
       "</table>\n",
       "<p>5 rows × 26 columns</p>\n",
       "</div>"
      ],
      "text/plain": [
       "  property_type        lat        lon  price_aprox_usd  surface_total_in_m2  \\\n",
       "0            PH -34.661824 -58.508839          62000.0                 55.0   \n",
       "2     apartment -34.652262 -58.522982          72000.0                 55.0   \n",
       "3            PH -34.647797 -58.516424          95000.0                  NaN   \n",
       "7     apartment -34.559873 -58.443362         138000.0                 45.0   \n",
       "8     apartment -34.559873 -58.443362         195000.0                 65.0   \n",
       "\n",
       "   surface_covered_in_m2  price_usd_per_m2  price_per_m2  floor  rooms  ...  \\\n",
       "0                   40.0       1127.272727   1550.000000    NaN    NaN  ...   \n",
       "2                   55.0       1309.090909   1309.090909    NaN    NaN  ...   \n",
       "3                    NaN               NaN           NaN    NaN    NaN  ...   \n",
       "7                   40.0       3066.666667   3450.000000    NaN    NaN  ...   \n",
       "8                   60.0       3000.000000   3250.000000    NaN    NaN  ...   \n",
       "\n",
       "            ciudad    barrio1 ambientes cochera parrilla  patio pileta  vista  \\\n",
       "0  Capital Federal  Mataderos       NaN   False    False  False  False  False   \n",
       "2  Capital Federal  Mataderos       NaN   False    False  False  False  False   \n",
       "3  Capital Federal    Liniers         3   False    False   True  False  False   \n",
       "7  Capital Federal   Belgrano       NaN   False    False  False  False  False   \n",
       "8  Capital Federal   Belgrano       NaN   False    False  False  False  False   \n",
       "\n",
       "  usd_per_m2_2                     geometry  \n",
       "0          NaN  POINT (-58.50884 -34.66182)  \n",
       "2          NaN  POINT (-58.52298 -34.65226)  \n",
       "3          NaN  POINT (-58.51642 -34.64780)  \n",
       "7          NaN  POINT (-58.44336 -34.55987)  \n",
       "8          NaN  POINT (-58.44336 -34.55987)  \n",
       "\n",
       "[5 rows x 26 columns]"
      ]
     },
     "execution_count": 99,
     "metadata": {},
     "output_type": "execute_result"
    }
   ],
   "source": [
    "caba_grafico=propiedades_caba.loc[caba_cercanas]\n",
    "caba_grafico.head()"
   ]
  },
  {
   "cell_type": "code",
   "execution_count": 100,
   "metadata": {},
   "outputs": [
    {
     "data": {
      "text/plain": [
       "<AxesSubplot:>"
      ]
     },
     "execution_count": 100,
     "metadata": {},
     "output_type": "execute_result"
    },
    {
     "data": {
      "image/png": "[encoded data removed]",
      "text/plain": [
       "<Figure size 640x480 with 1 Axes>"
      ]
     },
     "metadata": {},
     "output_type": "display_data"
    }
   ],
   "source": [
    "fig, ax = plt.subplots()\n",
    "\n",
    "#geo_arboles.sample(1000).plot(ax=ax, column = \"nombre_cientifico\")\n",
    "geo_comunas.plot(ax=ax, facecolor=\"none\", edgecolor='black')\n",
    "caba_grafico.loc[caba_grafico['ciudad']=='Capital Federal'].plot(ax=ax, column='property_type',markersize=0.1,marker='o')"
   ]
  },
  {
   "cell_type": "code",
   "execution_count": 101,
   "metadata": {},
   "outputs": [
    {
     "data": {
      "text/html": [
       "<div>\n",
       "<style scoped>\n",
       "    .dataframe tbody tr th:only-of-type {\n",
       "        vertical-align: middle;\n",
       "    }\n",
       "\n",
       "    .dataframe tbody tr th {\n",
       "        vertical-align: top;\n",
       "    }\n",
       "\n",
       "    .dataframe thead th {\n",
       "        text-align: right;\n",
       "    }\n",
       "</style>\n",
       "<table border=\"1\" class=\"dataframe\">\n",
       "  <thead>\n",
       "    <tr style=\"text-align: right;\">\n",
       "      <th></th>\n",
       "      <th>property_type</th>\n",
       "      <th>lat</th>\n",
       "      <th>lon</th>\n",
       "      <th>price_aprox_usd</th>\n",
       "      <th>surface_total_in_m2</th>\n",
       "      <th>surface_covered_in_m2</th>\n",
       "      <th>price_usd_per_m2</th>\n",
       "      <th>price_per_m2</th>\n",
       "      <th>floor</th>\n",
       "      <th>rooms</th>\n",
       "      <th>...</th>\n",
       "      <th>ciudad</th>\n",
       "      <th>barrio1</th>\n",
       "      <th>ambientes</th>\n",
       "      <th>cochera</th>\n",
       "      <th>parrilla</th>\n",
       "      <th>patio</th>\n",
       "      <th>pileta</th>\n",
       "      <th>vista</th>\n",
       "      <th>usd_per_m2_2</th>\n",
       "      <th>geometry</th>\n",
       "    </tr>\n",
       "  </thead>\n",
       "  <tbody>\n",
       "    <tr>\n",
       "      <th>28512</th>\n",
       "      <td>apartment</td>\n",
       "      <td>-38.416097</td>\n",
       "      <td>-63.616672</td>\n",
       "      <td>45000.0</td>\n",
       "      <td>70.0</td>\n",
       "      <td>70.0</td>\n",
       "      <td>642.857143</td>\n",
       "      <td>642.857143</td>\n",
       "      <td>NaN</td>\n",
       "      <td>3.0</td>\n",
       "      <td>...</td>\n",
       "      <td>Capital Federal</td>\n",
       "      <td>Mataderos</td>\n",
       "      <td>NaN</td>\n",
       "      <td>False</td>\n",
       "      <td>False</td>\n",
       "      <td>False</td>\n",
       "      <td>False</td>\n",
       "      <td>False</td>\n",
       "      <td>NaN</td>\n",
       "      <td>POINT (-63.61667 -38.41610)</td>\n",
       "    </tr>\n",
       "  </tbody>\n",
       "</table>\n",
       "<p>1 rows × 26 columns</p>\n",
       "</div>"
      ],
      "text/plain": [
       "      property_type        lat        lon  price_aprox_usd  \\\n",
       "28512     apartment -38.416097 -63.616672          45000.0   \n",
       "\n",
       "       surface_total_in_m2  surface_covered_in_m2  price_usd_per_m2  \\\n",
       "28512                 70.0                   70.0        642.857143   \n",
       "\n",
       "       price_per_m2  floor  rooms  ...           ciudad    barrio1 ambientes  \\\n",
       "28512    642.857143    NaN    3.0  ...  Capital Federal  Mataderos       NaN   \n",
       "\n",
       "      cochera parrilla  patio pileta  vista usd_per_m2_2  \\\n",
       "28512   False    False  False  False  False          NaN   \n",
       "\n",
       "                          geometry  \n",
       "28512  POINT (-63.61667 -38.41610)  \n",
       "\n",
       "[1 rows x 26 columns]"
      ]
     },
     "metadata": {},
     "output_type": "display_data"
    }
   ],
   "source": [
    "display(propiedades_caba[lejanas])\n"
   ]
  },
  {
   "cell_type": "code",
   "execution_count": 102,
   "metadata": {},
   "outputs": [
    {
     "data": {
      "text/plain": [
       "property_type                                                    apartment\n",
       "lat                                                               -38.4161\n",
       "lon                                                               -63.6167\n",
       "price_aprox_usd                                                      45000\n",
       "surface_total_in_m2                                                     70\n",
       "surface_covered_in_m2                                                   70\n",
       "price_usd_per_m2                                                   642.857\n",
       "price_per_m2                                                       642.857\n",
       "floor                                                                  NaN\n",
       "rooms                                                                    3\n",
       "expenses                                                               NaN\n",
       "properati_url            http://www.properati.com.ar/17wcl_venta_depart...\n",
       "description              Dueño directo vende departamento de 3 amb. amp...\n",
       "title                                                   Departamento venta\n",
       "image_thumbnail          https://thumbs4.properati.com/4/zBfEu9OaMWhIOq...\n",
       "provincia                                                  Capital Federal\n",
       "ciudad                                                     Capital Federal\n",
       "barrio1                                                          Mataderos\n",
       "ambientes                                                              NaN\n",
       "cochera                                                              False\n",
       "parrilla                                                             False\n",
       "patio                                                                False\n",
       "pileta                                                               False\n",
       "vista                                                                False\n",
       "usd_per_m2_2                                                           NaN\n",
       "geometry                                     POINT (-63.616672 -38.416097)\n",
       "Name: 28512, dtype: object"
      ]
     },
     "execution_count": 102,
     "metadata": {},
     "output_type": "execute_result"
    }
   ],
   "source": [
    "datos.loc[28512]"
   ]
  },
  {
   "cell_type": "code",
   "execution_count": null,
   "metadata": {},
   "outputs": [],
   "source": []
  },
  {
   "cell_type": "code",
   "execution_count": null,
   "metadata": {},
   "outputs": [],
   "source": []
  },
  {
   "cell_type": "markdown",
   "metadata": {},
   "source": [
    "## Lectura de columna comentarios para obtener datos y validar otros campos"
   ]
  },
  {
   "cell_type": "code",
   "execution_count": null,
   "metadata": {},
   "outputs": [],
   "source": []
  },
  {
   "cell_type": "markdown",
   "metadata": {},
   "source": [
    "## Categorizar los ambientes"
   ]
  },
  {
   "cell_type": "code",
   "execution_count": null,
   "metadata": {},
   "outputs": [],
   "source": []
  },
  {
   "cell_type": "markdown",
   "metadata": {},
   "source": [
    "## Análisis usando groupby (ciudades, barrios, provincias)"
   ]
  },
  {
   "cell_type": "code",
   "execution_count": null,
   "metadata": {},
   "outputs": [],
   "source": []
  },
  {
   "cell_type": "markdown",
   "metadata": {},
   "source": [
    "## Uso de tablas pivot para visualizar relaciones entre parámetros"
   ]
  },
  {
   "cell_type": "code",
   "execution_count": null,
   "metadata": {},
   "outputs": [],
   "source": []
  }
 ],
 "metadata": {
  "kernelspec": {
   "display_name": "Python 3.8.13 ('dhdsblend2021')",
   "language": "python",
   "name": "python3"
  },
  "language_info": {
   "codemirror_mode": {
    "name": "ipython",
    "version": 3
   },
   "file_extension": ".py",
   "mimetype": "text/x-python",
   "name": "python",
   "nbconvert_exporter": "python",
   "pygments_lexer": "ipython3",
   "version": "3.8.13"
  },
  "orig_nbformat": 4,
  "vscode": {
   "interpreter": {
    "hash": "b43af2114f43bcf982d0b53b081e4c6c708721cc588721c6f40c2d9852c4cd7b"
   }
  }
 },
 "nbformat": 4,
 "nbformat_minor": 2
}
