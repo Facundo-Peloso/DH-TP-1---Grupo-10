{
 "cells": [
  {
   "cell_type": "markdown",
   "metadata": {},
   "source": [
    "# TP Integrador N° 1 \n",
    "#### Grupo 10\n",
    "\n",
    "Integrantes:\n",
    "- Rodrigo Gramajo\n",
    "- Facundo Peloso\n",
    "- Roberto Biancardi\n",
    "\n",
    "Introducción\n",
    "\n",
    "La inmobiliaria Properatti desea implementar un ***tasador automático*** para sus operaciones.\n",
    "\n",
    "Nuestro objetivo final es desarrollar un modelo de regresión lineal que permita *predecir el* ***precio por metro cuadrado*** *de una propiedad.* Para ello, la empresa nos provee un dataset con los datos de sus operaciones en el primer semestre del 2017.\n",
    "\n",
    "El alcance de este primer trabajo práctico es de leer, analizar y procesar dichos datos para desarrollar un modelo predictivo en próximos trabajos.\n",
    "\n"
   ]
  },
  {
   "cell_type": "markdown",
   "metadata": {},
   "source": [
    "### Lectura de Datos ###\n",
    "\n",
    "\n",
    "Importamos las librerías que nos permitiran manejar y visualizar los datos"
   ]
  },
  {
   "cell_type": "code",
   "execution_count": 1,
   "metadata": {},
   "outputs": [],
   "source": [
    "#Importacion de librerias/módulos\n",
    "import pandas as pd\n",
    "import numpy as np\n",
    "import seaborn as sns\n",
    "import matplotlib.pyplot as plt\n",
    "import re\n",
    "import collections\n",
    "import descartes\n",
    "import geopandas as gpd\n",
    "from shapely.geometry import Point, polygon"
   ]
  },
  {
   "cell_type": "markdown",
   "metadata": {},
   "source": [
    "Leemos el archivo .csv que contiene al dataset y  hacemos una primera visualización.\n",
    "\n",
    "NOTA: El archivo .csv esta ubicado en el mismo directorio que la notebook Main para evitar conflictos de distintas rutas locales."
   ]
  },
  {
   "cell_type": "code",
   "execution_count": 2,
   "metadata": {},
   "outputs": [
    {
     "data": {
      "text/html": [
       "<div>\n",
       "<style scoped>\n",
       "    .dataframe tbody tr th:only-of-type {\n",
       "        vertical-align: middle;\n",
       "    }\n",
       "\n",
       "    .dataframe tbody tr th {\n",
       "        vertical-align: top;\n",
       "    }\n",
       "\n",
       "    .dataframe thead th {\n",
       "        text-align: right;\n",
       "    }\n",
       "</style>\n",
       "<table border=\"1\" class=\"dataframe\">\n",
       "  <thead>\n",
       "    <tr style=\"text-align: right;\">\n",
       "      <th></th>\n",
       "      <th>Unnamed: 0</th>\n",
       "      <th>operation</th>\n",
       "      <th>property_type</th>\n",
       "      <th>place_name</th>\n",
       "      <th>place_with_parent_names</th>\n",
       "      <th>country_name</th>\n",
       "      <th>state_name</th>\n",
       "      <th>geonames_id</th>\n",
       "      <th>lat-lon</th>\n",
       "      <th>lat</th>\n",
       "      <th>...</th>\n",
       "      <th>surface_covered_in_m2</th>\n",
       "      <th>price_usd_per_m2</th>\n",
       "      <th>price_per_m2</th>\n",
       "      <th>floor</th>\n",
       "      <th>rooms</th>\n",
       "      <th>expenses</th>\n",
       "      <th>properati_url</th>\n",
       "      <th>description</th>\n",
       "      <th>title</th>\n",
       "      <th>image_thumbnail</th>\n",
       "    </tr>\n",
       "  </thead>\n",
       "  <tbody>\n",
       "    <tr>\n",
       "      <th>0</th>\n",
       "      <td>0</td>\n",
       "      <td>sell</td>\n",
       "      <td>PH</td>\n",
       "      <td>Mataderos</td>\n",
       "      <td>|Argentina|Capital Federal|Mataderos|</td>\n",
       "      <td>Argentina</td>\n",
       "      <td>Capital Federal</td>\n",
       "      <td>3430787.0</td>\n",
       "      <td>-34.6618237,-58.5088387</td>\n",
       "      <td>-34.661824</td>\n",
       "      <td>...</td>\n",
       "      <td>40.0</td>\n",
       "      <td>1127.272727</td>\n",
       "      <td>1550.000000</td>\n",
       "      <td>NaN</td>\n",
       "      <td>NaN</td>\n",
       "      <td>NaN</td>\n",
       "      <td>http://www.properati.com.ar/15bo8_venta_ph_mat...</td>\n",
       "      <td>2 AMBIENTES TIPO CASA PLANTA BAJA POR PASILLO,...</td>\n",
       "      <td>2 AMB TIPO CASA SIN EXPENSAS EN PB</td>\n",
       "      <td>https://thumbs4.properati.com/8/BluUYiHJLhgIIK...</td>\n",
       "    </tr>\n",
       "    <tr>\n",
       "      <th>1</th>\n",
       "      <td>1</td>\n",
       "      <td>sell</td>\n",
       "      <td>apartment</td>\n",
       "      <td>La Plata</td>\n",
       "      <td>|Argentina|Bs.As. G.B.A. Zona Sur|La Plata|</td>\n",
       "      <td>Argentina</td>\n",
       "      <td>Bs.As. G.B.A. Zona Sur</td>\n",
       "      <td>3432039.0</td>\n",
       "      <td>-34.9038831,-57.9643295</td>\n",
       "      <td>-34.903883</td>\n",
       "      <td>...</td>\n",
       "      <td>NaN</td>\n",
       "      <td>NaN</td>\n",
       "      <td>NaN</td>\n",
       "      <td>NaN</td>\n",
       "      <td>NaN</td>\n",
       "      <td>NaN</td>\n",
       "      <td>http://www.properati.com.ar/15bob_venta_depart...</td>\n",
       "      <td>Venta de departamento en décimo piso al frente...</td>\n",
       "      <td>VENTA Depto 2 dorm. a estrenar 7 e/ 36 y 37   ...</td>\n",
       "      <td>https://thumbs4.properati.com/7/ikpVBu2ztHA7jv...</td>\n",
       "    </tr>\n",
       "    <tr>\n",
       "      <th>2</th>\n",
       "      <td>2</td>\n",
       "      <td>sell</td>\n",
       "      <td>apartment</td>\n",
       "      <td>Mataderos</td>\n",
       "      <td>|Argentina|Capital Federal|Mataderos|</td>\n",
       "      <td>Argentina</td>\n",
       "      <td>Capital Federal</td>\n",
       "      <td>3430787.0</td>\n",
       "      <td>-34.6522615,-58.5229825</td>\n",
       "      <td>-34.652262</td>\n",
       "      <td>...</td>\n",
       "      <td>55.0</td>\n",
       "      <td>1309.090909</td>\n",
       "      <td>1309.090909</td>\n",
       "      <td>NaN</td>\n",
       "      <td>NaN</td>\n",
       "      <td>NaN</td>\n",
       "      <td>http://www.properati.com.ar/15bod_venta_depart...</td>\n",
       "      <td>2 AMBIENTES 3ER PISO LATERAL LIVING COMEDOR AM...</td>\n",
       "      <td>2 AMB 3ER PISO CON ASCENSOR APTO CREDITO</td>\n",
       "      <td>https://thumbs4.properati.com/5/SXKr34F_IwG3W_...</td>\n",
       "    </tr>\n",
       "  </tbody>\n",
       "</table>\n",
       "<p>3 rows × 26 columns</p>\n",
       "</div>"
      ],
      "text/plain": [
       "   Unnamed: 0 operation property_type place_name  \\\n",
       "0           0      sell            PH  Mataderos   \n",
       "1           1      sell     apartment   La Plata   \n",
       "2           2      sell     apartment  Mataderos   \n",
       "\n",
       "                       place_with_parent_names country_name  \\\n",
       "0        |Argentina|Capital Federal|Mataderos|    Argentina   \n",
       "1  |Argentina|Bs.As. G.B.A. Zona Sur|La Plata|    Argentina   \n",
       "2        |Argentina|Capital Federal|Mataderos|    Argentina   \n",
       "\n",
       "               state_name  geonames_id                  lat-lon        lat  \\\n",
       "0         Capital Federal    3430787.0  -34.6618237,-58.5088387 -34.661824   \n",
       "1  Bs.As. G.B.A. Zona Sur    3432039.0  -34.9038831,-57.9643295 -34.903883   \n",
       "2         Capital Federal    3430787.0  -34.6522615,-58.5229825 -34.652262   \n",
       "\n",
       "   ...  surface_covered_in_m2  price_usd_per_m2 price_per_m2  floor  rooms  \\\n",
       "0  ...                   40.0       1127.272727  1550.000000    NaN    NaN   \n",
       "1  ...                    NaN               NaN          NaN    NaN    NaN   \n",
       "2  ...                   55.0       1309.090909  1309.090909    NaN    NaN   \n",
       "\n",
       "   expenses                                      properati_url  \\\n",
       "0       NaN  http://www.properati.com.ar/15bo8_venta_ph_mat...   \n",
       "1       NaN  http://www.properati.com.ar/15bob_venta_depart...   \n",
       "2       NaN  http://www.properati.com.ar/15bod_venta_depart...   \n",
       "\n",
       "                                         description  \\\n",
       "0  2 AMBIENTES TIPO CASA PLANTA BAJA POR PASILLO,...   \n",
       "1  Venta de departamento en décimo piso al frente...   \n",
       "2  2 AMBIENTES 3ER PISO LATERAL LIVING COMEDOR AM...   \n",
       "\n",
       "                                               title  \\\n",
       "0                 2 AMB TIPO CASA SIN EXPENSAS EN PB   \n",
       "1  VENTA Depto 2 dorm. a estrenar 7 e/ 36 y 37   ...   \n",
       "2           2 AMB 3ER PISO CON ASCENSOR APTO CREDITO   \n",
       "\n",
       "                                     image_thumbnail  \n",
       "0  https://thumbs4.properati.com/8/BluUYiHJLhgIIK...  \n",
       "1  https://thumbs4.properati.com/7/ikpVBu2ztHA7jv...  \n",
       "2  https://thumbs4.properati.com/5/SXKr34F_IwG3W_...  \n",
       "\n",
       "[3 rows x 26 columns]"
      ]
     },
     "metadata": {},
     "output_type": "display_data"
    }
   ],
   "source": [
    "#Establezco la dirección del archivo\n",
    "file_location='properatti.csv'\n",
    "\n",
    "#Leo el data set usando la librería pandas\n",
    "# y se almacena en el objeto Dataframe llamado datos_crudos  \n",
    "datos_crudos=pd.read_csv(file_location)\n",
    "\n",
    "#Visualizo las primeras filas\n",
    "display(datos_crudos.head(3))"
   ]
  },
  {
   "cell_type": "markdown",
   "metadata": {},
   "source": [
    "### Dimensiones del Dataset ###\n",
    "Visualizamos la dimensión del dataset en filas *(Registros)* y columnas *(Campos)*:"
   ]
  },
  {
   "cell_type": "code",
   "execution_count": 3,
   "metadata": {},
   "outputs": [
    {
     "name": "stdout",
     "output_type": "stream",
     "text": [
      "Tamaño del dataset\n",
      "Filas: 121220\n",
      "Columnas: 26\n"
     ]
    }
   ],
   "source": [
    "#Imprimimos en pantalla la cantidad de filas y columnas\n",
    "print('Tamaño del dataset')\n",
    "print('Filas:',datos_crudos.shape[0])\n",
    "print('Columnas:',datos_crudos.shape[1])"
   ]
  },
  {
   "cell_type": "markdown",
   "metadata": {},
   "source": [
    "Hay mas 120 mil registro por lo que es de tamaño chico/mediano.\n",
    "\n",
    "Cuenta con 26 campos para describir cada operacion inmobiliaria.\n",
    "\n",
    "### Analisis de los Campos ###\n",
    "\n",
    "Listamos todos los campos del dataset y el tipo de dato que almacenan para entender que información nos brindan"
   ]
  },
  {
   "cell_type": "code",
   "execution_count": 4,
   "metadata": {},
   "outputs": [
    {
     "name": "stderr",
     "output_type": "stream",
     "text": [
      "C:\\Users\\fpeloso\\AppData\\Local\\Temp\\ipykernel_1276\\1820039734.py:2: DeprecationWarning: The default dtype for empty Series will be 'object' instead of 'float64' in a future version. Specify a dtype explicitly to silence this warning.\n",
      "  nombre_tipo_columnas=pd.Series()\n"
     ]
    },
    {
     "data": {
      "text/plain": [
       "Unnamed: 0                      <class 'numpy.int64'>\n",
       "operation                               <class 'str'>\n",
       "property_type                           <class 'str'>\n",
       "place_name                              <class 'str'>\n",
       "place_with_parent_names                 <class 'str'>\n",
       "country_name                            <class 'str'>\n",
       "state_name                              <class 'str'>\n",
       "geonames_id                   <class 'numpy.float64'>\n",
       "lat-lon                                 <class 'str'>\n",
       "lat                           <class 'numpy.float64'>\n",
       "lon                           <class 'numpy.float64'>\n",
       "price                         <class 'numpy.float64'>\n",
       "currency                                <class 'str'>\n",
       "price_aprox_local_currency    <class 'numpy.float64'>\n",
       "price_aprox_usd               <class 'numpy.float64'>\n",
       "surface_total_in_m2           <class 'numpy.float64'>\n",
       "surface_covered_in_m2         <class 'numpy.float64'>\n",
       "price_usd_per_m2              <class 'numpy.float64'>\n",
       "price_per_m2                  <class 'numpy.float64'>\n",
       "floor                         <class 'numpy.float64'>\n",
       "rooms                         <class 'numpy.float64'>\n",
       "expenses                      <class 'numpy.float64'>\n",
       "properati_url                           <class 'str'>\n",
       "description                             <class 'str'>\n",
       "title                                   <class 'str'>\n",
       "image_thumbnail                         <class 'str'>\n",
       "dtype: object"
      ]
     },
     "execution_count": 4,
     "metadata": {},
     "output_type": "execute_result"
    }
   ],
   "source": [
    "#Instanciamos un Serie vacía\n",
    "nombre_tipo_columnas=pd.Series()\n",
    "#Utilizamos las columnas de nuestro dataset como índice de la serie vacía\n",
    "# como valores guardamos el tipo de objeto almacenado en la primera fila de cada columna\n",
    "for i in datos_crudos.columns : \n",
    "     nombre_tipo_columnas[i]=type(datos_crudos.loc[0,i])\n",
    "nombre_tipo_columnas\n"
   ]
  },
  {
   "cell_type": "markdown",
   "metadata": {},
   "source": [
    "### Listado y breve descripción de cada campo ###\n",
    "\n",
    "- \"Unnamed: 0\": Es un campo que hace la función de índice. Cada registro es un valor numérico, entero, único y ordenado desde el 0 hasta el total de filas menos uno.\n",
    "\n",
    "- \"operation\": String que define el tipo de operación: venta(sell) o alquiler(rent).\n",
    "\n",
    "- property_type: String que define el tipo de propiedad (PH, Casa, Departamento)\n",
    "\n",
    "- place_name: String que define el barrio/ciudad de la propiedad\n",
    "\n",
    "- place_with_parent_names: String con diferentes datos geograficos separados por un caracter\n",
    " (pais, nombre, provincia, ciudad).\n",
    "\n",
    "- country_name: String que define el país de la propiedad.\n",
    "\n",
    "- state_name: String que indica la provincia/región de la propiedad.\n",
    "\n",
    "- geonames_id:\n",
    "\n",
    "- lat-lon: Latitud y Longitud separados por un caracter.\n",
    "\n",
    "- lat: Latidud\n",
    "\n",
    "- lon: Longitud\n",
    "\n",
    "- price: Precio \n",
    "\n",
    "- currency: Moneda \n",
    "\n",
    "- price_aprox_local_currency: Precio en moneda local.\n",
    "\n",
    "- price_aprox_usd: Precio aproximado en dólares\n",
    "\n",
    "- surface_total_in_m2: Superficie total en metros cuadrados.\n",
    "\n",
    "- surface_covered_in_m2: Superficie cubierta/bajo techo en metros cuadrados.\n",
    "\n",
    "- price_usd_per_m2: Precio en dolar del metro cuadrado de la propiedad.\n",
    "\n",
    "- price_per_m2: Precio en monedad local del metro cuadrado de la propiedad.\n",
    "\n",
    "- floor: String que indica el piso en el que se encuentra el departamento o cantidad de pisos que tiene una casa.\n",
    "\n",
    "- rooms: Cantidad de  ambientes que tiene la propiedad.\n",
    "\n",
    "- expenses: Valor de las expensas.\n",
    "\n",
    "- properati_url\n",
    "\n",
    "- description\n",
    "\n",
    "- title\n",
    "\n",
    "- image_thumbnail"
   ]
  },
  {
   "cell_type": "markdown",
   "metadata": {},
   "source": [
    "### Analisis de los campos del Dataset ###\n",
    "\n",
    "\n",
    "##### Eliminación de campos: ####\n",
    "\n",
    "Creamos una lista vacía donde iremos añadiendo los campos redundantes/ innecesarios que serán eliminados"
   ]
  },
  {
   "cell_type": "code",
   "execution_count": 5,
   "metadata": {},
   "outputs": [],
   "source": [
    "#Lista vacía de campos a eliminar:\n",
    "campos_a_eliminar=[]"
   ]
  },
  {
   "cell_type": "markdown",
   "metadata": {},
   "source": [
    "**Unnamed 0:** - Esta columna no tiene ninguna utilidad o función ya que volcamos el dataset a un objeto Dataframe que ya cuenta con su propio índice. Por ende se descarta."
   ]
  },
  {
   "cell_type": "code",
   "execution_count": 6,
   "metadata": {},
   "outputs": [],
   "source": [
    "#añadimos el campo a la lista eliminar\n",
    "campos_a_eliminar.append('Unnamed: 0')"
   ]
  },
  {
   "cell_type": "markdown",
   "metadata": {},
   "source": [
    "**Operation:** - Esta columna debería tener dos tipos de valores posibles (venta y alquiler). Podemos corrobar cuantos operaciones fueron venta y cuantas alquiler:"
   ]
  },
  {
   "cell_type": "code",
   "execution_count": 7,
   "metadata": {},
   "outputs": [
    {
     "data": {
      "text/plain": [
       "sell    121220\n",
       "Name: operation, dtype: int64"
      ]
     },
     "execution_count": 7,
     "metadata": {},
     "output_type": "execute_result"
    }
   ],
   "source": [
    "#Utilizamos el método value_counts para totalizar las operaciones de venta y alquier \n",
    "datos_crudos.operation.value_counts()"
   ]
  },
  {
   "cell_type": "markdown",
   "metadata": {},
   "source": [
    "Vemos que todas las operaciones realizadas han sido de ventas y ninguna de alquiler. Por lo tanto, esta columna no me aporta información y se descarta."
   ]
  },
  {
   "cell_type": "code",
   "execution_count": 8,
   "metadata": {},
   "outputs": [],
   "source": [
    "#añadimos el campo a la lista eliminar\n",
    "campos_a_eliminar.append('operation')"
   ]
  },
  {
   "cell_type": "markdown",
   "metadata": {},
   "source": [
    "**country_name** - A priori se debería descartar ya que, por definición, partimos de la base que la inmobiliaria Properatti es una empresa argentina que opera solo en dicho país. No obstante, podemos corroborar si todos los registros del campo country_name coinciden y son efectivamente \"Argentina\":"
   ]
  },
  {
   "cell_type": "code",
   "execution_count": 9,
   "metadata": {},
   "outputs": [
    {
     "data": {
      "text/plain": [
       "Argentina    121220\n",
       "Name: country_name, dtype: int64"
      ]
     },
     "execution_count": 9,
     "metadata": {},
     "output_type": "execute_result"
    }
   ],
   "source": [
    "#Utilizamos el método value_counts para totalizar los valores distinto que aparecen\n",
    "#en la columna country_name\n",
    "datos_crudos.country_name.value_counts()"
   ]
  },
  {
   "cell_type": "markdown",
   "metadata": {},
   "source": [
    "Confirmamos que todos los registros tiene el mismo valor por lo que el campo no aporta información y se decarta la columna."
   ]
  },
  {
   "cell_type": "code",
   "execution_count": 10,
   "metadata": {},
   "outputs": [],
   "source": [
    "#añadimos el campo a la lista eliminar\n",
    "campos_a_eliminar.append('country_name')"
   ]
  },
  {
   "cell_type": "markdown",
   "metadata": {},
   "source": [
    "place_with_parent_names: Es un campo que contiene la misma información que place_name, state_name y country_name separados\n",
    "por un caracter \"|\".\n",
    "\n",
    "A priori, uno podría descartar esta columna y quedarse con las columnas que cuentan con los valores ya separados.\n",
    "\n",
    "Sin embargo, vemos que place_name tiene registros nulos y place_with_parent_names no:"
   ]
  },
  {
   "cell_type": "code",
   "execution_count": 11,
   "metadata": {},
   "outputs": [
    {
     "data": {
      "text/plain": [
       "state_name                  0\n",
       "place_name                 23\n",
       "place_with_parent_names     0\n",
       "dtype: int64"
      ]
     },
     "execution_count": 11,
     "metadata": {},
     "output_type": "execute_result"
    }
   ],
   "source": [
    "datos_crudos[['state_name','place_name','place_with_parent_names']].isnull().sum()"
   ]
  },
  {
   "cell_type": "markdown",
   "metadata": {},
   "source": [
    "Por esto decidimos quedarnos con la ccolumna place_with_parent_names que tiene toda la mayor cantidad de información, \n",
    "a pesar que luego tendremos que procesarla.\n",
    "\n",
    "Descartamos los campos state_name y place_name:"
   ]
  },
  {
   "cell_type": "code",
   "execution_count": 12,
   "metadata": {},
   "outputs": [],
   "source": [
    "#añadimos los campos a la lista eliminar\n",
    "campos_a_eliminar.extend(('state_name','place_name'))"
   ]
  },
  {
   "cell_type": "markdown",
   "metadata": {},
   "source": [
    "geonames_id: Corresponde a una base de datos que asigna latitud y longitud a ciudades, provincias y otras\n",
    "entidades geográficas.\n",
    "\n",
    "No es útil para imputar las columnas de latitud y longitud ya que si queremos analizar los precios de las propiedades por barrio, esto introduciría un sesgo a los datos y empeoraría el valor predictivo\n",
    "de nuestro modelo. Por ende se descarta"
   ]
  },
  {
   "cell_type": "code",
   "execution_count": 13,
   "metadata": {},
   "outputs": [],
   "source": [
    "#añadimos los campos a la lista eliminar\n",
    "campos_a_eliminar.append('geonames_id')"
   ]
  },
  {
   "cell_type": "markdown",
   "metadata": {},
   "source": [
    "\n",
    "lat-lon: Tiene los datos de latitud y longitud separados por un caracter \"-\".\n",
    "Podríamos descartala y utilizar las columnas lat y lon en su lugar. Pero primero corroboramos la calidad\n",
    "de las columnas según cantidad de nulos:"
   ]
  },
  {
   "cell_type": "code",
   "execution_count": 14,
   "metadata": {},
   "outputs": [
    {
     "data": {
      "text/plain": [
       "lat-lon    51550\n",
       "lat        51550\n",
       "lon        51550\n",
       "dtype: int64"
      ]
     },
     "execution_count": 14,
     "metadata": {},
     "output_type": "execute_result"
    }
   ],
   "source": [
    "#Vemos la cantidad de nulos en las columnas:\n",
    "datos_crudos[['lat-lon','lat','lon']].isnull().sum()"
   ]
  },
  {
   "cell_type": "markdown",
   "metadata": {},
   "source": [
    "Como tienen la misma cantidad de datos, descartamos la columna lat-lon."
   ]
  },
  {
   "cell_type": "code",
   "execution_count": 15,
   "metadata": {},
   "outputs": [],
   "source": [
    "#añadimos los campos a la lista eliminar\n",
    "campos_a_eliminar.append('lat-lon')"
   ]
  },
  {
   "cell_type": "markdown",
   "metadata": {},
   "source": [
    "Ahora analizamos las columnas correspondientes al precio de las propiedades\n",
    "\n",
    "Tenemos las columnas price (precio en dólares), currency(moneda en que se cotiza), \n",
    "price_aprox_local_currency (precio aproximado en pesos) y price_aprox_usd (precio aproximado en dólares)\n",
    "\n",
    "\n",
    "Por un lado vemos que monedas se usaron para cotizar:"
   ]
  },
  {
   "cell_type": "code",
   "execution_count": 16,
   "metadata": {},
   "outputs": [
    {
     "data": {
      "text/plain": [
       "USD    87587\n",
       "ARS    13219\n",
       "PEN        2\n",
       "UYU        1\n",
       "Name: currency, dtype: int64"
      ]
     },
     "execution_count": 16,
     "metadata": {},
     "output_type": "execute_result"
    }
   ],
   "source": [
    "#Vemos cuantas monedas se utilizaron\n",
    "datos_crudos.currency.value_counts()"
   ]
  },
  {
   "cell_type": "markdown",
   "metadata": {},
   "source": [
    "La gran mayoria de las cotizaciones fue en dólares. Deberíamos tener una única columna con el precio de las propiedades en dólares.\n",
    "\n",
    "Ahora vemos si los precios en pesos han usado el mismo tipo de cambio:"
   ]
  },
  {
   "cell_type": "code",
   "execution_count": 17,
   "metadata": {},
   "outputs": [
    {
     "data": {
      "text/plain": [
       "17.6445    82402\n",
       "17.6445      714\n",
       "17.6445      670\n",
       "17.6445      224\n",
       "17.6445      224\n",
       "           ...  \n",
       "17.6445        1\n",
       "17.6445        1\n",
       "17.6445        1\n",
       "17.6445        1\n",
       "17.6445        1\n",
       "Length: 7238, dtype: int64"
      ]
     },
     "execution_count": 17,
     "metadata": {},
     "output_type": "execute_result"
    }
   ],
   "source": [
    "#Creamos un df dividiendo el precio aproximado en pesos por el precio aproximado en dólares\n",
    "valor_de_cambio=datos_crudos.price_aprox_local_currency/datos_crudos.price_aprox_usd\n",
    "\n",
    "#Vemos cuantas cotizaciones hubo\n",
    "valor_de_cambio.value_counts()"
   ]
  },
  {
   "cell_type": "code",
   "execution_count": 18,
   "metadata": {},
   "outputs": [
    {
     "name": "stdout",
     "output_type": "stream",
     "text": [
      "          price  price_aprox_usd  price_aprox_local_currency currency\n",
      "50387  380000.0        117139.33                  2066864.90      PEN\n",
      "50388  950000.0        292848.33                  5167162.35      PEN\n",
      "17.644499930125942\n",
      "17.64449997034301\n",
      "              price  price_aprox_usd  price_aprox_local_currency currency\n",
      "107390  650000000.0      22980378.29                4.054773e+08      UYU\n",
      "17.644499999656013\n"
     ]
    }
   ],
   "source": [
    "#Analizamos los tres casos en donde se utilizaron monedas que no son ni pesos ni dólares\n",
    "\n",
    "#La cotización resulta igual al tipo de cambio peso/dolar. Asumimos que el precio esta en pesos y hubo \n",
    "#un error de tipeo\n",
    "\n",
    "print(datos_crudos.loc[datos_crudos.currency=='PEN'][['price','price_aprox_usd','price_aprox_local_currency','currency']])\n",
    "print(datos_crudos.loc[50387,'price_aprox_local_currency']/datos_crudos.loc[50387,'price_aprox_usd'])\n",
    "print(datos_crudos.loc[50388,'price_aprox_local_currency']/datos_crudos.loc[50388,'price_aprox_usd'])\n",
    "\n",
    "print(datos_crudos.loc[datos_crudos.currency=='UYU'][['price','price_aprox_usd','price_aprox_local_currency','currency']])\n",
    "print(datos_crudos.loc[107390,'price_aprox_local_currency']/datos_crudos.loc[107390,'price_aprox_usd'])"
   ]
  },
  {
   "cell_type": "markdown",
   "metadata": {},
   "source": [
    "Todas los precios tienen un tipo de cambio de 17,6445. Probablemente, se haya tomado el tipo de cambio\n",
    "el dia de la fecha en que se exportó el dataset y se aplicó sobre los precios en dólares."
   ]
  },
  {
   "cell_type": "code",
   "execution_count": 19,
   "metadata": {},
   "outputs": [
    {
     "data": {
      "text/plain": [
       "price                         20410\n",
       "price_aprox_local_currency    20410\n",
       "price_aprox_usd               20410\n",
       "dtype: int64"
      ]
     },
     "execution_count": 19,
     "metadata": {},
     "output_type": "execute_result"
    }
   ],
   "source": [
    "#Vemos la cantidad de nulos en los campos relativos al precio\n",
    "datos_crudos[['price','price_aprox_local_currency','price_aprox_usd']].isnull().sum()"
   ]
  },
  {
   "cell_type": "markdown",
   "metadata": {},
   "source": [
    "Nos quedamos con la columna price_aprox_usd."
   ]
  },
  {
   "cell_type": "code",
   "execution_count": 20,
   "metadata": {},
   "outputs": [],
   "source": [
    "#añadimos los campos a la lista eliminar\n",
    "campos_a_eliminar.extend(('price','price_aprox_local_currency','currency'))"
   ]
  },
  {
   "cell_type": "code",
   "execution_count": 21,
   "metadata": {},
   "outputs": [
    {
     "data": {
      "text/plain": [
       "['Unnamed: 0',\n",
       " 'operation',\n",
       " 'country_name',\n",
       " 'state_name',\n",
       " 'place_name',\n",
       " 'geonames_id',\n",
       " 'lat-lon',\n",
       " 'price',\n",
       " 'price_aprox_local_currency',\n",
       " 'currency']"
      ]
     },
     "execution_count": 21,
     "metadata": {},
     "output_type": "execute_result"
    }
   ],
   "source": [
    "campos_a_eliminar"
   ]
  },
  {
   "cell_type": "code",
   "execution_count": 22,
   "metadata": {},
   "outputs": [
    {
     "data": {
      "text/html": [
       "<div>\n",
       "<style scoped>\n",
       "    .dataframe tbody tr th:only-of-type {\n",
       "        vertical-align: middle;\n",
       "    }\n",
       "\n",
       "    .dataframe tbody tr th {\n",
       "        vertical-align: top;\n",
       "    }\n",
       "\n",
       "    .dataframe thead th {\n",
       "        text-align: right;\n",
       "    }\n",
       "</style>\n",
       "<table border=\"1\" class=\"dataframe\">\n",
       "  <thead>\n",
       "    <tr style=\"text-align: right;\">\n",
       "      <th></th>\n",
       "      <th>property_type</th>\n",
       "      <th>place_with_parent_names</th>\n",
       "      <th>lat</th>\n",
       "      <th>lon</th>\n",
       "      <th>price_aprox_usd</th>\n",
       "      <th>surface_total_in_m2</th>\n",
       "      <th>surface_covered_in_m2</th>\n",
       "      <th>price_usd_per_m2</th>\n",
       "      <th>price_per_m2</th>\n",
       "      <th>floor</th>\n",
       "      <th>rooms</th>\n",
       "      <th>expenses</th>\n",
       "      <th>properati_url</th>\n",
       "      <th>description</th>\n",
       "      <th>title</th>\n",
       "      <th>image_thumbnail</th>\n",
       "    </tr>\n",
       "  </thead>\n",
       "  <tbody>\n",
       "    <tr>\n",
       "      <th>0</th>\n",
       "      <td>PH</td>\n",
       "      <td>|Argentina|Capital Federal|Mataderos|</td>\n",
       "      <td>-34.661824</td>\n",
       "      <td>-58.508839</td>\n",
       "      <td>62000.0</td>\n",
       "      <td>55.0</td>\n",
       "      <td>40.0</td>\n",
       "      <td>1127.272727</td>\n",
       "      <td>1550.000000</td>\n",
       "      <td>NaN</td>\n",
       "      <td>NaN</td>\n",
       "      <td>NaN</td>\n",
       "      <td>http://www.properati.com.ar/15bo8_venta_ph_mat...</td>\n",
       "      <td>2 AMBIENTES TIPO CASA PLANTA BAJA POR PASILLO,...</td>\n",
       "      <td>2 AMB TIPO CASA SIN EXPENSAS EN PB</td>\n",
       "      <td>https://thumbs4.properati.com/8/BluUYiHJLhgIIK...</td>\n",
       "    </tr>\n",
       "    <tr>\n",
       "      <th>1</th>\n",
       "      <td>apartment</td>\n",
       "      <td>|Argentina|Bs.As. G.B.A. Zona Sur|La Plata|</td>\n",
       "      <td>-34.903883</td>\n",
       "      <td>-57.964330</td>\n",
       "      <td>150000.0</td>\n",
       "      <td>NaN</td>\n",
       "      <td>NaN</td>\n",
       "      <td>NaN</td>\n",
       "      <td>NaN</td>\n",
       "      <td>NaN</td>\n",
       "      <td>NaN</td>\n",
       "      <td>NaN</td>\n",
       "      <td>http://www.properati.com.ar/15bob_venta_depart...</td>\n",
       "      <td>Venta de departamento en décimo piso al frente...</td>\n",
       "      <td>VENTA Depto 2 dorm. a estrenar 7 e/ 36 y 37   ...</td>\n",
       "      <td>https://thumbs4.properati.com/7/ikpVBu2ztHA7jv...</td>\n",
       "    </tr>\n",
       "    <tr>\n",
       "      <th>2</th>\n",
       "      <td>apartment</td>\n",
       "      <td>|Argentina|Capital Federal|Mataderos|</td>\n",
       "      <td>-34.652262</td>\n",
       "      <td>-58.522982</td>\n",
       "      <td>72000.0</td>\n",
       "      <td>55.0</td>\n",
       "      <td>55.0</td>\n",
       "      <td>1309.090909</td>\n",
       "      <td>1309.090909</td>\n",
       "      <td>NaN</td>\n",
       "      <td>NaN</td>\n",
       "      <td>NaN</td>\n",
       "      <td>http://www.properati.com.ar/15bod_venta_depart...</td>\n",
       "      <td>2 AMBIENTES 3ER PISO LATERAL LIVING COMEDOR AM...</td>\n",
       "      <td>2 AMB 3ER PISO CON ASCENSOR APTO CREDITO</td>\n",
       "      <td>https://thumbs4.properati.com/5/SXKr34F_IwG3W_...</td>\n",
       "    </tr>\n",
       "  </tbody>\n",
       "</table>\n",
       "</div>"
      ],
      "text/plain": [
       "  property_type                      place_with_parent_names        lat  \\\n",
       "0            PH        |Argentina|Capital Federal|Mataderos| -34.661824   \n",
       "1     apartment  |Argentina|Bs.As. G.B.A. Zona Sur|La Plata| -34.903883   \n",
       "2     apartment        |Argentina|Capital Federal|Mataderos| -34.652262   \n",
       "\n",
       "         lon  price_aprox_usd  surface_total_in_m2  surface_covered_in_m2  \\\n",
       "0 -58.508839          62000.0                 55.0                   40.0   \n",
       "1 -57.964330         150000.0                  NaN                    NaN   \n",
       "2 -58.522982          72000.0                 55.0                   55.0   \n",
       "\n",
       "   price_usd_per_m2  price_per_m2  floor  rooms  expenses  \\\n",
       "0       1127.272727   1550.000000    NaN    NaN       NaN   \n",
       "1               NaN           NaN    NaN    NaN       NaN   \n",
       "2       1309.090909   1309.090909    NaN    NaN       NaN   \n",
       "\n",
       "                                       properati_url  \\\n",
       "0  http://www.properati.com.ar/15bo8_venta_ph_mat...   \n",
       "1  http://www.properati.com.ar/15bob_venta_depart...   \n",
       "2  http://www.properati.com.ar/15bod_venta_depart...   \n",
       "\n",
       "                                         description  \\\n",
       "0  2 AMBIENTES TIPO CASA PLANTA BAJA POR PASILLO,...   \n",
       "1  Venta de departamento en décimo piso al frente...   \n",
       "2  2 AMBIENTES 3ER PISO LATERAL LIVING COMEDOR AM...   \n",
       "\n",
       "                                               title  \\\n",
       "0                 2 AMB TIPO CASA SIN EXPENSAS EN PB   \n",
       "1  VENTA Depto 2 dorm. a estrenar 7 e/ 36 y 37   ...   \n",
       "2           2 AMB 3ER PISO CON ASCENSOR APTO CREDITO   \n",
       "\n",
       "                                     image_thumbnail  \n",
       "0  https://thumbs4.properati.com/8/BluUYiHJLhgIIK...  \n",
       "1  https://thumbs4.properati.com/7/ikpVBu2ztHA7jv...  \n",
       "2  https://thumbs4.properati.com/5/SXKr34F_IwG3W_...  "
      ]
     },
     "execution_count": 22,
     "metadata": {},
     "output_type": "execute_result"
    }
   ],
   "source": [
    "#Damos de baja las columnas \n",
    "\n",
    "datos= datos_crudos.drop(campos_a_eliminar, axis=1)\n",
    "\n",
    "datos.head(3)"
   ]
  },
  {
   "cell_type": "markdown",
   "metadata": {},
   "source": [
    "### Visualizamos la calidad de cada columna según cantidad de valores nulos"
   ]
  },
  {
   "cell_type": "code",
   "execution_count": 23,
   "metadata": {},
   "outputs": [
    {
     "data": {
      "text/html": [
       "<div>\n",
       "<style scoped>\n",
       "    .dataframe tbody tr th:only-of-type {\n",
       "        vertical-align: middle;\n",
       "    }\n",
       "\n",
       "    .dataframe tbody tr th {\n",
       "        vertical-align: top;\n",
       "    }\n",
       "\n",
       "    .dataframe thead th {\n",
       "        text-align: right;\n",
       "    }\n",
       "</style>\n",
       "<table border=\"1\" class=\"dataframe\">\n",
       "  <thead>\n",
       "    <tr style=\"text-align: right;\">\n",
       "      <th></th>\n",
       "      <th>valores_no_nulos</th>\n",
       "      <th>valores_nulos</th>\n",
       "    </tr>\n",
       "  </thead>\n",
       "  <tbody>\n",
       "    <tr>\n",
       "      <th>property_type</th>\n",
       "      <td>1.000000</td>\n",
       "      <td>0.000000</td>\n",
       "    </tr>\n",
       "    <tr>\n",
       "      <th>place_with_parent_names</th>\n",
       "      <td>1.000000</td>\n",
       "      <td>0.000000</td>\n",
       "    </tr>\n",
       "    <tr>\n",
       "      <th>lat</th>\n",
       "      <td>0.574740</td>\n",
       "      <td>0.425260</td>\n",
       "    </tr>\n",
       "    <tr>\n",
       "      <th>lon</th>\n",
       "      <td>0.574740</td>\n",
       "      <td>0.425260</td>\n",
       "    </tr>\n",
       "    <tr>\n",
       "      <th>price_aprox_usd</th>\n",
       "      <td>0.831628</td>\n",
       "      <td>0.168372</td>\n",
       "    </tr>\n",
       "    <tr>\n",
       "      <th>surface_total_in_m2</th>\n",
       "      <td>0.675565</td>\n",
       "      <td>0.324435</td>\n",
       "    </tr>\n",
       "    <tr>\n",
       "      <th>surface_covered_in_m2</th>\n",
       "      <td>0.835778</td>\n",
       "      <td>0.164222</td>\n",
       "    </tr>\n",
       "    <tr>\n",
       "      <th>price_usd_per_m2</th>\n",
       "      <td>0.566053</td>\n",
       "      <td>0.433947</td>\n",
       "    </tr>\n",
       "    <tr>\n",
       "      <th>price_per_m2</th>\n",
       "      <td>0.723131</td>\n",
       "      <td>0.276869</td>\n",
       "    </tr>\n",
       "    <tr>\n",
       "      <th>floor</th>\n",
       "      <td>0.065163</td>\n",
       "      <td>0.934837</td>\n",
       "    </tr>\n",
       "    <tr>\n",
       "      <th>rooms</th>\n",
       "      <td>0.390942</td>\n",
       "      <td>0.609058</td>\n",
       "    </tr>\n",
       "    <tr>\n",
       "      <th>expenses</th>\n",
       "      <td>0.117654</td>\n",
       "      <td>0.882346</td>\n",
       "    </tr>\n",
       "    <tr>\n",
       "      <th>properati_url</th>\n",
       "      <td>1.000000</td>\n",
       "      <td>0.000000</td>\n",
       "    </tr>\n",
       "    <tr>\n",
       "      <th>description</th>\n",
       "      <td>0.999984</td>\n",
       "      <td>0.000016</td>\n",
       "    </tr>\n",
       "    <tr>\n",
       "      <th>title</th>\n",
       "      <td>1.000000</td>\n",
       "      <td>0.000000</td>\n",
       "    </tr>\n",
       "    <tr>\n",
       "      <th>image_thumbnail</th>\n",
       "      <td>0.974328</td>\n",
       "      <td>0.025672</td>\n",
       "    </tr>\n",
       "  </tbody>\n",
       "</table>\n",
       "</div>"
      ],
      "text/plain": [
       "                         valores_no_nulos  valores_nulos\n",
       "property_type                    1.000000       0.000000\n",
       "place_with_parent_names          1.000000       0.000000\n",
       "lat                              0.574740       0.425260\n",
       "lon                              0.574740       0.425260\n",
       "price_aprox_usd                  0.831628       0.168372\n",
       "surface_total_in_m2              0.675565       0.324435\n",
       "surface_covered_in_m2            0.835778       0.164222\n",
       "price_usd_per_m2                 0.566053       0.433947\n",
       "price_per_m2                     0.723131       0.276869\n",
       "floor                            0.065163       0.934837\n",
       "rooms                            0.390942       0.609058\n",
       "expenses                         0.117654       0.882346\n",
       "properati_url                    1.000000       0.000000\n",
       "description                      0.999984       0.000016\n",
       "title                            1.000000       0.000000\n",
       "image_thumbnail                  0.974328       0.025672"
      ]
     },
     "execution_count": 23,
     "metadata": {},
     "output_type": "execute_result"
    }
   ],
   "source": [
    "#Creamos dos series donde guardamos los porcentajes de valores nulos y no nulos de cada campo\n",
    "valores_nulos=datos.isnull().sum()/datos.shape[0]\n",
    "\n",
    "valores_no_nulos=datos.notnull().sum()/datos.shape[0]\n",
    "\n",
    "#Usando ambas series, instanciamos un dataframe\n",
    "df_calidad_columnas=pd.DataFrame(dict(valores_no_nulos=valores_no_nulos,valores_nulos=valores_nulos))\n",
    "\n",
    "df_calidad_columnas"
   ]
  },
  {
   "cell_type": "markdown",
   "metadata": {},
   "source": [
    "### Utilizamos un gráfico de barras para visualizar la calidad de las columnas"
   ]
  },
  {
   "cell_type": "code",
   "execution_count": 24,
   "metadata": {},
   "outputs": [
    {
     "name": "stderr",
     "output_type": "stream",
     "text": [
      "C:\\Users\\fpeloso\\AppData\\Local\\Temp\\ipykernel_1276\\1661578272.py:19: UserWarning: FixedFormatter should only be used together with FixedLocator\n",
      "  ax.set_xticklabels(ind)\n",
      "C:\\Users\\fpeloso\\AppData\\Local\\Temp\\ipykernel_1276\\1661578272.py:22: UserWarning: FixedFormatter should only be used together with FixedLocator\n",
      "  ax.set_xticklabels(ind, rotation = 90, ha=\"right\")\n"
     ]
    },
    {
     "data": {
      "image/png": "[encoded data removed]",
      "text/plain": [
       "<Figure size 1600x600 with 1 Axes>"
      ]
     },
     "metadata": {},
     "output_type": "display_data"
    }
   ],
   "source": [
    "ind=datos.columns\n",
    "ind_label=np.arange(0,datos.shape[1]-1)\n",
    "\n",
    "valores_nulos=datos.isnull().sum()/datos.shape[0]\n",
    "\n",
    "valores_no_nulos=datos.notnull().sum()/datos.shape[0]\n",
    "\n",
    "width = 0.25\n",
    "\n",
    "fig = plt.figure(figsize=(16,6)); ax = plt.axes()\n",
    "#fig2= plt.figure(figsize=(16,6)); ax2 = plt.axes()\n",
    "\n",
    "ax.bar(ind, valores_nulos, width, color='r') # barra roja. \n",
    "ax.bar(ind, valores_no_nulos, width, color='b',bottom=valores_nulos)\n",
    "#ax2.bar(ind, valores_no_nulos, width, color='b')#, bottom=valores_no_nulos) # barra azul \n",
    "\n",
    "ax.set_ylabel('Porcentaje'); ax.set_title('Valores Nulos y No-Nulos por Columna')\n",
    "#ax.set_xticks(ind); \n",
    "ax.set_xticklabels(ind)\n",
    "ax.tick_params(axis='both', which='minor', labelsize='small')\n",
    "\n",
    "ax.set_xticklabels(ind, rotation = 90, ha=\"right\")\n",
    "#ax2.set_xticklabels(ind,labelsize=8)\n",
    "#ax.legend(labels=['Men', 'Women'])\n",
    "\n",
    "#plt.gca().invert_xaxis()\n",
    "plt.show()\n"
   ]
  },
  {
   "cell_type": "code",
   "execution_count": 26,
   "metadata": {},
   "outputs": [],
   "source": [
    "#estaria para dropear pric, curency y el precio en moneda local\n",
    "\n",
    "#usar datos de comentarios para validar, que la información sea consistente \n",
    "\n",
    "#validar "
   ]
  },
  {
   "cell_type": "markdown",
   "metadata": {},
   "source": [
    "## Procesamiento de columna places para crear nuevas columnas de ubicación geográfica "
   ]
  },
  {
   "cell_type": "code",
   "execution_count": 27,
   "metadata": {},
   "outputs": [
    {
     "data": {
      "text/html": [
       "<div>\n",
       "<style scoped>\n",
       "    .dataframe tbody tr th:only-of-type {\n",
       "        vertical-align: middle;\n",
       "    }\n",
       "\n",
       "    .dataframe tbody tr th {\n",
       "        vertical-align: top;\n",
       "    }\n",
       "\n",
       "    .dataframe thead th {\n",
       "        text-align: right;\n",
       "    }\n",
       "</style>\n",
       "<table border=\"1\" class=\"dataframe\">\n",
       "  <thead>\n",
       "    <tr style=\"text-align: right;\">\n",
       "      <th></th>\n",
       "      <th>0</th>\n",
       "      <th>1</th>\n",
       "      <th>2</th>\n",
       "      <th>3</th>\n",
       "      <th>4</th>\n",
       "      <th>5</th>\n",
       "      <th>6</th>\n",
       "    </tr>\n",
       "  </thead>\n",
       "  <tbody>\n",
       "    <tr>\n",
       "      <th>0</th>\n",
       "      <td></td>\n",
       "      <td>Argentina</td>\n",
       "      <td>Capital Federal</td>\n",
       "      <td>Mataderos</td>\n",
       "      <td></td>\n",
       "      <td>None</td>\n",
       "      <td>None</td>\n",
       "    </tr>\n",
       "    <tr>\n",
       "      <th>1</th>\n",
       "      <td></td>\n",
       "      <td>Argentina</td>\n",
       "      <td>Bs.As. G.B.A. Zona Sur</td>\n",
       "      <td>La Plata</td>\n",
       "      <td></td>\n",
       "      <td>None</td>\n",
       "      <td>None</td>\n",
       "    </tr>\n",
       "    <tr>\n",
       "      <th>2</th>\n",
       "      <td></td>\n",
       "      <td>Argentina</td>\n",
       "      <td>Capital Federal</td>\n",
       "      <td>Mataderos</td>\n",
       "      <td></td>\n",
       "      <td>None</td>\n",
       "      <td>None</td>\n",
       "    </tr>\n",
       "    <tr>\n",
       "      <th>3</th>\n",
       "      <td></td>\n",
       "      <td>Argentina</td>\n",
       "      <td>Capital Federal</td>\n",
       "      <td>Liniers</td>\n",
       "      <td></td>\n",
       "      <td>None</td>\n",
       "      <td>None</td>\n",
       "    </tr>\n",
       "    <tr>\n",
       "      <th>4</th>\n",
       "      <td></td>\n",
       "      <td>Argentina</td>\n",
       "      <td>Buenos Aires Costa Atlántica</td>\n",
       "      <td>Mar del Plata</td>\n",
       "      <td>Centro</td>\n",
       "      <td></td>\n",
       "      <td>None</td>\n",
       "    </tr>\n",
       "    <tr>\n",
       "      <th>...</th>\n",
       "      <td>...</td>\n",
       "      <td>...</td>\n",
       "      <td>...</td>\n",
       "      <td>...</td>\n",
       "      <td>...</td>\n",
       "      <td>...</td>\n",
       "      <td>...</td>\n",
       "    </tr>\n",
       "    <tr>\n",
       "      <th>121215</th>\n",
       "      <td></td>\n",
       "      <td>Argentina</td>\n",
       "      <td>Capital Federal</td>\n",
       "      <td>Belgrano</td>\n",
       "      <td></td>\n",
       "      <td>None</td>\n",
       "      <td>None</td>\n",
       "    </tr>\n",
       "    <tr>\n",
       "      <th>121216</th>\n",
       "      <td></td>\n",
       "      <td>Argentina</td>\n",
       "      <td>Bs.As. G.B.A. Zona Norte</td>\n",
       "      <td>San Isidro</td>\n",
       "      <td>Beccar</td>\n",
       "      <td></td>\n",
       "      <td>None</td>\n",
       "    </tr>\n",
       "    <tr>\n",
       "      <th>121217</th>\n",
       "      <td></td>\n",
       "      <td>Argentina</td>\n",
       "      <td>Capital Federal</td>\n",
       "      <td>Villa Urquiza</td>\n",
       "      <td></td>\n",
       "      <td>None</td>\n",
       "      <td>None</td>\n",
       "    </tr>\n",
       "    <tr>\n",
       "      <th>121218</th>\n",
       "      <td></td>\n",
       "      <td>Argentina</td>\n",
       "      <td>Buenos Aires Costa Atlántica</td>\n",
       "      <td>Mar del Plata</td>\n",
       "      <td>Plaza Colón</td>\n",
       "      <td></td>\n",
       "      <td>None</td>\n",
       "    </tr>\n",
       "    <tr>\n",
       "      <th>121219</th>\n",
       "      <td></td>\n",
       "      <td>Argentina</td>\n",
       "      <td>Capital Federal</td>\n",
       "      <td></td>\n",
       "      <td>None</td>\n",
       "      <td>None</td>\n",
       "      <td>None</td>\n",
       "    </tr>\n",
       "  </tbody>\n",
       "</table>\n",
       "<p>121220 rows × 7 columns</p>\n",
       "</div>"
      ],
      "text/plain": [
       "       0           1                             2              3  \\\n",
       "0          Argentina               Capital Federal      Mataderos   \n",
       "1          Argentina        Bs.As. G.B.A. Zona Sur       La Plata   \n",
       "2          Argentina               Capital Federal      Mataderos   \n",
       "3          Argentina               Capital Federal        Liniers   \n",
       "4          Argentina  Buenos Aires Costa Atlántica  Mar del Plata   \n",
       "...    ..        ...                           ...            ...   \n",
       "121215     Argentina               Capital Federal       Belgrano   \n",
       "121216     Argentina      Bs.As. G.B.A. Zona Norte     San Isidro   \n",
       "121217     Argentina               Capital Federal  Villa Urquiza   \n",
       "121218     Argentina  Buenos Aires Costa Atlántica  Mar del Plata   \n",
       "121219     Argentina               Capital Federal                  \n",
       "\n",
       "                  4     5     6  \n",
       "0                    None  None  \n",
       "1                    None  None  \n",
       "2                    None  None  \n",
       "3                    None  None  \n",
       "4            Centro        None  \n",
       "...             ...   ...   ...  \n",
       "121215               None  None  \n",
       "121216       Beccar        None  \n",
       "121217               None  None  \n",
       "121218  Plaza Colón        None  \n",
       "121219         None  None  None  \n",
       "\n",
       "[121220 rows x 7 columns]"
      ]
     },
     "execution_count": 27,
     "metadata": {},
     "output_type": "execute_result"
    }
   ],
   "source": [
    "#Creo un dataframe nuevo separando los campso de la columna places_with_parents\n",
    "ubicacion = datos[\"place_with_parent_names\"].str.split('|', expand=True) # Separo en varias columnas\n",
    "#Visualizamos el dataframe creado:\n",
    "ubicacion"
   ]
  },
  {
   "cell_type": "code",
   "execution_count": 28,
   "metadata": {},
   "outputs": [
    {
     "name": "stdout",
     "output_type": "stream",
     "text": [
      "Porcentaje vacios en columna 0  : 0.0\n",
      "Porcentaje vacios en columna 1  : 0.0\n",
      "Porcentaje vacios en columna 2  : 0.0\n",
      "Porcentaje vacios en columna 3  : 0.0\n",
      "Porcentaje vacios en columna 4  : 0.03943243689160204\n",
      "Porcentaje vacios en columna 5  : 0.6663916845405049\n",
      "Porcentaje vacios en columna 6  : 0.9954792938459001\n"
     ]
    }
   ],
   "source": [
    "#Vemos cantidad de valores vacios/nulos en cada columna\n",
    "for i in range(ubicacion.shape[1]):\n",
    "    print('Porcentaje vacios en columna', i ,' :' ,ubicacion.iloc[:,i].isna().sum()/ubicacion.shape[0])\n"
   ]
  },
  {
   "cell_type": "markdown",
   "metadata": {},
   "source": [
    "Eliminamos la columna 0 por ser un índice redundante, la columna 1 por tener el dato de País que ya decidimos descartar y la columna 6 por su alta tasa de registros vacios."
   ]
  },
  {
   "cell_type": "code",
   "execution_count": 29,
   "metadata": {},
   "outputs": [
    {
     "data": {
      "text/html": [
       "<div>\n",
       "<style scoped>\n",
       "    .dataframe tbody tr th:only-of-type {\n",
       "        vertical-align: middle;\n",
       "    }\n",
       "\n",
       "    .dataframe tbody tr th {\n",
       "        vertical-align: top;\n",
       "    }\n",
       "\n",
       "    .dataframe thead th {\n",
       "        text-align: right;\n",
       "    }\n",
       "</style>\n",
       "<table border=\"1\" class=\"dataframe\">\n",
       "  <thead>\n",
       "    <tr style=\"text-align: right;\">\n",
       "      <th></th>\n",
       "      <th>provincia</th>\n",
       "      <th>ciudad</th>\n",
       "      <th>barrio1</th>\n",
       "      <th>barrio2</th>\n",
       "    </tr>\n",
       "  </thead>\n",
       "  <tbody>\n",
       "    <tr>\n",
       "      <th>0</th>\n",
       "      <td>Capital Federal</td>\n",
       "      <td>Mataderos</td>\n",
       "      <td></td>\n",
       "      <td>None</td>\n",
       "    </tr>\n",
       "    <tr>\n",
       "      <th>1</th>\n",
       "      <td>Bs.As. G.B.A. Zona Sur</td>\n",
       "      <td>La Plata</td>\n",
       "      <td></td>\n",
       "      <td>None</td>\n",
       "    </tr>\n",
       "    <tr>\n",
       "      <th>2</th>\n",
       "      <td>Capital Federal</td>\n",
       "      <td>Mataderos</td>\n",
       "      <td></td>\n",
       "      <td>None</td>\n",
       "    </tr>\n",
       "    <tr>\n",
       "      <th>3</th>\n",
       "      <td>Capital Federal</td>\n",
       "      <td>Liniers</td>\n",
       "      <td></td>\n",
       "      <td>None</td>\n",
       "    </tr>\n",
       "    <tr>\n",
       "      <th>4</th>\n",
       "      <td>Buenos Aires Costa Atlántica</td>\n",
       "      <td>Mar del Plata</td>\n",
       "      <td>Centro</td>\n",
       "      <td></td>\n",
       "    </tr>\n",
       "    <tr>\n",
       "      <th>...</th>\n",
       "      <td>...</td>\n",
       "      <td>...</td>\n",
       "      <td>...</td>\n",
       "      <td>...</td>\n",
       "    </tr>\n",
       "    <tr>\n",
       "      <th>121215</th>\n",
       "      <td>Capital Federal</td>\n",
       "      <td>Belgrano</td>\n",
       "      <td></td>\n",
       "      <td>None</td>\n",
       "    </tr>\n",
       "    <tr>\n",
       "      <th>121216</th>\n",
       "      <td>Bs.As. G.B.A. Zona Norte</td>\n",
       "      <td>San Isidro</td>\n",
       "      <td>Beccar</td>\n",
       "      <td></td>\n",
       "    </tr>\n",
       "    <tr>\n",
       "      <th>121217</th>\n",
       "      <td>Capital Federal</td>\n",
       "      <td>Villa Urquiza</td>\n",
       "      <td></td>\n",
       "      <td>None</td>\n",
       "    </tr>\n",
       "    <tr>\n",
       "      <th>121218</th>\n",
       "      <td>Buenos Aires Costa Atlántica</td>\n",
       "      <td>Mar del Plata</td>\n",
       "      <td>Plaza Colón</td>\n",
       "      <td></td>\n",
       "    </tr>\n",
       "    <tr>\n",
       "      <th>121219</th>\n",
       "      <td>Capital Federal</td>\n",
       "      <td></td>\n",
       "      <td>None</td>\n",
       "      <td>None</td>\n",
       "    </tr>\n",
       "  </tbody>\n",
       "</table>\n",
       "<p>121220 rows × 4 columns</p>\n",
       "</div>"
      ],
      "text/plain": [
       "                           provincia         ciudad      barrio1 barrio2\n",
       "0                    Capital Federal      Mataderos                 None\n",
       "1             Bs.As. G.B.A. Zona Sur       La Plata                 None\n",
       "2                    Capital Federal      Mataderos                 None\n",
       "3                    Capital Federal        Liniers                 None\n",
       "4       Buenos Aires Costa Atlántica  Mar del Plata       Centro        \n",
       "...                              ...            ...          ...     ...\n",
       "121215               Capital Federal       Belgrano                 None\n",
       "121216      Bs.As. G.B.A. Zona Norte     San Isidro       Beccar        \n",
       "121217               Capital Federal  Villa Urquiza                 None\n",
       "121218  Buenos Aires Costa Atlántica  Mar del Plata  Plaza Colón        \n",
       "121219               Capital Federal                        None    None\n",
       "\n",
       "[121220 rows x 4 columns]"
      ]
     },
     "execution_count": 29,
     "metadata": {},
     "output_type": "execute_result"
    }
   ],
   "source": [
    "#Creamos un df con las columnas de interes y el nombre de las columnas\n",
    "ubicacion_limpia=ubicacion.drop([0,1,6],axis=1,inplace=False)\n",
    "ubicacion_limpia.columns=['provincia','ciudad','barrio1','barrio2']\n",
    "ubicacion_limpia"
   ]
  },
  {
   "cell_type": "code",
   "execution_count": 30,
   "metadata": {},
   "outputs": [
    {
     "data": {
      "text/plain": [
       "0             Mataderos\n",
       "1                      \n",
       "2             Mataderos\n",
       "3               Liniers\n",
       "4                Centro\n",
       "              ...      \n",
       "121215         Belgrano\n",
       "121216           Beccar\n",
       "121217    Villa Urquiza\n",
       "121218      Plaza Colón\n",
       "121219                 \n",
       "Length: 121220, dtype: object"
      ]
     },
     "execution_count": 30,
     "metadata": {},
     "output_type": "execute_result"
    }
   ],
   "source": [
    "#aca pongo capturo los barrios de capital federal que estan en la columna ciudad\n",
    "#esto se debe a que Capital Federal se guarda en la columna provinci\n",
    "\n",
    "barrio_limpio=ubicacion_limpia.apply(lambda x: x['ciudad'] if x['provincia'] =='Capital Federal' else x['barrio1'],axis=1)\n",
    "\n",
    "#precio_m2_imputado=datos.apply(lambda x: x['price']/x['surface_total_in_m2']  if x['price_usd_per_m2'] is np.NAN else x['price_usd_per_m2'], axis=1)\n",
    "barrio_limpio"
   ]
  },
  {
   "cell_type": "code",
   "execution_count": 31,
   "metadata": {},
   "outputs": [],
   "source": [
    "ubicacion_limpia['barrio1']=barrio_limpio"
   ]
  },
  {
   "cell_type": "code",
   "execution_count": 32,
   "metadata": {},
   "outputs": [],
   "source": [
    "ciudad_limpia=ubicacion_limpia.apply(lambda x: x['provincia'] if x['provincia'] =='Capital Federal' else x['ciudad'],axis=1)"
   ]
  },
  {
   "cell_type": "code",
   "execution_count": 33,
   "metadata": {},
   "outputs": [],
   "source": [
    "ubicacion_limpia['ciudad']=ciudad_limpia"
   ]
  },
  {
   "cell_type": "code",
   "execution_count": 34,
   "metadata": {},
   "outputs": [
    {
     "data": {
      "text/plain": [
       "                             39892\n",
       "Barrio Los Alisos              278\n",
       "Barrio La Alameda               62\n",
       "BarrioPortezuelo                54\n",
       "Barrio Los Lagos                39\n",
       "Barrio El Golf                  32\n",
       "Enyoi                           17\n",
       "Barrio Los Castores             14\n",
       "QBay Yacht                      13\n",
       "Barrio Las Glorietas            10\n",
       "Barrio La Isla                  10\n",
       "Islas del Canal                  6\n",
       "Barrio Los Sauces                4\n",
       "Barrio Barrancas del Lago        4\n",
       "Barrio Cabos del Lago            3\n",
       "Barrio Los Tilos                 1\n",
       "Barrio El Yacht                  1\n",
       "Name: barrio2, dtype: int64"
      ]
     },
     "execution_count": 34,
     "metadata": {},
     "output_type": "execute_result"
    }
   ],
   "source": [
    "ubicacion_limpia.barrio2.value_counts()"
   ]
  },
  {
   "cell_type": "code",
   "execution_count": 35,
   "metadata": {},
   "outputs": [
    {
     "data": {
      "text/plain": [
       "80780"
      ]
     },
     "execution_count": 35,
     "metadata": {},
     "output_type": "execute_result"
    }
   ],
   "source": [
    "#Ademas de 40.000 registros vacios, hay mas de 80.000 registros nulos \n",
    "ubicacion_limpia.barrio2.isnull().sum()"
   ]
  },
  {
   "cell_type": "code",
   "execution_count": 36,
   "metadata": {},
   "outputs": [
    {
     "data": {
      "text/plain": [
       "Barrio Los Alisos            278\n",
       "Barrio La Alameda             62\n",
       "BarrioPortezuelo              54\n",
       "Barrio Los Lagos              39\n",
       "Barrio El Golf                32\n",
       "Enyoi                         17\n",
       "Barrio Los Castores           14\n",
       "QBay Yacht                    13\n",
       "Barrio Las Glorietas          10\n",
       "Barrio La Isla                10\n",
       "Islas del Canal                6\n",
       "Barrio Los Sauces              4\n",
       "Barrio Barrancas del Lago      4\n",
       "Barrio Cabos del Lago          3\n",
       "Barrio Los Tilos               1\n",
       "Barrio El Yacht                1\n",
       "Name: barrio2, dtype: int64"
      ]
     },
     "execution_count": 36,
     "metadata": {},
     "output_type": "execute_result"
    }
   ],
   "source": [
    "#Creo una mascara para filtrar los registros vacío y nulos\n",
    "mascara_barrio2 = ((ubicacion_limpia['barrio2']!='') & (ubicacion_limpia['barrio2'].notnull()))\n",
    "\n",
    "#Aplicamos el filtro a la columna barrio 2 y vemos cuantos valores quedan\n",
    "barrio_2_filtrado=ubicacion_limpia['barrio2'].loc[mascara_barrio2]\n",
    "\n",
    "barrio_2_filtrado.value_counts()"
   ]
  },
  {
   "cell_type": "code",
   "execution_count": 37,
   "metadata": {},
   "outputs": [
    {
     "data": {
      "text/plain": [
       "17                   Barrio El Golf\n",
       "33                   Barrio El Golf\n",
       "278            Barrio Las Glorietas\n",
       "416                Barrio Los Lagos\n",
       "446            Barrio Las Glorietas\n",
       "                    ...            \n",
       "117011                   QBay Yacht\n",
       "118210             Barrio Los Lagos\n",
       "118841    Barrio Barrancas del Lago\n",
       "119583    Barrio Barrancas del Lago\n",
       "120156    Barrio Barrancas del Lago\n",
       "Name: barrio2, Length: 548, dtype: object"
      ]
     },
     "execution_count": 37,
     "metadata": {},
     "output_type": "execute_result"
    }
   ],
   "source": [
    "barrio_2_filtrado"
   ]
  },
  {
   "cell_type": "code",
   "execution_count": 38,
   "metadata": {},
   "outputs": [],
   "source": [
    "ubicacion_limpia.barrio1.loc[mascara_barrio2]=barrio_2_filtrado"
   ]
  },
  {
   "cell_type": "code",
   "execution_count": 39,
   "metadata": {},
   "outputs": [
    {
     "data": {
      "text/plain": [
       "                                       47499\n",
       "Palermo                                 4083\n",
       "Nordelta                                3315\n",
       "Belgrano                                2992\n",
       "Caballito                               2273\n",
       "                                       ...  \n",
       "Laguna de los Padres                       1\n",
       "Barrio Cerrado \"Las Araucarias\"            1\n",
       "Barrio Cerrado Lagos del Norte             1\n",
       "Country La Tradición                       1\n",
       "Barrio San Alfonso - Pilar del Este        1\n",
       "Name: barrio1, Length: 634, dtype: int64"
      ]
     },
     "execution_count": 39,
     "metadata": {},
     "output_type": "execute_result"
    }
   ],
   "source": [
    "ubicacion_limpia.barrio1.value_counts()"
   ]
  },
  {
   "cell_type": "code",
   "execution_count": 40,
   "metadata": {},
   "outputs": [
    {
     "data": {
      "text/plain": [
       "Barrio Los Alisos            278\n",
       "Barrio La Alameda             62\n",
       "BarrioPortezuelo              54\n",
       "Barrio Los Lagos              39\n",
       "Barrio El Golf                32\n",
       "Enyoi                         17\n",
       "Barrio Los Castores           14\n",
       "QBay Yacht                    13\n",
       "Barrio Las Glorietas          10\n",
       "Barrio La Isla                10\n",
       "Islas del Canal                6\n",
       "Barrio Los Sauces              4\n",
       "Barrio Barrancas del Lago      4\n",
       "Barrio Cabos del Lago          3\n",
       "Barrio Los Tilos               1\n",
       "Barrio El Yacht                1\n",
       "Name: barrio1, dtype: int64"
      ]
     },
     "execution_count": 40,
     "metadata": {},
     "output_type": "execute_result"
    }
   ],
   "source": [
    "#ahora veo que valores hay en barrio 1 cuando tengo algo en barrio2\n",
    "ubicacion_limpia['barrio1'].loc[mascara_barrio2].value_counts() "
   ]
  },
  {
   "cell_type": "code",
   "execution_count": 41,
   "metadata": {},
   "outputs": [
    {
     "data": {
      "text/plain": [
       "Tigre    548\n",
       "Name: ciudad, dtype: int64"
      ]
     },
     "execution_count": 41,
     "metadata": {},
     "output_type": "execute_result"
    }
   ],
   "source": [
    "#ahora veo que valores hay en barrio 1 cuando tengo algo en barrio2\n",
    "ubicacion_limpia['ciudad'].loc[mascara_barrio2].value_counts() "
   ]
  },
  {
   "cell_type": "code",
   "execution_count": 42,
   "metadata": {},
   "outputs": [],
   "source": [
    "#Añado los barrios de barrio2 a la columna de barrio1\n",
    "ubicacion_limpia.barrio1.loc[mascara_barrio2]=barrio_2_filtrado"
   ]
  },
  {
   "cell_type": "code",
   "execution_count": 43,
   "metadata": {},
   "outputs": [
    {
     "data": {
      "text/html": [
       "<div>\n",
       "<style scoped>\n",
       "    .dataframe tbody tr th:only-of-type {\n",
       "        vertical-align: middle;\n",
       "    }\n",
       "\n",
       "    .dataframe tbody tr th {\n",
       "        vertical-align: top;\n",
       "    }\n",
       "\n",
       "    .dataframe thead th {\n",
       "        text-align: right;\n",
       "    }\n",
       "</style>\n",
       "<table border=\"1\" class=\"dataframe\">\n",
       "  <thead>\n",
       "    <tr style=\"text-align: right;\">\n",
       "      <th></th>\n",
       "      <th>provincia</th>\n",
       "      <th>ciudad</th>\n",
       "      <th>barrio1</th>\n",
       "    </tr>\n",
       "  </thead>\n",
       "  <tbody>\n",
       "    <tr>\n",
       "      <th>10512</th>\n",
       "      <td>Capital Federal</td>\n",
       "      <td>Capital Federal</td>\n",
       "      <td>Barracas</td>\n",
       "    </tr>\n",
       "    <tr>\n",
       "      <th>35983</th>\n",
       "      <td>Buenos Aires Interior</td>\n",
       "      <td>Bahía Blanca</td>\n",
       "      <td></td>\n",
       "    </tr>\n",
       "    <tr>\n",
       "      <th>37018</th>\n",
       "      <td>Capital Federal</td>\n",
       "      <td>Capital Federal</td>\n",
       "      <td>Belgrano</td>\n",
       "    </tr>\n",
       "    <tr>\n",
       "      <th>109471</th>\n",
       "      <td>Bs.As. G.B.A. Zona Sur</td>\n",
       "      <td>La Plata</td>\n",
       "      <td>La Plata</td>\n",
       "    </tr>\n",
       "    <tr>\n",
       "      <th>60821</th>\n",
       "      <td>Capital Federal</td>\n",
       "      <td>Capital Federal</td>\n",
       "      <td>Barrio Norte</td>\n",
       "    </tr>\n",
       "    <tr>\n",
       "      <th>7293</th>\n",
       "      <td>Bs.As. G.B.A. Zona Norte</td>\n",
       "      <td>Tigre</td>\n",
       "      <td>Benavidez</td>\n",
       "    </tr>\n",
       "    <tr>\n",
       "      <th>7061</th>\n",
       "      <td>Bs.As. G.B.A. Zona Oeste</td>\n",
       "      <td>La Matanza</td>\n",
       "      <td>Ramos Mejía</td>\n",
       "    </tr>\n",
       "    <tr>\n",
       "      <th>108732</th>\n",
       "      <td>Bs.As. G.B.A. Zona Norte</td>\n",
       "      <td>Vicente López</td>\n",
       "      <td>Vicente López</td>\n",
       "    </tr>\n",
       "    <tr>\n",
       "      <th>64801</th>\n",
       "      <td>Bs.As. G.B.A. Zona Norte</td>\n",
       "      <td>San Isidro</td>\n",
       "      <td></td>\n",
       "    </tr>\n",
       "    <tr>\n",
       "      <th>42504</th>\n",
       "      <td>Bs.As. G.B.A. Zona Norte</td>\n",
       "      <td>Pilar</td>\n",
       "      <td></td>\n",
       "    </tr>\n",
       "    <tr>\n",
       "      <th>77004</th>\n",
       "      <td>Bs.As. G.B.A. Zona Sur</td>\n",
       "      <td>Lomas de Zamora</td>\n",
       "      <td></td>\n",
       "    </tr>\n",
       "    <tr>\n",
       "      <th>67993</th>\n",
       "      <td>Córdoba</td>\n",
       "      <td></td>\n",
       "      <td>None</td>\n",
       "    </tr>\n",
       "    <tr>\n",
       "      <th>85884</th>\n",
       "      <td>Capital Federal</td>\n",
       "      <td>Capital Federal</td>\n",
       "      <td>Caballito</td>\n",
       "    </tr>\n",
       "    <tr>\n",
       "      <th>69978</th>\n",
       "      <td>Córdoba</td>\n",
       "      <td></td>\n",
       "      <td>None</td>\n",
       "    </tr>\n",
       "    <tr>\n",
       "      <th>118518</th>\n",
       "      <td>Capital Federal</td>\n",
       "      <td>Capital Federal</td>\n",
       "      <td>Villa Lugano</td>\n",
       "    </tr>\n",
       "    <tr>\n",
       "      <th>11387</th>\n",
       "      <td>Bs.As. G.B.A. Zona Norte</td>\n",
       "      <td>San Isidro</td>\n",
       "      <td>Boulogne Sur Mer</td>\n",
       "    </tr>\n",
       "    <tr>\n",
       "      <th>8990</th>\n",
       "      <td>Buenos Aires Costa Atlántica</td>\n",
       "      <td>Mar del Plata</td>\n",
       "      <td></td>\n",
       "    </tr>\n",
       "    <tr>\n",
       "      <th>90194</th>\n",
       "      <td>Santa Fe</td>\n",
       "      <td>Rosario</td>\n",
       "      <td></td>\n",
       "    </tr>\n",
       "    <tr>\n",
       "      <th>4708</th>\n",
       "      <td>Capital Federal</td>\n",
       "      <td>Capital Federal</td>\n",
       "      <td>Caballito</td>\n",
       "    </tr>\n",
       "    <tr>\n",
       "      <th>24056</th>\n",
       "      <td>Buenos Aires Costa Atlántica</td>\n",
       "      <td>Mar del Plata</td>\n",
       "      <td></td>\n",
       "    </tr>\n",
       "  </tbody>\n",
       "</table>\n",
       "</div>"
      ],
      "text/plain": [
       "                           provincia           ciudad           barrio1\n",
       "10512                Capital Federal  Capital Federal          Barracas\n",
       "35983          Buenos Aires Interior     Bahía Blanca                  \n",
       "37018                Capital Federal  Capital Federal          Belgrano\n",
       "109471        Bs.As. G.B.A. Zona Sur         La Plata          La Plata\n",
       "60821                Capital Federal  Capital Federal      Barrio Norte\n",
       "7293        Bs.As. G.B.A. Zona Norte            Tigre         Benavidez\n",
       "7061        Bs.As. G.B.A. Zona Oeste       La Matanza       Ramos Mejía\n",
       "108732      Bs.As. G.B.A. Zona Norte    Vicente López     Vicente López\n",
       "64801       Bs.As. G.B.A. Zona Norte       San Isidro                  \n",
       "42504       Bs.As. G.B.A. Zona Norte            Pilar                  \n",
       "77004         Bs.As. G.B.A. Zona Sur  Lomas de Zamora                  \n",
       "67993                        Córdoba                               None\n",
       "85884                Capital Federal  Capital Federal         Caballito\n",
       "69978                        Córdoba                               None\n",
       "118518               Capital Federal  Capital Federal      Villa Lugano\n",
       "11387       Bs.As. G.B.A. Zona Norte       San Isidro  Boulogne Sur Mer\n",
       "8990    Buenos Aires Costa Atlántica    Mar del Plata                  \n",
       "90194                       Santa Fe          Rosario                  \n",
       "4708                 Capital Federal  Capital Federal         Caballito\n",
       "24056   Buenos Aires Costa Atlántica    Mar del Plata                  "
      ]
     },
     "execution_count": 43,
     "metadata": {},
     "output_type": "execute_result"
    }
   ],
   "source": [
    "#Damos de baja la columna barrio2\n",
    "ubicacion_limpia.drop('barrio2',axis=1, inplace=True)\n",
    "ubicacion_limpia.sample(20)"
   ]
  },
  {
   "cell_type": "code",
   "execution_count": 44,
   "metadata": {},
   "outputs": [],
   "source": [
    "#aca pruebo sumar las nuevas columnas a nuestro datos\n",
    "datos[['provincia','ciudad','barrio1']]=ubicacion_limpia"
   ]
  },
  {
   "cell_type": "code",
   "execution_count": 45,
   "metadata": {},
   "outputs": [
    {
     "data": {
      "text/html": [
       "<div>\n",
       "<style scoped>\n",
       "    .dataframe tbody tr th:only-of-type {\n",
       "        vertical-align: middle;\n",
       "    }\n",
       "\n",
       "    .dataframe tbody tr th {\n",
       "        vertical-align: top;\n",
       "    }\n",
       "\n",
       "    .dataframe thead th {\n",
       "        text-align: right;\n",
       "    }\n",
       "</style>\n",
       "<table border=\"1\" class=\"dataframe\">\n",
       "  <thead>\n",
       "    <tr style=\"text-align: right;\">\n",
       "      <th></th>\n",
       "      <th>property_type</th>\n",
       "      <th>lat</th>\n",
       "      <th>lon</th>\n",
       "      <th>price_aprox_usd</th>\n",
       "      <th>surface_total_in_m2</th>\n",
       "      <th>surface_covered_in_m2</th>\n",
       "      <th>price_usd_per_m2</th>\n",
       "      <th>price_per_m2</th>\n",
       "      <th>floor</th>\n",
       "      <th>rooms</th>\n",
       "      <th>expenses</th>\n",
       "      <th>properati_url</th>\n",
       "      <th>description</th>\n",
       "      <th>title</th>\n",
       "      <th>image_thumbnail</th>\n",
       "      <th>provincia</th>\n",
       "      <th>ciudad</th>\n",
       "      <th>barrio1</th>\n",
       "    </tr>\n",
       "  </thead>\n",
       "  <tbody>\n",
       "    <tr>\n",
       "      <th>89483</th>\n",
       "      <td>apartment</td>\n",
       "      <td>NaN</td>\n",
       "      <td>NaN</td>\n",
       "      <td>249000.00</td>\n",
       "      <td>NaN</td>\n",
       "      <td>81.0</td>\n",
       "      <td>NaN</td>\n",
       "      <td>3074.074074</td>\n",
       "      <td>NaN</td>\n",
       "      <td>NaN</td>\n",
       "      <td>NaN</td>\n",
       "      <td>http://www.properati.com.ar/1b8pj_venta_depart...</td>\n",
       "      <td>Muy buen dto 2 dormit a estrenar en edificio ...</td>\n",
       "      <td>Departamento en Olivos</td>\n",
       "      <td>https://thumbs4.properati.com/4/MpqBxWGRfirrak...</td>\n",
       "      <td>Bs.As. G.B.A. Zona Norte</td>\n",
       "      <td>Vicente López</td>\n",
       "      <td>Olivos</td>\n",
       "    </tr>\n",
       "    <tr>\n",
       "      <th>43431</th>\n",
       "      <td>house</td>\n",
       "      <td>-37.018410</td>\n",
       "      <td>-56.807147</td>\n",
       "      <td>305000.00</td>\n",
       "      <td>230.0</td>\n",
       "      <td>220.0</td>\n",
       "      <td>1326.086957</td>\n",
       "      <td>1386.363636</td>\n",
       "      <td>NaN</td>\n",
       "      <td>5.0</td>\n",
       "      <td>NaN</td>\n",
       "      <td>http://www.properati.com.ar/18yh3_venta_casa_c...</td>\n",
       "      <td>EN DOS PLANTAS -VEGETACION SILVESTRE - CERCA D...</td>\n",
       "      <td>VENDO CASA CON SALIDA AL LAGO EN ECUESTRE # 38...</td>\n",
       "      <td>https://thumbs4.properati.com/5/QgpZHsKzv1yt_O...</td>\n",
       "      <td>Buenos Aires Costa Atlántica</td>\n",
       "      <td>Costa Esmeralda</td>\n",
       "      <td></td>\n",
       "    </tr>\n",
       "    <tr>\n",
       "      <th>14529</th>\n",
       "      <td>apartment</td>\n",
       "      <td>-34.685121</td>\n",
       "      <td>-58.490595</td>\n",
       "      <td>61000.00</td>\n",
       "      <td>60.0</td>\n",
       "      <td>58.0</td>\n",
       "      <td>1016.666667</td>\n",
       "      <td>1051.724138</td>\n",
       "      <td>NaN</td>\n",
       "      <td>4.0</td>\n",
       "      <td>NaN</td>\n",
       "      <td>http://www.properati.com.ar/16shs_venta_depart...</td>\n",
       "      <td>Departamento ubicado en la localidad de Ciudad...</td>\n",
       "      <td>Dpto 4 amb USD 60.000 s/Av. Gral Paz Playa de ...</td>\n",
       "      <td>https://thumbs4.properati.com/1/-Z7YerG8trRIiW...</td>\n",
       "      <td>Bs.As. G.B.A. Zona Oeste</td>\n",
       "      <td>La Matanza</td>\n",
       "      <td>Villa Madero</td>\n",
       "    </tr>\n",
       "    <tr>\n",
       "      <th>70874</th>\n",
       "      <td>apartment</td>\n",
       "      <td>-34.554329</td>\n",
       "      <td>-58.463143</td>\n",
       "      <td>210000.00</td>\n",
       "      <td>NaN</td>\n",
       "      <td>54.0</td>\n",
       "      <td>NaN</td>\n",
       "      <td>3888.888889</td>\n",
       "      <td>NaN</td>\n",
       "      <td>NaN</td>\n",
       "      <td>2000.0</td>\n",
       "      <td>http://www.properati.com.ar/1ak6o_venta_depart...</td>\n",
       "      <td>Hermoso departamento de 2 ambientes a estrenar...</td>\n",
       "      <td>Excelente departamento 2 amb - Belgrano</td>\n",
       "      <td>https://thumbs4.properati.com/6/WgzOtgxKLO8Hho...</td>\n",
       "      <td>Capital Federal</td>\n",
       "      <td>Capital Federal</td>\n",
       "      <td>Belgrano</td>\n",
       "    </tr>\n",
       "    <tr>\n",
       "      <th>56423</th>\n",
       "      <td>apartment</td>\n",
       "      <td>-38.008829</td>\n",
       "      <td>-57.533252</td>\n",
       "      <td>NaN</td>\n",
       "      <td>55.0</td>\n",
       "      <td>NaN</td>\n",
       "      <td>NaN</td>\n",
       "      <td>NaN</td>\n",
       "      <td>NaN</td>\n",
       "      <td>3.0</td>\n",
       "      <td>NaN</td>\n",
       "      <td>http://www.properati.com.ar/19qpu_venta_depart...</td>\n",
       "      <td>Venta de Departamento 3 AMBIENTES en Torreón, ...</td>\n",
       "      <td>DEPARTAMENTO EN VENTA</td>\n",
       "      <td>https://thumbs4.properati.com/8/BQr421cP3CJvY_...</td>\n",
       "      <td>Buenos Aires Costa Atlántica</td>\n",
       "      <td>Mar del Plata</td>\n",
       "      <td>Torreón</td>\n",
       "    </tr>\n",
       "    <tr>\n",
       "      <th>13661</th>\n",
       "      <td>house</td>\n",
       "      <td>-37.944365</td>\n",
       "      <td>-57.558595</td>\n",
       "      <td>90000.00</td>\n",
       "      <td>230.0</td>\n",
       "      <td>NaN</td>\n",
       "      <td>391.304348</td>\n",
       "      <td>NaN</td>\n",
       "      <td>NaN</td>\n",
       "      <td>5.0</td>\n",
       "      <td>NaN</td>\n",
       "      <td>http://www.properati.com.ar/16pz0_venta_casa_m...</td>\n",
       "      <td>EXELENTE CHALET UBICADO EN LA FLORIDA. EL MISM...</td>\n",
       "      <td>CHALET EN LA FLORIDA</td>\n",
       "      <td>https://thumbs4.properati.com/7/4IOiHSRX0czMzL...</td>\n",
       "      <td>Buenos Aires Costa Atlántica</td>\n",
       "      <td>Mar del Plata</td>\n",
       "      <td></td>\n",
       "    </tr>\n",
       "    <tr>\n",
       "      <th>55923</th>\n",
       "      <td>apartment</td>\n",
       "      <td>-34.624430</td>\n",
       "      <td>-58.374183</td>\n",
       "      <td>147619.00</td>\n",
       "      <td>52.0</td>\n",
       "      <td>47.0</td>\n",
       "      <td>2838.826923</td>\n",
       "      <td>3140.829787</td>\n",
       "      <td>11.0</td>\n",
       "      <td>NaN</td>\n",
       "      <td>NaN</td>\n",
       "      <td>http://www.properati.com.ar/19pv0_venta_depart...</td>\n",
       "      <td>VENTA DEPARTAMENTO 2 AMBIENTES SAN TELMOUnidad...</td>\n",
       "      <td>DEPARTAMENTO EN VENTA</td>\n",
       "      <td>https://thumbs4.properati.com/7/Zo155gilH4_4l-...</td>\n",
       "      <td>Capital Federal</td>\n",
       "      <td>Capital Federal</td>\n",
       "      <td>San Telmo</td>\n",
       "    </tr>\n",
       "    <tr>\n",
       "      <th>31</th>\n",
       "      <td>house</td>\n",
       "      <td>-34.541788</td>\n",
       "      <td>-58.540349</td>\n",
       "      <td>130000.00</td>\n",
       "      <td>207.0</td>\n",
       "      <td>103.0</td>\n",
       "      <td>628.019324</td>\n",
       "      <td>1262.135922</td>\n",
       "      <td>NaN</td>\n",
       "      <td>NaN</td>\n",
       "      <td>NaN</td>\n",
       "      <td>http://www.properati.com.ar/15brt_venta_casa_m...</td>\n",
       "      <td>Muy buena casa tipo americana de 3 ambientes c...</td>\n",
       "      <td>Casa tipo americana de 3 ambientes sobre lote ...</td>\n",
       "      <td>https://thumbs4.properati.com/3/VBhw6ONYbu6Jys...</td>\n",
       "      <td>Bs.As. G.B.A. Zona Norte</td>\n",
       "      <td>Vicente López</td>\n",
       "      <td>Munro</td>\n",
       "    </tr>\n",
       "    <tr>\n",
       "      <th>42167</th>\n",
       "      <td>house</td>\n",
       "      <td>-34.688664</td>\n",
       "      <td>-58.529513</td>\n",
       "      <td>135000.00</td>\n",
       "      <td>200.0</td>\n",
       "      <td>200.0</td>\n",
       "      <td>675.000000</td>\n",
       "      <td>675.000000</td>\n",
       "      <td>NaN</td>\n",
       "      <td>NaN</td>\n",
       "      <td>NaN</td>\n",
       "      <td>http://www.properati.com.ar/18vws_venta_casa_l...</td>\n",
       "      <td>Se venden 3 PH en block ubicados en la localid...</td>\n",
       "      <td>3 PHs en block 8,66x37 a 250 mts Crovara</td>\n",
       "      <td>https://thumbs4.properati.com/4/II0cJIEXlEE6YA...</td>\n",
       "      <td>Bs.As. G.B.A. Zona Oeste</td>\n",
       "      <td>La Matanza</td>\n",
       "      <td>La Tablada</td>\n",
       "    </tr>\n",
       "    <tr>\n",
       "      <th>40536</th>\n",
       "      <td>PH</td>\n",
       "      <td>-34.659669</td>\n",
       "      <td>-58.589437</td>\n",
       "      <td>95000.00</td>\n",
       "      <td>60.0</td>\n",
       "      <td>NaN</td>\n",
       "      <td>1583.333333</td>\n",
       "      <td>NaN</td>\n",
       "      <td>NaN</td>\n",
       "      <td>NaN</td>\n",
       "      <td>NaN</td>\n",
       "      <td>http://www.properati.com.ar/18rgj_venta_ph_vil...</td>\n",
       "      <td>CODIGO: 2428-V029 ubicado en: GUIDO SPANO 2696...</td>\n",
       "      <td>PH 3 AMBIENTES PLANTA BAJA AL FRENTE</td>\n",
       "      <td>https://thumbs4.properati.com/9/3VVQs4v9ydbNOb...</td>\n",
       "      <td>Bs.As. G.B.A. Zona Oeste</td>\n",
       "      <td>La Matanza</td>\n",
       "      <td>Villa Luzuriaga</td>\n",
       "    </tr>\n",
       "    <tr>\n",
       "      <th>103997</th>\n",
       "      <td>house</td>\n",
       "      <td>NaN</td>\n",
       "      <td>NaN</td>\n",
       "      <td>NaN</td>\n",
       "      <td>205.0</td>\n",
       "      <td>205.0</td>\n",
       "      <td>NaN</td>\n",
       "      <td>NaN</td>\n",
       "      <td>NaN</td>\n",
       "      <td>NaN</td>\n",
       "      <td>NaN</td>\n",
       "      <td>http://www.properati.com.ar/1bsp4_venta_casa_l...</td>\n",
       "      <td>///CASA 3 DORMITORIOS ///Importante casa a la ...</td>\n",
       "      <td>Casa - La Plata</td>\n",
       "      <td>https://thumbs4.properati.com/8/hmTVHSO9GWG6L3...</td>\n",
       "      <td>Bs.As. G.B.A. Zona Sur</td>\n",
       "      <td>La Plata</td>\n",
       "      <td></td>\n",
       "    </tr>\n",
       "    <tr>\n",
       "      <th>58942</th>\n",
       "      <td>apartment</td>\n",
       "      <td>-34.602203</td>\n",
       "      <td>-58.398505</td>\n",
       "      <td>53000.00</td>\n",
       "      <td>16.0</td>\n",
       "      <td>16.0</td>\n",
       "      <td>3312.500000</td>\n",
       "      <td>3312.500000</td>\n",
       "      <td>NaN</td>\n",
       "      <td>NaN</td>\n",
       "      <td>1070.0</td>\n",
       "      <td>http://www.properati.com.ar/19wjb_venta_depart...</td>\n",
       "      <td>CODIGO: 2905-SCH11 ubicado en: Uriburu 600  - ...</td>\n",
       "      <td>Monoambiente Apto Profesional IDEAL INVERSOR</td>\n",
       "      <td>https://thumbs4.properati.com/4/V8r0qCdEBeOc3K...</td>\n",
       "      <td>Capital Federal</td>\n",
       "      <td>Capital Federal</td>\n",
       "      <td>Barrio Norte</td>\n",
       "    </tr>\n",
       "    <tr>\n",
       "      <th>119228</th>\n",
       "      <td>house</td>\n",
       "      <td>NaN</td>\n",
       "      <td>NaN</td>\n",
       "      <td>NaN</td>\n",
       "      <td>NaN</td>\n",
       "      <td>140.0</td>\n",
       "      <td>NaN</td>\n",
       "      <td>NaN</td>\n",
       "      <td>NaN</td>\n",
       "      <td>NaN</td>\n",
       "      <td>2100.0</td>\n",
       "      <td>http://www.properati.com.ar/1cgdb_venta_casa_c...</td>\n",
       "      <td>Hermosa casa a estrenar en Horizontes al Sur a...</td>\n",
       "      <td>Casa a estrenar en Horizontes al Sur apta crédito</td>\n",
       "      <td>https://thumbs4.properati.com/7/l8O_-nbbpK6Yu3...</td>\n",
       "      <td>Bs.As. G.B.A. Zona Sur</td>\n",
       "      <td>Ezeiza</td>\n",
       "      <td>Canning</td>\n",
       "    </tr>\n",
       "    <tr>\n",
       "      <th>105215</th>\n",
       "      <td>house</td>\n",
       "      <td>NaN</td>\n",
       "      <td>NaN</td>\n",
       "      <td>380000.00</td>\n",
       "      <td>251.0</td>\n",
       "      <td>208.0</td>\n",
       "      <td>1513.944223</td>\n",
       "      <td>1826.923077</td>\n",
       "      <td>NaN</td>\n",
       "      <td>NaN</td>\n",
       "      <td>NaN</td>\n",
       "      <td>http://www.properati.com.ar/1bubq_venta_casa_e...</td>\n",
       "      <td>Excelente casa de estilo clásico de dos planta...</td>\n",
       "      <td>Casa a laguna - San Matias Área 1, Maschwitz E...</td>\n",
       "      <td>https://thumbs4.properati.com/5/RdHo2y7Z7TV7oa...</td>\n",
       "      <td>Bs.As. G.B.A. Zona Norte</td>\n",
       "      <td>Escobar</td>\n",
       "      <td></td>\n",
       "    </tr>\n",
       "    <tr>\n",
       "      <th>99156</th>\n",
       "      <td>house</td>\n",
       "      <td>NaN</td>\n",
       "      <td>NaN</td>\n",
       "      <td>240000.00</td>\n",
       "      <td>NaN</td>\n",
       "      <td>150.0</td>\n",
       "      <td>NaN</td>\n",
       "      <td>1600.000000</td>\n",
       "      <td>NaN</td>\n",
       "      <td>NaN</td>\n",
       "      <td>NaN</td>\n",
       "      <td>http://www.properati.com.ar/1bmbs_venta_casa_p...</td>\n",
       "      <td>MUY LINDA CASA EN B  SAN FRANCISCO EN COMP. VI...</td>\n",
       "      <td>Casa - San Francisco</td>\n",
       "      <td>https://thumbs4.properati.com/7/6SA6aZeE01CaaD...</td>\n",
       "      <td>Bs.As. G.B.A. Zona Norte</td>\n",
       "      <td>Pilar</td>\n",
       "      <td></td>\n",
       "    </tr>\n",
       "    <tr>\n",
       "      <th>99790</th>\n",
       "      <td>apartment</td>\n",
       "      <td>NaN</td>\n",
       "      <td>NaN</td>\n",
       "      <td>66178.73</td>\n",
       "      <td>51.0</td>\n",
       "      <td>45.0</td>\n",
       "      <td>1297.622157</td>\n",
       "      <td>26222.222222</td>\n",
       "      <td>NaN</td>\n",
       "      <td>NaN</td>\n",
       "      <td>NaN</td>\n",
       "      <td>http://www.properati.com.ar/1bn20_venta_depart...</td>\n",
       "      <td>Edificio Ubicado en Morón Sur, a cinco cuadras...</td>\n",
       "      <td>Departamento en Moron</td>\n",
       "      <td>https://thumbs4.properati.com/0/3McMRb7xxCQ0we...</td>\n",
       "      <td>Bs.As. G.B.A. Zona Oeste</td>\n",
       "      <td>Morón</td>\n",
       "      <td>Morón</td>\n",
       "    </tr>\n",
       "    <tr>\n",
       "      <th>81755</th>\n",
       "      <td>apartment</td>\n",
       "      <td>-34.567952</td>\n",
       "      <td>-58.433747</td>\n",
       "      <td>241555.00</td>\n",
       "      <td>54.0</td>\n",
       "      <td>48.0</td>\n",
       "      <td>4473.240741</td>\n",
       "      <td>5032.395833</td>\n",
       "      <td>NaN</td>\n",
       "      <td>NaN</td>\n",
       "      <td>NaN</td>\n",
       "      <td>http://www.properati.com.ar/1aye1_venta_depart...</td>\n",
       "      <td>¡OPORTUNIDAD! Increíble 2 amb A ESTRENAR c/ Do...</td>\n",
       "      <td>INCREIBLE 2amb A ESTRENAR c/ Bcón. al Fte. en ...</td>\n",
       "      <td>https://thumbs4.properati.com/7/swkYEr_ktqu7iD...</td>\n",
       "      <td>Capital Federal</td>\n",
       "      <td>Capital Federal</td>\n",
       "      <td>Palermo</td>\n",
       "    </tr>\n",
       "    <tr>\n",
       "      <th>78294</th>\n",
       "      <td>house</td>\n",
       "      <td>-34.563385</td>\n",
       "      <td>-58.698617</td>\n",
       "      <td>450000.00</td>\n",
       "      <td>770.0</td>\n",
       "      <td>257.0</td>\n",
       "      <td>584.415584</td>\n",
       "      <td>1750.972763</td>\n",
       "      <td>NaN</td>\n",
       "      <td>NaN</td>\n",
       "      <td>NaN</td>\n",
       "      <td>http://www.properati.com.ar/1atyd_venta_casa_b...</td>\n",
       "      <td>Venta de Casa 7 AMBIENTES en Bella Vista.Chale...</td>\n",
       "      <td>CASA EN VENTA</td>\n",
       "      <td>https://thumbs4.properati.com/7/H3abwWW8MCjXgC...</td>\n",
       "      <td>Bs.As. G.B.A. Zona Norte</td>\n",
       "      <td>San Miguel</td>\n",
       "      <td>Bella Vista</td>\n",
       "    </tr>\n",
       "    <tr>\n",
       "      <th>12641</th>\n",
       "      <td>apartment</td>\n",
       "      <td>-31.246801</td>\n",
       "      <td>-61.491423</td>\n",
       "      <td>NaN</td>\n",
       "      <td>NaN</td>\n",
       "      <td>NaN</td>\n",
       "      <td>NaN</td>\n",
       "      <td>NaN</td>\n",
       "      <td>NaN</td>\n",
       "      <td>2.0</td>\n",
       "      <td>NaN</td>\n",
       "      <td>http://www.properati.com.ar/16mhh_venta_depart...</td>\n",
       "      <td>Corredor Responsable: Martin Eguiazu - C.C.I. ...</td>\n",
       "      <td>VENTA COMPLEJO DE DEPARTAMENTOS BARRIO 9 DE JULIO</td>\n",
       "      <td>https://thumbs4.properati.com/3/0bBCsY6-vhfyB1...</td>\n",
       "      <td>Santa Fe</td>\n",
       "      <td>Castellanos</td>\n",
       "      <td></td>\n",
       "    </tr>\n",
       "    <tr>\n",
       "      <th>21747</th>\n",
       "      <td>PH</td>\n",
       "      <td>-34.596038</td>\n",
       "      <td>-58.429131</td>\n",
       "      <td>160000.00</td>\n",
       "      <td>85.0</td>\n",
       "      <td>45.0</td>\n",
       "      <td>1882.352941</td>\n",
       "      <td>3555.555556</td>\n",
       "      <td>NaN</td>\n",
       "      <td>3.0</td>\n",
       "      <td>NaN</td>\n",
       "      <td>http://www.properati.com.ar/17gbt_venta_ph_vil...</td>\n",
       "      <td>Venta de Departamento 3 AMBIENTES en Villa Cre...</td>\n",
       "      <td>PH EN VENTA</td>\n",
       "      <td>https://thumbs4.properati.com/5/I_D5RPwHEU6JAB...</td>\n",
       "      <td>Capital Federal</td>\n",
       "      <td>Capital Federal</td>\n",
       "      <td>Villa Crespo</td>\n",
       "    </tr>\n",
       "    <tr>\n",
       "      <th>120762</th>\n",
       "      <td>apartment</td>\n",
       "      <td>NaN</td>\n",
       "      <td>NaN</td>\n",
       "      <td>NaN</td>\n",
       "      <td>39.0</td>\n",
       "      <td>39.0</td>\n",
       "      <td>NaN</td>\n",
       "      <td>NaN</td>\n",
       "      <td>NaN</td>\n",
       "      <td>NaN</td>\n",
       "      <td>NaN</td>\n",
       "      <td>http://www.properati.com.ar/1cicb_venta_depart...</td>\n",
       "      <td>AMBIENTE DIVISIBLE CON PISOS D...</td>\n",
       "      <td>Departamento - Villa Crespo</td>\n",
       "      <td>https://thumbs4.properati.com/3/VZwji96qqOdxpd...</td>\n",
       "      <td>Capital Federal</td>\n",
       "      <td>Capital Federal</td>\n",
       "      <td>Villa Crespo</td>\n",
       "    </tr>\n",
       "    <tr>\n",
       "      <th>36100</th>\n",
       "      <td>apartment</td>\n",
       "      <td>-34.534509</td>\n",
       "      <td>-58.716794</td>\n",
       "      <td>46000.00</td>\n",
       "      <td>34.0</td>\n",
       "      <td>30.0</td>\n",
       "      <td>1352.941176</td>\n",
       "      <td>1533.333333</td>\n",
       "      <td>NaN</td>\n",
       "      <td>1.0</td>\n",
       "      <td>NaN</td>\n",
       "      <td>http://www.properati.com.ar/18g1y_venta_depart...</td>\n",
       "      <td>Monoambiente en Barrio cerrado, planta baja co...</td>\n",
       "      <td>MONOAMBIENTE PB \"BARRIO VILLA CARMELA\"</td>\n",
       "      <td>https://thumbs4.properati.com/9/a6g6O6yIn2wWdA...</td>\n",
       "      <td>Bs.As. G.B.A. Zona Norte</td>\n",
       "      <td>San Miguel</td>\n",
       "      <td>San Miguel</td>\n",
       "    </tr>\n",
       "    <tr>\n",
       "      <th>56032</th>\n",
       "      <td>house</td>\n",
       "      <td>NaN</td>\n",
       "      <td>NaN</td>\n",
       "      <td>135000.00</td>\n",
       "      <td>187.0</td>\n",
       "      <td>90.0</td>\n",
       "      <td>721.925134</td>\n",
       "      <td>1500.000000</td>\n",
       "      <td>NaN</td>\n",
       "      <td>3.0</td>\n",
       "      <td>NaN</td>\n",
       "      <td>http://www.properati.com.ar/19q2a_venta_casa_e...</td>\n",
       "      <td>VENTA, DUPLEX, 3 AMBIENTES, EZPELETA OESTE, QU...</td>\n",
       "      <td>CASA EN VENTA</td>\n",
       "      <td>https://thumbs4.properati.com/9/e2SiecixmEJAUu...</td>\n",
       "      <td>Bs.As. G.B.A. Zona Sur</td>\n",
       "      <td>Quilmes</td>\n",
       "      <td>Ezpeleta</td>\n",
       "    </tr>\n",
       "    <tr>\n",
       "      <th>50231</th>\n",
       "      <td>apartment</td>\n",
       "      <td>-34.517661</td>\n",
       "      <td>-58.475466</td>\n",
       "      <td>198000.00</td>\n",
       "      <td>108.0</td>\n",
       "      <td>88.0</td>\n",
       "      <td>1833.333333</td>\n",
       "      <td>2250.000000</td>\n",
       "      <td>NaN</td>\n",
       "      <td>4.0</td>\n",
       "      <td>3000.0</td>\n",
       "      <td>http://www.properati.com.ar/19dq6_venta_depart...</td>\n",
       "      <td>Venta de Departamento 4 AMBIENTES, Vicente Lóp...</td>\n",
       "      <td>DEPARTAMENTO EN VENTA</td>\n",
       "      <td>https://thumbs4.properati.com/6/kZAI8HlLEpQE64...</td>\n",
       "      <td>Bs.As. G.B.A. Zona Norte</td>\n",
       "      <td>Vicente López</td>\n",
       "      <td></td>\n",
       "    </tr>\n",
       "    <tr>\n",
       "      <th>118894</th>\n",
       "      <td>apartment</td>\n",
       "      <td>NaN</td>\n",
       "      <td>NaN</td>\n",
       "      <td>43745.26</td>\n",
       "      <td>NaN</td>\n",
       "      <td>75.0</td>\n",
       "      <td>NaN</td>\n",
       "      <td>10400.000000</td>\n",
       "      <td>NaN</td>\n",
       "      <td>NaN</td>\n",
       "      <td>1500.0</td>\n",
       "      <td>http://www.properati.com.ar/1cfyn_venta_depart...</td>\n",
       "      <td>Departamento 2 Dormitorios en Complejo Arcos d...</td>\n",
       "      <td>Departamento - Las Palmas</td>\n",
       "      <td>https://thumbs4.properati.com/8/qBwUGW0k2wNgrf...</td>\n",
       "      <td>Córdoba</td>\n",
       "      <td>Córdoba</td>\n",
       "      <td></td>\n",
       "    </tr>\n",
       "    <tr>\n",
       "      <th>37799</th>\n",
       "      <td>apartment</td>\n",
       "      <td>-34.400140</td>\n",
       "      <td>-58.649850</td>\n",
       "      <td>194000.00</td>\n",
       "      <td>124.0</td>\n",
       "      <td>75.0</td>\n",
       "      <td>1564.516129</td>\n",
       "      <td>2586.666667</td>\n",
       "      <td>NaN</td>\n",
       "      <td>3.0</td>\n",
       "      <td>NaN</td>\n",
       "      <td>http://www.properati.com.ar/18jv0_venta_depart...</td>\n",
       "      <td>Amplio departamento de 2 dormitorios con balcó...</td>\n",
       "      <td>Amplio Departamento 3 ambientes en Nordelta</td>\n",
       "      <td>https://thumbs4.properati.com/5/mbzp2CUVv5IKpE...</td>\n",
       "      <td>Bs.As. G.B.A. Zona Norte</td>\n",
       "      <td>Tigre</td>\n",
       "      <td>Nordelta</td>\n",
       "    </tr>\n",
       "    <tr>\n",
       "      <th>90079</th>\n",
       "      <td>apartment</td>\n",
       "      <td>NaN</td>\n",
       "      <td>NaN</td>\n",
       "      <td>NaN</td>\n",
       "      <td>65.0</td>\n",
       "      <td>56.0</td>\n",
       "      <td>NaN</td>\n",
       "      <td>NaN</td>\n",
       "      <td>NaN</td>\n",
       "      <td>NaN</td>\n",
       "      <td>NaN</td>\n",
       "      <td>http://www.properati.com.ar/1b9lt_venta_depart...</td>\n",
       "      <td>BBU5754 AP390958</td>\n",
       "      <td>Departamento - Palermo Soho</td>\n",
       "      <td>https://thumbs4.properati.com/0/_1jMEizf3_fs98...</td>\n",
       "      <td>Capital Federal</td>\n",
       "      <td>Capital Federal</td>\n",
       "      <td>Palermo</td>\n",
       "    </tr>\n",
       "    <tr>\n",
       "      <th>80151</th>\n",
       "      <td>apartment</td>\n",
       "      <td>NaN</td>\n",
       "      <td>NaN</td>\n",
       "      <td>NaN</td>\n",
       "      <td>108.0</td>\n",
       "      <td>108.0</td>\n",
       "      <td>NaN</td>\n",
       "      <td>NaN</td>\n",
       "      <td>NaN</td>\n",
       "      <td>NaN</td>\n",
       "      <td>NaN</td>\n",
       "      <td>http://www.properati.com.ar/1awhi_venta_depart...</td>\n",
       "      <td>Sergio Villella Inmobiliaria presenta departa...</td>\n",
       "      <td>Departamento - Macrocentro</td>\n",
       "      <td>https://thumbs4.properati.com/1/Vldtdelv9NTFCJ...</td>\n",
       "      <td>Santa Fe</td>\n",
       "      <td>Rosario</td>\n",
       "      <td></td>\n",
       "    </tr>\n",
       "    <tr>\n",
       "      <th>35720</th>\n",
       "      <td>apartment</td>\n",
       "      <td>NaN</td>\n",
       "      <td>NaN</td>\n",
       "      <td>295000.00</td>\n",
       "      <td>105.0</td>\n",
       "      <td>90.0</td>\n",
       "      <td>2809.523810</td>\n",
       "      <td>3277.777778</td>\n",
       "      <td>NaN</td>\n",
       "      <td>3.0</td>\n",
       "      <td>NaN</td>\n",
       "      <td>http://www.properati.com.ar/18f30_venta_depart...</td>\n",
       "      <td>CONTACTO: ANA 11-Departamento en Dúplex de 105...</td>\n",
       "      <td>Moderno 3 amb con escritorio - terraza con par...</td>\n",
       "      <td>https://thumbs4.properati.com/4/lJe6w5pyXoLZyn...</td>\n",
       "      <td>Capital Federal</td>\n",
       "      <td>Capital Federal</td>\n",
       "      <td>Palermo</td>\n",
       "    </tr>\n",
       "    <tr>\n",
       "      <th>38541</th>\n",
       "      <td>house</td>\n",
       "      <td>-34.796305</td>\n",
       "      <td>-58.840992</td>\n",
       "      <td>44866.94</td>\n",
       "      <td>450.0</td>\n",
       "      <td>78.0</td>\n",
       "      <td>99.704311</td>\n",
       "      <td>10256.410256</td>\n",
       "      <td>NaN</td>\n",
       "      <td>NaN</td>\n",
       "      <td>NaN</td>\n",
       "      <td>http://www.properati.com.ar/18lad_venta_casa_m...</td>\n",
       "      <td>Casa a terminar ubicada en calle Marciano N°37...</td>\n",
       "      <td>Casa en Venta, Marcos Paz Código 2075</td>\n",
       "      <td>https://thumbs4.properati.com/8/glWjw9ou77wKe2...</td>\n",
       "      <td>Bs.As. G.B.A. Zona Oeste</td>\n",
       "      <td>Marcos Paz</td>\n",
       "      <td>Marcos Paz</td>\n",
       "    </tr>\n",
       "  </tbody>\n",
       "</table>\n",
       "</div>"
      ],
      "text/plain": [
       "       property_type        lat        lon  price_aprox_usd  \\\n",
       "89483      apartment        NaN        NaN        249000.00   \n",
       "43431          house -37.018410 -56.807147        305000.00   \n",
       "14529      apartment -34.685121 -58.490595         61000.00   \n",
       "70874      apartment -34.554329 -58.463143        210000.00   \n",
       "56423      apartment -38.008829 -57.533252              NaN   \n",
       "13661          house -37.944365 -57.558595         90000.00   \n",
       "55923      apartment -34.624430 -58.374183        147619.00   \n",
       "31             house -34.541788 -58.540349        130000.00   \n",
       "42167          house -34.688664 -58.529513        135000.00   \n",
       "40536             PH -34.659669 -58.589437         95000.00   \n",
       "103997         house        NaN        NaN              NaN   \n",
       "58942      apartment -34.602203 -58.398505         53000.00   \n",
       "119228         house        NaN        NaN              NaN   \n",
       "105215         house        NaN        NaN        380000.00   \n",
       "99156          house        NaN        NaN        240000.00   \n",
       "99790      apartment        NaN        NaN         66178.73   \n",
       "81755      apartment -34.567952 -58.433747        241555.00   \n",
       "78294          house -34.563385 -58.698617        450000.00   \n",
       "12641      apartment -31.246801 -61.491423              NaN   \n",
       "21747             PH -34.596038 -58.429131        160000.00   \n",
       "120762     apartment        NaN        NaN              NaN   \n",
       "36100      apartment -34.534509 -58.716794         46000.00   \n",
       "56032          house        NaN        NaN        135000.00   \n",
       "50231      apartment -34.517661 -58.475466        198000.00   \n",
       "118894     apartment        NaN        NaN         43745.26   \n",
       "37799      apartment -34.400140 -58.649850        194000.00   \n",
       "90079      apartment        NaN        NaN              NaN   \n",
       "80151      apartment        NaN        NaN              NaN   \n",
       "35720      apartment        NaN        NaN        295000.00   \n",
       "38541          house -34.796305 -58.840992         44866.94   \n",
       "\n",
       "        surface_total_in_m2  surface_covered_in_m2  price_usd_per_m2  \\\n",
       "89483                   NaN                   81.0               NaN   \n",
       "43431                 230.0                  220.0       1326.086957   \n",
       "14529                  60.0                   58.0       1016.666667   \n",
       "70874                   NaN                   54.0               NaN   \n",
       "56423                  55.0                    NaN               NaN   \n",
       "13661                 230.0                    NaN        391.304348   \n",
       "55923                  52.0                   47.0       2838.826923   \n",
       "31                    207.0                  103.0        628.019324   \n",
       "42167                 200.0                  200.0        675.000000   \n",
       "40536                  60.0                    NaN       1583.333333   \n",
       "103997                205.0                  205.0               NaN   \n",
       "58942                  16.0                   16.0       3312.500000   \n",
       "119228                  NaN                  140.0               NaN   \n",
       "105215                251.0                  208.0       1513.944223   \n",
       "99156                   NaN                  150.0               NaN   \n",
       "99790                  51.0                   45.0       1297.622157   \n",
       "81755                  54.0                   48.0       4473.240741   \n",
       "78294                 770.0                  257.0        584.415584   \n",
       "12641                   NaN                    NaN               NaN   \n",
       "21747                  85.0                   45.0       1882.352941   \n",
       "120762                 39.0                   39.0               NaN   \n",
       "36100                  34.0                   30.0       1352.941176   \n",
       "56032                 187.0                   90.0        721.925134   \n",
       "50231                 108.0                   88.0       1833.333333   \n",
       "118894                  NaN                   75.0               NaN   \n",
       "37799                 124.0                   75.0       1564.516129   \n",
       "90079                  65.0                   56.0               NaN   \n",
       "80151                 108.0                  108.0               NaN   \n",
       "35720                 105.0                   90.0       2809.523810   \n",
       "38541                 450.0                   78.0         99.704311   \n",
       "\n",
       "        price_per_m2  floor  rooms  expenses  \\\n",
       "89483    3074.074074    NaN    NaN       NaN   \n",
       "43431    1386.363636    NaN    5.0       NaN   \n",
       "14529    1051.724138    NaN    4.0       NaN   \n",
       "70874    3888.888889    NaN    NaN    2000.0   \n",
       "56423            NaN    NaN    3.0       NaN   \n",
       "13661            NaN    NaN    5.0       NaN   \n",
       "55923    3140.829787   11.0    NaN       NaN   \n",
       "31       1262.135922    NaN    NaN       NaN   \n",
       "42167     675.000000    NaN    NaN       NaN   \n",
       "40536            NaN    NaN    NaN       NaN   \n",
       "103997           NaN    NaN    NaN       NaN   \n",
       "58942    3312.500000    NaN    NaN    1070.0   \n",
       "119228           NaN    NaN    NaN    2100.0   \n",
       "105215   1826.923077    NaN    NaN       NaN   \n",
       "99156    1600.000000    NaN    NaN       NaN   \n",
       "99790   26222.222222    NaN    NaN       NaN   \n",
       "81755    5032.395833    NaN    NaN       NaN   \n",
       "78294    1750.972763    NaN    NaN       NaN   \n",
       "12641            NaN    NaN    2.0       NaN   \n",
       "21747    3555.555556    NaN    3.0       NaN   \n",
       "120762           NaN    NaN    NaN       NaN   \n",
       "36100    1533.333333    NaN    1.0       NaN   \n",
       "56032    1500.000000    NaN    3.0       NaN   \n",
       "50231    2250.000000    NaN    4.0    3000.0   \n",
       "118894  10400.000000    NaN    NaN    1500.0   \n",
       "37799    2586.666667    NaN    3.0       NaN   \n",
       "90079            NaN    NaN    NaN       NaN   \n",
       "80151            NaN    NaN    NaN       NaN   \n",
       "35720    3277.777778    NaN    3.0       NaN   \n",
       "38541   10256.410256    NaN    NaN       NaN   \n",
       "\n",
       "                                            properati_url  \\\n",
       "89483   http://www.properati.com.ar/1b8pj_venta_depart...   \n",
       "43431   http://www.properati.com.ar/18yh3_venta_casa_c...   \n",
       "14529   http://www.properati.com.ar/16shs_venta_depart...   \n",
       "70874   http://www.properati.com.ar/1ak6o_venta_depart...   \n",
       "56423   http://www.properati.com.ar/19qpu_venta_depart...   \n",
       "13661   http://www.properati.com.ar/16pz0_venta_casa_m...   \n",
       "55923   http://www.properati.com.ar/19pv0_venta_depart...   \n",
       "31      http://www.properati.com.ar/15brt_venta_casa_m...   \n",
       "42167   http://www.properati.com.ar/18vws_venta_casa_l...   \n",
       "40536   http://www.properati.com.ar/18rgj_venta_ph_vil...   \n",
       "103997  http://www.properati.com.ar/1bsp4_venta_casa_l...   \n",
       "58942   http://www.properati.com.ar/19wjb_venta_depart...   \n",
       "119228  http://www.properati.com.ar/1cgdb_venta_casa_c...   \n",
       "105215  http://www.properati.com.ar/1bubq_venta_casa_e...   \n",
       "99156   http://www.properati.com.ar/1bmbs_venta_casa_p...   \n",
       "99790   http://www.properati.com.ar/1bn20_venta_depart...   \n",
       "81755   http://www.properati.com.ar/1aye1_venta_depart...   \n",
       "78294   http://www.properati.com.ar/1atyd_venta_casa_b...   \n",
       "12641   http://www.properati.com.ar/16mhh_venta_depart...   \n",
       "21747   http://www.properati.com.ar/17gbt_venta_ph_vil...   \n",
       "120762  http://www.properati.com.ar/1cicb_venta_depart...   \n",
       "36100   http://www.properati.com.ar/18g1y_venta_depart...   \n",
       "56032   http://www.properati.com.ar/19q2a_venta_casa_e...   \n",
       "50231   http://www.properati.com.ar/19dq6_venta_depart...   \n",
       "118894  http://www.properati.com.ar/1cfyn_venta_depart...   \n",
       "37799   http://www.properati.com.ar/18jv0_venta_depart...   \n",
       "90079   http://www.properati.com.ar/1b9lt_venta_depart...   \n",
       "80151   http://www.properati.com.ar/1awhi_venta_depart...   \n",
       "35720   http://www.properati.com.ar/18f30_venta_depart...   \n",
       "38541   http://www.properati.com.ar/18lad_venta_casa_m...   \n",
       "\n",
       "                                              description  \\\n",
       "89483    Muy buen dto 2 dormit a estrenar en edificio ...   \n",
       "43431   EN DOS PLANTAS -VEGETACION SILVESTRE - CERCA D...   \n",
       "14529   Departamento ubicado en la localidad de Ciudad...   \n",
       "70874   Hermoso departamento de 2 ambientes a estrenar...   \n",
       "56423   Venta de Departamento 3 AMBIENTES en Torreón, ...   \n",
       "13661   EXELENTE CHALET UBICADO EN LA FLORIDA. EL MISM...   \n",
       "55923   VENTA DEPARTAMENTO 2 AMBIENTES SAN TELMOUnidad...   \n",
       "31      Muy buena casa tipo americana de 3 ambientes c...   \n",
       "42167   Se venden 3 PH en block ubicados en la localid...   \n",
       "40536   CODIGO: 2428-V029 ubicado en: GUIDO SPANO 2696...   \n",
       "103997  ///CASA 3 DORMITORIOS ///Importante casa a la ...   \n",
       "58942   CODIGO: 2905-SCH11 ubicado en: Uriburu 600  - ...   \n",
       "119228  Hermosa casa a estrenar en Horizontes al Sur a...   \n",
       "105215  Excelente casa de estilo clásico de dos planta...   \n",
       "99156   MUY LINDA CASA EN B  SAN FRANCISCO EN COMP. VI...   \n",
       "99790   Edificio Ubicado en Morón Sur, a cinco cuadras...   \n",
       "81755   ¡OPORTUNIDAD! Increíble 2 amb A ESTRENAR c/ Do...   \n",
       "78294   Venta de Casa 7 AMBIENTES en Bella Vista.Chale...   \n",
       "12641   Corredor Responsable: Martin Eguiazu - C.C.I. ...   \n",
       "21747   Venta de Departamento 3 AMBIENTES en Villa Cre...   \n",
       "120762                  AMBIENTE DIVISIBLE CON PISOS D...   \n",
       "36100   Monoambiente en Barrio cerrado, planta baja co...   \n",
       "56032   VENTA, DUPLEX, 3 AMBIENTES, EZPELETA OESTE, QU...   \n",
       "50231   Venta de Departamento 4 AMBIENTES, Vicente Lóp...   \n",
       "118894  Departamento 2 Dormitorios en Complejo Arcos d...   \n",
       "37799   Amplio departamento de 2 dormitorios con balcó...   \n",
       "90079                                    BBU5754 AP390958   \n",
       "80151    Sergio Villella Inmobiliaria presenta departa...   \n",
       "35720   CONTACTO: ANA 11-Departamento en Dúplex de 105...   \n",
       "38541   Casa a terminar ubicada en calle Marciano N°37...   \n",
       "\n",
       "                                                    title  \\\n",
       "89483                              Departamento en Olivos   \n",
       "43431   VENDO CASA CON SALIDA AL LAGO EN ECUESTRE # 38...   \n",
       "14529   Dpto 4 amb USD 60.000 s/Av. Gral Paz Playa de ...   \n",
       "70874             Excelente departamento 2 amb - Belgrano   \n",
       "56423                               DEPARTAMENTO EN VENTA   \n",
       "13661                                CHALET EN LA FLORIDA   \n",
       "55923                               DEPARTAMENTO EN VENTA   \n",
       "31      Casa tipo americana de 3 ambientes sobre lote ...   \n",
       "42167            3 PHs en block 8,66x37 a 250 mts Crovara   \n",
       "40536                PH 3 AMBIENTES PLANTA BAJA AL FRENTE   \n",
       "103997                                    Casa - La Plata   \n",
       "58942        Monoambiente Apto Profesional IDEAL INVERSOR   \n",
       "119228  Casa a estrenar en Horizontes al Sur apta crédito   \n",
       "105215  Casa a laguna - San Matias Área 1, Maschwitz E...   \n",
       "99156                                Casa - San Francisco   \n",
       "99790                               Departamento en Moron   \n",
       "81755   INCREIBLE 2amb A ESTRENAR c/ Bcón. al Fte. en ...   \n",
       "78294                                       CASA EN VENTA   \n",
       "12641   VENTA COMPLEJO DE DEPARTAMENTOS BARRIO 9 DE JULIO   \n",
       "21747                                         PH EN VENTA   \n",
       "120762                        Departamento - Villa Crespo   \n",
       "36100              MONOAMBIENTE PB \"BARRIO VILLA CARMELA\"   \n",
       "56032                                       CASA EN VENTA   \n",
       "50231                               DEPARTAMENTO EN VENTA   \n",
       "118894                          Departamento - Las Palmas   \n",
       "37799         Amplio Departamento 3 ambientes en Nordelta   \n",
       "90079                         Departamento - Palermo Soho   \n",
       "80151                          Departamento - Macrocentro   \n",
       "35720   Moderno 3 amb con escritorio - terraza con par...   \n",
       "38541               Casa en Venta, Marcos Paz Código 2075   \n",
       "\n",
       "                                          image_thumbnail  \\\n",
       "89483   https://thumbs4.properati.com/4/MpqBxWGRfirrak...   \n",
       "43431   https://thumbs4.properati.com/5/QgpZHsKzv1yt_O...   \n",
       "14529   https://thumbs4.properati.com/1/-Z7YerG8trRIiW...   \n",
       "70874   https://thumbs4.properati.com/6/WgzOtgxKLO8Hho...   \n",
       "56423   https://thumbs4.properati.com/8/BQr421cP3CJvY_...   \n",
       "13661   https://thumbs4.properati.com/7/4IOiHSRX0czMzL...   \n",
       "55923   https://thumbs4.properati.com/7/Zo155gilH4_4l-...   \n",
       "31      https://thumbs4.properati.com/3/VBhw6ONYbu6Jys...   \n",
       "42167   https://thumbs4.properati.com/4/II0cJIEXlEE6YA...   \n",
       "40536   https://thumbs4.properati.com/9/3VVQs4v9ydbNOb...   \n",
       "103997  https://thumbs4.properati.com/8/hmTVHSO9GWG6L3...   \n",
       "58942   https://thumbs4.properati.com/4/V8r0qCdEBeOc3K...   \n",
       "119228  https://thumbs4.properati.com/7/l8O_-nbbpK6Yu3...   \n",
       "105215  https://thumbs4.properati.com/5/RdHo2y7Z7TV7oa...   \n",
       "99156   https://thumbs4.properati.com/7/6SA6aZeE01CaaD...   \n",
       "99790   https://thumbs4.properati.com/0/3McMRb7xxCQ0we...   \n",
       "81755   https://thumbs4.properati.com/7/swkYEr_ktqu7iD...   \n",
       "78294   https://thumbs4.properati.com/7/H3abwWW8MCjXgC...   \n",
       "12641   https://thumbs4.properati.com/3/0bBCsY6-vhfyB1...   \n",
       "21747   https://thumbs4.properati.com/5/I_D5RPwHEU6JAB...   \n",
       "120762  https://thumbs4.properati.com/3/VZwji96qqOdxpd...   \n",
       "36100   https://thumbs4.properati.com/9/a6g6O6yIn2wWdA...   \n",
       "56032   https://thumbs4.properati.com/9/e2SiecixmEJAUu...   \n",
       "50231   https://thumbs4.properati.com/6/kZAI8HlLEpQE64...   \n",
       "118894  https://thumbs4.properati.com/8/qBwUGW0k2wNgrf...   \n",
       "37799   https://thumbs4.properati.com/5/mbzp2CUVv5IKpE...   \n",
       "90079   https://thumbs4.properati.com/0/_1jMEizf3_fs98...   \n",
       "80151   https://thumbs4.properati.com/1/Vldtdelv9NTFCJ...   \n",
       "35720   https://thumbs4.properati.com/4/lJe6w5pyXoLZyn...   \n",
       "38541   https://thumbs4.properati.com/8/glWjw9ou77wKe2...   \n",
       "\n",
       "                           provincia           ciudad          barrio1  \n",
       "89483       Bs.As. G.B.A. Zona Norte    Vicente López           Olivos  \n",
       "43431   Buenos Aires Costa Atlántica  Costa Esmeralda                   \n",
       "14529       Bs.As. G.B.A. Zona Oeste       La Matanza     Villa Madero  \n",
       "70874                Capital Federal  Capital Federal         Belgrano  \n",
       "56423   Buenos Aires Costa Atlántica    Mar del Plata          Torreón  \n",
       "13661   Buenos Aires Costa Atlántica    Mar del Plata                   \n",
       "55923                Capital Federal  Capital Federal        San Telmo  \n",
       "31          Bs.As. G.B.A. Zona Norte    Vicente López            Munro  \n",
       "42167       Bs.As. G.B.A. Zona Oeste       La Matanza       La Tablada  \n",
       "40536       Bs.As. G.B.A. Zona Oeste       La Matanza  Villa Luzuriaga  \n",
       "103997        Bs.As. G.B.A. Zona Sur         La Plata                   \n",
       "58942                Capital Federal  Capital Federal     Barrio Norte  \n",
       "119228        Bs.As. G.B.A. Zona Sur           Ezeiza          Canning  \n",
       "105215      Bs.As. G.B.A. Zona Norte          Escobar                   \n",
       "99156       Bs.As. G.B.A. Zona Norte            Pilar                   \n",
       "99790       Bs.As. G.B.A. Zona Oeste            Morón            Morón  \n",
       "81755                Capital Federal  Capital Federal          Palermo  \n",
       "78294       Bs.As. G.B.A. Zona Norte       San Miguel      Bella Vista  \n",
       "12641                       Santa Fe      Castellanos                   \n",
       "21747                Capital Federal  Capital Federal     Villa Crespo  \n",
       "120762               Capital Federal  Capital Federal     Villa Crespo  \n",
       "36100       Bs.As. G.B.A. Zona Norte       San Miguel       San Miguel  \n",
       "56032         Bs.As. G.B.A. Zona Sur          Quilmes         Ezpeleta  \n",
       "50231       Bs.As. G.B.A. Zona Norte    Vicente López                   \n",
       "118894                       Córdoba          Córdoba                   \n",
       "37799       Bs.As. G.B.A. Zona Norte            Tigre         Nordelta  \n",
       "90079                Capital Federal  Capital Federal          Palermo  \n",
       "80151                       Santa Fe          Rosario                   \n",
       "35720                Capital Federal  Capital Federal          Palermo  \n",
       "38541       Bs.As. G.B.A. Zona Oeste       Marcos Paz       Marcos Paz  "
      ]
     },
     "execution_count": 45,
     "metadata": {},
     "output_type": "execute_result"
    }
   ],
   "source": [
    "#ahora hacemos drop de la columna place_with_parent_names, ya que ya extraímos su información\n",
    "datos.drop('place_with_parent_names',axis=1, inplace=True)\n",
    "datos.sample(30)\n"
   ]
  },
  {
   "cell_type": "markdown",
   "metadata": {},
   "source": [
    "### Ahora volvemos a ver la calidad de las columnas"
   ]
  },
  {
   "cell_type": "code",
   "execution_count": 46,
   "metadata": {},
   "outputs": [
    {
     "name": "stderr",
     "output_type": "stream",
     "text": [
      "C:\\Users\\fpeloso\\AppData\\Local\\Temp\\ipykernel_1276\\3929143227.py:19: UserWarning: FixedFormatter should only be used together with FixedLocator\n",
      "  ax.set_xticklabels(ind)\n",
      "C:\\Users\\fpeloso\\AppData\\Local\\Temp\\ipykernel_1276\\3929143227.py:22: UserWarning: FixedFormatter should only be used together with FixedLocator\n",
      "  ax.set_xticklabels(ind, rotation = 90, ha=\"right\")\n"
     ]
    },
    {
     "data": {
      "image/png": "[encoded data removed]",
      "text/plain": [
       "<Figure size 1600x600 with 1 Axes>"
      ]
     },
     "metadata": {},
     "output_type": "display_data"
    }
   ],
   "source": [
    "ind=datos.columns\n",
    "ind_label=np.arange(0,datos.shape[1]-1)\n",
    "\n",
    "valores_nulos=datos.isnull().sum()/datos.shape[0]\n",
    "\n",
    "valores_no_nulos=datos.notnull().sum()/datos.shape[0]\n",
    "\n",
    "width = 0.25\n",
    "\n",
    "fig = plt.figure(figsize=(16,6)); ax = plt.axes()\n",
    "#fig2= plt.figure(figsize=(16,6)); ax2 = plt.axes()\n",
    "\n",
    "ax.bar(ind, valores_nulos, width, color='r') # barra roja. \n",
    "ax.bar(ind, valores_no_nulos, width, color='b',bottom=valores_nulos)\n",
    "#ax2.bar(ind, valores_no_nulos, width, color='b')#, bottom=valores_no_nulos) # barra azul \n",
    "\n",
    "ax.set_ylabel('Porcentaje'); ax.set_title('Valores Nulos y No-Nulos por Columna')\n",
    "#ax.set_xticks(ind); \n",
    "ax.set_xticklabels(ind)\n",
    "ax.tick_params(axis='both', which='minor', labelsize='small')\n",
    "\n",
    "ax.set_xticklabels(ind, rotation = 90, ha=\"right\")\n",
    "#ax2.set_xticklabels(ind,labelsize=8)\n",
    "#ax.legend(labels=['Men', 'Women'])\n",
    "\n",
    "#plt.gca().invert_xaxis()\n",
    "plt.show()"
   ]
  },
  {
   "cell_type": "markdown",
   "metadata": {},
   "source": [
    "# Roberto: empezamos con el procesamiento de la columna descripción para encontrar data relevante:"
   ]
  },
  {
   "cell_type": "code",
   "execution_count": 47,
   "metadata": {},
   "outputs": [],
   "source": [
    "# recorre el campo description y llama la funcion CuentaPalabras en cada registro y va sumando palabra y cantidad de cada registro\n",
    "# Genera un DataFrame CantPalabras con las dos listas\n",
    "listPalabras = []\n",
    "listCantidad = []\n",
    "\n"
   ]
  },
  {
   "cell_type": "markdown",
   "metadata": {},
   "source": [
    "### ANALIZAR SI CONVIENE REDEFINIR LA FUNCIÓN CUENTAPALABRAS:\n",
    "\n",
    "AHORA MISMO MODIFICA LAS LISTAS DEFINIDAS POR FUERA DE LA FUNCIÓN, SERÍA MEJOR\n",
    "UTILIZAR UN RETURN"
   ]
  },
  {
   "cell_type": "code",
   "execution_count": 48,
   "metadata": {},
   "outputs": [],
   "source": [
    "SerieAmbiente = datos['description']\n",
    "patron_amb = '\\d\\s+[Aa]mbiente'\n",
    "patron_regex_amb = re.compile(patron_amb)\n",
    "Ambiente = SerieAmbiente.apply(lambda x: np.NaN if len(patron_regex_amb.findall(str(x)))==0\n",
    "                               else (patron_regex_amb.findall(str(x))[0])[0])\n",
    "datos['ambientes'] = Ambiente"
   ]
  },
  {
   "cell_type": "code",
   "execution_count": 49,
   "metadata": {},
   "outputs": [
    {
     "data": {
      "text/plain": [
       "98892"
      ]
     },
     "execution_count": 49,
     "metadata": {},
     "output_type": "execute_result"
    }
   ],
   "source": [
    "datos['ambientes'].isnull().sum()"
   ]
  },
  {
   "cell_type": "code",
   "execution_count": 50,
   "metadata": {},
   "outputs": [],
   "source": [
    "mask_amb=datos['ambientes'].notnull() & datos['rooms'].isnull() "
   ]
  },
  {
   "cell_type": "code",
   "execution_count": 51,
   "metadata": {},
   "outputs": [
    {
     "data": {
      "text/plain": [
       "11559"
      ]
     },
     "execution_count": 51,
     "metadata": {},
     "output_type": "execute_result"
    }
   ],
   "source": [
    "#se pueden imputar 11 mil datos de la columna ambietnes a rooms\n",
    "mask_amb.sum()\n"
   ]
  },
  {
   "cell_type": "code",
   "execution_count": 52,
   "metadata": {},
   "outputs": [
    {
     "data": {
      "text/plain": [
       "73830"
      ]
     },
     "execution_count": 52,
     "metadata": {},
     "output_type": "execute_result"
    }
   ],
   "source": [
    "datos['rooms'].isnull().sum()"
   ]
  },
  {
   "cell_type": "markdown",
   "metadata": {},
   "source": [
    "Analisis de Cochera "
   ]
  },
  {
   "cell_type": "code",
   "execution_count": 53,
   "metadata": {},
   "outputs": [],
   "source": [
    "SerieCoch = datos['description']\n",
    "patron_coch = '([Cc]ochera|[Gg]arage)'\n",
    "patron_regex_coch = re.compile(patron_coch)\n",
    "Cochera = SerieCoch.apply(lambda x: False if len(patron_regex_coch.findall(str(x)))==0 else True)\n",
    "datos['cochera'] = Cochera"
   ]
  },
  {
   "cell_type": "markdown",
   "metadata": {},
   "source": [
    "Añado Parrilla"
   ]
  },
  {
   "cell_type": "code",
   "execution_count": 54,
   "metadata": {},
   "outputs": [],
   "source": [
    "SerieParrilla = datos['description']\n",
    "patron_parrilla = '[Pp]arrilla'\n",
    "patron_regex_parrilla = re.compile(patron_parrilla)\n",
    "Parrilla = SerieParrilla.apply(lambda x: False if len(patron_regex_parrilla.findall(str(x)))==0 else True)\n",
    "datos['parrilla'] = Parrilla"
   ]
  },
  {
   "cell_type": "code",
   "execution_count": 55,
   "metadata": {},
   "outputs": [],
   "source": [
    "SeriePatio = datos['description']\n",
    "patron_patio = '[Pp]atio'\n",
    "patron_regex_patio = re.compile(patron_patio)\n",
    "Patio = SeriePatio.apply(lambda x: False if len(patron_regex_patio.findall(str(x)))==0 else True)\n",
    "datos['patio'] = Patio"
   ]
  },
  {
   "cell_type": "code",
   "execution_count": 56,
   "metadata": {},
   "outputs": [],
   "source": [
    "SeriePileta = datos['description']\n",
    "patron_pileta = '([Pp]ileta|[Pp]iscina)'\n",
    "patron_regex_pileta = re.compile(patron_pileta)\n",
    "Pileta = SeriePileta.apply(lambda x: False if len(patron_regex_pileta.findall(str(x)))==0 else True)\n",
    "datos['pileta'] = Pileta"
   ]
  },
  {
   "cell_type": "code",
   "execution_count": 57,
   "metadata": {},
   "outputs": [],
   "source": [
    "SerieVista = datos['description']\n",
    "patron_vista = '([Aa]l\\s[Ff]rente|[\\s.,!/][Vv]istas*[\\s.,!/)])'\n",
    "patron_regex_vista = re.compile(patron_vista)\n",
    "Vista = SerieVista.apply(lambda x: False if len(patron_regex_vista.findall(str(x)))==0 else True)\n",
    "datos['vista'] = Vista"
   ]
  },
  {
   "cell_type": "code",
   "execution_count": 58,
   "metadata": {},
   "outputs": [],
   "source": [
    "# cuando price_usd_m2 es nulo, o bien price_aprox_usd es nulo o surface_total_in_m2 es nulo\n",
    "# por lo tanto no podemos conformarlo a partir de esos dos valores\n",
    "datos_usdm2_null = datos[datos['price_usd_per_m2'].isnull()]"
   ]
  },
  {
   "cell_type": "code",
   "execution_count": 59,
   "metadata": {},
   "outputs": [],
   "source": [
    "# Cuando price_usd_per_m2 es nulo hay muchos registros completos en price_per_m2\n",
    "# Tomamos sólo los que se encuentran entre 1000 y 6000 que hacen pensar que se cargaron en el campo equivocado\n",
    "# Son 17.817 valores que llevarían los 52.603 nulos de price_usd_per_m2 a 34.786\n",
    "\n",
    "mask1 = datos_usdm2_null['price_per_m2'] < 6000\n",
    "mask2 = datos_usdm2_null['price_per_m2'] > 500\n",
    "Serie_price_per_m2 = datos_usdm2_null[mask1 & mask2]['price_per_m2']\n",
    "datos['usd_per_m2_2'] = Serie_price_per_m2"
   ]
  },
  {
   "cell_type": "markdown",
   "metadata": {},
   "source": [
    "### Desde acá analizamos el nuevo campo usd_per_m2_2 que complementa a price_usd_per_m2"
   ]
  },
  {
   "cell_type": "code",
   "execution_count": 60,
   "metadata": {},
   "outputs": [
    {
     "name": "stdout",
     "output_type": "stream",
     "text": [
      "el campo price_usd_per_m2 cuenta con 68617 datos no nulos\n",
      "el campo usd_per_m2_2  aporta 19966 valores no nulos al campo price_usd_per_m2\n"
     ]
    }
   ],
   "source": [
    "mask20 = datos['price_usd_per_m2'].isnull() & datos['usd_per_m2_2'].notnull()\n",
    "\n",
    "print(f'el campo price_usd_per_m2 cuenta con {datos.price_usd_per_m2.count()} datos no nulos')\n",
    "print(f'el campo usd_per_m2_2  aporta {datos[mask20].usd_per_m2_2.count()} valores no nulos al campo price_usd_per_m2')\n"
   ]
  },
  {
   "cell_type": "code",
   "execution_count": 61,
   "metadata": {},
   "outputs": [
    {
     "data": {
      "text/html": [
       "<div>\n",
       "<style scoped>\n",
       "    .dataframe tbody tr th:only-of-type {\n",
       "        vertical-align: middle;\n",
       "    }\n",
       "\n",
       "    .dataframe tbody tr th {\n",
       "        vertical-align: top;\n",
       "    }\n",
       "\n",
       "    .dataframe thead tr th {\n",
       "        text-align: left;\n",
       "    }\n",
       "\n",
       "    .dataframe thead tr:last-of-type th {\n",
       "        text-align: right;\n",
       "    }\n",
       "</style>\n",
       "<table border=\"1\" class=\"dataframe\">\n",
       "  <thead>\n",
       "    <tr>\n",
       "      <th></th>\n",
       "      <th></th>\n",
       "      <th></th>\n",
       "      <th colspan=\"3\" halign=\"left\">price_usd_per_m2</th>\n",
       "      <th colspan=\"3\" halign=\"left\">usd_per_m2_2</th>\n",
       "    </tr>\n",
       "    <tr>\n",
       "      <th></th>\n",
       "      <th></th>\n",
       "      <th></th>\n",
       "      <th>mean</th>\n",
       "      <th>std</th>\n",
       "      <th>count</th>\n",
       "      <th>mean</th>\n",
       "      <th>std</th>\n",
       "      <th>count</th>\n",
       "    </tr>\n",
       "    <tr>\n",
       "      <th>provincia</th>\n",
       "      <th>ciudad</th>\n",
       "      <th>property_type</th>\n",
       "      <th></th>\n",
       "      <th></th>\n",
       "      <th></th>\n",
       "      <th></th>\n",
       "      <th></th>\n",
       "      <th></th>\n",
       "    </tr>\n",
       "  </thead>\n",
       "  <tbody>\n",
       "    <tr>\n",
       "      <th>Buenos Aires Costa Atlántica</th>\n",
       "      <th>Mar del Plata</th>\n",
       "      <th>apartment</th>\n",
       "      <td>1986.896177</td>\n",
       "      <td>539.483595</td>\n",
       "      <td>3466</td>\n",
       "      <td>1939.210364</td>\n",
       "      <td>535.268024</td>\n",
       "      <td>917</td>\n",
       "    </tr>\n",
       "    <tr>\n",
       "      <th>Bs.As. G.B.A. Zona Norte</th>\n",
       "      <th>Tigre</th>\n",
       "      <th>house</th>\n",
       "      <td>1639.454885</td>\n",
       "      <td>694.365804</td>\n",
       "      <td>2936</td>\n",
       "      <td>1951.398657</td>\n",
       "      <td>651.248168</td>\n",
       "      <td>858</td>\n",
       "    </tr>\n",
       "    <tr>\n",
       "      <th>Bs.As. G.B.A. Zona Sur</th>\n",
       "      <th>Lomas de Zamora</th>\n",
       "      <th>house</th>\n",
       "      <td>1353.224498</td>\n",
       "      <td>474.131192</td>\n",
       "      <td>433</td>\n",
       "      <td>1384.156061</td>\n",
       "      <td>533.035214</td>\n",
       "      <td>801</td>\n",
       "    </tr>\n",
       "    <tr>\n",
       "      <th>Bs.As. G.B.A. Zona Norte</th>\n",
       "      <th>Tigre</th>\n",
       "      <th>apartment</th>\n",
       "      <td>2376.631307</td>\n",
       "      <td>643.255606</td>\n",
       "      <td>2914</td>\n",
       "      <td>2499.103360</td>\n",
       "      <td>712.255133</td>\n",
       "      <td>663</td>\n",
       "    </tr>\n",
       "    <tr>\n",
       "      <th>Córdoba</th>\n",
       "      <th>Córdoba</th>\n",
       "      <th>house</th>\n",
       "      <td>889.641567</td>\n",
       "      <td>339.074551</td>\n",
       "      <td>210</td>\n",
       "      <td>1255.528798</td>\n",
       "      <td>926.594816</td>\n",
       "      <td>593</td>\n",
       "    </tr>\n",
       "    <tr>\n",
       "      <th>Bs.As. G.B.A. Zona Norte</th>\n",
       "      <th>Vicente López</th>\n",
       "      <th>apartment</th>\n",
       "      <td>3063.957543</td>\n",
       "      <td>849.464267</td>\n",
       "      <td>1363</td>\n",
       "      <td>3070.254809</td>\n",
       "      <td>827.409718</td>\n",
       "      <td>566</td>\n",
       "    </tr>\n",
       "    <tr>\n",
       "      <th>Bs.As. G.B.A. Zona Sur</th>\n",
       "      <th>La Plata</th>\n",
       "      <th>house</th>\n",
       "      <td>1339.969649</td>\n",
       "      <td>580.974937</td>\n",
       "      <td>265</td>\n",
       "      <td>1492.484930</td>\n",
       "      <td>557.511626</td>\n",
       "      <td>515</td>\n",
       "    </tr>\n",
       "    <tr>\n",
       "      <th>Bs.As. G.B.A. Zona Oeste</th>\n",
       "      <th>La Matanza</th>\n",
       "      <th>apartment</th>\n",
       "      <td>1751.969835</td>\n",
       "      <td>506.831824</td>\n",
       "      <td>389</td>\n",
       "      <td>1971.952269</td>\n",
       "      <td>510.201628</td>\n",
       "      <td>489</td>\n",
       "    </tr>\n",
       "    <tr>\n",
       "      <th rowspan=\"2\" valign=\"top\">Bs.As. G.B.A. Zona Norte</th>\n",
       "      <th>San Isidro</th>\n",
       "      <th>house</th>\n",
       "      <td>1443.511966</td>\n",
       "      <td>608.869569</td>\n",
       "      <td>950</td>\n",
       "      <td>1874.288131</td>\n",
       "      <td>625.317530</td>\n",
       "      <td>460</td>\n",
       "    </tr>\n",
       "    <tr>\n",
       "      <th>Escobar</th>\n",
       "      <th>house</th>\n",
       "      <td>1272.935898</td>\n",
       "      <td>433.624570</td>\n",
       "      <td>793</td>\n",
       "      <td>1425.429927</td>\n",
       "      <td>609.771963</td>\n",
       "      <td>448</td>\n",
       "    </tr>\n",
       "    <tr>\n",
       "      <th rowspan=\"2\" valign=\"top\">Bs.As. G.B.A. Zona Sur</th>\n",
       "      <th>Lomas de Zamora</th>\n",
       "      <th>apartment</th>\n",
       "      <td>2007.972072</td>\n",
       "      <td>506.828392</td>\n",
       "      <td>815</td>\n",
       "      <td>2150.514590</td>\n",
       "      <td>444.993014</td>\n",
       "      <td>428</td>\n",
       "    </tr>\n",
       "    <tr>\n",
       "      <th>La Plata</th>\n",
       "      <th>apartment</th>\n",
       "      <td>1754.927357</td>\n",
       "      <td>496.831600</td>\n",
       "      <td>598</td>\n",
       "      <td>1698.321391</td>\n",
       "      <td>393.060586</td>\n",
       "      <td>401</td>\n",
       "    </tr>\n",
       "    <tr>\n",
       "      <th>Bs.As. G.B.A. Zona Norte</th>\n",
       "      <th>Pilar</th>\n",
       "      <th>house</th>\n",
       "      <td>1417.256507</td>\n",
       "      <td>505.266135</td>\n",
       "      <td>1202</td>\n",
       "      <td>1462.804473</td>\n",
       "      <td>630.961810</td>\n",
       "      <td>393</td>\n",
       "    </tr>\n",
       "    <tr>\n",
       "      <th>Bs.As. G.B.A. Zona Oeste</th>\n",
       "      <th>Morón</th>\n",
       "      <th>apartment</th>\n",
       "      <td>1762.455910</td>\n",
       "      <td>442.554520</td>\n",
       "      <td>667</td>\n",
       "      <td>1931.368302</td>\n",
       "      <td>407.804286</td>\n",
       "      <td>384</td>\n",
       "    </tr>\n",
       "    <tr>\n",
       "      <th>Bs.As. G.B.A. Zona Norte</th>\n",
       "      <th>Vicente López</th>\n",
       "      <th>house</th>\n",
       "      <td>1576.729160</td>\n",
       "      <td>588.072260</td>\n",
       "      <td>726</td>\n",
       "      <td>1880.130871</td>\n",
       "      <td>626.066158</td>\n",
       "      <td>365</td>\n",
       "    </tr>\n",
       "  </tbody>\n",
       "</table>\n",
       "</div>"
      ],
      "text/plain": [
       "                                                           price_usd_per_m2  \\\n",
       "                                                                       mean   \n",
       "provincia                    ciudad          property_type                    \n",
       "Buenos Aires Costa Atlántica Mar del Plata   apartment          1986.896177   \n",
       "Bs.As. G.B.A. Zona Norte     Tigre           house              1639.454885   \n",
       "Bs.As. G.B.A. Zona Sur       Lomas de Zamora house              1353.224498   \n",
       "Bs.As. G.B.A. Zona Norte     Tigre           apartment          2376.631307   \n",
       "Córdoba                      Córdoba         house               889.641567   \n",
       "Bs.As. G.B.A. Zona Norte     Vicente López   apartment          3063.957543   \n",
       "Bs.As. G.B.A. Zona Sur       La Plata        house              1339.969649   \n",
       "Bs.As. G.B.A. Zona Oeste     La Matanza      apartment          1751.969835   \n",
       "Bs.As. G.B.A. Zona Norte     San Isidro      house              1443.511966   \n",
       "                             Escobar         house              1272.935898   \n",
       "Bs.As. G.B.A. Zona Sur       Lomas de Zamora apartment          2007.972072   \n",
       "                             La Plata        apartment          1754.927357   \n",
       "Bs.As. G.B.A. Zona Norte     Pilar           house              1417.256507   \n",
       "Bs.As. G.B.A. Zona Oeste     Morón           apartment          1762.455910   \n",
       "Bs.As. G.B.A. Zona Norte     Vicente López   house              1576.729160   \n",
       "\n",
       "                                                                              \\\n",
       "                                                                   std count   \n",
       "provincia                    ciudad          property_type                     \n",
       "Buenos Aires Costa Atlántica Mar del Plata   apartment      539.483595  3466   \n",
       "Bs.As. G.B.A. Zona Norte     Tigre           house          694.365804  2936   \n",
       "Bs.As. G.B.A. Zona Sur       Lomas de Zamora house          474.131192   433   \n",
       "Bs.As. G.B.A. Zona Norte     Tigre           apartment      643.255606  2914   \n",
       "Córdoba                      Córdoba         house          339.074551   210   \n",
       "Bs.As. G.B.A. Zona Norte     Vicente López   apartment      849.464267  1363   \n",
       "Bs.As. G.B.A. Zona Sur       La Plata        house          580.974937   265   \n",
       "Bs.As. G.B.A. Zona Oeste     La Matanza      apartment      506.831824   389   \n",
       "Bs.As. G.B.A. Zona Norte     San Isidro      house          608.869569   950   \n",
       "                             Escobar         house          433.624570   793   \n",
       "Bs.As. G.B.A. Zona Sur       Lomas de Zamora apartment      506.828392   815   \n",
       "                             La Plata        apartment      496.831600   598   \n",
       "Bs.As. G.B.A. Zona Norte     Pilar           house          505.266135  1202   \n",
       "Bs.As. G.B.A. Zona Oeste     Morón           apartment      442.554520   667   \n",
       "Bs.As. G.B.A. Zona Norte     Vicente López   house          588.072260   726   \n",
       "\n",
       "                                                           usd_per_m2_2  \\\n",
       "                                                                   mean   \n",
       "provincia                    ciudad          property_type                \n",
       "Buenos Aires Costa Atlántica Mar del Plata   apartment      1939.210364   \n",
       "Bs.As. G.B.A. Zona Norte     Tigre           house          1951.398657   \n",
       "Bs.As. G.B.A. Zona Sur       Lomas de Zamora house          1384.156061   \n",
       "Bs.As. G.B.A. Zona Norte     Tigre           apartment      2499.103360   \n",
       "Córdoba                      Córdoba         house          1255.528798   \n",
       "Bs.As. G.B.A. Zona Norte     Vicente López   apartment      3070.254809   \n",
       "Bs.As. G.B.A. Zona Sur       La Plata        house          1492.484930   \n",
       "Bs.As. G.B.A. Zona Oeste     La Matanza      apartment      1971.952269   \n",
       "Bs.As. G.B.A. Zona Norte     San Isidro      house          1874.288131   \n",
       "                             Escobar         house          1425.429927   \n",
       "Bs.As. G.B.A. Zona Sur       Lomas de Zamora apartment      2150.514590   \n",
       "                             La Plata        apartment      1698.321391   \n",
       "Bs.As. G.B.A. Zona Norte     Pilar           house          1462.804473   \n",
       "Bs.As. G.B.A. Zona Oeste     Morón           apartment      1931.368302   \n",
       "Bs.As. G.B.A. Zona Norte     Vicente López   house          1880.130871   \n",
       "\n",
       "                                                                              \n",
       "                                                                   std count  \n",
       "provincia                    ciudad          property_type                    \n",
       "Buenos Aires Costa Atlántica Mar del Plata   apartment      535.268024   917  \n",
       "Bs.As. G.B.A. Zona Norte     Tigre           house          651.248168   858  \n",
       "Bs.As. G.B.A. Zona Sur       Lomas de Zamora house          533.035214   801  \n",
       "Bs.As. G.B.A. Zona Norte     Tigre           apartment      712.255133   663  \n",
       "Córdoba                      Córdoba         house          926.594816   593  \n",
       "Bs.As. G.B.A. Zona Norte     Vicente López   apartment      827.409718   566  \n",
       "Bs.As. G.B.A. Zona Sur       La Plata        house          557.511626   515  \n",
       "Bs.As. G.B.A. Zona Oeste     La Matanza      apartment      510.201628   489  \n",
       "Bs.As. G.B.A. Zona Norte     San Isidro      house          625.317530   460  \n",
       "                             Escobar         house          609.771963   448  \n",
       "Bs.As. G.B.A. Zona Sur       Lomas de Zamora apartment      444.993014   428  \n",
       "                             La Plata        apartment      393.060586   401  \n",
       "Bs.As. G.B.A. Zona Norte     Pilar           house          630.961810   393  \n",
       "Bs.As. G.B.A. Zona Oeste     Morón           apartment      407.804286   384  \n",
       "Bs.As. G.B.A. Zona Norte     Vicente López   house          626.066158   365  "
      ]
     },
     "execution_count": 61,
     "metadata": {},
     "output_type": "execute_result"
    }
   ],
   "source": [
    "#Comparamos promedio y desvío estándard de las combinaciones provincia/ciudad/property_type que más valores tenemos en el campo nuevo de precio\n",
    "#Al campo original (price_usd_per_m2) lo limitamos entre 500 y 6000 ya que el campo nuevo sólo lo agregamos en ese rango\n",
    "\n",
    "\n",
    "maskm2 = (datos['price_usd_per_m2'] > 500) & (datos['price_usd_per_m2'] < 6000) | (datos['usd_per_m2_2'].notnull())\n",
    "masknoCap = datos['provincia'] != 'Capital Federal'\n",
    "datos_agrup =datos[maskm2 & masknoCap].groupby(['provincia', 'ciudad', 'property_type']).agg({'price_usd_per_m2': ['mean', 'std', 'count'], \n",
    "                                                             'usd_per_m2_2': ['mean', 'std', 'count']})\n",
    "datos_agrup.sort_values(('usd_per_m2_2', 'count'), ascending=False).head(15)\n"
   ]
  },
  {
   "cell_type": "code",
   "execution_count": 62,
   "metadata": {},
   "outputs": [
    {
     "data": {
      "text/html": [
       "<div>\n",
       "<style scoped>\n",
       "    .dataframe tbody tr th:only-of-type {\n",
       "        vertical-align: middle;\n",
       "    }\n",
       "\n",
       "    .dataframe tbody tr th {\n",
       "        vertical-align: top;\n",
       "    }\n",
       "\n",
       "    .dataframe thead tr th {\n",
       "        text-align: left;\n",
       "    }\n",
       "\n",
       "    .dataframe thead tr:last-of-type th {\n",
       "        text-align: right;\n",
       "    }\n",
       "</style>\n",
       "<table border=\"1\" class=\"dataframe\">\n",
       "  <thead>\n",
       "    <tr>\n",
       "      <th></th>\n",
       "      <th></th>\n",
       "      <th></th>\n",
       "      <th colspan=\"3\" halign=\"left\">price_usd_per_m2</th>\n",
       "      <th colspan=\"3\" halign=\"left\">usd_per_m2_2</th>\n",
       "    </tr>\n",
       "    <tr>\n",
       "      <th></th>\n",
       "      <th></th>\n",
       "      <th></th>\n",
       "      <th>mean</th>\n",
       "      <th>std</th>\n",
       "      <th>count</th>\n",
       "      <th>mean</th>\n",
       "      <th>std</th>\n",
       "      <th>count</th>\n",
       "    </tr>\n",
       "    <tr>\n",
       "      <th>ciudad</th>\n",
       "      <th>barrio1</th>\n",
       "      <th>property_type</th>\n",
       "      <th></th>\n",
       "      <th></th>\n",
       "      <th></th>\n",
       "      <th></th>\n",
       "      <th></th>\n",
       "      <th></th>\n",
       "    </tr>\n",
       "  </thead>\n",
       "  <tbody>\n",
       "    <tr>\n",
       "      <th rowspan=\"15\" valign=\"top\">Capital Federal</th>\n",
       "      <th>Palermo</th>\n",
       "      <th>apartment</th>\n",
       "      <td>3267.368270</td>\n",
       "      <td>885.445453</td>\n",
       "      <td>2573</td>\n",
       "      <td>3163.330657</td>\n",
       "      <td>887.100077</td>\n",
       "      <td>453</td>\n",
       "    </tr>\n",
       "    <tr>\n",
       "      <th>Belgrano</th>\n",
       "      <th>apartment</th>\n",
       "      <td>3103.608970</td>\n",
       "      <td>755.599333</td>\n",
       "      <td>1932</td>\n",
       "      <td>3062.154112</td>\n",
       "      <td>758.910102</td>\n",
       "      <td>324</td>\n",
       "    </tr>\n",
       "    <tr>\n",
       "      <th>Caballito</th>\n",
       "      <th>apartment</th>\n",
       "      <td>2473.293396</td>\n",
       "      <td>479.477095</td>\n",
       "      <td>1550</td>\n",
       "      <td>2430.778342</td>\n",
       "      <td>570.699880</td>\n",
       "      <td>297</td>\n",
       "    </tr>\n",
       "    <tr>\n",
       "      <th>Recoleta</th>\n",
       "      <th>apartment</th>\n",
       "      <td>3253.156680</td>\n",
       "      <td>844.546704</td>\n",
       "      <td>1090</td>\n",
       "      <td>3072.140606</td>\n",
       "      <td>786.529508</td>\n",
       "      <td>199</td>\n",
       "    </tr>\n",
       "    <tr>\n",
       "      <th>Villa Urquiza</th>\n",
       "      <th>apartment</th>\n",
       "      <td>2540.308867</td>\n",
       "      <td>422.938569</td>\n",
       "      <td>970</td>\n",
       "      <td>2520.946062</td>\n",
       "      <td>548.497952</td>\n",
       "      <td>183</td>\n",
       "    </tr>\n",
       "    <tr>\n",
       "      <th>Flores</th>\n",
       "      <th>apartment</th>\n",
       "      <td>2083.413897</td>\n",
       "      <td>388.891222</td>\n",
       "      <td>839</td>\n",
       "      <td>2021.531467</td>\n",
       "      <td>359.774317</td>\n",
       "      <td>173</td>\n",
       "    </tr>\n",
       "    <tr>\n",
       "      <th>Monserrat</th>\n",
       "      <th>apartment</th>\n",
       "      <td>2134.715442</td>\n",
       "      <td>562.656036</td>\n",
       "      <td>274</td>\n",
       "      <td>2243.269970</td>\n",
       "      <td>422.047788</td>\n",
       "      <td>158</td>\n",
       "    </tr>\n",
       "    <tr>\n",
       "      <th>Balvanera</th>\n",
       "      <th>apartment</th>\n",
       "      <td>1954.858611</td>\n",
       "      <td>480.799102</td>\n",
       "      <td>415</td>\n",
       "      <td>1906.616812</td>\n",
       "      <td>400.384843</td>\n",
       "      <td>131</td>\n",
       "    </tr>\n",
       "    <tr>\n",
       "      <th>San Telmo</th>\n",
       "      <th>apartment</th>\n",
       "      <td>2375.152130</td>\n",
       "      <td>567.877259</td>\n",
       "      <td>918</td>\n",
       "      <td>2320.995845</td>\n",
       "      <td>466.261080</td>\n",
       "      <td>126</td>\n",
       "    </tr>\n",
       "    <tr>\n",
       "      <th>Nuñez</th>\n",
       "      <th>apartment</th>\n",
       "      <td>3060.117617</td>\n",
       "      <td>859.737583</td>\n",
       "      <td>458</td>\n",
       "      <td>3053.258287</td>\n",
       "      <td>693.584771</td>\n",
       "      <td>122</td>\n",
       "    </tr>\n",
       "    <tr>\n",
       "      <th>Almagro</th>\n",
       "      <th>apartment</th>\n",
       "      <td>2248.286685</td>\n",
       "      <td>502.465890</td>\n",
       "      <td>706</td>\n",
       "      <td>2222.833961</td>\n",
       "      <td>378.694497</td>\n",
       "      <td>117</td>\n",
       "    </tr>\n",
       "    <tr>\n",
       "      <th>Villa Crespo</th>\n",
       "      <th>apartment</th>\n",
       "      <td>2548.230588</td>\n",
       "      <td>503.147813</td>\n",
       "      <td>873</td>\n",
       "      <td>2467.204556</td>\n",
       "      <td>558.492324</td>\n",
       "      <td>106</td>\n",
       "    </tr>\n",
       "    <tr>\n",
       "      <th>Barrio Norte</th>\n",
       "      <th>apartment</th>\n",
       "      <td>3000.903922</td>\n",
       "      <td>856.912873</td>\n",
       "      <td>818</td>\n",
       "      <td>2675.966357</td>\n",
       "      <td>545.611518</td>\n",
       "      <td>99</td>\n",
       "    </tr>\n",
       "    <tr>\n",
       "      <th>San Cristobal</th>\n",
       "      <th>apartment</th>\n",
       "      <td>2240.282509</td>\n",
       "      <td>1108.599814</td>\n",
       "      <td>211</td>\n",
       "      <td>2078.085641</td>\n",
       "      <td>387.333403</td>\n",
       "      <td>82</td>\n",
       "    </tr>\n",
       "    <tr>\n",
       "      <th>Floresta</th>\n",
       "      <th>apartment</th>\n",
       "      <td>1913.494005</td>\n",
       "      <td>347.763150</td>\n",
       "      <td>191</td>\n",
       "      <td>1966.045062</td>\n",
       "      <td>443.407371</td>\n",
       "      <td>80</td>\n",
       "    </tr>\n",
       "  </tbody>\n",
       "</table>\n",
       "</div>"
      ],
      "text/plain": [
       "                                            price_usd_per_m2               \\\n",
       "                                                        mean          std   \n",
       "ciudad          barrio1       property_type                                 \n",
       "Capital Federal Palermo       apartment          3267.368270   885.445453   \n",
       "                Belgrano      apartment          3103.608970   755.599333   \n",
       "                Caballito     apartment          2473.293396   479.477095   \n",
       "                Recoleta      apartment          3253.156680   844.546704   \n",
       "                Villa Urquiza apartment          2540.308867   422.938569   \n",
       "                Flores        apartment          2083.413897   388.891222   \n",
       "                Monserrat     apartment          2134.715442   562.656036   \n",
       "                Balvanera     apartment          1954.858611   480.799102   \n",
       "                San Telmo     apartment          2375.152130   567.877259   \n",
       "                Nuñez         apartment          3060.117617   859.737583   \n",
       "                Almagro       apartment          2248.286685   502.465890   \n",
       "                Villa Crespo  apartment          2548.230588   503.147813   \n",
       "                Barrio Norte  apartment          3000.903922   856.912873   \n",
       "                San Cristobal apartment          2240.282509  1108.599814   \n",
       "                Floresta      apartment          1913.494005   347.763150   \n",
       "\n",
       "                                                  usd_per_m2_2              \\\n",
       "                                            count         mean         std   \n",
       "ciudad          barrio1       property_type                                  \n",
       "Capital Federal Palermo       apartment      2573  3163.330657  887.100077   \n",
       "                Belgrano      apartment      1932  3062.154112  758.910102   \n",
       "                Caballito     apartment      1550  2430.778342  570.699880   \n",
       "                Recoleta      apartment      1090  3072.140606  786.529508   \n",
       "                Villa Urquiza apartment       970  2520.946062  548.497952   \n",
       "                Flores        apartment       839  2021.531467  359.774317   \n",
       "                Monserrat     apartment       274  2243.269970  422.047788   \n",
       "                Balvanera     apartment       415  1906.616812  400.384843   \n",
       "                San Telmo     apartment       918  2320.995845  466.261080   \n",
       "                Nuñez         apartment       458  3053.258287  693.584771   \n",
       "                Almagro       apartment       706  2222.833961  378.694497   \n",
       "                Villa Crespo  apartment       873  2467.204556  558.492324   \n",
       "                Barrio Norte  apartment       818  2675.966357  545.611518   \n",
       "                San Cristobal apartment       211  2078.085641  387.333403   \n",
       "                Floresta      apartment       191  1966.045062  443.407371   \n",
       "\n",
       "                                                   \n",
       "                                            count  \n",
       "ciudad          barrio1       property_type        \n",
       "Capital Federal Palermo       apartment       453  \n",
       "                Belgrano      apartment       324  \n",
       "                Caballito     apartment       297  \n",
       "                Recoleta      apartment       199  \n",
       "                Villa Urquiza apartment       183  \n",
       "                Flores        apartment       173  \n",
       "                Monserrat     apartment       158  \n",
       "                Balvanera     apartment       131  \n",
       "                San Telmo     apartment       126  \n",
       "                Nuñez         apartment       122  \n",
       "                Almagro       apartment       117  \n",
       "                Villa Crespo  apartment       106  \n",
       "                Barrio Norte  apartment        99  \n",
       "                San Cristobal apartment        82  \n",
       "                Floresta      apartment        80  "
      ]
     },
     "execution_count": 62,
     "metadata": {},
     "output_type": "execute_result"
    }
   ],
   "source": [
    "maskm2 = (datos['price_usd_per_m2'] > 500) & (datos['price_usd_per_m2'] < 6000) | (datos['usd_per_m2_2'].notnull())\n",
    "masknoCap = datos['provincia'] == 'Capital Federal'\n",
    "datos_agrup =datos[maskm2 & masknoCap].groupby(['ciudad', 'barrio1', 'property_type']).agg({'price_usd_per_m2': ['mean', 'std', 'count'], \n",
    "                                                             'usd_per_m2_2': ['mean', 'std', 'count']})\n",
    "datos_agrup.sort_values(('usd_per_m2_2', 'count'), ascending=False).head(15)"
   ]
  },
  {
   "cell_type": "code",
   "execution_count": 63,
   "metadata": {},
   "outputs": [],
   "source": [
    "datos['price_usd_per_m2'] = datos.apply(lambda x: x['price_usd_per_m2'] if x['price_usd_per_m2'] > 1 else x['usd_per_m2_2'], axis=1)"
   ]
  },
  {
   "cell_type": "code",
   "execution_count": 64,
   "metadata": {},
   "outputs": [
    {
     "data": {
      "text/plain": [
       "88581"
      ]
     },
     "execution_count": 64,
     "metadata": {},
     "output_type": "execute_result"
    }
   ],
   "source": [
    "datos.price_usd_per_m2.notnull().sum()"
   ]
  },
  {
   "cell_type": "markdown",
   "metadata": {},
   "source": [
    "### Verificamos outliers en el campo price_usd_per_m2"
   ]
  },
  {
   "cell_type": "code",
   "execution_count": 65,
   "metadata": {},
   "outputs": [
    {
     "data": {
      "text/plain": [
       "<AxesSubplot:xlabel='price_usd_per_m2', ylabel='Count'>"
      ]
     },
     "execution_count": 65,
     "metadata": {},
     "output_type": "execute_result"
    },
    {
     "data": {
      "image/png": "[encoded data removed]",
      "text/plain": [
       "<Figure size 640x480 with 1 Axes>"
      ]
     },
     "metadata": {},
     "output_type": "display_data"
    }
   ],
   "source": [
    "mask = datos.price_usd_per_m2 < 10000\n",
    "sns.histplot(datos[mask].price_usd_per_m2, color='blue', bins=100)"
   ]
  },
  {
   "cell_type": "code",
   "execution_count": 66,
   "metadata": {},
   "outputs": [
    {
     "name": "stdout",
     "output_type": "stream",
     "text": [
      "en todo el país hay 5333 de menos de 500 usd x m2\n",
      "en todo el país hay 1489 de más de 6000 usd x m2\n"
     ]
    }
   ],
   "source": [
    "mask = datos.price_usd_per_m2 < 500\n",
    "print(f'en todo el país hay {datos[mask].price_usd_per_m2.count()} de menos de 500 usd x m2')\n",
    "\n",
    "mask1 = datos.price_usd_per_m2 > 6000\n",
    "print(f'en todo el país hay {datos[mask1].price_usd_per_m2.count()} de más de 6000 usd x m2')\n"
   ]
  },
  {
   "cell_type": "code",
   "execution_count": 67,
   "metadata": {},
   "outputs": [
    {
     "data": {
      "text/html": [
       "<div>\n",
       "<style scoped>\n",
       "    .dataframe tbody tr th:only-of-type {\n",
       "        vertical-align: middle;\n",
       "    }\n",
       "\n",
       "    .dataframe tbody tr th {\n",
       "        vertical-align: top;\n",
       "    }\n",
       "\n",
       "    .dataframe thead th {\n",
       "        text-align: right;\n",
       "    }\n",
       "</style>\n",
       "<table border=\"1\" class=\"dataframe\">\n",
       "  <thead>\n",
       "    <tr style=\"text-align: right;\">\n",
       "      <th></th>\n",
       "      <th></th>\n",
       "      <th></th>\n",
       "      <th></th>\n",
       "      <th>price_usd_per_m2</th>\n",
       "    </tr>\n",
       "    <tr>\n",
       "      <th>provincia</th>\n",
       "      <th>ciudad</th>\n",
       "      <th>barrio1</th>\n",
       "      <th>property_type</th>\n",
       "      <th></th>\n",
       "    </tr>\n",
       "  </thead>\n",
       "  <tbody>\n",
       "    <tr>\n",
       "      <th>Capital Federal</th>\n",
       "      <th>Capital Federal</th>\n",
       "      <th>Boedo</th>\n",
       "      <th>apartment</th>\n",
       "      <td>403</td>\n",
       "    </tr>\n",
       "    <tr>\n",
       "      <th>Buenos Aires Costa Atlántica</th>\n",
       "      <th>Mar del Plata</th>\n",
       "      <th></th>\n",
       "      <th>house</th>\n",
       "      <td>368</td>\n",
       "    </tr>\n",
       "    <tr>\n",
       "      <th>Bs.As. G.B.A. Zona Norte</th>\n",
       "      <th>Tigre</th>\n",
       "      <th>Benavidez</th>\n",
       "      <th>house</th>\n",
       "      <td>264</td>\n",
       "    </tr>\n",
       "    <tr>\n",
       "      <th rowspan=\"2\" valign=\"top\">Capital Federal</th>\n",
       "      <th rowspan=\"2\" valign=\"top\">Capital Federal</th>\n",
       "      <th>Puerto Madero</th>\n",
       "      <th>apartment</th>\n",
       "      <td>218</td>\n",
       "    </tr>\n",
       "    <tr>\n",
       "      <th>San Cristobal</th>\n",
       "      <th>apartment</th>\n",
       "      <td>193</td>\n",
       "    </tr>\n",
       "    <tr>\n",
       "      <th>Bs.As. G.B.A. Zona Norte</th>\n",
       "      <th>Pilar</th>\n",
       "      <th></th>\n",
       "      <th>house</th>\n",
       "      <td>177</td>\n",
       "    </tr>\n",
       "    <tr>\n",
       "      <th>Córdoba</th>\n",
       "      <th>Villa Carlos Paz</th>\n",
       "      <th></th>\n",
       "      <th>house</th>\n",
       "      <td>151</td>\n",
       "    </tr>\n",
       "  </tbody>\n",
       "</table>\n",
       "</div>"
      ],
      "text/plain": [
       "                                                                           price_usd_per_m2\n",
       "provincia                    ciudad           barrio1       property_type                  \n",
       "Capital Federal              Capital Federal  Boedo         apartment                   403\n",
       "Buenos Aires Costa Atlántica Mar del Plata                  house                       368\n",
       "Bs.As. G.B.A. Zona Norte     Tigre            Benavidez     house                       264\n",
       "Capital Federal              Capital Federal  Puerto Madero apartment                   218\n",
       "                                              San Cristobal apartment                   193\n",
       "Bs.As. G.B.A. Zona Norte     Pilar                          house                       177\n",
       "Córdoba                      Villa Carlos Paz               house                       151"
      ]
     },
     "execution_count": 67,
     "metadata": {},
     "output_type": "execute_result"
    }
   ],
   "source": [
    "mask2 = (datos.price_usd_per_m2 < 500) | (datos.price_usd_per_m2 > 6000)\n",
    "datos_outliers_usd = datos[mask2].groupby(['provincia', 'ciudad', 'barrio1', 'property_type']).agg({'price_usd_per_m2': 'count'})\n",
    "datos_outliers_usd.sort_values('price_usd_per_m2', ascending=False).head(7)"
   ]
  },
  {
   "cell_type": "code",
   "execution_count": 68,
   "metadata": {},
   "outputs": [
    {
     "data": {
      "text/plain": [
       "357"
      ]
     },
     "execution_count": 68,
     "metadata": {},
     "output_type": "execute_result"
    }
   ],
   "source": [
    "# Capital Federal | Capital Federal | Boedo | apartment con price_usd_per_m2 < 500 y mayor a 6000\n",
    "# en el 100% de los cosas corresponden a proyectos desde el pozo \n",
    "# en casi todos los casos price_usd_per_m2 = price_per_m2 pero no guardan relación ni en $ ni en usd con 'description'\n",
    "# vemos cuantos quedan entre 500 y 6000 usd en la misma zona paraa el mismo property_type\n",
    "maskboedo = (datos.price_usd_per_m2 > 500) & (datos.price_usd_per_m2 < 6000) &\\\n",
    "             (datos.provincia == 'Capital Federal') & (datos.ciudad == 'Capital Federal') &\\\n",
    "             (datos.barrio1 == 'Boedo') & (datos.property_type == 'apartment')\n",
    "datos[maskboedo].price_usd_per_m2.count() # quedan 357 en el dataset con las mismas características"
   ]
  },
  {
   "cell_type": "code",
   "execution_count": 69,
   "metadata": {},
   "outputs": [],
   "source": [
    "# eliminamos entonces los 403 que no son consistentes\n",
    "maskboedodrop = ((datos.price_usd_per_m2 < 500) | (datos.price_usd_per_m2 > 6000)) &\\\n",
    "             (datos.provincia == 'Capital Federal') & (datos.ciudad == 'Capital Federal') &\\\n",
    "             (datos.barrio1 == 'Boedo') & (datos.property_type == 'apartment')\n",
    "listboedodrop = datos[maskboedodrop].index\n",
    "datos = datos.drop(listboedodrop, axis=0)"
   ]
  },
  {
   "cell_type": "code",
   "execution_count": 70,
   "metadata": {},
   "outputs": [],
   "source": [
    "# Buenos Aires Costa Atlántica | Mar del Plata |  | house con price_usd_per_m2 < 500 y mayor a 6000\n",
    "# todos con precios en usd x m2 debajo de 500 - pudimos chequear con el campo description valores correctos de 309, 450 y 442\n",
    "# maskMardel = (datos.index==9529)\n",
    "# datos[maskMardel][['price_usd_per_m2', 'surface_total_in_m2']]\n",
    "# eliminamos sólo los que tienen price_usd_per_m2 < 300 - 186 registros\n",
    "maskMardel = (datos.price_usd_per_m2 < 300) &\\\n",
    "             (datos.provincia == 'Buenos Aires Costa Atlántica') & (datos.ciudad == 'Mar del Plata') &\\\n",
    "             (datos.property_type == 'house')\n",
    "listMardeldrop = datos[maskMardel].index\n",
    "datos = datos.drop(listMardeldrop, axis=0)"
   ]
  },
  {
   "cell_type": "code",
   "execution_count": 71,
   "metadata": {},
   "outputs": [],
   "source": [
    "# Bs.As. G.B.A. Zona Norte | Tigre | Benavidez | house con price_usd_per_m2 < 500 y mayor a 6000\n",
    "# todos con precios x m2 debajo de 500 - pudimos chequear con el campo description valores correctos 120, 187, 246 y 300\n",
    "# el mínimo valor es 110 por lo cual no eliminamos ninguno\n",
    "# maskTigre = (datos.index==110636)\n",
    "# datos[maskTigre][['price_usd_per_m2', 'surface_total_in_m2']]"
   ]
  },
  {
   "cell_type": "code",
   "execution_count": 72,
   "metadata": {},
   "outputs": [],
   "source": [
    "# Capital Federal | Capital Federal | Puerto Madero | apartment con price_usd_per_m2 < 500 y mayor a 6000\n",
    "# son todos apartments con precios x m2 entre 6000 y 10000\n",
    "# dejamos todos"
   ]
  },
  {
   "cell_type": "code",
   "execution_count": 73,
   "metadata": {},
   "outputs": [
    {
     "data": {
      "text/plain": [
       "293"
      ]
     },
     "execution_count": 73,
     "metadata": {},
     "output_type": "execute_result"
    }
   ],
   "source": [
    "# Capital Federal | Capital Federal | San Cristobal | apartment con price_usd_per_m2 < 500 y mayor a 6000\n",
    "# en el 100% de los cosas corresponden a proyectos desde el pozo \n",
    "# en casi todos los casos price_usd_per_m2 = price_per_m2 pero no guardan relación ni en $ ni en usd con 'description'\n",
    "# vemos cuantos quedan entre 500 y 6000 usd en la misma zona paraa el mismo property_type\n",
    "maskSanCrist = (datos.price_usd_per_m2 > 500) & (datos.price_usd_per_m2 < 6000) &\\\n",
    "             (datos.provincia == 'Capital Federal') & (datos.ciudad == 'Capital Federal') &\\\n",
    "             (datos.barrio1 == 'San Cristobal') & (datos.property_type == 'apartment')\n",
    "datos[maskSanCrist].price_usd_per_m2.count() # quedan 293 en el dataset con las mismas características"
   ]
  },
  {
   "cell_type": "code",
   "execution_count": 74,
   "metadata": {},
   "outputs": [],
   "source": [
    "# eliminamos entonces los 193 que no son consistentes\n",
    "maskSanCristdrop = ((datos.price_usd_per_m2 < 500) | (datos.price_usd_per_m2 > 6000)) &\\\n",
    "             (datos.provincia == 'Capital Federal') & (datos.ciudad == 'Capital Federal') &\\\n",
    "             (datos.barrio1 == 'San Cristobal') & (datos.property_type == 'apartment')\n",
    "listSanCristdrop = datos[maskSanCristdrop].index\n",
    "datos = datos.drop(listSanCristdrop, axis=0)"
   ]
  },
  {
   "cell_type": "code",
   "execution_count": 75,
   "metadata": {},
   "outputs": [
    {
     "data": {
      "text/plain": [
       "(120435, 25)"
      ]
     },
     "execution_count": 75,
     "metadata": {},
     "output_type": "execute_result"
    }
   ],
   "source": [
    "# BsAs. G.B.A. Zona Norte | Pilar | | house con price_usd_per_m2 < 500 y mayor a 6000\n",
    "# las que están x debajo de 500 usd x m2 son todas reales muy afectadas por la superficie descubierta\n",
    "# arriba de 6000 hay 3 que dropeamos\n",
    "maskPilardrop = (datos.price_usd_per_m2 > 6000) &\\\n",
    "             (datos.provincia == 'Bs.As. G.B.A. Zona Norte') & (datos.ciudad == 'Pilar') &\\\n",
    "             (datos.property_type == 'house')\n",
    "listPilardrop = datos[maskPilardrop].index\n",
    "datos = datos.drop(listPilardrop, axis=0)\n",
    "datos.shape"
   ]
  },
  {
   "cell_type": "code",
   "execution_count": 76,
   "metadata": {},
   "outputs": [
    {
     "data": {
      "text/plain": [
       "(120426, 25)"
      ]
     },
     "execution_count": 76,
     "metadata": {},
     "output_type": "execute_result"
    }
   ],
   "source": [
    "# Córdoba | Villa Carlos Paz | | house con price_usd_per_m2 < 500 y mayor a 6000\n",
    "# todas debajo de 500 usd x m2 y verificado valores de 100 a 200\n",
    "# dropeamos sólo debajo de 100 usd x m2 porque parecen casas muy destruídas\n",
    "maskCarlosdrop = (datos.price_usd_per_m2 < 100) &\\\n",
    "                 (datos.provincia == 'Córdoba') & (datos.ciudad == 'Villa Carlos Paz') &\\\n",
    "                 (datos.property_type == 'house')\n",
    "listCarlosDrop = datos[maskCarlosdrop].index\n",
    "datos = datos.drop(listCarlosDrop, axis=0)\n",
    "datos.shape"
   ]
  },
  {
   "cell_type": "code",
   "execution_count": 77,
   "metadata": {},
   "outputs": [
    {
     "data": {
      "text/plain": [
       "(120418, 25)"
      ]
     },
     "execution_count": 77,
     "metadata": {},
     "output_type": "execute_result"
    }
   ],
   "source": [
    "# Buenos Aires Costa Atlántica | Pinamar | | house con price_usd_per_m2 < 500 y mayor a 6000\n",
    "# Son todas debajo de 500 usd y pudimos verificar rangos de 200 a 500\n",
    "# dropeamos debajo de 200\n",
    "maskPinadrop = (datos.price_usd_per_m2 < 200) &\\\n",
    "                 (datos.provincia == 'Buenos Aires Costa Atlántica') & (datos.ciudad == 'Pinamar') &\\\n",
    "                 (datos.property_type == 'house')\n",
    "listPinaDrop = datos[maskPinadrop].index\n",
    "datos = datos.drop(listPinaDrop, axis=0)\n",
    "datos.shape"
   ]
  },
  {
   "cell_type": "code",
   "execution_count": 78,
   "metadata": {},
   "outputs": [
    {
     "data": {
      "text/plain": [
       "3300"
      ]
     },
     "execution_count": 78,
     "metadata": {},
     "output_type": "execute_result"
    }
   ],
   "source": [
    "# Santa Fe | Rosario | | department con price_usd_per_m2 < 500 y mayor a 6000\n",
    "# todos los vimos como errores < 500 no valida ninguno con 'description' > 6000 son emprendimientos desde el pozo y tampoco valida\n",
    "maskRosario = (datos.price_usd_per_m2 > 500) & (datos.price_usd_per_m2 < 6000) &\\\n",
    "             (datos.provincia == 'Santa Fe') & (datos.ciudad == 'Rosario') &\\\n",
    "             (datos.property_type == 'apartment')\n",
    "datos[maskRosario].price_usd_per_m2.count() # quedan 3300 en el dataset con las mismas características"
   ]
  },
  {
   "cell_type": "code",
   "execution_count": 79,
   "metadata": {},
   "outputs": [],
   "source": [
    "# eliminamos entonces los 119 que no son consistentes\n",
    "maskRosariodrop = ((datos.price_usd_per_m2 < 500) | (datos.price_usd_per_m2 > 6000)) &\\\n",
    "             (datos.provincia == 'Santa Fe') & (datos.ciudad == 'Rosario') &\\\n",
    "             (datos.property_type == 'apartment')\n",
    "listRosariodrop = datos[maskRosariodrop].index\n",
    "datos = datos.drop(listRosariodrop, axis=0)"
   ]
  },
  {
   "cell_type": "markdown",
   "metadata": {},
   "source": [
    "# Busqueda de outliers en variables de precio"
   ]
  },
  {
   "cell_type": "code",
   "execution_count": 80,
   "metadata": {},
   "outputs": [
    {
     "data": {
      "text/plain": [
       "<AxesSubplot:xlabel='price_aprox_usd', ylabel='Count'>"
      ]
     },
     "execution_count": 80,
     "metadata": {},
     "output_type": "execute_result"
    },
    {
     "data": {
      "image/png": "[encoded data removed]",
      "text/plain": [
       "<Figure size 640x480 with 1 Axes>"
      ]
     },
     "metadata": {},
     "output_type": "display_data"
    }
   ],
   "source": [
    "sns.histplot(datos['price_aprox_usd'], color = \"orange\",binwidth=10000)\n",
    "#sns.histplot(data['y'], bins = 50);"
   ]
  },
  {
   "cell_type": "markdown",
   "metadata": {},
   "source": [
    "creo que aca se ve tan feo el histograma porque hay outliers"
   ]
  },
  {
   "cell_type": "code",
   "execution_count": 81,
   "metadata": {},
   "outputs": [],
   "source": [
    "precio_filtrado=datos['price_aprox_usd']"
   ]
  },
  {
   "cell_type": "code",
   "execution_count": 82,
   "metadata": {},
   "outputs": [],
   "source": [
    "precio_filtrado2=precio_filtrado.apply(lambda x: 0 if x>2000000 else x)"
   ]
  },
  {
   "cell_type": "code",
   "execution_count": 83,
   "metadata": {},
   "outputs": [
    {
     "data": {
      "text/plain": [
       "<AxesSubplot:xlabel='price_aprox_usd', ylabel='Count'>"
      ]
     },
     "execution_count": 83,
     "metadata": {},
     "output_type": "execute_result"
    },
    {
     "data": {
      "image/png": "[encoded data removed]",
      "text/plain": [
       "<Figure size 640x480 with 1 Axes>"
      ]
     },
     "metadata": {},
     "output_type": "display_data"
    }
   ],
   "source": [
    "sns.histplot(precio_filtrado2, color = \"orange\")"
   ]
  },
  {
   "cell_type": "code",
   "execution_count": 84,
   "metadata": {},
   "outputs": [
    {
     "data": {
      "text/plain": [
       "<AxesSubplot:xlabel='price_aprox_usd', ylabel='Density'>"
      ]
     },
     "execution_count": 84,
     "metadata": {},
     "output_type": "execute_result"
    },
    {
     "data": {
      "image/png": "[encoded data removed]",
      "text/plain": [
       "<Figure size 640x480 with 1 Axes>"
      ]
     },
     "metadata": {},
     "output_type": "display_data"
    }
   ],
   "source": [
    "sns.kdeplot(precio_filtrado2, shade=True)"
   ]
  },
  {
   "cell_type": "code",
   "execution_count": 85,
   "metadata": {},
   "outputs": [
    {
     "data": {
      "text/plain": [
       "<AxesSubplot:xlabel='price_aprox_usd', ylabel='Density'>"
      ]
     },
     "execution_count": 85,
     "metadata": {},
     "output_type": "execute_result"
    },
    {
     "data": {
      "image/png": "[encoded data removed]",
      "text/plain": [
       "<Figure size 640x480 with 1 Axes>"
      ]
     },
     "metadata": {},
     "output_type": "display_data"
    }
   ],
   "source": [
    "sns.kdeplot(precio_filtrado, shade=True)"
   ]
  },
  {
   "cell_type": "code",
   "execution_count": 86,
   "metadata": {},
   "outputs": [
    {
     "name": "stderr",
     "output_type": "stream",
     "text": [
      "c:\\Users\\fpeloso\\Anaconda3\\envs\\dhdsblend2021\\lib\\site-packages\\seaborn\\_decorators.py:36: FutureWarning: Pass the following variable as a keyword arg: x. From version 0.12, the only valid positional argument will be `data`, and passing other arguments without an explicit keyword will result in an error or misinterpretation.\n",
      "  warnings.warn(\n"
     ]
    },
    {
     "data": {
      "text/plain": [
       "<AxesSubplot:xlabel='price_aprox_usd'>"
      ]
     },
     "execution_count": 86,
     "metadata": {},
     "output_type": "execute_result"
    },
    {
     "data": {
      "image/png": "[encoded data removed]",
      "text/plain": [
       "<Figure size 640x480 with 1 Axes>"
      ]
     },
     "metadata": {},
     "output_type": "display_data"
    }
   ],
   "source": [
    "sns.boxplot(precio_filtrado2)"
   ]
  },
  {
   "cell_type": "code",
   "execution_count": 87,
   "metadata": {},
   "outputs": [],
   "source": [
    "\n",
    "precio_por_provincia=datos[['price_aprox_usd','provincia']]"
   ]
  },
  {
   "cell_type": "code",
   "execution_count": null,
   "metadata": {},
   "outputs": [],
   "source": []
  },
  {
   "cell_type": "code",
   "execution_count": 88,
   "metadata": {},
   "outputs": [],
   "source": [
    "precio_medio_por_provincia=precio_por_provincia.groupby('provincia').mean()"
   ]
  },
  {
   "cell_type": "code",
   "execution_count": 89,
   "metadata": {},
   "outputs": [
    {
     "data": {
      "text/html": [
       "<div>\n",
       "<style scoped>\n",
       "    .dataframe tbody tr th:only-of-type {\n",
       "        vertical-align: middle;\n",
       "    }\n",
       "\n",
       "    .dataframe tbody tr th {\n",
       "        vertical-align: top;\n",
       "    }\n",
       "\n",
       "    .dataframe thead th {\n",
       "        text-align: right;\n",
       "    }\n",
       "</style>\n",
       "<table border=\"1\" class=\"dataframe\">\n",
       "  <thead>\n",
       "    <tr style=\"text-align: right;\">\n",
       "      <th></th>\n",
       "      <th>price_aprox_usd</th>\n",
       "    </tr>\n",
       "    <tr>\n",
       "      <th>provincia</th>\n",
       "      <th></th>\n",
       "    </tr>\n",
       "  </thead>\n",
       "  <tbody>\n",
       "    <tr>\n",
       "      <th>Bs.As. G.B.A. Zona Norte</th>\n",
       "      <td>324142.230274</td>\n",
       "    </tr>\n",
       "    <tr>\n",
       "      <th>Bs.As. G.B.A. Zona Oeste</th>\n",
       "      <td>167545.648499</td>\n",
       "    </tr>\n",
       "    <tr>\n",
       "      <th>Bs.As. G.B.A. Zona Sur</th>\n",
       "      <td>198555.715572</td>\n",
       "    </tr>\n",
       "    <tr>\n",
       "      <th>Buenos Aires Costa Atlántica</th>\n",
       "      <td>143896.831339</td>\n",
       "    </tr>\n",
       "    <tr>\n",
       "      <th>Buenos Aires Interior</th>\n",
       "      <td>183249.996582</td>\n",
       "    </tr>\n",
       "    <tr>\n",
       "      <th>Capital Federal</th>\n",
       "      <td>261346.651424</td>\n",
       "    </tr>\n",
       "    <tr>\n",
       "      <th>Catamarca</th>\n",
       "      <td>725471.707308</td>\n",
       "    </tr>\n",
       "    <tr>\n",
       "      <th>Chaco</th>\n",
       "      <td>178583.551389</td>\n",
       "    </tr>\n",
       "    <tr>\n",
       "      <th>Chubut</th>\n",
       "      <td>342338.181524</td>\n",
       "    </tr>\n",
       "    <tr>\n",
       "      <th>Corrientes</th>\n",
       "      <td>206896.786681</td>\n",
       "    </tr>\n",
       "    <tr>\n",
       "      <th>Córdoba</th>\n",
       "      <td>203757.502636</td>\n",
       "    </tr>\n",
       "    <tr>\n",
       "      <th>Entre Ríos</th>\n",
       "      <td>148113.819692</td>\n",
       "    </tr>\n",
       "    <tr>\n",
       "      <th>Formosa</th>\n",
       "      <td>63463.367586</td>\n",
       "    </tr>\n",
       "    <tr>\n",
       "      <th>Jujuy</th>\n",
       "      <td>301584.442000</td>\n",
       "    </tr>\n",
       "    <tr>\n",
       "      <th>La Pampa</th>\n",
       "      <td>111053.792222</td>\n",
       "    </tr>\n",
       "    <tr>\n",
       "      <th>La Rioja</th>\n",
       "      <td>60954.385000</td>\n",
       "    </tr>\n",
       "    <tr>\n",
       "      <th>Mendoza</th>\n",
       "      <td>249705.485588</td>\n",
       "    </tr>\n",
       "    <tr>\n",
       "      <th>Misiones</th>\n",
       "      <td>121241.552299</td>\n",
       "    </tr>\n",
       "    <tr>\n",
       "      <th>Neuquén</th>\n",
       "      <td>219429.090401</td>\n",
       "    </tr>\n",
       "    <tr>\n",
       "      <th>Río Negro</th>\n",
       "      <td>300126.180693</td>\n",
       "    </tr>\n",
       "    <tr>\n",
       "      <th>Salta</th>\n",
       "      <td>312755.743529</td>\n",
       "    </tr>\n",
       "    <tr>\n",
       "      <th>San Juan</th>\n",
       "      <td>299575.820000</td>\n",
       "    </tr>\n",
       "    <tr>\n",
       "      <th>San Luis</th>\n",
       "      <td>282242.500433</td>\n",
       "    </tr>\n",
       "    <tr>\n",
       "      <th>Santa Cruz</th>\n",
       "      <td>176129.507895</td>\n",
       "    </tr>\n",
       "    <tr>\n",
       "      <th>Santa Fe</th>\n",
       "      <td>115404.318988</td>\n",
       "    </tr>\n",
       "    <tr>\n",
       "      <th>Santiago Del Estero</th>\n",
       "      <td>163428.393333</td>\n",
       "    </tr>\n",
       "    <tr>\n",
       "      <th>Tierra Del Fuego</th>\n",
       "      <td>180246.755161</td>\n",
       "    </tr>\n",
       "    <tr>\n",
       "      <th>Tucumán</th>\n",
       "      <td>158878.733192</td>\n",
       "    </tr>\n",
       "  </tbody>\n",
       "</table>\n",
       "</div>"
      ],
      "text/plain": [
       "                              price_aprox_usd\n",
       "provincia                                    \n",
       "Bs.As. G.B.A. Zona Norte        324142.230274\n",
       "Bs.As. G.B.A. Zona Oeste        167545.648499\n",
       "Bs.As. G.B.A. Zona Sur          198555.715572\n",
       "Buenos Aires Costa Atlántica    143896.831339\n",
       "Buenos Aires Interior           183249.996582\n",
       "Capital Federal                 261346.651424\n",
       "Catamarca                       725471.707308\n",
       "Chaco                           178583.551389\n",
       "Chubut                          342338.181524\n",
       "Corrientes                      206896.786681\n",
       "Córdoba                         203757.502636\n",
       "Entre Ríos                      148113.819692\n",
       "Formosa                          63463.367586\n",
       "Jujuy                           301584.442000\n",
       "La Pampa                        111053.792222\n",
       "La Rioja                         60954.385000\n",
       "Mendoza                         249705.485588\n",
       "Misiones                        121241.552299\n",
       "Neuquén                         219429.090401\n",
       "Río Negro                       300126.180693\n",
       "Salta                           312755.743529\n",
       "San Juan                        299575.820000\n",
       "San Luis                        282242.500433\n",
       "Santa Cruz                      176129.507895\n",
       "Santa Fe                        115404.318988\n",
       "Santiago Del Estero             163428.393333\n",
       "Tierra Del Fuego                180246.755161\n",
       "Tucumán                         158878.733192"
      ]
     },
     "execution_count": 89,
     "metadata": {},
     "output_type": "execute_result"
    }
   ],
   "source": [
    "precio_medio_por_provincia.head(10)\n",
    "precio_medio_por_provincia"
   ]
  },
  {
   "cell_type": "code",
   "execution_count": 90,
   "metadata": {},
   "outputs": [
    {
     "ename": "AttributeError",
     "evalue": "'AxesSubplot' object has no attribute 'set_axis_labels'",
     "output_type": "error",
     "traceback": [
      "\u001b[1;31m---------------------------------------------------------------------------\u001b[0m",
      "\u001b[1;31mAttributeError\u001b[0m                            Traceback (most recent call last)",
      "\u001b[1;32mc:\\Users\\fpeloso\\Digital House\\TP 1 - Grupo 10\\DH-TP-1---Grupo-10\\Main-TP1 copy.ipynb Celda 125\u001b[0m in \u001b[0;36m<cell line: 1>\u001b[1;34m()\u001b[0m\n\u001b[0;32m      <a href='vscode-notebook-cell:/c%3A/Users/fpeloso/Digital%20House/TP%201%20-%20Grupo%2010/DH-TP-1---Grupo-10/Main-TP1%20copy.ipynb#Y250sZmlsZQ%3D%3D?line=0'>1</a>\u001b[0m \u001b[39mwith\u001b[39;00m sns\u001b[39m.\u001b[39maxes_style(style\u001b[39m=\u001b[39m\u001b[39m'\u001b[39m\u001b[39mticks\u001b[39m\u001b[39m'\u001b[39m):\n\u001b[0;32m      <a href='vscode-notebook-cell:/c%3A/Users/fpeloso/Digital%20House/TP%201%20-%20Grupo%2010/DH-TP-1---Grupo-10/Main-TP1%20copy.ipynb#Y250sZmlsZQ%3D%3D?line=1'>2</a>\u001b[0m     g\u001b[39m=\u001b[39m sns\u001b[39m.\u001b[39mscatterplot(x\u001b[39m=\u001b[39m\u001b[39m'\u001b[39m\u001b[39mprovincia\u001b[39m\u001b[39m'\u001b[39m, y\u001b[39m=\u001b[39m\u001b[39m'\u001b[39m\u001b[39mprice_aprox_usd\u001b[39m\u001b[39m'\u001b[39m,data\u001b[39m=\u001b[39mprecio_medio_por_provincia)\n\u001b[1;32m----> <a href='vscode-notebook-cell:/c%3A/Users/fpeloso/Digital%20House/TP%201%20-%20Grupo%2010/DH-TP-1---Grupo-10/Main-TP1%20copy.ipynb#Y250sZmlsZQ%3D%3D?line=2'>3</a>\u001b[0m     g\u001b[39m.\u001b[39;49mset_axis_labels(\u001b[39m\"\u001b[39m\u001b[39mProvincia\u001b[39m\u001b[39m\"\u001b[39m, \u001b[39m\"\u001b[39m\u001b[39mPrecio Medio\u001b[39m\u001b[39m\"\u001b[39m)\n\u001b[0;32m      <a href='vscode-notebook-cell:/c%3A/Users/fpeloso/Digital%20House/TP%201%20-%20Grupo%2010/DH-TP-1---Grupo-10/Main-TP1%20copy.ipynb#Y250sZmlsZQ%3D%3D?line=3'>4</a>\u001b[0m     g\u001b[39m.\u001b[39mset_xticklabels(rotation\u001b[39m=\u001b[39m\u001b[39m90\u001b[39m)\n",
      "\u001b[1;31mAttributeError\u001b[0m: 'AxesSubplot' object has no attribute 'set_axis_labels'"
     ]
    },
    {
     "data": {
      "image/png": "[encoded data removed]",
      "text/plain": [
       "<Figure size 640x480 with 1 Axes>"
      ]
     },
     "metadata": {},
     "output_type": "display_data"
    }
   ],
   "source": [
    "with sns.axes_style(style='ticks'):\n",
    "    g= sns.scatterplot(x='provincia', y='price_aprox_usd',data=precio_medio_por_provincia)\n",
    "    g.set_axis_labels(\"Provincia\", \"Precio Medio\")\n",
    "    g.set_xticklabels(rotation=90) "
   ]
  },
  {
   "cell_type": "code",
   "execution_count": null,
   "metadata": {},
   "outputs": [],
   "source": []
  },
  {
   "cell_type": "code",
   "execution_count": null,
   "metadata": {},
   "outputs": [
    {
     "data": {
      "image/png": "[encoded data removed]",
      "text/plain": [
       "<Figure size 500x500 with 1 Axes>"
      ]
     },
     "metadata": {},
     "output_type": "display_data"
    }
   ],
   "source": [
    "with sns.axes_style(style='ticks'):\n",
    "    g = sns.catplot(x = \"provincia\", y = \"price_aprox_usd\", data=precio_por_provincia, kind=\"box\")\n",
    "    g.set_axis_labels(\"Provincia\", \"Precio\")\n",
    "    #ax.tick_params(axis='x', rotation=90)\n",
    "    g.set_xticklabels(rotation=90) "
   ]
  },
  {
   "cell_type": "markdown",
   "metadata": {},
   "source": [
    "## Lectura de columna comentarios para obtener datos y validar otros campos"
   ]
  },
  {
   "cell_type": "code",
   "execution_count": null,
   "metadata": {},
   "outputs": [],
   "source": []
  },
  {
   "cell_type": "markdown",
   "metadata": {},
   "source": [
    "## Categorizar los ambientes"
   ]
  },
  {
   "cell_type": "code",
   "execution_count": null,
   "metadata": {},
   "outputs": [],
   "source": []
  },
  {
   "cell_type": "markdown",
   "metadata": {},
   "source": [
    "## Análisis usando groupby (ciudades, barrios, provincias)"
   ]
  },
  {
   "cell_type": "code",
   "execution_count": null,
   "metadata": {},
   "outputs": [],
   "source": []
  },
  {
   "cell_type": "markdown",
   "metadata": {},
   "source": [
    "## Uso de tablas pivot para visualizar relaciones entre parámetros"
   ]
  },
  {
   "cell_type": "code",
   "execution_count": null,
   "metadata": {},
   "outputs": [],
   "source": []
  }
 ],
 "metadata": {
  "kernelspec": {
   "display_name": "Python 3.8.13 ('dhdsblend2021')",
   "language": "python",
   "name": "python3"
  },
  "language_info": {
   "codemirror_mode": {
    "name": "ipython",
    "version": 3
   },
   "file_extension": ".py",
   "mimetype": "text/x-python",
   "name": "python",
   "nbconvert_exporter": "python",
   "pygments_lexer": "ipython3",
   "version": "3.8.13"
  },
  "orig_nbformat": 4,
  "vscode": {
   "interpreter": {
    "hash": "b43af2114f43bcf982d0b53b081e4c6c708721cc588721c6f40c2d9852c4cd7b"
   }
  }
 },
 "nbformat": 4,
 "nbformat_minor": 2
}
