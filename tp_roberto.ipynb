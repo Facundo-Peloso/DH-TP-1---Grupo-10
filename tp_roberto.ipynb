{
 "cells": [
  {
   "cell_type": "code",
   "execution_count": 1,
   "metadata": {},
   "outputs": [],
   "source": [
    "import numpy as np\n",
    "import pandas as pd"
   ]
  },
  {
   "cell_type": "code",
   "execution_count": 2,
   "metadata": {},
   "outputs": [],
   "source": [
    "data = pd.read_csv('C:/Users/VivoBook/Documents/Roberto/_Data_Science_curso/221018 Tp/properatti.csv', index_col=0)"
   ]
  },
  {
   "cell_type": "code",
   "execution_count": 4,
   "metadata": {},
   "outputs": [
    {
     "data": {
      "text/plain": [
       "(121220, 25)"
      ]
     },
     "execution_count": 4,
     "metadata": {},
     "output_type": "execute_result"
    }
   ],
   "source": [
    "data.shape"
   ]
  },
  {
   "cell_type": "code",
   "execution_count": 5,
   "metadata": {},
   "outputs": [
    {
     "data": {
      "text/plain": [
       "operation                          0\n",
       "property_type                      0\n",
       "place_name                        23\n",
       "place_with_parent_names            0\n",
       "country_name                       0\n",
       "state_name                         0\n",
       "geonames_id                    18717\n",
       "lat-lon                        51550\n",
       "lat                            51550\n",
       "lon                            51550\n",
       "price                          20410\n",
       "currency                       20411\n",
       "price_aprox_local_currency     20410\n",
       "price_aprox_usd                20410\n",
       "surface_total_in_m2            39328\n",
       "surface_covered_in_m2          19907\n",
       "price_usd_per_m2               52603\n",
       "price_per_m2                   33562\n",
       "floor                         113321\n",
       "rooms                          73830\n",
       "expenses                      106958\n",
       "properati_url                      0\n",
       "description                        2\n",
       "title                              0\n",
       "image_thumbnail                 3112\n",
       "dtype: int64"
      ]
     },
     "execution_count": 5,
     "metadata": {},
     "output_type": "execute_result"
    }
   ],
   "source": [
    "data.isna().sum()"
   ]
  },
  {
   "cell_type": "code",
   "execution_count": 6,
   "metadata": {},
   "outputs": [],
   "source": [
    "# Chequeo de que los precios sean consistentes\n",
    "# Veo muy consistentes los precios price_aprox_usd y price_usd_per_m2 y también surface_total_in_m2\n",
    "data[['price_aprox_local_currency', 'price_aprox_usd', 'price_usd_per_m2', 'price_per_m2', 'currency', 'surface_total_in_m2']].to_csv('precios.csv')\n"
   ]
  },
  {
   "cell_type": "code",
   "execution_count": 7,
   "metadata": {},
   "outputs": [],
   "source": [
    "# Chequeo de que existan estas Fotos - Existen pero no sé si vale la pena conservarlo\n",
    "data[['image_thumbnail']].to_csv('pisos.csv')\n"
   ]
  },
  {
   "cell_type": "code",
   "execution_count": 8,
   "metadata": {},
   "outputs": [
    {
     "data": {
      "text/plain": [
       "Argentina    121220\n",
       "Name: country_name, dtype: int64"
      ]
     },
     "execution_count": 8,
     "metadata": {},
     "output_type": "execute_result"
    }
   ],
   "source": [
    "# Chequeo único valor de este campo\n",
    "data.country_name.value_counts()"
   ]
  },
  {
   "cell_type": "code",
   "execution_count": 107,
   "metadata": {},
   "outputs": [],
   "source": [
    "# Función CuentaPalabras que hace dos cosas\n",
    "    # toma un texto y le quita los caracteres especiales que vi que más se repetían\n",
    "    # suma a dos listas la palabra y la cantidad de veces que aparece en el texto\n",
    "\n",
    "import collections\n",
    "\n",
    "def CuentaPalabras(texto):\n",
    "    specialChars = ',()./-:'\n",
    "    for specialChars in specialChars:\n",
    "        texto = texto.replace(specialChars,'')\n",
    "        \n",
    "    counter = collections.Counter(texto.split(' '))\n",
    "    for palabra, cont in counter.most_common():\n",
    "        listPalabras.append(palabra)\n",
    "        listCantidad.append(cont)\n"
   ]
  },
  {
   "cell_type": "code",
   "execution_count": 108,
   "metadata": {},
   "outputs": [],
   "source": [
    "# recorre el campo description y llama la funcion CuentaPalabras en cada registro y va sumando palabra y cantidad de cada registro\n",
    "# Genera un DataFrame CantPalabras con las dos listas\n",
    "\n",
    "listPalabras = []\n",
    "listCantidad = []\n",
    "data.description.apply(lambda x: CuentaPalabras(str(x).lower()))\n",
    "CantPalabras = pd.DataFrame({'palabra': listPalabras, 'cantidad': listCantidad})"
   ]
  },
  {
   "cell_type": "code",
   "execution_count": 109,
   "metadata": {},
   "outputs": [],
   "source": [
    "# Agrupa el DataFrame por palabra sumando cantidad\n",
    "\n",
    "CantPalabrasAgrupadas = CantPalabras.groupby(['palabra']).aggregate({'cantidad': 'sum'}).sort_values(['cantidad'], ascending=False)"
   ]
  },
  {
   "cell_type": "code",
   "execution_count": 110,
   "metadata": {},
   "outputs": [],
   "source": [
    "# Exporté a un csv, trabajé en Excel y elegí 52 palabras que aún queda por agrupar que usando regex pueden servir como:\n",
    "    # complemento a alguna columna que tenga vacíos \n",
    "    # generar nueva columna de variable que sirvan para el análisis\n",
    "\n",
    "CantPalabrasAgrupadas.to_csv('Palabras agrupadas.csv')"
   ]
  }
 ],
 "metadata": {
  "kernelspec": {
   "display_name": "Python 3.9.2 64-bit",
   "language": "python",
   "name": "python3"
  },
  "language_info": {
   "codemirror_mode": {
    "name": "ipython",
    "version": 3
   },
   "file_extension": ".py",
   "mimetype": "text/x-python",
   "name": "python",
   "nbconvert_exporter": "python",
   "pygments_lexer": "ipython3",
   "version": "3.9.2"
  },
  "orig_nbformat": 4,
  "vscode": {
   "interpreter": {
    "hash": "98b9776bb1c906ffea5885633daef92fdfff9bdc53a036d784e355cfb10fec4f"
   }
  }
 },
 "nbformat": 4,
 "nbformat_minor": 2
}
