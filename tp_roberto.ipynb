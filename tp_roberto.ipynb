{
 "cells": [
  {
   "cell_type": "markdown",
   "metadata": {},
   "source": [
    "# TP Integrador N° 1 \n",
    "#### Grupo 10\n",
    "\n",
    "Integrantes:\n",
    "- Rodrigo Gramajo\n",
    "- Facundo Peloso\n",
    "- Guido Perez \n",
    "- Roberto Biancardi\n",
    "\n",
    "Introducción\n",
    "\n",
    "La inmobiliaria Properatti desea implementar un ***tasador automático*** para sus operaciones.\n",
    "\n",
    "Nuestro objetivo final es desarrollar un modelo de regresión lineal que permita *predecir el* ***precio por metro cuadrado*** *de una propiedad.* Para ello, la empresa nos provee un dataset con los datos de sus operaciones en el primer semestre del 2017.\n",
    "\n",
    "El alcance de este primer trabajo práctico es de leer, analizar y procesar dichos datos para desarrollar un modelo predictivo en próximos trabajos.\n",
    "\n"
   ]
  },
  {
   "cell_type": "markdown",
   "metadata": {},
   "source": [
    "### Lectura de Datos ###\n",
    "\n",
    "\n",
    "Importamos las librerías que nos permitiran manejar y visualizar los datos"
   ]
  },
  {
   "cell_type": "code",
   "execution_count": 154,
   "metadata": {},
   "outputs": [],
   "source": [
    "#Importacion de librerias/módulos\n",
    "import pandas as pd\n",
    "import numpy as np\n",
    "import seaborn as sns\n",
    "import matplotlib.pyplot as plt\n",
    "import re\n",
    "import collections"
   ]
  },
  {
   "cell_type": "markdown",
   "metadata": {},
   "source": [
    "Leemos el archivo .csv que contiene al dataset y  hacemos una primera visualización.\n",
    "\n",
    "NOTA: El archivo .csv esta ubicado en el mismo directorio que la notebook Main para evitar conflictos de distintas rutas locales."
   ]
  },
  {
   "cell_type": "code",
   "execution_count": null,
   "metadata": {},
   "outputs": [],
   "source": [
    "#Establezco la dirección del archivo\n",
    "file_location='properatti.csv'\n",
    "\n",
    "#Leo el data set usando la librería pandas\n",
    "# y se almacena en el objeto Dataframe llamado datos_crudos  \n",
    "datos_crudos=pd.read_csv(file_location)\n",
    "\n",
    "#Visualizo las primeras filas\n",
    "display(datos_crudos.head(3))"
   ]
  },
  {
   "cell_type": "markdown",
   "metadata": {},
   "source": [
    "### Dimensiones del Dataset ###\n",
    "Visualizamos la dimensión del dataset en filas *(Registros)* y columnas *(Campos)*:"
   ]
  },
  {
   "cell_type": "code",
   "execution_count": 156,
   "metadata": {},
   "outputs": [
    {
     "name": "stdout",
     "output_type": "stream",
     "text": [
      "Tamaño del dataset\n",
      "Filas: 121220\n",
      "Columnas: 26\n"
     ]
    }
   ],
   "source": [
    "#Imprimimos en pantalla la cantidad de filas y columnas\n",
    "print('Tamaño del dataset')\n",
    "print('Filas:',datos_crudos.shape[0])\n",
    "print('Columnas:',datos_crudos.shape[1])"
   ]
  },
  {
   "cell_type": "markdown",
   "metadata": {},
   "source": [
    "Hay mas 120 mil registro por lo que es de tamaño chico/mediano.\n",
    "\n",
    "Cuenta con 26 campos para describir cada operacion inmobiliaria.\n",
    "\n",
    "### Analisis de los Campos ###\n",
    "\n",
    "Listamos todos los campos del dataset y el tipo de dato que almacenan para entender que información nos brindan"
   ]
  },
  {
   "cell_type": "code",
   "execution_count": null,
   "metadata": {},
   "outputs": [],
   "source": [
    "#Instanciamos un Serie vacía\n",
    "nombre_tipo_columnas=pd.Series()\n",
    "#Utilizamos las columnas de nuestro dataset como índice de la serie vacía\n",
    "# como valores guardamos el tipo de objeto almacenado en la primera fila de cada columna\n",
    "for i in datos_crudos.columns : \n",
    "     nombre_tipo_columnas[i]=type(datos_crudos.loc[0,i])\n",
    "nombre_tipo_columnas\n"
   ]
  },
  {
   "cell_type": "markdown",
   "metadata": {},
   "source": [
    "### Listado y breve descripción de cada campo ###\n",
    "\n",
    "- \"Unnamed: 0\": Es un campo que hace la función de índice. Cada registro es un valor numérico, entero, único y ordenado desde el 0 hasta el total de filas menos uno.\n",
    "\n",
    "- \"operation\": String que define el tipo de operación: venta(sell) o alquiler(rent).\n",
    "\n",
    "- property_type: String que define el tipo de propiedad (PH, Casa, Departamento)\n",
    "\n",
    "- place_name: String que define el barrio/ciudad de la propiedad\n",
    "\n",
    "- place_with_parent_names: String con diferentes datos geograficos separados por un caracter\n",
    " (pais, nombre, provincia, ciudad).\n",
    "\n",
    "- country_name: String que define el país de la propiedad.\n",
    "\n",
    "- state_name: String que indica la provincia/región de la propiedad.\n",
    "\n",
    "- geonames_id:\n",
    "\n",
    "- lat-lon: Latitud y Longitud separados por un caracter.\n",
    "\n",
    "- lat: Latidud\n",
    "\n",
    "- lon: Longitud\n",
    "\n",
    "- price: Precio \n",
    "\n",
    "- currency: Moneda \n",
    "\n",
    "- price_aprox_local_currency: Precio en moneda local.\n",
    "\n",
    "- price_aprox_usd: Precio aproximado en dólares\n",
    "\n",
    "- surface_total_in_m2: Superficie total en metros cuadrados.\n",
    "\n",
    "- surface_covered_in_m2: Superficie cubierta/bajo techo en metros cuadrados.\n",
    "\n",
    "- price_usd_per_m2: Precio en dolar del metro cuadrado de la propiedad.\n",
    "\n",
    "- price_per_m2: Precio en monedad local del metro cuadrado de la propiedad.\n",
    "\n",
    "- floor: String que indica el piso en el que se encuentra el departamento o cantidad de pisos que tiene una casa.\n",
    "\n",
    "- rooms: Cantidad de  ambientes que tiene la propiedad.\n",
    "\n",
    "- expenses: Valor de las expensas.\n",
    "\n",
    "- properati_url\n",
    "\n",
    "- description\n",
    "\n",
    "- title\n",
    "\n",
    "- image_thumbnail"
   ]
  },
  {
   "cell_type": "markdown",
   "metadata": {},
   "source": [
    "### Analisis de los campos del Dataset ###\n",
    "\n",
    "\n",
    "##### Eliminación de campos redundantes: ####\n",
    "\n",
    "Creamos una lista vacía donde iremos añadiendo los campos redundantes que serán eliminados"
   ]
  },
  {
   "cell_type": "code",
   "execution_count": 158,
   "metadata": {},
   "outputs": [],
   "source": [
    "#Lista vacía de campos a eliminar:\n",
    "campos_a_eliminar=[]"
   ]
  },
  {
   "cell_type": "markdown",
   "metadata": {},
   "source": [
    "**Unnamed 0:** - Esta columna no tiene ninguna utilidad o función ya que volcamos el dataset a un objeto Dataframe que ya cuenta con su propio índice. Por ende se descarta."
   ]
  },
  {
   "cell_type": "code",
   "execution_count": 159,
   "metadata": {},
   "outputs": [],
   "source": [
    "#añadimos el campo a la lista eliminar\n",
    "campos_a_eliminar.append('Unnamed: 0')"
   ]
  },
  {
   "cell_type": "markdown",
   "metadata": {},
   "source": [
    "**Operation:** - Esta columna debería tener dos tipos de valores posibles (venta y alquiler). Podemos corrobar cuantos operaciones fueron venta y cuantas alquiler:"
   ]
  },
  {
   "cell_type": "code",
   "execution_count": 160,
   "metadata": {},
   "outputs": [
    {
     "data": {
      "text/plain": [
       "sell    121220\n",
       "Name: operation, dtype: int64"
      ]
     },
     "execution_count": 160,
     "metadata": {},
     "output_type": "execute_result"
    }
   ],
   "source": [
    "#Utilizamos el método value_counts para totalizar las operaciones de venta y alquier \n",
    "datos_crudos.operation.value_counts()"
   ]
  },
  {
   "cell_type": "markdown",
   "metadata": {},
   "source": [
    "Vemos que todas las operaciones realizadas han sido de ventas y ninguna de alquiler. Por lo tanto, esta columna no me aporta información y se descarta."
   ]
  },
  {
   "cell_type": "code",
   "execution_count": 161,
   "metadata": {},
   "outputs": [],
   "source": [
    "#añadimos el campo a la lista eliminar\n",
    "campos_a_eliminar.append('operation')"
   ]
  },
  {
   "cell_type": "markdown",
   "metadata": {},
   "source": [
    "**country_name** - A priori se debería descartar ya que, por definición, partimos de la base que la inmobiliaria Properatti es una empresa argentina que opera solo en dicho país. No obstante, podemos corroborar si todos los registros del campo country_name coinciden y son efectivamente \"Argentina\":"
   ]
  },
  {
   "cell_type": "code",
   "execution_count": 162,
   "metadata": {},
   "outputs": [
    {
     "data": {
      "text/plain": [
       "Argentina    121220\n",
       "Name: country_name, dtype: int64"
      ]
     },
     "execution_count": 162,
     "metadata": {},
     "output_type": "execute_result"
    }
   ],
   "source": [
    "#Utilizamos el método value_counts para totalizar los valores distinto que aparecen\n",
    "#en la columna country_name\n",
    "datos_crudos.country_name.value_counts()"
   ]
  },
  {
   "cell_type": "markdown",
   "metadata": {},
   "source": [
    "Confirmamos que todos los registros tiene el mismo valor por lo que el campo no aporta información y se decarta la columna."
   ]
  },
  {
   "cell_type": "code",
   "execution_count": 163,
   "metadata": {},
   "outputs": [],
   "source": [
    "#añadimos el campo a la lista eliminar\n",
    "campos_a_eliminar.append('country_name')"
   ]
  },
  {
   "cell_type": "markdown",
   "metadata": {},
   "source": [
    "place_with_parent_names: Es un campo que contiene la misma información que place_name, state_name y country_name separados\n",
    "por un caracter \"|\".\n",
    "\n",
    "A priori, uno podría descartar esta columna y quedarse con las columnas que cuentan con los valores ya separados.\n",
    "\n",
    "Sin embargo, vemos que place_name tiene registros nulos y place_with_parent_names no:"
   ]
  },
  {
   "cell_type": "code",
   "execution_count": 164,
   "metadata": {},
   "outputs": [
    {
     "data": {
      "text/plain": [
       "state_name                  0\n",
       "place_name                 23\n",
       "place_with_parent_names     0\n",
       "dtype: int64"
      ]
     },
     "execution_count": 164,
     "metadata": {},
     "output_type": "execute_result"
    }
   ],
   "source": [
    "datos_crudos[['state_name','place_name','place_with_parent_names']].isnull().sum()"
   ]
  },
  {
   "cell_type": "markdown",
   "metadata": {},
   "source": [
    "Por esto decidimos quedarnos con la ccolumna place_with_parent_names que tiene toda la mayor cantidad de información, \n",
    "a pesar que luego tendremos que procesarla.\n",
    "\n",
    "Descartamos los campos state_name y place_name:"
   ]
  },
  {
   "cell_type": "code",
   "execution_count": 165,
   "metadata": {},
   "outputs": [],
   "source": [
    "#añadimos los campos a la lista eliminar\n",
    "campos_a_eliminar.extend(('state_name','place_name'))"
   ]
  },
  {
   "cell_type": "markdown",
   "metadata": {},
   "source": [
    "geonames_id: Corresponde a una base de datos que asigna latitud y longitud a ciudades, provincias y otras\n",
    "entidades geográficas.\n",
    "\n",
    "No es útil para imputar las columnas de latitud y longitud ya que si queremos analizar los precios de las propiedades por barrio, esto introduciría un sesgo a los datos y empeoraría el valor predictivo\n",
    "de nuestro modelo. Por ende se descarta"
   ]
  },
  {
   "cell_type": "code",
   "execution_count": 166,
   "metadata": {},
   "outputs": [],
   "source": [
    "#añadimos los campos a la lista eliminar\n",
    "campos_a_eliminar.append('geonames_id')"
   ]
  },
  {
   "cell_type": "markdown",
   "metadata": {},
   "source": [
    "\n",
    "lat-lon: Tiene los datos de latitud y longitud separados por un caracter \"-\".\n",
    "Podríamos descartala y utilizar las columnas lat y lon en su lugar. Pero primero corroboramos la calidad\n",
    "de las columnas según cantidad de nulos:"
   ]
  },
  {
   "cell_type": "code",
   "execution_count": 167,
   "metadata": {},
   "outputs": [
    {
     "data": {
      "text/plain": [
       "lat-lon    51550\n",
       "lat        51550\n",
       "lon        51550\n",
       "dtype: int64"
      ]
     },
     "execution_count": 167,
     "metadata": {},
     "output_type": "execute_result"
    }
   ],
   "source": [
    "#Vemos la cantidad de nulos en las columnas:\n",
    "datos_crudos[['lat-lon','lat','lon']].isnull().sum()"
   ]
  },
  {
   "cell_type": "markdown",
   "metadata": {},
   "source": [
    "Como tienen la misma cantidad de datos, descartamos la columna lat-lon."
   ]
  },
  {
   "cell_type": "code",
   "execution_count": 168,
   "metadata": {},
   "outputs": [],
   "source": [
    "#añadimos los campos a la lista eliminar\n",
    "campos_a_eliminar.append('lat-lon')"
   ]
  },
  {
   "cell_type": "markdown",
   "metadata": {},
   "source": [
    "Ahora analizamos las columnas correspondientes al precio de las propiedades\n",
    "\n",
    "Tenemos las columnas price (precio en dólares), currency(moneda en que se cotiza), \n",
    "price_aprox_local_currency (precio aproximado en pesos) y price_aprox_usd (precio aproximado en dólares)\n",
    "\n",
    "\n",
    "Por un lado vemos que monedas se usaron para cotizar:"
   ]
  },
  {
   "cell_type": "code",
   "execution_count": 169,
   "metadata": {},
   "outputs": [
    {
     "data": {
      "text/plain": [
       "USD    87587\n",
       "ARS    13219\n",
       "PEN        2\n",
       "UYU        1\n",
       "Name: currency, dtype: int64"
      ]
     },
     "execution_count": 169,
     "metadata": {},
     "output_type": "execute_result"
    }
   ],
   "source": [
    "#Vemos cuantas monedas se utilizaron\n",
    "datos_crudos.currency.value_counts()"
   ]
  },
  {
   "cell_type": "markdown",
   "metadata": {},
   "source": [
    "La gran mayoria de las cotizaciones fue en dólares. Deberíamos tener una única columna con el precio de las propiedades en dólares.\n",
    "\n",
    "Ahora vemos si los precios en pesos han usado el mismo tipo de cambio:"
   ]
  },
  {
   "cell_type": "code",
   "execution_count": 170,
   "metadata": {},
   "outputs": [
    {
     "data": {
      "text/plain": [
       "17.6445    82402\n",
       "17.6445      714\n",
       "17.6445      670\n",
       "17.6445      224\n",
       "17.6445      224\n",
       "           ...  \n",
       "17.6445        1\n",
       "17.6445        1\n",
       "17.6445        1\n",
       "17.6445        1\n",
       "17.6445        1\n",
       "Length: 7238, dtype: int64"
      ]
     },
     "execution_count": 170,
     "metadata": {},
     "output_type": "execute_result"
    }
   ],
   "source": [
    "#Creamos un df dividiendo el precio aproximado en pesos por el precio aproximado en dólares\n",
    "valor_de_cambio=datos_crudos.price_aprox_local_currency/datos_crudos.price_aprox_usd\n",
    "\n",
    "#Vemos cuantas cotizaciones hubo\n",
    "valor_de_cambio.value_counts()"
   ]
  },
  {
   "cell_type": "code",
   "execution_count": 171,
   "metadata": {},
   "outputs": [
    {
     "name": "stdout",
     "output_type": "stream",
     "text": [
      "          price  price_aprox_usd  price_aprox_local_currency currency\n",
      "50387  380000.0        117139.33                  2066864.90      PEN\n",
      "50388  950000.0        292848.33                  5167162.35      PEN\n",
      "17.644499930125942\n",
      "17.64449997034301\n",
      "              price  price_aprox_usd  price_aprox_local_currency currency\n",
      "107390  650000000.0      22980378.29                4.054773e+08      UYU\n",
      "17.644499999656013\n"
     ]
    }
   ],
   "source": [
    "print(datos_crudos.loc[datos_crudos.currency=='PEN'][['price','price_aprox_usd','price_aprox_local_currency','currency']])\n",
    "print(datos_crudos.loc[50387,'price_aprox_local_currency']/datos_crudos.loc[50387,'price_aprox_usd'])\n",
    "print(datos_crudos.loc[50388,'price_aprox_local_currency']/datos_crudos.loc[50388,'price_aprox_usd'])\n",
    "\n",
    "print(datos_crudos.loc[datos_crudos.currency=='UYU'][['price','price_aprox_usd','price_aprox_local_currency','currency']])\n",
    "print(datos_crudos.loc[107390,'price_aprox_local_currency']/datos_crudos.loc[107390,'price_aprox_usd'])"
   ]
  },
  {
   "cell_type": "markdown",
   "metadata": {},
   "source": [
    "Todas los precios tienen un tipo de cambio de 17,6445. Probablemente, se haya tomado el tipo de cambio\n",
    "el dia de la fecha en que se exportó el dataset y se aplicó sobre los precios en dólares."
   ]
  },
  {
   "cell_type": "code",
   "execution_count": 172,
   "metadata": {},
   "outputs": [
    {
     "data": {
      "text/plain": [
       "price                         20410\n",
       "price_aprox_local_currency    20410\n",
       "price_aprox_usd               20410\n",
       "dtype: int64"
      ]
     },
     "execution_count": 172,
     "metadata": {},
     "output_type": "execute_result"
    }
   ],
   "source": [
    "#Vemos la cantidad de nulos en los campos relativos al precio\n",
    "datos_crudos[['price','price_aprox_local_currency','price_aprox_usd']].isnull().sum()"
   ]
  },
  {
   "cell_type": "markdown",
   "metadata": {},
   "source": [
    "Nos quedamos con la columna price_aprox_usd."
   ]
  },
  {
   "cell_type": "code",
   "execution_count": 173,
   "metadata": {},
   "outputs": [],
   "source": [
    "#añadimos los campos a la lista eliminar\n",
    "campos_a_eliminar.extend(('price','price_aprox_local_currency','currency'))"
   ]
  },
  {
   "cell_type": "code",
   "execution_count": 174,
   "metadata": {},
   "outputs": [
    {
     "data": {
      "text/plain": [
       "['Unnamed: 0',\n",
       " 'operation',\n",
       " 'country_name',\n",
       " 'state_name',\n",
       " 'place_name',\n",
       " 'geonames_id',\n",
       " 'lat-lon',\n",
       " 'price',\n",
       " 'price_aprox_local_currency',\n",
       " 'currency']"
      ]
     },
     "execution_count": 174,
     "metadata": {},
     "output_type": "execute_result"
    }
   ],
   "source": [
    "campos_a_eliminar"
   ]
  },
  {
   "cell_type": "code",
   "execution_count": null,
   "metadata": {},
   "outputs": [],
   "source": [
    "#Damos de baja las columnas \n",
    "\n",
    "datos= datos_crudos.drop(campos_a_eliminar, axis=1)\n",
    "\n",
    "datos.head(3)"
   ]
  },
  {
   "cell_type": "code",
   "execution_count": null,
   "metadata": {},
   "outputs": [],
   "source": [
    "datos.head(3)"
   ]
  },
  {
   "cell_type": "markdown",
   "metadata": {},
   "source": [
    "### Visualizamos la calidad de cada columna según cantidad de valores nulos"
   ]
  },
  {
   "cell_type": "code",
   "execution_count": 177,
   "metadata": {},
   "outputs": [
    {
     "data": {
      "text/html": [
       "<div>\n",
       "<style scoped>\n",
       "    .dataframe tbody tr th:only-of-type {\n",
       "        vertical-align: middle;\n",
       "    }\n",
       "\n",
       "    .dataframe tbody tr th {\n",
       "        vertical-align: top;\n",
       "    }\n",
       "\n",
       "    .dataframe thead th {\n",
       "        text-align: right;\n",
       "    }\n",
       "</style>\n",
       "<table border=\"1\" class=\"dataframe\">\n",
       "  <thead>\n",
       "    <tr style=\"text-align: right;\">\n",
       "      <th></th>\n",
       "      <th>valores_no_nulos</th>\n",
       "      <th>valores_nulos</th>\n",
       "    </tr>\n",
       "  </thead>\n",
       "  <tbody>\n",
       "    <tr>\n",
       "      <th>property_type</th>\n",
       "      <td>1.000000</td>\n",
       "      <td>0.000000</td>\n",
       "    </tr>\n",
       "    <tr>\n",
       "      <th>place_with_parent_names</th>\n",
       "      <td>1.000000</td>\n",
       "      <td>0.000000</td>\n",
       "    </tr>\n",
       "    <tr>\n",
       "      <th>lat</th>\n",
       "      <td>0.574740</td>\n",
       "      <td>0.425260</td>\n",
       "    </tr>\n",
       "    <tr>\n",
       "      <th>lon</th>\n",
       "      <td>0.574740</td>\n",
       "      <td>0.425260</td>\n",
       "    </tr>\n",
       "    <tr>\n",
       "      <th>price_aprox_usd</th>\n",
       "      <td>0.831628</td>\n",
       "      <td>0.168372</td>\n",
       "    </tr>\n",
       "    <tr>\n",
       "      <th>surface_total_in_m2</th>\n",
       "      <td>0.675565</td>\n",
       "      <td>0.324435</td>\n",
       "    </tr>\n",
       "    <tr>\n",
       "      <th>surface_covered_in_m2</th>\n",
       "      <td>0.835778</td>\n",
       "      <td>0.164222</td>\n",
       "    </tr>\n",
       "    <tr>\n",
       "      <th>price_usd_per_m2</th>\n",
       "      <td>0.566053</td>\n",
       "      <td>0.433947</td>\n",
       "    </tr>\n",
       "    <tr>\n",
       "      <th>price_per_m2</th>\n",
       "      <td>0.723131</td>\n",
       "      <td>0.276869</td>\n",
       "    </tr>\n",
       "    <tr>\n",
       "      <th>floor</th>\n",
       "      <td>0.065163</td>\n",
       "      <td>0.934837</td>\n",
       "    </tr>\n",
       "    <tr>\n",
       "      <th>rooms</th>\n",
       "      <td>0.390942</td>\n",
       "      <td>0.609058</td>\n",
       "    </tr>\n",
       "    <tr>\n",
       "      <th>expenses</th>\n",
       "      <td>0.117654</td>\n",
       "      <td>0.882346</td>\n",
       "    </tr>\n",
       "    <tr>\n",
       "      <th>properati_url</th>\n",
       "      <td>1.000000</td>\n",
       "      <td>0.000000</td>\n",
       "    </tr>\n",
       "    <tr>\n",
       "      <th>description</th>\n",
       "      <td>0.999984</td>\n",
       "      <td>0.000016</td>\n",
       "    </tr>\n",
       "    <tr>\n",
       "      <th>title</th>\n",
       "      <td>1.000000</td>\n",
       "      <td>0.000000</td>\n",
       "    </tr>\n",
       "    <tr>\n",
       "      <th>image_thumbnail</th>\n",
       "      <td>0.974328</td>\n",
       "      <td>0.025672</td>\n",
       "    </tr>\n",
       "  </tbody>\n",
       "</table>\n",
       "</div>"
      ],
      "text/plain": [
       "                         valores_no_nulos  valores_nulos\n",
       "property_type                    1.000000       0.000000\n",
       "place_with_parent_names          1.000000       0.000000\n",
       "lat                              0.574740       0.425260\n",
       "lon                              0.574740       0.425260\n",
       "price_aprox_usd                  0.831628       0.168372\n",
       "surface_total_in_m2              0.675565       0.324435\n",
       "surface_covered_in_m2            0.835778       0.164222\n",
       "price_usd_per_m2                 0.566053       0.433947\n",
       "price_per_m2                     0.723131       0.276869\n",
       "floor                            0.065163       0.934837\n",
       "rooms                            0.390942       0.609058\n",
       "expenses                         0.117654       0.882346\n",
       "properati_url                    1.000000       0.000000\n",
       "description                      0.999984       0.000016\n",
       "title                            1.000000       0.000000\n",
       "image_thumbnail                  0.974328       0.025672"
      ]
     },
     "execution_count": 177,
     "metadata": {},
     "output_type": "execute_result"
    }
   ],
   "source": [
    "#Creamos dos series donde guardamos los porcentajes de valores nulos y no nulos de cada campo\n",
    "valores_nulos=datos.isnull().sum()/datos.shape[0]\n",
    "\n",
    "valores_no_nulos=datos.notnull().sum()/datos.shape[0]\n",
    "\n",
    "#Usando ambas series, instanciamos un dataframe\n",
    "df_calidad_columnas=pd.DataFrame(dict(valores_no_nulos=valores_no_nulos,valores_nulos=valores_nulos))\n",
    "\n",
    "df_calidad_columnas"
   ]
  },
  {
   "cell_type": "markdown",
   "metadata": {},
   "source": [
    "### Utilizamos un gráfico de barras para visualizar la calidad de las columnas"
   ]
  },
  {
   "cell_type": "code",
   "execution_count": null,
   "metadata": {},
   "outputs": [],
   "source": [
    "ind=datos.columns\n",
    "ind_label=np.arange(0,datos.shape[1]-1)\n",
    "\n",
    "valores_nulos=datos.isnull().sum()/datos.shape[0]\n",
    "\n",
    "valores_no_nulos=datos.notnull().sum()/datos.shape[0]\n",
    "\n",
    "width = 0.25\n",
    "\n",
    "fig = plt.figure(figsize=(16,6)); ax = plt.axes()\n",
    "#fig2= plt.figure(figsize=(16,6)); ax2 = plt.axes()\n",
    "\n",
    "ax.bar(ind, valores_nulos, width, color='r') # barra roja. \n",
    "ax.bar(ind, valores_no_nulos, width, color='b',bottom=valores_nulos)\n",
    "#ax2.bar(ind, valores_no_nulos, width, color='b')#, bottom=valores_no_nulos) # barra azul \n",
    "\n",
    "ax.set_ylabel('Porcentaje'); ax.set_title('Valores Nulos y No-Nulos por Columna')\n",
    "#ax.set_xticks(ind); \n",
    "ax.set_xticklabels(ind)\n",
    "ax.tick_params(axis='both', which='minor', labelsize='small')\n",
    "\n",
    "ax.set_xticklabels(ind, rotation = 90, ha=\"right\")\n",
    "#ax2.set_xticklabels(ind,labelsize=8)\n",
    "#ax.legend(labels=['Men', 'Women'])\n",
    "\n",
    "#plt.gca().invert_xaxis()\n",
    "plt.show()\n"
   ]
  },
  {
   "cell_type": "code",
   "execution_count": null,
   "metadata": {},
   "outputs": [],
   "source": [
    "ind=datos.columns\n",
    "ind_label=np.arange(0,datos.shape[0]-1)\n",
    "\n",
    "width = 0.35\n",
    "\n",
    "fig = plt.figure(figsize=(16,6),edgecolor='gray'); ax = plt.axes()\n",
    "#fig2= plt.figure(figsize=(16,6)); ax2 = plt.axes()\n",
    "\n",
    "ax.barh(ind, valores_nulos, width, color='r') # barra roja. \n",
    "ax.barh(ind, valores_no_nulos, width, color='g',left=valores_nulos)#,right=valores_nulos)\n",
    "#ax2.bar(ind, valores_no_nulos, width, color='b')#, bottom=valores_no_nulos) # barra azul \n",
    "\n",
    "ax.set_ylabel('Porcentaje'); ax.set_title('Relación Nulos y No-Nulos por Columna')\n",
    "#ax.set_xticks(ind); \n",
    "\n",
    "#aca estaba como antes (ind)\n",
    "#ax.set_xticklabels(ind_label)\n",
    "\n",
    "#display(ind_label)\n",
    "\n",
    "ax.tick_params(axis='both', which='minor', labelsize='small')\n",
    "\n",
    "#ax.set_xticklabels(ind, rotation = 90, ha=\"right\")\n",
    "#ax2.set_xticklabels(ind,labelsize=8)\n",
    "#ax.legend(labels=['Men', 'Women'])\n",
    "\n",
    "ax.set_xticklabels(['0','20', '40', '60', '80', '100'])\n",
    "\n",
    "#plt.gca().invert_xaxis()\n",
    "plt.show()\n",
    "\n",
    "#display(valores_nulos)\n",
    "\n",
    "#display(valores_no_nulos)\n",
    "\n",
    "#suma_ambos=valores_nulos+valores_no_nulos\n",
    "\n",
    "#suma_ambos.value_counts()\n"
   ]
  },
  {
   "cell_type": "code",
   "execution_count": 180,
   "metadata": {},
   "outputs": [],
   "source": [
    "#estaria para dropear pric, curency y el precio en moneda local\n",
    "\n",
    "#usar datos de comentarios para validar, que la información sea consistente \n",
    "\n",
    "#validar "
   ]
  },
  {
   "cell_type": "markdown",
   "metadata": {},
   "source": [
    "## Procesamiento de columna places para crear nuevas columnas de ubicación geográfica "
   ]
  },
  {
   "cell_type": "code",
   "execution_count": 181,
   "metadata": {},
   "outputs": [
    {
     "data": {
      "text/html": [
       "<div>\n",
       "<style scoped>\n",
       "    .dataframe tbody tr th:only-of-type {\n",
       "        vertical-align: middle;\n",
       "    }\n",
       "\n",
       "    .dataframe tbody tr th {\n",
       "        vertical-align: top;\n",
       "    }\n",
       "\n",
       "    .dataframe thead th {\n",
       "        text-align: right;\n",
       "    }\n",
       "</style>\n",
       "<table border=\"1\" class=\"dataframe\">\n",
       "  <thead>\n",
       "    <tr style=\"text-align: right;\">\n",
       "      <th></th>\n",
       "      <th>0</th>\n",
       "      <th>1</th>\n",
       "      <th>2</th>\n",
       "      <th>3</th>\n",
       "      <th>4</th>\n",
       "      <th>5</th>\n",
       "      <th>6</th>\n",
       "    </tr>\n",
       "  </thead>\n",
       "  <tbody>\n",
       "    <tr>\n",
       "      <th>0</th>\n",
       "      <td></td>\n",
       "      <td>Argentina</td>\n",
       "      <td>Capital Federal</td>\n",
       "      <td>Mataderos</td>\n",
       "      <td></td>\n",
       "      <td>None</td>\n",
       "      <td>None</td>\n",
       "    </tr>\n",
       "    <tr>\n",
       "      <th>1</th>\n",
       "      <td></td>\n",
       "      <td>Argentina</td>\n",
       "      <td>Bs.As. G.B.A. Zona Sur</td>\n",
       "      <td>La Plata</td>\n",
       "      <td></td>\n",
       "      <td>None</td>\n",
       "      <td>None</td>\n",
       "    </tr>\n",
       "    <tr>\n",
       "      <th>2</th>\n",
       "      <td></td>\n",
       "      <td>Argentina</td>\n",
       "      <td>Capital Federal</td>\n",
       "      <td>Mataderos</td>\n",
       "      <td></td>\n",
       "      <td>None</td>\n",
       "      <td>None</td>\n",
       "    </tr>\n",
       "    <tr>\n",
       "      <th>3</th>\n",
       "      <td></td>\n",
       "      <td>Argentina</td>\n",
       "      <td>Capital Federal</td>\n",
       "      <td>Liniers</td>\n",
       "      <td></td>\n",
       "      <td>None</td>\n",
       "      <td>None</td>\n",
       "    </tr>\n",
       "    <tr>\n",
       "      <th>4</th>\n",
       "      <td></td>\n",
       "      <td>Argentina</td>\n",
       "      <td>Buenos Aires Costa Atlántica</td>\n",
       "      <td>Mar del Plata</td>\n",
       "      <td>Centro</td>\n",
       "      <td></td>\n",
       "      <td>None</td>\n",
       "    </tr>\n",
       "    <tr>\n",
       "      <th>...</th>\n",
       "      <td>...</td>\n",
       "      <td>...</td>\n",
       "      <td>...</td>\n",
       "      <td>...</td>\n",
       "      <td>...</td>\n",
       "      <td>...</td>\n",
       "      <td>...</td>\n",
       "    </tr>\n",
       "    <tr>\n",
       "      <th>121215</th>\n",
       "      <td></td>\n",
       "      <td>Argentina</td>\n",
       "      <td>Capital Federal</td>\n",
       "      <td>Belgrano</td>\n",
       "      <td></td>\n",
       "      <td>None</td>\n",
       "      <td>None</td>\n",
       "    </tr>\n",
       "    <tr>\n",
       "      <th>121216</th>\n",
       "      <td></td>\n",
       "      <td>Argentina</td>\n",
       "      <td>Bs.As. G.B.A. Zona Norte</td>\n",
       "      <td>San Isidro</td>\n",
       "      <td>Beccar</td>\n",
       "      <td></td>\n",
       "      <td>None</td>\n",
       "    </tr>\n",
       "    <tr>\n",
       "      <th>121217</th>\n",
       "      <td></td>\n",
       "      <td>Argentina</td>\n",
       "      <td>Capital Federal</td>\n",
       "      <td>Villa Urquiza</td>\n",
       "      <td></td>\n",
       "      <td>None</td>\n",
       "      <td>None</td>\n",
       "    </tr>\n",
       "    <tr>\n",
       "      <th>121218</th>\n",
       "      <td></td>\n",
       "      <td>Argentina</td>\n",
       "      <td>Buenos Aires Costa Atlántica</td>\n",
       "      <td>Mar del Plata</td>\n",
       "      <td>Plaza Colón</td>\n",
       "      <td></td>\n",
       "      <td>None</td>\n",
       "    </tr>\n",
       "    <tr>\n",
       "      <th>121219</th>\n",
       "      <td></td>\n",
       "      <td>Argentina</td>\n",
       "      <td>Capital Federal</td>\n",
       "      <td></td>\n",
       "      <td>None</td>\n",
       "      <td>None</td>\n",
       "      <td>None</td>\n",
       "    </tr>\n",
       "  </tbody>\n",
       "</table>\n",
       "<p>121220 rows × 7 columns</p>\n",
       "</div>"
      ],
      "text/plain": [
       "       0           1                             2              3  \\\n",
       "0          Argentina               Capital Federal      Mataderos   \n",
       "1          Argentina        Bs.As. G.B.A. Zona Sur       La Plata   \n",
       "2          Argentina               Capital Federal      Mataderos   \n",
       "3          Argentina               Capital Federal        Liniers   \n",
       "4          Argentina  Buenos Aires Costa Atlántica  Mar del Plata   \n",
       "...    ..        ...                           ...            ...   \n",
       "121215     Argentina               Capital Federal       Belgrano   \n",
       "121216     Argentina      Bs.As. G.B.A. Zona Norte     San Isidro   \n",
       "121217     Argentina               Capital Federal  Villa Urquiza   \n",
       "121218     Argentina  Buenos Aires Costa Atlántica  Mar del Plata   \n",
       "121219     Argentina               Capital Federal                  \n",
       "\n",
       "                  4     5     6  \n",
       "0                    None  None  \n",
       "1                    None  None  \n",
       "2                    None  None  \n",
       "3                    None  None  \n",
       "4            Centro        None  \n",
       "...             ...   ...   ...  \n",
       "121215               None  None  \n",
       "121216       Beccar        None  \n",
       "121217               None  None  \n",
       "121218  Plaza Colón        None  \n",
       "121219         None  None  None  \n",
       "\n",
       "[121220 rows x 7 columns]"
      ]
     },
     "execution_count": 181,
     "metadata": {},
     "output_type": "execute_result"
    }
   ],
   "source": [
    "#Creo un datafram nuevo separando los campso de la columna places_with_parents\n",
    "ubicacion = datos_crudos[\"place_with_parent_names\"].str.split('|', expand=True) # Separo en varias columnas\n",
    "#Visualizamos el dataframe creado:\n",
    "ubicacion"
   ]
  },
  {
   "cell_type": "code",
   "execution_count": 182,
   "metadata": {},
   "outputs": [
    {
     "name": "stdout",
     "output_type": "stream",
     "text": [
      "Porcentaje vacios en columna 0  : 0.0\n",
      "Porcentaje vacios en columna 1  : 0.0\n",
      "Porcentaje vacios en columna 2  : 0.0\n",
      "Porcentaje vacios en columna 3  : 0.0\n",
      "Porcentaje vacios en columna 4  : 0.03943243689160204\n",
      "Porcentaje vacios en columna 5  : 0.6663916845405049\n",
      "Porcentaje vacios en columna 6  : 0.9954792938459001\n"
     ]
    }
   ],
   "source": [
    "#Vemos cantidad de valores vacios/nulos en cada columna\n",
    "for i in range(ubicacion.shape[1]):\n",
    "    print('Porcentaje vacios en columna', i ,' :' ,ubicacion.iloc[:,i].isna().sum()/ubicacion.shape[0])\n"
   ]
  },
  {
   "cell_type": "markdown",
   "metadata": {},
   "source": [
    "Eliminamos la columna 0 por ser un índice redundante, la columna 1 por tener el dato de País que ya decidimos descartar y la columna 6 por su alta tasa de registros vacios."
   ]
  },
  {
   "cell_type": "code",
   "execution_count": 183,
   "metadata": {},
   "outputs": [
    {
     "data": {
      "text/html": [
       "<div>\n",
       "<style scoped>\n",
       "    .dataframe tbody tr th:only-of-type {\n",
       "        vertical-align: middle;\n",
       "    }\n",
       "\n",
       "    .dataframe tbody tr th {\n",
       "        vertical-align: top;\n",
       "    }\n",
       "\n",
       "    .dataframe thead th {\n",
       "        text-align: right;\n",
       "    }\n",
       "</style>\n",
       "<table border=\"1\" class=\"dataframe\">\n",
       "  <thead>\n",
       "    <tr style=\"text-align: right;\">\n",
       "      <th></th>\n",
       "      <th>provincia</th>\n",
       "      <th>ciudad</th>\n",
       "      <th>barrio1</th>\n",
       "      <th>barrio2</th>\n",
       "    </tr>\n",
       "  </thead>\n",
       "  <tbody>\n",
       "    <tr>\n",
       "      <th>0</th>\n",
       "      <td>Capital Federal</td>\n",
       "      <td>Mataderos</td>\n",
       "      <td></td>\n",
       "      <td>None</td>\n",
       "    </tr>\n",
       "    <tr>\n",
       "      <th>1</th>\n",
       "      <td>Bs.As. G.B.A. Zona Sur</td>\n",
       "      <td>La Plata</td>\n",
       "      <td></td>\n",
       "      <td>None</td>\n",
       "    </tr>\n",
       "    <tr>\n",
       "      <th>2</th>\n",
       "      <td>Capital Federal</td>\n",
       "      <td>Mataderos</td>\n",
       "      <td></td>\n",
       "      <td>None</td>\n",
       "    </tr>\n",
       "    <tr>\n",
       "      <th>3</th>\n",
       "      <td>Capital Federal</td>\n",
       "      <td>Liniers</td>\n",
       "      <td></td>\n",
       "      <td>None</td>\n",
       "    </tr>\n",
       "    <tr>\n",
       "      <th>4</th>\n",
       "      <td>Buenos Aires Costa Atlántica</td>\n",
       "      <td>Mar del Plata</td>\n",
       "      <td>Centro</td>\n",
       "      <td></td>\n",
       "    </tr>\n",
       "    <tr>\n",
       "      <th>...</th>\n",
       "      <td>...</td>\n",
       "      <td>...</td>\n",
       "      <td>...</td>\n",
       "      <td>...</td>\n",
       "    </tr>\n",
       "    <tr>\n",
       "      <th>121215</th>\n",
       "      <td>Capital Federal</td>\n",
       "      <td>Belgrano</td>\n",
       "      <td></td>\n",
       "      <td>None</td>\n",
       "    </tr>\n",
       "    <tr>\n",
       "      <th>121216</th>\n",
       "      <td>Bs.As. G.B.A. Zona Norte</td>\n",
       "      <td>San Isidro</td>\n",
       "      <td>Beccar</td>\n",
       "      <td></td>\n",
       "    </tr>\n",
       "    <tr>\n",
       "      <th>121217</th>\n",
       "      <td>Capital Federal</td>\n",
       "      <td>Villa Urquiza</td>\n",
       "      <td></td>\n",
       "      <td>None</td>\n",
       "    </tr>\n",
       "    <tr>\n",
       "      <th>121218</th>\n",
       "      <td>Buenos Aires Costa Atlántica</td>\n",
       "      <td>Mar del Plata</td>\n",
       "      <td>Plaza Colón</td>\n",
       "      <td></td>\n",
       "    </tr>\n",
       "    <tr>\n",
       "      <th>121219</th>\n",
       "      <td>Capital Federal</td>\n",
       "      <td></td>\n",
       "      <td>None</td>\n",
       "      <td>None</td>\n",
       "    </tr>\n",
       "  </tbody>\n",
       "</table>\n",
       "<p>121220 rows × 4 columns</p>\n",
       "</div>"
      ],
      "text/plain": [
       "                           provincia         ciudad      barrio1 barrio2\n",
       "0                    Capital Federal      Mataderos                 None\n",
       "1             Bs.As. G.B.A. Zona Sur       La Plata                 None\n",
       "2                    Capital Federal      Mataderos                 None\n",
       "3                    Capital Federal        Liniers                 None\n",
       "4       Buenos Aires Costa Atlántica  Mar del Plata       Centro        \n",
       "...                              ...            ...          ...     ...\n",
       "121215               Capital Federal       Belgrano                 None\n",
       "121216      Bs.As. G.B.A. Zona Norte     San Isidro       Beccar        \n",
       "121217               Capital Federal  Villa Urquiza                 None\n",
       "121218  Buenos Aires Costa Atlántica  Mar del Plata  Plaza Colón        \n",
       "121219               Capital Federal                        None    None\n",
       "\n",
       "[121220 rows x 4 columns]"
      ]
     },
     "execution_count": 183,
     "metadata": {},
     "output_type": "execute_result"
    }
   ],
   "source": [
    "#Creamos un df con las columnas de interes y el nombre de las columnas\n",
    "ubicacion_limpia=ubicacion.drop([0,1,6],axis=1,inplace=False)\n",
    "ubicacion_limpia.columns=['provincia','ciudad','barrio1','barrio2']\n",
    "ubicacion_limpia"
   ]
  },
  {
   "cell_type": "code",
   "execution_count": 184,
   "metadata": {},
   "outputs": [
    {
     "data": {
      "text/plain": [
       "0             Mataderos\n",
       "1                      \n",
       "2             Mataderos\n",
       "3               Liniers\n",
       "4                Centro\n",
       "              ...      \n",
       "121215         Belgrano\n",
       "121216           Beccar\n",
       "121217    Villa Urquiza\n",
       "121218      Plaza Colón\n",
       "121219                 \n",
       "Length: 121220, dtype: object"
      ]
     },
     "execution_count": 184,
     "metadata": {},
     "output_type": "execute_result"
    }
   ],
   "source": [
    "#aca pongo capturo los barrios de capital federal que estan en la columna ciudad\n",
    "#esto se debe a que Capital Federal se guarda en la columna provinci\n",
    "\n",
    "barrio_limpio=ubicacion_limpia.apply(lambda x: x['ciudad'] if x['provincia'] =='Capital Federal' else x['barrio1'],axis=1)\n",
    "\n",
    "#precio_m2_imputado=datos.apply(lambda x: x['price']/x['surface_total_in_m2']  if x['price_usd_per_m2'] is np.NAN else x['price_usd_per_m2'], axis=1)\n",
    "barrio_limpio"
   ]
  },
  {
   "cell_type": "code",
   "execution_count": 185,
   "metadata": {},
   "outputs": [],
   "source": [
    "ubicacion_limpia['barrio1']=barrio_limpio"
   ]
  },
  {
   "cell_type": "code",
   "execution_count": 186,
   "metadata": {},
   "outputs": [],
   "source": [
    "ciudad_limpia=ubicacion_limpia.apply(lambda x: x['provincia'] if x['provincia'] =='Capital Federal' else x['ciudad'],axis=1)"
   ]
  },
  {
   "cell_type": "code",
   "execution_count": 187,
   "metadata": {},
   "outputs": [],
   "source": [
    "ubicacion_limpia['ciudad']=ciudad_limpia"
   ]
  },
  {
   "cell_type": "code",
   "execution_count": 188,
   "metadata": {},
   "outputs": [
    {
     "data": {
      "text/plain": [
       "                             39892\n",
       "Barrio Los Alisos              278\n",
       "Barrio La Alameda               62\n",
       "BarrioPortezuelo                54\n",
       "Barrio Los Lagos                39\n",
       "Barrio El Golf                  32\n",
       "Enyoi                           17\n",
       "Barrio Los Castores             14\n",
       "QBay Yacht                      13\n",
       "Barrio La Isla                  10\n",
       "Barrio Las Glorietas            10\n",
       "Islas del Canal                  6\n",
       "Barrio Barrancas del Lago        4\n",
       "Barrio Los Sauces                4\n",
       "Barrio Cabos del Lago            3\n",
       "Barrio El Yacht                  1\n",
       "Barrio Los Tilos                 1\n",
       "Name: barrio2, dtype: int64"
      ]
     },
     "execution_count": 188,
     "metadata": {},
     "output_type": "execute_result"
    }
   ],
   "source": [
    "ubicacion_limpia.barrio2.value_counts()"
   ]
  },
  {
   "cell_type": "code",
   "execution_count": 189,
   "metadata": {},
   "outputs": [],
   "source": [
    "#aca pruebo sumar las nuevas columnas a nuestro datos\n",
    "datos[['provincia','ciudad','barrio1','barrio2']]=ubicacion_limpia"
   ]
  },
  {
   "cell_type": "code",
   "execution_count": null,
   "metadata": {},
   "outputs": [],
   "source": [
    "datos.sample(30)"
   ]
  },
  {
   "cell_type": "markdown",
   "metadata": {},
   "source": [
    "# Roberto: empezamos con el procesamiento de la columna descripción para encontrar data relevante:"
   ]
  },
  {
   "cell_type": "code",
   "execution_count": 191,
   "metadata": {},
   "outputs": [],
   "source": [
    "# recorre el campo description y llama la funcion CuentaPalabras en cada registro y va sumando palabra y cantidad de cada registro\n",
    "# Genera un DataFrame CantPalabras con las dos listas\n",
    "listPalabras = []\n",
    "listCantidad = []\n",
    "\n"
   ]
  },
  {
   "cell_type": "markdown",
   "metadata": {},
   "source": [
    "### ANALIZAR SI CONVIENE REDEFINIR LA FUNCIÓN CUENTAPALABRAS:\n",
    "\n",
    "AHORA MISMO MODIFICA LAS LISTAS DEFINIDAS POR FUERA DE LA FUNCIÓN, SERÍA MEJOR\n",
    "UTILIZAR UN RETURN"
   ]
  },
  {
   "cell_type": "code",
   "execution_count": 192,
   "metadata": {},
   "outputs": [],
   "source": [
    "SerieAmbiente = datos['description']\n",
    "patron_amb = '\\d\\s+[Aa]mbiente'\n",
    "patron_regex_amb = re.compile(patron_amb)\n",
    "Ambiente = SerieAmbiente.apply(lambda x: np.NaN if len(patron_regex_amb.findall(str(x)))==0\n",
    "                               else (patron_regex_amb.findall(str(x))[0])[0])\n",
    "datos['ambientes'] = Ambiente"
   ]
  },
  {
   "cell_type": "code",
   "execution_count": 193,
   "metadata": {},
   "outputs": [
    {
     "data": {
      "text/plain": [
       "98892"
      ]
     },
     "execution_count": 193,
     "metadata": {},
     "output_type": "execute_result"
    }
   ],
   "source": [
    "datos['ambientes'].isnull().sum()"
   ]
  },
  {
   "cell_type": "code",
   "execution_count": 194,
   "metadata": {},
   "outputs": [],
   "source": [
    "mask_amb=datos['ambientes'].notnull() & datos['rooms'].isnull() "
   ]
  },
  {
   "cell_type": "code",
   "execution_count": 195,
   "metadata": {},
   "outputs": [
    {
     "data": {
      "text/plain": [
       "11559"
      ]
     },
     "execution_count": 195,
     "metadata": {},
     "output_type": "execute_result"
    }
   ],
   "source": [
    "#se pueden imputar 11 mil datos de la columna ambietnes a rooms\n",
    "mask_amb.sum()\n"
   ]
  },
  {
   "cell_type": "code",
   "execution_count": 196,
   "metadata": {},
   "outputs": [
    {
     "data": {
      "text/plain": [
       "73830"
      ]
     },
     "execution_count": 196,
     "metadata": {},
     "output_type": "execute_result"
    }
   ],
   "source": [
    "datos['rooms'].isnull().sum()"
   ]
  },
  {
   "cell_type": "markdown",
   "metadata": {},
   "source": [
    "Analisis de Cochera "
   ]
  },
  {
   "cell_type": "code",
   "execution_count": 197,
   "metadata": {},
   "outputs": [],
   "source": [
    "SerieCoch = datos['description']\n",
    "patron_coch = '([Cc]ochera|[Gg]arage)'\n",
    "patron_regex_coch = re.compile(patron_coch)\n",
    "Cochera = SerieCoch.apply(lambda x: False if len(patron_regex_coch.findall(str(x)))==0 else True)\n",
    "datos['cochera'] = Cochera"
   ]
  },
  {
   "cell_type": "markdown",
   "metadata": {},
   "source": [
    "Añado Parrilla"
   ]
  },
  {
   "cell_type": "code",
   "execution_count": 198,
   "metadata": {},
   "outputs": [],
   "source": [
    "SerieParrilla = datos['description']\n",
    "patron_parrilla = '[Pp]arrilla'\n",
    "patron_regex_parrilla = re.compile(patron_parrilla)\n",
    "Parrilla = SerieParrilla.apply(lambda x: False if len(patron_regex_parrilla.findall(str(x)))==0 else True)\n",
    "datos['parrilla'] = Parrilla"
   ]
  },
  {
   "cell_type": "code",
   "execution_count": 199,
   "metadata": {},
   "outputs": [],
   "source": [
    "SeriePatio = datos['description']\n",
    "patron_patio = '[Pp]atio'\n",
    "patron_regex_patio = re.compile(patron_patio)\n",
    "Patio = SeriePatio.apply(lambda x: False if len(patron_regex_patio.findall(str(x)))==0 else True)\n",
    "datos['patio'] = Patio"
   ]
  },
  {
   "cell_type": "code",
   "execution_count": 200,
   "metadata": {},
   "outputs": [],
   "source": [
    "SeriePileta = datos['description']\n",
    "patron_pileta = '([Pp]ileta|[Pp]iscina)'\n",
    "patron_regex_pileta = re.compile(patron_pileta)\n",
    "Pileta = SeriePileta.apply(lambda x: False if len(patron_regex_pileta.findall(str(x)))==0 else True)\n",
    "datos['pileta'] = Pileta"
   ]
  },
  {
   "cell_type": "code",
   "execution_count": 201,
   "metadata": {},
   "outputs": [],
   "source": [
    "SerieVista = datos['description']\n",
    "patron_vista = '([Aa]l\\s[Ff]rente|[\\s.,!/][Vv]istas*[\\s.,!/)])'\n",
    "patron_regex_vista = re.compile(patron_vista)\n",
    "Vista = SerieVista.apply(lambda x: False if len(patron_regex_vista.findall(str(x)))==0 else True)\n",
    "datos['vista'] = Vista"
   ]
  },
  {
   "cell_type": "code",
   "execution_count": 202,
   "metadata": {},
   "outputs": [],
   "source": [
    "# cuando price_usd_m2 es nulo, o bien price_aprox_usd es nulo o surface_total_in_m2 es nulo\n",
    "# por lo tanto no podemos conformarlo a partir de esos dos valores\n",
    "datos_usdm2_null = datos[datos['price_usd_per_m2'].isnull()]"
   ]
  },
  {
   "cell_type": "code",
   "execution_count": 203,
   "metadata": {},
   "outputs": [],
   "source": [
    "# Cuando price_usd_per_m2 es nulo hay muchos registros completos en price_per_m2\n",
    "# Tomamos sólo los que se encuentran entre 5000 y 6000 que hacen pensar que se cargaron en el campo equivocado\n",
    "# Son 17.817 valores que llevarían los 52.603 nulos de price_usd_per_m2 a 34.786\n",
    "\n",
    "mask1 = datos_usdm2_null['price_per_m2'] < 6000\n",
    "mask2 = datos_usdm2_null['price_per_m2'] > 500\n",
    "Serie_price_per_m2 = datos_usdm2_null[mask1 & mask2]['price_per_m2']\n",
    "datos['usd_per_m2_2'] = Serie_price_per_m2"
   ]
  },
  {
   "cell_type": "markdown",
   "metadata": {},
   "source": [
    "### Desde acá analizamos el nuevo campo usd_per_m2_2 que complementa a price_usd_per_m2"
   ]
  },
  {
   "cell_type": "code",
   "execution_count": 204,
   "metadata": {},
   "outputs": [
    {
     "name": "stdout",
     "output_type": "stream",
     "text": [
      "el campo price_usd_per_m2 cuenta con 68617 datos no nulos\n",
      "el campo usd_per_m2_2  aporta 19966 valores no nulos al campo price_usd_per_m2\n"
     ]
    }
   ],
   "source": [
    "mask20 = datos['price_usd_per_m2'].isnull() & datos['usd_per_m2_2'].notnull()\n",
    "\n",
    "print(f'el campo price_usd_per_m2 cuenta con {datos.price_usd_per_m2.count()} datos no nulos')\n",
    "print(f'el campo usd_per_m2_2  aporta {datos[mask20].usd_per_m2_2.count()} valores no nulos al campo price_usd_per_m2')\n"
   ]
  },
  {
   "cell_type": "code",
   "execution_count": 205,
   "metadata": {},
   "outputs": [
    {
     "data": {
      "text/html": [
       "<div>\n",
       "<style scoped>\n",
       "    .dataframe tbody tr th:only-of-type {\n",
       "        vertical-align: middle;\n",
       "    }\n",
       "\n",
       "    .dataframe tbody tr th {\n",
       "        vertical-align: top;\n",
       "    }\n",
       "\n",
       "    .dataframe thead tr th {\n",
       "        text-align: left;\n",
       "    }\n",
       "\n",
       "    .dataframe thead tr:last-of-type th {\n",
       "        text-align: right;\n",
       "    }\n",
       "</style>\n",
       "<table border=\"1\" class=\"dataframe\">\n",
       "  <thead>\n",
       "    <tr>\n",
       "      <th></th>\n",
       "      <th></th>\n",
       "      <th></th>\n",
       "      <th colspan=\"3\" halign=\"left\">price_usd_per_m2</th>\n",
       "      <th colspan=\"3\" halign=\"left\">usd_per_m2_2</th>\n",
       "    </tr>\n",
       "    <tr>\n",
       "      <th></th>\n",
       "      <th></th>\n",
       "      <th></th>\n",
       "      <th>mean</th>\n",
       "      <th>std</th>\n",
       "      <th>count</th>\n",
       "      <th>mean</th>\n",
       "      <th>std</th>\n",
       "      <th>count</th>\n",
       "    </tr>\n",
       "    <tr>\n",
       "      <th>provincia</th>\n",
       "      <th>ciudad</th>\n",
       "      <th>property_type</th>\n",
       "      <th></th>\n",
       "      <th></th>\n",
       "      <th></th>\n",
       "      <th></th>\n",
       "      <th></th>\n",
       "      <th></th>\n",
       "    </tr>\n",
       "  </thead>\n",
       "  <tbody>\n",
       "    <tr>\n",
       "      <th>Buenos Aires Costa Atlántica</th>\n",
       "      <th>Mar del Plata</th>\n",
       "      <th>apartment</th>\n",
       "      <td>1986.896177</td>\n",
       "      <td>539.483595</td>\n",
       "      <td>3466</td>\n",
       "      <td>1939.210364</td>\n",
       "      <td>535.268024</td>\n",
       "      <td>917</td>\n",
       "    </tr>\n",
       "    <tr>\n",
       "      <th>Bs.As. G.B.A. Zona Norte</th>\n",
       "      <th>Tigre</th>\n",
       "      <th>house</th>\n",
       "      <td>1639.454885</td>\n",
       "      <td>694.365804</td>\n",
       "      <td>2936</td>\n",
       "      <td>1951.398657</td>\n",
       "      <td>651.248168</td>\n",
       "      <td>858</td>\n",
       "    </tr>\n",
       "    <tr>\n",
       "      <th>Bs.As. G.B.A. Zona Sur</th>\n",
       "      <th>Lomas de Zamora</th>\n",
       "      <th>house</th>\n",
       "      <td>1353.224498</td>\n",
       "      <td>474.131192</td>\n",
       "      <td>433</td>\n",
       "      <td>1384.156061</td>\n",
       "      <td>533.035214</td>\n",
       "      <td>801</td>\n",
       "    </tr>\n",
       "    <tr>\n",
       "      <th>Bs.As. G.B.A. Zona Norte</th>\n",
       "      <th>Tigre</th>\n",
       "      <th>apartment</th>\n",
       "      <td>2376.631307</td>\n",
       "      <td>643.255606</td>\n",
       "      <td>2914</td>\n",
       "      <td>2499.103360</td>\n",
       "      <td>712.255133</td>\n",
       "      <td>663</td>\n",
       "    </tr>\n",
       "    <tr>\n",
       "      <th>Córdoba</th>\n",
       "      <th>Córdoba</th>\n",
       "      <th>house</th>\n",
       "      <td>889.641567</td>\n",
       "      <td>339.074551</td>\n",
       "      <td>210</td>\n",
       "      <td>1255.528798</td>\n",
       "      <td>926.594816</td>\n",
       "      <td>593</td>\n",
       "    </tr>\n",
       "    <tr>\n",
       "      <th>Bs.As. G.B.A. Zona Norte</th>\n",
       "      <th>Vicente López</th>\n",
       "      <th>apartment</th>\n",
       "      <td>3063.957543</td>\n",
       "      <td>849.464267</td>\n",
       "      <td>1363</td>\n",
       "      <td>3070.254809</td>\n",
       "      <td>827.409718</td>\n",
       "      <td>566</td>\n",
       "    </tr>\n",
       "    <tr>\n",
       "      <th>Bs.As. G.B.A. Zona Sur</th>\n",
       "      <th>La Plata</th>\n",
       "      <th>house</th>\n",
       "      <td>1339.969649</td>\n",
       "      <td>580.974937</td>\n",
       "      <td>265</td>\n",
       "      <td>1492.484930</td>\n",
       "      <td>557.511626</td>\n",
       "      <td>515</td>\n",
       "    </tr>\n",
       "    <tr>\n",
       "      <th>Bs.As. G.B.A. Zona Oeste</th>\n",
       "      <th>La Matanza</th>\n",
       "      <th>apartment</th>\n",
       "      <td>1751.969835</td>\n",
       "      <td>506.831824</td>\n",
       "      <td>389</td>\n",
       "      <td>1971.952269</td>\n",
       "      <td>510.201628</td>\n",
       "      <td>489</td>\n",
       "    </tr>\n",
       "    <tr>\n",
       "      <th rowspan=\"2\" valign=\"top\">Bs.As. G.B.A. Zona Norte</th>\n",
       "      <th>San Isidro</th>\n",
       "      <th>house</th>\n",
       "      <td>1443.511966</td>\n",
       "      <td>608.869569</td>\n",
       "      <td>950</td>\n",
       "      <td>1874.288131</td>\n",
       "      <td>625.317530</td>\n",
       "      <td>460</td>\n",
       "    </tr>\n",
       "    <tr>\n",
       "      <th>Escobar</th>\n",
       "      <th>house</th>\n",
       "      <td>1272.935898</td>\n",
       "      <td>433.624570</td>\n",
       "      <td>793</td>\n",
       "      <td>1425.429927</td>\n",
       "      <td>609.771963</td>\n",
       "      <td>448</td>\n",
       "    </tr>\n",
       "    <tr>\n",
       "      <th rowspan=\"2\" valign=\"top\">Bs.As. G.B.A. Zona Sur</th>\n",
       "      <th>Lomas de Zamora</th>\n",
       "      <th>apartment</th>\n",
       "      <td>2007.972072</td>\n",
       "      <td>506.828392</td>\n",
       "      <td>815</td>\n",
       "      <td>2150.514590</td>\n",
       "      <td>444.993014</td>\n",
       "      <td>428</td>\n",
       "    </tr>\n",
       "    <tr>\n",
       "      <th>La Plata</th>\n",
       "      <th>apartment</th>\n",
       "      <td>1754.927357</td>\n",
       "      <td>496.831600</td>\n",
       "      <td>598</td>\n",
       "      <td>1698.321391</td>\n",
       "      <td>393.060586</td>\n",
       "      <td>401</td>\n",
       "    </tr>\n",
       "    <tr>\n",
       "      <th>Bs.As. G.B.A. Zona Norte</th>\n",
       "      <th>Pilar</th>\n",
       "      <th>house</th>\n",
       "      <td>1417.256507</td>\n",
       "      <td>505.266135</td>\n",
       "      <td>1202</td>\n",
       "      <td>1462.804473</td>\n",
       "      <td>630.961810</td>\n",
       "      <td>393</td>\n",
       "    </tr>\n",
       "    <tr>\n",
       "      <th>Bs.As. G.B.A. Zona Oeste</th>\n",
       "      <th>Morón</th>\n",
       "      <th>apartment</th>\n",
       "      <td>1762.455910</td>\n",
       "      <td>442.554520</td>\n",
       "      <td>667</td>\n",
       "      <td>1931.368302</td>\n",
       "      <td>407.804286</td>\n",
       "      <td>384</td>\n",
       "    </tr>\n",
       "    <tr>\n",
       "      <th>Bs.As. G.B.A. Zona Norte</th>\n",
       "      <th>Vicente López</th>\n",
       "      <th>house</th>\n",
       "      <td>1576.729160</td>\n",
       "      <td>588.072260</td>\n",
       "      <td>726</td>\n",
       "      <td>1880.130871</td>\n",
       "      <td>626.066158</td>\n",
       "      <td>365</td>\n",
       "    </tr>\n",
       "  </tbody>\n",
       "</table>\n",
       "</div>"
      ],
      "text/plain": [
       "                                                           price_usd_per_m2  \\\n",
       "                                                                       mean   \n",
       "provincia                    ciudad          property_type                    \n",
       "Buenos Aires Costa Atlántica Mar del Plata   apartment          1986.896177   \n",
       "Bs.As. G.B.A. Zona Norte     Tigre           house              1639.454885   \n",
       "Bs.As. G.B.A. Zona Sur       Lomas de Zamora house              1353.224498   \n",
       "Bs.As. G.B.A. Zona Norte     Tigre           apartment          2376.631307   \n",
       "Córdoba                      Córdoba         house               889.641567   \n",
       "Bs.As. G.B.A. Zona Norte     Vicente López   apartment          3063.957543   \n",
       "Bs.As. G.B.A. Zona Sur       La Plata        house              1339.969649   \n",
       "Bs.As. G.B.A. Zona Oeste     La Matanza      apartment          1751.969835   \n",
       "Bs.As. G.B.A. Zona Norte     San Isidro      house              1443.511966   \n",
       "                             Escobar         house              1272.935898   \n",
       "Bs.As. G.B.A. Zona Sur       Lomas de Zamora apartment          2007.972072   \n",
       "                             La Plata        apartment          1754.927357   \n",
       "Bs.As. G.B.A. Zona Norte     Pilar           house              1417.256507   \n",
       "Bs.As. G.B.A. Zona Oeste     Morón           apartment          1762.455910   \n",
       "Bs.As. G.B.A. Zona Norte     Vicente López   house              1576.729160   \n",
       "\n",
       "                                                                              \\\n",
       "                                                                   std count   \n",
       "provincia                    ciudad          property_type                     \n",
       "Buenos Aires Costa Atlántica Mar del Plata   apartment      539.483595  3466   \n",
       "Bs.As. G.B.A. Zona Norte     Tigre           house          694.365804  2936   \n",
       "Bs.As. G.B.A. Zona Sur       Lomas de Zamora house          474.131192   433   \n",
       "Bs.As. G.B.A. Zona Norte     Tigre           apartment      643.255606  2914   \n",
       "Córdoba                      Córdoba         house          339.074551   210   \n",
       "Bs.As. G.B.A. Zona Norte     Vicente López   apartment      849.464267  1363   \n",
       "Bs.As. G.B.A. Zona Sur       La Plata        house          580.974937   265   \n",
       "Bs.As. G.B.A. Zona Oeste     La Matanza      apartment      506.831824   389   \n",
       "Bs.As. G.B.A. Zona Norte     San Isidro      house          608.869569   950   \n",
       "                             Escobar         house          433.624570   793   \n",
       "Bs.As. G.B.A. Zona Sur       Lomas de Zamora apartment      506.828392   815   \n",
       "                             La Plata        apartment      496.831600   598   \n",
       "Bs.As. G.B.A. Zona Norte     Pilar           house          505.266135  1202   \n",
       "Bs.As. G.B.A. Zona Oeste     Morón           apartment      442.554520   667   \n",
       "Bs.As. G.B.A. Zona Norte     Vicente López   house          588.072260   726   \n",
       "\n",
       "                                                           usd_per_m2_2  \\\n",
       "                                                                   mean   \n",
       "provincia                    ciudad          property_type                \n",
       "Buenos Aires Costa Atlántica Mar del Plata   apartment      1939.210364   \n",
       "Bs.As. G.B.A. Zona Norte     Tigre           house          1951.398657   \n",
       "Bs.As. G.B.A. Zona Sur       Lomas de Zamora house          1384.156061   \n",
       "Bs.As. G.B.A. Zona Norte     Tigre           apartment      2499.103360   \n",
       "Córdoba                      Córdoba         house          1255.528798   \n",
       "Bs.As. G.B.A. Zona Norte     Vicente López   apartment      3070.254809   \n",
       "Bs.As. G.B.A. Zona Sur       La Plata        house          1492.484930   \n",
       "Bs.As. G.B.A. Zona Oeste     La Matanza      apartment      1971.952269   \n",
       "Bs.As. G.B.A. Zona Norte     San Isidro      house          1874.288131   \n",
       "                             Escobar         house          1425.429927   \n",
       "Bs.As. G.B.A. Zona Sur       Lomas de Zamora apartment      2150.514590   \n",
       "                             La Plata        apartment      1698.321391   \n",
       "Bs.As. G.B.A. Zona Norte     Pilar           house          1462.804473   \n",
       "Bs.As. G.B.A. Zona Oeste     Morón           apartment      1931.368302   \n",
       "Bs.As. G.B.A. Zona Norte     Vicente López   house          1880.130871   \n",
       "\n",
       "                                                                              \n",
       "                                                                   std count  \n",
       "provincia                    ciudad          property_type                    \n",
       "Buenos Aires Costa Atlántica Mar del Plata   apartment      535.268024   917  \n",
       "Bs.As. G.B.A. Zona Norte     Tigre           house          651.248168   858  \n",
       "Bs.As. G.B.A. Zona Sur       Lomas de Zamora house          533.035214   801  \n",
       "Bs.As. G.B.A. Zona Norte     Tigre           apartment      712.255133   663  \n",
       "Córdoba                      Córdoba         house          926.594816   593  \n",
       "Bs.As. G.B.A. Zona Norte     Vicente López   apartment      827.409718   566  \n",
       "Bs.As. G.B.A. Zona Sur       La Plata        house          557.511626   515  \n",
       "Bs.As. G.B.A. Zona Oeste     La Matanza      apartment      510.201628   489  \n",
       "Bs.As. G.B.A. Zona Norte     San Isidro      house          625.317530   460  \n",
       "                             Escobar         house          609.771963   448  \n",
       "Bs.As. G.B.A. Zona Sur       Lomas de Zamora apartment      444.993014   428  \n",
       "                             La Plata        apartment      393.060586   401  \n",
       "Bs.As. G.B.A. Zona Norte     Pilar           house          630.961810   393  \n",
       "Bs.As. G.B.A. Zona Oeste     Morón           apartment      407.804286   384  \n",
       "Bs.As. G.B.A. Zona Norte     Vicente López   house          626.066158   365  "
      ]
     },
     "execution_count": 205,
     "metadata": {},
     "output_type": "execute_result"
    }
   ],
   "source": [
    "#Comparamos promedio y desvío estándard de las combinaciones provincia/ciudad/property_type que más valores tenemos en el campo nuevo de precio\n",
    "#Al campo original (price_usd_per_m2) lo limitamos entre 500 y 6000 ya que el campo nuevo sólo lo agregamos en ese rango\n",
    "\n",
    "\n",
    "maskm2 = (datos['price_usd_per_m2'] > 500) & (datos['price_usd_per_m2'] < 6000) | (datos['usd_per_m2_2'].notnull())\n",
    "masknoCap = datos['provincia'] != 'Capital Federal'\n",
    "datos_agrup =datos[maskm2 & masknoCap].groupby(['provincia', 'ciudad', 'property_type']).agg({'price_usd_per_m2': ['mean', 'std', 'count'], \n",
    "                                                             'usd_per_m2_2': ['mean', 'std', 'count']})\n",
    "datos_agrup.sort_values(('usd_per_m2_2', 'count'), ascending=False).head(15)\n"
   ]
  },
  {
   "cell_type": "code",
   "execution_count": 206,
   "metadata": {},
   "outputs": [
    {
     "data": {
      "text/html": [
       "<div>\n",
       "<style scoped>\n",
       "    .dataframe tbody tr th:only-of-type {\n",
       "        vertical-align: middle;\n",
       "    }\n",
       "\n",
       "    .dataframe tbody tr th {\n",
       "        vertical-align: top;\n",
       "    }\n",
       "\n",
       "    .dataframe thead tr th {\n",
       "        text-align: left;\n",
       "    }\n",
       "\n",
       "    .dataframe thead tr:last-of-type th {\n",
       "        text-align: right;\n",
       "    }\n",
       "</style>\n",
       "<table border=\"1\" class=\"dataframe\">\n",
       "  <thead>\n",
       "    <tr>\n",
       "      <th></th>\n",
       "      <th></th>\n",
       "      <th></th>\n",
       "      <th colspan=\"3\" halign=\"left\">price_usd_per_m2</th>\n",
       "      <th colspan=\"3\" halign=\"left\">usd_per_m2_2</th>\n",
       "    </tr>\n",
       "    <tr>\n",
       "      <th></th>\n",
       "      <th></th>\n",
       "      <th></th>\n",
       "      <th>mean</th>\n",
       "      <th>std</th>\n",
       "      <th>count</th>\n",
       "      <th>mean</th>\n",
       "      <th>std</th>\n",
       "      <th>count</th>\n",
       "    </tr>\n",
       "    <tr>\n",
       "      <th>ciudad</th>\n",
       "      <th>barrio1</th>\n",
       "      <th>property_type</th>\n",
       "      <th></th>\n",
       "      <th></th>\n",
       "      <th></th>\n",
       "      <th></th>\n",
       "      <th></th>\n",
       "      <th></th>\n",
       "    </tr>\n",
       "  </thead>\n",
       "  <tbody>\n",
       "    <tr>\n",
       "      <th rowspan=\"15\" valign=\"top\">Capital Federal</th>\n",
       "      <th>Palermo</th>\n",
       "      <th>apartment</th>\n",
       "      <td>3267.368270</td>\n",
       "      <td>885.445453</td>\n",
       "      <td>2573</td>\n",
       "      <td>3163.330657</td>\n",
       "      <td>887.100077</td>\n",
       "      <td>453</td>\n",
       "    </tr>\n",
       "    <tr>\n",
       "      <th>Belgrano</th>\n",
       "      <th>apartment</th>\n",
       "      <td>3103.608970</td>\n",
       "      <td>755.599333</td>\n",
       "      <td>1932</td>\n",
       "      <td>3062.154112</td>\n",
       "      <td>758.910102</td>\n",
       "      <td>324</td>\n",
       "    </tr>\n",
       "    <tr>\n",
       "      <th>Caballito</th>\n",
       "      <th>apartment</th>\n",
       "      <td>2473.293396</td>\n",
       "      <td>479.477095</td>\n",
       "      <td>1550</td>\n",
       "      <td>2430.778342</td>\n",
       "      <td>570.699880</td>\n",
       "      <td>297</td>\n",
       "    </tr>\n",
       "    <tr>\n",
       "      <th>Recoleta</th>\n",
       "      <th>apartment</th>\n",
       "      <td>3253.156680</td>\n",
       "      <td>844.546704</td>\n",
       "      <td>1090</td>\n",
       "      <td>3072.140606</td>\n",
       "      <td>786.529508</td>\n",
       "      <td>199</td>\n",
       "    </tr>\n",
       "    <tr>\n",
       "      <th>Villa Urquiza</th>\n",
       "      <th>apartment</th>\n",
       "      <td>2540.308867</td>\n",
       "      <td>422.938569</td>\n",
       "      <td>970</td>\n",
       "      <td>2520.946062</td>\n",
       "      <td>548.497952</td>\n",
       "      <td>183</td>\n",
       "    </tr>\n",
       "    <tr>\n",
       "      <th>Flores</th>\n",
       "      <th>apartment</th>\n",
       "      <td>2083.413897</td>\n",
       "      <td>388.891222</td>\n",
       "      <td>839</td>\n",
       "      <td>2021.531467</td>\n",
       "      <td>359.774317</td>\n",
       "      <td>173</td>\n",
       "    </tr>\n",
       "    <tr>\n",
       "      <th>Monserrat</th>\n",
       "      <th>apartment</th>\n",
       "      <td>2134.715442</td>\n",
       "      <td>562.656036</td>\n",
       "      <td>274</td>\n",
       "      <td>2243.269970</td>\n",
       "      <td>422.047788</td>\n",
       "      <td>158</td>\n",
       "    </tr>\n",
       "    <tr>\n",
       "      <th>Balvanera</th>\n",
       "      <th>apartment</th>\n",
       "      <td>1954.858611</td>\n",
       "      <td>480.799102</td>\n",
       "      <td>415</td>\n",
       "      <td>1906.616812</td>\n",
       "      <td>400.384843</td>\n",
       "      <td>131</td>\n",
       "    </tr>\n",
       "    <tr>\n",
       "      <th>San Telmo</th>\n",
       "      <th>apartment</th>\n",
       "      <td>2375.152130</td>\n",
       "      <td>567.877259</td>\n",
       "      <td>918</td>\n",
       "      <td>2320.995845</td>\n",
       "      <td>466.261080</td>\n",
       "      <td>126</td>\n",
       "    </tr>\n",
       "    <tr>\n",
       "      <th>Nuñez</th>\n",
       "      <th>apartment</th>\n",
       "      <td>3060.117617</td>\n",
       "      <td>859.737583</td>\n",
       "      <td>458</td>\n",
       "      <td>3053.258287</td>\n",
       "      <td>693.584771</td>\n",
       "      <td>122</td>\n",
       "    </tr>\n",
       "    <tr>\n",
       "      <th>Almagro</th>\n",
       "      <th>apartment</th>\n",
       "      <td>2248.286685</td>\n",
       "      <td>502.465890</td>\n",
       "      <td>706</td>\n",
       "      <td>2222.833961</td>\n",
       "      <td>378.694497</td>\n",
       "      <td>117</td>\n",
       "    </tr>\n",
       "    <tr>\n",
       "      <th>Villa Crespo</th>\n",
       "      <th>apartment</th>\n",
       "      <td>2548.230588</td>\n",
       "      <td>503.147813</td>\n",
       "      <td>873</td>\n",
       "      <td>2467.204556</td>\n",
       "      <td>558.492324</td>\n",
       "      <td>106</td>\n",
       "    </tr>\n",
       "    <tr>\n",
       "      <th>Barrio Norte</th>\n",
       "      <th>apartment</th>\n",
       "      <td>3000.903922</td>\n",
       "      <td>856.912873</td>\n",
       "      <td>818</td>\n",
       "      <td>2675.966357</td>\n",
       "      <td>545.611518</td>\n",
       "      <td>99</td>\n",
       "    </tr>\n",
       "    <tr>\n",
       "      <th>San Cristobal</th>\n",
       "      <th>apartment</th>\n",
       "      <td>2240.282509</td>\n",
       "      <td>1108.599814</td>\n",
       "      <td>211</td>\n",
       "      <td>2078.085641</td>\n",
       "      <td>387.333403</td>\n",
       "      <td>82</td>\n",
       "    </tr>\n",
       "    <tr>\n",
       "      <th>Floresta</th>\n",
       "      <th>apartment</th>\n",
       "      <td>1913.494005</td>\n",
       "      <td>347.763150</td>\n",
       "      <td>191</td>\n",
       "      <td>1966.045062</td>\n",
       "      <td>443.407371</td>\n",
       "      <td>80</td>\n",
       "    </tr>\n",
       "  </tbody>\n",
       "</table>\n",
       "</div>"
      ],
      "text/plain": [
       "                                            price_usd_per_m2               \\\n",
       "                                                        mean          std   \n",
       "ciudad          barrio1       property_type                                 \n",
       "Capital Federal Palermo       apartment          3267.368270   885.445453   \n",
       "                Belgrano      apartment          3103.608970   755.599333   \n",
       "                Caballito     apartment          2473.293396   479.477095   \n",
       "                Recoleta      apartment          3253.156680   844.546704   \n",
       "                Villa Urquiza apartment          2540.308867   422.938569   \n",
       "                Flores        apartment          2083.413897   388.891222   \n",
       "                Monserrat     apartment          2134.715442   562.656036   \n",
       "                Balvanera     apartment          1954.858611   480.799102   \n",
       "                San Telmo     apartment          2375.152130   567.877259   \n",
       "                Nuñez         apartment          3060.117617   859.737583   \n",
       "                Almagro       apartment          2248.286685   502.465890   \n",
       "                Villa Crespo  apartment          2548.230588   503.147813   \n",
       "                Barrio Norte  apartment          3000.903922   856.912873   \n",
       "                San Cristobal apartment          2240.282509  1108.599814   \n",
       "                Floresta      apartment          1913.494005   347.763150   \n",
       "\n",
       "                                                  usd_per_m2_2              \\\n",
       "                                            count         mean         std   \n",
       "ciudad          barrio1       property_type                                  \n",
       "Capital Federal Palermo       apartment      2573  3163.330657  887.100077   \n",
       "                Belgrano      apartment      1932  3062.154112  758.910102   \n",
       "                Caballito     apartment      1550  2430.778342  570.699880   \n",
       "                Recoleta      apartment      1090  3072.140606  786.529508   \n",
       "                Villa Urquiza apartment       970  2520.946062  548.497952   \n",
       "                Flores        apartment       839  2021.531467  359.774317   \n",
       "                Monserrat     apartment       274  2243.269970  422.047788   \n",
       "                Balvanera     apartment       415  1906.616812  400.384843   \n",
       "                San Telmo     apartment       918  2320.995845  466.261080   \n",
       "                Nuñez         apartment       458  3053.258287  693.584771   \n",
       "                Almagro       apartment       706  2222.833961  378.694497   \n",
       "                Villa Crespo  apartment       873  2467.204556  558.492324   \n",
       "                Barrio Norte  apartment       818  2675.966357  545.611518   \n",
       "                San Cristobal apartment       211  2078.085641  387.333403   \n",
       "                Floresta      apartment       191  1966.045062  443.407371   \n",
       "\n",
       "                                                   \n",
       "                                            count  \n",
       "ciudad          barrio1       property_type        \n",
       "Capital Federal Palermo       apartment       453  \n",
       "                Belgrano      apartment       324  \n",
       "                Caballito     apartment       297  \n",
       "                Recoleta      apartment       199  \n",
       "                Villa Urquiza apartment       183  \n",
       "                Flores        apartment       173  \n",
       "                Monserrat     apartment       158  \n",
       "                Balvanera     apartment       131  \n",
       "                San Telmo     apartment       126  \n",
       "                Nuñez         apartment       122  \n",
       "                Almagro       apartment       117  \n",
       "                Villa Crespo  apartment       106  \n",
       "                Barrio Norte  apartment        99  \n",
       "                San Cristobal apartment        82  \n",
       "                Floresta      apartment        80  "
      ]
     },
     "execution_count": 206,
     "metadata": {},
     "output_type": "execute_result"
    }
   ],
   "source": [
    "maskm2 = (datos['price_usd_per_m2'] > 500) & (datos['price_usd_per_m2'] < 6000) | (datos['usd_per_m2_2'].notnull())\n",
    "masknoCap = datos['provincia'] == 'Capital Federal'\n",
    "datos_agrup =datos[maskm2 & masknoCap].groupby(['ciudad', 'barrio1', 'property_type']).agg({'price_usd_per_m2': ['mean', 'std', 'count'], \n",
    "                                                             'usd_per_m2_2': ['mean', 'std', 'count']})\n",
    "datos_agrup.sort_values(('usd_per_m2_2', 'count'), ascending=False).head(15)"
   ]
  },
  {
   "cell_type": "code",
   "execution_count": 208,
   "metadata": {},
   "outputs": [],
   "source": [
    "datos['price_usd_per_m2'] = datos.apply(lambda x: x['price_usd_per_m2'] if x['price_usd_per_m2'] > 1 else x['usd_per_m2_2'], axis=1)"
   ]
  },
  {
   "cell_type": "code",
   "execution_count": 209,
   "metadata": {},
   "outputs": [
    {
     "data": {
      "text/plain": [
       "88581"
      ]
     },
     "execution_count": 209,
     "metadata": {},
     "output_type": "execute_result"
    }
   ],
   "source": [
    "datos.price_usd_per_m2.notnull().sum()"
   ]
  },
  {
   "cell_type": "markdown",
   "metadata": {},
   "source": [
    "### Verificamos outliers en el campo price_usd_per_m2"
   ]
  },
  {
   "cell_type": "code",
   "execution_count": 232,
   "metadata": {},
   "outputs": [
    {
     "data": {
      "text/plain": [
       "<AxesSubplot:xlabel='price_usd_per_m2', ylabel='Count'>"
      ]
     },
     "execution_count": 232,
     "metadata": {},
     "output_type": "execute_result"
    },
    {
     "data": {
      "image/png": "[encoded data removed]",
      "text/plain": [
       "<Figure size 640x480 with 1 Axes>"
      ]
     },
     "metadata": {},
     "output_type": "display_data"
    }
   ],
   "source": [
    "mask = datos.price_usd_per_m2 < 10000\n",
    "sns.histplot(datos[mask].price_usd_per_m2, color='blue', bins=100)"
   ]
  },
  {
   "cell_type": "code",
   "execution_count": 218,
   "metadata": {},
   "outputs": [
    {
     "name": "stdout",
     "output_type": "stream",
     "text": [
      "en todo el país hay 5333 de menos de 500 usd x m2\n",
      "en todo el país hay 1489 de más de 6000 usd x m2\n"
     ]
    }
   ],
   "source": [
    "mask = datos.price_usd_per_m2 < 500\n",
    "print(f'en todo el país hay {datos[mask].price_usd_per_m2.count()} de menos de 500 usd x m2')\n",
    "\n",
    "mask1 = datos.price_usd_per_m2 > 6000\n",
    "print(f'en todo el país hay {datos[mask1].price_usd_per_m2.count()} de más de 6000 usd x m2')\n"
   ]
  },
  {
   "cell_type": "code",
   "execution_count": 235,
   "metadata": {},
   "outputs": [
    {
     "data": {
      "text/html": [
       "<div>\n",
       "<style scoped>\n",
       "    .dataframe tbody tr th:only-of-type {\n",
       "        vertical-align: middle;\n",
       "    }\n",
       "\n",
       "    .dataframe tbody tr th {\n",
       "        vertical-align: top;\n",
       "    }\n",
       "\n",
       "    .dataframe thead th {\n",
       "        text-align: right;\n",
       "    }\n",
       "</style>\n",
       "<table border=\"1\" class=\"dataframe\">\n",
       "  <thead>\n",
       "    <tr style=\"text-align: right;\">\n",
       "      <th></th>\n",
       "      <th></th>\n",
       "      <th></th>\n",
       "      <th></th>\n",
       "      <th>price_usd_per_m2</th>\n",
       "    </tr>\n",
       "    <tr>\n",
       "      <th>provincia</th>\n",
       "      <th>ciudad</th>\n",
       "      <th>barrio1</th>\n",
       "      <th>property_type</th>\n",
       "      <th></th>\n",
       "    </tr>\n",
       "  </thead>\n",
       "  <tbody>\n",
       "    <tr>\n",
       "      <th>Capital Federal</th>\n",
       "      <th>Capital Federal</th>\n",
       "      <th>Boedo</th>\n",
       "      <th>apartment</th>\n",
       "      <td>403</td>\n",
       "    </tr>\n",
       "    <tr>\n",
       "      <th>Buenos Aires Costa Atlántica</th>\n",
       "      <th>Mar del Plata</th>\n",
       "      <th></th>\n",
       "      <th>house</th>\n",
       "      <td>368</td>\n",
       "    </tr>\n",
       "    <tr>\n",
       "      <th>Bs.As. G.B.A. Zona Norte</th>\n",
       "      <th>Tigre</th>\n",
       "      <th>Benavidez</th>\n",
       "      <th>house</th>\n",
       "      <td>264</td>\n",
       "    </tr>\n",
       "    <tr>\n",
       "      <th rowspan=\"2\" valign=\"top\">Capital Federal</th>\n",
       "      <th rowspan=\"2\" valign=\"top\">Capital Federal</th>\n",
       "      <th>Puerto Madero</th>\n",
       "      <th>apartment</th>\n",
       "      <td>218</td>\n",
       "    </tr>\n",
       "    <tr>\n",
       "      <th>San Cristobal</th>\n",
       "      <th>apartment</th>\n",
       "      <td>193</td>\n",
       "    </tr>\n",
       "    <tr>\n",
       "      <th>Bs.As. G.B.A. Zona Norte</th>\n",
       "      <th>Pilar</th>\n",
       "      <th></th>\n",
       "      <th>house</th>\n",
       "      <td>177</td>\n",
       "    </tr>\n",
       "    <tr>\n",
       "      <th>Córdoba</th>\n",
       "      <th>Villa Carlos Paz</th>\n",
       "      <th></th>\n",
       "      <th>house</th>\n",
       "      <td>151</td>\n",
       "    </tr>\n",
       "    <tr>\n",
       "      <th>Buenos Aires Costa Atlántica</th>\n",
       "      <th>Pinamar</th>\n",
       "      <th></th>\n",
       "      <th>house</th>\n",
       "      <td>141</td>\n",
       "    </tr>\n",
       "    <tr>\n",
       "      <th>Santa Fe</th>\n",
       "      <th>Rosario</th>\n",
       "      <th></th>\n",
       "      <th>apartment</th>\n",
       "      <td>119</td>\n",
       "    </tr>\n",
       "    <tr>\n",
       "      <th>Bs.As. G.B.A. Zona Norte</th>\n",
       "      <th>Escobar</th>\n",
       "      <th></th>\n",
       "      <th>house</th>\n",
       "      <td>109</td>\n",
       "    </tr>\n",
       "    <tr>\n",
       "      <th>Córdoba</th>\n",
       "      <th>Córdoba</th>\n",
       "      <th></th>\n",
       "      <th>house</th>\n",
       "      <td>101</td>\n",
       "    </tr>\n",
       "    <tr>\n",
       "      <th>Bs.As. G.B.A. Zona Norte</th>\n",
       "      <th>Tigre</th>\n",
       "      <th></th>\n",
       "      <th>house</th>\n",
       "      <td>101</td>\n",
       "    </tr>\n",
       "    <tr>\n",
       "      <th>Capital Federal</th>\n",
       "      <th>Capital Federal</th>\n",
       "      <th>Palermo</th>\n",
       "      <th>apartment</th>\n",
       "      <td>91</td>\n",
       "    </tr>\n",
       "    <tr>\n",
       "      <th>Córdoba</th>\n",
       "      <th>Punilla</th>\n",
       "      <th></th>\n",
       "      <th>house</th>\n",
       "      <td>74</td>\n",
       "    </tr>\n",
       "    <tr>\n",
       "      <th>Bs.As. G.B.A. Zona Oeste</th>\n",
       "      <th>Ituzaingó</th>\n",
       "      <th></th>\n",
       "      <th>house</th>\n",
       "      <td>69</td>\n",
       "    </tr>\n",
       "    <tr>\n",
       "      <th>Misiones</th>\n",
       "      <th>Posadas</th>\n",
       "      <th></th>\n",
       "      <th>house</th>\n",
       "      <td>68</td>\n",
       "    </tr>\n",
       "    <tr>\n",
       "      <th>Capital Federal</th>\n",
       "      <th>Capital Federal</th>\n",
       "      <th></th>\n",
       "      <th>house</th>\n",
       "      <td>68</td>\n",
       "    </tr>\n",
       "    <tr>\n",
       "      <th>Santa Fe</th>\n",
       "      <th>Rosario</th>\n",
       "      <th></th>\n",
       "      <th>house</th>\n",
       "      <td>66</td>\n",
       "    </tr>\n",
       "    <tr>\n",
       "      <th>Buenos Aires Interior</th>\n",
       "      <th>Bahía Blanca</th>\n",
       "      <th></th>\n",
       "      <th>house</th>\n",
       "      <td>65</td>\n",
       "    </tr>\n",
       "    <tr>\n",
       "      <th>Bs.As. G.B.A. Zona Oeste</th>\n",
       "      <th>Moreno</th>\n",
       "      <th></th>\n",
       "      <th>house</th>\n",
       "      <td>60</td>\n",
       "    </tr>\n",
       "  </tbody>\n",
       "</table>\n",
       "</div>"
      ],
      "text/plain": [
       "                                                                           price_usd_per_m2\n",
       "provincia                    ciudad           barrio1       property_type                  \n",
       "Capital Federal              Capital Federal  Boedo         apartment                   403\n",
       "Buenos Aires Costa Atlántica Mar del Plata                  house                       368\n",
       "Bs.As. G.B.A. Zona Norte     Tigre            Benavidez     house                       264\n",
       "Capital Federal              Capital Federal  Puerto Madero apartment                   218\n",
       "                                              San Cristobal apartment                   193\n",
       "Bs.As. G.B.A. Zona Norte     Pilar                          house                       177\n",
       "Córdoba                      Villa Carlos Paz               house                       151\n",
       "Buenos Aires Costa Atlántica Pinamar                        house                       141\n",
       "Santa Fe                     Rosario                        apartment                   119\n",
       "Bs.As. G.B.A. Zona Norte     Escobar                        house                       109\n",
       "Córdoba                      Córdoba                        house                       101\n",
       "Bs.As. G.B.A. Zona Norte     Tigre                          house                       101\n",
       "Capital Federal              Capital Federal  Palermo       apartment                    91\n",
       "Córdoba                      Punilla                        house                        74\n",
       "Bs.As. G.B.A. Zona Oeste     Ituzaingó                      house                        69\n",
       "Misiones                     Posadas                        house                        68\n",
       "Capital Federal              Capital Federal                house                        68\n",
       "Santa Fe                     Rosario                        house                        66\n",
       "Buenos Aires Interior        Bahía Blanca                   house                        65\n",
       "Bs.As. G.B.A. Zona Oeste     Moreno                         house                        60"
      ]
     },
     "execution_count": 235,
     "metadata": {},
     "output_type": "execute_result"
    }
   ],
   "source": [
    "mask2 = (datos.price_usd_per_m2 < 500) | (datos.price_usd_per_m2 > 6000)\n",
    "datos_outliers_usd = datos[mask2].groupby(['provincia', 'ciudad', 'barrio1', 'property_type']).agg({'price_usd_per_m2': 'count'})\n",
    "datos_outliers_usd.sort_values('price_usd_per_m2', ascending=False).head(20)"
   ]
  },
  {
   "cell_type": "code",
   "execution_count": 237,
   "metadata": {},
   "outputs": [],
   "source": [
    "datos[mask2][['description', 'provincia', 'ciudad', 'barrio1', 'property_type', 'price_usd_per_m2', 'price_per_m2']].to_csv('prueba.csv')"
   ]
  }
 ],
 "metadata": {
  "kernelspec": {
   "display_name": "Python 3.8.13",
   "language": "python",
   "name": "python3"
  },
  "language_info": {
   "codemirror_mode": {
    "name": "ipython",
    "version": 3
   },
   "file_extension": ".py",
   "mimetype": "text/x-python",
   "name": "python",
   "nbconvert_exporter": "python",
   "pygments_lexer": "ipython3",
   "version": "3.8.13"
  },
  "orig_nbformat": 4,
  "vscode": {
   "interpreter": {
    "hash": "f9e79ae447073856e3736bf4211b085e64335ad9a1ea09b7a6c5b18129073b66"
   }
  }
 },
 "nbformat": 4,
 "nbformat_minor": 2
}
