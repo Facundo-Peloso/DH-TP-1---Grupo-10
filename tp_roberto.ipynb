{
 "cells": [
  {
   "cell_type": "code",
   "execution_count": 1,
   "metadata": {},
   "outputs": [],
   "source": [
    "import numpy as np\n",
    "import pandas as pd"
   ]
  },
  {
   "cell_type": "code",
   "execution_count": 2,
   "metadata": {},
   "outputs": [],
   "source": [
    "datos = pd.read_csv('C:/Users/VivoBook/Documents/Roberto/_Data_Science_curso/221018 Tp/properatti.csv', index_col=0)"
   ]
  },
  {
   "cell_type": "code",
   "execution_count": 3,
   "metadata": {},
   "outputs": [
    {
     "data": {
      "text/plain": [
       "(121220, 25)"
      ]
     },
     "execution_count": 3,
     "metadata": {},
     "output_type": "execute_result"
    }
   ],
   "source": [
    "datos.shape"
   ]
  },
  {
   "cell_type": "code",
   "execution_count": 4,
   "metadata": {},
   "outputs": [
    {
     "data": {
      "text/plain": [
       "operation                          0\n",
       "property_type                      0\n",
       "place_name                        23\n",
       "place_with_parent_names            0\n",
       "country_name                       0\n",
       "state_name                         0\n",
       "geonames_id                    18717\n",
       "lat-lon                        51550\n",
       "lat                            51550\n",
       "lon                            51550\n",
       "price                          20410\n",
       "currency                       20411\n",
       "price_aprox_local_currency     20410\n",
       "price_aprox_usd                20410\n",
       "surface_total_in_m2            39328\n",
       "surface_covered_in_m2          19907\n",
       "price_usd_per_m2               52603\n",
       "price_per_m2                   33562\n",
       "floor                         113321\n",
       "rooms                          73830\n",
       "expenses                      106958\n",
       "properati_url                      0\n",
       "description                        2\n",
       "title                              0\n",
       "image_thumbnail                 3112\n",
       "dtype: int64"
      ]
     },
     "execution_count": 4,
     "metadata": {},
     "output_type": "execute_result"
    }
   ],
   "source": [
    "datos.isna().sum()"
   ]
  },
  {
   "cell_type": "code",
   "execution_count": 5,
   "metadata": {},
   "outputs": [],
   "source": [
    "# Chequeo de que los precios sean consistentes\n",
    "# Veo muy consistentes los precios price_aprox_usd y price_usd_per_m2 y también surface_total_in_m2\n",
    "datos[['price_aprox_local_currency', 'price_aprox_usd', 'price_usd_per_m2', 'price_per_m2', 'currency', 'surface_total_in_m2']].to_csv('precios.csv')\n"
   ]
  },
  {
   "cell_type": "code",
   "execution_count": 6,
   "metadata": {},
   "outputs": [],
   "source": [
    "# Chequeo de que existan estas Fotos - Existen pero no sé si vale la pena conservarlo\n",
    "datos[['image_thumbnail']].to_csv('imagenes.csv')\n"
   ]
  },
  {
   "cell_type": "code",
   "execution_count": 7,
   "metadata": {},
   "outputs": [
    {
     "data": {
      "text/plain": [
       "Argentina    121220\n",
       "Name: country_name, dtype: int64"
      ]
     },
     "execution_count": 7,
     "metadata": {},
     "output_type": "execute_result"
    }
   ],
   "source": [
    "# Chequeo único valor de este campo\n",
    "datos.country_name.value_counts()"
   ]
  },
  {
   "cell_type": "code",
   "execution_count": 8,
   "metadata": {},
   "outputs": [],
   "source": [
    "# Función CuentaPalabras que hace dos cosas\n",
    "    # toma un texto y le quita los caracteres especiales que vi que más se repetían\n",
    "    # suma a dos listas la palabra y la cantidad de veces que aparece en el texto\n",
    "\n",
    "import collections\n",
    "\n",
    "def CuentaPalabras(texto):\n",
    "    specialChars = ',()./-:'\n",
    "    for specialChars in specialChars:\n",
    "        texto = texto.replace(specialChars,'')\n",
    "        \n",
    "    counter = collections.Counter(texto.split(' '))\n",
    "    for palabra, cont in counter.most_common():\n",
    "        listPalabras.append(palabra)\n",
    "        listCantidad.append(cont)\n"
   ]
  },
  {
   "cell_type": "code",
   "execution_count": 9,
   "metadata": {},
   "outputs": [],
   "source": [
    "# recorre el campo description y llama la funcion CuentaPalabras en cada registro y va sumando palabra y cantidad de cada registro\n",
    "# Genera un DataFrame CantPalabras con las dos listas\n",
    "\n",
    "listPalabras = []\n",
    "listCantidad = []\n",
    "datos.description.apply(lambda x: CuentaPalabras(str(x).lower()))\n",
    "CantPalabras = pd.DataFrame({'palabra': listPalabras, 'cantidad': listCantidad})"
   ]
  },
  {
   "cell_type": "code",
   "execution_count": 10,
   "metadata": {},
   "outputs": [],
   "source": [
    "# Agrupa el DataFrame por palabra sumando cantidad\n",
    "\n",
    "CantPalabrasAgrupadas = CantPalabras.groupby(['palabra']).aggregate({'cantidad': 'sum'}).sort_values(['cantidad'], ascending=False)"
   ]
  },
  {
   "cell_type": "code",
   "execution_count": 11,
   "metadata": {},
   "outputs": [],
   "source": [
    "# Exporté a un csv, trabajé en Excel y elegí 52 palabras que aún queda por agrupar que usando regex pueden servir como:\n",
    "    # complemento a alguna columna que tenga vacíos \n",
    "    # generar nueva columna de variable que sirvan para el análisis\n",
    "\n",
    "CantPalabrasAgrupadas.to_csv('Palabras agrupadas.csv')"
   ]
  },
  {
   "cell_type": "code",
   "execution_count": 12,
   "metadata": {},
   "outputs": [],
   "source": [
    "import re"
   ]
  },
  {
   "cell_type": "code",
   "execution_count": 13,
   "metadata": {},
   "outputs": [],
   "source": [
    "SerieAmbiente = datos['description']\n",
    "patron_amb = '\\d\\s+[Aa]mbiente'\n",
    "patron_regex_amb = re.compile(patron_amb)\n",
    "Ambiente = SerieAmbiente.apply(lambda x: np.NaN if len(patron_regex_amb.findall(str(x)))==0\n",
    "                               else (patron_regex_amb.findall(str(x))[0])[0])\n",
    "datos['ambientes'] = Ambiente"
   ]
  },
  {
   "cell_type": "code",
   "execution_count": 14,
   "metadata": {},
   "outputs": [],
   "source": [
    "SerieBanio = datos['description']\n",
    "patron_banio = '\\d\\s+[Bb]año'\n",
    "patron_regex_banio = re.compile(patron_banio)\n",
    "Banio = SerieBanio.apply(lambda x: np.NaN if len(patron_regex_banio.findall(str(x)))==0\n",
    "                               else (patron_regex_banio.findall(str(x))[0])[0])\n",
    "datos['baños'] = Banio"
   ]
  },
  {
   "cell_type": "code",
   "execution_count": 15,
   "metadata": {},
   "outputs": [],
   "source": [
    "SerieDormi = datos['description']\n",
    "patron_dormi = '(\\d\\s+[Dd]ormitorio|\\d\\s+[Hh]abitac)'\n",
    "patron_regex_dormi = re.compile(patron_dormi)\n",
    "Dormitorio = SerieDormi.apply(lambda x: np.NaN if len(patron_regex_dormi.findall(str(x)))==0\n",
    "                               else (patron_regex_dormi.findall(str(x))[0])[0])\n",
    "datos['dormitorios'] = Dormitorio"
   ]
  },
  {
   "cell_type": "code",
   "execution_count": 16,
   "metadata": {},
   "outputs": [],
   "source": [
    "SerieBalc = datos['description']\n",
    "patron_balc = '[Bb]alc[oó]n'\n",
    "patron_regex_balc = re.compile(patron_balc)\n",
    "Balcon = SerieBalc.apply(lambda x: False if len(patron_regex_balc.findall(str(x)))==0 else True)\n",
    "datos['balcon'] = Balcon"
   ]
  },
  {
   "cell_type": "code",
   "execution_count": 17,
   "metadata": {},
   "outputs": [],
   "source": [
    "SerieCoch = datos['description']\n",
    "patron_coch = '([Cc]ochera|[Gg]arage)'\n",
    "patron_regex_coch = re.compile(patron_coch)\n",
    "Cochera = SerieCoch.apply(lambda x: False if len(patron_regex_coch.findall(str(x)))==0 else True)\n",
    "datos['cochera'] = Cochera"
   ]
  },
  {
   "cell_type": "code",
   "execution_count": 18,
   "metadata": {},
   "outputs": [],
   "source": [
    "SerieJardin = datos['description']\n",
    "patron_jardin = '[Jj]ard[ií]n'\n",
    "patron_regex_jardin = re.compile(patron_jardin)\n",
    "Jardin = SerieJardin.apply(lambda x: False if len(patron_regex_jardin.findall(str(x)))==0 else True)\n",
    "datos['jardin'] = Jardin"
   ]
  },
  {
   "cell_type": "code",
   "execution_count": 19,
   "metadata": {},
   "outputs": [],
   "source": [
    "SerieLavadero = datos['description']\n",
    "patron_lavadero = '[Ll]avadero'\n",
    "patron_regex_lavadero = re.compile(patron_lavadero)\n",
    "Lavadero = SerieLavadero.apply(lambda x: False if len(patron_regex_lavadero.findall(str(x)))==0 else True)\n",
    "datos['lavadero'] = Lavadero"
   ]
  },
  {
   "cell_type": "code",
   "execution_count": 20,
   "metadata": {},
   "outputs": [],
   "source": [
    "SerieParrilla = datos['description']\n",
    "patron_parrilla = '[Pp]arrilla'\n",
    "patron_regex_parrilla = re.compile(patron_parrilla)\n",
    "Parrilla = SerieParrilla.apply(lambda x: False if len(patron_regex_parrilla.findall(str(x)))==0 else True)\n",
    "datos['parrilla'] = Parrilla"
   ]
  },
  {
   "cell_type": "code",
   "execution_count": 21,
   "metadata": {},
   "outputs": [],
   "source": [
    "SeriePatio = datos['description']\n",
    "patron_patio = '[Pp]atio'\n",
    "patron_regex_patio = re.compile(patron_patio)\n",
    "Patio = SeriePatio.apply(lambda x: False if len(patron_regex_patio.findall(str(x)))==0 else True)\n",
    "datos['patio'] = Patio"
   ]
  },
  {
   "cell_type": "code",
   "execution_count": 22,
   "metadata": {},
   "outputs": [],
   "source": [
    "SeriePileta = datos['description']\n",
    "patron_pileta = '([Pp]ileta|[Pp]iscina)'\n",
    "patron_regex_pileta = re.compile(patron_pileta)\n",
    "Pileta = SeriePileta.apply(lambda x: False if len(patron_regex_pileta.findall(str(x)))==0 else True)\n",
    "datos['pileta'] = Pileta"
   ]
  },
  {
   "cell_type": "code",
   "execution_count": 23,
   "metadata": {},
   "outputs": [],
   "source": [
    "SerieExcelente = datos['description']\n",
    "patron_excelente = '[Ee]xcelentes*\\s\\w+'\n",
    "patron_regex_excelente = re.compile(patron_excelente)\n",
    "lista_excelente = ['excelente departamento', 'excelente estado', 'excelente calidad', 'excelente casa', 'excelente propiedad',\n",
    "                    'excelente vista', 'excelentes vistas', 'excelentes terminaciones', 'excelente chalet', 'excelentes detalles',\n",
    "                    'excelente monoambiente', 'excelente ph', 'excelente duplex', 'excelente edificio', 'excelente piso',\n",
    "                    'excelente local', 'excelente unidad', 'excelente semipiso', 'excelente depto', 'excelentes departamentos',\n",
    "                    'excelente categoría', 'excelente dpto', 'excelente nivel', 'excelente dúplex', 'excelente terminación',\n",
    "                    'excelentes unidades', 'excelente semi', 'excelente detalle', 'excelente terminaciones', 'excelentes calidades']\n",
    "Excelente = SerieExcelente.apply(lambda x: False if (len(patron_regex_excelente.findall(str(x)))==0 or\n",
    "                                                      patron_regex_excelente.findall(str(x).lower())[0] not in lista_excelente)\n",
    "                                                      else True)\n",
    "datos['excelente'] = Excelente"
   ]
  },
  {
   "cell_type": "code",
   "execution_count": 24,
   "metadata": {},
   "outputs": [],
   "source": [
    "SerieVista = datos['description']\n",
    "patron_vista = '([Aa]l\\s[Ff]rente|[\\s.,!/][Vv]istas*[\\s.,!/)])'\n",
    "patron_regex_vista = re.compile(patron_vista)\n",
    "Vista = SerieVista.apply(lambda x: False if len(patron_regex_vista.findall(str(x)))==0 else True)\n",
    "datos['vista'] = Vista"
   ]
  },
  {
   "cell_type": "code",
   "execution_count": 25,
   "metadata": {},
   "outputs": [],
   "source": [
    "# cuando price_usd_m2 es nulo, o bien price_aprox_usd es nulo o surface_total_in_m2 es nulo\n",
    "# por lo tanto no podemos conformarlo a partir de esos dos valores\n",
    "datos_usdm2_null = datos[datos['price_usd_per_m2'].isnull()]\n"
   ]
  },
  {
   "cell_type": "code",
   "execution_count": 26,
   "metadata": {},
   "outputs": [],
   "source": [
    "# Cuando price_usd_per_m2 es nulo hay muchos registros completos en price_per_m2\n",
    "# Tomamos sólo los que se encuentran entre 1000 y 6000 que hacen pensar que se cargaron en el campo equivocado\n",
    "# Son 17.817 valores que llevarían los 52.603 nulos de price_usd_per_m2 a 34.786\n",
    "\n",
    "mask1 = datos_usdm2_null['price_per_m2'] < 6000\n",
    "mask2 = datos_usdm2_null['price_per_m2'] > 500\n",
    "Serie_price_per_m2 = datos_usdm2_null[mask1 & mask2]['price_per_m2']\n",
    "datos['usd_per_m2_2'] = Serie_price_per_m2"
   ]
  },
  {
   "cell_type": "code",
   "execution_count": 27,
   "metadata": {},
   "outputs": [],
   "source": [
    "# Esto es lo que hizo Rodrigo aplicado acá\n",
    "ubicacion = datos[\"place_with_parent_names\"].str.split('|', expand=True) # Separo en varias columnas\n",
    "pais = ubicacion.iloc[:,1]\n",
    "ciudad = ubicacion.iloc[:,2]\n",
    "barrio = ubicacion.iloc[:,3]\n",
    "\n",
    "datos['provincia_ciudad'] = ciudad\n",
    "datos['ciudad_barrio'] = barrio"
   ]
  },
  {
   "cell_type": "code",
   "execution_count": 28,
   "metadata": {},
   "outputs": [],
   "source": [
    "# veo las combinaciones de mayor cantidad del campo nuevo para poder comparar los valores\n",
    "datos.groupby(['provincia_ciudad', 'ciudad_barrio', 'property_type']).\\\n",
    "        aggregate({'price_usd_per_m2': 'count', 'usd_per_m2_2': 'count'}).to_csv('groupby.csv')"
   ]
  },
  {
   "cell_type": "code",
   "execution_count": 29,
   "metadata": {},
   "outputs": [
    {
     "data": {
      "text/plain": [
       "<AxesSubplot:xlabel='price_usd_per_m2', ylabel='Count'>"
      ]
     },
     "execution_count": 29,
     "metadata": {},
     "output_type": "execute_result"
    },
    {
     "data": {
      "image/png": "[encoded data removed]",
      "text/plain": [
       "<Figure size 500x300 with 1 Axes>"
      ]
     },
     "metadata": {},
     "output_type": "display_data"
    }
   ],
   "source": [
    "import seaborn as sns\n",
    "import matplotlib.pyplot as plt\n",
    "\n",
    "# mask3=datos['provincia_ciudad']=='Buenos Aires Costa Atlántica'; mask4=datos['ciudad_barrio']=='Mar del Plata'; mask5=datos['property_type']=='apartment'\n",
    "# mask3=datos['provincia_ciudad']=='Bs.As. G.B.A. Zona Norte'; mask4=datos['ciudad_barrio']=='Tigre'; mask5=datos['property_type']=='house'\n",
    "# mask3=datos['provincia_ciudad']=='Bs.As. G.B.A. Zona Norte'; mask4=datos['ciudad_barrio']=='Tigre'; mask5=datos['property_type']=='apartment'\n",
    "# mask3=datos['provincia_ciudad']=='Bs.As. G.B.A. Zona Sur'; mask4=datos['ciudad_barrio']=='Lomas de Zamora'; mask5=datos['property_type']=='house'\n",
    "# mask3=datos['provincia_ciudad']=='Bs.As. G.B.A. Zona Norte'; mask4=datos['ciudad_barrio']=='Vicente López'; mask5=datos['property_type']=='apartment'\n",
    "# mask3=datos['provincia_ciudad']=='Bs.As. G.B.A. Zona Oeste'; mask4=datos['ciudad_barrio']=='La Matanza'; mask5=datos['property_type']=='apartment'\n",
    "# mask3=datos['provincia_ciudad']=='Capital Federal'; mask4=datos['ciudad_barrio']=='Palermo'; mask5=datos['property_type']=='apartment'\n",
    "# mask3=datos['provincia_ciudad']=='Bs.As. G.B.A. Zona Norte'; mask4=datos['ciudad_barrio']=='San Isidro'; mask5=datos['property_type']=='house'\n",
    "# mask3=datos['provincia_ciudad']=='Bs.As. G.B.A. Zona Sur'; mask4=datos['ciudad_barrio']=='La Plata'; mask5=datos['property_type']=='house'\n",
    "# mask3=datos['provincia_ciudad']=='Bs.As. G.B.A. Zona Sur'; mask4=datos['ciudad_barrio']=='Lomas de Zamora'; mask5=datos['property_type']=='apartment'\n",
    "# mask3=datos['provincia_ciudad']=='Bs.As. G.B.A. Zona Sur'; mask4=datos['ciudad_barrio']=='La Plata'; mask5=datos['property_type']=='apartment'\n",
    "# mask3=datos['provincia_ciudad']=='Bs.As. G.B.A. Zona Oeste'; mask4=datos['ciudad_barrio']=='Morón'; mask5=datos['property_type']=='apartment'\n",
    "# mask3=datos['provincia_ciudad']=='Bs.As. G.B.A. Zona Norte'; mask4=datos['ciudad_barrio']=='Escobar'; mask5=datos['property_type']=='house'\n",
    "# mask3=datos['provincia_ciudad']=='Bs.As. G.B.A. Zona Norte'; mask4=datos['ciudad_barrio']=='Vicente López'; mask5=datos['property_type']=='house'\n",
    "# mask3=datos['provincia_ciudad']=='Bs.As. G.B.A. Zona Norte'; mask4=datos['ciudad_barrio']=='Pilar'; mask5=datos['property_type']=='house'\n",
    "# mask3=datos['provincia_ciudad']=='Capital Federal'; mask4=datos['ciudad_barrio']=='Belgrano'; mask5=datos['property_type']=='apartment'\n",
    "# mask3=datos['provincia_ciudad']=='Córdoba'; mask4=datos['ciudad_barrio']=='Córdoba'; mask5=datos['property_type']=='house'\n",
    "mask3=datos['provincia_ciudad']=='Córdoba'; mask4=datos['ciudad_barrio']=='Córdoba'; mask5=datos['property_type']=='apartment'\n",
    "# mask3=datos['provincia_ciudad']=='Capital Federal'; mask4=datos['ciudad_barrio']=='Caballito'; mask5=datos['property_type']=='apartment'\n",
    "# mask3=datos['provincia_ciudad']=='Bs.As. G.B.A. Zona Sur'; mask4=datos['ciudad_barrio']=='Almirante Brown'; mask5=datos['property_type']=='house'\n",
    "# mask3=datos['provincia_ciudad']=='Santa Fe'; mask4=datos['ciudad_barrio']=='Rosario'; mask5=datos['property_type']=='apartment'\n",
    "\n",
    "mask6 = datos['price_usd_per_m2'] < 6000\n",
    "mask7 = datos['price_usd_per_m2'] > 500\n",
    "\n",
    "datos_grafico1 = datos[mask3 & mask4 & mask5 & mask6 & mask7]\n",
    "datos_grafico2 = datos[mask3 & mask4 & mask5]\n",
    "sns.set_style('whitegrid')\n",
    "plt.figure(figsize=(5,3))\n",
    "sns.histplot(data=datos_grafico1['price_usd_per_m2'], color='blue', bins=50)\n",
    "sns.histplot(data=datos_grafico2['usd_per_m2_2'], color= 'orange', bins=50)\n"
   ]
  }
 ],
 "metadata": {
  "kernelspec": {
   "display_name": "Python 3.8.13",
   "language": "python",
   "name": "python3"
  },
  "language_info": {
   "codemirror_mode": {
    "name": "ipython",
    "version": 3
   },
   "file_extension": ".py",
   "mimetype": "text/x-python",
   "name": "python",
   "nbconvert_exporter": "python",
   "pygments_lexer": "ipython3",
   "version": "3.8.13"
  },
  "orig_nbformat": 4,
  "vscode": {
   "interpreter": {
    "hash": "f9e79ae447073856e3736bf4211b085e64335ad9a1ea09b7a6c5b18129073b66"
   }
  }
 },
 "nbformat": 4,
 "nbformat_minor": 2
}
