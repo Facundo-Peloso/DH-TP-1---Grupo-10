{
 "cells": [
  {
   "cell_type": "code",
   "execution_count": 19,
   "metadata": {},
   "outputs": [],
   "source": [
    "# importamos las librerías necesarias para trabajar.\n",
    "# importamos las librerías necesarias para trabajar.\n",
    "import numpy as np\n",
    "import pandas as pd\n",
    "import matplotlib.pyplot as plt\n",
    "import seaborn as sns\n",
    "sns.set(style=\"darkgrid\")\n",
    "\n",
    "from sklearn.model_selection import train_test_split\n",
    "from sklearn.model_selection import GridSearchCV\n",
    "from sklearn import metrics\n",
    "pd.set_option(\"display.max_columns\", None)"
   ]
  },
  {
   "cell_type": "code",
   "execution_count": 20,
   "metadata": {},
   "outputs": [],
   "source": [
    "data = pd.read_csv(\"datos_TP3.csv\", index_col=0)\n",
    "data = data.sample(20000)\n"
   ]
  },
  {
   "cell_type": "code",
   "execution_count": 21,
   "metadata": {},
   "outputs": [
    {
     "data": {
      "text/plain": [
       "SORS             99.660\n",
       "Gate             99.360\n",
       "ContrastName     96.470\n",
       "Options          82.800\n",
       "Option           82.800\n",
       "NoWrap           45.225\n",
       "ScanMode          9.605\n",
       "Mode              9.605\n",
       "Gap               5.145\n",
       "Scan Comment      3.915\n",
       "Scan ID           0.005\n",
       "NAQ               0.000\n",
       "BW                0.000\n",
       "Fltr              0.000\n",
       "Study             0.000\n",
       "Coverages         0.000\n",
       "MTX               0.000\n",
       "FAT               0.000\n",
       "MTC               0.000\n",
       "Date              0.000\n",
       "Site_ID           0.000\n",
       "Dynamic           0.000\n",
       "NS                0.000\n",
       "FOV               0.000\n",
       "ST                0.000\n",
       "No                0.000\n",
       "FA                0.000\n",
       "TE                0.000\n",
       "TR                0.000\n",
       "Time              0.000\n",
       "Sequence          0.000\n",
       "Plane             0.000\n",
       "TxCoil            0.000\n",
       "RcCoil            0.000\n",
       "PatientOrient     0.000\n",
       "Anatomy           0.000\n",
       "Start             0.000\n",
       "Site Name         0.000\n",
       "dtype: float64"
      ]
     },
     "execution_count": 21,
     "metadata": {},
     "output_type": "execute_result"
    }
   ],
   "source": [
    "data.isna().sum().sort_values(ascending=False)/data.shape[0]*100"
   ]
  },
  {
   "cell_type": "code",
   "execution_count": 22,
   "metadata": {},
   "outputs": [
    {
     "data": {
      "text/plain": [
       "Head         24.410\n",
       "TL-Spine     18.960\n",
       "Extremity    18.410\n",
       "Abdomen      10.960\n",
       "Shoulder      7.270\n",
       "Pelvis        7.140\n",
       "C-Spine       6.990\n",
       "Ankle         2.310\n",
       "Chest         2.135\n",
       "Hand          1.390\n",
       "???           0.025\n",
       "Name: Anatomy, dtype: float64"
      ]
     },
     "execution_count": 22,
     "metadata": {},
     "output_type": "execute_result"
    }
   ],
   "source": [
    "data.Anatomy.value_counts(normalize=True)*100\n"
   ]
  },
  {
   "cell_type": "code",
   "execution_count": 23,
   "metadata": {},
   "outputs": [
    {
     "data": {
      "text/html": [
       "<div>\n",
       "<style scoped>\n",
       "    .dataframe tbody tr th:only-of-type {\n",
       "        vertical-align: middle;\n",
       "    }\n",
       "\n",
       "    .dataframe tbody tr th {\n",
       "        vertical-align: top;\n",
       "    }\n",
       "\n",
       "    .dataframe thead th {\n",
       "        text-align: right;\n",
       "    }\n",
       "</style>\n",
       "<table border=\"1\" class=\"dataframe\">\n",
       "  <thead>\n",
       "    <tr style=\"text-align: right;\">\n",
       "      <th></th>\n",
       "      <th>Study</th>\n",
       "      <th>No</th>\n",
       "      <th>Start</th>\n",
       "      <th>Scan ID</th>\n",
       "      <th>Mode</th>\n",
       "      <th>Scan Comment</th>\n",
       "      <th>Anatomy</th>\n",
       "      <th>PatientOrient</th>\n",
       "      <th>RcCoil</th>\n",
       "      <th>TxCoil</th>\n",
       "      <th>ContrastName</th>\n",
       "      <th>Plane</th>\n",
       "      <th>Sequence</th>\n",
       "      <th>Option</th>\n",
       "      <th>ScanMode</th>\n",
       "      <th>Time</th>\n",
       "      <th>TR</th>\n",
       "      <th>TE</th>\n",
       "      <th>FA</th>\n",
       "      <th>NS</th>\n",
       "      <th>ST</th>\n",
       "      <th>Gap</th>\n",
       "      <th>FOV</th>\n",
       "      <th>MTX</th>\n",
       "      <th>NAQ</th>\n",
       "      <th>BW</th>\n",
       "      <th>NoWrap</th>\n",
       "      <th>Options</th>\n",
       "      <th>Fltr</th>\n",
       "      <th>Gate</th>\n",
       "      <th>Coverages</th>\n",
       "      <th>Dynamic</th>\n",
       "      <th>SORS</th>\n",
       "      <th>FAT</th>\n",
       "      <th>MTC</th>\n",
       "      <th>Date</th>\n",
       "      <th>Site_ID</th>\n",
       "      <th>Site Name</th>\n",
       "    </tr>\n",
       "  </thead>\n",
       "  <tbody>\n",
       "    <tr>\n",
       "      <th>32700</th>\n",
       "      <td>10296.8723</td>\n",
       "      <td>1</td>\n",
       "      <td>17:11</td>\n",
       "      <td>AX DWI S(B)</td>\n",
       "      <td>(A)</td>\n",
       "      <td>AX DWI S(B)</td>\n",
       "      <td>Head</td>\n",
       "      <td>H:S</td>\n",
       "      <td>OHD-A</td>\n",
       "      <td>WB</td>\n",
       "      <td>NaN</td>\n",
       "      <td>Oth:Oth</td>\n",
       "      <td>SEEPI2D+0.96</td>\n",
       "      <td>NaN</td>\n",
       "      <td>(A)</td>\n",
       "      <td>00:22</td>\n",
       "      <td>3574</td>\n",
       "      <td>96/+0(1)</td>\n",
       "      <td>90/180</td>\n",
       "      <td>23</td>\n",
       "      <td>5.0</td>\n",
       "      <td>1.0</td>\n",
       "      <td>23.0</td>\n",
       "      <td>144</td>\n",
       "      <td>1.0</td>\n",
       "      <td>1302</td>\n",
       "      <td>NaN</td>\n",
       "      <td>NaN</td>\n",
       "      <td>NL2</td>\n",
       "      <td>NaN</td>\n",
       "      <td>1</td>\n",
       "      <td>OFF</td>\n",
       "      <td>NaN</td>\n",
       "      <td>ON</td>\n",
       "      <td>OFF</td>\n",
       "      <td>2022-10-12</td>\n",
       "      <td>8629</td>\n",
       "      <td>Sanatorio Franchin</td>\n",
       "    </tr>\n",
       "    <tr>\n",
       "      <th>113347</th>\n",
       "      <td>40610.8380</td>\n",
       "      <td>3</td>\n",
       "      <td>02:07</td>\n",
       "      <td>SG PDWI FatSAT</td>\n",
       "      <td>(A)</td>\n",
       "      <td>SG PDWI IZQUIERDA</td>\n",
       "      <td>Extremity</td>\n",
       "      <td>F:S</td>\n",
       "      <td>0x47410069</td>\n",
       "      <td>WB</td>\n",
       "      <td>NaN</td>\n",
       "      <td>Oth:Oth</td>\n",
       "      <td>FSE2D+15</td>\n",
       "      <td>NaN</td>\n",
       "      <td>(A)</td>\n",
       "      <td>03:27</td>\n",
       "      <td>4403</td>\n",
       "      <td>30</td>\n",
       "      <td>90/180</td>\n",
       "      <td>24</td>\n",
       "      <td>3.5</td>\n",
       "      <td>0.8</td>\n",
       "      <td>16.0</td>\n",
       "      <td>224 x 320</td>\n",
       "      <td>1.0</td>\n",
       "      <td>122</td>\n",
       "      <td>PE</td>\n",
       "      <td>NaN</td>\n",
       "      <td>GA54</td>\n",
       "      <td>NaN</td>\n",
       "      <td>1</td>\n",
       "      <td>OFF</td>\n",
       "      <td>NaN</td>\n",
       "      <td>ON</td>\n",
       "      <td>OFF</td>\n",
       "      <td>2022-08-07</td>\n",
       "      <td>8633</td>\n",
       "      <td>Sanatorio Juncal</td>\n",
       "    </tr>\n",
       "    <tr>\n",
       "      <th>50345</th>\n",
       "      <td>40286.8113</td>\n",
       "      <td>7</td>\n",
       "      <td>16:39</td>\n",
       "      <td>T1WI</td>\n",
       "      <td>(A)</td>\n",
       "      <td>AX T1WI</td>\n",
       "      <td>Pelvis</td>\n",
       "      <td>F:S</td>\n",
       "      <td>BODY</td>\n",
       "      <td>WB</td>\n",
       "      <td>NaN</td>\n",
       "      <td>Oth:AXp</td>\n",
       "      <td>FSE2D+7.5</td>\n",
       "      <td>NaN</td>\n",
       "      <td>(A)</td>\n",
       "      <td>02:28</td>\n",
       "      <td>750</td>\n",
       "      <td>22.5</td>\n",
       "      <td>90/160</td>\n",
       "      <td>30</td>\n",
       "      <td>5.0</td>\n",
       "      <td>1.0</td>\n",
       "      <td>35.0 x 27.0</td>\n",
       "      <td>256 x 352</td>\n",
       "      <td>1.0</td>\n",
       "      <td>326</td>\n",
       "      <td>PE</td>\n",
       "      <td>NaN</td>\n",
       "      <td>GA42</td>\n",
       "      <td>NaN</td>\n",
       "      <td>2</td>\n",
       "      <td>OFF</td>\n",
       "      <td>NaN</td>\n",
       "      <td>OFF</td>\n",
       "      <td>OFF</td>\n",
       "      <td>2022-09-22</td>\n",
       "      <td>8630</td>\n",
       "      <td>Clinica Pequeña Familia</td>\n",
       "    </tr>\n",
       "    <tr>\n",
       "      <th>120024</th>\n",
       "      <td>41195.8380</td>\n",
       "      <td>0</td>\n",
       "      <td>03:04</td>\n",
       "      <td>MAP</td>\n",
       "      <td>(A)</td>\n",
       "      <td>iMAP</td>\n",
       "      <td>Extremity</td>\n",
       "      <td>F:S</td>\n",
       "      <td>0x47410069</td>\n",
       "      <td>WB</td>\n",
       "      <td>NaN</td>\n",
       "      <td>AX:AP</td>\n",
       "      <td>FE_map</td>\n",
       "      <td>MAP</td>\n",
       "      <td>(A)</td>\n",
       "      <td>00:25</td>\n",
       "      <td>185</td>\n",
       "      <td>4</td>\n",
       "      <td>20</td>\n",
       "      <td>23</td>\n",
       "      <td>6.0</td>\n",
       "      <td>4.5</td>\n",
       "      <td>26.3 x 25.6</td>\n",
       "      <td>64</td>\n",
       "      <td>1.0</td>\n",
       "      <td>488</td>\n",
       "      <td>RO</td>\n",
       "      <td>MAP</td>\n",
       "      <td>L1</td>\n",
       "      <td>NaN</td>\n",
       "      <td>1</td>\n",
       "      <td>OFF</td>\n",
       "      <td>NaN</td>\n",
       "      <td>OFF</td>\n",
       "      <td>OFF</td>\n",
       "      <td>2022-08-26</td>\n",
       "      <td>8633</td>\n",
       "      <td>Sanatorio Juncal</td>\n",
       "    </tr>\n",
       "    <tr>\n",
       "      <th>13113</th>\n",
       "      <td>35456.8268</td>\n",
       "      <td>4</td>\n",
       "      <td>16:45</td>\n",
       "      <td>DCH PD FatSAT</td>\n",
       "      <td>(A)</td>\n",
       "      <td>AX PD FatSAT</td>\n",
       "      <td>Extremity</td>\n",
       "      <td>F:S</td>\n",
       "      <td>8KNEE</td>\n",
       "      <td>WB</td>\n",
       "      <td>NaN</td>\n",
       "      <td>Oth:Oth</td>\n",
       "      <td>FSE2D+12</td>\n",
       "      <td>NaN</td>\n",
       "      <td>(A)</td>\n",
       "      <td>03:30</td>\n",
       "      <td>2000</td>\n",
       "      <td>24</td>\n",
       "      <td>90/180</td>\n",
       "      <td>22</td>\n",
       "      <td>3.5</td>\n",
       "      <td>0.7</td>\n",
       "      <td>15.0</td>\n",
       "      <td>256 x 304</td>\n",
       "      <td>2.0</td>\n",
       "      <td>217</td>\n",
       "      <td>NaN</td>\n",
       "      <td>NaN</td>\n",
       "      <td>GA54</td>\n",
       "      <td>NaN</td>\n",
       "      <td>1</td>\n",
       "      <td>OFF</td>\n",
       "      <td>NaN</td>\n",
       "      <td>ON</td>\n",
       "      <td>OFF</td>\n",
       "      <td>2022-10-18</td>\n",
       "      <td>8268</td>\n",
       "      <td>Clínica Modelo de Morón</td>\n",
       "    </tr>\n",
       "  </tbody>\n",
       "</table>\n",
       "</div>"
      ],
      "text/plain": [
       "             Study  No  Start         Scan ID Mode       Scan Comment  \\\n",
       "32700   10296.8723   1  17:11     AX DWI S(B)  (A)        AX DWI S(B)   \n",
       "113347  40610.8380   3  02:07  SG PDWI FatSAT  (A)  SG PDWI IZQUIERDA   \n",
       "50345   40286.8113   7  16:39            T1WI  (A)            AX T1WI   \n",
       "120024  41195.8380   0  03:04             MAP  (A)               iMAP   \n",
       "13113   35456.8268   4  16:45   DCH PD FatSAT  (A)       AX PD FatSAT   \n",
       "\n",
       "          Anatomy PatientOrient      RcCoil TxCoil ContrastName    Plane  \\\n",
       "32700        Head           H:S       OHD-A     WB          NaN  Oth:Oth   \n",
       "113347  Extremity           F:S  0x47410069     WB          NaN  Oth:Oth   \n",
       "50345      Pelvis           F:S        BODY     WB          NaN  Oth:AXp   \n",
       "120024  Extremity           F:S  0x47410069     WB          NaN    AX:AP   \n",
       "13113   Extremity           F:S       8KNEE     WB          NaN  Oth:Oth   \n",
       "\n",
       "            Sequence Option ScanMode   Time    TR        TE      FA  NS   ST  \\\n",
       "32700   SEEPI2D+0.96    NaN      (A)  00:22  3574  96/+0(1)  90/180  23  5.0   \n",
       "113347      FSE2D+15    NaN      (A)  03:27  4403        30  90/180  24  3.5   \n",
       "50345      FSE2D+7.5    NaN      (A)  02:28   750      22.5  90/160  30  5.0   \n",
       "120024        FE_map    MAP      (A)  00:25   185         4      20  23  6.0   \n",
       "13113       FSE2D+12    NaN      (A)  03:30  2000        24  90/180  22  3.5   \n",
       "\n",
       "        Gap          FOV        MTX  NAQ    BW NoWrap Options  Fltr Gate  \\\n",
       "32700   1.0         23.0        144  1.0  1302    NaN     NaN   NL2  NaN   \n",
       "113347  0.8         16.0  224 x 320  1.0   122     PE     NaN  GA54  NaN   \n",
       "50345   1.0  35.0 x 27.0  256 x 352  1.0   326     PE     NaN  GA42  NaN   \n",
       "120024  4.5  26.3 x 25.6         64  1.0   488     RO     MAP    L1  NaN   \n",
       "13113   0.7         15.0  256 x 304  2.0   217    NaN     NaN  GA54  NaN   \n",
       "\n",
       "        Coverages Dynamic SORS  FAT  MTC        Date  Site_ID  \\\n",
       "32700           1     OFF  NaN   ON  OFF  2022-10-12     8629   \n",
       "113347          1     OFF  NaN   ON  OFF  2022-08-07     8633   \n",
       "50345           2     OFF  NaN  OFF  OFF  2022-09-22     8630   \n",
       "120024          1     OFF  NaN  OFF  OFF  2022-08-26     8633   \n",
       "13113           1     OFF  NaN   ON  OFF  2022-10-18     8268   \n",
       "\n",
       "                      Site Name  \n",
       "32700        Sanatorio Franchin  \n",
       "113347         Sanatorio Juncal  \n",
       "50345   Clinica Pequeña Familia  \n",
       "120024         Sanatorio Juncal  \n",
       "13113   Clínica Modelo de Morón  "
      ]
     },
     "execution_count": 23,
     "metadata": {},
     "output_type": "execute_result"
    }
   ],
   "source": [
    "data.head()"
   ]
  },
  {
   "attachments": {},
   "cell_type": "markdown",
   "metadata": {},
   "source": [
    "# Pre - Procesamiento"
   ]
  },
  {
   "cell_type": "code",
   "execution_count": 24,
   "metadata": {},
   "outputs": [],
   "source": [
    "# Drop Columnas redundantes y que tienen gran cantidad de Nans\n",
    "data.drop(columns=[\"SORS\", \"Gate\", \"ContrastName\", \"Options\", \"Option\", \"NoWrap\", \"Site_ID\", \"Date\"], inplace=True)"
   ]
  },
  {
   "cell_type": "code",
   "execution_count": 25,
   "metadata": {},
   "outputs": [],
   "source": [
    "# Drop filas con Nans restantes\n",
    "data.dropna(axis=0, inplace=True)"
   ]
  },
  {
   "cell_type": "code",
   "execution_count": 26,
   "metadata": {},
   "outputs": [],
   "source": [
    "# Elimino las filas con target \"???\"\"\n",
    "data = data[data['Anatomy'] != \"???\"]"
   ]
  },
  {
   "cell_type": "code",
   "execution_count": 27,
   "metadata": {},
   "outputs": [
    {
     "data": {
      "text/plain": [
       "Head         25.408609\n",
       "TL-Spine     19.541400\n",
       "Extremity    18.643357\n",
       "Abdomen      10.327486\n",
       "Shoulder      7.064599\n",
       "Pelvis        7.058612\n",
       "C-Spine       6.855056\n",
       "Ankle         2.406753\n",
       "Hand          1.388972\n",
       "Chest         1.305155\n",
       "Name: Anatomy, dtype: float64"
      ]
     },
     "execution_count": 27,
     "metadata": {},
     "output_type": "execute_result"
    }
   ],
   "source": [
    "data.Anatomy.value_counts(normalize=True)*100"
   ]
  },
  {
   "attachments": {},
   "cell_type": "markdown",
   "metadata": {},
   "source": [
    "# Modelos"
   ]
  },
  {
   "cell_type": "code",
   "execution_count": 28,
   "metadata": {},
   "outputs": [],
   "source": [
    "# Dividimos\n",
    "\n",
    "X = data.drop(columns=\"Anatomy\")\n",
    "y = data.Anatomy"
   ]
  },
  {
   "cell_type": "code",
   "execution_count": 29,
   "metadata": {},
   "outputs": [],
   "source": [
    "categorical = X.select_dtypes(\"object\").columns"
   ]
  },
  {
   "cell_type": "code",
   "execution_count": 30,
   "metadata": {},
   "outputs": [],
   "source": [
    "#Train y split\n",
    "\n",
    "X_train, X_test, y_train, y_test = train_test_split(X, y, test_size=0.2, random_state=1, stratify=y)"
   ]
  },
  {
   "cell_type": "code",
   "execution_count": 31,
   "metadata": {},
   "outputs": [],
   "source": [
    "# Creo Dummies\n",
    "\n",
    "from sklearn.preprocessing import OneHotEncoder\n",
    "\n",
    "onehot = OneHotEncoder(handle_unknown='ignore')\n",
    "\n",
    "# Aplicamos OneHotEncoder al conjunto de entrenamiento\n",
    "X_train = onehot.fit_transform(X_train)\n",
    "\n",
    "# Aplicamos OneHotEncoder al conjunto de prueba\n",
    "X_test = onehot.transform(X_test)\n"
   ]
  },
  {
   "cell_type": "code",
   "execution_count": 32,
   "metadata": {},
   "outputs": [],
   "source": [
    "# Scalar\n",
    "from sklearn import preprocessing\n",
    "\n",
    "scaler = preprocessing.StandardScaler(with_mean=False)\n",
    "X_train_scaled = scaler.fit_transform(X_train)\n",
    "X_test_scaled = scaler.transform(X_test)"
   ]
  },
  {
   "attachments": {},
   "cell_type": "markdown",
   "metadata": {},
   "source": [
    "# SCORES"
   ]
  },
  {
   "cell_type": "code",
   "execution_count": 33,
   "metadata": {},
   "outputs": [],
   "source": [
    "# Funcion para Scores\n",
    "\n",
    "resultados_fin = pd.DataFrame()\n",
    "\n",
    "def evaluacion(y_test, y_pred, model=\"\"):\n",
    "    # Crear diccionario para almacenar los resultados\n",
    "    resultados = {}\n",
    "\n",
    "      # Calcular sensibilidad\n",
    "    sensibilidad = metrics.recall_score(y_test, y_pred, average='macro')\n",
    "    resultados['Sensibilidad'] = sensibilidad\n",
    "\n",
    "    # Calcular accuracy\n",
    "    accuracy = metrics.accuracy_score(y_test, y_pred)\n",
    "    resultados['Accuracy'] = accuracy\n",
    "\n",
    "    # Calcular precision\n",
    "    precision = metrics.precision_score(y_test, y_pred, average='macro')\n",
    "    resultados['Precision'] = precision\n",
    "\n",
    "    # Graficar matrix de confusion con heatmap\n",
    "    cm = metrics.confusion_matrix(y_test, y_pred)\n",
    "    sns.heatmap(cm, annot=True, fmt=\"d\", xticklabels=np.unique(y_test).tolist(), yticklabels=np.unique(y_pred).tolist())\n",
    "    plt.title('Matrix de Confusion')\n",
    "    plt.ylabel('Valor Real')\n",
    "    plt.xlabel('Valor Predicho')\n",
    "    plt.show()\n",
    "\n",
    "    resultado_df = pd.DataFrame.from_dict(resultados, orient='index', columns=[model])\n",
    "    resultados_fin[model] = resultado_df \n",
    "    return resultados_fin\n"
   ]
  },
  {
   "attachments": {},
   "cell_type": "markdown",
   "metadata": {},
   "source": [
    "# MODELOS\n"
   ]
  },
  {
   "attachments": {},
   "cell_type": "markdown",
   "metadata": {},
   "source": [
    "## Logistic Regression\n"
   ]
  },
  {
   "cell_type": "code",
   "execution_count": 34,
   "metadata": {},
   "outputs": [
    {
     "name": "stderr",
     "output_type": "stream",
     "text": [
      "c:\\Users\\jpans\\anaconda3\\lib\\site-packages\\sklearn\\linear_model\\_logistic.py:444: ConvergenceWarning: lbfgs failed to converge (status=1):\n",
      "STOP: TOTAL NO. of ITERATIONS REACHED LIMIT.\n",
      "\n",
      "Increase the number of iterations (max_iter) or scale the data as shown in:\n",
      "    https://scikit-learn.org/stable/modules/preprocessing.html\n",
      "Please also refer to the documentation for alternative solver options:\n",
      "    https://scikit-learn.org/stable/modules/linear_model.html#logistic-regression\n",
      "  n_iter_i = _check_optimize_result(\n"
     ]
    }
   ],
   "source": [
    "from sklearn.linear_model import LogisticRegression\n",
    "\n",
    "lr = LogisticRegression()\n",
    "\n",
    "lr.fit(X_train_scaled, y_train)\n",
    "\n",
    "ypred_lr = lr.predict(X_test_scaled)\n"
   ]
  },
  {
   "cell_type": "code",
   "execution_count": 35,
   "metadata": {},
   "outputs": [
    {
     "data": {
      "image/png": "[encoded data removed]",
      "text/plain": [
       "<Figure size 640x480 with 2 Axes>"
      ]
     },
     "metadata": {},
     "output_type": "display_data"
    },
    {
     "data": {
      "text/html": [
       "<div>\n",
       "<style scoped>\n",
       "    .dataframe tbody tr th:only-of-type {\n",
       "        vertical-align: middle;\n",
       "    }\n",
       "\n",
       "    .dataframe tbody tr th {\n",
       "        vertical-align: top;\n",
       "    }\n",
       "\n",
       "    .dataframe thead th {\n",
       "        text-align: right;\n",
       "    }\n",
       "</style>\n",
       "<table border=\"1\" class=\"dataframe\">\n",
       "  <thead>\n",
       "    <tr style=\"text-align: right;\">\n",
       "      <th></th>\n",
       "      <th>Logistic_Regression</th>\n",
       "    </tr>\n",
       "  </thead>\n",
       "  <tbody>\n",
       "    <tr>\n",
       "      <th>Sensibilidad</th>\n",
       "      <td>0.926134</td>\n",
       "    </tr>\n",
       "    <tr>\n",
       "      <th>Accuracy</th>\n",
       "      <td>0.959892</td>\n",
       "    </tr>\n",
       "    <tr>\n",
       "      <th>Precision</th>\n",
       "      <td>0.957200</td>\n",
       "    </tr>\n",
       "  </tbody>\n",
       "</table>\n",
       "</div>"
      ],
      "text/plain": [
       "              Logistic_Regression\n",
       "Sensibilidad             0.926134\n",
       "Accuracy                 0.959892\n",
       "Precision                0.957200"
      ]
     },
     "execution_count": 35,
     "metadata": {},
     "output_type": "execute_result"
    }
   ],
   "source": [
    "evaluacion(y_test, ypred_lr, model=\"Logistic_Regression\")"
   ]
  },
  {
   "attachments": {},
   "cell_type": "markdown",
   "metadata": {},
   "source": [
    "## Naive Bayes"
   ]
  },
  {
   "cell_type": "code",
   "execution_count": 36,
   "metadata": {},
   "outputs": [
    {
     "data": {
      "image/png": "[encoded data removed]",
      "text/plain": [
       "<Figure size 640x480 with 2 Axes>"
      ]
     },
     "metadata": {},
     "output_type": "display_data"
    },
    {
     "data": {
      "text/html": [
       "<div>\n",
       "<style scoped>\n",
       "    .dataframe tbody tr th:only-of-type {\n",
       "        vertical-align: middle;\n",
       "    }\n",
       "\n",
       "    .dataframe tbody tr th {\n",
       "        vertical-align: top;\n",
       "    }\n",
       "\n",
       "    .dataframe thead th {\n",
       "        text-align: right;\n",
       "    }\n",
       "</style>\n",
       "<table border=\"1\" class=\"dataframe\">\n",
       "  <thead>\n",
       "    <tr style=\"text-align: right;\">\n",
       "      <th></th>\n",
       "      <th>Logistic_Regression</th>\n",
       "      <th>Naive_Bayes</th>\n",
       "    </tr>\n",
       "  </thead>\n",
       "  <tbody>\n",
       "    <tr>\n",
       "      <th>Sensibilidad</th>\n",
       "      <td>0.926134</td>\n",
       "      <td>0.824749</td>\n",
       "    </tr>\n",
       "    <tr>\n",
       "      <th>Accuracy</th>\n",
       "      <td>0.959892</td>\n",
       "      <td>0.847351</td>\n",
       "    </tr>\n",
       "    <tr>\n",
       "      <th>Precision</th>\n",
       "      <td>0.957200</td>\n",
       "      <td>0.832393</td>\n",
       "    </tr>\n",
       "  </tbody>\n",
       "</table>\n",
       "</div>"
      ],
      "text/plain": [
       "              Logistic_Regression  Naive_Bayes\n",
       "Sensibilidad             0.926134     0.824749\n",
       "Accuracy                 0.959892     0.847351\n",
       "Precision                0.957200     0.832393"
      ]
     },
     "execution_count": 36,
     "metadata": {},
     "output_type": "execute_result"
    }
   ],
   "source": [
    "from sklearn.naive_bayes import GaussianNB\n",
    "\n",
    "gnb = GaussianNB()\n",
    "\n",
    "gnb.fit(X_train_scaled.toarray(), y_train)\n",
    "\n",
    "ypred_gnb = gnb.predict(X_test_scaled.toarray())\n",
    "evaluacion(y_test, ypred_gnb, model=\"Naive_Bayes\")"
   ]
  },
  {
   "attachments": {},
   "cell_type": "markdown",
   "metadata": {},
   "source": [
    "## KNN"
   ]
  },
  {
   "cell_type": "code",
   "execution_count": 37,
   "metadata": {},
   "outputs": [
    {
     "name": "stdout",
     "output_type": "stream",
     "text": [
      "Fitting 5 folds for each of 14 candidates, totalling 70 fits\n"
     ]
    }
   ],
   "source": [
    "from sklearn.neighbors import KNeighborsClassifier\n",
    "\n",
    "knn = KNeighborsClassifier()\n",
    "\n",
    "# Hyperparametros\n",
    "parameters_knn = {\"n_neighbors\" : list(range(1, 15))}\n",
    "\n",
    "clf_knn = GridSearchCV(knn, \n",
    "                   param_grid = parameters_knn, \n",
    "                   refit = True, \n",
    "                   cv = 5,\n",
    "                   verbose=1,\n",
    "                   n_jobs = -1) \n",
    "                   \n",
    "\n",
    "# Fit el modelo ya seleccionado\n",
    "clf_knn.fit(X_train_scaled, y_train)"
   ]
  },
  {
   "cell_type": "code",
   "execution_count": null,
   "metadata": {},
   "outputs": [],
   "source": [
    "print(\"Los mejores parametros fueron %s con un score de %0.2f\" % (clf_knn.best_params_, clf_knn.best_score_))"
   ]
  },
  {
   "cell_type": "code",
   "execution_count": null,
   "metadata": {},
   "outputs": [],
   "source": [
    "ypred_knn = clf_knn.predict(X_test_scaled)"
   ]
  },
  {
   "cell_type": "code",
   "execution_count": null,
   "metadata": {},
   "outputs": [],
   "source": [
    "evaluacion(y_test, ypred_knn, model=\"KNN\")"
   ]
  }
 ],
 "metadata": {
  "kernelspec": {
   "display_name": "base",
   "language": "python",
   "name": "python3"
  },
  "language_info": {
   "codemirror_mode": {
    "name": "ipython",
    "version": 3
   },
   "file_extension": ".py",
   "mimetype": "text/x-python",
   "name": "python",
   "nbconvert_exporter": "python",
   "pygments_lexer": "ipython3",
   "version": "3.9.13"
  },
  "orig_nbformat": 4,
  "vscode": {
   "interpreter": {
    "hash": "0fea7c763fa03a4586faad3f4ad293e670c7522e19564e229c56da0cdf1eea0a"
   }
  }
 },
 "nbformat": 4,
 "nbformat_minor": 2
}
