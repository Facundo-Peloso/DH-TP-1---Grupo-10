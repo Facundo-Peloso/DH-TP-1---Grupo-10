{
 "cells": [
  {
   "cell_type": "markdown",
   "metadata": {},
   "source": [
    "# Borrador Facundo "
   ]
  },
  {
   "cell_type": "code",
   "execution_count": 1,
   "metadata": {},
   "outputs": [],
   "source": [
    "#Importacion de librerias/módulos\n",
    "import pandas as pd\n",
    "import numpy as np\n",
    "import seaborn as sns\n",
    "import matplotlib.pyplot as plt"
   ]
  },
  {
   "cell_type": "code",
   "execution_count": 2,
   "metadata": {},
   "outputs": [
    {
     "data": {
      "text/html": [
       "<div>\n",
       "<style scoped>\n",
       "    .dataframe tbody tr th:only-of-type {\n",
       "        vertical-align: middle;\n",
       "    }\n",
       "\n",
       "    .dataframe tbody tr th {\n",
       "        vertical-align: top;\n",
       "    }\n",
       "\n",
       "    .dataframe thead th {\n",
       "        text-align: right;\n",
       "    }\n",
       "</style>\n",
       "<table border=\"1\" class=\"dataframe\">\n",
       "  <thead>\n",
       "    <tr style=\"text-align: right;\">\n",
       "      <th></th>\n",
       "      <th>Unnamed: 0</th>\n",
       "      <th>operation</th>\n",
       "      <th>property_type</th>\n",
       "      <th>place_name</th>\n",
       "      <th>place_with_parent_names</th>\n",
       "      <th>country_name</th>\n",
       "      <th>state_name</th>\n",
       "      <th>geonames_id</th>\n",
       "      <th>lat-lon</th>\n",
       "      <th>lat</th>\n",
       "      <th>...</th>\n",
       "      <th>surface_covered_in_m2</th>\n",
       "      <th>price_usd_per_m2</th>\n",
       "      <th>price_per_m2</th>\n",
       "      <th>floor</th>\n",
       "      <th>rooms</th>\n",
       "      <th>expenses</th>\n",
       "      <th>properati_url</th>\n",
       "      <th>description</th>\n",
       "      <th>title</th>\n",
       "      <th>image_thumbnail</th>\n",
       "    </tr>\n",
       "  </thead>\n",
       "  <tbody>\n",
       "    <tr>\n",
       "      <th>0</th>\n",
       "      <td>0</td>\n",
       "      <td>sell</td>\n",
       "      <td>PH</td>\n",
       "      <td>Mataderos</td>\n",
       "      <td>|Argentina|Capital Federal|Mataderos|</td>\n",
       "      <td>Argentina</td>\n",
       "      <td>Capital Federal</td>\n",
       "      <td>3430787.0</td>\n",
       "      <td>-34.6618237,-58.5088387</td>\n",
       "      <td>-34.661824</td>\n",
       "      <td>...</td>\n",
       "      <td>40.0</td>\n",
       "      <td>1127.272727</td>\n",
       "      <td>1550.000000</td>\n",
       "      <td>NaN</td>\n",
       "      <td>NaN</td>\n",
       "      <td>NaN</td>\n",
       "      <td>http://www.properati.com.ar/15bo8_venta_ph_mat...</td>\n",
       "      <td>2 AMBIENTES TIPO CASA PLANTA BAJA POR PASILLO,...</td>\n",
       "      <td>2 AMB TIPO CASA SIN EXPENSAS EN PB</td>\n",
       "      <td>https://thumbs4.properati.com/8/BluUYiHJLhgIIK...</td>\n",
       "    </tr>\n",
       "    <tr>\n",
       "      <th>1</th>\n",
       "      <td>1</td>\n",
       "      <td>sell</td>\n",
       "      <td>apartment</td>\n",
       "      <td>La Plata</td>\n",
       "      <td>|Argentina|Bs.As. G.B.A. Zona Sur|La Plata|</td>\n",
       "      <td>Argentina</td>\n",
       "      <td>Bs.As. G.B.A. Zona Sur</td>\n",
       "      <td>3432039.0</td>\n",
       "      <td>-34.9038831,-57.9643295</td>\n",
       "      <td>-34.903883</td>\n",
       "      <td>...</td>\n",
       "      <td>NaN</td>\n",
       "      <td>NaN</td>\n",
       "      <td>NaN</td>\n",
       "      <td>NaN</td>\n",
       "      <td>NaN</td>\n",
       "      <td>NaN</td>\n",
       "      <td>http://www.properati.com.ar/15bob_venta_depart...</td>\n",
       "      <td>Venta de departamento en décimo piso al frente...</td>\n",
       "      <td>VENTA Depto 2 dorm. a estrenar 7 e/ 36 y 37   ...</td>\n",
       "      <td>https://thumbs4.properati.com/7/ikpVBu2ztHA7jv...</td>\n",
       "    </tr>\n",
       "    <tr>\n",
       "      <th>2</th>\n",
       "      <td>2</td>\n",
       "      <td>sell</td>\n",
       "      <td>apartment</td>\n",
       "      <td>Mataderos</td>\n",
       "      <td>|Argentina|Capital Federal|Mataderos|</td>\n",
       "      <td>Argentina</td>\n",
       "      <td>Capital Federal</td>\n",
       "      <td>3430787.0</td>\n",
       "      <td>-34.6522615,-58.5229825</td>\n",
       "      <td>-34.652262</td>\n",
       "      <td>...</td>\n",
       "      <td>55.0</td>\n",
       "      <td>1309.090909</td>\n",
       "      <td>1309.090909</td>\n",
       "      <td>NaN</td>\n",
       "      <td>NaN</td>\n",
       "      <td>NaN</td>\n",
       "      <td>http://www.properati.com.ar/15bod_venta_depart...</td>\n",
       "      <td>2 AMBIENTES 3ER PISO LATERAL LIVING COMEDOR AM...</td>\n",
       "      <td>2 AMB 3ER PISO CON ASCENSOR APTO CREDITO</td>\n",
       "      <td>https://thumbs4.properati.com/5/SXKr34F_IwG3W_...</td>\n",
       "    </tr>\n",
       "  </tbody>\n",
       "</table>\n",
       "<p>3 rows × 26 columns</p>\n",
       "</div>"
      ],
      "text/plain": [
       "   Unnamed: 0 operation property_type place_name  \\\n",
       "0           0      sell            PH  Mataderos   \n",
       "1           1      sell     apartment   La Plata   \n",
       "2           2      sell     apartment  Mataderos   \n",
       "\n",
       "                       place_with_parent_names country_name  \\\n",
       "0        |Argentina|Capital Federal|Mataderos|    Argentina   \n",
       "1  |Argentina|Bs.As. G.B.A. Zona Sur|La Plata|    Argentina   \n",
       "2        |Argentina|Capital Federal|Mataderos|    Argentina   \n",
       "\n",
       "               state_name  geonames_id                  lat-lon        lat  \\\n",
       "0         Capital Federal    3430787.0  -34.6618237,-58.5088387 -34.661824   \n",
       "1  Bs.As. G.B.A. Zona Sur    3432039.0  -34.9038831,-57.9643295 -34.903883   \n",
       "2         Capital Federal    3430787.0  -34.6522615,-58.5229825 -34.652262   \n",
       "\n",
       "   ...  surface_covered_in_m2  price_usd_per_m2 price_per_m2  floor  rooms  \\\n",
       "0  ...                   40.0       1127.272727  1550.000000    NaN    NaN   \n",
       "1  ...                    NaN               NaN          NaN    NaN    NaN   \n",
       "2  ...                   55.0       1309.090909  1309.090909    NaN    NaN   \n",
       "\n",
       "   expenses                                      properati_url  \\\n",
       "0       NaN  http://www.properati.com.ar/15bo8_venta_ph_mat...   \n",
       "1       NaN  http://www.properati.com.ar/15bob_venta_depart...   \n",
       "2       NaN  http://www.properati.com.ar/15bod_venta_depart...   \n",
       "\n",
       "                                         description  \\\n",
       "0  2 AMBIENTES TIPO CASA PLANTA BAJA POR PASILLO,...   \n",
       "1  Venta de departamento en décimo piso al frente...   \n",
       "2  2 AMBIENTES 3ER PISO LATERAL LIVING COMEDOR AM...   \n",
       "\n",
       "                                               title  \\\n",
       "0                 2 AMB TIPO CASA SIN EXPENSAS EN PB   \n",
       "1  VENTA Depto 2 dorm. a estrenar 7 e/ 36 y 37   ...   \n",
       "2           2 AMB 3ER PISO CON ASCENSOR APTO CREDITO   \n",
       "\n",
       "                                     image_thumbnail  \n",
       "0  https://thumbs4.properati.com/8/BluUYiHJLhgIIK...  \n",
       "1  https://thumbs4.properati.com/7/ikpVBu2ztHA7jv...  \n",
       "2  https://thumbs4.properati.com/5/SXKr34F_IwG3W_...  \n",
       "\n",
       "[3 rows x 26 columns]"
      ]
     },
     "metadata": {},
     "output_type": "display_data"
    }
   ],
   "source": [
    "#Establezco la dirección del archivo\n",
    "file_location='properatti.csv'\n",
    "\n",
    "#Leo el data set\n",
    "datos_crudos=pd.read_csv(file_location)\n",
    "\n",
    "#Visualizo las primeras filas\n",
    "display(datos_crudos.head(3))\n"
   ]
  },
  {
   "cell_type": "code",
   "execution_count": 5,
   "metadata": {},
   "outputs": [
    {
     "data": {
      "text/html": [
       "<div>\n",
       "<style scoped>\n",
       "    .dataframe tbody tr th:only-of-type {\n",
       "        vertical-align: middle;\n",
       "    }\n",
       "\n",
       "    .dataframe tbody tr th {\n",
       "        vertical-align: top;\n",
       "    }\n",
       "\n",
       "    .dataframe thead th {\n",
       "        text-align: right;\n",
       "    }\n",
       "</style>\n",
       "<table border=\"1\" class=\"dataframe\">\n",
       "  <thead>\n",
       "    <tr style=\"text-align: right;\">\n",
       "      <th></th>\n",
       "      <th>property_type</th>\n",
       "      <th>place_name</th>\n",
       "      <th>place_with_parent_names</th>\n",
       "      <th>state_name</th>\n",
       "      <th>geonames_id</th>\n",
       "      <th>lat-lon</th>\n",
       "      <th>lat</th>\n",
       "      <th>lon</th>\n",
       "      <th>price</th>\n",
       "      <th>currency</th>\n",
       "      <th>...</th>\n",
       "      <th>surface_covered_in_m2</th>\n",
       "      <th>price_usd_per_m2</th>\n",
       "      <th>price_per_m2</th>\n",
       "      <th>floor</th>\n",
       "      <th>rooms</th>\n",
       "      <th>expenses</th>\n",
       "      <th>properati_url</th>\n",
       "      <th>description</th>\n",
       "      <th>title</th>\n",
       "      <th>image_thumbnail</th>\n",
       "    </tr>\n",
       "  </thead>\n",
       "  <tbody>\n",
       "    <tr>\n",
       "      <th>0</th>\n",
       "      <td>PH</td>\n",
       "      <td>Mataderos</td>\n",
       "      <td>|Argentina|Capital Federal|Mataderos|</td>\n",
       "      <td>Capital Federal</td>\n",
       "      <td>3430787.0</td>\n",
       "      <td>-34.6618237,-58.5088387</td>\n",
       "      <td>-34.661824</td>\n",
       "      <td>-58.508839</td>\n",
       "      <td>62000.0</td>\n",
       "      <td>USD</td>\n",
       "      <td>...</td>\n",
       "      <td>40.0</td>\n",
       "      <td>1127.272727</td>\n",
       "      <td>1550.000000</td>\n",
       "      <td>NaN</td>\n",
       "      <td>NaN</td>\n",
       "      <td>NaN</td>\n",
       "      <td>http://www.properati.com.ar/15bo8_venta_ph_mat...</td>\n",
       "      <td>2 AMBIENTES TIPO CASA PLANTA BAJA POR PASILLO,...</td>\n",
       "      <td>2 AMB TIPO CASA SIN EXPENSAS EN PB</td>\n",
       "      <td>https://thumbs4.properati.com/8/BluUYiHJLhgIIK...</td>\n",
       "    </tr>\n",
       "    <tr>\n",
       "      <th>1</th>\n",
       "      <td>apartment</td>\n",
       "      <td>La Plata</td>\n",
       "      <td>|Argentina|Bs.As. G.B.A. Zona Sur|La Plata|</td>\n",
       "      <td>Bs.As. G.B.A. Zona Sur</td>\n",
       "      <td>3432039.0</td>\n",
       "      <td>-34.9038831,-57.9643295</td>\n",
       "      <td>-34.903883</td>\n",
       "      <td>-57.964330</td>\n",
       "      <td>150000.0</td>\n",
       "      <td>USD</td>\n",
       "      <td>...</td>\n",
       "      <td>NaN</td>\n",
       "      <td>NaN</td>\n",
       "      <td>NaN</td>\n",
       "      <td>NaN</td>\n",
       "      <td>NaN</td>\n",
       "      <td>NaN</td>\n",
       "      <td>http://www.properati.com.ar/15bob_venta_depart...</td>\n",
       "      <td>Venta de departamento en décimo piso al frente...</td>\n",
       "      <td>VENTA Depto 2 dorm. a estrenar 7 e/ 36 y 37   ...</td>\n",
       "      <td>https://thumbs4.properati.com/7/ikpVBu2ztHA7jv...</td>\n",
       "    </tr>\n",
       "    <tr>\n",
       "      <th>2</th>\n",
       "      <td>apartment</td>\n",
       "      <td>Mataderos</td>\n",
       "      <td>|Argentina|Capital Federal|Mataderos|</td>\n",
       "      <td>Capital Federal</td>\n",
       "      <td>3430787.0</td>\n",
       "      <td>-34.6522615,-58.5229825</td>\n",
       "      <td>-34.652262</td>\n",
       "      <td>-58.522982</td>\n",
       "      <td>72000.0</td>\n",
       "      <td>USD</td>\n",
       "      <td>...</td>\n",
       "      <td>55.0</td>\n",
       "      <td>1309.090909</td>\n",
       "      <td>1309.090909</td>\n",
       "      <td>NaN</td>\n",
       "      <td>NaN</td>\n",
       "      <td>NaN</td>\n",
       "      <td>http://www.properati.com.ar/15bod_venta_depart...</td>\n",
       "      <td>2 AMBIENTES 3ER PISO LATERAL LIVING COMEDOR AM...</td>\n",
       "      <td>2 AMB 3ER PISO CON ASCENSOR APTO CREDITO</td>\n",
       "      <td>https://thumbs4.properati.com/5/SXKr34F_IwG3W_...</td>\n",
       "    </tr>\n",
       "  </tbody>\n",
       "</table>\n",
       "<p>3 rows × 23 columns</p>\n",
       "</div>"
      ],
      "text/plain": [
       "  property_type place_name                      place_with_parent_names  \\\n",
       "0            PH  Mataderos        |Argentina|Capital Federal|Mataderos|   \n",
       "1     apartment   La Plata  |Argentina|Bs.As. G.B.A. Zona Sur|La Plata|   \n",
       "2     apartment  Mataderos        |Argentina|Capital Federal|Mataderos|   \n",
       "\n",
       "               state_name  geonames_id                  lat-lon        lat  \\\n",
       "0         Capital Federal    3430787.0  -34.6618237,-58.5088387 -34.661824   \n",
       "1  Bs.As. G.B.A. Zona Sur    3432039.0  -34.9038831,-57.9643295 -34.903883   \n",
       "2         Capital Federal    3430787.0  -34.6522615,-58.5229825 -34.652262   \n",
       "\n",
       "         lon     price currency  ...  surface_covered_in_m2  price_usd_per_m2  \\\n",
       "0 -58.508839   62000.0      USD  ...                   40.0       1127.272727   \n",
       "1 -57.964330  150000.0      USD  ...                    NaN               NaN   \n",
       "2 -58.522982   72000.0      USD  ...                   55.0       1309.090909   \n",
       "\n",
       "   price_per_m2  floor  rooms  expenses  \\\n",
       "0   1550.000000    NaN    NaN       NaN   \n",
       "1           NaN    NaN    NaN       NaN   \n",
       "2   1309.090909    NaN    NaN       NaN   \n",
       "\n",
       "                                       properati_url  \\\n",
       "0  http://www.properati.com.ar/15bo8_venta_ph_mat...   \n",
       "1  http://www.properati.com.ar/15bob_venta_depart...   \n",
       "2  http://www.properati.com.ar/15bod_venta_depart...   \n",
       "\n",
       "                                         description  \\\n",
       "0  2 AMBIENTES TIPO CASA PLANTA BAJA POR PASILLO,...   \n",
       "1  Venta de departamento en décimo piso al frente...   \n",
       "2  2 AMBIENTES 3ER PISO LATERAL LIVING COMEDOR AM...   \n",
       "\n",
       "                                               title  \\\n",
       "0                 2 AMB TIPO CASA SIN EXPENSAS EN PB   \n",
       "1  VENTA Depto 2 dorm. a estrenar 7 e/ 36 y 37   ...   \n",
       "2           2 AMB 3ER PISO CON ASCENSOR APTO CREDITO   \n",
       "\n",
       "                                     image_thumbnail  \n",
       "0  https://thumbs4.properati.com/8/BluUYiHJLhgIIK...  \n",
       "1  https://thumbs4.properati.com/7/ikpVBu2ztHA7jv...  \n",
       "2  https://thumbs4.properati.com/5/SXKr34F_IwG3W_...  \n",
       "\n",
       "[3 rows x 23 columns]"
      ]
     },
     "execution_count": 5,
     "metadata": {},
     "output_type": "execute_result"
    }
   ],
   "source": [
    "#primero hacemos drop de las columnas operation y country_name\n",
    "datos= datos_crudos.drop(['Unnamed: 0','operation','country_name'], axis=1)\n",
    "\n",
    "datos.head(3)"
   ]
  },
  {
   "cell_type": "code",
   "execution_count": 6,
   "metadata": {},
   "outputs": [
    {
     "data": {
      "text/plain": [
       "Index(['property_type', 'place_name', 'place_with_parent_names', 'state_name',\n",
       "       'geonames_id', 'lat-lon', 'lat', 'lon', 'price', 'currency',\n",
       "       'price_aprox_local_currency', 'price_aprox_usd', 'surface_total_in_m2',\n",
       "       'surface_covered_in_m2', 'price_usd_per_m2', 'price_per_m2', 'floor',\n",
       "       'rooms', 'expenses', 'properati_url', 'description', 'title',\n",
       "       'image_thumbnail'],\n",
       "      dtype='object')"
      ]
     },
     "execution_count": 6,
     "metadata": {},
     "output_type": "execute_result"
    }
   ],
   "source": [
    "datos.columns"
   ]
  },
  {
   "cell_type": "code",
   "execution_count": 7,
   "metadata": {},
   "outputs": [
    {
     "name": "stdout",
     "output_type": "stream",
     "text": [
      "       property_type       place_name  \\\n",
      "0                 PH        Mataderos   \n",
      "1          apartment         La Plata   \n",
      "2          apartment        Mataderos   \n",
      "3                 PH          Liniers   \n",
      "4          apartment           Centro   \n",
      "...              ...              ...   \n",
      "121215     apartment         Belgrano   \n",
      "121216         house           Beccar   \n",
      "121217     apartment    Villa Urquiza   \n",
      "121218     apartment      Plaza Colón   \n",
      "121219     apartment  Capital Federal   \n",
      "\n",
      "                                  place_with_parent_names  \\\n",
      "0                   |Argentina|Capital Federal|Mataderos|   \n",
      "1             |Argentina|Bs.As. G.B.A. Zona Sur|La Plata|   \n",
      "2                   |Argentina|Capital Federal|Mataderos|   \n",
      "3                     |Argentina|Capital Federal|Liniers|   \n",
      "4       |Argentina|Buenos Aires Costa Atlántica|Mar de...   \n",
      "...                                                   ...   \n",
      "121215               |Argentina|Capital Federal|Belgrano|   \n",
      "121216  |Argentina|Bs.As. G.B.A. Zona Norte|San Isidro...   \n",
      "121217          |Argentina|Capital Federal|Villa Urquiza|   \n",
      "121218  |Argentina|Buenos Aires Costa Atlántica|Mar de...   \n",
      "121219                        |Argentina|Capital Federal|   \n",
      "\n",
      "                          state_name  geonames_id  \\\n",
      "0                    Capital Federal    3430787.0   \n",
      "1             Bs.As. G.B.A. Zona Sur    3432039.0   \n",
      "2                    Capital Federal    3430787.0   \n",
      "3                    Capital Federal    3431333.0   \n",
      "4       Buenos Aires Costa Atlántica    3435548.0   \n",
      "...                              ...          ...   \n",
      "121215               Capital Federal    3436077.0   \n",
      "121216      Bs.As. G.B.A. Zona Norte    3436080.0   \n",
      "121217               Capital Federal    3433775.0   \n",
      "121218  Buenos Aires Costa Atlántica          NaN   \n",
      "121219               Capital Federal    3433955.0   \n",
      "\n",
      "                              lat-lon        lat        lon     price  \\\n",
      "0             -34.6618237,-58.5088387 -34.661824 -58.508839   62000.0   \n",
      "1             -34.9038831,-57.9643295 -34.903883 -57.964330  150000.0   \n",
      "2             -34.6522615,-58.5229825 -34.652262 -58.522982   72000.0   \n",
      "3             -34.6477969,-58.5164244 -34.647797 -58.516424   95000.0   \n",
      "4             -38.0026256,-57.5494468 -38.002626 -57.549447   64000.0   \n",
      "...                               ...        ...        ...       ...   \n",
      "121215                            NaN        NaN        NaN  870000.0   \n",
      "121216                            NaN        NaN        NaN  498000.0   \n",
      "121217  -34.5706388726,-58.4755963355 -34.570639 -58.475596  131500.0   \n",
      "121218                            NaN        NaN        NaN   95900.0   \n",
      "121219                            NaN        NaN        NaN  129000.0   \n",
      "\n",
      "       currency  ...  surface_covered_in_m2  price_usd_per_m2  price_per_m2  \\\n",
      "0           USD  ...                   40.0       1127.272727   1550.000000   \n",
      "1           USD  ...                    NaN               NaN           NaN   \n",
      "2           USD  ...                   55.0       1309.090909   1309.090909   \n",
      "3           USD  ...                    NaN               NaN           NaN   \n",
      "4           USD  ...                   35.0       1828.571429   1828.571429   \n",
      "...         ...  ...                    ...               ...           ...   \n",
      "121215      USD  ...                   93.0       7699.115044   9354.838710   \n",
      "121216      USD  ...                  360.0       1383.333333   1383.333333   \n",
      "121217      USD  ...                   39.0       2858.695652   3371.794872   \n",
      "121218      USD  ...                   48.0       1997.916667   1997.916667   \n",
      "121219      USD  ...                   77.0       1675.324675   1675.324675   \n",
      "\n",
      "        floor  rooms  expenses  \\\n",
      "0         NaN    NaN       NaN   \n",
      "1         NaN    NaN       NaN   \n",
      "2         NaN    NaN       NaN   \n",
      "3         NaN    NaN       NaN   \n",
      "4         NaN    NaN       NaN   \n",
      "...       ...    ...       ...   \n",
      "121215    NaN    NaN   10000.0   \n",
      "121216    NaN    NaN       NaN   \n",
      "121217    NaN    NaN       NaN   \n",
      "121218    NaN    NaN       NaN   \n",
      "121219    NaN    NaN    3500.0   \n",
      "\n",
      "                                            properati_url  \\\n",
      "0       http://www.properati.com.ar/15bo8_venta_ph_mat...   \n",
      "1       http://www.properati.com.ar/15bob_venta_depart...   \n",
      "2       http://www.properati.com.ar/15bod_venta_depart...   \n",
      "3       http://www.properati.com.ar/15boh_venta_ph_lin...   \n",
      "4       http://www.properati.com.ar/15bok_venta_depart...   \n",
      "...                                                   ...   \n",
      "121215  http://www.properati.com.ar/1cja2_venta_depart...   \n",
      "121216  http://www.properati.com.ar/1cja6_venta_casa_b...   \n",
      "121217  http://www.properati.com.ar/1cja7_venta_depart...   \n",
      "121218  http://www.properati.com.ar/1cja8_venta_depart...   \n",
      "121219  http://www.properati.com.ar/1cjaa_venta_depart...   \n",
      "\n",
      "                                              description  \\\n",
      "0       2 AMBIENTES TIPO CASA PLANTA BAJA POR PASILLO,...   \n",
      "1       Venta de departamento en décimo piso al frente...   \n",
      "2       2 AMBIENTES 3ER PISO LATERAL LIVING COMEDOR AM...   \n",
      "3       PH 3 ambientes con patio. Hay 3 deptos en lote...   \n",
      "4       DEPARTAMENTO CON FANTÁSTICA ILUMINACIÓN NATURA...   \n",
      "...                                                   ...   \n",
      "121215  TORRE FORUM ALCORTA - MÁXIMA CATEGORÍA.Impecab...   \n",
      "121216  Excelente e impecable casa en Venta en Las Lom...   \n",
      "121217  VENTA DEPARTAMENTO AMBIENTE DIVISIBLE A ESTREN...   \n",
      "121218  2 Amb al contrafrente,  luminoso. El departame...   \n",
      "121219  Departamento de 77 m2 apto profesional. Edific...   \n",
      "\n",
      "                                                    title  \\\n",
      "0                      2 AMB TIPO CASA SIN EXPENSAS EN PB   \n",
      "1       VENTA Depto 2 dorm. a estrenar 7 e/ 36 y 37   ...   \n",
      "2                2 AMB 3ER PISO CON ASCENSOR APTO CREDITO   \n",
      "3                            PH 3 amb. cfte. reciclado      \n",
      "4       DEPTO 2 AMB AL CONTRAFRENTE ZONA CENTRO/PLAZA ...   \n",
      "...                                                   ...   \n",
      "121215         Torre Forum Alcorta- Impecable 3 ambientes   \n",
      "121216  Ruca Inmuebles | Venta | Lomas de San Isidro |...   \n",
      "121217  VENTA DEPARTAMENTO AMBIENTE DIVISIBLE A ESTREN...   \n",
      "121218  2 amb. C/ dep. de servicio al contrafrente| Re...   \n",
      "121219         Departamento apto profesional en el Centro   \n",
      "\n",
      "                                          image_thumbnail  \n",
      "0       https://thumbs4.properati.com/8/BluUYiHJLhgIIK...  \n",
      "1       https://thumbs4.properati.com/7/ikpVBu2ztHA7jv...  \n",
      "2       https://thumbs4.properati.com/5/SXKr34F_IwG3W_...  \n",
      "3       https://thumbs4.properati.com/3/DgIfX-85Mog5SP...  \n",
      "4       https://thumbs4.properati.com/5/xrRqlNcSI_vs-f...  \n",
      "...                                                   ...  \n",
      "121215  https://thumbs4.properati.com/1/bjms0KnaAnlNoQ...  \n",
      "121216  https://thumbs4.properati.com/2/PCc3WuQDjpNZc4...  \n",
      "121217  https://thumbs4.properati.com/9/YAe_-2gRVykADP...  \n",
      "121218  https://thumbs4.properati.com/8/Q12PTvU6BQJ0ib...  \n",
      "121219  https://thumbs4.properati.com/8/mNEsnQWqB7joBF...  \n",
      "\n",
      "[121220 rows x 23 columns]\n"
     ]
    }
   ],
   "source": [
    "print(datos)"
   ]
  },
  {
   "cell_type": "code",
   "execution_count": 8,
   "metadata": {},
   "outputs": [
    {
     "data": {
      "text/plain": [
       "property_type                      0\n",
       "place_name                        23\n",
       "place_with_parent_names            0\n",
       "state_name                         0\n",
       "geonames_id                    18717\n",
       "lat-lon                        51550\n",
       "lat                            51550\n",
       "lon                            51550\n",
       "price                          20410\n",
       "currency                       20411\n",
       "price_aprox_local_currency     20410\n",
       "price_aprox_usd                20410\n",
       "surface_total_in_m2            39328\n",
       "surface_covered_in_m2          19907\n",
       "price_usd_per_m2               52603\n",
       "price_per_m2                   33562\n",
       "floor                         113321\n",
       "rooms                          73830\n",
       "expenses                      106958\n",
       "properati_url                      0\n",
       "description                        2\n",
       "title                              0\n",
       "image_thumbnail                 3112\n",
       "dtype: int64"
      ]
     },
     "execution_count": 8,
     "metadata": {},
     "output_type": "execute_result"
    }
   ],
   "source": [
    "datos.isna().sum()"
   ]
  },
  {
   "cell_type": "code",
   "execution_count": 12,
   "metadata": {},
   "outputs": [
    {
     "data": {
      "text/plain": [
       "20410"
      ]
     },
     "execution_count": 12,
     "metadata": {},
     "output_type": "execute_result"
    }
   ],
   "source": [
    "#cantidad de nulos en precio\n",
    "datos.price.isnull().sum()"
   ]
  },
  {
   "cell_type": "code",
   "execution_count": 21,
   "metadata": {},
   "outputs": [
    {
     "data": {
      "text/plain": [
       "16.837155584886982"
      ]
     },
     "execution_count": 21,
     "metadata": {},
     "output_type": "execute_result"
    }
   ],
   "source": [
    "#porcentaje de nulos en precio\n",
    "100*datos.price.isnull().sum()/datos.price.shape[0]"
   ]
  },
  {
   "cell_type": "code",
   "execution_count": 20,
   "metadata": {},
   "outputs": [
    {
     "data": {
      "text/plain": [
       "16.837155584886982"
      ]
     },
     "execution_count": 20,
     "metadata": {},
     "output_type": "execute_result"
    }
   ],
   "source": [
    "#porcentaje de nulos en precio aproximado\n",
    "100*datos.price_aprox_usd.isnull().sum()/datos.price_aprox_usd.shape[0]"
   ]
  },
  {
   "cell_type": "code",
   "execution_count": 22,
   "metadata": {},
   "outputs": [
    {
     "data": {
      "text/plain": [
       "32.44349117307375"
      ]
     },
     "execution_count": 22,
     "metadata": {},
     "output_type": "execute_result"
    }
   ],
   "source": [
    "#porcentaje de nulos en superficie total m2\n",
    "100*datos.surface_total_in_m2.isnull().sum()/datos.surface_total_in_m2.shape[0]"
   ]
  },
  {
   "cell_type": "code",
   "execution_count": 17,
   "metadata": {},
   "outputs": [
    {
     "data": {
      "text/plain": [
       "43.394654347467416"
      ]
     },
     "execution_count": 17,
     "metadata": {},
     "output_type": "execute_result"
    }
   ],
   "source": [
    "#porcentaje nulos de precio por metro cuadrado\n",
    "100*datos.price_usd_per_m2.isnull().sum()/datos.price.shape[0]"
   ]
  },
  {
   "cell_type": "code",
   "execution_count": 30,
   "metadata": {},
   "outputs": [
    {
     "data": {
      "text/plain": [
       "0.43394654347467415"
      ]
     },
     "execution_count": 30,
     "metadata": {},
     "output_type": "execute_result"
    }
   ],
   "source": [
    "precio_m2_imputado=datos.apply(lambda x: x['price']/x['surface_total_in_m2']  if x['price_usd_per_m2'] is np.NAN else x['price_usd_per_m2'], axis=1)\n",
    "\n",
    "#precio_m2 = data.apply(lambda x: x['price_usd_per_m2'] if x['Landsize'] == 0 else x['Price'] / x['Landsize'], axis=1)\n",
    "\n",
    "#data['Precio_m2']=data.apply(lambda x: np.NaN if ((x['Landsize']  is np.NaN) | (x['Landsize']==0)) else x['Price']/x['Landsize'], axis=1)\n",
    "\n",
    "precio_m2_imputado.isnull().sum()/precio_m2_imputado.shape[0]"
   ]
  },
  {
   "cell_type": "code",
   "execution_count": null,
   "metadata": {},
   "outputs": [],
   "source": [
    "#Damos de bajo el currency\n",
    "datos.currency.value_counts()\n",
    "\n",
    "valor_de_cambio=datos.price_aprox_local_currency/datos.price_aprox_usd\n",
    "\n",
    "serie_cambio=valor_de_cambio.value_counts()\n",
    "\n",
    "print(serie_cambio)\n",
    "\n",
    "mascara_cambio=serie_cambio==17.6445\n",
    "\n",
    "print(serie_cambio.shape[0])\n",
    "\n",
    "print(mascara_cambio.shape[0])"
   ]
  }
 ],
 "metadata": {
  "kernelspec": {
   "display_name": "Python 3.8.13 ('dhdsblend2021')",
   "language": "python",
   "name": "python3"
  },
  "language_info": {
   "codemirror_mode": {
    "name": "ipython",
    "version": 3
   },
   "file_extension": ".py",
   "mimetype": "text/x-python",
   "name": "python",
   "nbconvert_exporter": "python",
   "pygments_lexer": "ipython3",
   "version": "3.8.13"
  },
  "orig_nbformat": 4,
  "vscode": {
   "interpreter": {
    "hash": "b43af2114f43bcf982d0b53b081e4c6c708721cc588721c6f40c2d9852c4cd7b"
   }
  }
 },
 "nbformat": 4,
 "nbformat_minor": 2
}
